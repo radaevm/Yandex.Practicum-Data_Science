{
 "cells": [
  {
   "cell_type": "markdown",
   "metadata": {},
   "source": [
    "# Проект \"Выбор локации для скважины\""
   ]
  },
  {
   "cell_type": "markdown",
   "metadata": {},
   "source": [
    "# Введение"
   ]
  },
  {
   "cell_type": "markdown",
   "metadata": {},
   "source": [
    "Допустим, вы работаете в добывающей компании «ГлавРосГосНефть». Нужно решить, где бурить новую скважину.\n",
    "\n",
    "Вам предоставлены пробы нефти в трёх регионах: в каждом 10 000 месторождений, где измерили качество нефти и объём её запасов. Постройте модель машинного обучения, которая поможет определить регион, где добыча принесёт наибольшую прибыль. Проанализируйте возможную прибыль и риски техникой *Bootstrap.*\n",
    "\n",
    "Шаги для выбора локации:\n",
    "\n",
    "- В избранном регионе ищут месторождения, для каждого определяют значения признаков;\n",
    "- Строят модель и оценивают объём запасов;\n",
    "- Выбирают месторождения с самым высокими оценками значений. Количество месторождений зависит от бюджета компании и стоимости разработки одной скважины;\n",
    "- Прибыль равна суммарной прибыли отобранных месторождений."
   ]
  },
  {
   "cell_type": "markdown",
   "metadata": {},
   "source": [
    "# Описание данных\n",
    "\n",
    "- id — уникальный идентификатор скважины;\n",
    "- f0, f1, f2 — три значимых признака точек;\n",
    "- product — объём запасов в скважине (тыс. баррелей)."
   ]
  },
  {
   "cell_type": "markdown",
   "metadata": {},
   "source": [
    "# Условия задачи\n",
    "\n",
    "- Для обучения модели подходит только линейная регрессия (остальные — недостаточно предсказуемые).\n",
    "- При разведке региона исследуют 500 точек, из которых с помощью машинного обучения выбирают 200 лучших для разработки.\n",
    "- Бюджет на разработку скважин в регионе — 10 млрд рублей.\n",
    "- При нынешних ценах один баррель сырья приносит 450 рублей дохода. Доход с каждой единицы продукта составляет 450 тыс. рублей, поскольку объём указан в тысячах баррелей.\n",
    "- После оценки рисков нужно оставить лишь те регионы, в которых вероятность убытков меньше 2.5%. Среди них выбирают регион с наибольшей средней прибылью."
   ]
  },
  {
   "cell_type": "markdown",
   "metadata": {},
   "source": [
    "## Загрузка и подготовка данных"
   ]
  },
  {
   "cell_type": "code",
   "execution_count": 2,
   "metadata": {},
   "outputs": [],
   "source": [
    "import pandas as pd\n",
    "import numpy as np\n",
    "from sklearn.linear_model import LinearRegression\n",
    "from sklearn.model_selection import train_test_split\n",
    "from sklearn.metrics import mean_squared_error"
   ]
  },
  {
   "cell_type": "code",
   "execution_count": 3,
   "metadata": {},
   "outputs": [
    {
     "data": {
      "text/html": [
       "<div>\n",
       "<style scoped>\n",
       "    .dataframe tbody tr th:only-of-type {\n",
       "        vertical-align: middle;\n",
       "    }\n",
       "\n",
       "    .dataframe tbody tr th {\n",
       "        vertical-align: top;\n",
       "    }\n",
       "\n",
       "    .dataframe thead th {\n",
       "        text-align: right;\n",
       "    }\n",
       "</style>\n",
       "<table border=\"1\" class=\"dataframe\">\n",
       "  <thead>\n",
       "    <tr style=\"text-align: right;\">\n",
       "      <th></th>\n",
       "      <th>id</th>\n",
       "      <th>f0</th>\n",
       "      <th>f1</th>\n",
       "      <th>f2</th>\n",
       "      <th>product</th>\n",
       "    </tr>\n",
       "  </thead>\n",
       "  <tbody>\n",
       "    <tr>\n",
       "      <td>0</td>\n",
       "      <td>txEyH</td>\n",
       "      <td>0.705745</td>\n",
       "      <td>-0.497823</td>\n",
       "      <td>1.221170</td>\n",
       "      <td>105.280062</td>\n",
       "    </tr>\n",
       "    <tr>\n",
       "      <td>1</td>\n",
       "      <td>2acmU</td>\n",
       "      <td>1.334711</td>\n",
       "      <td>-0.340164</td>\n",
       "      <td>4.365080</td>\n",
       "      <td>73.037750</td>\n",
       "    </tr>\n",
       "    <tr>\n",
       "      <td>2</td>\n",
       "      <td>409Wp</td>\n",
       "      <td>1.022732</td>\n",
       "      <td>0.151990</td>\n",
       "      <td>1.419926</td>\n",
       "      <td>85.265647</td>\n",
       "    </tr>\n",
       "    <tr>\n",
       "      <td>3</td>\n",
       "      <td>iJLyR</td>\n",
       "      <td>-0.032172</td>\n",
       "      <td>0.139033</td>\n",
       "      <td>2.978566</td>\n",
       "      <td>168.620776</td>\n",
       "    </tr>\n",
       "    <tr>\n",
       "      <td>4</td>\n",
       "      <td>Xdl7t</td>\n",
       "      <td>1.988431</td>\n",
       "      <td>0.155413</td>\n",
       "      <td>4.751769</td>\n",
       "      <td>154.036647</td>\n",
       "    </tr>\n",
       "  </tbody>\n",
       "</table>\n",
       "</div>"
      ],
      "text/plain": [
       "      id        f0        f1        f2     product\n",
       "0  txEyH  0.705745 -0.497823  1.221170  105.280062\n",
       "1  2acmU  1.334711 -0.340164  4.365080   73.037750\n",
       "2  409Wp  1.022732  0.151990  1.419926   85.265647\n",
       "3  iJLyR -0.032172  0.139033  2.978566  168.620776\n",
       "4  Xdl7t  1.988431  0.155413  4.751769  154.036647"
      ]
     },
     "metadata": {},
     "output_type": "display_data"
    },
    {
     "name": "stdout",
     "output_type": "stream",
     "text": [
      "<class 'pandas.core.frame.DataFrame'>\n",
      "RangeIndex: 100000 entries, 0 to 99999\n",
      "Data columns (total 5 columns):\n",
      "id         100000 non-null object\n",
      "f0         100000 non-null float64\n",
      "f1         100000 non-null float64\n",
      "f2         100000 non-null float64\n",
      "product    100000 non-null float64\n",
      "dtypes: float64(4), object(1)\n",
      "memory usage: 3.8+ MB\n"
     ]
    },
    {
     "data": {
      "text/plain": [
       "None"
      ]
     },
     "metadata": {},
     "output_type": "display_data"
    }
   ],
   "source": [
    "df0 = pd.read_csv('/datasets/geo_data_0.csv')\n",
    "display(df0.head())\n",
    "display(df0.info())"
   ]
  },
  {
   "cell_type": "code",
   "execution_count": 4,
   "metadata": {},
   "outputs": [
    {
     "data": {
      "text/html": [
       "<div>\n",
       "<style scoped>\n",
       "    .dataframe tbody tr th:only-of-type {\n",
       "        vertical-align: middle;\n",
       "    }\n",
       "\n",
       "    .dataframe tbody tr th {\n",
       "        vertical-align: top;\n",
       "    }\n",
       "\n",
       "    .dataframe thead th {\n",
       "        text-align: right;\n",
       "    }\n",
       "</style>\n",
       "<table border=\"1\" class=\"dataframe\">\n",
       "  <thead>\n",
       "    <tr style=\"text-align: right;\">\n",
       "      <th></th>\n",
       "      <th>id</th>\n",
       "      <th>f0</th>\n",
       "      <th>f1</th>\n",
       "      <th>f2</th>\n",
       "      <th>product</th>\n",
       "    </tr>\n",
       "  </thead>\n",
       "  <tbody>\n",
       "    <tr>\n",
       "      <td>0</td>\n",
       "      <td>kBEdx</td>\n",
       "      <td>-15.001348</td>\n",
       "      <td>-8.276000</td>\n",
       "      <td>-0.005876</td>\n",
       "      <td>3.179103</td>\n",
       "    </tr>\n",
       "    <tr>\n",
       "      <td>1</td>\n",
       "      <td>62mP7</td>\n",
       "      <td>14.272088</td>\n",
       "      <td>-3.475083</td>\n",
       "      <td>0.999183</td>\n",
       "      <td>26.953261</td>\n",
       "    </tr>\n",
       "    <tr>\n",
       "      <td>2</td>\n",
       "      <td>vyE1P</td>\n",
       "      <td>6.263187</td>\n",
       "      <td>-5.948386</td>\n",
       "      <td>5.001160</td>\n",
       "      <td>134.766305</td>\n",
       "    </tr>\n",
       "    <tr>\n",
       "      <td>3</td>\n",
       "      <td>KcrkZ</td>\n",
       "      <td>-13.081196</td>\n",
       "      <td>-11.506057</td>\n",
       "      <td>4.999415</td>\n",
       "      <td>137.945408</td>\n",
       "    </tr>\n",
       "    <tr>\n",
       "      <td>4</td>\n",
       "      <td>AHL4O</td>\n",
       "      <td>12.702195</td>\n",
       "      <td>-8.147433</td>\n",
       "      <td>5.004363</td>\n",
       "      <td>134.766305</td>\n",
       "    </tr>\n",
       "  </tbody>\n",
       "</table>\n",
       "</div>"
      ],
      "text/plain": [
       "      id         f0         f1        f2     product\n",
       "0  kBEdx -15.001348  -8.276000 -0.005876    3.179103\n",
       "1  62mP7  14.272088  -3.475083  0.999183   26.953261\n",
       "2  vyE1P   6.263187  -5.948386  5.001160  134.766305\n",
       "3  KcrkZ -13.081196 -11.506057  4.999415  137.945408\n",
       "4  AHL4O  12.702195  -8.147433  5.004363  134.766305"
      ]
     },
     "metadata": {},
     "output_type": "display_data"
    },
    {
     "name": "stdout",
     "output_type": "stream",
     "text": [
      "<class 'pandas.core.frame.DataFrame'>\n",
      "RangeIndex: 100000 entries, 0 to 99999\n",
      "Data columns (total 5 columns):\n",
      "id         100000 non-null object\n",
      "f0         100000 non-null float64\n",
      "f1         100000 non-null float64\n",
      "f2         100000 non-null float64\n",
      "product    100000 non-null float64\n",
      "dtypes: float64(4), object(1)\n",
      "memory usage: 3.8+ MB\n"
     ]
    },
    {
     "data": {
      "text/plain": [
       "None"
      ]
     },
     "metadata": {},
     "output_type": "display_data"
    }
   ],
   "source": [
    "df1 = pd.read_csv('/datasets/geo_data_1.csv')\n",
    "display(df1.head())\n",
    "display(df1.info())"
   ]
  },
  {
   "cell_type": "code",
   "execution_count": 5,
   "metadata": {},
   "outputs": [
    {
     "data": {
      "text/html": [
       "<div>\n",
       "<style scoped>\n",
       "    .dataframe tbody tr th:only-of-type {\n",
       "        vertical-align: middle;\n",
       "    }\n",
       "\n",
       "    .dataframe tbody tr th {\n",
       "        vertical-align: top;\n",
       "    }\n",
       "\n",
       "    .dataframe thead th {\n",
       "        text-align: right;\n",
       "    }\n",
       "</style>\n",
       "<table border=\"1\" class=\"dataframe\">\n",
       "  <thead>\n",
       "    <tr style=\"text-align: right;\">\n",
       "      <th></th>\n",
       "      <th>id</th>\n",
       "      <th>f0</th>\n",
       "      <th>f1</th>\n",
       "      <th>f2</th>\n",
       "      <th>product</th>\n",
       "    </tr>\n",
       "  </thead>\n",
       "  <tbody>\n",
       "    <tr>\n",
       "      <td>0</td>\n",
       "      <td>fwXo0</td>\n",
       "      <td>-1.146987</td>\n",
       "      <td>0.963328</td>\n",
       "      <td>-0.828965</td>\n",
       "      <td>27.758673</td>\n",
       "    </tr>\n",
       "    <tr>\n",
       "      <td>1</td>\n",
       "      <td>WJtFt</td>\n",
       "      <td>0.262778</td>\n",
       "      <td>0.269839</td>\n",
       "      <td>-2.530187</td>\n",
       "      <td>56.069697</td>\n",
       "    </tr>\n",
       "    <tr>\n",
       "      <td>2</td>\n",
       "      <td>ovLUW</td>\n",
       "      <td>0.194587</td>\n",
       "      <td>0.289035</td>\n",
       "      <td>-5.586433</td>\n",
       "      <td>62.871910</td>\n",
       "    </tr>\n",
       "    <tr>\n",
       "      <td>3</td>\n",
       "      <td>q6cA6</td>\n",
       "      <td>2.236060</td>\n",
       "      <td>-0.553760</td>\n",
       "      <td>0.930038</td>\n",
       "      <td>114.572842</td>\n",
       "    </tr>\n",
       "    <tr>\n",
       "      <td>4</td>\n",
       "      <td>WPMUX</td>\n",
       "      <td>-0.515993</td>\n",
       "      <td>1.716266</td>\n",
       "      <td>5.899011</td>\n",
       "      <td>149.600746</td>\n",
       "    </tr>\n",
       "  </tbody>\n",
       "</table>\n",
       "</div>"
      ],
      "text/plain": [
       "      id        f0        f1        f2     product\n",
       "0  fwXo0 -1.146987  0.963328 -0.828965   27.758673\n",
       "1  WJtFt  0.262778  0.269839 -2.530187   56.069697\n",
       "2  ovLUW  0.194587  0.289035 -5.586433   62.871910\n",
       "3  q6cA6  2.236060 -0.553760  0.930038  114.572842\n",
       "4  WPMUX -0.515993  1.716266  5.899011  149.600746"
      ]
     },
     "metadata": {},
     "output_type": "display_data"
    },
    {
     "name": "stdout",
     "output_type": "stream",
     "text": [
      "<class 'pandas.core.frame.DataFrame'>\n",
      "RangeIndex: 100000 entries, 0 to 99999\n",
      "Data columns (total 5 columns):\n",
      "id         100000 non-null object\n",
      "f0         100000 non-null float64\n",
      "f1         100000 non-null float64\n",
      "f2         100000 non-null float64\n",
      "product    100000 non-null float64\n",
      "dtypes: float64(4), object(1)\n",
      "memory usage: 3.8+ MB\n"
     ]
    },
    {
     "data": {
      "text/plain": [
       "None"
      ]
     },
     "metadata": {},
     "output_type": "display_data"
    }
   ],
   "source": [
    "df2 = pd.read_csv('/datasets/geo_data_2.csv')\n",
    "display(df2.head())\n",
    "display(df2.info())"
   ]
  },
  {
   "cell_type": "markdown",
   "metadata": {},
   "source": [
    "Удалим столбец **id**, поскольку линейная регрессия работает только c числовыми данными int и float. На модели это не скажется, поскольку данная графа не содержит ни количественные, ни категориальные переменные"
   ]
  },
  {
   "cell_type": "code",
   "execution_count": 6,
   "metadata": {},
   "outputs": [],
   "source": [
    "df0 = df0.drop(['id'], axis=1)\n",
    "df1 = df1.drop(['id'], axis=1)\n",
    "df2 = df2.drop(['id'], axis=1)"
   ]
  },
  {
   "cell_type": "markdown",
   "metadata": {},
   "source": [
    "## Обучение и проверка модели"
   ]
  },
  {
   "cell_type": "code",
   "execution_count": 7,
   "metadata": {},
   "outputs": [
    {
     "name": "stdout",
     "output_type": "stream",
     "text": [
      "RMSE модели линейной регрессии на валидационной выборке 0: 37.5794217150813\n"
     ]
    }
   ],
   "source": [
    "features_0 = df0.drop(['product'], axis=1)\n",
    "target_0 = df0['product']\n",
    "\n",
    "features_train_0, features_valid_0, target_train_0, target_valid_0 = train_test_split(\n",
    "    features_0, target_0, test_size=0.25, random_state=12345)\n",
    "\n",
    "model_0 = LinearRegression()\n",
    "model_0.fit(features_train_0, target_train_0)\n",
    "predictions_valid_0 = model_0.predict(features_valid_0)\n",
    "\n",
    "result_0 = mean_squared_error(target_valid_0, predictions_valid_0)**0.5 \n",
    "print(\"RMSE модели линейной регрессии на валидационной выборке 0:\", result_0)"
   ]
  },
  {
   "cell_type": "code",
   "execution_count": 8,
   "metadata": {},
   "outputs": [
    {
     "name": "stdout",
     "output_type": "stream",
     "text": [
      "RMSE модели линейной регрессии на валидационной выборке 1: 0.893099286775616\n"
     ]
    }
   ],
   "source": [
    "features_1 = df1.drop(['product'], axis=1)\n",
    "target_1 = df1['product']\n",
    "\n",
    "features_train_1, features_valid_1, target_train_1, target_valid_1 = train_test_split(\n",
    "    features_1, target_1, test_size=0.25, random_state=12345)\n",
    "\n",
    "model_1 = LinearRegression()\n",
    "model_1.fit(features_train_1, target_train_1)\n",
    "predictions_valid_1 = model_1.predict(features_valid_1)\n",
    "\n",
    "result_1 = mean_squared_error(target_valid_1, predictions_valid_1)**0.5 \n",
    "print(\"RMSE модели линейной регрессии на валидационной выборке 1:\", result_1)"
   ]
  },
  {
   "cell_type": "code",
   "execution_count": 9,
   "metadata": {},
   "outputs": [
    {
     "name": "stdout",
     "output_type": "stream",
     "text": [
      "RMSE модели линейной регрессии на валидационной выборке 2: 40.02970873393434\n"
     ]
    }
   ],
   "source": [
    "features_2 = df2.drop(['product'], axis=1)\n",
    "target_2 = df2['product']\n",
    "\n",
    "features_train_2, features_valid_2, target_train_2, target_valid_2 = train_test_split(\n",
    "    features_2, target_2, test_size=0.25, random_state=12345)\n",
    "\n",
    "model_2 = LinearRegression()\n",
    "model_2.fit(features_train_2, target_train_2)\n",
    "predictions_valid_2 = model_2.predict(features_valid_2)\n",
    "\n",
    "result_2 = mean_squared_error(target_valid_2, predictions_valid_2)**0.5 \n",
    "print(\"RMSE модели линейной регрессии на валидационной выборке 2:\", result_2)"
   ]
  },
  {
   "cell_type": "markdown",
   "metadata": {},
   "source": [
    "Лучший RMSE на валидационной выборке региона 1"
   ]
  },
  {
   "cell_type": "markdown",
   "metadata": {},
   "source": [
    "## Подготовка к расчёту прибыли"
   ]
  },
  {
   "cell_type": "markdown",
   "metadata": {},
   "source": [
    "Рассчитаем достаточный объём сырья для безубыточной разработки новой скважины. Сравним полученный объём сырья со средним запасом в каждом регионе."
   ]
  },
  {
   "cell_type": "code",
   "execution_count": 10,
   "metadata": {},
   "outputs": [
    {
     "data": {
      "text/plain": [
       "111.11111111111111"
      ]
     },
     "execution_count": 10,
     "metadata": {},
     "output_type": "execute_result"
    }
   ],
   "source": [
    "BUDGET = 10000000000\n",
    "INCOME_PER_UNIT = 450000\n",
    "COUNT=200\n",
    "\n",
    "budget_per_well = BUDGET / COUNT\n",
    "min_vol = budget_per_well / INCOME_PER_UNIT\n",
    "min_vol"
   ]
  },
  {
   "cell_type": "code",
   "execution_count": 11,
   "metadata": {},
   "outputs": [
    {
     "name": "stdout",
     "output_type": "stream",
     "text": [
      "Средний обьем в 0 регионе: 92.59256778438038\n",
      "Средний обьем в 1 регионе: 68.728546895446\n",
      "Средний обьем в 2 регионе: 94.96504596800489\n"
     ]
    }
   ],
   "source": [
    "print('Средний обьем в 0 регионе:', predictions_valid_0.mean())\n",
    "print('Средний обьем в 1 регионе:', predictions_valid_1.mean())\n",
    "print('Средний обьем в 2 регионе:', predictions_valid_2.mean())"
   ]
  },
  {
   "cell_type": "markdown",
   "metadata": {},
   "source": [
    "Средний объём сырья, достаточный для безубыточной разработки, превышает предсказанные средние запасы в каждом из регионов, в этой связи нет возможности выделить лучший регион для возможной разработки новых скважин. "
   ]
  },
  {
   "cell_type": "markdown",
   "metadata": {},
   "source": [
    "## Расчёт прибыли и рисков "
   ]
  },
  {
   "cell_type": "markdown",
   "metadata": {},
   "source": [
    "Напишем функцию для расчёта прибыли по выбранным скважинам и предсказаниям модели:\n",
    "- Выберем скважины с максимальными значениями предсказаний.\n",
    "- Сумммируем целевое значение объёма сырья, соответствующее этим предсказаниям.\n",
    "- Рассчитаем прибыль для полученного объёма сырья."
   ]
  },
  {
   "cell_type": "code",
   "execution_count": 15,
   "metadata": {},
   "outputs": [
    {
     "name": "stdout",
     "output_type": "stream",
     "text": [
      "Прибыль в регионе 0: -8238159977.365687\n",
      "Прибыль в регионе 1: -8698530691.175531\n",
      "Прибыль в регионе 2: -7870007760.737813\n"
     ]
    }
   ],
   "source": [
    "def profit(target, predict):\n",
    "    predict_sorted = pd.Series(predict).sort_values(ascending=False)\n",
    "    selected = target[predict_sorted.index][:COUNT]\n",
    "    prof = (selected.sum() * INCOME_PER_UNIT) - BUDGET\n",
    "    return(prof)\n",
    "print('Прибыль в регионе 0:', profit(target_valid_0, predictions_valid_0))\n",
    "print('Прибыль в регионе 1:', profit(target_valid_1, predictions_valid_1))\n",
    "print('Прибыль в регионе 2:', profit(target_valid_2, predictions_valid_2))"
   ]
  },
  {
   "cell_type": "markdown",
   "metadata": {},
   "source": [
    "Посчитаем риски и прибыль для каждого региона:\n",
    "- Применим технику **Bootstrap** с 1000 выборок, чтобы найти распределение прибыли.\n",
    "- Найем среднюю прибыль, 95%-й доверительный интервал и риск убытков. Риск убытков - это доля отрицательных ответов, укажем их в процентах."
   ]
  },
  {
   "cell_type": "code",
   "execution_count": 20,
   "metadata": {},
   "outputs": [
    {
     "name": "stdout",
     "output_type": "stream",
     "text": [
      "Cредняя прибыль, интервал и риск убытков в регионе 0: (408417421.9472264, -122256880.33374405, 989778917.6915294, 6.800000000000001)\n",
      "Cредняя прибыль, интервал и риск убытков в регионе 1: (504932744.04616815, 95193084.76780239, 916496786.6306496, 1.0)\n",
      "Cредняя прибыль, интервал и риск убытков в регионе 2: (418317134.1329915, -159796161.96567866, 947337201.5616112, 7.8)\n"
     ]
    }
   ],
   "source": [
    "def count_profit (target, predict):\n",
    "    state = np.random.RandomState(100)\n",
    "    values = []\n",
    "    for i in range(1000):\n",
    "        target_sample = pd.Series(target).reset_index(drop=True).sample(n=500, random_state=state,replace=True)\n",
    "        prob_sample = pd.Series(predict)[target_sample.index]\n",
    "        rev_sample = profit(target_sample, prob_sample)\n",
    "        values.append(rev_sample)\n",
    "    values = pd.Series(values)\n",
    "    lower = values.quantile(0.025)\n",
    "    upper = values.quantile(0.975)\n",
    "    count = 0\n",
    "    for i in range(len(values)):\n",
    "        if values[i] < 0:\n",
    "            count += 1\n",
    "    return values.mean(), lower, upper, (values < 0).mean()*100 #count/len(values)*100\n",
    "\n",
    "print('Cредняя прибыль, интервал и риск убытков в регионе 0:', count_profit(target_valid_0, predictions_valid_0))\n",
    "print('Cредняя прибыль, интервал и риск убытков в регионе 1:', count_profit(target_valid_1, predictions_valid_1))\n",
    "print('Cредняя прибыль, интервал и риск убытков в регионе 2:', count_profit(target_valid_2, predictions_valid_2))"
   ]
  },
  {
   "cell_type": "markdown",
   "metadata": {},
   "source": [
    "Вывод: Лучший регион для разработки скважин = Регион 1 (/datasets/geo_data_1.csv)"
   ]
  }
 ],
 "metadata": {
  "ExecuteTimeLog": [
   {
    "duration": 1016,
    "start_time": "2022-03-13T10:58:45.681Z"
   },
   {
    "duration": 159,
    "start_time": "2022-03-13T10:59:56.658Z"
   },
   {
    "duration": 125,
    "start_time": "2022-03-13T11:01:11.926Z"
   },
   {
    "duration": 122,
    "start_time": "2022-03-13T11:01:27.535Z"
   },
   {
    "duration": 125,
    "start_time": "2022-03-13T11:01:45.781Z"
   },
   {
    "duration": 3,
    "start_time": "2022-03-13T11:41:15.132Z"
   },
   {
    "duration": 543,
    "start_time": "2022-03-13T11:41:33.215Z"
   },
   {
    "duration": 493,
    "start_time": "2022-03-13T11:41:45.028Z"
   },
   {
    "duration": 364,
    "start_time": "2022-03-13T11:43:48.021Z"
   },
   {
    "duration": 414,
    "start_time": "2022-03-13T12:25:18.335Z"
   },
   {
    "duration": 34,
    "start_time": "2022-03-13T12:25:23.417Z"
   },
   {
    "duration": 36,
    "start_time": "2022-03-13T12:25:30.994Z"
   },
   {
    "duration": 38,
    "start_time": "2022-03-13T12:25:35.180Z"
   },
   {
    "duration": 933,
    "start_time": "2022-03-13T12:26:15.839Z"
   },
   {
    "duration": 53,
    "start_time": "2022-03-13T12:26:51.817Z"
   },
   {
    "duration": 52,
    "start_time": "2022-03-13T12:29:14.426Z"
   },
   {
    "duration": 60,
    "start_time": "2022-03-13T12:29:18.499Z"
   },
   {
    "duration": 10,
    "start_time": "2022-03-13T12:30:56.692Z"
   },
   {
    "duration": 305,
    "start_time": "2022-03-13T12:39:47.767Z"
   },
   {
    "duration": 11,
    "start_time": "2022-03-13T12:40:12.376Z"
   },
   {
    "duration": 24,
    "start_time": "2022-03-13T12:47:11.413Z"
   },
   {
    "duration": 30,
    "start_time": "2022-03-13T12:48:06.391Z"
   },
   {
    "duration": 27,
    "start_time": "2022-03-13T12:49:10.493Z"
   },
   {
    "duration": 473,
    "start_time": "2022-03-13T12:49:24.682Z"
   },
   {
    "duration": 20,
    "start_time": "2022-03-13T12:49:31.678Z"
   },
   {
    "duration": 6,
    "start_time": "2022-03-13T13:42:59.320Z"
   },
   {
    "duration": 4,
    "start_time": "2022-03-13T13:59:51.681Z"
   },
   {
    "duration": 4,
    "start_time": "2022-03-13T13:59:57.934Z"
   },
   {
    "duration": 6,
    "start_time": "2022-03-13T14:01:46.072Z"
   },
   {
    "duration": 327,
    "start_time": "2022-03-13T14:03:07.735Z"
   },
   {
    "duration": 5,
    "start_time": "2022-03-13T14:03:24.492Z"
   },
   {
    "duration": 4,
    "start_time": "2022-03-13T14:03:43.392Z"
   },
   {
    "duration": 573,
    "start_time": "2022-03-13T14:19:16.754Z"
   },
   {
    "duration": 10,
    "start_time": "2022-03-13T14:20:39.488Z"
   },
   {
    "duration": 4364,
    "start_time": "2022-03-13T14:23:17.913Z"
   },
   {
    "duration": 10,
    "start_time": "2022-03-13T14:23:30.694Z"
   },
   {
    "duration": 20,
    "start_time": "2022-03-13T14:24:08.988Z"
   },
   {
    "duration": 20,
    "start_time": "2022-03-13T14:25:07.917Z"
   },
   {
    "duration": 27,
    "start_time": "2022-03-13T14:25:16.337Z"
   },
   {
    "duration": 539,
    "start_time": "2022-03-13T14:27:55.479Z"
   },
   {
    "duration": 21,
    "start_time": "2022-03-13T14:28:09.047Z"
   },
   {
    "duration": 568,
    "start_time": "2022-03-13T14:41:07.178Z"
   },
   {
    "duration": 13473,
    "start_time": "2022-03-13T14:41:43.153Z"
   },
   {
    "duration": 9,
    "start_time": "2022-03-13T14:51:06.012Z"
   },
   {
    "duration": 4,
    "start_time": "2022-03-13T14:52:49.090Z"
   },
   {
    "duration": 10190,
    "start_time": "2022-03-13T14:59:18.974Z"
   },
   {
    "duration": 9256,
    "start_time": "2022-03-13T15:03:22.521Z"
   },
   {
    "duration": 4,
    "start_time": "2022-03-13T15:07:41.846Z"
   },
   {
    "duration": 3,
    "start_time": "2022-03-13T15:13:35.159Z"
   },
   {
    "duration": 265,
    "start_time": "2022-03-14T07:20:26.100Z"
   },
   {
    "duration": 986,
    "start_time": "2022-03-14T07:24:42.397Z"
   },
   {
    "duration": 145,
    "start_time": "2022-03-14T07:24:43.385Z"
   },
   {
    "duration": 124,
    "start_time": "2022-03-14T07:24:43.532Z"
   },
   {
    "duration": 132,
    "start_time": "2022-03-14T07:24:43.657Z"
   },
   {
    "duration": 16,
    "start_time": "2022-03-14T07:24:43.791Z"
   },
   {
    "duration": 63,
    "start_time": "2022-03-14T07:24:43.809Z"
   },
   {
    "duration": 99,
    "start_time": "2022-03-14T07:24:43.966Z"
   },
   {
    "duration": 194,
    "start_time": "2022-03-14T07:24:44.069Z"
   },
   {
    "duration": 5,
    "start_time": "2022-03-14T07:24:44.266Z"
   },
   {
    "duration": 7,
    "start_time": "2022-03-14T07:24:44.364Z"
   },
   {
    "duration": 26,
    "start_time": "2022-03-14T07:24:44.373Z"
   },
   {
    "duration": 415,
    "start_time": "2022-03-14T07:24:44.401Z"
   },
   {
    "duration": 9836,
    "start_time": "2022-03-14T07:25:54.742Z"
   },
   {
    "duration": 24,
    "start_time": "2022-03-14T07:26:31.018Z"
   },
   {
    "duration": 10149,
    "start_time": "2022-03-14T07:27:24.195Z"
   },
   {
    "duration": 10084,
    "start_time": "2022-03-14T07:29:11.943Z"
   },
   {
    "duration": 10152,
    "start_time": "2022-03-14T07:29:55.054Z"
   },
   {
    "duration": 9920,
    "start_time": "2022-03-14T07:30:48.892Z"
   },
   {
    "duration": 9938,
    "start_time": "2022-03-14T07:36:41.281Z"
   }
  ],
  "kernelspec": {
   "display_name": "Python 3 (ipykernel)",
   "language": "python",
   "name": "python3"
  },
  "language_info": {
   "codemirror_mode": {
    "name": "ipython",
    "version": 3
   },
   "file_extension": ".py",
   "mimetype": "text/x-python",
   "name": "python",
   "nbconvert_exporter": "python",
   "pygments_lexer": "ipython3",
   "version": "3.9.7"
  },
  "toc": {
   "base_numbering": 1,
   "nav_menu": {},
   "number_sections": true,
   "sideBar": true,
   "skip_h1_title": true,
   "title_cell": "Table of Contents",
   "title_sidebar": "Contents",
   "toc_cell": false,
   "toc_position": {},
   "toc_section_display": true,
   "toc_window_display": false
  }
 },
 "nbformat": 4,
 "nbformat_minor": 2
}
