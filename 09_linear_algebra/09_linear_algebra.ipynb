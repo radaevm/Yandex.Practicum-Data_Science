{
 "cells": [
  {
   "cell_type": "markdown",
   "metadata": {},
   "source": [
    "# Проект курса \"Линейная алгебра\""
   ]
  },
  {
   "cell_type": "markdown",
   "metadata": {
    "toc": true
   },
   "source": [
    "<h1>Содержание<span class=\"tocSkip\"></span></h1>\n",
    "<div class=\"toc\"><ul class=\"toc-item\"><li><span><a href=\"#Загрузка-данных\" data-toc-modified-id=\"Загрузка-данных-1\"><span class=\"toc-item-num\">1&nbsp;&nbsp;</span>Загрузка данных</a></span></li><li><span><a href=\"#Умножение-матриц\" data-toc-modified-id=\"Умножение-матриц-2\"><span class=\"toc-item-num\">2&nbsp;&nbsp;</span>Умножение матриц</a></span></li><li><span><a href=\"#Алгоритм-преобразования\" data-toc-modified-id=\"Алгоритм-преобразования-3\"><span class=\"toc-item-num\">3&nbsp;&nbsp;</span>Алгоритм преобразования</a></span></li><li><span><a href=\"#Проверка-алгоритма\" data-toc-modified-id=\"Проверка-алгоритма-4\"><span class=\"toc-item-num\">4&nbsp;&nbsp;</span>Проверка алгоритма</a></span></li><li><span><a href=\"#Чек-лист-проверки\" data-toc-modified-id=\"Чек-лист-проверки-5\"><span class=\"toc-item-num\">5&nbsp;&nbsp;</span>Чек-лист проверки</a></span></li></ul></div>"
   ]
  },
  {
   "cell_type": "markdown",
   "metadata": {},
   "source": [
    "# Защита персональных данных клиентов"
   ]
  },
  {
   "cell_type": "markdown",
   "metadata": {},
   "source": [
    "Нам нужно защитить данные клиентов страховой компании «Хоть потоп». Разработаем такой метод преобразования данных, чтобы по ним было сложно восстановить персональную информацию.\n",
    "\n",
    "Нужно защитить данные, чтобы при преобразовании качество моделей машинного обучения не ухудшилось. Подбирать наилучшую модель не требуется."
   ]
  },
  {
   "cell_type": "markdown",
   "metadata": {},
   "source": [
    "# Описание данных\n",
    "- Признаки: пол, возраст и зарплата застрахованного, количество членов его семьи.\n",
    "- Целевой признак: количество страховых выплат клиенту за последние 5 лет."
   ]
  },
  {
   "cell_type": "markdown",
   "metadata": {},
   "source": [
    "<div class=\"alert alert-success\">\n",
    "<h2> Комментарий ревьюера <a class=\"tocSkip\"> </h2>\n",
    "<hr>\n",
    "<b>Верно!👍:</b> Здорово, есть хорошее подробное описание задачи и данных, план-содержание работы 👍\n",
    "</div>"
   ]
  },
  {
   "cell_type": "markdown",
   "metadata": {},
   "source": [
    "## Загрузка данных"
   ]
  },
  {
   "cell_type": "code",
   "execution_count": 1,
   "metadata": {},
   "outputs": [],
   "source": [
    "import numpy as np\n",
    "import pandas as pd\n",
    "from sklearn.linear_model import LinearRegression\n",
    "from sklearn.metrics import r2_score\n",
    "import warnings\n",
    "warnings.filterwarnings('ignore')"
   ]
  },
  {
   "cell_type": "markdown",
   "metadata": {},
   "source": [
    "<div class=\"alert alert-success\">\n",
    "<h2> Комментарий ревьюера <a class=\"tocSkip\"> </h2>\n",
    "<hr>\n",
    "<b>Верно!👍:</b> Отлично, все нужные библиотеки и функции подключены.\n",
    "</div>"
   ]
  },
  {
   "cell_type": "code",
   "execution_count": 2,
   "metadata": {},
   "outputs": [
    {
     "data": {
      "text/html": [
       "<div>\n",
       "<style scoped>\n",
       "    .dataframe tbody tr th:only-of-type {\n",
       "        vertical-align: middle;\n",
       "    }\n",
       "\n",
       "    .dataframe tbody tr th {\n",
       "        vertical-align: top;\n",
       "    }\n",
       "\n",
       "    .dataframe thead th {\n",
       "        text-align: right;\n",
       "    }\n",
       "</style>\n",
       "<table border=\"1\" class=\"dataframe\">\n",
       "  <thead>\n",
       "    <tr style=\"text-align: right;\">\n",
       "      <th></th>\n",
       "      <th>Пол</th>\n",
       "      <th>Возраст</th>\n",
       "      <th>Зарплата</th>\n",
       "      <th>Члены семьи</th>\n",
       "      <th>Страховые выплаты</th>\n",
       "    </tr>\n",
       "  </thead>\n",
       "  <tbody>\n",
       "    <tr>\n",
       "      <th>0</th>\n",
       "      <td>1</td>\n",
       "      <td>41.0</td>\n",
       "      <td>49600.0</td>\n",
       "      <td>1</td>\n",
       "      <td>0</td>\n",
       "    </tr>\n",
       "    <tr>\n",
       "      <th>1</th>\n",
       "      <td>0</td>\n",
       "      <td>46.0</td>\n",
       "      <td>38000.0</td>\n",
       "      <td>1</td>\n",
       "      <td>1</td>\n",
       "    </tr>\n",
       "    <tr>\n",
       "      <th>2</th>\n",
       "      <td>0</td>\n",
       "      <td>29.0</td>\n",
       "      <td>21000.0</td>\n",
       "      <td>0</td>\n",
       "      <td>0</td>\n",
       "    </tr>\n",
       "    <tr>\n",
       "      <th>3</th>\n",
       "      <td>0</td>\n",
       "      <td>21.0</td>\n",
       "      <td>41700.0</td>\n",
       "      <td>2</td>\n",
       "      <td>0</td>\n",
       "    </tr>\n",
       "    <tr>\n",
       "      <th>4</th>\n",
       "      <td>1</td>\n",
       "      <td>28.0</td>\n",
       "      <td>26100.0</td>\n",
       "      <td>0</td>\n",
       "      <td>0</td>\n",
       "    </tr>\n",
       "  </tbody>\n",
       "</table>\n",
       "</div>"
      ],
      "text/plain": [
       "   Пол  Возраст  Зарплата  Члены семьи  Страховые выплаты\n",
       "0    1     41.0   49600.0            1                  0\n",
       "1    0     46.0   38000.0            1                  1\n",
       "2    0     29.0   21000.0            0                  0\n",
       "3    0     21.0   41700.0            2                  0\n",
       "4    1     28.0   26100.0            0                  0"
      ]
     },
     "execution_count": 2,
     "metadata": {},
     "output_type": "execute_result"
    }
   ],
   "source": [
    "df = pd.read_csv('/datasets/insurance.csv')\n",
    "df[:5]"
   ]
  },
  {
   "cell_type": "code",
   "execution_count": 3,
   "metadata": {},
   "outputs": [
    {
     "name": "stdout",
     "output_type": "stream",
     "text": [
      "<class 'pandas.core.frame.DataFrame'>\n",
      "RangeIndex: 5000 entries, 0 to 4999\n",
      "Data columns (total 5 columns):\n",
      " #   Column             Non-Null Count  Dtype  \n",
      "---  ------             --------------  -----  \n",
      " 0   Пол                5000 non-null   int64  \n",
      " 1   Возраст            5000 non-null   float64\n",
      " 2   Зарплата           5000 non-null   float64\n",
      " 3   Члены семьи        5000 non-null   int64  \n",
      " 4   Страховые выплаты  5000 non-null   int64  \n",
      "dtypes: float64(2), int64(3)\n",
      "memory usage: 195.4 KB\n"
     ]
    }
   ],
   "source": [
    "df.info()"
   ]
  },
  {
   "cell_type": "markdown",
   "metadata": {},
   "source": [
    "<div class=\"alert alert-warning\">\n",
    "    <h2> Комментарий ревьюера <a class=\"tocSkip\"> </h2>\n",
    "<hr>    \n",
    "<b>Совет💡:</b> Данные загружены и осмотрены. Если бы не все признаки были представлены числовым типом данных, то возникли бы проблемы в дальнейшем, нужно было бы их сначала закодировать.\n",
    "</div></div>"
   ]
  },
  {
   "cell_type": "markdown",
   "metadata": {},
   "source": [
    "## Умножение матриц"
   ]
  },
  {
   "cell_type": "code",
   "execution_count": 4,
   "metadata": {},
   "outputs": [
    {
     "data": {
      "text/plain": [
       "((5000, 4), (5000,))"
      ]
     },
     "execution_count": 4,
     "metadata": {},
     "output_type": "execute_result"
    }
   ],
   "source": [
    "X = df.drop(\"Страховые выплаты\", axis=1)\n",
    "y = df[\"Страховые выплаты\"]\n",
    "\n",
    "X.shape, y.shape"
   ]
  },
  {
   "cell_type": "markdown",
   "metadata": {},
   "source": [
    "<div class=\"alert alert-warning\">\n",
    "    <h2> Комментарий ревьюера <a class=\"tocSkip\"> </h2>\n",
    "<hr>    \n",
    "<b>Совет💡:</b> Обрати внимание, матрица ${X}$ — не квадратная.\n",
    "</div></div>"
   ]
  },
  {
   "cell_type": "markdown",
   "metadata": {},
   "source": [
    "**Проверим, обратима ли матрица:**"
   ]
  },
  {
   "cell_type": "code",
   "execution_count": 5,
   "metadata": {},
   "outputs": [
    {
     "data": {
      "text/plain": [
       "array([[ -6.254758  , -27.24051672,  -7.57216733,  27.3776121 ],\n",
       "       [ -0.69551912,  -7.88636218,  -0.95257022,   6.37265475],\n",
       "       [  1.0798238 ,   0.88566748,  -2.12723697,   0.65605301],\n",
       "       [  6.29088333,  33.27146909,  11.08908356, -33.14137984]])"
      ]
     },
     "execution_count": 5,
     "metadata": {},
     "output_type": "execute_result"
    }
   ],
   "source": [
    "INV = np.random.rand(4,4)\n",
    "\n",
    "np.linalg.inv(INV)"
   ]
  },
  {
   "cell_type": "markdown",
   "metadata": {},
   "source": [
    "<div class=\"alert alert-success\">\n",
    "<h2> Комментарий ревьюера <a class=\"tocSkip\"> </h2>\n",
    "<hr>\n",
    "<b>Верно!👍:</b> Здорово, что генерируешь случайную матрицу.\n",
    "</div>"
   ]
  },
  {
   "cell_type": "markdown",
   "metadata": {},
   "source": [
    "<div class=\"alert alert-warning\">\n",
    "    <h2> Комментарий ревьюера <a class=\"tocSkip\"> </h2>\n",
    "<hr>    \n",
    "<b>Совет💡:</b> Можно чуть больше комментариев по ходу работы делать: сделать заключение, что матрица обратима.\n",
    "</div></div>"
   ]
  },
  {
   "cell_type": "code",
   "execution_count": 6,
   "metadata": {},
   "outputs": [],
   "source": [
    "def predict_and_r2_score(x, y):\n",
    "    lr = LinearRegression()\n",
    "    lr.fit(x, y)\n",
    "    r2 = lr.score(x, y)\n",
    "    return r2"
   ]
  },
  {
   "cell_type": "markdown",
   "metadata": {},
   "source": [
    "<div class=\"alert alert-success\">\n",
    "<h2> Комментарий ревьюера <a class=\"tocSkip\"> </h2>\n",
    "<hr>\n",
    "    <b>Верно!👍:</b> Здорово, что используешь пользовательскую функцию, это позволит нам избежать излишней повторяемости кода.\n",
    "</div>"
   ]
  },
  {
   "cell_type": "markdown",
   "metadata": {},
   "source": [
    "**R2 для обычной матрицы признаков:**"
   ]
  },
  {
   "cell_type": "code",
   "execution_count": 7,
   "metadata": {},
   "outputs": [
    {
     "data": {
      "text/plain": [
       "0.42494550286668"
      ]
     },
     "execution_count": 7,
     "metadata": {},
     "output_type": "execute_result"
    }
   ],
   "source": [
    "predict_and_r2_score(X, y)"
   ]
  },
  {
   "cell_type": "markdown",
   "metadata": {},
   "source": [
    "**R2 для [X * INV]:**"
   ]
  },
  {
   "cell_type": "code",
   "execution_count": 8,
   "metadata": {},
   "outputs": [
    {
     "data": {
      "text/plain": [
       "0.42494550286696164"
      ]
     },
     "execution_count": 8,
     "metadata": {},
     "output_type": "execute_result"
    }
   ],
   "source": [
    "X_inv = X @ INV\n",
    "predict_and_r2_score(X_inv, y)"
   ]
  },
  {
   "cell_type": "markdown",
   "metadata": {},
   "source": [
    "**Вывод:**\n",
    "Качество линейной регрессии не меняется при умножении матрицы признаков **nxk** справа на квадратную обратимую матрицу **kxk**"
   ]
  },
  {
   "cell_type": "markdown",
   "metadata": {},
   "source": [
    "<div class=\"alert alert-warning\">\n",
    "    <h2> Комментарий ревьюера <a class=\"tocSkip\"> </h2>\n",
    "<hr>    \n",
    "<b>Совет💡:</b> Здесь лучше эксперимент всё-таки не использовать для ответа на вопрос, так как мы не можем по единичному результату говорить о закономерности. Можно просто сразу ответить на вопрос: если знаем теоретическое обоснование, то знаем и правильный ответ. А потом мы уже теорию подкрепляем на практике, применяя её в прикладном русле :)\n",
    "</div></div>"
   ]
  },
  {
   "cell_type": "markdown",
   "metadata": {},
   "source": [
    "Обозначения:\n",
    "\n",
    "- $X$ — матрица признаков (нулевой столбец состоит из единиц)\n",
    "\n",
    "- $y$ — вектор целевого признака\n",
    "\n",
    "- $P$ — матрица, на которую умножаются признаки\n",
    "\n",
    "- $w$ — вектор весов линейной регрессии (нулевой элемент равен сдвигу)"
   ]
  },
  {
   "cell_type": "markdown",
   "metadata": {},
   "source": [
    "Предсказания:\n",
    "\n",
    "$$\n",
    "a = Xw\n",
    "$$\n",
    "\n",
    "Задача обучения:\n",
    "\n",
    "$$\n",
    "w = \\arg\\min_w MSE(Xw, y)\n",
    "$$\n",
    "\n",
    "Формула обучения:\n",
    "\n",
    "$$\n",
    "w = (X^T X)^{-1} X^T y\n",
    "$$"
   ]
  },
  {
   "cell_type": "markdown",
   "metadata": {},
   "source": [
    "**Ответ:**  R2 не поменяется\n",
    "\n",
    "**Обоснование:** \n",
    "$$\n",
    "a = X_1 w\n",
    "$$\n",
    "\n",
    "\n",
    "\n",
    "\n"
   ]
  },
  {
   "cell_type": "markdown",
   "metadata": {},
   "source": [
    "Для решения этого задания достаточно знать, что:\n",
    "\n",
    "\n",
    "1. $AB \\neq BA$\n",
    "2. $ (AB)^{-1} = B^{-1}A^{-1} $\n",
    "3. $ (AB)^{T} = B^{T}A^{T} $\n",
    "4. $ AA^{-1} = E $\n",
    "5. $ АЕ = ЕА = А $\n",
    "\n",
    "В формулу вектора весов линейной регрессии w подставляем произведение XP вместо X. Получится выражение для w’ (вектор весов после преобразования). P – обратимая квадратная матрица (матрица преобразования).\n",
    "Используем вышеприведенные формулы, преобразуем получившееся выражение и получаем зависимость между параметром w’ (вектор весов\n",
    "после преобразования) и w (вектор весов до преобразования).\n",
    "Затем в формулу предсказания (а = Xw) подставляем XP вместо Х, и w’ вместо w.\n",
    "\n",
    "**Обоснование**\n",
    "\n",
    "Запишем исходное уравнение весов:\n",
    "$$\n",
    "w = (X^{T}X)^{-1}X^{T}y\n",
    "$$\n",
    "---\n",
    "Докажем, что при умножении на матрицу имеющую обратную ничего не изменится. Запишем вместо Х произведение Х\\*Р, тогда:  \n",
    "$ w'=((XP)^{T}(XP))^{-1}(XP)^{T}y = (P^{T}X^{T}XP)^{-1}P^{T}X^{T}y = P^{-1}(X^{T}X)^{-1}P^{T^{-1}}P^{T}X^{T}y$, где $P^{T^{-1}}P^{T} = E$, тогда $w'=P^{-1}*[(X^{T}X)^{-1}X^{T}y]=P^{-1}w$  - связь между $w$ и $w'$ мы нашли, теперь подставим в \n",
    "$$\n",
    "a = Xw\n",
    "$$ \n",
    "---\n",
    "Получаем: $a'= XP*w' = XPP^{-1}w = XEw = Xw = a$\n",
    "\n",
    "Таким образом мы доказали, что преобразование подобного типа не повлияет на предсказание."
   ]
  },
  {
   "cell_type": "markdown",
   "metadata": {},
   "source": [
    "Проверим гипотезу о том, что умножив марицу признаков на другую, у которой существует обратная и умножив на обратную получим исходную матрицу признаков"
   ]
  },
  {
   "cell_type": "code",
   "execution_count": 10,
   "metadata": {},
   "outputs": [
    {
     "name": "stdout",
     "output_type": "stream",
     "text": [
      "Матрица признаков P:\n",
      "[[ -62   62  -31 -159]\n",
      " [   4  -20  -88  -92]\n",
      " [ -18   63 -112 -156]\n",
      " [  10   64  -67  -18]]\n",
      "Матрица преобразования А:\n",
      "[[ -75  365 -368   -1]\n",
      " [-282  -87   27 -146]\n",
      " [ 220  215 1008 -162]\n",
      " [-624  681  804  814]]\n"
     ]
    },
    {
     "data": {
      "text/plain": [
       "1"
      ]
     },
     "execution_count": 10,
     "metadata": {},
     "output_type": "execute_result"
    }
   ],
   "source": [
    "np.random.seed(12345)\n",
    "check = []\n",
    "for i in range(1000):\n",
    "    P = np.random.normal(5, 100, size=(4,4)).astype('int64')\n",
    "    A = np.random.normal(50, 700, size=(4,4)).astype('int64')\n",
    "    check.append(np.prod(np.rint(A @ P @ np.linalg.inv(P)).astype('int64') == A))\n",
    "    #check.append(np.rint(A @ P @ np.linalg.inv(P)).astype('int64') == A) #правка ревьюера\n",
    "print('Матрица признаков P:')\n",
    "print(P)\n",
    "print('Матрица преобразования А:')\n",
    "print(A)\n",
    "np.prod(np.array(check))"
   ]
  },
  {
   "cell_type": "markdown",
   "metadata": {},
   "source": [
    "**Вывод**: гипотеза подтвердилась"
   ]
  },
  {
   "cell_type": "markdown",
   "metadata": {},
   "source": [
    "## Алгоритм преобразования"
   ]
  },
  {
   "cell_type": "markdown",
   "metadata": {},
   "source": [
    "**Алгоритм**\n",
    "\n",
    "Для шифрования воспользуемся квадратной обратимой матрицей - $P$, где $XP=X_{cripto}$ - процесс шифрования, а $X_{cripto}P^{-1}=X$. Ранее нами обоснована возможность использования матрицы $P$ для шифрования исходной матрицы признаков. "
   ]
  },
  {
   "cell_type": "markdown",
   "metadata": {},
   "source": [
    "## Проверка алгоритма"
   ]
  },
  {
   "cell_type": "markdown",
   "metadata": {},
   "source": [
    "Изменяем данные"
   ]
  },
  {
   "cell_type": "code",
   "execution_count": 15,
   "metadata": {
    "scrolled": true
   },
   "outputs": [],
   "source": [
    "#np.random.seed(1245)\n",
    "#X_inv = np.linalg.inv(np.random.rand(4,4))\n",
    "#X_new = X @ X_inv#((X*7000 + 200) / 8) @ INV\n",
    "\n",
    "#X_new.head()"
   ]
  },
  {
   "cell_type": "code",
   "execution_count": 14,
   "metadata": {},
   "outputs": [
    {
     "data": {
      "text/html": [
       "<div>\n",
       "<style scoped>\n",
       "    .dataframe tbody tr th:only-of-type {\n",
       "        vertical-align: middle;\n",
       "    }\n",
       "\n",
       "    .dataframe tbody tr th {\n",
       "        vertical-align: top;\n",
       "    }\n",
       "\n",
       "    .dataframe thead th {\n",
       "        text-align: right;\n",
       "    }\n",
       "</style>\n",
       "<table border=\"1\" class=\"dataframe\">\n",
       "  <thead>\n",
       "    <tr style=\"text-align: right;\">\n",
       "      <th></th>\n",
       "      <th>0</th>\n",
       "      <th>1</th>\n",
       "      <th>2</th>\n",
       "      <th>3</th>\n",
       "    </tr>\n",
       "  </thead>\n",
       "  <tbody>\n",
       "    <tr>\n",
       "      <th>0</th>\n",
       "      <td>20076.795800</td>\n",
       "      <td>85606.702474</td>\n",
       "      <td>-254929.873764</td>\n",
       "      <td>237908.334294</td>\n",
       "    </tr>\n",
       "    <tr>\n",
       "      <th>1</th>\n",
       "      <td>15386.422984</td>\n",
       "      <td>65574.273368</td>\n",
       "      <td>-195289.878645</td>\n",
       "      <td>182270.277628</td>\n",
       "    </tr>\n",
       "    <tr>\n",
       "      <th>2</th>\n",
       "      <td>8506.934793</td>\n",
       "      <td>36237.265958</td>\n",
       "      <td>-107924.331305</td>\n",
       "      <td>100729.948201</td>\n",
       "    </tr>\n",
       "    <tr>\n",
       "      <th>3</th>\n",
       "      <td>16866.140525</td>\n",
       "      <td>71977.313505</td>\n",
       "      <td>-214329.632473</td>\n",
       "      <td>200014.121906</td>\n",
       "    </tr>\n",
       "    <tr>\n",
       "      <th>4</th>\n",
       "      <td>10570.822364</td>\n",
       "      <td>45044.448089</td>\n",
       "      <td>-134144.745244</td>\n",
       "      <td>125190.154978</td>\n",
       "    </tr>\n",
       "  </tbody>\n",
       "</table>\n",
       "</div>"
      ],
      "text/plain": [
       "              0             1              2              3\n",
       "0  20076.795800  85606.702474 -254929.873764  237908.334294\n",
       "1  15386.422984  65574.273368 -195289.878645  182270.277628\n",
       "2   8506.934793  36237.265958 -107924.331305  100729.948201\n",
       "3  16866.140525  71977.313505 -214329.632473  200014.121906\n",
       "4  10570.822364  45044.448089 -134144.745244  125190.154978"
      ]
     },
     "execution_count": 14,
     "metadata": {},
     "output_type": "execute_result"
    }
   ],
   "source": [
    "np.random.seed(1245)\n",
    "try:\n",
    "    X_inv = np.linalg.inv(np.random.rand(4,4))\n",
    "except numpy.linalg.LinAlgError:\n",
    "    pass\n",
    "else:\n",
    "    X_new = X @ X_inv\n",
    "    \n",
    "X_new.head()"
   ]
  },
  {
   "cell_type": "code",
   "execution_count": 13,
   "metadata": {},
   "outputs": [
    {
     "data": {
      "text/plain": [
       "0.42494550286669364"
      ]
     },
     "execution_count": 13,
     "metadata": {},
     "output_type": "execute_result"
    }
   ],
   "source": [
    "predict_and_r2_score(X_new, y)"
   ]
  },
  {
   "cell_type": "markdown",
   "metadata": {},
   "source": [
    "**Вывод:** Качество линейной регрессии не поменялось"
   ]
  }
 ],
 "metadata": {
  "ExecuteTimeLog": [
   {
    "duration": 1248,
    "start_time": "2022-04-04T11:35:43.981Z"
   },
   {
    "duration": 14,
    "start_time": "2022-04-04T11:36:46.141Z"
   },
   {
    "duration": 25,
    "start_time": "2022-04-04T11:37:01.402Z"
   },
   {
    "duration": 13,
    "start_time": "2022-04-04T11:37:16.450Z"
   },
   {
    "duration": 1237,
    "start_time": "2022-04-05T09:26:38.355Z"
   },
   {
    "duration": 26,
    "start_time": "2022-04-05T09:26:43.688Z"
   },
   {
    "duration": 13,
    "start_time": "2022-04-05T09:26:45.853Z"
   },
   {
    "duration": 6,
    "start_time": "2022-04-05T09:27:11.093Z"
   },
   {
    "duration": 10,
    "start_time": "2022-04-05T09:27:36.604Z"
   },
   {
    "duration": 4,
    "start_time": "2022-04-05T09:27:57.335Z"
   },
   {
    "duration": 109,
    "start_time": "2022-04-05T09:28:10.574Z"
   },
   {
    "duration": 29,
    "start_time": "2022-04-05T09:28:40.497Z"
   },
   {
    "duration": 3,
    "start_time": "2022-04-05T09:28:46.362Z"
   },
   {
    "duration": 19,
    "start_time": "2022-04-05T09:28:46.888Z"
   },
   {
    "duration": 12,
    "start_time": "2022-04-05T09:29:00.966Z"
   },
   {
    "duration": 15,
    "start_time": "2022-04-05T09:32:06.215Z"
   },
   {
    "duration": 17,
    "start_time": "2022-04-05T09:32:34.628Z"
   },
   {
    "duration": 5,
    "start_time": "2022-04-05T09:39:13.438Z"
   },
   {
    "duration": 12,
    "start_time": "2022-04-05T09:41:10.531Z"
   },
   {
    "duration": 12,
    "start_time": "2022-04-05T09:42:07.574Z"
   },
   {
    "duration": 13,
    "start_time": "2022-04-05T09:42:08.625Z"
   },
   {
    "duration": 13,
    "start_time": "2022-04-05T09:45:12.085Z"
   },
   {
    "duration": 11,
    "start_time": "2022-04-05T09:45:14.137Z"
   },
   {
    "duration": 11,
    "start_time": "2022-04-05T09:49:46.312Z"
   },
   {
    "duration": 15,
    "start_time": "2022-04-05T09:55:54.699Z"
   },
   {
    "duration": 47,
    "start_time": "2022-04-05T09:55:56.767Z"
   },
   {
    "duration": 49,
    "start_time": "2022-04-06T07:00:00.255Z"
   },
   {
    "duration": 1092,
    "start_time": "2022-04-06T07:00:10.885Z"
   },
   {
    "duration": 293,
    "start_time": "2022-04-06T07:00:16.951Z"
   },
   {
    "duration": 57,
    "start_time": "2022-04-06T07:16:49.407Z"
   },
   {
    "duration": 3,
    "start_time": "2022-04-06T07:16:56.300Z"
   },
   {
    "duration": 1481,
    "start_time": "2022-04-06T07:16:56.304Z"
   },
   {
    "duration": 11,
    "start_time": "2022-04-06T07:16:57.787Z"
   },
   {
    "duration": 32,
    "start_time": "2022-04-06T07:16:57.799Z"
   },
   {
    "duration": 8,
    "start_time": "2022-04-06T07:16:57.834Z"
   },
   {
    "duration": 94,
    "start_time": "2022-04-06T07:16:57.844Z"
   },
   {
    "duration": 106,
    "start_time": "2022-04-06T07:16:57.941Z"
   },
   {
    "duration": 195,
    "start_time": "2022-04-06T07:16:58.049Z"
   },
   {
    "duration": 295,
    "start_time": "2022-04-06T07:16:58.248Z"
   },
   {
    "duration": 12,
    "start_time": "2022-04-06T07:16:58.545Z"
   },
   {
    "duration": 13,
    "start_time": "2022-04-06T07:16:58.640Z"
   },
   {
    "duration": 9,
    "start_time": "2022-04-06T07:18:00.121Z"
   },
   {
    "duration": 9,
    "start_time": "2022-04-06T07:18:03.009Z"
   },
   {
    "duration": 10,
    "start_time": "2022-04-06T07:18:08.142Z"
   },
   {
    "duration": 11,
    "start_time": "2022-04-06T07:19:54.332Z"
   },
   {
    "duration": 17,
    "start_time": "2022-04-06T08:20:47.760Z"
   },
   {
    "duration": 10,
    "start_time": "2022-04-06T08:20:58.972Z"
   },
   {
    "duration": 9,
    "start_time": "2022-04-06T08:27:15.905Z"
   },
   {
    "duration": 9,
    "start_time": "2022-04-06T08:27:18.394Z"
   },
   {
    "duration": 10,
    "start_time": "2022-04-06T08:27:20.331Z"
   },
   {
    "duration": 9,
    "start_time": "2022-04-06T08:27:36.357Z"
   },
   {
    "duration": 10,
    "start_time": "2022-04-06T08:27:42.278Z"
   },
   {
    "duration": 11,
    "start_time": "2022-04-06T08:33:18.550Z"
   },
   {
    "duration": 15,
    "start_time": "2022-04-06T08:33:20.673Z"
   },
   {
    "duration": 11,
    "start_time": "2022-04-06T08:33:28.271Z"
   },
   {
    "duration": 1397,
    "start_time": "2022-04-06T15:12:36.553Z"
   },
   {
    "duration": 26,
    "start_time": "2022-04-06T15:12:38.984Z"
   },
   {
    "duration": 12,
    "start_time": "2022-04-06T15:12:39.722Z"
   },
   {
    "duration": 6,
    "start_time": "2022-04-06T15:12:41.549Z"
   },
   {
    "duration": 6,
    "start_time": "2022-04-06T15:12:42.825Z"
   },
   {
    "duration": 4,
    "start_time": "2022-04-06T15:12:44.260Z"
   },
   {
    "duration": 92,
    "start_time": "2022-04-06T15:12:45.809Z"
   },
   {
    "duration": 19,
    "start_time": "2022-04-06T15:12:46.861Z"
   },
   {
    "duration": 124,
    "start_time": "2022-04-06T15:13:05.198Z"
   },
   {
    "duration": 42,
    "start_time": "2022-04-06T15:13:58.478Z"
   },
   {
    "duration": 86,
    "start_time": "2022-04-06T15:14:13.236Z"
   },
   {
    "duration": 97,
    "start_time": "2022-04-06T15:14:19.225Z"
   },
   {
    "duration": 143,
    "start_time": "2022-04-06T15:14:43.877Z"
   },
   {
    "duration": 247,
    "start_time": "2022-04-06T15:14:58.554Z"
   },
   {
    "duration": 111,
    "start_time": "2022-04-06T15:15:04.211Z"
   },
   {
    "duration": 117,
    "start_time": "2022-04-06T15:16:07.605Z"
   },
   {
    "duration": 39,
    "start_time": "2022-04-06T15:16:50.887Z"
   },
   {
    "duration": 43,
    "start_time": "2022-04-06T15:17:20.482Z"
   },
   {
    "duration": 50,
    "start_time": "2022-04-06T15:22:27.370Z"
   },
   {
    "duration": 78,
    "start_time": "2022-04-06T15:22:52.041Z"
   },
   {
    "duration": 56,
    "start_time": "2022-04-07T05:58:06.591Z"
   },
   {
    "duration": 1220,
    "start_time": "2022-04-07T05:58:11.642Z"
   },
   {
    "duration": 33,
    "start_time": "2022-04-07T05:58:12.864Z"
   },
   {
    "duration": 14,
    "start_time": "2022-04-07T05:58:12.899Z"
   },
   {
    "duration": 11,
    "start_time": "2022-04-07T05:58:12.916Z"
   },
   {
    "duration": 20,
    "start_time": "2022-04-07T05:58:12.929Z"
   },
   {
    "duration": 50,
    "start_time": "2022-04-07T05:58:12.951Z"
   },
   {
    "duration": 99,
    "start_time": "2022-04-07T05:58:13.004Z"
   },
   {
    "duration": 101,
    "start_time": "2022-04-07T05:58:13.105Z"
   },
   {
    "duration": 307,
    "start_time": "2022-04-07T05:58:13.209Z"
   },
   {
    "duration": 90,
    "start_time": "2022-04-07T05:58:13.520Z"
   },
   {
    "duration": 12,
    "start_time": "2022-04-07T05:58:13.612Z"
   },
   {
    "duration": 14,
    "start_time": "2022-04-07T05:58:13.701Z"
   },
   {
    "duration": 11,
    "start_time": "2022-04-07T05:58:24.253Z"
   },
   {
    "duration": 3,
    "start_time": "2022-04-07T05:58:37.910Z"
   },
   {
    "duration": 70,
    "start_time": "2022-04-07T06:07:59.720Z"
   },
   {
    "duration": 142,
    "start_time": "2022-04-07T06:08:13.107Z"
   },
   {
    "duration": 55,
    "start_time": "2022-04-07T06:08:16.168Z"
   },
   {
    "duration": 45,
    "start_time": "2022-04-07T06:08:28.971Z"
   },
   {
    "duration": 145,
    "start_time": "2022-04-07T06:18:59.177Z"
   },
   {
    "duration": 66,
    "start_time": "2022-04-07T06:19:20.054Z"
   },
   {
    "duration": 66,
    "start_time": "2022-04-07T06:28:26.252Z"
   },
   {
    "duration": 215,
    "start_time": "2022-04-07T06:29:03.199Z"
   },
   {
    "duration": 168,
    "start_time": "2022-04-07T06:29:46.447Z"
   },
   {
    "duration": 5,
    "start_time": "2022-04-07T06:29:51.824Z"
   },
   {
    "duration": 195,
    "start_time": "2022-04-07T06:30:03.121Z"
   },
   {
    "duration": 206,
    "start_time": "2022-04-07T06:30:11.613Z"
   },
   {
    "duration": 1178,
    "start_time": "2022-04-07T14:39:03.625Z"
   },
   {
    "duration": 29,
    "start_time": "2022-04-07T14:39:05.733Z"
   },
   {
    "duration": 11,
    "start_time": "2022-04-07T14:39:06.048Z"
   },
   {
    "duration": 4,
    "start_time": "2022-04-07T14:39:06.929Z"
   },
   {
    "duration": 5,
    "start_time": "2022-04-07T14:39:07.808Z"
   },
   {
    "duration": 3,
    "start_time": "2022-04-07T14:39:09.565Z"
   },
   {
    "duration": 16,
    "start_time": "2022-04-07T14:39:10.690Z"
   },
   {
    "duration": 10,
    "start_time": "2022-04-07T14:39:11.608Z"
   },
   {
    "duration": 307,
    "start_time": "2022-04-07T14:39:17.557Z"
   },
   {
    "duration": 106,
    "start_time": "2022-04-07T14:39:30.270Z"
   }
  ],
  "kernelspec": {
   "display_name": "Python 3 (ipykernel)",
   "language": "python",
   "name": "python3"
  },
  "language_info": {
   "codemirror_mode": {
    "name": "ipython",
    "version": 3
   },
   "file_extension": ".py",
   "mimetype": "text/x-python",
   "name": "python",
   "nbconvert_exporter": "python",
   "pygments_lexer": "ipython3",
   "version": "3.9.7"
  },
  "toc": {
   "base_numbering": 1,
   "nav_menu": {},
   "number_sections": true,
   "sideBar": true,
   "skip_h1_title": true,
   "title_cell": "Содержание",
   "title_sidebar": "Contents",
   "toc_cell": true,
   "toc_position": {},
   "toc_section_display": true,
   "toc_window_display": true
  }
 },
 "nbformat": 4,
 "nbformat_minor": 2
}
