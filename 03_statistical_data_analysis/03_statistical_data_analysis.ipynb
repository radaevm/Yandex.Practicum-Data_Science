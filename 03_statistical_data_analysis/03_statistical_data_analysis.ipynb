{
 "cells": [
  {
   "cell_type": "markdown",
   "metadata": {},
   "source": [
    "# Определение перспективного тарифа для телеком-компании"
   ]
  },
  {
   "cell_type": "markdown",
   "metadata": {},
   "source": [
    "## Описание проекта\n",
    "Компания «Мегалайн» — федеральный оператор сотовой связи. Его клиентам предлагают два тарифных плана: «Смарт» и «Ультра». \n",
    "\n",
    "Чтобы скорректировать рекламный бюджет, коммерческий департамент хочет понять, какой тариф приносит больше денег.\n",
    "\n",
    "Необходимо сделать предварительный анализ тарифов на небольшой выборке клиентов. В нашем распоряжении данные 500 пользователей «Мегалайна»: кто они, откуда, каким тарифом пользуются, сколько звонков и сообщений каждый отправил за 2018 год. Нужно проанализировать поведение клиентов и сделать вывод — какой тариф лучше."
   ]
  },
  {
   "cell_type": "markdown",
   "metadata": {},
   "source": [
    "## Описание тарифов\n",
    "Тариф «Смарт»\n",
    "\n",
    "- Ежемесячная плата: 550 рублей\n",
    "- Включено 500 минут разговора, 50 сообщений и 15 Гб интернет-трафика\n",
    "- Стоимость услуг сверх тарифного пакета: 1. минута разговора: 3 рубля («Мегалайн» всегда округляет вверх значения минут и мегабайтов. Если пользователь проговорил всего 1 секунду, в тарифе засчитывается целая минута); 2. сообщение: 3 рубля; 3. 1 Гб интернет-трафика: 200 рублей.\n",
    "\n",
    "Тариф «Ультра»\n",
    "- Ежемесячная плата: 1950 рублей\n",
    "- Включено 3000 минут разговора, 1000 сообщений и 30 Гб интернет-трафика\n",
    "- Стоимость услуг сверх тарифного пакета: 1. минута разговора: 1 рубль; 2. сообщение: 1 рубль; 3. 1 Гб интернет-трафика: 150 рублей.\n",
    "\n",
    "Примечание:\n",
    "«Мегалайн» всегда округляет секунды до минут, а мегабайты — до гигабайт. Каждый звонок округляется отдельно: даже если он длился всего 1 секунду, будет засчитан как 1 минута.\n",
    "Для веб-трафика отдельные сессии не считаются. Вместо этого общая сумма за месяц округляется в бо́льшую сторону. Если абонент использует 1025 мегабайт в этом месяце, с него возьмут плату за 2 гигабайта."
   ]
  },
  {
   "cell_type": "markdown",
   "metadata": {},
   "source": [
    "## Описание данных\n",
    "Таблица users (информация о пользователях):\n",
    "\n",
    "- user_id — уникальный идентификатор пользователя\n",
    "- first_name — имя пользователя\n",
    "- last_name — фамилия пользователя\n",
    "- age — возраст пользователя (годы)\n",
    "- reg_date — дата подключения тарифа (день, месяц, год)\n",
    "- churn_date — дата прекращения пользования тарифом (если значение пропущено, то тариф ещё действовал на момент выгрузки данных)\n",
    "- city — город проживания пользователя\n",
    "- tarif — название тарифного плана\n",
    "\n",
    "Таблица calls (информация о звонках):\n",
    "\n",
    "- id — уникальный номер звонка\n",
    "- call_date — дата звонка\n",
    "- duration — длительность звонка в минутах\n",
    "- user_id — идентификатор пользователя, сделавшего звонок\n",
    "\n",
    "Таблица messages (информация о сообщениях):\n",
    "\n",
    "- id — уникальный номер сообщения\n",
    "- message_date — дата сообщения\n",
    "- user_id — идентификатор пользователя, отправившего сообщение\n",
    "\n",
    "Таблица internet (информация об интернет-сессиях):\n",
    "\n",
    "- id — уникальный номер сессии\n",
    "- mb_used — объём потраченного за сессию интернет-трафика (в мегабайтах)\n",
    "- session_date — дата интернет-сессии\n",
    "- user_id — идентификатор пользователя\n",
    "\n",
    "Таблица tariffs (информация о тарифах):\n",
    "\n",
    "- tariff_name — название тарифа\n",
    "- rub_monthly_fee — ежемесячная абонентская плата в рублях\n",
    "- minutes_included — количество минут разговора в месяц, включённых в абонентскую плату\n",
    "- messages_included — количество сообщений в месяц, включённых в абонентскую плату\n",
    "- mb_per_month_included — объём интернет-трафика, включённого в абонентскую плату (в мегабайтах)\n",
    "- rub_per_minute — стоимость минуты разговора сверх тарифного пакета (например, если в тарифе 100 минут разговора в месяц, то со 101 минуты будет взиматься плата)\n",
    "- rub_per_message — стоимость отправки сообщения сверх тарифного пакета\n",
    "- rub_per_gb — стоимость дополнительного гигабайта интернет-трафика сверх тарифного пакета (1 гигабайт = 1024 мегабайта)"
   ]
  },
  {
   "cell_type": "markdown",
   "metadata": {},
   "source": [
    "###  Изучение данных из файлов"
   ]
  },
  {
   "cell_type": "code",
   "execution_count": 1,
   "metadata": {},
   "outputs": [],
   "source": [
    "import pandas as pd\n",
    "import numpy as np\n",
    "\n",
    "calls = pd.read_csv('/datasets/calls.csv')\n",
    "internet = pd.read_csv('/datasets/internet.csv')\n",
    "messages = pd.read_csv('/datasets/messages.csv')\n",
    "tariffs = pd.read_csv('/datasets/tariffs.csv')\n",
    "users = pd.read_csv('/datasets/users.csv')"
   ]
  },
  {
   "cell_type": "code",
   "execution_count": 2,
   "metadata": {},
   "outputs": [],
   "source": [
    "import matplotlib.pyplot as plt\n",
    "from scipy import stats as st"
   ]
  },
  {
   "cell_type": "code",
   "execution_count": 3,
   "metadata": {},
   "outputs": [
    {
     "data": {
      "text/html": [
       "<div>\n",
       "<style scoped>\n",
       "    .dataframe tbody tr th:only-of-type {\n",
       "        vertical-align: middle;\n",
       "    }\n",
       "\n",
       "    .dataframe tbody tr th {\n",
       "        vertical-align: top;\n",
       "    }\n",
       "\n",
       "    .dataframe thead th {\n",
       "        text-align: right;\n",
       "    }\n",
       "</style>\n",
       "<table border=\"1\" class=\"dataframe\">\n",
       "  <thead>\n",
       "    <tr style=\"text-align: right;\">\n",
       "      <th></th>\n",
       "      <th>id</th>\n",
       "      <th>call_date</th>\n",
       "      <th>duration</th>\n",
       "      <th>user_id</th>\n",
       "    </tr>\n",
       "  </thead>\n",
       "  <tbody>\n",
       "    <tr>\n",
       "      <td>0</td>\n",
       "      <td>1000_0</td>\n",
       "      <td>2018-07-25</td>\n",
       "      <td>0.00</td>\n",
       "      <td>1000</td>\n",
       "    </tr>\n",
       "    <tr>\n",
       "      <td>1</td>\n",
       "      <td>1000_1</td>\n",
       "      <td>2018-08-17</td>\n",
       "      <td>0.00</td>\n",
       "      <td>1000</td>\n",
       "    </tr>\n",
       "    <tr>\n",
       "      <td>2</td>\n",
       "      <td>1000_2</td>\n",
       "      <td>2018-06-11</td>\n",
       "      <td>2.85</td>\n",
       "      <td>1000</td>\n",
       "    </tr>\n",
       "    <tr>\n",
       "      <td>3</td>\n",
       "      <td>1000_3</td>\n",
       "      <td>2018-09-21</td>\n",
       "      <td>13.80</td>\n",
       "      <td>1000</td>\n",
       "    </tr>\n",
       "    <tr>\n",
       "      <td>4</td>\n",
       "      <td>1000_4</td>\n",
       "      <td>2018-12-15</td>\n",
       "      <td>5.18</td>\n",
       "      <td>1000</td>\n",
       "    </tr>\n",
       "  </tbody>\n",
       "</table>\n",
       "</div>"
      ],
      "text/plain": [
       "       id   call_date  duration  user_id\n",
       "0  1000_0  2018-07-25      0.00     1000\n",
       "1  1000_1  2018-08-17      0.00     1000\n",
       "2  1000_2  2018-06-11      2.85     1000\n",
       "3  1000_3  2018-09-21     13.80     1000\n",
       "4  1000_4  2018-12-15      5.18     1000"
      ]
     },
     "metadata": {},
     "output_type": "display_data"
    },
    {
     "name": "stdout",
     "output_type": "stream",
     "text": [
      "\n",
      "<class 'pandas.core.frame.DataFrame'>\n",
      "RangeIndex: 202607 entries, 0 to 202606\n",
      "Data columns (total 4 columns):\n",
      "id           202607 non-null object\n",
      "call_date    202607 non-null object\n",
      "duration     202607 non-null float64\n",
      "user_id      202607 non-null int64\n",
      "dtypes: float64(1), int64(1), object(2)\n",
      "memory usage: 6.2+ MB\n"
     ]
    }
   ],
   "source": [
    "display(calls.head())\n",
    "print()\n",
    "calls.info()"
   ]
  },
  {
   "cell_type": "code",
   "execution_count": 4,
   "metadata": {},
   "outputs": [
    {
     "data": {
      "text/html": [
       "<div>\n",
       "<style scoped>\n",
       "    .dataframe tbody tr th:only-of-type {\n",
       "        vertical-align: middle;\n",
       "    }\n",
       "\n",
       "    .dataframe tbody tr th {\n",
       "        vertical-align: top;\n",
       "    }\n",
       "\n",
       "    .dataframe thead th {\n",
       "        text-align: right;\n",
       "    }\n",
       "</style>\n",
       "<table border=\"1\" class=\"dataframe\">\n",
       "  <thead>\n",
       "    <tr style=\"text-align: right;\">\n",
       "      <th></th>\n",
       "      <th>Unnamed: 0</th>\n",
       "      <th>id</th>\n",
       "      <th>mb_used</th>\n",
       "      <th>session_date</th>\n",
       "      <th>user_id</th>\n",
       "    </tr>\n",
       "  </thead>\n",
       "  <tbody>\n",
       "    <tr>\n",
       "      <td>0</td>\n",
       "      <td>0</td>\n",
       "      <td>1000_0</td>\n",
       "      <td>112.95</td>\n",
       "      <td>2018-11-25</td>\n",
       "      <td>1000</td>\n",
       "    </tr>\n",
       "    <tr>\n",
       "      <td>1</td>\n",
       "      <td>1</td>\n",
       "      <td>1000_1</td>\n",
       "      <td>1052.81</td>\n",
       "      <td>2018-09-07</td>\n",
       "      <td>1000</td>\n",
       "    </tr>\n",
       "    <tr>\n",
       "      <td>2</td>\n",
       "      <td>2</td>\n",
       "      <td>1000_2</td>\n",
       "      <td>1197.26</td>\n",
       "      <td>2018-06-25</td>\n",
       "      <td>1000</td>\n",
       "    </tr>\n",
       "    <tr>\n",
       "      <td>3</td>\n",
       "      <td>3</td>\n",
       "      <td>1000_3</td>\n",
       "      <td>550.27</td>\n",
       "      <td>2018-08-22</td>\n",
       "      <td>1000</td>\n",
       "    </tr>\n",
       "    <tr>\n",
       "      <td>4</td>\n",
       "      <td>4</td>\n",
       "      <td>1000_4</td>\n",
       "      <td>302.56</td>\n",
       "      <td>2018-09-24</td>\n",
       "      <td>1000</td>\n",
       "    </tr>\n",
       "  </tbody>\n",
       "</table>\n",
       "</div>"
      ],
      "text/plain": [
       "   Unnamed: 0      id  mb_used session_date  user_id\n",
       "0           0  1000_0   112.95   2018-11-25     1000\n",
       "1           1  1000_1  1052.81   2018-09-07     1000\n",
       "2           2  1000_2  1197.26   2018-06-25     1000\n",
       "3           3  1000_3   550.27   2018-08-22     1000\n",
       "4           4  1000_4   302.56   2018-09-24     1000"
      ]
     },
     "metadata": {},
     "output_type": "display_data"
    },
    {
     "name": "stdout",
     "output_type": "stream",
     "text": [
      "\n",
      "<class 'pandas.core.frame.DataFrame'>\n",
      "RangeIndex: 149396 entries, 0 to 149395\n",
      "Data columns (total 5 columns):\n",
      "Unnamed: 0      149396 non-null int64\n",
      "id              149396 non-null object\n",
      "mb_used         149396 non-null float64\n",
      "session_date    149396 non-null object\n",
      "user_id         149396 non-null int64\n",
      "dtypes: float64(1), int64(2), object(2)\n",
      "memory usage: 5.7+ MB\n"
     ]
    }
   ],
   "source": [
    "display(internet.head())\n",
    "print()\n",
    "internet.info()"
   ]
  },
  {
   "cell_type": "code",
   "execution_count": 5,
   "metadata": {},
   "outputs": [
    {
     "data": {
      "text/html": [
       "<div>\n",
       "<style scoped>\n",
       "    .dataframe tbody tr th:only-of-type {\n",
       "        vertical-align: middle;\n",
       "    }\n",
       "\n",
       "    .dataframe tbody tr th {\n",
       "        vertical-align: top;\n",
       "    }\n",
       "\n",
       "    .dataframe thead th {\n",
       "        text-align: right;\n",
       "    }\n",
       "</style>\n",
       "<table border=\"1\" class=\"dataframe\">\n",
       "  <thead>\n",
       "    <tr style=\"text-align: right;\">\n",
       "      <th></th>\n",
       "      <th>id</th>\n",
       "      <th>message_date</th>\n",
       "      <th>user_id</th>\n",
       "    </tr>\n",
       "  </thead>\n",
       "  <tbody>\n",
       "    <tr>\n",
       "      <td>0</td>\n",
       "      <td>1000_0</td>\n",
       "      <td>2018-06-27</td>\n",
       "      <td>1000</td>\n",
       "    </tr>\n",
       "    <tr>\n",
       "      <td>1</td>\n",
       "      <td>1000_1</td>\n",
       "      <td>2018-10-08</td>\n",
       "      <td>1000</td>\n",
       "    </tr>\n",
       "    <tr>\n",
       "      <td>2</td>\n",
       "      <td>1000_2</td>\n",
       "      <td>2018-08-04</td>\n",
       "      <td>1000</td>\n",
       "    </tr>\n",
       "    <tr>\n",
       "      <td>3</td>\n",
       "      <td>1000_3</td>\n",
       "      <td>2018-06-16</td>\n",
       "      <td>1000</td>\n",
       "    </tr>\n",
       "    <tr>\n",
       "      <td>4</td>\n",
       "      <td>1000_4</td>\n",
       "      <td>2018-12-05</td>\n",
       "      <td>1000</td>\n",
       "    </tr>\n",
       "  </tbody>\n",
       "</table>\n",
       "</div>"
      ],
      "text/plain": [
       "       id message_date  user_id\n",
       "0  1000_0   2018-06-27     1000\n",
       "1  1000_1   2018-10-08     1000\n",
       "2  1000_2   2018-08-04     1000\n",
       "3  1000_3   2018-06-16     1000\n",
       "4  1000_4   2018-12-05     1000"
      ]
     },
     "metadata": {},
     "output_type": "display_data"
    },
    {
     "name": "stdout",
     "output_type": "stream",
     "text": [
      "\n",
      "<class 'pandas.core.frame.DataFrame'>\n",
      "RangeIndex: 123036 entries, 0 to 123035\n",
      "Data columns (total 3 columns):\n",
      "id              123036 non-null object\n",
      "message_date    123036 non-null object\n",
      "user_id         123036 non-null int64\n",
      "dtypes: int64(1), object(2)\n",
      "memory usage: 2.8+ MB\n"
     ]
    }
   ],
   "source": [
    "display(messages.head())\n",
    "print()\n",
    "messages.info()"
   ]
  },
  {
   "cell_type": "code",
   "execution_count": 6,
   "metadata": {},
   "outputs": [
    {
     "data": {
      "text/html": [
       "<div>\n",
       "<style scoped>\n",
       "    .dataframe tbody tr th:only-of-type {\n",
       "        vertical-align: middle;\n",
       "    }\n",
       "\n",
       "    .dataframe tbody tr th {\n",
       "        vertical-align: top;\n",
       "    }\n",
       "\n",
       "    .dataframe thead th {\n",
       "        text-align: right;\n",
       "    }\n",
       "</style>\n",
       "<table border=\"1\" class=\"dataframe\">\n",
       "  <thead>\n",
       "    <tr style=\"text-align: right;\">\n",
       "      <th></th>\n",
       "      <th>messages_included</th>\n",
       "      <th>mb_per_month_included</th>\n",
       "      <th>minutes_included</th>\n",
       "      <th>rub_monthly_fee</th>\n",
       "      <th>rub_per_gb</th>\n",
       "      <th>rub_per_message</th>\n",
       "      <th>rub_per_minute</th>\n",
       "      <th>tariff_name</th>\n",
       "    </tr>\n",
       "  </thead>\n",
       "  <tbody>\n",
       "    <tr>\n",
       "      <td>0</td>\n",
       "      <td>50</td>\n",
       "      <td>15360</td>\n",
       "      <td>500</td>\n",
       "      <td>550</td>\n",
       "      <td>200</td>\n",
       "      <td>3</td>\n",
       "      <td>3</td>\n",
       "      <td>smart</td>\n",
       "    </tr>\n",
       "    <tr>\n",
       "      <td>1</td>\n",
       "      <td>1000</td>\n",
       "      <td>30720</td>\n",
       "      <td>3000</td>\n",
       "      <td>1950</td>\n",
       "      <td>150</td>\n",
       "      <td>1</td>\n",
       "      <td>1</td>\n",
       "      <td>ultra</td>\n",
       "    </tr>\n",
       "  </tbody>\n",
       "</table>\n",
       "</div>"
      ],
      "text/plain": [
       "   messages_included  mb_per_month_included  minutes_included  \\\n",
       "0                 50                  15360               500   \n",
       "1               1000                  30720              3000   \n",
       "\n",
       "   rub_monthly_fee  rub_per_gb  rub_per_message  rub_per_minute tariff_name  \n",
       "0              550         200                3               3       smart  \n",
       "1             1950         150                1               1       ultra  "
      ]
     },
     "metadata": {},
     "output_type": "display_data"
    },
    {
     "name": "stdout",
     "output_type": "stream",
     "text": [
      "\n",
      "<class 'pandas.core.frame.DataFrame'>\n",
      "RangeIndex: 2 entries, 0 to 1\n",
      "Data columns (total 8 columns):\n",
      "messages_included        2 non-null int64\n",
      "mb_per_month_included    2 non-null int64\n",
      "minutes_included         2 non-null int64\n",
      "rub_monthly_fee          2 non-null int64\n",
      "rub_per_gb               2 non-null int64\n",
      "rub_per_message          2 non-null int64\n",
      "rub_per_minute           2 non-null int64\n",
      "tariff_name              2 non-null object\n",
      "dtypes: int64(7), object(1)\n",
      "memory usage: 256.0+ bytes\n"
     ]
    }
   ],
   "source": [
    "display(tariffs.head())\n",
    "print()\n",
    "tariffs.info()"
   ]
  },
  {
   "cell_type": "code",
   "execution_count": 7,
   "metadata": {},
   "outputs": [
    {
     "data": {
      "text/html": [
       "<div>\n",
       "<style scoped>\n",
       "    .dataframe tbody tr th:only-of-type {\n",
       "        vertical-align: middle;\n",
       "    }\n",
       "\n",
       "    .dataframe tbody tr th {\n",
       "        vertical-align: top;\n",
       "    }\n",
       "\n",
       "    .dataframe thead th {\n",
       "        text-align: right;\n",
       "    }\n",
       "</style>\n",
       "<table border=\"1\" class=\"dataframe\">\n",
       "  <thead>\n",
       "    <tr style=\"text-align: right;\">\n",
       "      <th></th>\n",
       "      <th>user_id</th>\n",
       "      <th>age</th>\n",
       "      <th>churn_date</th>\n",
       "      <th>city</th>\n",
       "      <th>first_name</th>\n",
       "      <th>last_name</th>\n",
       "      <th>reg_date</th>\n",
       "      <th>tariff</th>\n",
       "    </tr>\n",
       "  </thead>\n",
       "  <tbody>\n",
       "    <tr>\n",
       "      <td>0</td>\n",
       "      <td>1000</td>\n",
       "      <td>52</td>\n",
       "      <td>NaN</td>\n",
       "      <td>Краснодар</td>\n",
       "      <td>Рафаил</td>\n",
       "      <td>Верещагин</td>\n",
       "      <td>2018-05-25</td>\n",
       "      <td>ultra</td>\n",
       "    </tr>\n",
       "    <tr>\n",
       "      <td>1</td>\n",
       "      <td>1001</td>\n",
       "      <td>41</td>\n",
       "      <td>NaN</td>\n",
       "      <td>Москва</td>\n",
       "      <td>Иван</td>\n",
       "      <td>Ежов</td>\n",
       "      <td>2018-11-01</td>\n",
       "      <td>smart</td>\n",
       "    </tr>\n",
       "    <tr>\n",
       "      <td>2</td>\n",
       "      <td>1002</td>\n",
       "      <td>59</td>\n",
       "      <td>NaN</td>\n",
       "      <td>Стерлитамак</td>\n",
       "      <td>Евгений</td>\n",
       "      <td>Абрамович</td>\n",
       "      <td>2018-06-17</td>\n",
       "      <td>smart</td>\n",
       "    </tr>\n",
       "    <tr>\n",
       "      <td>3</td>\n",
       "      <td>1003</td>\n",
       "      <td>23</td>\n",
       "      <td>NaN</td>\n",
       "      <td>Москва</td>\n",
       "      <td>Белла</td>\n",
       "      <td>Белякова</td>\n",
       "      <td>2018-08-17</td>\n",
       "      <td>ultra</td>\n",
       "    </tr>\n",
       "    <tr>\n",
       "      <td>4</td>\n",
       "      <td>1004</td>\n",
       "      <td>68</td>\n",
       "      <td>NaN</td>\n",
       "      <td>Новокузнецк</td>\n",
       "      <td>Татьяна</td>\n",
       "      <td>Авдеенко</td>\n",
       "      <td>2018-05-14</td>\n",
       "      <td>ultra</td>\n",
       "    </tr>\n",
       "  </tbody>\n",
       "</table>\n",
       "</div>"
      ],
      "text/plain": [
       "   user_id  age churn_date         city first_name  last_name    reg_date  \\\n",
       "0     1000   52        NaN    Краснодар     Рафаил  Верещагин  2018-05-25   \n",
       "1     1001   41        NaN       Москва       Иван       Ежов  2018-11-01   \n",
       "2     1002   59        NaN  Стерлитамак    Евгений  Абрамович  2018-06-17   \n",
       "3     1003   23        NaN       Москва      Белла   Белякова  2018-08-17   \n",
       "4     1004   68        NaN  Новокузнецк    Татьяна   Авдеенко  2018-05-14   \n",
       "\n",
       "  tariff  \n",
       "0  ultra  \n",
       "1  smart  \n",
       "2  smart  \n",
       "3  ultra  \n",
       "4  ultra  "
      ]
     },
     "metadata": {},
     "output_type": "display_data"
    },
    {
     "name": "stdout",
     "output_type": "stream",
     "text": [
      "\n",
      "<class 'pandas.core.frame.DataFrame'>\n",
      "RangeIndex: 500 entries, 0 to 499\n",
      "Data columns (total 8 columns):\n",
      "user_id       500 non-null int64\n",
      "age           500 non-null int64\n",
      "churn_date    38 non-null object\n",
      "city          500 non-null object\n",
      "first_name    500 non-null object\n",
      "last_name     500 non-null object\n",
      "reg_date      500 non-null object\n",
      "tariff        500 non-null object\n",
      "dtypes: int64(2), object(6)\n",
      "memory usage: 31.4+ KB\n"
     ]
    }
   ],
   "source": [
    "display(users.head())\n",
    "print()\n",
    "users.info()"
   ]
  },
  {
   "cell_type": "markdown",
   "metadata": {},
   "source": [
    "### Подготовка данных"
   ]
  },
  {
   "cell_type": "markdown",
   "metadata": {},
   "source": [
    "Методом **pd.to_datetime()** переведем значения столбцов с датами в таблицах в объекты **datetime**. Поскольку в таблицах у нас представлен только 2018 год, а для исследования дни недели не имеют значения, оставим только значения месяцев."
   ]
  },
  {
   "cell_type": "code",
   "execution_count": 8,
   "metadata": {},
   "outputs": [],
   "source": [
    "calls['call_date'] = pd.to_datetime(calls['call_date'], format='%Y-%m-%d').dt.month\n",
    "internet['session_date'] = pd.to_datetime(internet['session_date'], format='%Y-%m-%d').dt.month\n",
    "messages['message_date'] = pd.to_datetime(messages['message_date'], format='%Y-%m-%d').dt.month\n",
    "users['churn_date'] = pd.to_datetime(users['churn_date'], format='%Y-%m-%d').dt.month\n",
    "users['reg_date'] = pd.to_datetime(users['reg_date'], format='%Y-%m-%d').dt.month"
   ]
  },
  {
   "cell_type": "markdown",
   "metadata": {},
   "source": [
    "Поскольку «Мегалайн» всегда округляет секунды до минут, округлим с помощью **np.ceil** значения минут в соответствии с правилами тарифов \"Мегалайна\" в большую сторону."
   ]
  },
  {
   "cell_type": "code",
   "execution_count": 9,
   "metadata": {},
   "outputs": [],
   "source": [
    "calls['duration'] = np.ceil(calls['duration'])"
   ]
  },
  {
   "cell_type": "markdown",
   "metadata": {},
   "source": [
    "Посчитаем с помощью метода **groupby** для каждого пользователя:\n",
    "- количество сделанных звонков и израсходованных минут разговора по месяцам;\n",
    "- количество отправленных сообщений по месяцам;\n",
    "- объем израсходованного интернет-трафика по месяцам\n",
    "\n",
    "Методы **reset_index** и **colums** используем для устранение многоуровневых названий столбцов."
   ]
  },
  {
   "cell_type": "code",
   "execution_count": 10,
   "metadata": {},
   "outputs": [
    {
     "data": {
      "text/html": [
       "<div>\n",
       "<style scoped>\n",
       "    .dataframe tbody tr th:only-of-type {\n",
       "        vertical-align: middle;\n",
       "    }\n",
       "\n",
       "    .dataframe tbody tr th {\n",
       "        vertical-align: top;\n",
       "    }\n",
       "\n",
       "    .dataframe thead th {\n",
       "        text-align: right;\n",
       "    }\n",
       "</style>\n",
       "<table border=\"1\" class=\"dataframe\">\n",
       "  <thead>\n",
       "    <tr style=\"text-align: right;\">\n",
       "      <th></th>\n",
       "      <th>user_id</th>\n",
       "      <th>month</th>\n",
       "      <th>call_count</th>\n",
       "      <th>call_sum</th>\n",
       "    </tr>\n",
       "  </thead>\n",
       "  <tbody>\n",
       "    <tr>\n",
       "      <td>0</td>\n",
       "      <td>1000</td>\n",
       "      <td>5</td>\n",
       "      <td>22</td>\n",
       "      <td>159.0</td>\n",
       "    </tr>\n",
       "    <tr>\n",
       "      <td>1</td>\n",
       "      <td>1000</td>\n",
       "      <td>6</td>\n",
       "      <td>43</td>\n",
       "      <td>172.0</td>\n",
       "    </tr>\n",
       "    <tr>\n",
       "      <td>2</td>\n",
       "      <td>1000</td>\n",
       "      <td>7</td>\n",
       "      <td>47</td>\n",
       "      <td>340.0</td>\n",
       "    </tr>\n",
       "    <tr>\n",
       "      <td>3</td>\n",
       "      <td>1000</td>\n",
       "      <td>8</td>\n",
       "      <td>52</td>\n",
       "      <td>408.0</td>\n",
       "    </tr>\n",
       "    <tr>\n",
       "      <td>4</td>\n",
       "      <td>1000</td>\n",
       "      <td>9</td>\n",
       "      <td>58</td>\n",
       "      <td>466.0</td>\n",
       "    </tr>\n",
       "    <tr>\n",
       "      <td>...</td>\n",
       "      <td>...</td>\n",
       "      <td>...</td>\n",
       "      <td>...</td>\n",
       "      <td>...</td>\n",
       "    </tr>\n",
       "    <tr>\n",
       "      <td>3169</td>\n",
       "      <td>1498</td>\n",
       "      <td>10</td>\n",
       "      <td>41</td>\n",
       "      <td>247.0</td>\n",
       "    </tr>\n",
       "    <tr>\n",
       "      <td>3170</td>\n",
       "      <td>1499</td>\n",
       "      <td>9</td>\n",
       "      <td>9</td>\n",
       "      <td>70.0</td>\n",
       "    </tr>\n",
       "    <tr>\n",
       "      <td>3171</td>\n",
       "      <td>1499</td>\n",
       "      <td>10</td>\n",
       "      <td>68</td>\n",
       "      <td>449.0</td>\n",
       "    </tr>\n",
       "    <tr>\n",
       "      <td>3172</td>\n",
       "      <td>1499</td>\n",
       "      <td>11</td>\n",
       "      <td>74</td>\n",
       "      <td>612.0</td>\n",
       "    </tr>\n",
       "    <tr>\n",
       "      <td>3173</td>\n",
       "      <td>1499</td>\n",
       "      <td>12</td>\n",
       "      <td>69</td>\n",
       "      <td>492.0</td>\n",
       "    </tr>\n",
       "  </tbody>\n",
       "</table>\n",
       "<p>3174 rows × 4 columns</p>\n",
       "</div>"
      ],
      "text/plain": [
       "      user_id  month  call_count  call_sum\n",
       "0        1000      5          22     159.0\n",
       "1        1000      6          43     172.0\n",
       "2        1000      7          47     340.0\n",
       "3        1000      8          52     408.0\n",
       "4        1000      9          58     466.0\n",
       "...       ...    ...         ...       ...\n",
       "3169     1498     10          41     247.0\n",
       "3170     1499      9           9      70.0\n",
       "3171     1499     10          68     449.0\n",
       "3172     1499     11          74     612.0\n",
       "3173     1499     12          69     492.0\n",
       "\n",
       "[3174 rows x 4 columns]"
      ]
     },
     "execution_count": 10,
     "metadata": {},
     "output_type": "execute_result"
    }
   ],
   "source": [
    "calls_group = calls.groupby(['user_id', 'call_date']).agg({'duration': {'count', 'sum'}}).sort_values(by=['user_id', 'call_date']).reset_index(col_level = 0)\n",
    "calls_group.columns = [col[1] if col[1] else col[0] for col in calls_group.columns]\n",
    "calls_group.columns = ['user_id', 'month', 'call_count', 'call_sum']\n",
    "calls_group                            "
   ]
  },
  {
   "cell_type": "code",
   "execution_count": 11,
   "metadata": {},
   "outputs": [
    {
     "data": {
      "text/html": [
       "<div>\n",
       "<style scoped>\n",
       "    .dataframe tbody tr th:only-of-type {\n",
       "        vertical-align: middle;\n",
       "    }\n",
       "\n",
       "    .dataframe tbody tr th {\n",
       "        vertical-align: top;\n",
       "    }\n",
       "\n",
       "    .dataframe thead th {\n",
       "        text-align: right;\n",
       "    }\n",
       "</style>\n",
       "<table border=\"1\" class=\"dataframe\">\n",
       "  <thead>\n",
       "    <tr style=\"text-align: right;\">\n",
       "      <th></th>\n",
       "      <th>user_id</th>\n",
       "      <th>month</th>\n",
       "      <th>message_sum</th>\n",
       "    </tr>\n",
       "  </thead>\n",
       "  <tbody>\n",
       "    <tr>\n",
       "      <td>0</td>\n",
       "      <td>1000</td>\n",
       "      <td>5</td>\n",
       "      <td>22</td>\n",
       "    </tr>\n",
       "    <tr>\n",
       "      <td>1</td>\n",
       "      <td>1000</td>\n",
       "      <td>6</td>\n",
       "      <td>60</td>\n",
       "    </tr>\n",
       "    <tr>\n",
       "      <td>2</td>\n",
       "      <td>1000</td>\n",
       "      <td>7</td>\n",
       "      <td>75</td>\n",
       "    </tr>\n",
       "    <tr>\n",
       "      <td>3</td>\n",
       "      <td>1000</td>\n",
       "      <td>8</td>\n",
       "      <td>81</td>\n",
       "    </tr>\n",
       "    <tr>\n",
       "      <td>4</td>\n",
       "      <td>1000</td>\n",
       "      <td>9</td>\n",
       "      <td>57</td>\n",
       "    </tr>\n",
       "    <tr>\n",
       "      <td>...</td>\n",
       "      <td>...</td>\n",
       "      <td>...</td>\n",
       "      <td>...</td>\n",
       "    </tr>\n",
       "    <tr>\n",
       "      <td>2712</td>\n",
       "      <td>1498</td>\n",
       "      <td>10</td>\n",
       "      <td>42</td>\n",
       "    </tr>\n",
       "    <tr>\n",
       "      <td>2713</td>\n",
       "      <td>1499</td>\n",
       "      <td>9</td>\n",
       "      <td>11</td>\n",
       "    </tr>\n",
       "    <tr>\n",
       "      <td>2714</td>\n",
       "      <td>1499</td>\n",
       "      <td>10</td>\n",
       "      <td>48</td>\n",
       "    </tr>\n",
       "    <tr>\n",
       "      <td>2715</td>\n",
       "      <td>1499</td>\n",
       "      <td>11</td>\n",
       "      <td>59</td>\n",
       "    </tr>\n",
       "    <tr>\n",
       "      <td>2716</td>\n",
       "      <td>1499</td>\n",
       "      <td>12</td>\n",
       "      <td>66</td>\n",
       "    </tr>\n",
       "  </tbody>\n",
       "</table>\n",
       "<p>2717 rows × 3 columns</p>\n",
       "</div>"
      ],
      "text/plain": [
       "      user_id  month  message_sum\n",
       "0        1000      5           22\n",
       "1        1000      6           60\n",
       "2        1000      7           75\n",
       "3        1000      8           81\n",
       "4        1000      9           57\n",
       "...       ...    ...          ...\n",
       "2712     1498     10           42\n",
       "2713     1499      9           11\n",
       "2714     1499     10           48\n",
       "2715     1499     11           59\n",
       "2716     1499     12           66\n",
       "\n",
       "[2717 rows x 3 columns]"
      ]
     },
     "execution_count": 11,
     "metadata": {},
     "output_type": "execute_result"
    }
   ],
   "source": [
    "messages_group = messages.groupby(['user_id', 'message_date']).agg({'id': 'count'}).sort_values(by=['user_id', 'message_date']).reset_index()\n",
    "messages_group.columns = ['user_id', 'month', 'message_sum']\n",
    "messages_group"
   ]
  },
  {
   "cell_type": "markdown",
   "metadata": {},
   "source": [
    "Oбъем израсходованного интернет-трафика по месяцам также переведем в гигабаты, поскольку в тарифе ведется расчет в этой величине **(1 ГБ = 1024 МБ)**. Сделаем это с помощью **np.ceil** в соответствии с правилами тарифов \"Мегалайна\" в большую сторону."
   ]
  },
  {
   "cell_type": "code",
   "execution_count": 12,
   "metadata": {},
   "outputs": [
    {
     "data": {
      "text/html": [
       "<div>\n",
       "<style scoped>\n",
       "    .dataframe tbody tr th:only-of-type {\n",
       "        vertical-align: middle;\n",
       "    }\n",
       "\n",
       "    .dataframe tbody tr th {\n",
       "        vertical-align: top;\n",
       "    }\n",
       "\n",
       "    .dataframe thead th {\n",
       "        text-align: right;\n",
       "    }\n",
       "</style>\n",
       "<table border=\"1\" class=\"dataframe\">\n",
       "  <thead>\n",
       "    <tr style=\"text-align: right;\">\n",
       "      <th></th>\n",
       "      <th>user_id</th>\n",
       "      <th>month</th>\n",
       "      <th>gb_used</th>\n",
       "    </tr>\n",
       "  </thead>\n",
       "  <tbody>\n",
       "    <tr>\n",
       "      <td>0</td>\n",
       "      <td>1000</td>\n",
       "      <td>5</td>\n",
       "      <td>3.0</td>\n",
       "    </tr>\n",
       "    <tr>\n",
       "      <td>1</td>\n",
       "      <td>1000</td>\n",
       "      <td>6</td>\n",
       "      <td>23.0</td>\n",
       "    </tr>\n",
       "    <tr>\n",
       "      <td>2</td>\n",
       "      <td>1000</td>\n",
       "      <td>7</td>\n",
       "      <td>14.0</td>\n",
       "    </tr>\n",
       "    <tr>\n",
       "      <td>3</td>\n",
       "      <td>1000</td>\n",
       "      <td>8</td>\n",
       "      <td>14.0</td>\n",
       "    </tr>\n",
       "    <tr>\n",
       "      <td>4</td>\n",
       "      <td>1000</td>\n",
       "      <td>9</td>\n",
       "      <td>15.0</td>\n",
       "    </tr>\n",
       "    <tr>\n",
       "      <td>...</td>\n",
       "      <td>...</td>\n",
       "      <td>...</td>\n",
       "      <td>...</td>\n",
       "    </tr>\n",
       "    <tr>\n",
       "      <td>3198</td>\n",
       "      <td>1498</td>\n",
       "      <td>10</td>\n",
       "      <td>21.0</td>\n",
       "    </tr>\n",
       "    <tr>\n",
       "      <td>3199</td>\n",
       "      <td>1499</td>\n",
       "      <td>9</td>\n",
       "      <td>2.0</td>\n",
       "    </tr>\n",
       "    <tr>\n",
       "      <td>3200</td>\n",
       "      <td>1499</td>\n",
       "      <td>10</td>\n",
       "      <td>18.0</td>\n",
       "    </tr>\n",
       "    <tr>\n",
       "      <td>3201</td>\n",
       "      <td>1499</td>\n",
       "      <td>11</td>\n",
       "      <td>18.0</td>\n",
       "    </tr>\n",
       "    <tr>\n",
       "      <td>3202</td>\n",
       "      <td>1499</td>\n",
       "      <td>12</td>\n",
       "      <td>13.0</td>\n",
       "    </tr>\n",
       "  </tbody>\n",
       "</table>\n",
       "<p>3203 rows × 3 columns</p>\n",
       "</div>"
      ],
      "text/plain": [
       "      user_id  month  gb_used\n",
       "0        1000      5      3.0\n",
       "1        1000      6     23.0\n",
       "2        1000      7     14.0\n",
       "3        1000      8     14.0\n",
       "4        1000      9     15.0\n",
       "...       ...    ...      ...\n",
       "3198     1498     10     21.0\n",
       "3199     1499      9      2.0\n",
       "3200     1499     10     18.0\n",
       "3201     1499     11     18.0\n",
       "3202     1499     12     13.0\n",
       "\n",
       "[3203 rows x 3 columns]"
      ]
     },
     "execution_count": 12,
     "metadata": {},
     "output_type": "execute_result"
    }
   ],
   "source": [
    "internet_group = internet.groupby(['user_id', 'session_date']).agg({'mb_used': 'sum'}).sort_values(by=['user_id', 'session_date']).reset_index()\n",
    "internet_group['mb_used'] = np.ceil(internet_group['mb_used'] / 1024)\n",
    "internet_group.columns = ['user_id', 'month', 'gb_used']\n",
    "internet_group  "
   ]
  },
  {
   "cell_type": "markdown",
   "metadata": {},
   "source": [
    "Подготовим данные в таблице tariffs - переведем мегабайты в гигабайты на случаи изменения тарифной политики."
   ]
  },
  {
   "cell_type": "code",
   "execution_count": 13,
   "metadata": {},
   "outputs": [
    {
     "data": {
      "text/html": [
       "<div>\n",
       "<style scoped>\n",
       "    .dataframe tbody tr th:only-of-type {\n",
       "        vertical-align: middle;\n",
       "    }\n",
       "\n",
       "    .dataframe tbody tr th {\n",
       "        vertical-align: top;\n",
       "    }\n",
       "\n",
       "    .dataframe thead th {\n",
       "        text-align: right;\n",
       "    }\n",
       "</style>\n",
       "<table border=\"1\" class=\"dataframe\">\n",
       "  <thead>\n",
       "    <tr style=\"text-align: right;\">\n",
       "      <th></th>\n",
       "      <th>messages_included</th>\n",
       "      <th>mb_per_month_included</th>\n",
       "      <th>minutes_included</th>\n",
       "      <th>rub_monthly_fee</th>\n",
       "      <th>rub_per_gb</th>\n",
       "      <th>rub_per_message</th>\n",
       "      <th>rub_per_minute</th>\n",
       "      <th>tariff</th>\n",
       "      <th>gb_per_month_included</th>\n",
       "    </tr>\n",
       "  </thead>\n",
       "  <tbody>\n",
       "    <tr>\n",
       "      <td>0</td>\n",
       "      <td>50</td>\n",
       "      <td>15360</td>\n",
       "      <td>500</td>\n",
       "      <td>550</td>\n",
       "      <td>200</td>\n",
       "      <td>3</td>\n",
       "      <td>3</td>\n",
       "      <td>smart</td>\n",
       "      <td>15.0</td>\n",
       "    </tr>\n",
       "    <tr>\n",
       "      <td>1</td>\n",
       "      <td>1000</td>\n",
       "      <td>30720</td>\n",
       "      <td>3000</td>\n",
       "      <td>1950</td>\n",
       "      <td>150</td>\n",
       "      <td>1</td>\n",
       "      <td>1</td>\n",
       "      <td>ultra</td>\n",
       "      <td>30.0</td>\n",
       "    </tr>\n",
       "  </tbody>\n",
       "</table>\n",
       "</div>"
      ],
      "text/plain": [
       "   messages_included  mb_per_month_included  minutes_included  \\\n",
       "0                 50                  15360               500   \n",
       "1               1000                  30720              3000   \n",
       "\n",
       "   rub_monthly_fee  rub_per_gb  rub_per_message  rub_per_minute tariff  \\\n",
       "0              550         200                3               3  smart   \n",
       "1             1950         150                1               1  ultra   \n",
       "\n",
       "   gb_per_month_included  \n",
       "0                   15.0  \n",
       "1                   30.0  "
      ]
     },
     "execution_count": 13,
     "metadata": {},
     "output_type": "execute_result"
    }
   ],
   "source": [
    "tariffs['gb_per_month_included'] = tariffs['mb_per_month_included'] / 1024\n",
    "tariffs.rename(columns={'tariff_name': 'tariff'}, inplace=True)\n",
    "tariffs"
   ]
  },
  {
   "cell_type": "markdown",
   "metadata": {},
   "source": [
    "Объединим таблицы в одну методом **merge**"
   ]
  },
  {
   "cell_type": "code",
   "execution_count": 14,
   "metadata": {
    "scrolled": false
   },
   "outputs": [
    {
     "data": {
      "text/html": [
       "<div>\n",
       "<style scoped>\n",
       "    .dataframe tbody tr th:only-of-type {\n",
       "        vertical-align: middle;\n",
       "    }\n",
       "\n",
       "    .dataframe tbody tr th {\n",
       "        vertical-align: top;\n",
       "    }\n",
       "\n",
       "    .dataframe thead th {\n",
       "        text-align: right;\n",
       "    }\n",
       "</style>\n",
       "<table border=\"1\" class=\"dataframe\">\n",
       "  <thead>\n",
       "    <tr style=\"text-align: right;\">\n",
       "      <th></th>\n",
       "      <th>user_id</th>\n",
       "      <th>month</th>\n",
       "      <th>call_count</th>\n",
       "      <th>call_sum</th>\n",
       "      <th>message_sum</th>\n",
       "      <th>gb_used</th>\n",
       "      <th>age</th>\n",
       "      <th>churn_date</th>\n",
       "      <th>city</th>\n",
       "      <th>first_name</th>\n",
       "      <th>...</th>\n",
       "      <th>reg_date</th>\n",
       "      <th>tariff</th>\n",
       "      <th>messages_included</th>\n",
       "      <th>mb_per_month_included</th>\n",
       "      <th>minutes_included</th>\n",
       "      <th>rub_monthly_fee</th>\n",
       "      <th>rub_per_gb</th>\n",
       "      <th>rub_per_message</th>\n",
       "      <th>rub_per_minute</th>\n",
       "      <th>gb_per_month_included</th>\n",
       "    </tr>\n",
       "  </thead>\n",
       "  <tbody>\n",
       "    <tr>\n",
       "      <td>0</td>\n",
       "      <td>1000</td>\n",
       "      <td>5.0</td>\n",
       "      <td>22.0</td>\n",
       "      <td>159.0</td>\n",
       "      <td>22.0</td>\n",
       "      <td>3.0</td>\n",
       "      <td>52</td>\n",
       "      <td>0.0</td>\n",
       "      <td>Краснодар</td>\n",
       "      <td>Рафаил</td>\n",
       "      <td>...</td>\n",
       "      <td>5</td>\n",
       "      <td>ultra</td>\n",
       "      <td>1000</td>\n",
       "      <td>30720</td>\n",
       "      <td>3000</td>\n",
       "      <td>1950</td>\n",
       "      <td>150</td>\n",
       "      <td>1</td>\n",
       "      <td>1</td>\n",
       "      <td>30.0</td>\n",
       "    </tr>\n",
       "    <tr>\n",
       "      <td>1</td>\n",
       "      <td>1000</td>\n",
       "      <td>6.0</td>\n",
       "      <td>43.0</td>\n",
       "      <td>172.0</td>\n",
       "      <td>60.0</td>\n",
       "      <td>23.0</td>\n",
       "      <td>52</td>\n",
       "      <td>0.0</td>\n",
       "      <td>Краснодар</td>\n",
       "      <td>Рафаил</td>\n",
       "      <td>...</td>\n",
       "      <td>5</td>\n",
       "      <td>ultra</td>\n",
       "      <td>1000</td>\n",
       "      <td>30720</td>\n",
       "      <td>3000</td>\n",
       "      <td>1950</td>\n",
       "      <td>150</td>\n",
       "      <td>1</td>\n",
       "      <td>1</td>\n",
       "      <td>30.0</td>\n",
       "    </tr>\n",
       "    <tr>\n",
       "      <td>2</td>\n",
       "      <td>1000</td>\n",
       "      <td>7.0</td>\n",
       "      <td>47.0</td>\n",
       "      <td>340.0</td>\n",
       "      <td>75.0</td>\n",
       "      <td>14.0</td>\n",
       "      <td>52</td>\n",
       "      <td>0.0</td>\n",
       "      <td>Краснодар</td>\n",
       "      <td>Рафаил</td>\n",
       "      <td>...</td>\n",
       "      <td>5</td>\n",
       "      <td>ultra</td>\n",
       "      <td>1000</td>\n",
       "      <td>30720</td>\n",
       "      <td>3000</td>\n",
       "      <td>1950</td>\n",
       "      <td>150</td>\n",
       "      <td>1</td>\n",
       "      <td>1</td>\n",
       "      <td>30.0</td>\n",
       "    </tr>\n",
       "    <tr>\n",
       "      <td>3</td>\n",
       "      <td>1000</td>\n",
       "      <td>8.0</td>\n",
       "      <td>52.0</td>\n",
       "      <td>408.0</td>\n",
       "      <td>81.0</td>\n",
       "      <td>14.0</td>\n",
       "      <td>52</td>\n",
       "      <td>0.0</td>\n",
       "      <td>Краснодар</td>\n",
       "      <td>Рафаил</td>\n",
       "      <td>...</td>\n",
       "      <td>5</td>\n",
       "      <td>ultra</td>\n",
       "      <td>1000</td>\n",
       "      <td>30720</td>\n",
       "      <td>3000</td>\n",
       "      <td>1950</td>\n",
       "      <td>150</td>\n",
       "      <td>1</td>\n",
       "      <td>1</td>\n",
       "      <td>30.0</td>\n",
       "    </tr>\n",
       "    <tr>\n",
       "      <td>4</td>\n",
       "      <td>1000</td>\n",
       "      <td>9.0</td>\n",
       "      <td>58.0</td>\n",
       "      <td>466.0</td>\n",
       "      <td>57.0</td>\n",
       "      <td>15.0</td>\n",
       "      <td>52</td>\n",
       "      <td>0.0</td>\n",
       "      <td>Краснодар</td>\n",
       "      <td>Рафаил</td>\n",
       "      <td>...</td>\n",
       "      <td>5</td>\n",
       "      <td>ultra</td>\n",
       "      <td>1000</td>\n",
       "      <td>30720</td>\n",
       "      <td>3000</td>\n",
       "      <td>1950</td>\n",
       "      <td>150</td>\n",
       "      <td>1</td>\n",
       "      <td>1</td>\n",
       "      <td>30.0</td>\n",
       "    </tr>\n",
       "  </tbody>\n",
       "</table>\n",
       "<p>5 rows × 21 columns</p>\n",
       "</div>"
      ],
      "text/plain": [
       "   user_id  month  call_count  call_sum  message_sum  gb_used  age  \\\n",
       "0     1000    5.0        22.0     159.0         22.0      3.0   52   \n",
       "1     1000    6.0        43.0     172.0         60.0     23.0   52   \n",
       "2     1000    7.0        47.0     340.0         75.0     14.0   52   \n",
       "3     1000    8.0        52.0     408.0         81.0     14.0   52   \n",
       "4     1000    9.0        58.0     466.0         57.0     15.0   52   \n",
       "\n",
       "   churn_date       city first_name  ... reg_date  tariff messages_included  \\\n",
       "0         0.0  Краснодар     Рафаил  ...        5   ultra              1000   \n",
       "1         0.0  Краснодар     Рафаил  ...        5   ultra              1000   \n",
       "2         0.0  Краснодар     Рафаил  ...        5   ultra              1000   \n",
       "3         0.0  Краснодар     Рафаил  ...        5   ultra              1000   \n",
       "4         0.0  Краснодар     Рафаил  ...        5   ultra              1000   \n",
       "\n",
       "   mb_per_month_included  minutes_included  rub_monthly_fee  rub_per_gb  \\\n",
       "0                  30720              3000             1950         150   \n",
       "1                  30720              3000             1950         150   \n",
       "2                  30720              3000             1950         150   \n",
       "3                  30720              3000             1950         150   \n",
       "4                  30720              3000             1950         150   \n",
       "\n",
       "   rub_per_message  rub_per_minute  gb_per_month_included  \n",
       "0                1               1                   30.0  \n",
       "1                1               1                   30.0  \n",
       "2                1               1                   30.0  \n",
       "3                1               1                   30.0  \n",
       "4                1               1                   30.0  \n",
       "\n",
       "[5 rows x 21 columns]"
      ]
     },
     "execution_count": 14,
     "metadata": {},
     "output_type": "execute_result"
    }
   ],
   "source": [
    "data = calls_group.merge(messages_group, on = ['user_id', 'month'], how = 'outer')\n",
    "data = data.merge(internet_group, on = ['user_id', 'month'], how = 'outer')\n",
    "data = data.merge(users, on = ['user_id'], how = 'outer')\n",
    "data = data.merge(tariffs, on = ['tariff'], how = 'outer')\n",
    "data = data.fillna(0)\n",
    "\n",
    "data.head()"
   ]
  },
  {
   "cell_type": "markdown",
   "metadata": {},
   "source": [
    "Посчитаем для каждого пользователя помесячную выручку с каждого пользователя. Для этого: \n",
    "\n",
    "- вычтем бесплатный лимит из суммарного количества звонков, сообщений и интернет-трафика; \n",
    "- остаток умножим на значение из тарифного плана; \n",
    "- прибавим абонентскую плату, соответствующую тарифному плану."
   ]
  },
  {
   "cell_type": "code",
   "execution_count": 15,
   "metadata": {},
   "outputs": [],
   "source": [
    "def income_counter(row):\n",
    "    income = row['rub_monthly_fee']\n",
    "    if row['call_sum'] > row['minutes_included']:\n",
    "        income+= (row['call_sum'] - row['minutes_included']) * row['rub_per_minute']\n",
    "    if row['message_sum'] > row['messages_included']:\n",
    "        income+= (row['message_sum'] - row['messages_included']) * row['rub_per_message']\n",
    "    if row['gb_used'] > row['gb_per_month_included']:\n",
    "        income+= (row['gb_used'] - row['gb_per_month_included']) * row['rub_per_gb']\n",
    "    return income\n",
    "data['income'] = data.apply(income_counter, axis=1)"
   ]
  },
  {
   "cell_type": "code",
   "execution_count": 16,
   "metadata": {
    "scrolled": true
   },
   "outputs": [
    {
     "data": {
      "text/html": [
       "<div>\n",
       "<style scoped>\n",
       "    .dataframe tbody tr th:only-of-type {\n",
       "        vertical-align: middle;\n",
       "    }\n",
       "\n",
       "    .dataframe tbody tr th {\n",
       "        vertical-align: top;\n",
       "    }\n",
       "\n",
       "    .dataframe thead th {\n",
       "        text-align: right;\n",
       "    }\n",
       "</style>\n",
       "<table border=\"1\" class=\"dataframe\">\n",
       "  <thead>\n",
       "    <tr style=\"text-align: right;\">\n",
       "      <th></th>\n",
       "      <th>user_id</th>\n",
       "      <th>month</th>\n",
       "      <th>call_count</th>\n",
       "      <th>call_sum</th>\n",
       "      <th>message_sum</th>\n",
       "      <th>gb_used</th>\n",
       "      <th>age</th>\n",
       "      <th>churn_date</th>\n",
       "      <th>city</th>\n",
       "      <th>first_name</th>\n",
       "      <th>...</th>\n",
       "      <th>tariff</th>\n",
       "      <th>messages_included</th>\n",
       "      <th>mb_per_month_included</th>\n",
       "      <th>minutes_included</th>\n",
       "      <th>rub_monthly_fee</th>\n",
       "      <th>rub_per_gb</th>\n",
       "      <th>rub_per_message</th>\n",
       "      <th>rub_per_minute</th>\n",
       "      <th>gb_per_month_included</th>\n",
       "      <th>income</th>\n",
       "    </tr>\n",
       "  </thead>\n",
       "  <tbody>\n",
       "    <tr>\n",
       "      <td>0</td>\n",
       "      <td>1000</td>\n",
       "      <td>5.0</td>\n",
       "      <td>22.0</td>\n",
       "      <td>159.0</td>\n",
       "      <td>22.0</td>\n",
       "      <td>3.0</td>\n",
       "      <td>52</td>\n",
       "      <td>0.0</td>\n",
       "      <td>Краснодар</td>\n",
       "      <td>Рафаил</td>\n",
       "      <td>...</td>\n",
       "      <td>ultra</td>\n",
       "      <td>1000</td>\n",
       "      <td>30720</td>\n",
       "      <td>3000</td>\n",
       "      <td>1950</td>\n",
       "      <td>150</td>\n",
       "      <td>1</td>\n",
       "      <td>1</td>\n",
       "      <td>30.0</td>\n",
       "      <td>1950.0</td>\n",
       "    </tr>\n",
       "    <tr>\n",
       "      <td>1</td>\n",
       "      <td>1000</td>\n",
       "      <td>6.0</td>\n",
       "      <td>43.0</td>\n",
       "      <td>172.0</td>\n",
       "      <td>60.0</td>\n",
       "      <td>23.0</td>\n",
       "      <td>52</td>\n",
       "      <td>0.0</td>\n",
       "      <td>Краснодар</td>\n",
       "      <td>Рафаил</td>\n",
       "      <td>...</td>\n",
       "      <td>ultra</td>\n",
       "      <td>1000</td>\n",
       "      <td>30720</td>\n",
       "      <td>3000</td>\n",
       "      <td>1950</td>\n",
       "      <td>150</td>\n",
       "      <td>1</td>\n",
       "      <td>1</td>\n",
       "      <td>30.0</td>\n",
       "      <td>1950.0</td>\n",
       "    </tr>\n",
       "    <tr>\n",
       "      <td>2</td>\n",
       "      <td>1000</td>\n",
       "      <td>7.0</td>\n",
       "      <td>47.0</td>\n",
       "      <td>340.0</td>\n",
       "      <td>75.0</td>\n",
       "      <td>14.0</td>\n",
       "      <td>52</td>\n",
       "      <td>0.0</td>\n",
       "      <td>Краснодар</td>\n",
       "      <td>Рафаил</td>\n",
       "      <td>...</td>\n",
       "      <td>ultra</td>\n",
       "      <td>1000</td>\n",
       "      <td>30720</td>\n",
       "      <td>3000</td>\n",
       "      <td>1950</td>\n",
       "      <td>150</td>\n",
       "      <td>1</td>\n",
       "      <td>1</td>\n",
       "      <td>30.0</td>\n",
       "      <td>1950.0</td>\n",
       "    </tr>\n",
       "    <tr>\n",
       "      <td>3</td>\n",
       "      <td>1000</td>\n",
       "      <td>8.0</td>\n",
       "      <td>52.0</td>\n",
       "      <td>408.0</td>\n",
       "      <td>81.0</td>\n",
       "      <td>14.0</td>\n",
       "      <td>52</td>\n",
       "      <td>0.0</td>\n",
       "      <td>Краснодар</td>\n",
       "      <td>Рафаил</td>\n",
       "      <td>...</td>\n",
       "      <td>ultra</td>\n",
       "      <td>1000</td>\n",
       "      <td>30720</td>\n",
       "      <td>3000</td>\n",
       "      <td>1950</td>\n",
       "      <td>150</td>\n",
       "      <td>1</td>\n",
       "      <td>1</td>\n",
       "      <td>30.0</td>\n",
       "      <td>1950.0</td>\n",
       "    </tr>\n",
       "    <tr>\n",
       "      <td>4</td>\n",
       "      <td>1000</td>\n",
       "      <td>9.0</td>\n",
       "      <td>58.0</td>\n",
       "      <td>466.0</td>\n",
       "      <td>57.0</td>\n",
       "      <td>15.0</td>\n",
       "      <td>52</td>\n",
       "      <td>0.0</td>\n",
       "      <td>Краснодар</td>\n",
       "      <td>Рафаил</td>\n",
       "      <td>...</td>\n",
       "      <td>ultra</td>\n",
       "      <td>1000</td>\n",
       "      <td>30720</td>\n",
       "      <td>3000</td>\n",
       "      <td>1950</td>\n",
       "      <td>150</td>\n",
       "      <td>1</td>\n",
       "      <td>1</td>\n",
       "      <td>30.0</td>\n",
       "      <td>1950.0</td>\n",
       "    </tr>\n",
       "  </tbody>\n",
       "</table>\n",
       "<p>5 rows × 22 columns</p>\n",
       "</div>"
      ],
      "text/plain": [
       "   user_id  month  call_count  call_sum  message_sum  gb_used  age  \\\n",
       "0     1000    5.0        22.0     159.0         22.0      3.0   52   \n",
       "1     1000    6.0        43.0     172.0         60.0     23.0   52   \n",
       "2     1000    7.0        47.0     340.0         75.0     14.0   52   \n",
       "3     1000    8.0        52.0     408.0         81.0     14.0   52   \n",
       "4     1000    9.0        58.0     466.0         57.0     15.0   52   \n",
       "\n",
       "   churn_date       city first_name  ... tariff  messages_included  \\\n",
       "0         0.0  Краснодар     Рафаил  ...  ultra               1000   \n",
       "1         0.0  Краснодар     Рафаил  ...  ultra               1000   \n",
       "2         0.0  Краснодар     Рафаил  ...  ultra               1000   \n",
       "3         0.0  Краснодар     Рафаил  ...  ultra               1000   \n",
       "4         0.0  Краснодар     Рафаил  ...  ultra               1000   \n",
       "\n",
       "  mb_per_month_included  minutes_included  rub_monthly_fee  rub_per_gb  \\\n",
       "0                 30720              3000             1950         150   \n",
       "1                 30720              3000             1950         150   \n",
       "2                 30720              3000             1950         150   \n",
       "3                 30720              3000             1950         150   \n",
       "4                 30720              3000             1950         150   \n",
       "\n",
       "   rub_per_message  rub_per_minute  gb_per_month_included  income  \n",
       "0                1               1                   30.0  1950.0  \n",
       "1                1               1                   30.0  1950.0  \n",
       "2                1               1                   30.0  1950.0  \n",
       "3                1               1                   30.0  1950.0  \n",
       "4                1               1                   30.0  1950.0  \n",
       "\n",
       "[5 rows x 22 columns]"
      ]
     },
     "execution_count": 16,
     "metadata": {},
     "output_type": "execute_result"
    }
   ],
   "source": [
    "data.head()"
   ]
  },
  {
   "cell_type": "markdown",
   "metadata": {},
   "source": [
    "### Анализ данных"
   ]
  },
  {
   "cell_type": "markdown",
   "metadata": {},
   "source": [
    "Опишем поведение клиентов оператора, исходя из выборки. \n",
    "\n",
    "Для этого посчитаем среднее количество, дисперсию и стандартное отклонение (обозначим их как **_mean, _var, _std** соответственно) для продолжительности разговора, количества сообщений и объёма интернет-трафика для каждого тарифа в месяц. Используемые методы - **groupby(), np.var() и np.sqrt()**"
   ]
  },
  {
   "cell_type": "code",
   "execution_count": 17,
   "metadata": {},
   "outputs": [],
   "source": [
    "data_ultra = data.query('tariff == \"ultra\"')\n",
    "data_smart = data.query('tariff == \"smart\"')"
   ]
  },
  {
   "cell_type": "code",
   "execution_count": 18,
   "metadata": {},
   "outputs": [
    {
     "data": {
      "text/html": [
       "<div>\n",
       "<style scoped>\n",
       "    .dataframe tbody tr th:only-of-type {\n",
       "        vertical-align: middle;\n",
       "    }\n",
       "\n",
       "    .dataframe tbody tr th {\n",
       "        vertical-align: top;\n",
       "    }\n",
       "\n",
       "    .dataframe thead th {\n",
       "        text-align: right;\n",
       "    }\n",
       "</style>\n",
       "<table border=\"1\" class=\"dataframe\">\n",
       "  <thead>\n",
       "    <tr style=\"text-align: right;\">\n",
       "      <th></th>\n",
       "      <th>call_mean</th>\n",
       "      <th>message_mean</th>\n",
       "      <th>gb_mean</th>\n",
       "      <th>call_var</th>\n",
       "      <th>message_var</th>\n",
       "      <th>gb_var</th>\n",
       "      <th>call_std</th>\n",
       "      <th>message_std</th>\n",
       "      <th>gb_std</th>\n",
       "    </tr>\n",
       "    <tr>\n",
       "      <th>tariff</th>\n",
       "      <th></th>\n",
       "      <th></th>\n",
       "      <th></th>\n",
       "      <th></th>\n",
       "      <th></th>\n",
       "      <th></th>\n",
       "      <th></th>\n",
       "      <th></th>\n",
       "      <th></th>\n",
       "    </tr>\n",
       "  </thead>\n",
       "  <tbody>\n",
       "    <tr>\n",
       "      <td>smart</td>\n",
       "      <td>417</td>\n",
       "      <td>33</td>\n",
       "      <td>16</td>\n",
       "      <td>36265.124153</td>\n",
       "      <td>796.597877</td>\n",
       "      <td>33.118595</td>\n",
       "      <td>190.434041</td>\n",
       "      <td>28.224066</td>\n",
       "      <td>5.754876</td>\n",
       "    </tr>\n",
       "    <tr>\n",
       "      <td>ultra</td>\n",
       "      <td>526</td>\n",
       "      <td>49</td>\n",
       "      <td>19</td>\n",
       "      <td>100950.006233</td>\n",
       "      <td>2283.099557</td>\n",
       "      <td>97.279783</td>\n",
       "      <td>317.726307</td>\n",
       "      <td>47.781791</td>\n",
       "      <td>9.863051</td>\n",
       "    </tr>\n",
       "  </tbody>\n",
       "</table>\n",
       "</div>"
      ],
      "text/plain": [
       "        call_mean  message_mean  gb_mean       call_var  message_var  \\\n",
       "tariff                                                                 \n",
       "smart         417            33       16   36265.124153   796.597877   \n",
       "ultra         526            49       19  100950.006233  2283.099557   \n",
       "\n",
       "           gb_var    call_std  message_std    gb_std  \n",
       "tariff                                                \n",
       "smart   33.118595  190.434041    28.224066  5.754876  \n",
       "ultra   97.279783  317.726307    47.781791  9.863051  "
      ]
     },
     "execution_count": 18,
     "metadata": {},
     "output_type": "execute_result"
    }
   ],
   "source": [
    "data_grouped = data.groupby('tariff').agg({'call_sum': 'mean', 'message_sum': 'mean', 'gb_used': 'mean'}).astype('int')\n",
    "data_grouped.columns = ['call_mean', 'message_mean', 'gb_mean']\n",
    "\n",
    "data_grouped['call_var'] = [np.var(data_smart['call_sum']), np.var(data_ultra['call_sum'])]\n",
    "data_grouped['message_var'] = [np.var(data_smart['message_sum']), np.var(data_ultra['message_sum'])]\n",
    "data_grouped['gb_var'] = [np.var(data_smart['gb_used']), np.var(data_ultra['gb_used'])]\n",
    "\n",
    "data_grouped['call_std'] = np.sqrt(data_grouped['call_var'])\n",
    "data_grouped['message_std'] = np.sqrt(data_grouped['message_var'])\n",
    "data_grouped['gb_std'] = np.sqrt(data_grouped['gb_var'])\n",
    "\n",
    "data_grouped"
   ]
  },
  {
   "cell_type": "markdown",
   "metadata": {},
   "source": [
    "Пострим **гистограммы.** Параметр **range** зададим автоатически с помощью расчета интерквартильного размаха."
   ]
  },
  {
   "cell_type": "code",
   "execution_count": 19,
   "metadata": {},
   "outputs": [
    {
     "data": {
      "image/png": "[encoded data removed]",
      "text/plain": [
       "<Figure size 432x288 with 1 Axes>"
      ]
     },
     "metadata": {
      "needs_background": "light"
     },
     "output_type": "display_data"
    },
    {
     "data": {
      "image/png": "[encoded data removed]",
      "text/plain": [
       "<Figure size 432x288 with 1 Axes>"
      ]
     },
     "metadata": {
      "needs_background": "light"
     },
     "output_type": "display_data"
    },
    {
     "data": {
      "image/png": "[encoded data removed]",
      "text/plain": [
       "<Figure size 432x288 with 1 Axes>"
      ]
     },
     "metadata": {
      "needs_background": "light"
     },
     "output_type": "display_data"
    }
   ],
   "source": [
    "columns_hist = ['call_sum', 'gb_used', 'message_sum']\n",
    "\n",
    "for i in columns_hist:\n",
    "    q1 = data_ultra[i].quantile(0.25)\n",
    "    q3 = data_ultra[i].quantile(0.75)\n",
    "    iqr = q3 - q1\n",
    "    fence_low  = q1-1.5*iqr\n",
    "    fence_high = q3+1.5*iqr\n",
    "    data_ultra[i].hist(bins=50, range = (fence_low, fence_high), alpha=0.9)\n",
    "    data_smart[i].hist(bins=50, range = (fence_low, fence_high), alpha=0.5)\n",
    "    plt.title(i)\n",
    "    plt.show()"
   ]
  },
  {
   "cell_type": "markdown",
   "metadata": {},
   "source": [
    "Данные по пользователям тарифа **smart** более симметричны, в то время как данные по тарифу **ultra** распределены вправо, то есть имеют больше дополнительных (отличных от средних) положительных значений."
   ]
  },
  {
   "cell_type": "markdown",
   "metadata": {},
   "source": [
    "### Проверка гипотез"
   ]
  },
  {
   "cell_type": "markdown",
   "metadata": {},
   "source": [
    "Проверим гипотезы\n",
    "- средняя выручка пользователей тарифов «Ультра» и «Смарт» различаются;\n",
    "- средняя выручка пользователей из Москвы отличается от выручки пользователей из других регионов.\n",
    "\n",
    "Пороговое значение alpha укажем 0,5."
   ]
  },
  {
   "cell_type": "markdown",
   "metadata": {},
   "source": [
    "**Поскольку нулевая гипотеза `p-value < alpha` всегда о том, что различий нет указанные выше гипотезы обозначим как альтернативные. Тогда как нулевые гипотезы сформулируем так:**\n",
    "\n",
    "**- средняя выручка пользователей тарифов «Ультра» и «Смарт» не различаются;**\n",
    "\n",
    "**- средняя выручка пользователей из Москвы не отличается от выручки пользователей из других регионов.**"
   ]
  },
  {
   "cell_type": "code",
   "execution_count": 24,
   "metadata": {},
   "outputs": [
    {
     "name": "stdout",
     "output_type": "stream",
     "text": [
      "p-значение:  8.081909555489933e-161\n",
      "Отвергаем нулевую гипотезу\n"
     ]
    }
   ],
   "source": [
    "sample_1 = data_smart['income']\n",
    "sample_2 = data_ultra['income']\n",
    "\n",
    "alpha = .05 \n",
    "\n",
    "results = st.ttest_ind(\n",
    "    sample_1, \n",
    "    sample_2)\n",
    "\n",
    "print('p-значение: ', results.pvalue)\n",
    "\n",
    "if results.pvalue < alpha:\n",
    "    print(\"Отвергаем нулевую гипотезу\")\n",
    "else:\n",
    "    print(\"Не получилось отвергнуть нулевую гипотезу\") "
   ]
  },
  {
   "cell_type": "markdown",
   "metadata": {},
   "source": [
    "**Вывод:** Вероятность получить одинаковое среднее очень мало, поэтому подтверждаем  **альтернативную** гипотезу, что средняя выручка пользователей тарифов «Ультра» и «Смарт» различаются. Проверим насколько:"
   ]
  },
  {
   "cell_type": "code",
   "execution_count": 21,
   "metadata": {},
   "outputs": [
    {
     "data": {
      "text/plain": [
       "count    2230.000000\n",
       "mean     1289.641704\n",
       "std       818.370799\n",
       "min       550.000000\n",
       "25%       550.000000\n",
       "50%      1021.000000\n",
       "75%      1750.000000\n",
       "max      6770.000000\n",
       "Name: income, dtype: float64"
      ]
     },
     "metadata": {},
     "output_type": "display_data"
    },
    {
     "name": "stdout",
     "output_type": "stream",
     "text": [
      "Доход по тарифу smart: 2875901.0\n"
     ]
    }
   ],
   "source": [
    "display(data_smart['income'].describe())\n",
    "print('Доход по тарифу smart:', data_smart['income'].sum())"
   ]
  },
  {
   "cell_type": "code",
   "execution_count": 22,
   "metadata": {
    "scrolled": true
   },
   "outputs": [
    {
     "data": {
      "text/plain": [
       "count     986.000000\n",
       "mean     2070.030426\n",
       "std       376.015578\n",
       "min      1950.000000\n",
       "25%      1950.000000\n",
       "50%      1950.000000\n",
       "75%      1950.000000\n",
       "max      4800.000000\n",
       "Name: income, dtype: float64"
      ]
     },
     "metadata": {},
     "output_type": "display_data"
    },
    {
     "name": "stdout",
     "output_type": "stream",
     "text": [
      "Доход по тарифу ultra: 2041050.0\n"
     ]
    }
   ],
   "source": [
    "display(data_ultra['income'].describe())\n",
    "print('Доход по тарифу ultra:', data_ultra['income'].sum())"
   ]
  },
  {
   "cell_type": "code",
   "execution_count": 25,
   "metadata": {},
   "outputs": [
    {
     "name": "stdout",
     "output_type": "stream",
     "text": [
      "p-значение:  0.5400751614511182\n",
      "Не получилось отвергнуть нулевую гипотезу\n"
     ]
    }
   ],
   "source": [
    "sample_1 = data.query('city == \"Москва\"')['income']\n",
    "sample_2 =  data.query('city != \"Москва\"')['income']\n",
    "\n",
    "alpha = .05 \n",
    "\n",
    "results = st.ttest_ind(\n",
    "    sample_1, \n",
    "    sample_2)\n",
    "\n",
    "print('p-значение: ', results.pvalue)\n",
    "\n",
    "if results.pvalue < alpha:\n",
    "    print(\"Отвергаем нулевую гипотезу\")\n",
    "else:\n",
    "    print(\"Не получилось отвергнуть нулевую гипотезу\") "
   ]
  },
  {
   "cell_type": "markdown",
   "metadata": {},
   "source": [
    "**Вывод:** Вероятность получить одинаковое среднее достаточно велико (29 процентов), поэтому **подтверждаем нулевую гипотезу** и отвергаем предположение, что средняя выручка пользователей из Москвы отличается от выручки пользователей из других регионов"
   ]
  },
  {
   "cell_type": "markdown",
   "metadata": {},
   "source": [
    "## Вывод"
   ]
  },
  {
   "cell_type": "markdown",
   "metadata": {},
   "source": [
    "Среднее использование пользователями тарифа ultra (минут, гигабайт и сообщений) выше, чем у тарифа smart. Вместе с тем, для оператора тариф smart более прибыльный (общий доход 2597684 против 2041050 на ultra), поскольку он более популярен. Однако тариф ultra позволяет охватить пользователей, которые готовы больше пользоваться услугами оператора и имеют больший средний чек. Гипотеза о том, что средняя выручка пользователей из Москвы отличается от выручки пользователей из других регионов в ходе исследования не подтвердилась.\n",
    " \n",
    " "
   ]
  }
 ],
 "metadata": {
  "ExecuteTimeLog": [
   {
    "duration": 3204,
    "start_time": "2022-01-11T20:05:40.575Z"
   },
   {
    "duration": 2269,
    "start_time": "2022-01-11T20:06:21.903Z"
   },
   {
    "duration": 502,
    "start_time": "2022-01-11T20:06:45.725Z"
   },
   {
    "duration": 46,
    "start_time": "2022-01-11T20:07:03.129Z"
   },
   {
    "duration": 30,
    "start_time": "2022-01-11T20:07:14.569Z"
   },
   {
    "duration": 28,
    "start_time": "2022-01-11T20:07:31.872Z"
   },
   {
    "duration": 16,
    "start_time": "2022-01-11T20:07:44.561Z"
   },
   {
    "duration": 19,
    "start_time": "2022-01-11T20:07:55.779Z"
   },
   {
    "duration": 60,
    "start_time": "2022-01-11T20:33:44.189Z"
   },
   {
    "duration": 19,
    "start_time": "2022-01-11T20:33:56.962Z"
   },
   {
    "duration": 64,
    "start_time": "2022-01-11T20:37:17.981Z"
   },
   {
    "duration": 10,
    "start_time": "2022-01-11T20:39:43.743Z"
   },
   {
    "duration": 463,
    "start_time": "2022-01-12T05:40:03.195Z"
   },
   {
    "duration": 944,
    "start_time": "2022-01-12T05:40:10.856Z"
   },
   {
    "duration": 65,
    "start_time": "2022-01-12T05:40:17.629Z"
   },
   {
    "duration": 18,
    "start_time": "2022-01-12T05:40:18.804Z"
   },
   {
    "duration": 12,
    "start_time": "2022-01-12T05:40:30.971Z"
   },
   {
    "duration": 11,
    "start_time": "2022-01-12T05:40:37.677Z"
   },
   {
    "duration": 6,
    "start_time": "2022-01-12T05:40:42.762Z"
   },
   {
    "duration": 360,
    "start_time": "2022-01-12T05:42:07.208Z"
   },
   {
    "duration": 7,
    "start_time": "2022-01-12T05:42:12.833Z"
   },
   {
    "duration": 54,
    "start_time": "2022-01-12T05:42:18.547Z"
   },
   {
    "duration": 78,
    "start_time": "2022-01-12T05:42:25.120Z"
   },
   {
    "duration": 16,
    "start_time": "2022-01-12T06:14:17.546Z"
   },
   {
    "duration": 13,
    "start_time": "2022-01-12T06:16:55.660Z"
   },
   {
    "duration": 10,
    "start_time": "2022-01-12T06:17:33.868Z"
   },
   {
    "duration": 8,
    "start_time": "2022-01-12T06:18:13.919Z"
   },
   {
    "duration": 6,
    "start_time": "2022-01-12T06:18:54.982Z"
   },
   {
    "duration": 7,
    "start_time": "2022-01-12T06:19:28.554Z"
   },
   {
    "duration": 15,
    "start_time": "2022-01-12T06:20:11.531Z"
   },
   {
    "duration": 8,
    "start_time": "2022-01-12T06:20:12.656Z"
   },
   {
    "duration": 6,
    "start_time": "2022-01-12T06:31:53.811Z"
   },
   {
    "duration": 6,
    "start_time": "2022-01-12T06:32:10.799Z"
   },
   {
    "duration": 389,
    "start_time": "2022-01-12T06:37:49.086Z"
   },
   {
    "duration": 60,
    "start_time": "2022-01-12T06:38:02.630Z"
   },
   {
    "duration": 6,
    "start_time": "2022-01-12T06:38:34.671Z"
   },
   {
    "duration": 7,
    "start_time": "2022-01-12T06:38:53.954Z"
   },
   {
    "duration": 5,
    "start_time": "2022-01-12T06:39:08.533Z"
   },
   {
    "duration": 93,
    "start_time": "2022-01-12T06:42:11.602Z"
   },
   {
    "duration": 2019,
    "start_time": "2022-01-12T09:05:57.364Z"
   },
   {
    "duration": 1381,
    "start_time": "2022-01-12T09:06:19.858Z"
   },
   {
    "duration": 428,
    "start_time": "2022-01-12T09:06:27.965Z"
   },
   {
    "duration": 1450,
    "start_time": "2022-01-12T09:06:33.276Z"
   },
   {
    "duration": 1447,
    "start_time": "2022-01-12T09:06:45.336Z"
   },
   {
    "duration": 434,
    "start_time": "2022-01-12T09:07:56.461Z"
   },
   {
    "duration": 3559,
    "start_time": "2022-01-12T09:10:02.246Z"
   },
   {
    "duration": 66,
    "start_time": "2022-01-12T09:10:11.081Z"
   },
   {
    "duration": 16,
    "start_time": "2022-01-12T09:11:09.900Z"
   },
   {
    "duration": 9,
    "start_time": "2022-01-12T09:11:27.920Z"
   },
   {
    "duration": 14,
    "start_time": "2022-01-12T09:11:42.506Z"
   },
   {
    "duration": 379,
    "start_time": "2022-01-12T09:11:56.607Z"
   },
   {
    "duration": 60,
    "start_time": "2022-01-12T09:12:00.708Z"
   },
   {
    "duration": 14,
    "start_time": "2022-01-12T09:12:02.778Z"
   },
   {
    "duration": 8,
    "start_time": "2022-01-12T09:12:07.228Z"
   },
   {
    "duration": 1424,
    "start_time": "2022-01-12T09:12:51.554Z"
   },
   {
    "duration": 1368,
    "start_time": "2022-01-12T09:18:53.523Z"
   },
   {
    "duration": 317,
    "start_time": "2022-01-12T09:39:12.625Z"
   },
   {
    "duration": 2965,
    "start_time": "2022-01-12T09:44:16.814Z"
   },
   {
    "duration": 2348,
    "start_time": "2022-01-12T09:45:56.203Z"
   },
   {
    "duration": 1391,
    "start_time": "2022-01-12T09:47:09.738Z"
   },
   {
    "duration": 1320,
    "start_time": "2022-01-12T09:47:44.428Z"
   },
   {
    "duration": 15,
    "start_time": "2022-01-12T09:52:55.412Z"
   },
   {
    "duration": 1538,
    "start_time": "2022-01-12T09:53:23.943Z"
   },
   {
    "duration": 1297,
    "start_time": "2022-01-12T09:53:49.864Z"
   },
   {
    "duration": 1323,
    "start_time": "2022-01-12T10:00:11.710Z"
   },
   {
    "duration": 1813,
    "start_time": "2022-01-12T10:00:17.739Z"
   },
   {
    "duration": 1427,
    "start_time": "2022-01-12T10:00:25.997Z"
   },
   {
    "duration": 12,
    "start_time": "2022-01-12T10:01:11.764Z"
   },
   {
    "duration": 1372,
    "start_time": "2022-01-12T10:01:22.383Z"
   },
   {
    "duration": 1498,
    "start_time": "2022-01-12T10:01:28.796Z"
   },
   {
    "duration": 1354,
    "start_time": "2022-01-12T10:01:37.596Z"
   },
   {
    "duration": 17,
    "start_time": "2022-01-12T10:04:35.985Z"
   },
   {
    "duration": 36,
    "start_time": "2022-01-12T10:04:46.582Z"
   },
   {
    "duration": 57,
    "start_time": "2022-01-12T10:05:00.148Z"
   },
   {
    "duration": 393,
    "start_time": "2022-01-12T10:07:48.051Z"
   },
   {
    "duration": 100,
    "start_time": "2022-01-12T10:07:51.241Z"
   },
   {
    "duration": 8,
    "start_time": "2022-01-12T10:08:00.623Z"
   },
   {
    "duration": 119,
    "start_time": "2022-01-12T10:16:54.098Z"
   },
   {
    "duration": 329,
    "start_time": "2022-01-12T10:19:18.320Z"
   },
   {
    "duration": 21,
    "start_time": "2022-01-12T10:19:32.608Z"
   },
   {
    "duration": 20,
    "start_time": "2022-01-12T10:21:15.774Z"
   },
   {
    "duration": 163,
    "start_time": "2022-01-12T10:22:39.593Z"
   },
   {
    "duration": 330,
    "start_time": "2022-01-12T10:23:12.867Z"
   },
   {
    "duration": 24,
    "start_time": "2022-01-12T10:24:30.948Z"
   },
   {
    "duration": 31,
    "start_time": "2022-01-12T10:24:39.968Z"
   },
   {
    "duration": 15,
    "start_time": "2022-01-12T10:25:10.194Z"
   },
   {
    "duration": 8693,
    "start_time": "2022-01-12T10:26:01.696Z"
   },
   {
    "duration": 21,
    "start_time": "2022-01-12T10:26:24.712Z"
   },
   {
    "duration": 349,
    "start_time": "2022-01-12T10:27:26.180Z"
   },
   {
    "duration": 21,
    "start_time": "2022-01-12T10:27:37.767Z"
   },
   {
    "duration": 106,
    "start_time": "2022-01-12T10:27:58.421Z"
   },
   {
    "duration": 23,
    "start_time": "2022-01-12T10:28:16.848Z"
   },
   {
    "duration": 25,
    "start_time": "2022-01-12T10:30:34.849Z"
   },
   {
    "duration": 139,
    "start_time": "2022-01-12T10:31:22.547Z"
   },
   {
    "duration": 20,
    "start_time": "2022-01-12T10:31:28.733Z"
   },
   {
    "duration": 381,
    "start_time": "2022-01-12T10:33:11.089Z"
   },
   {
    "duration": 23,
    "start_time": "2022-01-12T10:35:06.968Z"
   },
   {
    "duration": 26,
    "start_time": "2022-01-12T10:45:21.926Z"
   },
   {
    "duration": 22,
    "start_time": "2022-01-12T10:45:51.717Z"
   },
   {
    "duration": 19,
    "start_time": "2022-01-12T10:46:03.214Z"
   },
   {
    "duration": 27,
    "start_time": "2022-01-12T10:48:21.481Z"
   },
   {
    "duration": 25,
    "start_time": "2022-01-12T10:48:32.010Z"
   },
   {
    "duration": 25,
    "start_time": "2022-01-12T10:52:45.439Z"
   },
   {
    "duration": 25,
    "start_time": "2022-01-12T10:55:51.884Z"
   },
   {
    "duration": 26,
    "start_time": "2022-01-12T10:56:44.220Z"
   },
   {
    "duration": 24,
    "start_time": "2022-01-12T10:56:55.703Z"
   },
   {
    "duration": 28,
    "start_time": "2022-01-12T13:29:49.820Z"
   },
   {
    "duration": 26,
    "start_time": "2022-01-12T13:30:06.871Z"
   },
   {
    "duration": 26,
    "start_time": "2022-01-12T13:34:40.915Z"
   },
   {
    "duration": 1291,
    "start_time": "2022-01-12T13:46:44.121Z"
   },
   {
    "duration": 23,
    "start_time": "2022-01-12T13:47:18.312Z"
   },
   {
    "duration": 21,
    "start_time": "2022-01-12T13:47:39.689Z"
   },
   {
    "duration": 19,
    "start_time": "2022-01-12T13:47:53.548Z"
   },
   {
    "duration": 21,
    "start_time": "2022-01-12T13:48:13.866Z"
   },
   {
    "duration": 25,
    "start_time": "2022-01-12T13:48:38.886Z"
   },
   {
    "duration": 22,
    "start_time": "2022-01-12T13:48:41.499Z"
   },
   {
    "duration": 22,
    "start_time": "2022-01-12T13:49:18.622Z"
   },
   {
    "duration": 15,
    "start_time": "2022-01-12T13:49:51.001Z"
   },
   {
    "duration": 23,
    "start_time": "2022-01-12T13:50:11.053Z"
   },
   {
    "duration": 21,
    "start_time": "2022-01-12T13:50:17.956Z"
   },
   {
    "duration": 27,
    "start_time": "2022-01-12T13:52:16.379Z"
   },
   {
    "duration": 31,
    "start_time": "2022-01-12T13:52:57.417Z"
   },
   {
    "duration": 26,
    "start_time": "2022-01-12T13:53:07.910Z"
   },
   {
    "duration": 30,
    "start_time": "2022-01-12T13:53:52.500Z"
   },
   {
    "duration": 350,
    "start_time": "2022-01-12T13:53:57.992Z"
   },
   {
    "duration": 34,
    "start_time": "2022-01-12T13:54:09.903Z"
   },
   {
    "duration": 25,
    "start_time": "2022-01-12T13:57:37.444Z"
   },
   {
    "duration": 26,
    "start_time": "2022-01-12T13:57:42.095Z"
   },
   {
    "duration": 19,
    "start_time": "2022-01-12T14:05:40.936Z"
   },
   {
    "duration": 1272,
    "start_time": "2022-01-12T14:05:54.232Z"
   },
   {
    "duration": 764,
    "start_time": "2022-01-12T14:05:54.742Z"
   },
   {
    "duration": 26,
    "start_time": "2022-01-12T14:08:23.463Z"
   },
   {
    "duration": 19,
    "start_time": "2022-01-12T14:23:19.843Z"
   },
   {
    "duration": 24,
    "start_time": "2022-01-12T14:23:27.212Z"
   },
   {
    "duration": 410,
    "start_time": "2022-01-12T14:23:45.729Z"
   },
   {
    "duration": 24,
    "start_time": "2022-01-12T14:23:53.853Z"
   },
   {
    "duration": 426,
    "start_time": "2022-01-12T14:24:25.444Z"
   },
   {
    "duration": 402,
    "start_time": "2022-01-12T14:28:12.639Z"
   },
   {
    "duration": 26,
    "start_time": "2022-01-12T14:28:29.851Z"
   },
   {
    "duration": 29,
    "start_time": "2022-01-12T14:28:46.524Z"
   },
   {
    "duration": 1434,
    "start_time": "2022-01-12T14:29:13.098Z"
   },
   {
    "duration": 1486,
    "start_time": "2022-01-12T14:29:51.416Z"
   },
   {
    "duration": 1453,
    "start_time": "2022-01-12T14:29:59.875Z"
   },
   {
    "duration": 27,
    "start_time": "2022-01-12T14:30:16.976Z"
   },
   {
    "duration": 25,
    "start_time": "2022-01-12T14:30:45.214Z"
   },
   {
    "duration": 25,
    "start_time": "2022-01-12T14:30:48.635Z"
   },
   {
    "duration": 26,
    "start_time": "2022-01-12T14:30:53.921Z"
   },
   {
    "duration": 1264,
    "start_time": "2022-01-12T14:30:58.624Z"
   },
   {
    "duration": 26,
    "start_time": "2022-01-12T14:31:08.413Z"
   },
   {
    "duration": 28,
    "start_time": "2022-01-12T14:33:23.304Z"
   },
   {
    "duration": 26,
    "start_time": "2022-01-12T14:33:28.885Z"
   },
   {
    "duration": 26,
    "start_time": "2022-01-12T14:33:50.869Z"
   },
   {
    "duration": 28,
    "start_time": "2022-01-12T14:34:53.328Z"
   },
   {
    "duration": 26,
    "start_time": "2022-01-12T14:35:57.523Z"
   },
   {
    "duration": 26,
    "start_time": "2022-01-12T14:36:14.938Z"
   },
   {
    "duration": 27,
    "start_time": "2022-01-12T14:36:27.719Z"
   },
   {
    "duration": 26,
    "start_time": "2022-01-12T14:36:54.900Z"
   },
   {
    "duration": 402,
    "start_time": "2022-01-12T14:46:14.719Z"
   },
   {
    "duration": 4099,
    "start_time": "2022-01-12T14:46:24.576Z"
   },
   {
    "duration": 30,
    "start_time": "2022-01-12T14:46:30.088Z"
   },
   {
    "duration": 22,
    "start_time": "2022-01-12T14:46:31.594Z"
   },
   {
    "duration": 17,
    "start_time": "2022-01-12T14:46:32.787Z"
   },
   {
    "duration": 11,
    "start_time": "2022-01-12T14:46:33.893Z"
   },
   {
    "duration": 12,
    "start_time": "2022-01-12T14:46:34.901Z"
   },
   {
    "duration": 110,
    "start_time": "2022-01-12T14:46:37.331Z"
   },
   {
    "duration": 33,
    "start_time": "2022-01-12T14:46:38.748Z"
   },
   {
    "duration": 24,
    "start_time": "2022-01-12T14:46:40.525Z"
   },
   {
    "duration": 21,
    "start_time": "2022-01-12T14:46:41.608Z"
   },
   {
    "duration": 22,
    "start_time": "2022-01-12T14:51:27.235Z"
   },
   {
    "duration": 40,
    "start_time": "2022-01-12T14:52:00.419Z"
   },
   {
    "duration": 384,
    "start_time": "2022-01-12T14:52:05.211Z"
   },
   {
    "duration": 14,
    "start_time": "2022-01-12T14:52:35.205Z"
   },
   {
    "duration": 363,
    "start_time": "2022-01-12T14:52:56.536Z"
   },
   {
    "duration": 104,
    "start_time": "2022-01-12T14:53:09.982Z"
   },
   {
    "duration": 25,
    "start_time": "2022-01-12T14:53:19.757Z"
   },
   {
    "duration": 378,
    "start_time": "2022-01-12T14:53:45.903Z"
   },
   {
    "duration": 131,
    "start_time": "2022-01-12T14:53:49.188Z"
   },
   {
    "duration": 22,
    "start_time": "2022-01-12T14:53:52.858Z"
   },
   {
    "duration": 23,
    "start_time": "2022-01-12T14:54:20.533Z"
   },
   {
    "duration": 32,
    "start_time": "2022-01-12T14:55:56.476Z"
   },
   {
    "duration": 18,
    "start_time": "2022-01-12T14:56:55.784Z"
   },
   {
    "duration": 28,
    "start_time": "2022-01-12T14:58:10.644Z"
   },
   {
    "duration": 26,
    "start_time": "2022-01-12T14:58:43.518Z"
   },
   {
    "duration": 17,
    "start_time": "2022-01-12T14:58:49.931Z"
   },
   {
    "duration": 323,
    "start_time": "2022-01-12T15:01:48.654Z"
   },
   {
    "duration": 17,
    "start_time": "2022-01-12T15:02:28.457Z"
   },
   {
    "duration": 17,
    "start_time": "2022-01-12T15:03:17.126Z"
   },
   {
    "duration": 339,
    "start_time": "2022-01-12T15:03:25.315Z"
   },
   {
    "duration": 19,
    "start_time": "2022-01-12T15:04:02.983Z"
   },
   {
    "duration": 17,
    "start_time": "2022-01-12T15:04:08.584Z"
   },
   {
    "duration": 21,
    "start_time": "2022-01-12T15:04:29.284Z"
   },
   {
    "duration": 17,
    "start_time": "2022-01-12T15:04:56.218Z"
   },
   {
    "duration": 27,
    "start_time": "2022-01-12T15:18:14.855Z"
   },
   {
    "duration": 320,
    "start_time": "2022-01-12T15:23:16.302Z"
   },
   {
    "duration": 3,
    "start_time": "2022-01-12T15:26:27.370Z"
   },
   {
    "duration": 317,
    "start_time": "2022-01-12T15:26:34.480Z"
   },
   {
    "duration": 436,
    "start_time": "2022-01-12T15:30:04.193Z"
   },
   {
    "duration": 343,
    "start_time": "2022-01-12T15:40:32.998Z"
   },
   {
    "duration": 6,
    "start_time": "2022-01-12T15:44:20.730Z"
   },
   {
    "duration": 372,
    "start_time": "2022-01-12T15:45:57.528Z"
   },
   {
    "duration": 3,
    "start_time": "2022-01-12T15:46:04.707Z"
   },
   {
    "duration": 5,
    "start_time": "2022-01-12T15:51:22.235Z"
   },
   {
    "duration": 26,
    "start_time": "2022-01-12T15:52:13.359Z"
   },
   {
    "duration": 27,
    "start_time": "2022-01-12T15:52:38.852Z"
   },
   {
    "duration": 8,
    "start_time": "2022-01-12T18:07:50.305Z"
   },
   {
    "duration": 19,
    "start_time": "2022-01-12T18:08:23.340Z"
   },
   {
    "duration": 25,
    "start_time": "2022-01-12T18:10:23.725Z"
   },
   {
    "duration": 19,
    "start_time": "2022-01-12T18:10:35.846Z"
   },
   {
    "duration": 419,
    "start_time": "2022-01-12T18:10:39.063Z"
   },
   {
    "duration": 50,
    "start_time": "2022-01-12T18:10:49.010Z"
   },
   {
    "duration": 438,
    "start_time": "2022-01-12T18:11:10.145Z"
   },
   {
    "duration": 3,
    "start_time": "2022-01-12T18:11:10.585Z"
   },
   {
    "duration": 40,
    "start_time": "2022-01-12T18:11:10.597Z"
   },
   {
    "duration": 34,
    "start_time": "2022-01-12T18:11:11.355Z"
   },
   {
    "duration": 21,
    "start_time": "2022-01-12T18:11:11.713Z"
   },
   {
    "duration": 12,
    "start_time": "2022-01-12T18:11:15.336Z"
   },
   {
    "duration": 20,
    "start_time": "2022-01-12T18:11:19.252Z"
   },
   {
    "duration": 105,
    "start_time": "2022-01-12T18:11:36.966Z"
   },
   {
    "duration": 5,
    "start_time": "2022-01-12T18:11:38.937Z"
   },
   {
    "duration": 31,
    "start_time": "2022-01-12T18:11:40.178Z"
   },
   {
    "duration": 26,
    "start_time": "2022-01-12T18:11:45.912Z"
   },
   {
    "duration": 25,
    "start_time": "2022-01-12T18:11:47.308Z"
   },
   {
    "duration": 20,
    "start_time": "2022-01-12T18:12:58.389Z"
   },
   {
    "duration": 38,
    "start_time": "2022-01-12T18:16:39.078Z"
   },
   {
    "duration": 4,
    "start_time": "2022-01-12T18:35:19.820Z"
   },
   {
    "duration": 8,
    "start_time": "2022-01-12T18:36:20.301Z"
   },
   {
    "duration": 363,
    "start_time": "2022-01-12T18:40:50.511Z"
   },
   {
    "duration": 9,
    "start_time": "2022-01-12T18:42:59.574Z"
   },
   {
    "duration": 14,
    "start_time": "2022-01-12T18:43:07.000Z"
   },
   {
    "duration": 10,
    "start_time": "2022-01-12T18:44:50.007Z"
   },
   {
    "duration": 39,
    "start_time": "2022-01-12T18:44:53.877Z"
   },
   {
    "duration": 368,
    "start_time": "2022-01-12T19:06:29.072Z"
   },
   {
    "duration": 47,
    "start_time": "2022-01-12T19:08:04.514Z"
   },
   {
    "duration": 329,
    "start_time": "2022-01-12T19:08:06.651Z"
   },
   {
    "duration": 1127,
    "start_time": "2022-01-12T19:20:11.077Z"
   },
   {
    "duration": 10533,
    "start_time": "2022-01-12T19:20:48.716Z"
   },
   {
    "duration": 10741,
    "start_time": "2022-01-12T19:22:17.145Z"
   },
   {
    "duration": 10362,
    "start_time": "2022-01-12T19:23:02.101Z"
   },
   {
    "duration": 196,
    "start_time": "2022-01-12T19:23:33.873Z"
   },
   {
    "duration": 24,
    "start_time": "2022-01-12T19:23:53.628Z"
   },
   {
    "duration": 7,
    "start_time": "2022-01-12T19:26:05.706Z"
   },
   {
    "duration": 201,
    "start_time": "2022-01-12T19:28:42.356Z"
   },
   {
    "duration": 21,
    "start_time": "2022-01-12T19:28:43.730Z"
   },
   {
    "duration": 7,
    "start_time": "2022-01-12T19:28:44.787Z"
   },
   {
    "duration": 79,
    "start_time": "2022-01-12T19:41:07.192Z"
   },
   {
    "duration": 334,
    "start_time": "2022-01-12T19:44:11.722Z"
   },
   {
    "duration": 326,
    "start_time": "2022-01-12T19:44:39.533Z"
   },
   {
    "duration": 342,
    "start_time": "2022-01-12T19:44:44.213Z"
   },
   {
    "duration": 360,
    "start_time": "2022-01-12T19:45:03.001Z"
   },
   {
    "duration": 366,
    "start_time": "2022-01-12T19:45:18.211Z"
   },
   {
    "duration": 374,
    "start_time": "2022-01-12T19:45:31.260Z"
   },
   {
    "duration": 344,
    "start_time": "2022-01-12T19:45:35.651Z"
   },
   {
    "duration": 848,
    "start_time": "2022-01-12T19:45:39.585Z"
   },
   {
    "duration": 340,
    "start_time": "2022-01-12T19:46:09.174Z"
   },
   {
    "duration": 349,
    "start_time": "2022-01-12T19:49:44.125Z"
   },
   {
    "duration": 350,
    "start_time": "2022-01-12T19:49:59.133Z"
   },
   {
    "duration": 136,
    "start_time": "2022-01-12T19:51:55.552Z"
   },
   {
    "duration": 112,
    "start_time": "2022-01-12T19:52:07.588Z"
   },
   {
    "duration": 323,
    "start_time": "2022-01-12T19:52:14.180Z"
   },
   {
    "duration": 334,
    "start_time": "2022-01-12T19:52:31.013Z"
   },
   {
    "duration": 6,
    "start_time": "2022-01-12T19:53:59.804Z"
   },
   {
    "duration": 7,
    "start_time": "2022-01-12T19:54:30.085Z"
   },
   {
    "duration": 677,
    "start_time": "2022-01-12T19:56:53.977Z"
   },
   {
    "duration": 954,
    "start_time": "2022-01-12T19:57:41.473Z"
   },
   {
    "duration": 1022,
    "start_time": "2022-01-12T19:57:55.354Z"
   },
   {
    "duration": 919,
    "start_time": "2022-01-12T20:12:35.973Z"
   },
   {
    "duration": 1144,
    "start_time": "2022-01-12T20:13:01.332Z"
   },
   {
    "duration": 9,
    "start_time": "2022-01-12T20:14:19.836Z"
   },
   {
    "duration": 8,
    "start_time": "2022-01-12T20:14:21.592Z"
   },
   {
    "duration": 1011,
    "start_time": "2022-01-12T20:14:48.524Z"
   },
   {
    "duration": 575,
    "start_time": "2022-01-12T20:15:05.782Z"
   },
   {
    "duration": 982,
    "start_time": "2022-01-12T20:15:12.961Z"
   },
   {
    "duration": 8,
    "start_time": "2022-01-12T20:17:11.246Z"
   },
   {
    "duration": 7,
    "start_time": "2022-01-12T20:17:23.646Z"
   },
   {
    "duration": 4,
    "start_time": "2022-01-12T20:17:27.132Z"
   },
   {
    "duration": 5,
    "start_time": "2022-01-12T20:17:37.123Z"
   },
   {
    "duration": 874,
    "start_time": "2022-01-12T20:22:32.695Z"
   },
   {
    "duration": 105,
    "start_time": "2022-01-13T12:29:11.351Z"
   },
   {
    "duration": 83,
    "start_time": "2022-01-13T12:30:26.042Z"
   },
   {
    "duration": 325,
    "start_time": "2022-01-13T12:31:34.265Z"
   },
   {
    "duration": 1067,
    "start_time": "2022-01-13T12:31:47.672Z"
   },
   {
    "duration": 83,
    "start_time": "2022-01-13T12:31:49.561Z"
   },
   {
    "duration": 33,
    "start_time": "2022-01-13T12:31:50.217Z"
   },
   {
    "duration": 25,
    "start_time": "2022-01-13T12:31:51.227Z"
   },
   {
    "duration": 22,
    "start_time": "2022-01-13T12:31:52.216Z"
   },
   {
    "duration": 12,
    "start_time": "2022-01-13T12:31:53.162Z"
   },
   {
    "duration": 14,
    "start_time": "2022-01-13T12:31:54.152Z"
   },
   {
    "duration": 130,
    "start_time": "2022-01-13T12:31:56.649Z"
   },
   {
    "duration": 5,
    "start_time": "2022-01-13T12:31:58.201Z"
   },
   {
    "duration": 36,
    "start_time": "2022-01-13T12:31:59.460Z"
   },
   {
    "duration": 31,
    "start_time": "2022-01-13T12:32:00.722Z"
   },
   {
    "duration": 28,
    "start_time": "2022-01-13T12:32:03.759Z"
   },
   {
    "duration": 12,
    "start_time": "2022-01-13T12:32:06.008Z"
   },
   {
    "duration": 59,
    "start_time": "2022-01-13T12:32:07.134Z"
   },
   {
    "duration": 210,
    "start_time": "2022-01-13T12:32:08.933Z"
   },
   {
    "duration": 25,
    "start_time": "2022-01-13T12:32:09.338Z"
   },
   {
    "duration": 9,
    "start_time": "2022-01-13T12:32:11.948Z"
   },
   {
    "duration": 10,
    "start_time": "2022-01-13T12:32:14.716Z"
   },
   {
    "duration": 1317,
    "start_time": "2022-01-13T12:32:27.610Z"
   },
   {
    "duration": 12,
    "start_time": "2022-01-13T12:32:30.175Z"
   },
   {
    "duration": 308,
    "start_time": "2022-01-13T12:33:50.186Z"
   },
   {
    "duration": 281,
    "start_time": "2022-01-13T12:33:59.305Z"
   },
   {
    "duration": 11,
    "start_time": "2022-01-13T12:34:05.307Z"
   },
   {
    "duration": 1213,
    "start_time": "2022-01-13T12:34:12.057Z"
   },
   {
    "duration": 11,
    "start_time": "2022-01-13T12:34:18.988Z"
   },
   {
    "duration": 455,
    "start_time": "2022-01-13T12:37:14.066Z"
   },
   {
    "duration": 499,
    "start_time": "2022-01-13T12:37:25.991Z"
   },
   {
    "duration": 99,
    "start_time": "2022-01-13T12:40:41.907Z"
   },
   {
    "duration": 96,
    "start_time": "2022-01-13T12:41:08.097Z"
   },
   {
    "duration": 11,
    "start_time": "2022-01-13T12:41:15.792Z"
   },
   {
    "duration": 5,
    "start_time": "2022-01-13T12:41:42.618Z"
   },
   {
    "duration": 5,
    "start_time": "2022-01-13T12:42:07.161Z"
   },
   {
    "duration": 6,
    "start_time": "2022-01-13T12:42:39.741Z"
   },
   {
    "duration": 5,
    "start_time": "2022-01-13T12:42:58.078Z"
   },
   {
    "duration": 5,
    "start_time": "2022-01-13T12:43:25.529Z"
   },
   {
    "duration": 5,
    "start_time": "2022-01-13T12:55:16.749Z"
   },
   {
    "duration": 449,
    "start_time": "2022-01-13T12:55:31.711Z"
   },
   {
    "duration": 270,
    "start_time": "2022-01-13T12:55:40.108Z"
   },
   {
    "duration": 5,
    "start_time": "2022-01-13T12:55:53.267Z"
   },
   {
    "duration": 98,
    "start_time": "2022-01-13T12:56:19.929Z"
   },
   {
    "duration": 6,
    "start_time": "2022-01-13T12:56:25.239Z"
   },
   {
    "duration": 10,
    "start_time": "2022-01-13T12:56:33.317Z"
   },
   {
    "duration": 11,
    "start_time": "2022-01-13T12:59:21.219Z"
   },
   {
    "duration": 5,
    "start_time": "2022-01-13T13:00:27.190Z"
   },
   {
    "duration": 9,
    "start_time": "2022-01-13T13:00:36.732Z"
   },
   {
    "duration": 12,
    "start_time": "2022-01-13T13:00:46.068Z"
   },
   {
    "duration": 15,
    "start_time": "2022-01-13T13:03:19.680Z"
   },
   {
    "duration": 17,
    "start_time": "2022-01-13T13:03:41.505Z"
   },
   {
    "duration": 22,
    "start_time": "2022-01-13T13:35:00.736Z"
   },
   {
    "duration": 4,
    "start_time": "2022-01-13T13:56:43.059Z"
   },
   {
    "duration": 23,
    "start_time": "2022-01-13T13:57:55.715Z"
   },
   {
    "duration": 22,
    "start_time": "2022-01-13T13:58:08.923Z"
   },
   {
    "duration": 23,
    "start_time": "2022-01-13T13:58:21.523Z"
   },
   {
    "duration": 23,
    "start_time": "2022-01-13T13:58:41.054Z"
   },
   {
    "duration": 21,
    "start_time": "2022-01-13T13:59:11.227Z"
   },
   {
    "duration": 23,
    "start_time": "2022-01-13T13:59:43.358Z"
   },
   {
    "duration": 8,
    "start_time": "2022-01-13T13:59:47.836Z"
   },
   {
    "duration": 293,
    "start_time": "2022-01-13T13:59:58.366Z"
   },
   {
    "duration": 288,
    "start_time": "2022-01-13T14:00:17.964Z"
   },
   {
    "duration": 22,
    "start_time": "2022-01-13T14:00:48.632Z"
   },
   {
    "duration": 22,
    "start_time": "2022-01-13T14:01:10.868Z"
   },
   {
    "duration": 8,
    "start_time": "2022-01-13T14:13:39.471Z"
   },
   {
    "duration": 8,
    "start_time": "2022-01-13T14:13:59.816Z"
   },
   {
    "duration": 6841,
    "start_time": "2022-01-13T14:15:18.684Z"
   },
   {
    "duration": 8,
    "start_time": "2022-01-13T14:15:34.411Z"
   },
   {
    "duration": 8,
    "start_time": "2022-01-13T14:15:39.834Z"
   },
   {
    "duration": 9,
    "start_time": "2022-01-13T14:16:50.781Z"
   },
   {
    "duration": 9,
    "start_time": "2022-01-13T14:16:54.403Z"
   },
   {
    "duration": 326,
    "start_time": "2022-01-13T14:47:00.227Z"
   },
   {
    "duration": 6,
    "start_time": "2022-01-13T14:49:19.732Z"
   },
   {
    "duration": 11,
    "start_time": "2022-01-13T14:53:27.263Z"
   },
   {
    "duration": 5,
    "start_time": "2022-01-13T14:53:52.351Z"
   },
   {
    "duration": 7,
    "start_time": "2022-01-13T14:53:58.606Z"
   },
   {
    "duration": 12,
    "start_time": "2022-01-13T14:54:05.761Z"
   },
   {
    "duration": 11,
    "start_time": "2022-01-13T14:54:08.213Z"
   },
   {
    "duration": 98,
    "start_time": "2022-01-13T15:00:00.648Z"
   },
   {
    "duration": 5,
    "start_time": "2022-01-13T15:00:05.395Z"
   },
   {
    "duration": 5,
    "start_time": "2022-01-13T15:01:02.210Z"
   },
   {
    "duration": 6,
    "start_time": "2022-01-13T15:03:37.242Z"
   },
   {
    "duration": 6,
    "start_time": "2022-01-13T15:04:00.193Z"
   },
   {
    "duration": 6,
    "start_time": "2022-01-13T15:04:05.120Z"
   },
   {
    "duration": 11,
    "start_time": "2022-01-13T15:09:48.805Z"
   },
   {
    "duration": 11,
    "start_time": "2022-01-13T15:09:57.917Z"
   },
   {
    "duration": 6,
    "start_time": "2022-01-13T15:10:00.459Z"
   },
   {
    "duration": 5,
    "start_time": "2022-01-13T15:14:50.092Z"
   },
   {
    "duration": 6,
    "start_time": "2022-01-13T15:15:39.482Z"
   },
   {
    "duration": 6,
    "start_time": "2022-01-13T15:15:50.261Z"
   },
   {
    "duration": 4,
    "start_time": "2022-01-13T18:15:21.319Z"
   },
   {
    "duration": 4,
    "start_time": "2022-01-13T18:15:38.917Z"
   },
   {
    "duration": 6,
    "start_time": "2022-01-13T18:20:14.256Z"
   },
   {
    "duration": 1753,
    "start_time": "2022-01-13T18:32:48.778Z"
   },
   {
    "duration": 1255,
    "start_time": "2022-01-13T18:33:17.806Z"
   },
   {
    "duration": 5,
    "start_time": "2022-01-13T18:33:40.147Z"
   },
   {
    "duration": 8,
    "start_time": "2022-01-13T18:34:57.660Z"
   },
   {
    "duration": 9,
    "start_time": "2022-01-13T18:35:48.851Z"
   },
   {
    "duration": 266,
    "start_time": "2022-01-13T18:36:29.599Z"
   },
   {
    "duration": 266,
    "start_time": "2022-01-13T18:36:42.605Z"
   },
   {
    "duration": 270,
    "start_time": "2022-01-13T18:37:25.603Z"
   },
   {
    "duration": 258,
    "start_time": "2022-01-13T18:37:47.406Z"
   },
   {
    "duration": 10,
    "start_time": "2022-01-13T19:00:54.356Z"
   },
   {
    "duration": 11,
    "start_time": "2022-01-13T19:01:03.556Z"
   },
   {
    "duration": 6,
    "start_time": "2022-01-13T19:05:07.920Z"
   },
   {
    "duration": 7,
    "start_time": "2022-01-13T19:05:14.580Z"
   },
   {
    "duration": 5,
    "start_time": "2022-01-13T19:06:16.121Z"
   },
   {
    "duration": 6,
    "start_time": "2022-01-13T19:06:24.828Z"
   },
   {
    "duration": 5,
    "start_time": "2022-01-13T19:10:45.434Z"
   },
   {
    "duration": 6,
    "start_time": "2022-01-13T19:10:58.753Z"
   },
   {
    "duration": 6,
    "start_time": "2022-01-13T19:11:25.238Z"
   },
   {
    "duration": 6,
    "start_time": "2022-01-13T19:11:38.333Z"
   },
   {
    "duration": 87,
    "start_time": "2022-01-13T19:11:45.219Z"
   },
   {
    "duration": 5,
    "start_time": "2022-01-13T19:11:48.053Z"
   },
   {
    "duration": 5,
    "start_time": "2022-01-13T19:50:33.729Z"
   },
   {
    "duration": 5,
    "start_time": "2022-01-13T20:29:40.646Z"
   },
   {
    "duration": 5,
    "start_time": "2022-01-13T20:30:34.399Z"
   },
   {
    "duration": 4,
    "start_time": "2022-01-13T20:30:55.391Z"
   },
   {
    "duration": 430,
    "start_time": "2022-01-13T20:35:52.222Z"
   },
   {
    "duration": 6,
    "start_time": "2022-01-13T20:36:25.996Z"
   },
   {
    "duration": 6,
    "start_time": "2022-01-13T20:36:32.207Z"
   },
   {
    "duration": 5,
    "start_time": "2022-01-13T20:36:41.411Z"
   },
   {
    "duration": 6,
    "start_time": "2022-01-13T20:36:49.934Z"
   },
   {
    "duration": 8,
    "start_time": "2022-01-13T20:36:53.626Z"
   },
   {
    "duration": 6,
    "start_time": "2022-01-13T20:37:53.252Z"
   },
   {
    "duration": 5,
    "start_time": "2022-01-13T20:39:11.825Z"
   },
   {
    "duration": 11,
    "start_time": "2022-01-13T20:39:13.175Z"
   },
   {
    "duration": 10,
    "start_time": "2022-01-13T21:00:48.976Z"
   },
   {
    "duration": 7,
    "start_time": "2022-01-13T21:00:51.113Z"
   },
   {
    "duration": 7,
    "start_time": "2022-01-13T21:01:38.972Z"
   },
   {
    "duration": 7,
    "start_time": "2022-01-13T21:01:41.852Z"
   },
   {
    "duration": 7,
    "start_time": "2022-01-13T21:02:12.745Z"
   },
   {
    "duration": 11,
    "start_time": "2022-01-13T21:02:22.691Z"
   },
   {
    "duration": 9,
    "start_time": "2022-01-13T21:02:39.722Z"
   },
   {
    "duration": 81,
    "start_time": "2022-01-13T21:03:44.862Z"
   },
   {
    "duration": 10,
    "start_time": "2022-01-13T21:04:05.113Z"
   },
   {
    "duration": 9,
    "start_time": "2022-01-13T21:04:14.562Z"
   },
   {
    "duration": 9,
    "start_time": "2022-01-13T21:04:22.325Z"
   },
   {
    "duration": 9,
    "start_time": "2022-01-13T21:04:34.609Z"
   },
   {
    "duration": 37,
    "start_time": "2022-01-13T21:07:01.226Z"
   },
   {
    "duration": 39,
    "start_time": "2022-01-13T21:07:12.435Z"
   },
   {
    "duration": 195,
    "start_time": "2022-01-13T21:07:21.319Z"
   },
   {
    "duration": 23,
    "start_time": "2022-01-13T21:07:22.331Z"
   },
   {
    "duration": 9,
    "start_time": "2022-01-13T21:07:39.386Z"
   },
   {
    "duration": 21,
    "start_time": "2022-01-13T21:07:51.694Z"
   },
   {
    "duration": 1049,
    "start_time": "2022-01-13T21:08:03.463Z"
   },
   {
    "duration": 5,
    "start_time": "2022-01-13T21:08:40.566Z"
   },
   {
    "duration": 9,
    "start_time": "2022-01-13T21:08:43.627Z"
   },
   {
    "duration": 7,
    "start_time": "2022-01-13T21:09:42.153Z"
   },
   {
    "duration": 91,
    "start_time": "2022-01-13T21:09:42.579Z"
   },
   {
    "duration": 58,
    "start_time": "2022-01-16T10:45:53.054Z"
   },
   {
    "duration": 1560,
    "start_time": "2022-01-16T15:57:48.979Z"
   },
   {
    "duration": 482,
    "start_time": "2022-01-16T15:57:50.542Z"
   },
   {
    "duration": 29,
    "start_time": "2022-01-16T15:57:51.026Z"
   },
   {
    "duration": 22,
    "start_time": "2022-01-16T15:57:51.057Z"
   },
   {
    "duration": 18,
    "start_time": "2022-01-16T15:57:51.081Z"
   },
   {
    "duration": 10,
    "start_time": "2022-01-16T15:57:51.101Z"
   },
   {
    "duration": 40,
    "start_time": "2022-01-16T15:57:51.113Z"
   },
   {
    "duration": 129,
    "start_time": "2022-01-16T15:57:51.155Z"
   },
   {
    "duration": 5,
    "start_time": "2022-01-16T15:57:51.287Z"
   },
   {
    "duration": 48,
    "start_time": "2022-01-16T15:57:51.294Z"
   },
   {
    "duration": 24,
    "start_time": "2022-01-16T15:57:51.344Z"
   },
   {
    "duration": 25,
    "start_time": "2022-01-16T15:57:51.369Z"
   },
   {
    "duration": 9,
    "start_time": "2022-01-16T15:57:51.395Z"
   },
   {
    "duration": 67,
    "start_time": "2022-01-16T15:57:51.406Z"
   },
   {
    "duration": 185,
    "start_time": "2022-01-16T15:57:51.475Z"
   },
   {
    "duration": 19,
    "start_time": "2022-01-16T15:57:51.662Z"
   },
   {
    "duration": 8,
    "start_time": "2022-01-16T15:57:51.682Z"
   },
   {
    "duration": 18,
    "start_time": "2022-01-16T15:57:51.692Z"
   },
   {
    "duration": 956,
    "start_time": "2022-01-16T15:57:51.711Z"
   },
   {
    "duration": 4,
    "start_time": "2022-01-16T15:57:52.669Z"
   },
   {
    "duration": 10,
    "start_time": "2022-01-16T15:57:52.675Z"
   },
   {
    "duration": 7,
    "start_time": "2022-01-16T15:57:52.687Z"
   },
   {
    "duration": 12,
    "start_time": "2022-01-16T15:57:52.695Z"
   },
   {
    "duration": 6,
    "start_time": "2022-01-16T15:58:09.087Z"
   },
   {
    "duration": 10,
    "start_time": "2022-01-16T15:58:34.374Z"
   },
   {
    "duration": 81,
    "start_time": "2022-01-16T16:05:07.320Z"
   },
   {
    "duration": 83,
    "start_time": "2022-01-16T16:09:08.589Z"
   }
  ],
  "kernelspec": {
   "display_name": "Python 3 (ipykernel)",
   "language": "python",
   "name": "python3"
  },
  "language_info": {
   "codemirror_mode": {
    "name": "ipython",
    "version": 3
   },
   "file_extension": ".py",
   "mimetype": "text/x-python",
   "name": "python",
   "nbconvert_exporter": "python",
   "pygments_lexer": "ipython3",
   "version": "3.9.7"
  },
  "toc": {
   "base_numbering": 1,
   "nav_menu": {},
   "number_sections": true,
   "sideBar": true,
   "skip_h1_title": true,
   "title_cell": "Table of Contents",
   "title_sidebar": "Contents",
   "toc_cell": false,
   "toc_position": {
    "height": "calc(100% - 180px)",
    "left": "10px",
    "top": "150px",
    "width": "304.226px"
   },
   "toc_section_display": true,
   "toc_window_display": true
  }
 },
 "nbformat": 4,
 "nbformat_minor": 2
}
