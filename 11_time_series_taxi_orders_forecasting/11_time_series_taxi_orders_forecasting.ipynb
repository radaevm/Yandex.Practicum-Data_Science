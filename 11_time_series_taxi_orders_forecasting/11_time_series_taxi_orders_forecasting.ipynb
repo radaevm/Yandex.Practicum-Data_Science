{
 "cells": [
  {
   "cell_type": "markdown",
   "metadata": {},
   "source": [
    "# Проект курса \"Временные ряды\""
   ]
  },
  {
   "cell_type": "markdown",
   "metadata": {
    "toc": true
   },
   "source": [
    "<h1>Содержание<span class=\"tocSkip\"></span></h1>\n",
    "<div class=\"toc\"><ul class=\"toc-item\"><li><span><a href=\"#Подготовка\" data-toc-modified-id=\"Подготовка-1\"><span class=\"toc-item-num\">1&nbsp;&nbsp;</span>Подготовка</a></span></li><li><span><a href=\"#Анализ\" data-toc-modified-id=\"Анализ-2\"><span class=\"toc-item-num\">2&nbsp;&nbsp;</span>Анализ</a></span><ul class=\"toc-item\"><li><span><a href=\"#Подготовка-параметров-и-разделение-выборок-для-нестационарного-временного-ряда\" data-toc-modified-id=\"Подготовка-параметров-и-разделение-выборок-для-нестационарного-временного-ряда-2.1\"><span class=\"toc-item-num\">2.1&nbsp;&nbsp;</span>Подготовка параметров и разделение выборок для <strong>нестационарного</strong> временного ряда</a></span></li><li><span><a href=\"#Подготовка-параметров-и-разделение-выборок-для-стационарного-временного-ряда\" data-toc-modified-id=\"Подготовка-параметров-и-разделение-выборок-для-стационарного-временного-ряда-2.2\"><span class=\"toc-item-num\">2.2&nbsp;&nbsp;</span>Подготовка параметров и разделение выборок для <strong>стационарного</strong> временного ряда</a></span></li></ul></li><li><span><a href=\"#Обучение\" data-toc-modified-id=\"Обучение-3\"><span class=\"toc-item-num\">3&nbsp;&nbsp;</span>Обучение</a></span><ul class=\"toc-item\"><li><span><a href=\"#RandomForestRegressor-для-нестационарного-временного-ряда\" data-toc-modified-id=\"RandomForestRegressor-для-нестационарного-временного-ряда-3.1\"><span class=\"toc-item-num\">3.1&nbsp;&nbsp;</span>RandomForestRegressor для <strong>нестационарного</strong> временного ряда</a></span></li><li><span><a href=\"#RandomForestRegressor-для-стационарного-временного-ряда\" data-toc-modified-id=\"RandomForestRegressor-для-стационарного-временного-ряда-3.2\"><span class=\"toc-item-num\">3.2&nbsp;&nbsp;</span>RandomForestRegressor для <strong>стационарного</strong> временного ряда</a></span></li><li><span><a href=\"#LGBMRegressor-для-нестационарного-временного-ряда\" data-toc-modified-id=\"LGBMRegressor-для-нестационарного-временного-ряда-3.3\"><span class=\"toc-item-num\">3.3&nbsp;&nbsp;</span>LGBMRegressor для <strong>нестационарного</strong> временного ряда</a></span></li><li><span><a href=\"#LGBMRegressor-для-стационарного-временного-ряда\" data-toc-modified-id=\"LGBMRegressor-для-стационарного-временного-ряда-3.4\"><span class=\"toc-item-num\">3.4&nbsp;&nbsp;</span>LGBMRegressor для <strong>стационарного</strong> временного ряда</a></span></li><li><span><a href=\"#Лучшая-модель\" data-toc-modified-id=\"Лучшая-модель-3.5\"><span class=\"toc-item-num\">3.5&nbsp;&nbsp;</span>Лучшая модель</a></span></li></ul></li><li><span><a href=\"#Тестирование\" data-toc-modified-id=\"Тестирование-4\"><span class=\"toc-item-num\">4&nbsp;&nbsp;</span>Тестирование</a></span></li><li><span><a href=\"#Чек-лист-проверки\" data-toc-modified-id=\"Чек-лист-проверки-5\"><span class=\"toc-item-num\">5&nbsp;&nbsp;</span>Чек-лист проверки</a></span></li></ul></div>"
   ]
  },
  {
   "cell_type": "markdown",
   "metadata": {},
   "source": [
    "#  Прогнозирование заказов такси"
   ]
  },
  {
   "cell_type": "markdown",
   "metadata": {},
   "source": [
    "Компания «Чётенькое такси» собрала исторические данные о заказах такси в аэропортах. Чтобы привлекать больше водителей в период пиковой нагрузки, нужно спрогнозировать количество заказов такси на следующий час. Построим модель для такого предсказания.\n",
    "\n",
    "Значение метрики *RMSE* на тестовой выборке должно быть не больше 48.\n",
    "\n",
    "Нам нужно:\n",
    "\n",
    "1. Загрузить данные и выполнить их ресемплирование по одному часу.\n",
    "2. Проанализировать данные.\n",
    "3. Обучить разные модели с различными гиперпараметрами. Сделать тестовую выборку размером 10% от исходных данных.\n",
    "4. Проверить данные на тестовой выборке и сделать выводы.\n",
    "\n",
    "\n",
    "Данные лежат в файле `taxi.csv`. Количество заказов находится в столбце `num_orders` (от англ. *number of orders*, «число заказов»)."
   ]
  },
  {
   "cell_type": "markdown",
   "metadata": {},
   "source": [
    "## Подготовка"
   ]
  },
  {
   "cell_type": "code",
   "execution_count": 1,
   "metadata": {},
   "outputs": [],
   "source": [
    "import pandas as pd\n",
    "import numpy as np\n",
    "from statsmodels.tsa.seasonal import seasonal_decompose\n",
    "import matplotlib.pyplot as plt\n",
    "from sklearn.model_selection import train_test_split\n",
    "from sklearn.ensemble import RandomForestRegressor\n",
    "from lightgbm import LGBMRegressor\n",
    "from sklearn.model_selection import GridSearchCV\n",
    "from sklearn.metrics import mean_squared_error\n",
    "from sklearn.model_selection import TimeSeriesSplit"
   ]
  },
  {
   "cell_type": "code",
   "execution_count": 2,
   "metadata": {
    "scrolled": false
   },
   "outputs": [
    {
     "name": "stdout",
     "output_type": "stream",
     "text": [
      "<class 'pandas.core.frame.DataFrame'>\n",
      "DatetimeIndex: 26496 entries, 2018-03-01 00:00:00 to 2018-08-31 23:50:00\n",
      "Data columns (total 1 columns):\n",
      " #   Column      Non-Null Count  Dtype\n",
      "---  ------      --------------  -----\n",
      " 0   num_orders  26496 non-null  int64\n",
      "dtypes: int64(1)\n",
      "memory usage: 414.0 KB\n"
     ]
    }
   ],
   "source": [
    "df = pd.read_csv('/datasets/taxi.csv', index_col=[0], parse_dates=[0])\n",
    "df.info()"
   ]
  },
  {
   "cell_type": "code",
   "execution_count": 3,
   "metadata": {},
   "outputs": [
    {
     "data": {
      "text/html": [
       "<div>\n",
       "<style scoped>\n",
       "    .dataframe tbody tr th:only-of-type {\n",
       "        vertical-align: middle;\n",
       "    }\n",
       "\n",
       "    .dataframe tbody tr th {\n",
       "        vertical-align: top;\n",
       "    }\n",
       "\n",
       "    .dataframe thead th {\n",
       "        text-align: right;\n",
       "    }\n",
       "</style>\n",
       "<table border=\"1\" class=\"dataframe\">\n",
       "  <thead>\n",
       "    <tr style=\"text-align: right;\">\n",
       "      <th></th>\n",
       "      <th>num_orders</th>\n",
       "    </tr>\n",
       "    <tr>\n",
       "      <th>datetime</th>\n",
       "      <th></th>\n",
       "    </tr>\n",
       "  </thead>\n",
       "  <tbody>\n",
       "    <tr>\n",
       "      <th>2018-03-01 00:00:00</th>\n",
       "      <td>9</td>\n",
       "    </tr>\n",
       "    <tr>\n",
       "      <th>2018-03-01 00:10:00</th>\n",
       "      <td>14</td>\n",
       "    </tr>\n",
       "    <tr>\n",
       "      <th>2018-03-01 00:20:00</th>\n",
       "      <td>28</td>\n",
       "    </tr>\n",
       "    <tr>\n",
       "      <th>2018-03-01 00:30:00</th>\n",
       "      <td>20</td>\n",
       "    </tr>\n",
       "    <tr>\n",
       "      <th>2018-03-01 00:40:00</th>\n",
       "      <td>32</td>\n",
       "    </tr>\n",
       "    <tr>\n",
       "      <th>...</th>\n",
       "      <td>...</td>\n",
       "    </tr>\n",
       "    <tr>\n",
       "      <th>2018-08-31 23:10:00</th>\n",
       "      <td>32</td>\n",
       "    </tr>\n",
       "    <tr>\n",
       "      <th>2018-08-31 23:20:00</th>\n",
       "      <td>24</td>\n",
       "    </tr>\n",
       "    <tr>\n",
       "      <th>2018-08-31 23:30:00</th>\n",
       "      <td>27</td>\n",
       "    </tr>\n",
       "    <tr>\n",
       "      <th>2018-08-31 23:40:00</th>\n",
       "      <td>39</td>\n",
       "    </tr>\n",
       "    <tr>\n",
       "      <th>2018-08-31 23:50:00</th>\n",
       "      <td>53</td>\n",
       "    </tr>\n",
       "  </tbody>\n",
       "</table>\n",
       "<p>26496 rows × 1 columns</p>\n",
       "</div>"
      ],
      "text/plain": [
       "                     num_orders\n",
       "datetime                       \n",
       "2018-03-01 00:00:00           9\n",
       "2018-03-01 00:10:00          14\n",
       "2018-03-01 00:20:00          28\n",
       "2018-03-01 00:30:00          20\n",
       "2018-03-01 00:40:00          32\n",
       "...                         ...\n",
       "2018-08-31 23:10:00          32\n",
       "2018-08-31 23:20:00          24\n",
       "2018-08-31 23:30:00          27\n",
       "2018-08-31 23:40:00          39\n",
       "2018-08-31 23:50:00          53\n",
       "\n",
       "[26496 rows x 1 columns]"
      ]
     },
     "execution_count": 3,
     "metadata": {},
     "output_type": "execute_result"
    }
   ],
   "source": [
    "df"
   ]
  },
  {
   "cell_type": "markdown",
   "metadata": {},
   "source": [
    "Проверим, в хронологическом ли порядке расположены даты и время:"
   ]
  },
  {
   "cell_type": "code",
   "execution_count": 4,
   "metadata": {},
   "outputs": [
    {
     "name": "stdout",
     "output_type": "stream",
     "text": [
      "True\n"
     ]
    }
   ],
   "source": [
    "df = df.sort_index() \n",
    "print(df.index.is_monotonic)"
   ]
  },
  {
   "cell_type": "markdown",
   "metadata": {},
   "source": [
    "Выполним ресемплирование:"
   ]
  },
  {
   "cell_type": "code",
   "execution_count": 5,
   "metadata": {},
   "outputs": [
    {
     "data": {
      "text/html": [
       "<div>\n",
       "<style scoped>\n",
       "    .dataframe tbody tr th:only-of-type {\n",
       "        vertical-align: middle;\n",
       "    }\n",
       "\n",
       "    .dataframe tbody tr th {\n",
       "        vertical-align: top;\n",
       "    }\n",
       "\n",
       "    .dataframe thead th {\n",
       "        text-align: right;\n",
       "    }\n",
       "</style>\n",
       "<table border=\"1\" class=\"dataframe\">\n",
       "  <thead>\n",
       "    <tr style=\"text-align: right;\">\n",
       "      <th></th>\n",
       "      <th>num_orders</th>\n",
       "    </tr>\n",
       "    <tr>\n",
       "      <th>datetime</th>\n",
       "      <th></th>\n",
       "    </tr>\n",
       "  </thead>\n",
       "  <tbody>\n",
       "    <tr>\n",
       "      <th>2018-03-01 00:00:00</th>\n",
       "      <td>124</td>\n",
       "    </tr>\n",
       "    <tr>\n",
       "      <th>2018-03-01 01:00:00</th>\n",
       "      <td>85</td>\n",
       "    </tr>\n",
       "    <tr>\n",
       "      <th>2018-03-01 02:00:00</th>\n",
       "      <td>71</td>\n",
       "    </tr>\n",
       "    <tr>\n",
       "      <th>2018-03-01 03:00:00</th>\n",
       "      <td>66</td>\n",
       "    </tr>\n",
       "    <tr>\n",
       "      <th>2018-03-01 04:00:00</th>\n",
       "      <td>43</td>\n",
       "    </tr>\n",
       "    <tr>\n",
       "      <th>...</th>\n",
       "      <td>...</td>\n",
       "    </tr>\n",
       "    <tr>\n",
       "      <th>2018-08-31 19:00:00</th>\n",
       "      <td>136</td>\n",
       "    </tr>\n",
       "    <tr>\n",
       "      <th>2018-08-31 20:00:00</th>\n",
       "      <td>154</td>\n",
       "    </tr>\n",
       "    <tr>\n",
       "      <th>2018-08-31 21:00:00</th>\n",
       "      <td>159</td>\n",
       "    </tr>\n",
       "    <tr>\n",
       "      <th>2018-08-31 22:00:00</th>\n",
       "      <td>223</td>\n",
       "    </tr>\n",
       "    <tr>\n",
       "      <th>2018-08-31 23:00:00</th>\n",
       "      <td>205</td>\n",
       "    </tr>\n",
       "  </tbody>\n",
       "</table>\n",
       "<p>4416 rows × 1 columns</p>\n",
       "</div>"
      ],
      "text/plain": [
       "                     num_orders\n",
       "datetime                       \n",
       "2018-03-01 00:00:00         124\n",
       "2018-03-01 01:00:00          85\n",
       "2018-03-01 02:00:00          71\n",
       "2018-03-01 03:00:00          66\n",
       "2018-03-01 04:00:00          43\n",
       "...                         ...\n",
       "2018-08-31 19:00:00         136\n",
       "2018-08-31 20:00:00         154\n",
       "2018-08-31 21:00:00         159\n",
       "2018-08-31 22:00:00         223\n",
       "2018-08-31 23:00:00         205\n",
       "\n",
       "[4416 rows x 1 columns]"
      ]
     },
     "execution_count": 5,
     "metadata": {},
     "output_type": "execute_result"
    }
   ],
   "source": [
    "df = df.resample('1H').sum()\n",
    "df"
   ]
  },
  {
   "cell_type": "markdown",
   "metadata": {},
   "source": [
    "## Анализ"
   ]
  },
  {
   "cell_type": "code",
   "execution_count": 6,
   "metadata": {
    "scrolled": true
   },
   "outputs": [
    {
     "data": {
      "text/html": [
       "<div>\n",
       "<style scoped>\n",
       "    .dataframe tbody tr th:only-of-type {\n",
       "        vertical-align: middle;\n",
       "    }\n",
       "\n",
       "    .dataframe tbody tr th {\n",
       "        vertical-align: top;\n",
       "    }\n",
       "\n",
       "    .dataframe thead th {\n",
       "        text-align: right;\n",
       "    }\n",
       "</style>\n",
       "<table border=\"1\" class=\"dataframe\">\n",
       "  <thead>\n",
       "    <tr style=\"text-align: right;\">\n",
       "      <th></th>\n",
       "      <th>num_orders</th>\n",
       "    </tr>\n",
       "  </thead>\n",
       "  <tbody>\n",
       "    <tr>\n",
       "      <th>count</th>\n",
       "      <td>4416.000000</td>\n",
       "    </tr>\n",
       "    <tr>\n",
       "      <th>mean</th>\n",
       "      <td>84.422781</td>\n",
       "    </tr>\n",
       "    <tr>\n",
       "      <th>std</th>\n",
       "      <td>45.023853</td>\n",
       "    </tr>\n",
       "    <tr>\n",
       "      <th>min</th>\n",
       "      <td>0.000000</td>\n",
       "    </tr>\n",
       "    <tr>\n",
       "      <th>25%</th>\n",
       "      <td>54.000000</td>\n",
       "    </tr>\n",
       "    <tr>\n",
       "      <th>50%</th>\n",
       "      <td>78.000000</td>\n",
       "    </tr>\n",
       "    <tr>\n",
       "      <th>75%</th>\n",
       "      <td>107.000000</td>\n",
       "    </tr>\n",
       "    <tr>\n",
       "      <th>max</th>\n",
       "      <td>462.000000</td>\n",
       "    </tr>\n",
       "  </tbody>\n",
       "</table>\n",
       "</div>"
      ],
      "text/plain": [
       "        num_orders\n",
       "count  4416.000000\n",
       "mean     84.422781\n",
       "std      45.023853\n",
       "min       0.000000\n",
       "25%      54.000000\n",
       "50%      78.000000\n",
       "75%     107.000000\n",
       "max     462.000000"
      ]
     },
     "execution_count": 6,
     "metadata": {},
     "output_type": "execute_result"
    }
   ],
   "source": [
    "df.describe()"
   ]
  },
  {
   "cell_type": "markdown",
   "metadata": {},
   "source": [
    "Посмотрим на данные в разрезе дня и недели:"
   ]
  },
  {
   "cell_type": "code",
   "execution_count": 7,
   "metadata": {},
   "outputs": [
    {
     "data": {
      "text/plain": [
       "<AxesSubplot:xlabel='datetime'>"
      ]
     },
     "execution_count": 7,
     "metadata": {},
     "output_type": "execute_result"
    },
    {
     "data": {
      "image/png": "[encoded data removed]",
      "text/plain": [
       "<Figure size 432x288 with 1 Axes>"
      ]
     },
     "metadata": {
      "needs_background": "light"
     },
     "output_type": "display_data"
    }
   ],
   "source": [
    "df_day = df['2018-04-01':'2018-04-02']\n",
    "df_day.plot()"
   ]
  },
  {
   "cell_type": "code",
   "execution_count": 8,
   "metadata": {},
   "outputs": [
    {
     "data": {
      "text/plain": [
       "<AxesSubplot:xlabel='datetime'>"
      ]
     },
     "execution_count": 8,
     "metadata": {},
     "output_type": "execute_result"
    },
    {
     "data": {
      "image/png": "[encoded data removed]",
      "text/plain": [
       "<Figure size 432x288 with 1 Axes>"
      ]
     },
     "metadata": {
      "needs_background": "light"
     },
     "output_type": "display_data"
    }
   ],
   "source": [
    "df_week = df['2018-03-12':'2018-03-18']\n",
    "df_week.plot()"
   ]
  },
  {
   "cell_type": "markdown",
   "metadata": {},
   "source": [
    "С помощью скользящего среднего и скользящего среднего отклонения посмотрим значения, которые меньше всего подвержены колебаниям"
   ]
  },
  {
   "cell_type": "code",
   "execution_count": 9,
   "metadata": {},
   "outputs": [
    {
     "data": {
      "text/plain": [
       "<AxesSubplot:xlabel='datetime'>"
      ]
     },
     "execution_count": 9,
     "metadata": {},
     "output_type": "execute_result"
    },
    {
     "data": {
      "image/png": "[encoded data removed]",
      "text/plain": [
       "<Figure size 432x288 with 1 Axes>"
      ]
     },
     "metadata": {
      "needs_background": "light"
     },
     "output_type": "display_data"
    }
   ],
   "source": [
    "df['mean'] = df['num_orders'].rolling(48).mean()\n",
    "df['std'] = df['num_orders'].rolling(48).std()\n",
    "df.plot()"
   ]
  },
  {
   "cell_type": "markdown",
   "metadata": {},
   "source": [
    "Разложим ряд на тренд, сезонность и остаток:"
   ]
  },
  {
   "cell_type": "code",
   "execution_count": 10,
   "metadata": {},
   "outputs": [
    {
     "data": {
      "image/png": "[encoded data removed]",
      "text/plain": [
       "<Figure size 720x864 with 3 Axes>"
      ]
     },
     "metadata": {
      "needs_background": "light"
     },
     "output_type": "display_data"
    }
   ],
   "source": [
    "decomposed = seasonal_decompose(df['num_orders']) # < напишите код здесь >\n",
    "\n",
    "plt.figure(figsize=(10, 12))\n",
    "plt.subplot(311)\n",
    "decomposed.trend.plot(ax=plt.gca())\n",
    "plt.title('Trend')\n",
    "plt.subplot(312)\n",
    "decomposed.seasonal.plot(ax=plt.gca())\n",
    "plt.title('Seasonality')\n",
    "plt.subplot(313)\n",
    "decomposed.resid.plot(ax=plt.gca()) \n",
    "plt.title('Residuals')\n",
    "plt.tight_layout()"
   ]
  },
  {
   "cell_type": "markdown",
   "metadata": {},
   "source": [
    "Построим график сезонной составляющей за первые 7 дней:"
   ]
  },
  {
   "cell_type": "code",
   "execution_count": 11,
   "metadata": {},
   "outputs": [
    {
     "data": {
      "text/plain": [
       "<AxesSubplot:xlabel='datetime'>"
      ]
     },
     "execution_count": 11,
     "metadata": {},
     "output_type": "execute_result"
    },
    {
     "data": {
      "image/png": "[encoded data removed]",
      "text/plain": [
       "<Figure size 432x288 with 1 Axes>"
      ]
     },
     "metadata": {
      "needs_background": "light"
     },
     "output_type": "display_data"
    }
   ],
   "source": [
    "decomposed.seasonal['2018-03-01':'2018-03-07'].plot(ax=plt.gca())"
   ]
  },
  {
   "cell_type": "markdown",
   "metadata": {},
   "source": [
    "Из графика Trend видно, что наш временной ряд **нестационарный**. Это может помешать нашему прогнозированию, поэтому в дальнейшем будем использовать при обучении и стационарный и нестационарный и сравним метрики.\n",
    "Чтобы ряд сделать стационарным, вычислим разности временного ряда"
   ]
  },
  {
   "cell_type": "code",
   "execution_count": 12,
   "metadata": {},
   "outputs": [],
   "source": [
    "df = df.drop(['mean', 'std'], axis=1)"
   ]
  },
  {
   "cell_type": "code",
   "execution_count": 13,
   "metadata": {},
   "outputs": [
    {
     "data": {
      "text/plain": [
       "<AxesSubplot:xlabel='datetime'>"
      ]
     },
     "execution_count": 13,
     "metadata": {},
     "output_type": "execute_result"
    },
    {
     "data": {
      "image/png": "[encoded data removed]",
      "text/plain": [
       "<Figure size 432x288 with 1 Axes>"
      ]
     },
     "metadata": {
      "needs_background": "light"
     },
     "output_type": "display_data"
    }
   ],
   "source": [
    "df_shift = df - df.shift() \n",
    "df_shift['mean'] = df_shift['num_orders'].rolling(48).mean()\n",
    "df_shift['std'] = df_shift['num_orders'].rolling(48).std()\n",
    "df_shift.plot()"
   ]
  },
  {
   "cell_type": "markdown",
   "metadata": {},
   "source": [
    "Подготовим параметры с помощью функции. Разобьем параметры на следующие виды:\n",
    "- Календарные признаки (месяц, день, день недели, час) \n",
    "- «Отстающие значения»\n",
    "- Скользящее среднее"
   ]
  },
  {
   "cell_type": "code",
   "execution_count": 14,
   "metadata": {},
   "outputs": [],
   "source": [
    "df_shift = df_shift.drop(['mean', 'std'], axis=1)"
   ]
  },
  {
   "cell_type": "code",
   "execution_count": 15,
   "metadata": {},
   "outputs": [],
   "source": [
    "TARGET = 'num_orders'"
   ]
  },
  {
   "cell_type": "code",
   "execution_count": 16,
   "metadata": {},
   "outputs": [],
   "source": [
    "def make_features(data, max_lag, rolling_mean_size):\n",
    "    data['month'] = data.index.month\n",
    "    data['day'] = data.index.day\n",
    "    data['dayofweek'] = data.index.dayofweek\n",
    "    data['hour'] = data.index.hour\n",
    "    \n",
    "    for lag in range(1, max_lag + 1):\n",
    "        data['lag_{}'.format(lag)] = data[TARGET].shift(lag)\n",
    "\n",
    "    data['rolling_mean'] = data[TARGET].shift().rolling(rolling_mean_size).mean()"
   ]
  },
  {
   "cell_type": "code",
   "execution_count": null,
   "metadata": {},
   "outputs": [],
   "source": []
  },
  {
   "cell_type": "markdown",
   "metadata": {},
   "source": [
    "### Подготовка параметров и разделение выборок для **нестационарного** временного ряда"
   ]
  },
  {
   "cell_type": "code",
   "execution_count": 17,
   "metadata": {},
   "outputs": [
    {
     "data": {
      "text/html": [
       "<div>\n",
       "<style scoped>\n",
       "    .dataframe tbody tr th:only-of-type {\n",
       "        vertical-align: middle;\n",
       "    }\n",
       "\n",
       "    .dataframe tbody tr th {\n",
       "        vertical-align: top;\n",
       "    }\n",
       "\n",
       "    .dataframe thead th {\n",
       "        text-align: right;\n",
       "    }\n",
       "</style>\n",
       "<table border=\"1\" class=\"dataframe\">\n",
       "  <thead>\n",
       "    <tr style=\"text-align: right;\">\n",
       "      <th></th>\n",
       "      <th>num_orders</th>\n",
       "      <th>month</th>\n",
       "      <th>day</th>\n",
       "      <th>dayofweek</th>\n",
       "      <th>hour</th>\n",
       "      <th>lag_1</th>\n",
       "      <th>lag_2</th>\n",
       "      <th>lag_3</th>\n",
       "      <th>lag_4</th>\n",
       "      <th>lag_5</th>\n",
       "      <th>...</th>\n",
       "      <th>lag_16</th>\n",
       "      <th>lag_17</th>\n",
       "      <th>lag_18</th>\n",
       "      <th>lag_19</th>\n",
       "      <th>lag_20</th>\n",
       "      <th>lag_21</th>\n",
       "      <th>lag_22</th>\n",
       "      <th>lag_23</th>\n",
       "      <th>lag_24</th>\n",
       "      <th>rolling_mean</th>\n",
       "    </tr>\n",
       "    <tr>\n",
       "      <th>datetime</th>\n",
       "      <th></th>\n",
       "      <th></th>\n",
       "      <th></th>\n",
       "      <th></th>\n",
       "      <th></th>\n",
       "      <th></th>\n",
       "      <th></th>\n",
       "      <th></th>\n",
       "      <th></th>\n",
       "      <th></th>\n",
       "      <th></th>\n",
       "      <th></th>\n",
       "      <th></th>\n",
       "      <th></th>\n",
       "      <th></th>\n",
       "      <th></th>\n",
       "      <th></th>\n",
       "      <th></th>\n",
       "      <th></th>\n",
       "      <th></th>\n",
       "      <th></th>\n",
       "    </tr>\n",
       "  </thead>\n",
       "  <tbody>\n",
       "    <tr>\n",
       "      <th>2018-03-01 00:00:00</th>\n",
       "      <td>124</td>\n",
       "      <td>3</td>\n",
       "      <td>1</td>\n",
       "      <td>3</td>\n",
       "      <td>0</td>\n",
       "      <td>NaN</td>\n",
       "      <td>NaN</td>\n",
       "      <td>NaN</td>\n",
       "      <td>NaN</td>\n",
       "      <td>NaN</td>\n",
       "      <td>...</td>\n",
       "      <td>NaN</td>\n",
       "      <td>NaN</td>\n",
       "      <td>NaN</td>\n",
       "      <td>NaN</td>\n",
       "      <td>NaN</td>\n",
       "      <td>NaN</td>\n",
       "      <td>NaN</td>\n",
       "      <td>NaN</td>\n",
       "      <td>NaN</td>\n",
       "      <td>NaN</td>\n",
       "    </tr>\n",
       "    <tr>\n",
       "      <th>2018-03-01 01:00:00</th>\n",
       "      <td>85</td>\n",
       "      <td>3</td>\n",
       "      <td>1</td>\n",
       "      <td>3</td>\n",
       "      <td>1</td>\n",
       "      <td>124.0</td>\n",
       "      <td>NaN</td>\n",
       "      <td>NaN</td>\n",
       "      <td>NaN</td>\n",
       "      <td>NaN</td>\n",
       "      <td>...</td>\n",
       "      <td>NaN</td>\n",
       "      <td>NaN</td>\n",
       "      <td>NaN</td>\n",
       "      <td>NaN</td>\n",
       "      <td>NaN</td>\n",
       "      <td>NaN</td>\n",
       "      <td>NaN</td>\n",
       "      <td>NaN</td>\n",
       "      <td>NaN</td>\n",
       "      <td>NaN</td>\n",
       "    </tr>\n",
       "    <tr>\n",
       "      <th>2018-03-01 02:00:00</th>\n",
       "      <td>71</td>\n",
       "      <td>3</td>\n",
       "      <td>1</td>\n",
       "      <td>3</td>\n",
       "      <td>2</td>\n",
       "      <td>85.0</td>\n",
       "      <td>124.0</td>\n",
       "      <td>NaN</td>\n",
       "      <td>NaN</td>\n",
       "      <td>NaN</td>\n",
       "      <td>...</td>\n",
       "      <td>NaN</td>\n",
       "      <td>NaN</td>\n",
       "      <td>NaN</td>\n",
       "      <td>NaN</td>\n",
       "      <td>NaN</td>\n",
       "      <td>NaN</td>\n",
       "      <td>NaN</td>\n",
       "      <td>NaN</td>\n",
       "      <td>NaN</td>\n",
       "      <td>NaN</td>\n",
       "    </tr>\n",
       "    <tr>\n",
       "      <th>2018-03-01 03:00:00</th>\n",
       "      <td>66</td>\n",
       "      <td>3</td>\n",
       "      <td>1</td>\n",
       "      <td>3</td>\n",
       "      <td>3</td>\n",
       "      <td>71.0</td>\n",
       "      <td>85.0</td>\n",
       "      <td>124.0</td>\n",
       "      <td>NaN</td>\n",
       "      <td>NaN</td>\n",
       "      <td>...</td>\n",
       "      <td>NaN</td>\n",
       "      <td>NaN</td>\n",
       "      <td>NaN</td>\n",
       "      <td>NaN</td>\n",
       "      <td>NaN</td>\n",
       "      <td>NaN</td>\n",
       "      <td>NaN</td>\n",
       "      <td>NaN</td>\n",
       "      <td>NaN</td>\n",
       "      <td>NaN</td>\n",
       "    </tr>\n",
       "    <tr>\n",
       "      <th>2018-03-01 04:00:00</th>\n",
       "      <td>43</td>\n",
       "      <td>3</td>\n",
       "      <td>1</td>\n",
       "      <td>3</td>\n",
       "      <td>4</td>\n",
       "      <td>66.0</td>\n",
       "      <td>71.0</td>\n",
       "      <td>85.0</td>\n",
       "      <td>124.0</td>\n",
       "      <td>NaN</td>\n",
       "      <td>...</td>\n",
       "      <td>NaN</td>\n",
       "      <td>NaN</td>\n",
       "      <td>NaN</td>\n",
       "      <td>NaN</td>\n",
       "      <td>NaN</td>\n",
       "      <td>NaN</td>\n",
       "      <td>NaN</td>\n",
       "      <td>NaN</td>\n",
       "      <td>NaN</td>\n",
       "      <td>NaN</td>\n",
       "    </tr>\n",
       "    <tr>\n",
       "      <th>...</th>\n",
       "      <td>...</td>\n",
       "      <td>...</td>\n",
       "      <td>...</td>\n",
       "      <td>...</td>\n",
       "      <td>...</td>\n",
       "      <td>...</td>\n",
       "      <td>...</td>\n",
       "      <td>...</td>\n",
       "      <td>...</td>\n",
       "      <td>...</td>\n",
       "      <td>...</td>\n",
       "      <td>...</td>\n",
       "      <td>...</td>\n",
       "      <td>...</td>\n",
       "      <td>...</td>\n",
       "      <td>...</td>\n",
       "      <td>...</td>\n",
       "      <td>...</td>\n",
       "      <td>...</td>\n",
       "      <td>...</td>\n",
       "      <td>...</td>\n",
       "    </tr>\n",
       "    <tr>\n",
       "      <th>2018-08-31 19:00:00</th>\n",
       "      <td>136</td>\n",
       "      <td>8</td>\n",
       "      <td>31</td>\n",
       "      <td>4</td>\n",
       "      <td>19</td>\n",
       "      <td>207.0</td>\n",
       "      <td>217.0</td>\n",
       "      <td>197.0</td>\n",
       "      <td>116.0</td>\n",
       "      <td>133.0</td>\n",
       "      <td>...</td>\n",
       "      <td>99.0</td>\n",
       "      <td>230.0</td>\n",
       "      <td>194.0</td>\n",
       "      <td>276.0</td>\n",
       "      <td>246.0</td>\n",
       "      <td>158.0</td>\n",
       "      <td>198.0</td>\n",
       "      <td>142.0</td>\n",
       "      <td>72.0</td>\n",
       "      <td>167.428571</td>\n",
       "    </tr>\n",
       "    <tr>\n",
       "      <th>2018-08-31 20:00:00</th>\n",
       "      <td>154</td>\n",
       "      <td>8</td>\n",
       "      <td>31</td>\n",
       "      <td>4</td>\n",
       "      <td>20</td>\n",
       "      <td>136.0</td>\n",
       "      <td>207.0</td>\n",
       "      <td>217.0</td>\n",
       "      <td>197.0</td>\n",
       "      <td>116.0</td>\n",
       "      <td>...</td>\n",
       "      <td>268.0</td>\n",
       "      <td>99.0</td>\n",
       "      <td>230.0</td>\n",
       "      <td>194.0</td>\n",
       "      <td>276.0</td>\n",
       "      <td>246.0</td>\n",
       "      <td>158.0</td>\n",
       "      <td>198.0</td>\n",
       "      <td>142.0</td>\n",
       "      <td>167.428571</td>\n",
       "    </tr>\n",
       "    <tr>\n",
       "      <th>2018-08-31 21:00:00</th>\n",
       "      <td>159</td>\n",
       "      <td>8</td>\n",
       "      <td>31</td>\n",
       "      <td>4</td>\n",
       "      <td>21</td>\n",
       "      <td>154.0</td>\n",
       "      <td>136.0</td>\n",
       "      <td>207.0</td>\n",
       "      <td>217.0</td>\n",
       "      <td>197.0</td>\n",
       "      <td>...</td>\n",
       "      <td>78.0</td>\n",
       "      <td>268.0</td>\n",
       "      <td>99.0</td>\n",
       "      <td>230.0</td>\n",
       "      <td>194.0</td>\n",
       "      <td>276.0</td>\n",
       "      <td>246.0</td>\n",
       "      <td>158.0</td>\n",
       "      <td>198.0</td>\n",
       "      <td>165.714286</td>\n",
       "    </tr>\n",
       "    <tr>\n",
       "      <th>2018-08-31 22:00:00</th>\n",
       "      <td>223</td>\n",
       "      <td>8</td>\n",
       "      <td>31</td>\n",
       "      <td>4</td>\n",
       "      <td>22</td>\n",
       "      <td>159.0</td>\n",
       "      <td>154.0</td>\n",
       "      <td>136.0</td>\n",
       "      <td>207.0</td>\n",
       "      <td>217.0</td>\n",
       "      <td>...</td>\n",
       "      <td>35.0</td>\n",
       "      <td>78.0</td>\n",
       "      <td>268.0</td>\n",
       "      <td>99.0</td>\n",
       "      <td>230.0</td>\n",
       "      <td>194.0</td>\n",
       "      <td>276.0</td>\n",
       "      <td>246.0</td>\n",
       "      <td>158.0</td>\n",
       "      <td>169.428571</td>\n",
       "    </tr>\n",
       "    <tr>\n",
       "      <th>2018-08-31 23:00:00</th>\n",
       "      <td>205</td>\n",
       "      <td>8</td>\n",
       "      <td>31</td>\n",
       "      <td>4</td>\n",
       "      <td>23</td>\n",
       "      <td>223.0</td>\n",
       "      <td>159.0</td>\n",
       "      <td>154.0</td>\n",
       "      <td>136.0</td>\n",
       "      <td>207.0</td>\n",
       "      <td>...</td>\n",
       "      <td>46.0</td>\n",
       "      <td>35.0</td>\n",
       "      <td>78.0</td>\n",
       "      <td>268.0</td>\n",
       "      <td>99.0</td>\n",
       "      <td>230.0</td>\n",
       "      <td>194.0</td>\n",
       "      <td>276.0</td>\n",
       "      <td>246.0</td>\n",
       "      <td>184.714286</td>\n",
       "    </tr>\n",
       "  </tbody>\n",
       "</table>\n",
       "<p>4416 rows × 30 columns</p>\n",
       "</div>"
      ],
      "text/plain": [
       "                     num_orders  month  day  dayofweek  hour  lag_1  lag_2  \\\n",
       "datetime                                                                     \n",
       "2018-03-01 00:00:00         124      3    1          3     0    NaN    NaN   \n",
       "2018-03-01 01:00:00          85      3    1          3     1  124.0    NaN   \n",
       "2018-03-01 02:00:00          71      3    1          3     2   85.0  124.0   \n",
       "2018-03-01 03:00:00          66      3    1          3     3   71.0   85.0   \n",
       "2018-03-01 04:00:00          43      3    1          3     4   66.0   71.0   \n",
       "...                         ...    ...  ...        ...   ...    ...    ...   \n",
       "2018-08-31 19:00:00         136      8   31          4    19  207.0  217.0   \n",
       "2018-08-31 20:00:00         154      8   31          4    20  136.0  207.0   \n",
       "2018-08-31 21:00:00         159      8   31          4    21  154.0  136.0   \n",
       "2018-08-31 22:00:00         223      8   31          4    22  159.0  154.0   \n",
       "2018-08-31 23:00:00         205      8   31          4    23  223.0  159.0   \n",
       "\n",
       "                     lag_3  lag_4  lag_5  ...  lag_16  lag_17  lag_18  lag_19  \\\n",
       "datetime                                  ...                                   \n",
       "2018-03-01 00:00:00    NaN    NaN    NaN  ...     NaN     NaN     NaN     NaN   \n",
       "2018-03-01 01:00:00    NaN    NaN    NaN  ...     NaN     NaN     NaN     NaN   \n",
       "2018-03-01 02:00:00    NaN    NaN    NaN  ...     NaN     NaN     NaN     NaN   \n",
       "2018-03-01 03:00:00  124.0    NaN    NaN  ...     NaN     NaN     NaN     NaN   \n",
       "2018-03-01 04:00:00   85.0  124.0    NaN  ...     NaN     NaN     NaN     NaN   \n",
       "...                    ...    ...    ...  ...     ...     ...     ...     ...   \n",
       "2018-08-31 19:00:00  197.0  116.0  133.0  ...    99.0   230.0   194.0   276.0   \n",
       "2018-08-31 20:00:00  217.0  197.0  116.0  ...   268.0    99.0   230.0   194.0   \n",
       "2018-08-31 21:00:00  207.0  217.0  197.0  ...    78.0   268.0    99.0   230.0   \n",
       "2018-08-31 22:00:00  136.0  207.0  217.0  ...    35.0    78.0   268.0    99.0   \n",
       "2018-08-31 23:00:00  154.0  136.0  207.0  ...    46.0    35.0    78.0   268.0   \n",
       "\n",
       "                     lag_20  lag_21  lag_22  lag_23  lag_24  rolling_mean  \n",
       "datetime                                                                   \n",
       "2018-03-01 00:00:00     NaN     NaN     NaN     NaN     NaN           NaN  \n",
       "2018-03-01 01:00:00     NaN     NaN     NaN     NaN     NaN           NaN  \n",
       "2018-03-01 02:00:00     NaN     NaN     NaN     NaN     NaN           NaN  \n",
       "2018-03-01 03:00:00     NaN     NaN     NaN     NaN     NaN           NaN  \n",
       "2018-03-01 04:00:00     NaN     NaN     NaN     NaN     NaN           NaN  \n",
       "...                     ...     ...     ...     ...     ...           ...  \n",
       "2018-08-31 19:00:00   246.0   158.0   198.0   142.0    72.0    167.428571  \n",
       "2018-08-31 20:00:00   276.0   246.0   158.0   198.0   142.0    167.428571  \n",
       "2018-08-31 21:00:00   194.0   276.0   246.0   158.0   198.0    165.714286  \n",
       "2018-08-31 22:00:00   230.0   194.0   276.0   246.0   158.0    169.428571  \n",
       "2018-08-31 23:00:00    99.0   230.0   194.0   276.0   246.0    184.714286  \n",
       "\n",
       "[4416 rows x 30 columns]"
      ]
     },
     "execution_count": 17,
     "metadata": {},
     "output_type": "execute_result"
    }
   ],
   "source": [
    "make_features(df, 24, 7)\n",
    "df"
   ]
  },
  {
   "cell_type": "code",
   "execution_count": 18,
   "metadata": {},
   "outputs": [
    {
     "name": "stdout",
     "output_type": "stream",
     "text": [
      "Размер выборки _train (3508, 29)\n",
      "Размер выборки _valid (442, 29)\n",
      "Размер выборки _test (442, 29)\n"
     ]
    }
   ],
   "source": [
    "train, temp = train_test_split(df, test_size=0.2, shuffle=False)\n",
    "valid, test = train_test_split(temp, test_size=0.5, random_state=12345)\n",
    "\n",
    "train = train.dropna()\n",
    "\n",
    "features_train = train.drop([TARGET], axis=1)\n",
    "target_train = train[TARGET]\n",
    "\n",
    "features_valid = valid.drop([TARGET], axis=1)\n",
    "target_valid = valid[TARGET]\n",
    "\n",
    "features_test = test.drop([TARGET], axis=1)\n",
    "target_test = test[TARGET]\n",
    "\n",
    "print('Размер выборки _train', features_train.shape)\n",
    "print('Размер выборки _valid', features_valid.shape)\n",
    "print('Размер выборки _test', features_test.shape)"
   ]
  },
  {
   "cell_type": "markdown",
   "metadata": {},
   "source": [
    "### Подготовка параметров и разделение выборок для **стационарного** временного ряда"
   ]
  },
  {
   "cell_type": "code",
   "execution_count": 19,
   "metadata": {},
   "outputs": [
    {
     "data": {
      "text/html": [
       "<div>\n",
       "<style scoped>\n",
       "    .dataframe tbody tr th:only-of-type {\n",
       "        vertical-align: middle;\n",
       "    }\n",
       "\n",
       "    .dataframe tbody tr th {\n",
       "        vertical-align: top;\n",
       "    }\n",
       "\n",
       "    .dataframe thead th {\n",
       "        text-align: right;\n",
       "    }\n",
       "</style>\n",
       "<table border=\"1\" class=\"dataframe\">\n",
       "  <thead>\n",
       "    <tr style=\"text-align: right;\">\n",
       "      <th></th>\n",
       "      <th>num_orders</th>\n",
       "      <th>month</th>\n",
       "      <th>day</th>\n",
       "      <th>dayofweek</th>\n",
       "      <th>hour</th>\n",
       "      <th>lag_1</th>\n",
       "      <th>lag_2</th>\n",
       "      <th>lag_3</th>\n",
       "      <th>lag_4</th>\n",
       "      <th>lag_5</th>\n",
       "      <th>...</th>\n",
       "      <th>lag_16</th>\n",
       "      <th>lag_17</th>\n",
       "      <th>lag_18</th>\n",
       "      <th>lag_19</th>\n",
       "      <th>lag_20</th>\n",
       "      <th>lag_21</th>\n",
       "      <th>lag_22</th>\n",
       "      <th>lag_23</th>\n",
       "      <th>lag_24</th>\n",
       "      <th>rolling_mean</th>\n",
       "    </tr>\n",
       "    <tr>\n",
       "      <th>datetime</th>\n",
       "      <th></th>\n",
       "      <th></th>\n",
       "      <th></th>\n",
       "      <th></th>\n",
       "      <th></th>\n",
       "      <th></th>\n",
       "      <th></th>\n",
       "      <th></th>\n",
       "      <th></th>\n",
       "      <th></th>\n",
       "      <th></th>\n",
       "      <th></th>\n",
       "      <th></th>\n",
       "      <th></th>\n",
       "      <th></th>\n",
       "      <th></th>\n",
       "      <th></th>\n",
       "      <th></th>\n",
       "      <th></th>\n",
       "      <th></th>\n",
       "      <th></th>\n",
       "    </tr>\n",
       "  </thead>\n",
       "  <tbody>\n",
       "    <tr>\n",
       "      <th>2018-03-01 00:00:00</th>\n",
       "      <td>NaN</td>\n",
       "      <td>3</td>\n",
       "      <td>1</td>\n",
       "      <td>3</td>\n",
       "      <td>0</td>\n",
       "      <td>NaN</td>\n",
       "      <td>NaN</td>\n",
       "      <td>NaN</td>\n",
       "      <td>NaN</td>\n",
       "      <td>NaN</td>\n",
       "      <td>...</td>\n",
       "      <td>NaN</td>\n",
       "      <td>NaN</td>\n",
       "      <td>NaN</td>\n",
       "      <td>NaN</td>\n",
       "      <td>NaN</td>\n",
       "      <td>NaN</td>\n",
       "      <td>NaN</td>\n",
       "      <td>NaN</td>\n",
       "      <td>NaN</td>\n",
       "      <td>NaN</td>\n",
       "    </tr>\n",
       "    <tr>\n",
       "      <th>2018-03-01 01:00:00</th>\n",
       "      <td>-39.0</td>\n",
       "      <td>3</td>\n",
       "      <td>1</td>\n",
       "      <td>3</td>\n",
       "      <td>1</td>\n",
       "      <td>NaN</td>\n",
       "      <td>NaN</td>\n",
       "      <td>NaN</td>\n",
       "      <td>NaN</td>\n",
       "      <td>NaN</td>\n",
       "      <td>...</td>\n",
       "      <td>NaN</td>\n",
       "      <td>NaN</td>\n",
       "      <td>NaN</td>\n",
       "      <td>NaN</td>\n",
       "      <td>NaN</td>\n",
       "      <td>NaN</td>\n",
       "      <td>NaN</td>\n",
       "      <td>NaN</td>\n",
       "      <td>NaN</td>\n",
       "      <td>NaN</td>\n",
       "    </tr>\n",
       "    <tr>\n",
       "      <th>2018-03-01 02:00:00</th>\n",
       "      <td>-14.0</td>\n",
       "      <td>3</td>\n",
       "      <td>1</td>\n",
       "      <td>3</td>\n",
       "      <td>2</td>\n",
       "      <td>-39.0</td>\n",
       "      <td>NaN</td>\n",
       "      <td>NaN</td>\n",
       "      <td>NaN</td>\n",
       "      <td>NaN</td>\n",
       "      <td>...</td>\n",
       "      <td>NaN</td>\n",
       "      <td>NaN</td>\n",
       "      <td>NaN</td>\n",
       "      <td>NaN</td>\n",
       "      <td>NaN</td>\n",
       "      <td>NaN</td>\n",
       "      <td>NaN</td>\n",
       "      <td>NaN</td>\n",
       "      <td>NaN</td>\n",
       "      <td>NaN</td>\n",
       "    </tr>\n",
       "    <tr>\n",
       "      <th>2018-03-01 03:00:00</th>\n",
       "      <td>-5.0</td>\n",
       "      <td>3</td>\n",
       "      <td>1</td>\n",
       "      <td>3</td>\n",
       "      <td>3</td>\n",
       "      <td>-14.0</td>\n",
       "      <td>-39.0</td>\n",
       "      <td>NaN</td>\n",
       "      <td>NaN</td>\n",
       "      <td>NaN</td>\n",
       "      <td>...</td>\n",
       "      <td>NaN</td>\n",
       "      <td>NaN</td>\n",
       "      <td>NaN</td>\n",
       "      <td>NaN</td>\n",
       "      <td>NaN</td>\n",
       "      <td>NaN</td>\n",
       "      <td>NaN</td>\n",
       "      <td>NaN</td>\n",
       "      <td>NaN</td>\n",
       "      <td>NaN</td>\n",
       "    </tr>\n",
       "    <tr>\n",
       "      <th>2018-03-01 04:00:00</th>\n",
       "      <td>-23.0</td>\n",
       "      <td>3</td>\n",
       "      <td>1</td>\n",
       "      <td>3</td>\n",
       "      <td>4</td>\n",
       "      <td>-5.0</td>\n",
       "      <td>-14.0</td>\n",
       "      <td>-39.0</td>\n",
       "      <td>NaN</td>\n",
       "      <td>NaN</td>\n",
       "      <td>...</td>\n",
       "      <td>NaN</td>\n",
       "      <td>NaN</td>\n",
       "      <td>NaN</td>\n",
       "      <td>NaN</td>\n",
       "      <td>NaN</td>\n",
       "      <td>NaN</td>\n",
       "      <td>NaN</td>\n",
       "      <td>NaN</td>\n",
       "      <td>NaN</td>\n",
       "      <td>NaN</td>\n",
       "    </tr>\n",
       "    <tr>\n",
       "      <th>...</th>\n",
       "      <td>...</td>\n",
       "      <td>...</td>\n",
       "      <td>...</td>\n",
       "      <td>...</td>\n",
       "      <td>...</td>\n",
       "      <td>...</td>\n",
       "      <td>...</td>\n",
       "      <td>...</td>\n",
       "      <td>...</td>\n",
       "      <td>...</td>\n",
       "      <td>...</td>\n",
       "      <td>...</td>\n",
       "      <td>...</td>\n",
       "      <td>...</td>\n",
       "      <td>...</td>\n",
       "      <td>...</td>\n",
       "      <td>...</td>\n",
       "      <td>...</td>\n",
       "      <td>...</td>\n",
       "      <td>...</td>\n",
       "      <td>...</td>\n",
       "    </tr>\n",
       "    <tr>\n",
       "      <th>2018-08-31 19:00:00</th>\n",
       "      <td>-71.0</td>\n",
       "      <td>8</td>\n",
       "      <td>31</td>\n",
       "      <td>4</td>\n",
       "      <td>19</td>\n",
       "      <td>-10.0</td>\n",
       "      <td>20.0</td>\n",
       "      <td>81.0</td>\n",
       "      <td>-17.0</td>\n",
       "      <td>-33.0</td>\n",
       "      <td>...</td>\n",
       "      <td>-131.0</td>\n",
       "      <td>36.0</td>\n",
       "      <td>-82.0</td>\n",
       "      <td>30.0</td>\n",
       "      <td>88.0</td>\n",
       "      <td>-40.0</td>\n",
       "      <td>56.0</td>\n",
       "      <td>70.0</td>\n",
       "      <td>-105.0</td>\n",
       "      <td>5.714286</td>\n",
       "    </tr>\n",
       "    <tr>\n",
       "      <th>2018-08-31 20:00:00</th>\n",
       "      <td>18.0</td>\n",
       "      <td>8</td>\n",
       "      <td>31</td>\n",
       "      <td>4</td>\n",
       "      <td>20</td>\n",
       "      <td>-71.0</td>\n",
       "      <td>-10.0</td>\n",
       "      <td>20.0</td>\n",
       "      <td>81.0</td>\n",
       "      <td>-17.0</td>\n",
       "      <td>...</td>\n",
       "      <td>169.0</td>\n",
       "      <td>-131.0</td>\n",
       "      <td>36.0</td>\n",
       "      <td>-82.0</td>\n",
       "      <td>30.0</td>\n",
       "      <td>88.0</td>\n",
       "      <td>-40.0</td>\n",
       "      <td>56.0</td>\n",
       "      <td>70.0</td>\n",
       "      <td>0.000000</td>\n",
       "    </tr>\n",
       "    <tr>\n",
       "      <th>2018-08-31 21:00:00</th>\n",
       "      <td>5.0</td>\n",
       "      <td>8</td>\n",
       "      <td>31</td>\n",
       "      <td>4</td>\n",
       "      <td>21</td>\n",
       "      <td>18.0</td>\n",
       "      <td>-71.0</td>\n",
       "      <td>-10.0</td>\n",
       "      <td>20.0</td>\n",
       "      <td>81.0</td>\n",
       "      <td>...</td>\n",
       "      <td>-190.0</td>\n",
       "      <td>169.0</td>\n",
       "      <td>-131.0</td>\n",
       "      <td>36.0</td>\n",
       "      <td>-82.0</td>\n",
       "      <td>30.0</td>\n",
       "      <td>88.0</td>\n",
       "      <td>-40.0</td>\n",
       "      <td>56.0</td>\n",
       "      <td>-1.714286</td>\n",
       "    </tr>\n",
       "    <tr>\n",
       "      <th>2018-08-31 22:00:00</th>\n",
       "      <td>64.0</td>\n",
       "      <td>8</td>\n",
       "      <td>31</td>\n",
       "      <td>4</td>\n",
       "      <td>22</td>\n",
       "      <td>5.0</td>\n",
       "      <td>18.0</td>\n",
       "      <td>-71.0</td>\n",
       "      <td>-10.0</td>\n",
       "      <td>20.0</td>\n",
       "      <td>...</td>\n",
       "      <td>-43.0</td>\n",
       "      <td>-190.0</td>\n",
       "      <td>169.0</td>\n",
       "      <td>-131.0</td>\n",
       "      <td>36.0</td>\n",
       "      <td>-82.0</td>\n",
       "      <td>30.0</td>\n",
       "      <td>88.0</td>\n",
       "      <td>-40.0</td>\n",
       "      <td>3.714286</td>\n",
       "    </tr>\n",
       "    <tr>\n",
       "      <th>2018-08-31 23:00:00</th>\n",
       "      <td>-18.0</td>\n",
       "      <td>8</td>\n",
       "      <td>31</td>\n",
       "      <td>4</td>\n",
       "      <td>23</td>\n",
       "      <td>64.0</td>\n",
       "      <td>5.0</td>\n",
       "      <td>18.0</td>\n",
       "      <td>-71.0</td>\n",
       "      <td>-10.0</td>\n",
       "      <td>...</td>\n",
       "      <td>11.0</td>\n",
       "      <td>-43.0</td>\n",
       "      <td>-190.0</td>\n",
       "      <td>169.0</td>\n",
       "      <td>-131.0</td>\n",
       "      <td>36.0</td>\n",
       "      <td>-82.0</td>\n",
       "      <td>30.0</td>\n",
       "      <td>88.0</td>\n",
       "      <td>15.285714</td>\n",
       "    </tr>\n",
       "  </tbody>\n",
       "</table>\n",
       "<p>4416 rows × 30 columns</p>\n",
       "</div>"
      ],
      "text/plain": [
       "                     num_orders  month  day  dayofweek  hour  lag_1  lag_2  \\\n",
       "datetime                                                                     \n",
       "2018-03-01 00:00:00         NaN      3    1          3     0    NaN    NaN   \n",
       "2018-03-01 01:00:00       -39.0      3    1          3     1    NaN    NaN   \n",
       "2018-03-01 02:00:00       -14.0      3    1          3     2  -39.0    NaN   \n",
       "2018-03-01 03:00:00        -5.0      3    1          3     3  -14.0  -39.0   \n",
       "2018-03-01 04:00:00       -23.0      3    1          3     4   -5.0  -14.0   \n",
       "...                         ...    ...  ...        ...   ...    ...    ...   \n",
       "2018-08-31 19:00:00       -71.0      8   31          4    19  -10.0   20.0   \n",
       "2018-08-31 20:00:00        18.0      8   31          4    20  -71.0  -10.0   \n",
       "2018-08-31 21:00:00         5.0      8   31          4    21   18.0  -71.0   \n",
       "2018-08-31 22:00:00        64.0      8   31          4    22    5.0   18.0   \n",
       "2018-08-31 23:00:00       -18.0      8   31          4    23   64.0    5.0   \n",
       "\n",
       "                     lag_3  lag_4  lag_5  ...  lag_16  lag_17  lag_18  lag_19  \\\n",
       "datetime                                  ...                                   \n",
       "2018-03-01 00:00:00    NaN    NaN    NaN  ...     NaN     NaN     NaN     NaN   \n",
       "2018-03-01 01:00:00    NaN    NaN    NaN  ...     NaN     NaN     NaN     NaN   \n",
       "2018-03-01 02:00:00    NaN    NaN    NaN  ...     NaN     NaN     NaN     NaN   \n",
       "2018-03-01 03:00:00    NaN    NaN    NaN  ...     NaN     NaN     NaN     NaN   \n",
       "2018-03-01 04:00:00  -39.0    NaN    NaN  ...     NaN     NaN     NaN     NaN   \n",
       "...                    ...    ...    ...  ...     ...     ...     ...     ...   \n",
       "2018-08-31 19:00:00   81.0  -17.0  -33.0  ...  -131.0    36.0   -82.0    30.0   \n",
       "2018-08-31 20:00:00   20.0   81.0  -17.0  ...   169.0  -131.0    36.0   -82.0   \n",
       "2018-08-31 21:00:00  -10.0   20.0   81.0  ...  -190.0   169.0  -131.0    36.0   \n",
       "2018-08-31 22:00:00  -71.0  -10.0   20.0  ...   -43.0  -190.0   169.0  -131.0   \n",
       "2018-08-31 23:00:00   18.0  -71.0  -10.0  ...    11.0   -43.0  -190.0   169.0   \n",
       "\n",
       "                     lag_20  lag_21  lag_22  lag_23  lag_24  rolling_mean  \n",
       "datetime                                                                   \n",
       "2018-03-01 00:00:00     NaN     NaN     NaN     NaN     NaN           NaN  \n",
       "2018-03-01 01:00:00     NaN     NaN     NaN     NaN     NaN           NaN  \n",
       "2018-03-01 02:00:00     NaN     NaN     NaN     NaN     NaN           NaN  \n",
       "2018-03-01 03:00:00     NaN     NaN     NaN     NaN     NaN           NaN  \n",
       "2018-03-01 04:00:00     NaN     NaN     NaN     NaN     NaN           NaN  \n",
       "...                     ...     ...     ...     ...     ...           ...  \n",
       "2018-08-31 19:00:00    88.0   -40.0    56.0    70.0  -105.0      5.714286  \n",
       "2018-08-31 20:00:00    30.0    88.0   -40.0    56.0    70.0      0.000000  \n",
       "2018-08-31 21:00:00   -82.0    30.0    88.0   -40.0    56.0     -1.714286  \n",
       "2018-08-31 22:00:00    36.0   -82.0    30.0    88.0   -40.0      3.714286  \n",
       "2018-08-31 23:00:00  -131.0    36.0   -82.0    30.0    88.0     15.285714  \n",
       "\n",
       "[4416 rows x 30 columns]"
      ]
     },
     "execution_count": 19,
     "metadata": {},
     "output_type": "execute_result"
    }
   ],
   "source": [
    "make_features(df_shift, 24, 7)\n",
    "df_shift"
   ]
  },
  {
   "cell_type": "code",
   "execution_count": 20,
   "metadata": {},
   "outputs": [
    {
     "name": "stdout",
     "output_type": "stream",
     "text": [
      "Размер выборки _train (3507, 29)\n",
      "Размер выборки _valid (442, 29)\n",
      "Размер выборки _test (442, 29)\n"
     ]
    }
   ],
   "source": [
    "train_shift, temp_shift = train_test_split(df_shift, test_size=0.2, shuffle=False)\n",
    "valid_shift, test_shift = train_test_split(temp_shift, test_size=0.5, random_state=12345)\n",
    "\n",
    "train_shift = train_shift.dropna()\n",
    "\n",
    "features_train_shift = train_shift.drop([TARGET], axis=1)\n",
    "target_train_shift = train_shift[TARGET]\n",
    "\n",
    "features_valid_shift = valid_shift.drop([TARGET], axis=1)\n",
    "target_valid_shift = valid_shift[TARGET]\n",
    "\n",
    "features_test_shift = test_shift.drop([TARGET], axis=1)\n",
    "target_test_shift = test_shift[TARGET]\n",
    "\n",
    "print('Размер выборки _train', features_train_shift.shape)\n",
    "print('Размер выборки _valid', features_valid_shift.shape)\n",
    "print('Размер выборки _test', features_test_shift.shape)"
   ]
  },
  {
   "cell_type": "markdown",
   "metadata": {},
   "source": [
    "## Обучение"
   ]
  },
  {
   "cell_type": "markdown",
   "metadata": {},
   "source": [
    "Чтобы использовать кроссвалидацию для подбора гиперпараметоров в качестве аргумента **cv** будем использовать специальный сплиттер TimeSeriesSplit, который не будет нарушать порядок следования данных."
   ]
  },
  {
   "cell_type": "code",
   "execution_count": 21,
   "metadata": {},
   "outputs": [],
   "source": [
    "tscv = TimeSeriesSplit(n_splits=8) #3)"
   ]
  },
  {
   "cell_type": "markdown",
   "metadata": {},
   "source": [
    "Подберем гипермараметры для RandomForestRegressor и LGBMRegressor и обучим модели с использованием лучших из них"
   ]
  },
  {
   "cell_type": "markdown",
   "metadata": {},
   "source": [
    "### RandomForestRegressor для **нестационарного** временного ряда"
   ]
  },
  {
   "cell_type": "code",
   "execution_count": 22,
   "metadata": {},
   "outputs": [
    {
     "name": "stdout",
     "output_type": "stream",
     "text": [
      "Best hyperparams:  {'max_depth': 10, 'n_estimators': 30, 'random_state': 12345}\n",
      "Train RMSE: 23.62\n"
     ]
    }
   ],
   "source": [
    "model = RandomForestRegressor()\n",
    "params = {\n",
    "    'n_estimators' : [10, 20, 30],\n",
    "    'max_depth' : [3, 5, 10],\n",
    "    'random_state' : [12345]\n",
    "    }\n",
    "grid_cv = GridSearchCV(estimator=model, param_grid=params, cv=tscv, n_jobs=-1, scoring='neg_mean_squared_error')\n",
    "grid_cv.fit(features_train, target_train)\n",
    "rf_params = grid_cv.best_params_\n",
    "rf_rmse = (-grid_cv.best_score_) ** 0.5\n",
    "print('Best hyperparams: ', rf_params)\n",
    "print('Train RMSE: {:.2f}'.format(rf_rmse))"
   ]
  },
  {
   "cell_type": "code",
   "execution_count": 23,
   "metadata": {},
   "outputs": [
    {
     "name": "stdout",
     "output_type": "stream",
     "text": [
      "Valid RMSE = 41.28\n"
     ]
    }
   ],
   "source": [
    "model_rf = RandomForestRegressor(**rf_params)\n",
    "model_rf.fit(features_train, target_train)\n",
    "\n",
    "predict_rf = model_rf.predict(features_valid)\n",
    "\n",
    "rmse_rf = mean_squared_error(target_valid, predict_rf)**0.5\n",
    "\n",
    "print('Valid RMSE = {:.2f}'.format(rmse_rf))"
   ]
  },
  {
   "cell_type": "markdown",
   "metadata": {},
   "source": [
    "### RandomForestRegressor для **стационарного** временного ряда"
   ]
  },
  {
   "cell_type": "code",
   "execution_count": 24,
   "metadata": {},
   "outputs": [
    {
     "name": "stdout",
     "output_type": "stream",
     "text": [
      "Best hyperparams:  {'max_depth': 10, 'n_estimators': 30, 'random_state': 12345}\n",
      "Train RMSE: 26.89\n"
     ]
    }
   ],
   "source": [
    "model = RandomForestRegressor()\n",
    "params = {\n",
    "    'n_estimators' : [10, 20, 30],\n",
    "    'max_depth' : [3, 5, 10],\n",
    "    'random_state' : [12345]\n",
    "    }\n",
    "grid_cv = GridSearchCV(estimator=model, param_grid=params, cv=tscv, n_jobs=-1, scoring='neg_mean_squared_error')\n",
    "grid_cv.fit(features_train_shift, target_train_shift)\n",
    "rf_params = grid_cv.best_params_\n",
    "rf_rmse = (-grid_cv.best_score_) ** 0.5\n",
    "print('Best hyperparams: ', rf_params)\n",
    "print('Train RMSE: {:.2f}'.format(rf_rmse))"
   ]
  },
  {
   "cell_type": "code",
   "execution_count": 25,
   "metadata": {},
   "outputs": [
    {
     "name": "stdout",
     "output_type": "stream",
     "text": [
      "Valid RMSE = 40.82\n"
     ]
    }
   ],
   "source": [
    "model_rf_shift = RandomForestRegressor(**rf_params)\n",
    "model_rf_shift.fit(features_train_shift, target_train_shift)\n",
    "\n",
    "predict_rf_shift = model_rf_shift.predict(features_valid_shift)\n",
    "\n",
    "rmse_rf_shift = mean_squared_error(target_valid_shift, predict_rf_shift)**0.5\n",
    "\n",
    "print('Valid RMSE = {:.2f}'.format(rmse_rf_shift))"
   ]
  },
  {
   "cell_type": "markdown",
   "metadata": {},
   "source": [
    "### LGBMRegressor для **нестационарного** временного ряда"
   ]
  },
  {
   "cell_type": "code",
   "execution_count": 26,
   "metadata": {},
   "outputs": [
    {
     "name": "stdout",
     "output_type": "stream",
     "text": [
      "Best hyperparams:  {'boosting_type': 'gbdt', 'force_col_wise': True, 'max_depth': 5, 'n_estimators': 100, 'num_leaves': 30, 'random_state': 12345, 'verbose': -1}\n",
      "Train RMSE: 23.08\n"
     ]
    }
   ],
   "source": [
    "model = LGBMRegressor()\n",
    "params = {\n",
    "    'boosting_type' : ['gbdt'],\n",
    "    'n_estimators' : [50, 100, 200],\n",
    "    'max_depth' : [5, 7, 10],\n",
    "    'verbose' : [-1],\n",
    "    'random_state' : [12345],\n",
    "    'force_col_wise': [True],\n",
    "    'num_leaves' : [30, 130, 200]\n",
    "    }\n",
    "grid_cv = GridSearchCV(estimator=model, param_grid=params, cv=tscv, n_jobs=-1, scoring='neg_mean_squared_error')\n",
    "grid_cv.fit(features_train, target_train)\n",
    "lgb_params = grid_cv.best_params_\n",
    "lgb_rmse = (-grid_cv.best_score_) ** 0.5\n",
    "print('Best hyperparams: ', lgb_params)\n",
    "print('Train RMSE: {:.2f}'.format(lgb_rmse))"
   ]
  },
  {
   "cell_type": "code",
   "execution_count": 27,
   "metadata": {},
   "outputs": [
    {
     "name": "stdout",
     "output_type": "stream",
     "text": [
      "Valid RMSE = 39.85\n"
     ]
    }
   ],
   "source": [
    "model_lgb = LGBMRegressor(**lgb_params)\n",
    "model_lgb.fit(features_train, target_train)\n",
    "\n",
    "predict_lgb = model_lgb.predict(features_valid)\n",
    "\n",
    "rmse_lgb = mean_squared_error(target_valid, predict_lgb)**0.5\n",
    "\n",
    "print('Valid RMSE = {:.2f}'.format(rmse_lgb))"
   ]
  },
  {
   "cell_type": "markdown",
   "metadata": {},
   "source": [
    "### LGBMRegressor для **стационарного** временного ряда"
   ]
  },
  {
   "cell_type": "code",
   "execution_count": 28,
   "metadata": {},
   "outputs": [
    {
     "name": "stdout",
     "output_type": "stream",
     "text": [
      "Best hyperparams:  {'boosting_type': 'gbdt', 'force_col_wise': True, 'max_depth': 7, 'n_estimators': 200, 'num_leaves': 30, 'random_state': 12345, 'verbose': -1}\n",
      "Train RMSE: 25.02\n"
     ]
    }
   ],
   "source": [
    "model = LGBMRegressor()\n",
    "params = {\n",
    "    'boosting_type' : ['gbdt'],\n",
    "    'n_estimators' : [50, 100, 200],\n",
    "    'max_depth' :[7],# [5, 7, 10],\n",
    "    'verbose' : [-1],\n",
    "    'random_state' : [12345],\n",
    "    'force_col_wise': [True],\n",
    "    'num_leaves' :[30, 130, 200]\n",
    "    }\n",
    "grid_cv = GridSearchCV(estimator=model, param_grid=params, cv=tscv, n_jobs=-1, scoring='neg_mean_squared_error')\n",
    "grid_cv.fit(features_train_shift, target_train_shift)\n",
    "lgb_params = grid_cv.best_params_\n",
    "lgb_rmse = (-grid_cv.best_score_) ** 0.5\n",
    "print('Best hyperparams: ', lgb_params)\n",
    "print('Train RMSE: {:.2f}'.format(lgb_rmse))"
   ]
  },
  {
   "cell_type": "code",
   "execution_count": 29,
   "metadata": {},
   "outputs": [
    {
     "name": "stdout",
     "output_type": "stream",
     "text": [
      "Valid RMSE = 37.51\n"
     ]
    }
   ],
   "source": [
    "model_lgb = LGBMRegressor(**lgb_params)\n",
    "model_lgb.fit(features_train_shift, target_train_shift)\n",
    "\n",
    "predict_lgb = model_lgb.predict(features_valid_shift)\n",
    "\n",
    "rmse_lgb = mean_squared_error(target_valid_shift, predict_lgb)**0.5\n",
    "\n",
    "print('Valid RMSE = {:.2f}'.format(rmse_lgb))"
   ]
  },
  {
   "cell_type": "markdown",
   "metadata": {},
   "source": [
    "### Лучшая модель"
   ]
  },
  {
   "cell_type": "markdown",
   "metadata": {},
   "source": [
    "**Вывод:** лучшая модель - LGBMRegressor с подобранными гиперпараметрами для стационарного временного ряда"
   ]
  },
  {
   "cell_type": "markdown",
   "metadata": {},
   "source": [
    "## Тестирование"
   ]
  },
  {
   "cell_type": "markdown",
   "metadata": {},
   "source": [
    "Проведем тестирование лучшей модели:"
   ]
  },
  {
   "cell_type": "code",
   "execution_count": 30,
   "metadata": {},
   "outputs": [
    {
     "data": {
      "text/plain": [
       "41.8447575177758"
      ]
     },
     "execution_count": 30,
     "metadata": {},
     "output_type": "execute_result"
    }
   ],
   "source": [
    "predict_lgb_test = model_lgb.predict(features_test_shift)\n",
    "rmse_lgb_test = mean_squared_error(target_test_shift, predict_lgb_test)**0.5\n",
    "rmse_lgb_test"
   ]
  },
  {
   "cell_type": "markdown",
   "metadata": {},
   "source": [
    "**Вывод: нами преобразованы данные в стационарный временной ряд, созданы параметры модели с учетом количества часов в сутках (24) и выбрана лучшая модель. С учетом этого нами достигнуто RMSE на тестовой выборке в размере 41,8.**"
   ]
  },
  {
   "cell_type": "code",
   "execution_count": 36,
   "metadata": {},
   "outputs": [
    {
     "data": {
      "text/plain": [
       "<AxesSubplot:xlabel='datetime'>"
      ]
     },
     "execution_count": 36,
     "metadata": {},
     "output_type": "execute_result"
    },
    {
     "data": {
      "image/png": "[encoded data removed]",
      "text/plain": [
       "<Figure size 1296x432 with 1 Axes>"
      ]
     },
     "metadata": {
      "needs_background": "light"
     },
     "output_type": "display_data"
    },
    {
     "data": {
      "image/png": "[encoded data removed]",
      "text/plain": [
       "<Figure size 1296x432 with 1 Axes>"
      ]
     },
     "metadata": {
      "needs_background": "light"
     },
     "output_type": "display_data"
    }
   ],
   "source": [
    "model_data = pd.DataFrame({\"target\":target_test_shift, \"predict\":predict_lgb_test})\n",
    "model_data.plot(figsize=(18, 6))\n",
    "model_data[-40:].plot(figsize=(18, 6))"
   ]
  }
 ],
 "metadata": {
  "ExecuteTimeLog": [
   {
    "duration": 1125,
    "start_time": "2022-04-23T20:28:47.387Z"
   },
   {
    "duration": 66,
    "start_time": "2022-04-23T20:30:12.691Z"
   },
   {
    "duration": 36,
    "start_time": "2022-04-23T20:35:07.729Z"
   },
   {
    "duration": 40,
    "start_time": "2022-04-23T20:35:23.805Z"
   },
   {
    "duration": 39,
    "start_time": "2022-04-23T20:35:46.408Z"
   },
   {
    "duration": 32,
    "start_time": "2022-04-23T20:35:54.370Z"
   },
   {
    "duration": 37,
    "start_time": "2022-04-23T20:37:59.821Z"
   },
   {
    "duration": 36,
    "start_time": "2022-04-23T20:38:25.082Z"
   },
   {
    "duration": 2220,
    "start_time": "2022-04-23T20:38:43.646Z"
   },
   {
    "duration": 7,
    "start_time": "2022-04-23T20:39:00.346Z"
   },
   {
    "duration": 29,
    "start_time": "2022-04-23T20:39:17.189Z"
   },
   {
    "duration": 29,
    "start_time": "2022-04-23T20:40:42.456Z"
   },
   {
    "duration": 34,
    "start_time": "2022-04-23T20:40:49.661Z"
   },
   {
    "duration": 29,
    "start_time": "2022-04-23T20:40:53.940Z"
   },
   {
    "duration": 32,
    "start_time": "2022-04-23T20:40:57.466Z"
   },
   {
    "duration": 10,
    "start_time": "2022-04-23T20:42:23.236Z"
   },
   {
    "duration": 9,
    "start_time": "2022-04-23T20:42:29.951Z"
   },
   {
    "duration": 3,
    "start_time": "2022-04-23T20:42:34.617Z"
   },
   {
    "duration": 137,
    "start_time": "2022-04-23T20:43:21.463Z"
   },
   {
    "duration": 8,
    "start_time": "2022-04-23T20:43:47.552Z"
   },
   {
    "duration": 10,
    "start_time": "2022-04-23T20:44:10.295Z"
   },
   {
    "duration": 13,
    "start_time": "2022-04-23T20:44:55.817Z"
   },
   {
    "duration": 9,
    "start_time": "2022-04-23T20:45:00.589Z"
   },
   {
    "duration": 10,
    "start_time": "2022-04-23T20:45:15.087Z"
   },
   {
    "duration": 8,
    "start_time": "2022-04-23T20:45:21.909Z"
   },
   {
    "duration": 14,
    "start_time": "2022-04-23T20:45:28.026Z"
   },
   {
    "duration": 4,
    "start_time": "2022-04-23T20:45:45.265Z"
   },
   {
    "duration": 18,
    "start_time": "2022-04-23T20:45:53.668Z"
   },
   {
    "duration": 5,
    "start_time": "2022-04-23T20:46:01.164Z"
   },
   {
    "duration": 19,
    "start_time": "2022-04-23T20:46:37.598Z"
   },
   {
    "duration": 18,
    "start_time": "2022-04-23T20:46:41.717Z"
   },
   {
    "duration": 15,
    "start_time": "2022-04-23T20:47:13.116Z"
   },
   {
    "duration": 13,
    "start_time": "2022-04-23T20:47:17.217Z"
   },
   {
    "duration": 10,
    "start_time": "2022-04-23T20:47:22.790Z"
   },
   {
    "duration": 11,
    "start_time": "2022-04-23T20:47:25.909Z"
   },
   {
    "duration": 13,
    "start_time": "2022-04-23T20:47:33.444Z"
   },
   {
    "duration": 16,
    "start_time": "2022-04-23T20:47:44.267Z"
   },
   {
    "duration": 41,
    "start_time": "2022-04-23T20:47:47.931Z"
   },
   {
    "duration": 9,
    "start_time": "2022-04-23T20:47:52.614Z"
   },
   {
    "duration": 13,
    "start_time": "2022-04-23T20:47:55.119Z"
   },
   {
    "duration": 11,
    "start_time": "2022-04-23T20:48:01.620Z"
   },
   {
    "duration": 36,
    "start_time": "2022-04-23T20:48:04.729Z"
   },
   {
    "duration": 13,
    "start_time": "2022-04-23T20:48:05.032Z"
   },
   {
    "duration": 49,
    "start_time": "2022-04-23T20:48:06.937Z"
   },
   {
    "duration": 14,
    "start_time": "2022-04-23T20:48:07.243Z"
   },
   {
    "duration": 48,
    "start_time": "2022-04-23T20:48:22.221Z"
   },
   {
    "duration": 4,
    "start_time": "2022-04-23T20:48:24.618Z"
   },
   {
    "duration": 10,
    "start_time": "2022-04-23T20:48:33.989Z"
   },
   {
    "duration": 4,
    "start_time": "2022-04-23T20:49:20.905Z"
   },
   {
    "duration": 1578,
    "start_time": "2022-04-23T20:49:32.864Z"
   },
   {
    "duration": 19,
    "start_time": "2022-04-23T20:50:15.426Z"
   },
   {
    "duration": 14,
    "start_time": "2022-04-23T20:50:23.635Z"
   },
   {
    "duration": 12,
    "start_time": "2022-04-23T20:50:42.374Z"
   },
   {
    "duration": 3,
    "start_time": "2022-04-23T20:52:13.372Z"
   },
   {
    "duration": 13,
    "start_time": "2022-04-23T20:55:08.981Z"
   },
   {
    "duration": 10,
    "start_time": "2022-04-23T20:55:27.761Z"
   },
   {
    "duration": 186,
    "start_time": "2022-04-23T20:55:29.661Z"
   },
   {
    "duration": 288,
    "start_time": "2022-04-23T20:59:40.176Z"
   },
   {
    "duration": 98,
    "start_time": "2022-04-24T12:45:14.558Z"
   },
   {
    "duration": 4066,
    "start_time": "2022-04-24T18:54:03.281Z"
   },
   {
    "duration": 48,
    "start_time": "2022-04-24T18:59:13.217Z"
   },
   {
    "duration": 1235,
    "start_time": "2022-04-24T18:59:18.522Z"
   },
   {
    "duration": 48,
    "start_time": "2022-04-24T18:59:19.759Z"
   },
   {
    "duration": 11,
    "start_time": "2022-04-24T18:59:19.808Z"
   },
   {
    "duration": 4,
    "start_time": "2022-04-24T18:59:19.821Z"
   },
   {
    "duration": 16,
    "start_time": "2022-04-24T18:59:19.834Z"
   },
   {
    "duration": 12,
    "start_time": "2022-04-24T18:59:19.852Z"
   },
   {
    "duration": 793,
    "start_time": "2022-04-24T18:59:19.866Z"
   },
   {
    "duration": 163,
    "start_time": "2022-04-24T19:01:43.403Z"
   },
   {
    "duration": 184,
    "start_time": "2022-04-24T19:02:00.394Z"
   },
   {
    "duration": 257,
    "start_time": "2022-04-24T19:02:48.017Z"
   },
   {
    "duration": 208,
    "start_time": "2022-04-24T19:03:05.934Z"
   },
   {
    "duration": 199,
    "start_time": "2022-04-24T19:03:53.085Z"
   },
   {
    "duration": 317,
    "start_time": "2022-04-24T19:04:26.953Z"
   },
   {
    "duration": 40,
    "start_time": "2022-04-24T19:10:22.799Z"
   },
   {
    "duration": 82,
    "start_time": "2022-04-24T19:12:10.375Z"
   },
   {
    "duration": 12,
    "start_time": "2022-04-24T19:17:14.081Z"
   },
   {
    "duration": 14,
    "start_time": "2022-04-24T19:17:45.687Z"
   },
   {
    "duration": 759,
    "start_time": "2022-04-24T19:18:06.751Z"
   },
   {
    "duration": 192,
    "start_time": "2022-04-24T19:19:04.531Z"
   },
   {
    "duration": 143,
    "start_time": "2022-04-24T19:19:16.569Z"
   },
   {
    "duration": 3529,
    "start_time": "2022-04-24T19:22:52.074Z"
   },
   {
    "duration": 3466,
    "start_time": "2022-04-24T19:23:09.058Z"
   },
   {
    "duration": 4,
    "start_time": "2022-04-24T19:24:19.149Z"
   },
   {
    "duration": 3440,
    "start_time": "2022-04-24T19:24:35.037Z"
   },
   {
    "duration": 8,
    "start_time": "2022-04-24T19:24:49.362Z"
   },
   {
    "duration": 8,
    "start_time": "2022-04-24T19:25:39.223Z"
   },
   {
    "duration": 3470,
    "start_time": "2022-04-24T19:26:17.258Z"
   },
   {
    "duration": 7,
    "start_time": "2022-04-24T19:26:46.146Z"
   },
   {
    "duration": 692,
    "start_time": "2022-04-24T19:27:08.845Z"
   },
   {
    "duration": 7,
    "start_time": "2022-04-24T19:27:24.603Z"
   },
   {
    "duration": 17,
    "start_time": "2022-04-24T19:30:12.582Z"
   },
   {
    "duration": 11,
    "start_time": "2022-04-24T19:33:01.988Z"
   },
   {
    "duration": 16,
    "start_time": "2022-04-24T19:33:19.790Z"
   },
   {
    "duration": 10,
    "start_time": "2022-04-24T19:33:40.992Z"
   },
   {
    "duration": 2750,
    "start_time": "2022-04-24T19:33:51.899Z"
   },
   {
    "duration": 238,
    "start_time": "2022-04-24T19:34:31.687Z"
   },
   {
    "duration": 252,
    "start_time": "2022-04-24T19:34:59.842Z"
   },
   {
    "duration": 52,
    "start_time": "2022-04-24T19:47:23.940Z"
   },
   {
    "duration": 5,
    "start_time": "2022-04-24T19:51:34.089Z"
   },
   {
    "duration": 16,
    "start_time": "2022-04-24T19:54:02.499Z"
   },
   {
    "duration": 4,
    "start_time": "2022-04-24T19:54:06.783Z"
   },
   {
    "duration": 9,
    "start_time": "2022-04-24T19:54:07.557Z"
   },
   {
    "duration": 2701,
    "start_time": "2022-04-24T19:54:14.353Z"
   },
   {
    "duration": 2,
    "start_time": "2022-04-24T19:56:13.753Z"
   },
   {
    "duration": 4,
    "start_time": "2022-04-24T19:56:14.217Z"
   },
   {
    "duration": 30,
    "start_time": "2022-04-24T19:56:16.451Z"
   },
   {
    "duration": 34,
    "start_time": "2022-04-24T19:56:57.400Z"
   },
   {
    "duration": 4,
    "start_time": "2022-04-24T19:58:25.764Z"
   },
   {
    "duration": 47,
    "start_time": "2022-04-24T19:58:25.769Z"
   },
   {
    "duration": 9,
    "start_time": "2022-04-24T19:58:25.818Z"
   },
   {
    "duration": 6,
    "start_time": "2022-04-24T19:58:25.830Z"
   },
   {
    "duration": 15,
    "start_time": "2022-04-24T19:58:25.838Z"
   },
   {
    "duration": 12,
    "start_time": "2022-04-24T19:58:25.855Z"
   },
   {
    "duration": 164,
    "start_time": "2022-04-24T19:58:25.869Z"
   },
   {
    "duration": 227,
    "start_time": "2022-04-24T19:58:26.035Z"
   },
   {
    "duration": 349,
    "start_time": "2022-04-24T19:58:26.263Z"
   },
   {
    "duration": 684,
    "start_time": "2022-04-24T19:58:26.615Z"
   },
   {
    "duration": 163,
    "start_time": "2022-04-24T19:58:27.301Z"
   },
   {
    "duration": 0,
    "start_time": "2022-04-24T19:58:27.466Z"
   },
   {
    "duration": 0,
    "start_time": "2022-04-24T19:58:27.467Z"
   },
   {
    "duration": 0,
    "start_time": "2022-04-24T19:58:27.468Z"
   },
   {
    "duration": 0,
    "start_time": "2022-04-24T19:58:27.469Z"
   },
   {
    "duration": 0,
    "start_time": "2022-04-24T19:58:27.470Z"
   },
   {
    "duration": 0,
    "start_time": "2022-04-24T19:58:27.471Z"
   },
   {
    "duration": 0,
    "start_time": "2022-04-24T19:58:27.471Z"
   },
   {
    "duration": 142,
    "start_time": "2022-04-24T19:58:33.084Z"
   },
   {
    "duration": 4,
    "start_time": "2022-04-24T19:58:36.359Z"
   },
   {
    "duration": 50,
    "start_time": "2022-04-24T19:58:36.365Z"
   },
   {
    "duration": 9,
    "start_time": "2022-04-24T19:58:36.417Z"
   },
   {
    "duration": 7,
    "start_time": "2022-04-24T19:58:36.428Z"
   },
   {
    "duration": 14,
    "start_time": "2022-04-24T19:58:36.437Z"
   },
   {
    "duration": 12,
    "start_time": "2022-04-24T19:58:36.453Z"
   },
   {
    "duration": 167,
    "start_time": "2022-04-24T19:58:36.466Z"
   },
   {
    "duration": 228,
    "start_time": "2022-04-24T19:58:36.635Z"
   },
   {
    "duration": 264,
    "start_time": "2022-04-24T19:58:36.865Z"
   },
   {
    "duration": 701,
    "start_time": "2022-04-24T19:58:37.133Z"
   },
   {
    "duration": 159,
    "start_time": "2022-04-24T19:58:37.838Z"
   },
   {
    "duration": 5,
    "start_time": "2022-04-24T19:58:37.999Z"
   },
   {
    "duration": 380,
    "start_time": "2022-04-24T19:58:38.006Z"
   },
   {
    "duration": 6,
    "start_time": "2022-04-24T19:58:38.388Z"
   },
   {
    "duration": 7,
    "start_time": "2022-04-24T19:58:38.395Z"
   },
   {
    "duration": 6,
    "start_time": "2022-04-24T19:58:38.404Z"
   },
   {
    "duration": 46,
    "start_time": "2022-04-24T19:58:38.412Z"
   },
   {
    "duration": 32,
    "start_time": "2022-04-24T19:58:38.460Z"
   },
   {
    "duration": 11,
    "start_time": "2022-04-24T20:05:14.755Z"
   },
   {
    "duration": 11,
    "start_time": "2022-04-24T20:06:33.119Z"
   },
   {
    "duration": 12,
    "start_time": "2022-04-24T20:06:58.080Z"
   },
   {
    "duration": 110,
    "start_time": "2022-04-24T20:07:21.371Z"
   },
   {
    "duration": 4,
    "start_time": "2022-04-24T20:09:50.432Z"
   },
   {
    "duration": 47,
    "start_time": "2022-04-24T20:09:50.439Z"
   },
   {
    "duration": 11,
    "start_time": "2022-04-24T20:09:50.487Z"
   },
   {
    "duration": 10,
    "start_time": "2022-04-24T20:09:50.500Z"
   },
   {
    "duration": 30,
    "start_time": "2022-04-24T20:09:50.513Z"
   },
   {
    "duration": 12,
    "start_time": "2022-04-24T20:09:50.545Z"
   },
   {
    "duration": 164,
    "start_time": "2022-04-24T20:09:50.558Z"
   },
   {
    "duration": 236,
    "start_time": "2022-04-24T20:09:50.724Z"
   },
   {
    "duration": 271,
    "start_time": "2022-04-24T20:09:50.961Z"
   },
   {
    "duration": 698,
    "start_time": "2022-04-24T20:09:51.234Z"
   },
   {
    "duration": 160,
    "start_time": "2022-04-24T20:09:51.934Z"
   },
   {
    "duration": 5,
    "start_time": "2022-04-24T20:09:52.096Z"
   },
   {
    "duration": 268,
    "start_time": "2022-04-24T20:09:52.103Z"
   },
   {
    "duration": 4,
    "start_time": "2022-04-24T20:09:52.375Z"
   },
   {
    "duration": 8,
    "start_time": "2022-04-24T20:09:52.381Z"
   },
   {
    "duration": 5,
    "start_time": "2022-04-24T20:09:52.391Z"
   },
   {
    "duration": 37,
    "start_time": "2022-04-24T20:09:52.398Z"
   },
   {
    "duration": 31,
    "start_time": "2022-04-24T20:09:52.437Z"
   },
   {
    "duration": 11,
    "start_time": "2022-04-24T20:09:52.470Z"
   },
   {
    "duration": 12,
    "start_time": "2022-04-24T20:09:52.482Z"
   },
   {
    "duration": 158,
    "start_time": "2022-04-24T20:09:52.495Z"
   },
   {
    "duration": 3,
    "start_time": "2022-04-24T20:10:16.981Z"
   },
   {
    "duration": 48,
    "start_time": "2022-04-24T20:10:16.986Z"
   },
   {
    "duration": 9,
    "start_time": "2022-04-24T20:10:17.035Z"
   },
   {
    "duration": 7,
    "start_time": "2022-04-24T20:10:17.046Z"
   },
   {
    "duration": 17,
    "start_time": "2022-04-24T20:10:17.054Z"
   },
   {
    "duration": 11,
    "start_time": "2022-04-24T20:10:17.072Z"
   },
   {
    "duration": 182,
    "start_time": "2022-04-24T20:10:17.085Z"
   },
   {
    "duration": 235,
    "start_time": "2022-04-24T20:10:17.269Z"
   },
   {
    "duration": 258,
    "start_time": "2022-04-24T20:10:17.505Z"
   },
   {
    "duration": 769,
    "start_time": "2022-04-24T20:10:17.766Z"
   },
   {
    "duration": 155,
    "start_time": "2022-04-24T20:10:18.537Z"
   },
   {
    "duration": 4,
    "start_time": "2022-04-24T20:10:18.694Z"
   },
   {
    "duration": 266,
    "start_time": "2022-04-24T20:10:18.700Z"
   },
   {
    "duration": 4,
    "start_time": "2022-04-24T20:10:18.968Z"
   },
   {
    "duration": 9,
    "start_time": "2022-04-24T20:10:18.974Z"
   },
   {
    "duration": 5,
    "start_time": "2022-04-24T20:10:18.985Z"
   },
   {
    "duration": 30,
    "start_time": "2022-04-24T20:10:18.991Z"
   },
   {
    "duration": 32,
    "start_time": "2022-04-24T20:10:19.034Z"
   },
   {
    "duration": 10,
    "start_time": "2022-04-24T20:10:19.068Z"
   },
   {
    "duration": 13,
    "start_time": "2022-04-24T20:10:19.080Z"
   },
   {
    "duration": 140,
    "start_time": "2022-04-24T20:10:19.095Z"
   },
   {
    "duration": 33,
    "start_time": "2022-04-24T20:12:06.001Z"
   },
   {
    "duration": 4,
    "start_time": "2022-04-24T20:12:47.780Z"
   },
   {
    "duration": 48,
    "start_time": "2022-04-24T20:12:47.787Z"
   },
   {
    "duration": 9,
    "start_time": "2022-04-24T20:12:47.838Z"
   },
   {
    "duration": 6,
    "start_time": "2022-04-24T20:12:47.850Z"
   },
   {
    "duration": 14,
    "start_time": "2022-04-24T20:12:47.858Z"
   },
   {
    "duration": 12,
    "start_time": "2022-04-24T20:12:47.874Z"
   },
   {
    "duration": 191,
    "start_time": "2022-04-24T20:12:47.888Z"
   },
   {
    "duration": 258,
    "start_time": "2022-04-24T20:12:48.081Z"
   },
   {
    "duration": 266,
    "start_time": "2022-04-24T20:12:48.341Z"
   },
   {
    "duration": 722,
    "start_time": "2022-04-24T20:12:48.610Z"
   },
   {
    "duration": 175,
    "start_time": "2022-04-24T20:12:49.334Z"
   },
   {
    "duration": 5,
    "start_time": "2022-04-24T20:12:49.511Z"
   },
   {
    "duration": 294,
    "start_time": "2022-04-24T20:12:49.518Z"
   },
   {
    "duration": 5,
    "start_time": "2022-04-24T20:12:49.814Z"
   },
   {
    "duration": 3,
    "start_time": "2022-04-24T20:12:49.833Z"
   },
   {
    "duration": 15,
    "start_time": "2022-04-24T20:12:49.838Z"
   },
   {
    "duration": 31,
    "start_time": "2022-04-24T20:12:49.855Z"
   },
   {
    "duration": 54,
    "start_time": "2022-04-24T20:12:49.887Z"
   },
   {
    "duration": 13,
    "start_time": "2022-04-24T20:12:49.943Z"
   },
   {
    "duration": 13,
    "start_time": "2022-04-24T20:12:49.959Z"
   },
   {
    "duration": 982,
    "start_time": "2022-04-24T20:12:49.974Z"
   },
   {
    "duration": 116,
    "start_time": "2022-04-24T20:13:48.937Z"
   },
   {
    "duration": 4,
    "start_time": "2022-04-24T20:14:17.775Z"
   },
   {
    "duration": 50,
    "start_time": "2022-04-24T20:14:17.781Z"
   },
   {
    "duration": 8,
    "start_time": "2022-04-24T20:14:17.833Z"
   },
   {
    "duration": 6,
    "start_time": "2022-04-24T20:14:17.843Z"
   },
   {
    "duration": 18,
    "start_time": "2022-04-24T20:14:17.852Z"
   },
   {
    "duration": 13,
    "start_time": "2022-04-24T20:14:17.871Z"
   },
   {
    "duration": 178,
    "start_time": "2022-04-24T20:14:17.886Z"
   },
   {
    "duration": 240,
    "start_time": "2022-04-24T20:14:18.066Z"
   },
   {
    "duration": 260,
    "start_time": "2022-04-24T20:14:18.308Z"
   },
   {
    "duration": 876,
    "start_time": "2022-04-24T20:14:18.570Z"
   },
   {
    "duration": 161,
    "start_time": "2022-04-24T20:14:19.447Z"
   },
   {
    "duration": 5,
    "start_time": "2022-04-24T20:14:19.609Z"
   },
   {
    "duration": 273,
    "start_time": "2022-04-24T20:14:19.615Z"
   },
   {
    "duration": 4,
    "start_time": "2022-04-24T20:14:19.892Z"
   },
   {
    "duration": 7,
    "start_time": "2022-04-24T20:14:19.897Z"
   },
   {
    "duration": 6,
    "start_time": "2022-04-24T20:14:19.905Z"
   },
   {
    "duration": 45,
    "start_time": "2022-04-24T20:14:19.912Z"
   },
   {
    "duration": 32,
    "start_time": "2022-04-24T20:14:19.959Z"
   },
   {
    "duration": 11,
    "start_time": "2022-04-24T20:14:19.993Z"
   },
   {
    "duration": 34,
    "start_time": "2022-04-24T20:14:20.006Z"
   },
   {
    "duration": 833,
    "start_time": "2022-04-24T20:14:20.042Z"
   },
   {
    "duration": 877,
    "start_time": "2022-04-24T20:14:20.877Z"
   },
   {
    "duration": 809,
    "start_time": "2022-04-24T20:15:32.311Z"
   },
   {
    "duration": 23,
    "start_time": "2022-04-24T20:15:38.719Z"
   },
   {
    "duration": 23,
    "start_time": "2022-04-24T20:16:00.457Z"
   },
   {
    "duration": 848,
    "start_time": "2022-04-24T20:17:36.371Z"
   },
   {
    "duration": 57,
    "start_time": "2022-04-24T20:17:37.927Z"
   },
   {
    "duration": 17217,
    "start_time": "2022-04-24T20:19:06.117Z"
   },
   {
    "duration": 52,
    "start_time": "2022-04-24T20:20:07.197Z"
   },
   {
    "duration": 144,
    "start_time": "2022-04-24T20:20:16.899Z"
   },
   {
    "duration": 86,
    "start_time": "2022-04-24T20:20:24.057Z"
   },
   {
    "duration": 13314,
    "start_time": "2022-04-24T20:20:57.921Z"
   },
   {
    "duration": 138,
    "start_time": "2022-04-24T20:21:17.204Z"
   },
   {
    "duration": 33184,
    "start_time": "2022-04-24T20:21:54.150Z"
   },
   {
    "duration": 5,
    "start_time": "2022-04-24T20:29:44.590Z"
   },
   {
    "duration": 45,
    "start_time": "2022-04-24T20:29:44.597Z"
   },
   {
    "duration": 10,
    "start_time": "2022-04-24T20:29:44.644Z"
   },
   {
    "duration": 5,
    "start_time": "2022-04-24T20:29:44.657Z"
   },
   {
    "duration": 15,
    "start_time": "2022-04-24T20:29:44.663Z"
   },
   {
    "duration": 12,
    "start_time": "2022-04-24T20:29:44.680Z"
   },
   {
    "duration": 178,
    "start_time": "2022-04-24T20:29:44.694Z"
   },
   {
    "duration": 245,
    "start_time": "2022-04-24T20:29:44.874Z"
   },
   {
    "duration": 272,
    "start_time": "2022-04-24T20:29:45.121Z"
   },
   {
    "duration": 650,
    "start_time": "2022-04-24T20:29:45.398Z"
   },
   {
    "duration": 152,
    "start_time": "2022-04-24T20:29:46.049Z"
   },
   {
    "duration": 4,
    "start_time": "2022-04-24T20:29:46.203Z"
   },
   {
    "duration": 262,
    "start_time": "2022-04-24T20:29:46.208Z"
   },
   {
    "duration": 4,
    "start_time": "2022-04-24T20:29:46.472Z"
   },
   {
    "duration": 6,
    "start_time": "2022-04-24T20:29:46.478Z"
   },
   {
    "duration": 9,
    "start_time": "2022-04-24T20:29:46.486Z"
   },
   {
    "duration": 37,
    "start_time": "2022-04-24T20:29:46.497Z"
   },
   {
    "duration": 34,
    "start_time": "2022-04-24T20:29:46.536Z"
   },
   {
    "duration": 10,
    "start_time": "2022-04-24T20:29:46.572Z"
   },
   {
    "duration": 10,
    "start_time": "2022-04-24T20:29:46.584Z"
   },
   {
    "duration": 46,
    "start_time": "2022-04-24T20:29:46.596Z"
   },
   {
    "duration": 0,
    "start_time": "2022-04-24T20:29:46.644Z"
   },
   {
    "duration": 0,
    "start_time": "2022-04-24T20:29:46.645Z"
   },
   {
    "duration": 0,
    "start_time": "2022-04-24T20:29:46.646Z"
   },
   {
    "duration": 0,
    "start_time": "2022-04-24T20:29:46.648Z"
   },
   {
    "duration": 0,
    "start_time": "2022-04-24T20:29:46.650Z"
   },
   {
    "duration": 0,
    "start_time": "2022-04-24T20:29:46.651Z"
   },
   {
    "duration": 0,
    "start_time": "2022-04-24T20:29:46.653Z"
   },
   {
    "duration": 5,
    "start_time": "2022-04-24T20:35:40.374Z"
   },
   {
    "duration": 59,
    "start_time": "2022-04-24T20:35:40.381Z"
   },
   {
    "duration": 9,
    "start_time": "2022-04-24T20:35:40.442Z"
   },
   {
    "duration": 9,
    "start_time": "2022-04-24T20:35:40.453Z"
   },
   {
    "duration": 23,
    "start_time": "2022-04-24T20:35:40.465Z"
   },
   {
    "duration": 12,
    "start_time": "2022-04-24T20:35:40.490Z"
   },
   {
    "duration": 180,
    "start_time": "2022-04-24T20:35:40.504Z"
   },
   {
    "duration": 231,
    "start_time": "2022-04-24T20:35:40.686Z"
   },
   {
    "duration": 256,
    "start_time": "2022-04-24T20:35:40.919Z"
   },
   {
    "duration": 679,
    "start_time": "2022-04-24T20:35:41.177Z"
   },
   {
    "duration": 329,
    "start_time": "2022-04-24T20:35:41.858Z"
   },
   {
    "duration": 6,
    "start_time": "2022-04-24T20:35:42.189Z"
   },
   {
    "duration": 261,
    "start_time": "2022-04-24T20:35:42.197Z"
   },
   {
    "duration": 4,
    "start_time": "2022-04-24T20:35:42.461Z"
   },
   {
    "duration": 6,
    "start_time": "2022-04-24T20:35:42.467Z"
   },
   {
    "duration": 9,
    "start_time": "2022-04-24T20:35:42.474Z"
   },
   {
    "duration": 27,
    "start_time": "2022-04-24T20:35:42.484Z"
   },
   {
    "duration": 45,
    "start_time": "2022-04-24T20:35:42.512Z"
   },
   {
    "duration": 11,
    "start_time": "2022-04-24T20:35:42.559Z"
   },
   {
    "duration": 10,
    "start_time": "2022-04-24T20:35:42.572Z"
   },
   {
    "duration": 3,
    "start_time": "2022-04-24T20:35:42.584Z"
   },
   {
    "duration": 846,
    "start_time": "2022-04-24T20:35:42.588Z"
   },
   {
    "duration": 24,
    "start_time": "2022-04-24T20:35:43.435Z"
   },
   {
    "duration": 843,
    "start_time": "2022-04-24T20:35:43.460Z"
   },
   {
    "duration": 50,
    "start_time": "2022-04-24T20:35:44.304Z"
   },
   {
    "duration": 59085,
    "start_time": "2022-04-24T20:35:44.356Z"
   },
   {
    "duration": 398,
    "start_time": "2022-04-24T20:36:43.443Z"
   },
   {
    "duration": 88291,
    "start_time": "2022-04-24T20:36:43.842Z"
   },
   {
    "duration": 104,
    "start_time": "2022-04-24T20:38:12.136Z"
   },
   {
    "duration": 3,
    "start_time": "2022-04-24T20:39:19.562Z"
   },
   {
    "duration": 45,
    "start_time": "2022-04-24T20:39:19.570Z"
   },
   {
    "duration": 9,
    "start_time": "2022-04-24T20:39:19.617Z"
   },
   {
    "duration": 6,
    "start_time": "2022-04-24T20:39:19.627Z"
   },
   {
    "duration": 14,
    "start_time": "2022-04-24T20:39:19.635Z"
   },
   {
    "duration": 12,
    "start_time": "2022-04-24T20:39:19.651Z"
   },
   {
    "duration": 181,
    "start_time": "2022-04-24T20:39:19.665Z"
   },
   {
    "duration": 234,
    "start_time": "2022-04-24T20:39:19.848Z"
   },
   {
    "duration": 262,
    "start_time": "2022-04-24T20:39:20.085Z"
   },
   {
    "duration": 673,
    "start_time": "2022-04-24T20:39:20.348Z"
   },
   {
    "duration": 147,
    "start_time": "2022-04-24T20:39:21.023Z"
   },
   {
    "duration": 4,
    "start_time": "2022-04-24T20:39:21.172Z"
   },
   {
    "duration": 279,
    "start_time": "2022-04-24T20:39:21.178Z"
   },
   {
    "duration": 4,
    "start_time": "2022-04-24T20:39:21.459Z"
   },
   {
    "duration": 5,
    "start_time": "2022-04-24T20:39:21.465Z"
   },
   {
    "duration": 6,
    "start_time": "2022-04-24T20:39:21.472Z"
   },
   {
    "duration": 24,
    "start_time": "2022-04-24T20:39:21.480Z"
   },
   {
    "duration": 52,
    "start_time": "2022-04-24T20:39:21.507Z"
   },
   {
    "duration": 10,
    "start_time": "2022-04-24T20:39:21.560Z"
   },
   {
    "duration": 13,
    "start_time": "2022-04-24T20:39:21.572Z"
   },
   {
    "duration": 5,
    "start_time": "2022-04-24T20:39:21.587Z"
   },
   {
    "duration": 764,
    "start_time": "2022-04-24T20:39:21.594Z"
   },
   {
    "duration": 24,
    "start_time": "2022-04-24T20:39:22.360Z"
   },
   {
    "duration": 787,
    "start_time": "2022-04-24T20:39:22.386Z"
   },
   {
    "duration": 37,
    "start_time": "2022-04-24T20:39:23.175Z"
   },
   {
    "duration": 7346,
    "start_time": "2022-04-24T20:39:23.214Z"
   },
   {
    "duration": 0,
    "start_time": "2022-04-24T20:39:30.634Z"
   },
   {
    "duration": 0,
    "start_time": "2022-04-24T20:39:30.635Z"
   },
   {
    "duration": 0,
    "start_time": "2022-04-24T20:39:30.637Z"
   },
   {
    "duration": 4,
    "start_time": "2022-04-24T20:39:33.702Z"
   },
   {
    "duration": 44,
    "start_time": "2022-04-24T20:39:33.708Z"
   },
   {
    "duration": 8,
    "start_time": "2022-04-24T20:39:33.754Z"
   },
   {
    "duration": 9,
    "start_time": "2022-04-24T20:39:33.764Z"
   },
   {
    "duration": 16,
    "start_time": "2022-04-24T20:39:33.775Z"
   },
   {
    "duration": 11,
    "start_time": "2022-04-24T20:39:33.792Z"
   },
   {
    "duration": 166,
    "start_time": "2022-04-24T20:39:33.805Z"
   },
   {
    "duration": 219,
    "start_time": "2022-04-24T20:39:33.973Z"
   },
   {
    "duration": 250,
    "start_time": "2022-04-24T20:39:34.194Z"
   },
   {
    "duration": 692,
    "start_time": "2022-04-24T20:39:34.446Z"
   },
   {
    "duration": 142,
    "start_time": "2022-04-24T20:39:35.140Z"
   },
   {
    "duration": 4,
    "start_time": "2022-04-24T20:39:35.284Z"
   },
   {
    "duration": 263,
    "start_time": "2022-04-24T20:39:35.290Z"
   },
   {
    "duration": 4,
    "start_time": "2022-04-24T20:39:35.557Z"
   },
   {
    "duration": 8,
    "start_time": "2022-04-24T20:39:35.563Z"
   },
   {
    "duration": 7,
    "start_time": "2022-04-24T20:39:35.572Z"
   },
   {
    "duration": 27,
    "start_time": "2022-04-24T20:39:35.580Z"
   },
   {
    "duration": 55,
    "start_time": "2022-04-24T20:39:35.609Z"
   },
   {
    "duration": 10,
    "start_time": "2022-04-24T20:39:35.667Z"
   },
   {
    "duration": 10,
    "start_time": "2022-04-24T20:39:35.680Z"
   },
   {
    "duration": 5,
    "start_time": "2022-04-24T20:39:35.693Z"
   },
   {
    "duration": 780,
    "start_time": "2022-04-24T20:39:35.733Z"
   },
   {
    "duration": 31,
    "start_time": "2022-04-24T20:39:36.514Z"
   },
   {
    "duration": 782,
    "start_time": "2022-04-24T20:39:36.547Z"
   },
   {
    "duration": 37,
    "start_time": "2022-04-24T20:39:37.333Z"
   },
   {
    "duration": 10963,
    "start_time": "2022-04-24T20:39:37.372Z"
   },
   {
    "duration": 299,
    "start_time": "2022-04-24T20:39:48.337Z"
   },
   {
    "duration": 10805,
    "start_time": "2022-04-24T20:39:48.638Z"
   },
   {
    "duration": 191,
    "start_time": "2022-04-24T20:39:59.445Z"
   },
   {
    "duration": 12,
    "start_time": "2022-04-24T20:42:27.253Z"
   },
   {
    "duration": 15,
    "start_time": "2022-04-24T20:44:40.222Z"
   },
   {
    "duration": 10,
    "start_time": "2022-04-24T20:44:53.601Z"
   },
   {
    "duration": 10,
    "start_time": "2022-04-24T20:45:20.177Z"
   },
   {
    "duration": 11,
    "start_time": "2022-04-24T20:45:21.466Z"
   },
   {
    "duration": 9,
    "start_time": "2022-04-24T20:45:24.399Z"
   },
   {
    "duration": 12,
    "start_time": "2022-04-24T20:45:26.023Z"
   },
   {
    "duration": 1683,
    "start_time": "2022-04-25T18:24:07.545Z"
   },
   {
    "duration": 40,
    "start_time": "2022-04-25T18:24:09.230Z"
   },
   {
    "duration": 11,
    "start_time": "2022-04-25T18:24:09.272Z"
   },
   {
    "duration": 3,
    "start_time": "2022-04-25T18:24:09.285Z"
   },
   {
    "duration": 15,
    "start_time": "2022-04-25T18:24:09.290Z"
   },
   {
    "duration": 12,
    "start_time": "2022-04-25T18:24:09.307Z"
   },
   {
    "duration": 196,
    "start_time": "2022-04-25T18:24:09.320Z"
   },
   {
    "duration": 221,
    "start_time": "2022-04-25T18:24:09.517Z"
   },
   {
    "duration": 253,
    "start_time": "2022-04-25T18:24:09.740Z"
   },
   {
    "duration": 819,
    "start_time": "2022-04-25T18:24:09.995Z"
   },
   {
    "duration": 136,
    "start_time": "2022-04-25T18:24:10.816Z"
   },
   {
    "duration": 4,
    "start_time": "2022-04-25T18:24:10.954Z"
   },
   {
    "duration": 248,
    "start_time": "2022-04-25T18:24:10.960Z"
   },
   {
    "duration": 5,
    "start_time": "2022-04-25T18:24:11.211Z"
   },
   {
    "duration": 6,
    "start_time": "2022-04-25T18:24:11.218Z"
   },
   {
    "duration": 6,
    "start_time": "2022-04-25T18:24:11.225Z"
   },
   {
    "duration": 53,
    "start_time": "2022-04-25T18:24:11.233Z"
   },
   {
    "duration": 31,
    "start_time": "2022-04-25T18:24:11.287Z"
   },
   {
    "duration": 133,
    "start_time": "2022-04-25T18:24:11.320Z"
   },
   {
    "duration": 0,
    "start_time": "2022-04-25T18:24:11.455Z"
   },
   {
    "duration": 0,
    "start_time": "2022-04-25T18:24:11.457Z"
   },
   {
    "duration": 0,
    "start_time": "2022-04-25T18:24:11.458Z"
   },
   {
    "duration": 0,
    "start_time": "2022-04-25T18:24:11.459Z"
   },
   {
    "duration": 0,
    "start_time": "2022-04-25T18:24:11.473Z"
   },
   {
    "duration": 0,
    "start_time": "2022-04-25T18:24:11.475Z"
   },
   {
    "duration": 0,
    "start_time": "2022-04-25T18:24:11.476Z"
   },
   {
    "duration": 0,
    "start_time": "2022-04-25T18:24:11.477Z"
   },
   {
    "duration": 0,
    "start_time": "2022-04-25T18:24:11.478Z"
   },
   {
    "duration": 0,
    "start_time": "2022-04-25T18:24:11.480Z"
   },
   {
    "duration": 0,
    "start_time": "2022-04-25T18:24:11.481Z"
   },
   {
    "duration": 0,
    "start_time": "2022-04-25T18:24:11.482Z"
   },
   {
    "duration": 15,
    "start_time": "2022-04-25T18:25:24.410Z"
   },
   {
    "duration": 18,
    "start_time": "2022-04-25T18:32:10.629Z"
   },
   {
    "duration": 17,
    "start_time": "2022-04-25T18:32:14.463Z"
   },
   {
    "duration": 4,
    "start_time": "2022-04-25T18:32:21.861Z"
   },
   {
    "duration": 764,
    "start_time": "2022-04-25T18:32:22.522Z"
   },
   {
    "duration": 26,
    "start_time": "2022-04-25T18:32:34.832Z"
   },
   {
    "duration": 771,
    "start_time": "2022-04-25T18:32:34.861Z"
   },
   {
    "duration": 49,
    "start_time": "2022-04-25T18:32:35.634Z"
   },
   {
    "duration": 228388,
    "start_time": "2022-04-25T18:32:35.685Z"
   },
   {
    "duration": 0,
    "start_time": "2022-04-25T18:36:24.075Z"
   },
   {
    "duration": 0,
    "start_time": "2022-04-25T18:36:24.077Z"
   },
   {
    "duration": 0,
    "start_time": "2022-04-25T18:36:24.078Z"
   },
   {
    "duration": 0,
    "start_time": "2022-04-25T18:36:24.079Z"
   },
   {
    "duration": 0,
    "start_time": "2022-04-25T18:36:24.081Z"
   },
   {
    "duration": 5,
    "start_time": "2022-04-25T18:36:41.073Z"
   },
   {
    "duration": 60,
    "start_time": "2022-04-25T18:36:41.081Z"
   },
   {
    "duration": 30,
    "start_time": "2022-04-25T18:36:41.143Z"
   },
   {
    "duration": 11,
    "start_time": "2022-04-25T18:36:41.177Z"
   },
   {
    "duration": 25,
    "start_time": "2022-04-25T18:36:41.189Z"
   },
   {
    "duration": 18,
    "start_time": "2022-04-25T18:36:41.216Z"
   },
   {
    "duration": 219,
    "start_time": "2022-04-25T18:36:41.236Z"
   },
   {
    "duration": 225,
    "start_time": "2022-04-25T18:36:41.457Z"
   },
   {
    "duration": 277,
    "start_time": "2022-04-25T18:36:41.684Z"
   },
   {
    "duration": 795,
    "start_time": "2022-04-25T18:36:41.965Z"
   },
   {
    "duration": 155,
    "start_time": "2022-04-25T18:36:42.762Z"
   },
   {
    "duration": 5,
    "start_time": "2022-04-25T18:36:42.920Z"
   },
   {
    "duration": 331,
    "start_time": "2022-04-25T18:36:42.927Z"
   },
   {
    "duration": 5,
    "start_time": "2022-04-25T18:36:43.260Z"
   },
   {
    "duration": 2,
    "start_time": "2022-04-25T18:36:43.273Z"
   },
   {
    "duration": 6,
    "start_time": "2022-04-25T18:36:43.277Z"
   },
   {
    "duration": 31,
    "start_time": "2022-04-25T18:36:43.284Z"
   },
   {
    "duration": 31,
    "start_time": "2022-04-25T18:36:43.317Z"
   },
   {
    "duration": 16,
    "start_time": "2022-04-25T18:36:43.373Z"
   },
   {
    "duration": 16,
    "start_time": "2022-04-25T18:36:43.390Z"
   },
   {
    "duration": 3,
    "start_time": "2022-04-25T18:36:43.408Z"
   },
   {
    "duration": 2935,
    "start_time": "2022-04-25T18:36:43.413Z"
   },
   {
    "duration": 401,
    "start_time": "2022-04-25T18:36:46.350Z"
   },
   {
    "duration": 2836,
    "start_time": "2022-04-25T18:36:46.752Z"
   },
   {
    "duration": 388,
    "start_time": "2022-04-25T18:36:49.590Z"
   },
   {
    "duration": 174601,
    "start_time": "2022-04-25T18:36:49.980Z"
   },
   {
    "duration": 388,
    "start_time": "2022-04-25T18:39:44.585Z"
   },
   {
    "duration": 55807,
    "start_time": "2022-04-25T18:39:44.977Z"
   },
   {
    "duration": 588,
    "start_time": "2022-04-25T18:40:40.786Z"
   },
   {
    "duration": 13,
    "start_time": "2022-04-25T18:40:41.376Z"
   },
   {
    "duration": 11,
    "start_time": "2022-04-25T18:40:41.391Z"
   },
   {
    "duration": 383,
    "start_time": "2022-04-25T18:40:41.404Z"
   },
   {
    "duration": 397,
    "start_time": "2022-04-25T18:41:10.476Z"
   },
   {
    "duration": 11,
    "start_time": "2022-04-25T18:41:33.603Z"
   },
   {
    "duration": 38,
    "start_time": "2022-04-25T18:43:33.738Z"
   },
   {
    "duration": 8,
    "start_time": "2022-04-25T18:43:35.201Z"
   },
   {
    "duration": 3,
    "start_time": "2022-04-25T18:43:36.963Z"
   },
   {
    "duration": 12,
    "start_time": "2022-04-25T18:43:38.356Z"
   },
   {
    "duration": 14,
    "start_time": "2022-04-25T18:43:40.087Z"
   },
   {
    "duration": 259,
    "start_time": "2022-04-25T18:43:42.851Z"
   },
   {
    "duration": 159,
    "start_time": "2022-04-25T18:43:45.138Z"
   },
   {
    "duration": 255,
    "start_time": "2022-04-25T18:44:00.403Z"
   },
   {
    "duration": 752,
    "start_time": "2022-04-25T18:44:27.761Z"
   },
   {
    "duration": 912,
    "start_time": "2022-04-25T18:44:38.271Z"
   },
   {
    "duration": 272,
    "start_time": "2022-04-25T18:45:41.126Z"
   },
   {
    "duration": 4,
    "start_time": "2022-04-25T18:46:50.153Z"
   },
   {
    "duration": 50,
    "start_time": "2022-04-25T18:46:53.693Z"
   },
   {
    "duration": 33,
    "start_time": "2022-04-25T18:47:02.139Z"
   },
   {
    "duration": 17,
    "start_time": "2022-04-25T18:47:02.174Z"
   },
   {
    "duration": 14,
    "start_time": "2022-04-25T18:47:02.192Z"
   },
   {
    "duration": 3,
    "start_time": "2022-04-25T18:47:02.208Z"
   },
   {
    "duration": 6629,
    "start_time": "2022-04-25T18:47:02.213Z"
   },
   {
    "duration": 673,
    "start_time": "2022-04-25T18:47:08.844Z"
   },
   {
    "duration": 3265,
    "start_time": "2022-04-25T18:47:09.519Z"
   },
   {
    "duration": 443,
    "start_time": "2022-04-25T18:47:12.786Z"
   },
   {
    "duration": 5763,
    "start_time": "2022-04-25T18:47:13.231Z"
   },
   {
    "duration": 0,
    "start_time": "2022-04-25T18:47:18.996Z"
   },
   {
    "duration": 0,
    "start_time": "2022-04-25T18:47:18.997Z"
   },
   {
    "duration": 0,
    "start_time": "2022-04-25T18:47:18.998Z"
   },
   {
    "duration": 0,
    "start_time": "2022-04-25T18:47:18.999Z"
   },
   {
    "duration": 0,
    "start_time": "2022-04-25T18:47:19.000Z"
   },
   {
    "duration": 45,
    "start_time": "2022-04-25T18:47:24.138Z"
   },
   {
    "duration": 15,
    "start_time": "2022-04-25T18:47:28.090Z"
   },
   {
    "duration": 15,
    "start_time": "2022-04-25T18:47:28.107Z"
   },
   {
    "duration": 3,
    "start_time": "2022-04-25T18:47:28.124Z"
   },
   {
    "duration": 6688,
    "start_time": "2022-04-25T18:47:28.129Z"
   },
   {
    "duration": 683,
    "start_time": "2022-04-25T18:47:34.819Z"
   },
   {
    "duration": 6752,
    "start_time": "2022-04-25T18:47:35.505Z"
   },
   {
    "duration": 999,
    "start_time": "2022-04-25T18:47:42.259Z"
   },
   {
    "duration": 94118,
    "start_time": "2022-04-25T18:47:43.260Z"
   },
   {
    "duration": 1003,
    "start_time": "2022-04-25T18:49:17.380Z"
   },
   {
    "duration": 785091,
    "start_time": "2022-04-25T18:49:18.385Z"
   },
   {
    "duration": 1306,
    "start_time": "2022-04-25T19:02:23.478Z"
   },
   {
    "duration": 13,
    "start_time": "2022-04-25T19:02:24.786Z"
   },
   {
    "duration": 83,
    "start_time": "2022-04-25T19:02:24.800Z"
   },
   {
    "duration": 5,
    "start_time": "2022-04-25T19:10:39.785Z"
   },
   {
    "duration": 848,
    "start_time": "2022-04-25T19:10:39.793Z"
   },
   {
    "duration": 8,
    "start_time": "2022-04-25T19:10:40.643Z"
   },
   {
    "duration": 7,
    "start_time": "2022-04-25T19:10:40.653Z"
   },
   {
    "duration": 20,
    "start_time": "2022-04-25T19:10:40.663Z"
   },
   {
    "duration": 12,
    "start_time": "2022-04-25T19:10:40.685Z"
   },
   {
    "duration": 177,
    "start_time": "2022-04-25T19:10:40.698Z"
   },
   {
    "duration": 180,
    "start_time": "2022-04-25T19:10:40.877Z"
   },
   {
    "duration": 273,
    "start_time": "2022-04-25T19:10:41.059Z"
   },
   {
    "duration": 928,
    "start_time": "2022-04-25T19:10:41.334Z"
   },
   {
    "duration": 157,
    "start_time": "2022-04-25T19:10:42.264Z"
   },
   {
    "duration": 5,
    "start_time": "2022-04-25T19:10:42.422Z"
   },
   {
    "duration": 314,
    "start_time": "2022-04-25T19:10:42.429Z"
   },
   {
    "duration": 5,
    "start_time": "2022-04-25T19:10:42.746Z"
   },
   {
    "duration": 5,
    "start_time": "2022-04-25T19:10:42.753Z"
   },
   {
    "duration": 18,
    "start_time": "2022-04-25T19:10:42.759Z"
   },
   {
    "duration": 56,
    "start_time": "2022-04-25T19:10:42.779Z"
   },
   {
    "duration": 66,
    "start_time": "2022-04-25T19:10:42.837Z"
   },
   {
    "duration": 21,
    "start_time": "2022-04-25T19:10:42.905Z"
   },
   {
    "duration": 23,
    "start_time": "2022-04-25T19:10:42.928Z"
   },
   {
    "duration": 3,
    "start_time": "2022-04-25T19:10:42.973Z"
   },
   {
    "duration": 6704,
    "start_time": "2022-04-25T19:10:42.978Z"
   },
   {
    "duration": 973,
    "start_time": "2022-04-25T19:10:49.684Z"
   },
   {
    "duration": 6668,
    "start_time": "2022-04-25T19:10:50.659Z"
   },
   {
    "duration": 965,
    "start_time": "2022-04-25T19:10:57.329Z"
   },
   {
    "duration": 513990,
    "start_time": "2022-04-25T19:10:58.296Z"
   },
   {
    "duration": 688,
    "start_time": "2022-04-25T19:19:32.288Z"
   },
   {
    "duration": 76108,
    "start_time": "2022-04-25T19:19:32.979Z"
   },
   {
    "duration": 1802,
    "start_time": "2022-04-25T19:20:49.089Z"
   },
   {
    "duration": 90,
    "start_time": "2022-04-25T19:20:50.893Z"
   },
   {
    "duration": 24,
    "start_time": "2022-04-25T19:22:14.201Z"
   },
   {
    "duration": 794,
    "start_time": "2022-04-25T19:22:35.033Z"
   },
   {
    "duration": 7655,
    "start_time": "2022-04-26T14:14:30.216Z"
   },
   {
    "duration": 247,
    "start_time": "2022-04-26T14:14:37.873Z"
   },
   {
    "duration": 11,
    "start_time": "2022-04-26T14:14:38.121Z"
   },
   {
    "duration": 3,
    "start_time": "2022-04-26T14:14:38.134Z"
   },
   {
    "duration": 14,
    "start_time": "2022-04-26T14:14:38.139Z"
   },
   {
    "duration": 10,
    "start_time": "2022-04-26T14:15:00.853Z"
   },
   {
    "duration": 166,
    "start_time": "2022-04-26T14:15:01.948Z"
   },
   {
    "duration": 140,
    "start_time": "2022-04-26T14:15:02.471Z"
   },
   {
    "duration": 225,
    "start_time": "2022-04-26T14:15:03.692Z"
   },
   {
    "duration": 760,
    "start_time": "2022-04-26T14:15:04.623Z"
   },
   {
    "duration": 130,
    "start_time": "2022-04-26T14:15:05.384Z"
   },
   {
    "duration": 4,
    "start_time": "2022-04-26T14:15:05.935Z"
   },
   {
    "duration": 249,
    "start_time": "2022-04-26T14:15:06.462Z"
   },
   {
    "duration": 5,
    "start_time": "2022-04-26T14:15:07.679Z"
   },
   {
    "duration": 2,
    "start_time": "2022-04-26T14:15:08.940Z"
   },
   {
    "duration": 4,
    "start_time": "2022-04-26T14:15:09.153Z"
   },
   {
    "duration": 46,
    "start_time": "2022-04-26T14:16:55.139Z"
   },
   {
    "duration": 14,
    "start_time": "2022-04-26T14:21:28.973Z"
   },
   {
    "duration": 65,
    "start_time": "2022-04-26T14:21:29.877Z"
   },
   {
    "duration": 17,
    "start_time": "2022-04-26T14:21:32.197Z"
   },
   {
    "duration": 3,
    "start_time": "2022-04-26T14:21:33.783Z"
   },
   {
    "duration": 8605,
    "start_time": "2022-04-26T14:22:09.605Z"
   },
   {
    "duration": 1012,
    "start_time": "2022-04-26T14:22:18.212Z"
   },
   {
    "duration": 7704,
    "start_time": "2022-04-26T14:22:22.029Z"
   },
   {
    "duration": 1006,
    "start_time": "2022-04-26T14:22:29.736Z"
   },
   {
    "duration": 2010441,
    "start_time": "2022-04-26T14:22:53.137Z"
   },
   {
    "duration": 31904,
    "start_time": "2022-04-26T14:56:23.580Z"
   },
   {
    "duration": 430904,
    "start_time": "2022-04-26T14:56:55.548Z"
   },
   {
    "duration": 82295,
    "start_time": "2022-04-26T15:04:06.457Z"
   },
   {
    "duration": 70,
    "start_time": "2022-04-26T18:56:47.075Z"
   },
   {
    "duration": 2179,
    "start_time": "2022-04-26T18:56:53.970Z"
   },
   {
    "duration": 51,
    "start_time": "2022-04-26T18:56:56.152Z"
   },
   {
    "duration": 16,
    "start_time": "2022-04-26T18:56:56.205Z"
   },
   {
    "duration": 29,
    "start_time": "2022-04-26T18:56:56.224Z"
   },
   {
    "duration": 25,
    "start_time": "2022-04-26T18:56:56.255Z"
   },
   {
    "duration": 20,
    "start_time": "2022-04-26T18:56:56.283Z"
   },
   {
    "duration": 317,
    "start_time": "2022-04-26T18:56:56.305Z"
   },
   {
    "duration": 259,
    "start_time": "2022-04-26T18:56:56.624Z"
   },
   {
    "duration": 478,
    "start_time": "2022-04-26T18:56:56.886Z"
   },
   {
    "duration": 1316,
    "start_time": "2022-04-26T18:56:57.368Z"
   },
   {
    "duration": 218,
    "start_time": "2022-04-26T18:56:58.687Z"
   },
   {
    "duration": 5,
    "start_time": "2022-04-26T18:56:58.908Z"
   },
   {
    "duration": 467,
    "start_time": "2022-04-26T18:56:58.915Z"
   },
   {
    "duration": 6,
    "start_time": "2022-04-26T18:56:59.384Z"
   },
   {
    "duration": 8,
    "start_time": "2022-04-26T18:56:59.392Z"
   },
   {
    "duration": 10,
    "start_time": "2022-04-26T18:56:59.402Z"
   },
   {
    "duration": 101,
    "start_time": "2022-04-26T18:56:59.414Z"
   },
   {
    "duration": 21,
    "start_time": "2022-04-26T18:56:59.518Z"
   },
   {
    "duration": 89,
    "start_time": "2022-04-26T18:56:59.540Z"
   },
   {
    "duration": 37,
    "start_time": "2022-04-26T18:56:59.632Z"
   },
   {
    "duration": 3,
    "start_time": "2022-04-26T18:56:59.672Z"
   },
   {
    "duration": 21343,
    "start_time": "2022-04-26T18:56:59.678Z"
   },
   {
    "duration": 1270,
    "start_time": "2022-04-26T18:57:21.023Z"
   },
   {
    "duration": 21568,
    "start_time": "2022-04-26T18:57:22.295Z"
   },
   {
    "duration": 1274,
    "start_time": "2022-04-26T18:57:43.865Z"
   },
   {
    "duration": 3543768,
    "start_time": "2022-04-26T18:57:45.142Z"
   },
   {
    "duration": 0,
    "start_time": "2022-04-26T19:56:48.914Z"
   },
   {
    "duration": 0,
    "start_time": "2022-04-26T19:56:48.917Z"
   },
   {
    "duration": 0,
    "start_time": "2022-04-26T19:56:48.919Z"
   },
   {
    "duration": 0,
    "start_time": "2022-04-26T19:56:48.922Z"
   },
   {
    "duration": 0,
    "start_time": "2022-04-26T19:56:48.961Z"
   },
   {
    "duration": 1956,
    "start_time": "2022-04-26T19:56:59.735Z"
   },
   {
    "duration": 52,
    "start_time": "2022-04-26T19:57:01.694Z"
   },
   {
    "duration": 17,
    "start_time": "2022-04-26T19:57:01.751Z"
   },
   {
    "duration": 5,
    "start_time": "2022-04-26T19:57:01.771Z"
   },
   {
    "duration": 21,
    "start_time": "2022-04-26T19:57:01.778Z"
   },
   {
    "duration": 51,
    "start_time": "2022-04-26T19:57:01.801Z"
   },
   {
    "duration": 299,
    "start_time": "2022-04-26T19:57:01.855Z"
   },
   {
    "duration": 267,
    "start_time": "2022-04-26T19:57:02.156Z"
   },
   {
    "duration": 412,
    "start_time": "2022-04-26T19:57:02.426Z"
   },
   {
    "duration": 1342,
    "start_time": "2022-04-26T19:57:02.842Z"
   },
   {
    "duration": 309,
    "start_time": "2022-04-26T19:57:04.187Z"
   },
   {
    "duration": 7,
    "start_time": "2022-04-26T19:57:04.499Z"
   },
   {
    "duration": 476,
    "start_time": "2022-04-26T19:57:04.509Z"
   },
   {
    "duration": 6,
    "start_time": "2022-04-26T19:57:04.988Z"
   },
   {
    "duration": 11,
    "start_time": "2022-04-26T19:57:04.996Z"
   },
   {
    "duration": 8,
    "start_time": "2022-04-26T19:57:05.010Z"
   },
   {
    "duration": 110,
    "start_time": "2022-04-26T19:57:05.021Z"
   },
   {
    "duration": 27,
    "start_time": "2022-04-26T19:57:05.134Z"
   },
   {
    "duration": 97,
    "start_time": "2022-04-26T19:57:05.164Z"
   },
   {
    "duration": 24,
    "start_time": "2022-04-26T19:57:05.264Z"
   },
   {
    "duration": 4,
    "start_time": "2022-04-26T19:57:05.291Z"
   },
   {
    "duration": 21349,
    "start_time": "2022-04-26T19:57:05.298Z"
   },
   {
    "duration": 1254,
    "start_time": "2022-04-26T19:57:26.649Z"
   },
   {
    "duration": 22470,
    "start_time": "2022-04-26T19:57:27.905Z"
   },
   {
    "duration": 1852,
    "start_time": "2022-04-26T19:57:50.378Z"
   },
   {
    "duration": 2542,
    "start_time": "2022-04-26T20:28:15.976Z"
   },
   {
    "duration": 75,
    "start_time": "2022-04-26T20:28:18.521Z"
   },
   {
    "duration": 22,
    "start_time": "2022-04-26T20:28:18.599Z"
   },
   {
    "duration": 27,
    "start_time": "2022-04-26T20:28:18.625Z"
   },
   {
    "duration": 26,
    "start_time": "2022-04-26T20:28:18.655Z"
   },
   {
    "duration": 22,
    "start_time": "2022-04-26T20:28:18.684Z"
   },
   {
    "duration": 304,
    "start_time": "2022-04-26T20:28:18.709Z"
   },
   {
    "duration": 261,
    "start_time": "2022-04-26T20:28:19.015Z"
   },
   {
    "duration": 416,
    "start_time": "2022-04-26T20:28:19.278Z"
   },
   {
    "duration": 1334,
    "start_time": "2022-04-26T20:28:19.698Z"
   },
   {
    "duration": 237,
    "start_time": "2022-04-26T20:28:21.035Z"
   },
   {
    "duration": 7,
    "start_time": "2022-04-26T20:28:21.275Z"
   },
   {
    "duration": 471,
    "start_time": "2022-04-26T20:28:21.284Z"
   },
   {
    "duration": 6,
    "start_time": "2022-04-26T20:28:21.757Z"
   },
   {
    "duration": 9,
    "start_time": "2022-04-26T20:28:21.765Z"
   },
   {
    "duration": 8,
    "start_time": "2022-04-26T20:28:21.776Z"
   },
   {
    "duration": 104,
    "start_time": "2022-04-26T20:28:21.786Z"
   },
   {
    "duration": 22,
    "start_time": "2022-04-26T20:28:21.892Z"
   },
   {
    "duration": 106,
    "start_time": "2022-04-26T20:28:21.917Z"
   },
   {
    "duration": 39,
    "start_time": "2022-04-26T20:28:22.026Z"
   },
   {
    "duration": 4,
    "start_time": "2022-04-26T20:28:22.068Z"
   },
   {
    "duration": 8998,
    "start_time": "2022-04-26T20:28:22.075Z"
   },
   {
    "duration": 1268,
    "start_time": "2022-04-26T20:28:31.075Z"
   },
   {
    "duration": 8750,
    "start_time": "2022-04-26T20:28:32.345Z"
   },
   {
    "duration": 1273,
    "start_time": "2022-04-26T20:28:41.097Z"
   },
   {
    "duration": 603445,
    "start_time": "2022-04-26T20:28:42.373Z"
   },
   {
    "duration": 0,
    "start_time": "2022-04-26T20:38:45.822Z"
   },
   {
    "duration": 0,
    "start_time": "2022-04-26T20:38:45.824Z"
   },
   {
    "duration": 0,
    "start_time": "2022-04-26T20:38:45.826Z"
   },
   {
    "duration": 0,
    "start_time": "2022-04-26T20:38:45.828Z"
   },
   {
    "duration": 0,
    "start_time": "2022-04-26T20:38:45.830Z"
   },
   {
    "duration": 2591,
    "start_time": "2022-04-26T20:56:37.499Z"
   },
   {
    "duration": 80,
    "start_time": "2022-04-26T20:56:40.093Z"
   },
   {
    "duration": 17,
    "start_time": "2022-04-26T20:56:40.175Z"
   },
   {
    "duration": 14,
    "start_time": "2022-04-26T20:56:40.195Z"
   },
   {
    "duration": 48,
    "start_time": "2022-04-26T20:56:40.211Z"
   },
   {
    "duration": 18,
    "start_time": "2022-04-26T20:56:40.261Z"
   },
   {
    "duration": 308,
    "start_time": "2022-04-26T20:56:40.281Z"
   },
   {
    "duration": 379,
    "start_time": "2022-04-26T20:56:40.592Z"
   },
   {
    "duration": 431,
    "start_time": "2022-04-26T20:56:40.974Z"
   },
   {
    "duration": 1580,
    "start_time": "2022-04-26T20:56:41.409Z"
   },
   {
    "duration": 314,
    "start_time": "2022-04-26T20:56:42.992Z"
   },
   {
    "duration": 7,
    "start_time": "2022-04-26T20:56:43.309Z"
   },
   {
    "duration": 584,
    "start_time": "2022-04-26T20:56:43.318Z"
   },
   {
    "duration": 6,
    "start_time": "2022-04-26T20:56:43.905Z"
   },
   {
    "duration": 9,
    "start_time": "2022-04-26T20:56:43.914Z"
   },
   {
    "duration": 27,
    "start_time": "2022-04-26T20:56:43.925Z"
   },
   {
    "duration": 77,
    "start_time": "2022-04-26T20:56:43.954Z"
   },
   {
    "duration": 41,
    "start_time": "2022-04-26T20:56:44.034Z"
   },
   {
    "duration": 115,
    "start_time": "2022-04-26T20:56:44.078Z"
   },
   {
    "duration": 22,
    "start_time": "2022-04-26T20:56:44.195Z"
   },
   {
    "duration": 4,
    "start_time": "2022-04-26T20:56:44.219Z"
   },
   {
    "duration": 21599,
    "start_time": "2022-04-26T20:56:44.225Z"
   },
   {
    "duration": 1378,
    "start_time": "2022-04-26T20:57:05.827Z"
   },
   {
    "duration": 23023,
    "start_time": "2022-04-26T20:57:07.208Z"
   },
   {
    "duration": 1277,
    "start_time": "2022-04-26T20:57:30.233Z"
   },
   {
    "duration": 507941,
    "start_time": "2022-04-26T20:57:31.512Z"
   },
   {
    "duration": 896,
    "start_time": "2022-04-26T21:05:59.456Z"
   },
   {
    "duration": 96295,
    "start_time": "2022-04-26T21:06:00.357Z"
   },
   {
    "duration": 2301,
    "start_time": "2022-04-26T21:07:36.654Z"
   },
   {
    "duration": 95,
    "start_time": "2022-04-26T21:07:38.958Z"
   },
   {
    "duration": 198,
    "start_time": "2022-04-26T21:07:39.055Z"
   },
   {
    "duration": 627,
    "start_time": "2022-04-26T21:07:42.993Z"
   },
   {
    "duration": 535,
    "start_time": "2022-04-26T21:10:05.057Z"
   },
   {
    "duration": 424,
    "start_time": "2022-04-26T21:10:51.715Z"
   },
   {
    "duration": 790,
    "start_time": "2022-04-26T21:12:55.546Z"
   },
   {
    "duration": 778,
    "start_time": "2022-04-26T21:13:16.603Z"
   }
  ],
  "kernelspec": {
   "display_name": "Python 3 (ipykernel)",
   "language": "python",
   "name": "python3"
  },
  "language_info": {
   "codemirror_mode": {
    "name": "ipython",
    "version": 3
   },
   "file_extension": ".py",
   "mimetype": "text/x-python",
   "name": "python",
   "nbconvert_exporter": "python",
   "pygments_lexer": "ipython3",
   "version": "3.9.7"
  },
  "toc": {
   "base_numbering": 1,
   "nav_menu": {},
   "number_sections": true,
   "sideBar": true,
   "skip_h1_title": true,
   "title_cell": "Содержание",
   "title_sidebar": "Contents",
   "toc_cell": true,
   "toc_position": {},
   "toc_section_display": true,
   "toc_window_display": false
  }
 },
 "nbformat": 4,
 "nbformat_minor": 2
}
