{
 "cells": [
  {
   "cell_type": "markdown",
   "metadata": {},
   "source": [
    "# Исследование надёжности заёмщиков\n",
    "\n",
    "Заказчик — кредитный отдел банка. Нужно разобраться, влияет ли семейное положение и количество детей клиента на факт погашения кредита в срок. Входные данные от банка — статистика о платёжеспособности клиентов.\n",
    "\n",
    "Результаты исследования будут учтены при построении модели **кредитного скоринга** — специальной системы, которая оценивает способность потенциального заёмщика вернуть кредит банку."
   ]
  },
  {
   "cell_type": "markdown",
   "metadata": {},
   "source": [
    "Описание данных\n",
    "   \n",
    "Для анализа представлен файл data.csv, содержащий следующую информацию:\n",
    "- children — количество детей в семье\n",
    "- days_employed — общий трудовой стаж в днях\n",
    "- dob_years — возраст клиента в годах\n",
    "- education — уровень образования клиента\n",
    "- education_id — идентификатор уровня образования\n",
    "- family_status — семейное положение\n",
    "- family_status_id — идентификатор семейного положения\n",
    "- gender — пол клиента\n",
    "- income_type — тип занятости\n",
    "- debt — имел ли задолженность по возврату кредитов\n",
    "- total_income — ежемесячный доход\n",
    "- purpose — цель получения кредита "
   ]
  },
  {
   "cell_type": "markdown",
   "metadata": {},
   "source": [
    "## Шаг 1. Откройте файл с данными и изучите общую информацию"
   ]
  },
  {
   "cell_type": "markdown",
   "metadata": {},
   "source": [
    "Открываем файл '/datasets/data.csv' и сохраняем его в переменной data. На экран выводим первые десять строк таблицы, а так же оцениваем объем данных:"
   ]
  },
  {
   "cell_type": "code",
   "execution_count": 1,
   "metadata": {
    "scrolled": true
   },
   "outputs": [
    {
     "data": {
      "text/html": [
       "<div>\n",
       "<style scoped>\n",
       "    .dataframe tbody tr th:only-of-type {\n",
       "        vertical-align: middle;\n",
       "    }\n",
       "\n",
       "    .dataframe tbody tr th {\n",
       "        vertical-align: top;\n",
       "    }\n",
       "\n",
       "    .dataframe thead th {\n",
       "        text-align: right;\n",
       "    }\n",
       "</style>\n",
       "<table border=\"1\" class=\"dataframe\">\n",
       "  <thead>\n",
       "    <tr style=\"text-align: right;\">\n",
       "      <th></th>\n",
       "      <th>children</th>\n",
       "      <th>days_employed</th>\n",
       "      <th>dob_years</th>\n",
       "      <th>education</th>\n",
       "      <th>education_id</th>\n",
       "      <th>family_status</th>\n",
       "      <th>family_status_id</th>\n",
       "      <th>gender</th>\n",
       "      <th>income_type</th>\n",
       "      <th>debt</th>\n",
       "      <th>total_income</th>\n",
       "      <th>purpose</th>\n",
       "    </tr>\n",
       "  </thead>\n",
       "  <tbody>\n",
       "    <tr>\n",
       "      <td>0</td>\n",
       "      <td>1</td>\n",
       "      <td>-8437.673028</td>\n",
       "      <td>42</td>\n",
       "      <td>высшее</td>\n",
       "      <td>0</td>\n",
       "      <td>женат / замужем</td>\n",
       "      <td>0</td>\n",
       "      <td>F</td>\n",
       "      <td>сотрудник</td>\n",
       "      <td>0</td>\n",
       "      <td>253875.639453</td>\n",
       "      <td>покупка жилья</td>\n",
       "    </tr>\n",
       "    <tr>\n",
       "      <td>1</td>\n",
       "      <td>1</td>\n",
       "      <td>-4024.803754</td>\n",
       "      <td>36</td>\n",
       "      <td>среднее</td>\n",
       "      <td>1</td>\n",
       "      <td>женат / замужем</td>\n",
       "      <td>0</td>\n",
       "      <td>F</td>\n",
       "      <td>сотрудник</td>\n",
       "      <td>0</td>\n",
       "      <td>112080.014102</td>\n",
       "      <td>приобретение автомобиля</td>\n",
       "    </tr>\n",
       "    <tr>\n",
       "      <td>2</td>\n",
       "      <td>0</td>\n",
       "      <td>-5623.422610</td>\n",
       "      <td>33</td>\n",
       "      <td>Среднее</td>\n",
       "      <td>1</td>\n",
       "      <td>женат / замужем</td>\n",
       "      <td>0</td>\n",
       "      <td>M</td>\n",
       "      <td>сотрудник</td>\n",
       "      <td>0</td>\n",
       "      <td>145885.952297</td>\n",
       "      <td>покупка жилья</td>\n",
       "    </tr>\n",
       "    <tr>\n",
       "      <td>3</td>\n",
       "      <td>3</td>\n",
       "      <td>-4124.747207</td>\n",
       "      <td>32</td>\n",
       "      <td>среднее</td>\n",
       "      <td>1</td>\n",
       "      <td>женат / замужем</td>\n",
       "      <td>0</td>\n",
       "      <td>M</td>\n",
       "      <td>сотрудник</td>\n",
       "      <td>0</td>\n",
       "      <td>267628.550329</td>\n",
       "      <td>дополнительное образование</td>\n",
       "    </tr>\n",
       "    <tr>\n",
       "      <td>4</td>\n",
       "      <td>0</td>\n",
       "      <td>340266.072047</td>\n",
       "      <td>53</td>\n",
       "      <td>среднее</td>\n",
       "      <td>1</td>\n",
       "      <td>гражданский брак</td>\n",
       "      <td>1</td>\n",
       "      <td>F</td>\n",
       "      <td>пенсионер</td>\n",
       "      <td>0</td>\n",
       "      <td>158616.077870</td>\n",
       "      <td>сыграть свадьбу</td>\n",
       "    </tr>\n",
       "    <tr>\n",
       "      <td>5</td>\n",
       "      <td>0</td>\n",
       "      <td>-926.185831</td>\n",
       "      <td>27</td>\n",
       "      <td>высшее</td>\n",
       "      <td>0</td>\n",
       "      <td>гражданский брак</td>\n",
       "      <td>1</td>\n",
       "      <td>M</td>\n",
       "      <td>компаньон</td>\n",
       "      <td>0</td>\n",
       "      <td>255763.565419</td>\n",
       "      <td>покупка жилья</td>\n",
       "    </tr>\n",
       "    <tr>\n",
       "      <td>6</td>\n",
       "      <td>0</td>\n",
       "      <td>-2879.202052</td>\n",
       "      <td>43</td>\n",
       "      <td>высшее</td>\n",
       "      <td>0</td>\n",
       "      <td>женат / замужем</td>\n",
       "      <td>0</td>\n",
       "      <td>F</td>\n",
       "      <td>компаньон</td>\n",
       "      <td>0</td>\n",
       "      <td>240525.971920</td>\n",
       "      <td>операции с жильем</td>\n",
       "    </tr>\n",
       "    <tr>\n",
       "      <td>7</td>\n",
       "      <td>0</td>\n",
       "      <td>-152.779569</td>\n",
       "      <td>50</td>\n",
       "      <td>СРЕДНЕЕ</td>\n",
       "      <td>1</td>\n",
       "      <td>женат / замужем</td>\n",
       "      <td>0</td>\n",
       "      <td>M</td>\n",
       "      <td>сотрудник</td>\n",
       "      <td>0</td>\n",
       "      <td>135823.934197</td>\n",
       "      <td>образование</td>\n",
       "    </tr>\n",
       "    <tr>\n",
       "      <td>8</td>\n",
       "      <td>2</td>\n",
       "      <td>-6929.865299</td>\n",
       "      <td>35</td>\n",
       "      <td>ВЫСШЕЕ</td>\n",
       "      <td>0</td>\n",
       "      <td>гражданский брак</td>\n",
       "      <td>1</td>\n",
       "      <td>F</td>\n",
       "      <td>сотрудник</td>\n",
       "      <td>0</td>\n",
       "      <td>95856.832424</td>\n",
       "      <td>на проведение свадьбы</td>\n",
       "    </tr>\n",
       "    <tr>\n",
       "      <td>9</td>\n",
       "      <td>0</td>\n",
       "      <td>-2188.756445</td>\n",
       "      <td>41</td>\n",
       "      <td>среднее</td>\n",
       "      <td>1</td>\n",
       "      <td>женат / замужем</td>\n",
       "      <td>0</td>\n",
       "      <td>M</td>\n",
       "      <td>сотрудник</td>\n",
       "      <td>0</td>\n",
       "      <td>144425.938277</td>\n",
       "      <td>покупка жилья для семьи</td>\n",
       "    </tr>\n",
       "  </tbody>\n",
       "</table>\n",
       "</div>"
      ],
      "text/plain": [
       "   children  days_employed  dob_years education  education_id  \\\n",
       "0         1   -8437.673028         42    высшее             0   \n",
       "1         1   -4024.803754         36   среднее             1   \n",
       "2         0   -5623.422610         33   Среднее             1   \n",
       "3         3   -4124.747207         32   среднее             1   \n",
       "4         0  340266.072047         53   среднее             1   \n",
       "5         0    -926.185831         27    высшее             0   \n",
       "6         0   -2879.202052         43    высшее             0   \n",
       "7         0    -152.779569         50   СРЕДНЕЕ             1   \n",
       "8         2   -6929.865299         35    ВЫСШЕЕ             0   \n",
       "9         0   -2188.756445         41   среднее             1   \n",
       "\n",
       "      family_status  family_status_id gender income_type  debt   total_income  \\\n",
       "0   женат / замужем                 0      F   сотрудник     0  253875.639453   \n",
       "1   женат / замужем                 0      F   сотрудник     0  112080.014102   \n",
       "2   женат / замужем                 0      M   сотрудник     0  145885.952297   \n",
       "3   женат / замужем                 0      M   сотрудник     0  267628.550329   \n",
       "4  гражданский брак                 1      F   пенсионер     0  158616.077870   \n",
       "5  гражданский брак                 1      M   компаньон     0  255763.565419   \n",
       "6   женат / замужем                 0      F   компаньон     0  240525.971920   \n",
       "7   женат / замужем                 0      M   сотрудник     0  135823.934197   \n",
       "8  гражданский брак                 1      F   сотрудник     0   95856.832424   \n",
       "9   женат / замужем                 0      M   сотрудник     0  144425.938277   \n",
       "\n",
       "                      purpose  \n",
       "0               покупка жилья  \n",
       "1     приобретение автомобиля  \n",
       "2               покупка жилья  \n",
       "3  дополнительное образование  \n",
       "4             сыграть свадьбу  \n",
       "5               покупка жилья  \n",
       "6           операции с жильем  \n",
       "7                 образование  \n",
       "8       на проведение свадьбы  \n",
       "9     покупка жилья для семьи  "
      ]
     },
     "metadata": {},
     "output_type": "display_data"
    }
   ],
   "source": [
    "import pandas as pd\n",
    "\n",
    "data = pd.read_csv('/datasets/data.csv')\n",
    "display(data.head(10))"
   ]
  },
  {
   "cell_type": "code",
   "execution_count": 2,
   "metadata": {
    "scrolled": false
   },
   "outputs": [
    {
     "name": "stdout",
     "output_type": "stream",
     "text": [
      "<class 'pandas.core.frame.DataFrame'>\n",
      "RangeIndex: 21525 entries, 0 to 21524\n",
      "Data columns (total 12 columns):\n",
      "children            21525 non-null int64\n",
      "days_employed       19351 non-null float64\n",
      "dob_years           21525 non-null int64\n",
      "education           21525 non-null object\n",
      "education_id        21525 non-null int64\n",
      "family_status       21525 non-null object\n",
      "family_status_id    21525 non-null int64\n",
      "gender              21525 non-null object\n",
      "income_type         21525 non-null object\n",
      "debt                21525 non-null int64\n",
      "total_income        19351 non-null float64\n",
      "purpose             21525 non-null object\n",
      "dtypes: float64(2), int64(5), object(5)\n",
      "memory usage: 2.0+ MB\n"
     ]
    }
   ],
   "source": [
    "data.info()"
   ]
  },
  {
   "cell_type": "markdown",
   "metadata": {},
   "source": [
    "**Вывод** Файл содержит 12 столбцов и 21525 сторк. \n",
    "\n",
    "В 2 столбцах указаны дробные числа, в 5 - целые, строки - в 5.\n",
    "\n",
    "\n",
    "Для ответа на поставленные вопросы нас интересуют следующие графы:\n",
    "- children — для проверки зависимости между наличием детей и возвратом кредита в срок;\n",
    "- family_status — для проверки зависимости между семейным положением и возвратом кредита в срок;\n",
    "- family_status_id — для проверки зависимости между семейным положением и возвратом кредита в срок;\n",
    "- total_income — для проверки зависимости между уровнем дохода и возвратом кредита в срок;\n",
    "- purpose — для проверки как разные цели кредита влияют на его возврат в срок.\n",
    "- Графа debt содержит сведения о наличии задолженности по возврату кредитов.\n",
    "\n",
    "Далее нам необходимо установить причины и обработать пропуски в графах 'days_employed'(общий трудовой стаж) и 'total_income'(ежемесячный доход), а также выявить и устранить дубликаты данных во всех рассматриваемых графах."
   ]
  },
  {
   "cell_type": "markdown",
   "metadata": {},
   "source": [
    "## Шаг 2. Предобработка данных"
   ]
  },
  {
   "cell_type": "markdown",
   "metadata": {},
   "source": [
    "### Обработка пропусков"
   ]
  },
  {
   "cell_type": "markdown",
   "metadata": {},
   "source": [
    "Предоложим, что пропуски в графах 'days_employed'(общий трудовой стаж) и 'total_income'(ежемесячный доход) в количестве 2174 строк относятся к клиентам, которые никогда не работали. Для проверки гипотезы посчитаем количество уникальных наименований в колонке \"income_type\""
   ]
  },
  {
   "cell_type": "code",
   "execution_count": 3,
   "metadata": {
    "scrolled": false
   },
   "outputs": [
    {
     "data": {
      "text/plain": [
       "сотрудник          11119\n",
       "компаньон           5085\n",
       "пенсионер           3856\n",
       "госслужащий         1459\n",
       "безработный            2\n",
       "предприниматель        2\n",
       "студент                1\n",
       "в декрете              1\n",
       "Name: income_type, dtype: int64"
      ]
     },
     "execution_count": 3,
     "metadata": {},
     "output_type": "execute_result"
    }
   ],
   "source": [
    "data['income_type'].value_counts()"
   ]
  },
  {
   "cell_type": "markdown",
   "metadata": {},
   "source": [
    "Не похоже, что в таблице есть 2174 никогда не работавших людей: в даных только 1 студент и 1 человек в декрете, безработных тоже всего 2. Гипотеза не подтвердилась, следовательно пропуски обусловлены иными причинами. Поскольку пропущенные данные носят количественный характер, заполним их характерными значениями с помощью метода median(). Данный метод лучше подходит для расчета стреднего дохода.\n",
    "\n",
    "При этом, будем использовать группировку уровня дохода в зависимости от типа занятости (income type)/ \n",
    "\n",
    "Для начала проверим, действительно ли зависит средний доход от типа занятости."
   ]
  },
  {
   "cell_type": "code",
   "execution_count": 4,
   "metadata": {
    "scrolled": true
   },
   "outputs": [
    {
     "data": {
      "text/plain": [
       "income_type\n",
       "безработный        131339.751676\n",
       "в декрете           53829.130729\n",
       "госслужащий        150447.935283\n",
       "компаньон          172357.950966\n",
       "пенсионер          118514.486412\n",
       "предприниматель    499163.144947\n",
       "сотрудник          142594.396847\n",
       "студент             98201.625314\n",
       "Name: total_income, dtype: float64"
      ]
     },
     "execution_count": 4,
     "metadata": {},
     "output_type": "execute_result"
    }
   ],
   "source": [
    "#days_avg = data['days_employed'].mean()\n",
    "#print('Заменяем пропуски в графе days_employed на значение:', days_avg)\n",
    "#income_avg = data['total_income'].median()\n",
    "#print('Заменяем пропуски в графе total_income на значение:', income_avg)\n",
    "#data['days_employed'] = data['days_employed'].fillna(days_avg)\n",
    "#data['total_income'] = data['total_income'].fillna(income_avg)\n",
    "\n",
    "data.groupby('income_type')['total_income'].median()"
   ]
  },
  {
   "cell_type": "markdown",
   "metadata": {},
   "source": [
    "Гипотеза подтвердилась, доход больше всего завист от графы с типом занятости. Заменим пропуски в зависимости от типа занятости с помощью функции и метода apply()\n",
    "\n",
    "Пропуски в графе 'days_employed'(общий трудовой стаж) заполнять не будем, поскольку, как мы указали выше, данные этой графы для анализа нам не понадобятся. Удалим этот столбец"
   ]
  },
  {
   "cell_type": "code",
   "execution_count": 5,
   "metadata": {},
   "outputs": [],
   "source": [
    "data.pop('days_employed')\n",
    "\n",
    "data_grouped = data.groupby('income_type')['total_income'].median()\n",
    " \n",
    "def func(row):\n",
    "    if pd.isna(row['total_income']):\n",
    "        return data_grouped.loc[row['income_type']]\n",
    "    return row['total_income']\n",
    " \n",
    "data['total_income'] = data.apply(func, axis=1)"
   ]
  },
  {
   "cell_type": "markdown",
   "metadata": {},
   "source": [
    "Проверяем результат"
   ]
  },
  {
   "cell_type": "code",
   "execution_count": 6,
   "metadata": {
    "scrolled": true
   },
   "outputs": [
    {
     "name": "stdout",
     "output_type": "stream",
     "text": [
      "<class 'pandas.core.frame.DataFrame'>\n",
      "RangeIndex: 21525 entries, 0 to 21524\n",
      "Data columns (total 11 columns):\n",
      "children            21525 non-null int64\n",
      "dob_years           21525 non-null int64\n",
      "education           21525 non-null object\n",
      "education_id        21525 non-null int64\n",
      "family_status       21525 non-null object\n",
      "family_status_id    21525 non-null int64\n",
      "gender              21525 non-null object\n",
      "income_type         21525 non-null object\n",
      "debt                21525 non-null int64\n",
      "total_income        21525 non-null float64\n",
      "purpose             21525 non-null object\n",
      "dtypes: float64(1), int64(5), object(5)\n",
      "memory usage: 1.8+ MB\n"
     ]
    }
   ],
   "source": [
    "data.info()"
   ]
  },
  {
   "cell_type": "markdown",
   "metadata": {},
   "source": [
    "**Вывод** В графе 'total_income'(ежемесячный доход) пропуски заменены на характерные для данных столбцов значения "
   ]
  },
  {
   "cell_type": "markdown",
   "metadata": {},
   "source": [
    "### Замена типа данных"
   ]
  },
  {
   "cell_type": "markdown",
   "metadata": {},
   "source": [
    "Графа total_income содержит вещественный формат данных. Для дальнейшего удобства переведем эти данные в целочисленный формат"
   ]
  },
  {
   "cell_type": "code",
   "execution_count": 7,
   "metadata": {
    "scrolled": false
   },
   "outputs": [
    {
     "name": "stdout",
     "output_type": "stream",
     "text": [
      "<class 'pandas.core.frame.DataFrame'>\n",
      "RangeIndex: 21525 entries, 0 to 21524\n",
      "Data columns (total 11 columns):\n",
      "children            21525 non-null int64\n",
      "dob_years           21525 non-null int64\n",
      "education           21525 non-null object\n",
      "education_id        21525 non-null int64\n",
      "family_status       21525 non-null object\n",
      "family_status_id    21525 non-null int64\n",
      "gender              21525 non-null object\n",
      "income_type         21525 non-null object\n",
      "debt                21525 non-null int64\n",
      "total_income        21525 non-null int64\n",
      "purpose             21525 non-null object\n",
      "dtypes: int64(6), object(5)\n",
      "memory usage: 1.8+ MB\n"
     ]
    }
   ],
   "source": [
    "data['total_income'] = data['total_income'].astype('int')\n",
    "data.info()"
   ]
  },
  {
   "cell_type": "markdown",
   "metadata": {},
   "source": [
    "**Вывод** Для того, чтобы перевести строковые значения в числовой тип float64, используется метод Pandas —  to_numeric(). Нам же необходимо перевести вещественный тип в целочисленный, для этого используем метод astype()"
   ]
  },
  {
   "cell_type": "markdown",
   "metadata": {},
   "source": [
    "### Обработка дубликатов"
   ]
  },
  {
   "cell_type": "markdown",
   "metadata": {},
   "source": [
    "Считаем количество уникальных наименований в колонках 'education', 'family_status', 'gender', 'income_type', 'purpose' в таблице 'data' и выводим все уникальные наименования на экран с помощью метода .unique() и подсчета элементов в списке len()"
   ]
  },
  {
   "cell_type": "code",
   "execution_count": 8,
   "metadata": {
    "scrolled": false
   },
   "outputs": [
    {
     "name": "stdout",
     "output_type": "stream",
     "text": [
      "Уникальных education: 15 ['высшее' 'среднее' 'Среднее' 'СРЕДНЕЕ' 'ВЫСШЕЕ' 'неоконченное высшее'\n",
      " 'начальное' 'Высшее' 'НЕОКОНЧЕННОЕ ВЫСШЕЕ' 'Неоконченное высшее'\n",
      " 'НАЧАЛЬНОЕ' 'Начальное' 'Ученая степень' 'УЧЕНАЯ СТЕПЕНЬ'\n",
      " 'ученая степень']\n",
      "Уникальных family_status: 5 ['женат / замужем' 'гражданский брак' 'вдовец / вдова' 'в разводе'\n",
      " 'Не женат / не замужем']\n",
      "Уникальных gender: 3 ['F' 'M' 'XNA']\n",
      "Уникальных income_type: 8 ['сотрудник' 'пенсионер' 'компаньон' 'госслужащий' 'безработный'\n",
      " 'предприниматель' 'студент' 'в декрете']\n",
      "Уникальных purpose: 38 ['покупка жилья' 'приобретение автомобиля' 'дополнительное образование'\n",
      " 'сыграть свадьбу' 'операции с жильем' 'образование'\n",
      " 'на проведение свадьбы' 'покупка жилья для семьи' 'покупка недвижимости'\n",
      " 'покупка коммерческой недвижимости' 'покупка жилой недвижимости'\n",
      " 'строительство собственной недвижимости' 'недвижимость'\n",
      " 'строительство недвижимости' 'на покупку подержанного автомобиля'\n",
      " 'на покупку своего автомобиля' 'операции с коммерческой недвижимостью'\n",
      " 'строительство жилой недвижимости' 'жилье'\n",
      " 'операции со своей недвижимостью' 'автомобили' 'заняться образованием'\n",
      " 'сделка с подержанным автомобилем' 'получение образования' 'автомобиль'\n",
      " 'свадьба' 'получение дополнительного образования' 'покупка своего жилья'\n",
      " 'операции с недвижимостью' 'получение высшего образования'\n",
      " 'свой автомобиль' 'сделка с автомобилем' 'профильное образование'\n",
      " 'высшее образование' 'покупка жилья для сдачи' 'на покупку автомобиля'\n",
      " 'ремонт жилью' 'заняться высшим образованием']\n"
     ]
    }
   ],
   "source": [
    "unique_education = data['education'].unique()\n",
    "print('Уникальных education:', len(unique_education), unique_education) \n",
    "\n",
    "unique_family_status = data['family_status'].unique()\n",
    "print('Уникальных family_status:', len(unique_family_status), unique_family_status) \n",
    "\n",
    "unique_gender = data['gender'].unique()\n",
    "print('Уникальных gender:', len(unique_gender), unique_gender) \n",
    "\n",
    "unique_income_type = data['income_type'].unique()\n",
    "print('Уникальных income_type:', len(unique_income_type), unique_income_type) \n",
    "\n",
    "unique_purpose = data['purpose'].unique()\n",
    "print('Уникальных purpose:', len(unique_purpose), unique_purpose)"
   ]
  },
  {
   "cell_type": "markdown",
   "metadata": {},
   "source": [
    "В графах education, family_status имеются дубликаты данных, вызванные несоблюдением регистра при их вводе. Применим метод str.lower() для устранения дубликатов"
   ]
  },
  {
   "cell_type": "code",
   "execution_count": 9,
   "metadata": {
    "scrolled": true
   },
   "outputs": [
    {
     "name": "stdout",
     "output_type": "stream",
     "text": [
      "Уникальных education: 15 ['высшее' 'среднее' 'Среднее' 'СРЕДНЕЕ' 'ВЫСШЕЕ' 'неоконченное высшее'\n",
      " 'начальное' 'Высшее' 'НЕОКОНЧЕННОЕ ВЫСШЕЕ' 'Неоконченное высшее'\n",
      " 'НАЧАЛЬНОЕ' 'Начальное' 'Ученая степень' 'УЧЕНАЯ СТЕПЕНЬ'\n",
      " 'ученая степень']\n",
      "Уникальных family_status: 5 ['женат / замужем' 'гражданский брак' 'вдовец / вдова' 'в разводе'\n",
      " 'Не женат / не замужем']\n"
     ]
    }
   ],
   "source": [
    "data['education'] = data['education'].str.lower()\n",
    "print('Уникальных education:', len(unique_education), unique_education) \n",
    "\n",
    "data['family_status'] = data['family_status'].str.lower()\n",
    "print('Уникальных family_status:', len(unique_family_status), unique_family_status) "
   ]
  },
  {
   "cell_type": "markdown",
   "metadata": {},
   "source": [
    "Также необходимо устранить выявленные недочеты в графе 'gender', в которой кроме мужскго и женского пола указано XNA. Проанализируем количество таких данных с помощью метода value_counts():"
   ]
  },
  {
   "cell_type": "code",
   "execution_count": 10,
   "metadata": {
    "scrolled": false
   },
   "outputs": [
    {
     "data": {
      "text/plain": [
       "F      14236\n",
       "M       7288\n",
       "XNA        1\n",
       "Name: gender, dtype: int64"
      ]
     },
     "execution_count": 10,
     "metadata": {},
     "output_type": "execute_result"
    }
   ],
   "source": [
    "data['gender'].value_counts()"
   ]
  },
  {
   "cell_type": "markdown",
   "metadata": {},
   "source": [
    "Учитывая, что такой случай всего один, он вызван, вероятнее всего, некорректным заполнением данных, поэтому присвоим этому значению с помощью replace() параметр F, поскольку женщин - заемщиков в рассматриваемой таблице в два раза больше чем мужчин."
   ]
  },
  {
   "cell_type": "code",
   "execution_count": 11,
   "metadata": {
    "scrolled": true
   },
   "outputs": [
    {
     "name": "stdout",
     "output_type": "stream",
     "text": [
      "Уникальных gender: 3 ['F' 'M' 'XNA']\n"
     ]
    }
   ],
   "source": [
    "data['gender'] = data['gender'].replace('XNA', 'F')\n",
    "print('Уникальных gender:', len(unique_gender), unique_gender) "
   ]
  },
  {
   "cell_type": "markdown",
   "metadata": {},
   "source": [
    "Найдем дубликаты строк:"
   ]
  },
  {
   "cell_type": "code",
   "execution_count": 12,
   "metadata": {
    "scrolled": true
   },
   "outputs": [
    {
     "data": {
      "text/plain": [
       "71"
      ]
     },
     "execution_count": 12,
     "metadata": {},
     "output_type": "execute_result"
    }
   ],
   "source": [
    "data.duplicated().sum()"
   ]
  },
  {
   "cell_type": "markdown",
   "metadata": {},
   "source": [
    "Удалим дубликаты сток методом drop_duplicates()"
   ]
  },
  {
   "cell_type": "code",
   "execution_count": 13,
   "metadata": {},
   "outputs": [
    {
     "data": {
      "text/plain": [
       "0"
      ]
     },
     "execution_count": 13,
     "metadata": {},
     "output_type": "execute_result"
    }
   ],
   "source": [
    "data = data.drop_duplicates().reset_index(drop = True)\n",
    "data.duplicated().sum()"
   ]
  },
  {
   "cell_type": "markdown",
   "metadata": {},
   "source": [
    "Проверим уникальные значения в графе children"
   ]
  },
  {
   "cell_type": "code",
   "execution_count": 14,
   "metadata": {
    "scrolled": true
   },
   "outputs": [
    {
     "data": {
      "text/plain": [
       " 0     14091\n",
       " 1      4808\n",
       " 2      2052\n",
       " 3       330\n",
       " 20       76\n",
       "-1        47\n",
       " 4        41\n",
       " 5         9\n",
       "Name: children, dtype: int64"
      ]
     },
     "execution_count": 14,
     "metadata": {},
     "output_type": "execute_result"
    }
   ],
   "source": [
    "data['children'].value_counts()"
   ]
  },
  {
   "cell_type": "markdown",
   "metadata": {},
   "source": [
    "Очевидно, что при вводе данных были допущены опечатки: 20 детей быть не может, поскольку даже 5 детей встречается всего в 5 случаях. Поэтому эти данные переименуем в 2. -1 ребенок так же опечатка, скорее сего связанная с неверным заполнением графы, переименуем ее на 1. "
   ]
  },
  {
   "cell_type": "code",
   "execution_count": 15,
   "metadata": {
    "scrolled": true
   },
   "outputs": [
    {
     "data": {
      "text/plain": [
       "0    14091\n",
       "1     4855\n",
       "2     2128\n",
       "3      330\n",
       "4       41\n",
       "5        9\n",
       "Name: children, dtype: int64"
      ]
     },
     "execution_count": 15,
     "metadata": {},
     "output_type": "execute_result"
    }
   ],
   "source": [
    "#data['children'] = data['children'].replace(20, 2)\n",
    "#data['children'] = data['children'].replace(-1, 1)\n",
    "data.loc[data['children'] == 20, 'children'] = 2\n",
    "data.loc[data['children'] == -1, 'children'] = 1\n",
    "\n",
    "data['children'].value_counts()"
   ]
  },
  {
   "cell_type": "markdown",
   "metadata": {},
   "source": [
    "**Вывод** Удалены дубликаты строк, дубликаты в графах \"образование\" и \"количество детей\""
   ]
  },
  {
   "cell_type": "markdown",
   "metadata": {},
   "source": [
    "### Лемматизация"
   ]
  },
  {
   "cell_type": "markdown",
   "metadata": {},
   "source": [
    "В ходе анализа данных выявлены дубликаты данных в графе purpose, устранить которые можно только с помощью категоризации. . Для этого используем лемматизацию с помощью библиотеки PyMystem. Ранее созданный список unique_purpose преобразуем в строку методом join(), поскольку PyMystem работает только с данными в виде строки"
   ]
  },
  {
   "cell_type": "code",
   "execution_count": 16,
   "metadata": {},
   "outputs": [
    {
     "name": "stdout",
     "output_type": "stream",
     "text": [
      "Counter({' ': 96, 'покупка': 10, 'недвижимость': 10, 'автомобиль': 9, 'образование': 9, 'жилье': 7, 'с': 5, 'операция': 4, 'на': 4, 'свой': 4, 'свадьба': 3, 'строительство': 3, 'получение': 3, 'высокий': 3, 'дополнительный': 2, 'для': 2, 'коммерческий': 2, 'жилой': 2, 'подержать': 2, 'заниматься': 2, 'сделка': 2, 'приобретение': 1, 'сыграть': 1, 'проведение': 1, 'семья': 1, 'собственный': 1, 'со': 1, 'профильный': 1, 'сдача': 1, 'ремонт': 1, '\\n': 1})\n"
     ]
    }
   ],
   "source": [
    "from pymystem3 import Mystem\n",
    "m = Mystem()\n",
    "\n",
    "lem_purpose = ' '.join(unique_purpose)\n",
    "\n",
    "lemmas = m.lemmatize(lem_purpose)\n",
    "\n",
    "from collections import Counter\n",
    "print(Counter(lemmas)) "
   ]
  },
  {
   "cell_type": "markdown",
   "metadata": {},
   "source": [
    "**Вывод** Основные цели получения кредита - недвижимость, автомобиль, образование, свадьба"
   ]
  },
  {
   "cell_type": "markdown",
   "metadata": {},
   "source": [
    "### Категоризация данных"
   ]
  },
  {
   "cell_type": "markdown",
   "metadata": {},
   "source": [
    "В результате леммитизации мы установили 4 основные цели получения кредита. Применим эти категории к графе purpose с помощью функции и метода apply, создав графу purpose_id. Проверим полученный результат с помощью value_counts()"
   ]
  },
  {
   "cell_type": "code",
   "execution_count": 17,
   "metadata": {},
   "outputs": [
    {
     "data": {
      "text/plain": [
       "недвижимость    10811\n",
       "автомобиль       4306\n",
       "образование      4013\n",
       "свадьба          2324\n",
       "Name: purpose_id, dtype: int64"
      ]
     },
     "execution_count": 17,
     "metadata": {},
     "output_type": "execute_result"
    }
   ],
   "source": [
    "def purpose_id(purpose):\n",
    "    if 'недвиж' in purpose:\n",
    "        return 'недвижимость'\n",
    "    if 'жил' in purpose:\n",
    "        return 'недвижимость'\n",
    "    if 'авто' in purpose:\n",
    "        return 'автомобиль'\n",
    "    if 'образ' in purpose:\n",
    "        return 'образование'\n",
    "    if 'свадьб' in purpose:\n",
    "        return 'свадьба'\n",
    "    \n",
    "data['purpose_id'] = data['purpose'].apply(purpose_id)\n",
    "    \n",
    "data['purpose_id'].value_counts()"
   ]
  },
  {
   "cell_type": "markdown",
   "metadata": {},
   "source": [
    "Чтобы ответить на вопрос о влиянии уровня дохода на возврат кредита, создадим категории для графы total_income. Для этого сначала узнаем максимальное и минимальное значение данной графы"
   ]
  },
  {
   "cell_type": "code",
   "execution_count": 18,
   "metadata": {},
   "outputs": [
    {
     "data": {
      "text/plain": [
       "2265604"
      ]
     },
     "execution_count": 18,
     "metadata": {},
     "output_type": "execute_result"
    }
   ],
   "source": [
    "data['total_income'].max()"
   ]
  },
  {
   "cell_type": "code",
   "execution_count": 19,
   "metadata": {},
   "outputs": [
    {
     "data": {
      "text/plain": [
       "20667"
      ]
     },
     "execution_count": 19,
     "metadata": {},
     "output_type": "execute_result"
    }
   ],
   "source": [
    "data['total_income'].min()"
   ]
  },
  {
   "cell_type": "markdown",
   "metadata": {},
   "source": [
    "Учитывая, что ранее мы вычислили медианный средний доход как 145018 создадим три категории дохода заемщиков: небольшой - 0 (до 100000), средний - 1 (от 100000 до 200000), высокий - 2 (более 200000). \n",
    "\n",
    "Поскольку чаще всего разделяют людей по доходам на три категории - люди с невысокими доходами, средний клас и люди с высокими доходами, опираясь на полученные нами данные - минимальный доход - 20677, средний (медианный) - 145018 и самый высокий - 2265604, мы также будем использовать эти три категории в исследовании. Границы категорий в 100000 и 200000 возьмем условно, отталкиваясь от медианного среднего дохода в 145018"
   ]
  },
  {
   "cell_type": "code",
   "execution_count": 20,
   "metadata": {},
   "outputs": [
    {
     "data": {
      "text/plain": [
       "1    11924\n",
       "2     5067\n",
       "0     4463\n",
       "Name: total_income_id, dtype: int64"
      ]
     },
     "execution_count": 20,
     "metadata": {},
     "output_type": "execute_result"
    }
   ],
   "source": [
    "def total_income_id(total_income):\n",
    "    if total_income < 100000:\n",
    "        return 0\n",
    "    if 200000 > total_income >= 100000:\n",
    "        return 1\n",
    "    if total_income >= 200000:\n",
    "        return 2\n",
    "    \n",
    "data['total_income_id'] = data['total_income'].apply(total_income_id)\n",
    "    \n",
    "data['total_income_id'].value_counts()"
   ]
  },
  {
   "cell_type": "code",
   "execution_count": 21,
   "metadata": {},
   "outputs": [],
   "source": [
    "#Для ответа на вопрос о влиянии количества детей на возврат кредита создадим 2 категории для графы children - заемщики с детьми (1) и без детей (0)\n",
    "\n",
    "#def children_id(children):\n",
    "#    if children == 0:\n",
    "#        return 0\n",
    "#    else:\n",
    "#        return 1\n",
    "#    \n",
    "#data['children_id'] = data['children'].apply(children_id)\n",
    "#    \n",
    "#data['children_id'].value_counts()"
   ]
  },
  {
   "cell_type": "markdown",
   "metadata": {},
   "source": [
    "**Вывод** Создали категории для граф [purpose] и [total_income] для расчета коэффициентов по заданным вопросам"
   ]
  },
  {
   "cell_type": "markdown",
   "metadata": {},
   "source": [
    "Одним из заданий к проекту является вопрос \"перечислите, какие «словари» вы выделили для этого набора данных, и объясните, почему\".\n",
    "\n",
    "В представленной таблице представлены два параметра - к столбцам [education] - education_id и к [family_status] - family_status_id.\n",
    "\n",
    "Данные параметры удобно использовать как ключи в словарях, в которых ключ — это название столбца, к которому нужно применить функции, а значением выступает список с названиями функций.\n",
    "\n",
    "Возьмем ключи  education_id и family_status_id и применинм функции sum и median к значениям из total_income"
   ]
  },
  {
   "cell_type": "code",
   "execution_count": 22,
   "metadata": {},
   "outputs": [
    {
     "data": {
      "text/html": [
       "<div>\n",
       "<style scoped>\n",
       "    .dataframe tbody tr th:only-of-type {\n",
       "        vertical-align: middle;\n",
       "    }\n",
       "\n",
       "    .dataframe tbody tr th {\n",
       "        vertical-align: top;\n",
       "    }\n",
       "\n",
       "    .dataframe thead tr th {\n",
       "        text-align: left;\n",
       "    }\n",
       "\n",
       "    .dataframe thead tr:last-of-type th {\n",
       "        text-align: right;\n",
       "    }\n",
       "</style>\n",
       "<table border=\"1\" class=\"dataframe\">\n",
       "  <thead>\n",
       "    <tr>\n",
       "      <th></th>\n",
       "      <th colspan=\"2\" halign=\"left\">total_income</th>\n",
       "    </tr>\n",
       "    <tr>\n",
       "      <th></th>\n",
       "      <th>count</th>\n",
       "      <th>median</th>\n",
       "    </tr>\n",
       "    <tr>\n",
       "      <th>education_id</th>\n",
       "      <th></th>\n",
       "      <th></th>\n",
       "    </tr>\n",
       "  </thead>\n",
       "  <tbody>\n",
       "    <tr>\n",
       "      <td>0</td>\n",
       "      <td>5250</td>\n",
       "      <td>171485.0</td>\n",
       "    </tr>\n",
       "    <tr>\n",
       "      <td>1</td>\n",
       "      <td>15172</td>\n",
       "      <td>141695.0</td>\n",
       "    </tr>\n",
       "    <tr>\n",
       "      <td>2</td>\n",
       "      <td>744</td>\n",
       "      <td>155759.0</td>\n",
       "    </tr>\n",
       "    <tr>\n",
       "      <td>3</td>\n",
       "      <td>282</td>\n",
       "      <td>118941.5</td>\n",
       "    </tr>\n",
       "    <tr>\n",
       "      <td>4</td>\n",
       "      <td>6</td>\n",
       "      <td>157259.5</td>\n",
       "    </tr>\n",
       "  </tbody>\n",
       "</table>\n",
       "</div>"
      ],
      "text/plain": [
       "             total_income          \n",
       "                    count    median\n",
       "education_id                       \n",
       "0                    5250  171485.0\n",
       "1                   15172  141695.0\n",
       "2                     744  155759.0\n",
       "3                     282  118941.5\n",
       "4                       6  157259.5"
      ]
     },
     "execution_count": 22,
     "metadata": {},
     "output_type": "execute_result"
    }
   ],
   "source": [
    "data.groupby('education_id').agg({'total_income': ['count', 'median']})\n",
    "\n",
    "#data.pivot_table(index=['education', 'education_id'], columns='children', values='total_income', aggfunc='mean').fillna(0)"
   ]
  },
  {
   "cell_type": "code",
   "execution_count": 23,
   "metadata": {},
   "outputs": [
    {
     "data": {
      "text/html": [
       "<div>\n",
       "<style scoped>\n",
       "    .dataframe tbody tr th:only-of-type {\n",
       "        vertical-align: middle;\n",
       "    }\n",
       "\n",
       "    .dataframe tbody tr th {\n",
       "        vertical-align: top;\n",
       "    }\n",
       "\n",
       "    .dataframe thead tr th {\n",
       "        text-align: left;\n",
       "    }\n",
       "\n",
       "    .dataframe thead tr:last-of-type th {\n",
       "        text-align: right;\n",
       "    }\n",
       "</style>\n",
       "<table border=\"1\" class=\"dataframe\">\n",
       "  <thead>\n",
       "    <tr>\n",
       "      <th></th>\n",
       "      <th colspan=\"2\" halign=\"left\">total_income</th>\n",
       "    </tr>\n",
       "    <tr>\n",
       "      <th></th>\n",
       "      <th>count</th>\n",
       "      <th>median</th>\n",
       "    </tr>\n",
       "    <tr>\n",
       "      <th>family_status_id</th>\n",
       "      <th></th>\n",
       "      <th></th>\n",
       "    </tr>\n",
       "  </thead>\n",
       "  <tbody>\n",
       "    <tr>\n",
       "      <td>0</td>\n",
       "      <td>12339</td>\n",
       "      <td>142969</td>\n",
       "    </tr>\n",
       "    <tr>\n",
       "      <td>1</td>\n",
       "      <td>4151</td>\n",
       "      <td>142594</td>\n",
       "    </tr>\n",
       "    <tr>\n",
       "      <td>2</td>\n",
       "      <td>959</td>\n",
       "      <td>127310</td>\n",
       "    </tr>\n",
       "    <tr>\n",
       "      <td>3</td>\n",
       "      <td>1195</td>\n",
       "      <td>143450</td>\n",
       "    </tr>\n",
       "    <tr>\n",
       "      <td>4</td>\n",
       "      <td>2810</td>\n",
       "      <td>142594</td>\n",
       "    </tr>\n",
       "  </tbody>\n",
       "</table>\n",
       "</div>"
      ],
      "text/plain": [
       "                 total_income        \n",
       "                        count  median\n",
       "family_status_id                     \n",
       "0                       12339  142969\n",
       "1                        4151  142594\n",
       "2                         959  127310\n",
       "3                        1195  143450\n",
       "4                        2810  142594"
      ]
     },
     "execution_count": 23,
     "metadata": {},
     "output_type": "execute_result"
    }
   ],
   "source": [
    "data.groupby('family_status_id').agg({'total_income': ['count', 'median']})\n",
    "\n",
    "#data.pivot_table(index=['family_status', 'family_status_id'], columns='gender', values='total_income', aggfunc='count').fillna(0)"
   ]
  },
  {
   "cell_type": "markdown",
   "metadata": {},
   "source": [
    "Как видим, если образование заметно влияет на медианный доход, то семейный статус на него практически не оказывает влияния"
   ]
  },
  {
   "cell_type": "markdown",
   "metadata": {},
   "source": [
    "Словари также создают для оптимизации многократно повторяющихся данных:"
   ]
  },
  {
   "cell_type": "code",
   "execution_count": 24,
   "metadata": {},
   "outputs": [
    {
     "data": {
      "text/html": [
       "<div>\n",
       "<style scoped>\n",
       "    .dataframe tbody tr th:only-of-type {\n",
       "        vertical-align: middle;\n",
       "    }\n",
       "\n",
       "    .dataframe tbody tr th {\n",
       "        vertical-align: top;\n",
       "    }\n",
       "\n",
       "    .dataframe thead th {\n",
       "        text-align: right;\n",
       "    }\n",
       "</style>\n",
       "<table border=\"1\" class=\"dataframe\">\n",
       "  <thead>\n",
       "    <tr style=\"text-align: right;\">\n",
       "      <th></th>\n",
       "      <th>family_status</th>\n",
       "      <th>family_status_id</th>\n",
       "    </tr>\n",
       "  </thead>\n",
       "  <tbody>\n",
       "    <tr>\n",
       "      <td>0</td>\n",
       "      <td>женат / замужем</td>\n",
       "      <td>0</td>\n",
       "    </tr>\n",
       "    <tr>\n",
       "      <td>1</td>\n",
       "      <td>гражданский брак</td>\n",
       "      <td>1</td>\n",
       "    </tr>\n",
       "    <tr>\n",
       "      <td>2</td>\n",
       "      <td>вдовец / вдова</td>\n",
       "      <td>2</td>\n",
       "    </tr>\n",
       "    <tr>\n",
       "      <td>3</td>\n",
       "      <td>в разводе</td>\n",
       "      <td>3</td>\n",
       "    </tr>\n",
       "    <tr>\n",
       "      <td>4</td>\n",
       "      <td>не женат / не замужем</td>\n",
       "      <td>4</td>\n",
       "    </tr>\n",
       "  </tbody>\n",
       "</table>\n",
       "</div>"
      ],
      "text/plain": [
       "           family_status  family_status_id\n",
       "0        женат / замужем                 0\n",
       "1       гражданский брак                 1\n",
       "2         вдовец / вдова                 2\n",
       "3              в разводе                 3\n",
       "4  не женат / не замужем                 4"
      ]
     },
     "metadata": {},
     "output_type": "display_data"
    }
   ],
   "source": [
    "family_dict = data[['family_status', 'family_status_id']]\n",
    "\n",
    "family_dict = family_dict.drop_duplicates().reset_index(drop=True)\n",
    "\n",
    "display(family_dict.sort_values('family_status_id'))"
   ]
  },
  {
   "cell_type": "code",
   "execution_count": 25,
   "metadata": {},
   "outputs": [
    {
     "data": {
      "text/html": [
       "<div>\n",
       "<style scoped>\n",
       "    .dataframe tbody tr th:only-of-type {\n",
       "        vertical-align: middle;\n",
       "    }\n",
       "\n",
       "    .dataframe tbody tr th {\n",
       "        vertical-align: top;\n",
       "    }\n",
       "\n",
       "    .dataframe thead th {\n",
       "        text-align: right;\n",
       "    }\n",
       "</style>\n",
       "<table border=\"1\" class=\"dataframe\">\n",
       "  <thead>\n",
       "    <tr style=\"text-align: right;\">\n",
       "      <th></th>\n",
       "      <th>education</th>\n",
       "      <th>education_id</th>\n",
       "    </tr>\n",
       "  </thead>\n",
       "  <tbody>\n",
       "    <tr>\n",
       "      <td>0</td>\n",
       "      <td>высшее</td>\n",
       "      <td>0</td>\n",
       "    </tr>\n",
       "    <tr>\n",
       "      <td>1</td>\n",
       "      <td>среднее</td>\n",
       "      <td>1</td>\n",
       "    </tr>\n",
       "    <tr>\n",
       "      <td>2</td>\n",
       "      <td>неоконченное высшее</td>\n",
       "      <td>2</td>\n",
       "    </tr>\n",
       "    <tr>\n",
       "      <td>3</td>\n",
       "      <td>начальное</td>\n",
       "      <td>3</td>\n",
       "    </tr>\n",
       "    <tr>\n",
       "      <td>4</td>\n",
       "      <td>ученая степень</td>\n",
       "      <td>4</td>\n",
       "    </tr>\n",
       "  </tbody>\n",
       "</table>\n",
       "</div>"
      ],
      "text/plain": [
       "             education  education_id\n",
       "0               высшее             0\n",
       "1              среднее             1\n",
       "2  неоконченное высшее             2\n",
       "3            начальное             3\n",
       "4       ученая степень             4"
      ]
     },
     "metadata": {},
     "output_type": "display_data"
    }
   ],
   "source": [
    "education_dict = data[['education', 'education_id']]\n",
    "\n",
    "education_dict = education_dict.drop_duplicates().reset_index(drop=True)\n",
    "\n",
    "display(education_dict.sort_values('education_id'))"
   ]
  },
  {
   "cell_type": "markdown",
   "metadata": {},
   "source": [
    "## Шаг 3. Ответьте на вопросы"
   ]
  },
  {
   "cell_type": "markdown",
   "metadata": {},
   "source": [
    "- Есть ли зависимость между наличием детей и возвратом кредита в срок?"
   ]
  },
  {
   "cell_type": "markdown",
   "metadata": {},
   "source": [
    "Графа debt отвечает на впорос - имел ли клиент задолженность по возврату кредитов: 0 - нет (False), 1 - да (True). Определим коэффициент зависимости между наличием детей и возвратом кредита в срок как отношение количества невозвратов кредита к общему количеству кредитов для каждой из категории заемщиков. Построим сводную таблицу с помощью метода pivot_table. Значение values возьмем из любой из неиспользуемых в функции ячеек для подстчета количества значений. Чем выше получаемый коэффициент, тем больше невозвратов кредита в срок."
   ]
  },
  {
   "cell_type": "code",
   "execution_count": 26,
   "metadata": {},
   "outputs": [
    {
     "data": {
      "text/html": [
       "<div>\n",
       "<style scoped>\n",
       "    .dataframe tbody tr th:only-of-type {\n",
       "        vertical-align: middle;\n",
       "    }\n",
       "\n",
       "    .dataframe tbody tr th {\n",
       "        vertical-align: top;\n",
       "    }\n",
       "\n",
       "    .dataframe thead th {\n",
       "        text-align: right;\n",
       "    }\n",
       "</style>\n",
       "<table border=\"1\" class=\"dataframe\">\n",
       "  <thead>\n",
       "    <tr style=\"text-align: right;\">\n",
       "      <th>debt</th>\n",
       "      <th>0</th>\n",
       "      <th>1</th>\n",
       "      <th>ratio</th>\n",
       "    </tr>\n",
       "    <tr>\n",
       "      <th>children</th>\n",
       "      <th></th>\n",
       "      <th></th>\n",
       "      <th></th>\n",
       "    </tr>\n",
       "  </thead>\n",
       "  <tbody>\n",
       "    <tr>\n",
       "      <td>4</td>\n",
       "      <td>37.0</td>\n",
       "      <td>4.0</td>\n",
       "      <td>0.097561</td>\n",
       "    </tr>\n",
       "    <tr>\n",
       "      <td>2</td>\n",
       "      <td>1926.0</td>\n",
       "      <td>202.0</td>\n",
       "      <td>0.094925</td>\n",
       "    </tr>\n",
       "    <tr>\n",
       "      <td>1</td>\n",
       "      <td>4410.0</td>\n",
       "      <td>445.0</td>\n",
       "      <td>0.091658</td>\n",
       "    </tr>\n",
       "    <tr>\n",
       "      <td>3</td>\n",
       "      <td>303.0</td>\n",
       "      <td>27.0</td>\n",
       "      <td>0.081818</td>\n",
       "    </tr>\n",
       "    <tr>\n",
       "      <td>0</td>\n",
       "      <td>13028.0</td>\n",
       "      <td>1063.0</td>\n",
       "      <td>0.075438</td>\n",
       "    </tr>\n",
       "    <tr>\n",
       "      <td>5</td>\n",
       "      <td>9.0</td>\n",
       "      <td>0.0</td>\n",
       "      <td>0.000000</td>\n",
       "    </tr>\n",
       "  </tbody>\n",
       "</table>\n",
       "</div>"
      ],
      "text/plain": [
       "debt            0       1     ratio\n",
       "children                           \n",
       "4            37.0     4.0  0.097561\n",
       "2          1926.0   202.0  0.094925\n",
       "1          4410.0   445.0  0.091658\n",
       "3           303.0    27.0  0.081818\n",
       "0         13028.0  1063.0  0.075438\n",
       "5             9.0     0.0  0.000000"
      ]
     },
     "metadata": {},
     "output_type": "display_data"
    }
   ],
   "source": [
    "data_pivot = data.pivot_table(index=['children'], columns='debt', values='total_income', aggfunc='count')\n",
    "data_pivot['ratio'] = data_pivot[1] / (data_pivot[0] + data_pivot[1])\n",
    "\n",
    "data_pivot = data_pivot.fillna(0)\n",
    "display(data_pivot.sort_values(by = 'ratio', ascending = False))"
   ]
  },
  {
   "cell_type": "markdown",
   "metadata": {},
   "source": [
    "**Вывод** Семьи с детьми чаще нарушают сроки возврата кредита. "
   ]
  },
  {
   "cell_type": "markdown",
   "metadata": {},
   "source": [
    "- Есть ли зависимость между семейным положением и возвратом кредита в срок?"
   ]
  },
  {
   "cell_type": "markdown",
   "metadata": {},
   "source": [
    "Аналогичным образом рассчитаем коэффициент зависимости между семейным положением и возвратом кредита в срок"
   ]
  },
  {
   "cell_type": "code",
   "execution_count": 27,
   "metadata": {},
   "outputs": [
    {
     "data": {
      "text/html": [
       "<div>\n",
       "<style scoped>\n",
       "    .dataframe tbody tr th:only-of-type {\n",
       "        vertical-align: middle;\n",
       "    }\n",
       "\n",
       "    .dataframe tbody tr th {\n",
       "        vertical-align: top;\n",
       "    }\n",
       "\n",
       "    .dataframe thead th {\n",
       "        text-align: right;\n",
       "    }\n",
       "</style>\n",
       "<table border=\"1\" class=\"dataframe\">\n",
       "  <thead>\n",
       "    <tr style=\"text-align: right;\">\n",
       "      <th>debt</th>\n",
       "      <th>0</th>\n",
       "      <th>1</th>\n",
       "      <th>ratio</th>\n",
       "    </tr>\n",
       "    <tr>\n",
       "      <th>family_status</th>\n",
       "      <th></th>\n",
       "      <th></th>\n",
       "      <th></th>\n",
       "    </tr>\n",
       "  </thead>\n",
       "  <tbody>\n",
       "    <tr>\n",
       "      <td>не женат / не замужем</td>\n",
       "      <td>2536</td>\n",
       "      <td>274</td>\n",
       "      <td>0.097509</td>\n",
       "    </tr>\n",
       "    <tr>\n",
       "      <td>гражданский брак</td>\n",
       "      <td>3763</td>\n",
       "      <td>388</td>\n",
       "      <td>0.093471</td>\n",
       "    </tr>\n",
       "    <tr>\n",
       "      <td>женат / замужем</td>\n",
       "      <td>11408</td>\n",
       "      <td>931</td>\n",
       "      <td>0.075452</td>\n",
       "    </tr>\n",
       "    <tr>\n",
       "      <td>в разводе</td>\n",
       "      <td>1110</td>\n",
       "      <td>85</td>\n",
       "      <td>0.071130</td>\n",
       "    </tr>\n",
       "    <tr>\n",
       "      <td>вдовец / вдова</td>\n",
       "      <td>896</td>\n",
       "      <td>63</td>\n",
       "      <td>0.065693</td>\n",
       "    </tr>\n",
       "  </tbody>\n",
       "</table>\n",
       "</div>"
      ],
      "text/plain": [
       "debt                       0    1     ratio\n",
       "family_status                              \n",
       "не женат / не замужем   2536  274  0.097509\n",
       "гражданский брак        3763  388  0.093471\n",
       "женат / замужем        11408  931  0.075452\n",
       "в разводе               1110   85  0.071130\n",
       "вдовец / вдова           896   63  0.065693"
      ]
     },
     "metadata": {},
     "output_type": "display_data"
    }
   ],
   "source": [
    "data_pivot = data.pivot_table(index=['family_status'], columns='debt', values='total_income', aggfunc='count')\n",
    "data_pivot['ratio'] = data_pivot[1] / (data_pivot[0] + data_pivot[1])\n",
    "\n",
    "display(data_pivot.sort_values(by = 'ratio', ascending = False))"
   ]
  },
  {
   "cell_type": "markdown",
   "metadata": {},
   "source": [
    "**Вывод** Люди, которые не имеют или не имели оформленных брачных отношений, чаще нарушают сроки возварта кредита"
   ]
  },
  {
   "cell_type": "markdown",
   "metadata": {},
   "source": [
    "- Есть ли зависимость между уровнем дохода и возвратом кредита в срок?"
   ]
  },
  {
   "cell_type": "markdown",
   "metadata": {},
   "source": [
    "Рассчитаем кофэффициент зависимости между уровнем дохода и возвратом кредита в срок. Ранее мы расчитали уровни дохода как небольшой - 0 (до 100000), средний - 1 (от 100000 до 200000), высокий - 2 (более 200000):"
   ]
  },
  {
   "cell_type": "code",
   "execution_count": 28,
   "metadata": {},
   "outputs": [
    {
     "data": {
      "text/html": [
       "<div>\n",
       "<style scoped>\n",
       "    .dataframe tbody tr th:only-of-type {\n",
       "        vertical-align: middle;\n",
       "    }\n",
       "\n",
       "    .dataframe tbody tr th {\n",
       "        vertical-align: top;\n",
       "    }\n",
       "\n",
       "    .dataframe thead th {\n",
       "        text-align: right;\n",
       "    }\n",
       "</style>\n",
       "<table border=\"1\" class=\"dataframe\">\n",
       "  <thead>\n",
       "    <tr style=\"text-align: right;\">\n",
       "      <th>debt</th>\n",
       "      <th>0</th>\n",
       "      <th>1</th>\n",
       "      <th>ratio</th>\n",
       "    </tr>\n",
       "    <tr>\n",
       "      <th>total_income_id</th>\n",
       "      <th></th>\n",
       "      <th></th>\n",
       "      <th></th>\n",
       "    </tr>\n",
       "  </thead>\n",
       "  <tbody>\n",
       "    <tr>\n",
       "      <td>1</td>\n",
       "      <td>10895</td>\n",
       "      <td>1029</td>\n",
       "      <td>0.086297</td>\n",
       "    </tr>\n",
       "    <tr>\n",
       "      <td>0</td>\n",
       "      <td>4109</td>\n",
       "      <td>354</td>\n",
       "      <td>0.079319</td>\n",
       "    </tr>\n",
       "    <tr>\n",
       "      <td>2</td>\n",
       "      <td>4709</td>\n",
       "      <td>358</td>\n",
       "      <td>0.070653</td>\n",
       "    </tr>\n",
       "  </tbody>\n",
       "</table>\n",
       "</div>"
      ],
      "text/plain": [
       "debt                 0     1     ratio\n",
       "total_income_id                       \n",
       "1                10895  1029  0.086297\n",
       "0                 4109   354  0.079319\n",
       "2                 4709   358  0.070653"
      ]
     },
     "metadata": {},
     "output_type": "display_data"
    }
   ],
   "source": [
    "data_pivot = data.pivot_table(index=['total_income_id'], columns='debt', values='total_income', aggfunc='count')\n",
    "data_pivot['ratio'] = data_pivot[1] / (data_pivot[0] + data_pivot[1])\n",
    "\n",
    "display(data_pivot.sort_values(by = 'ratio', ascending = False))"
   ]
  },
  {
   "cell_type": "markdown",
   "metadata": {},
   "source": [
    "**Вывод** Люди со средним доходом менее дисциплинированы в вопросах возврата кредита в срок"
   ]
  },
  {
   "cell_type": "markdown",
   "metadata": {},
   "source": [
    "- Как разные цели кредита влияют на его возврат в срок?"
   ]
  },
  {
   "cell_type": "markdown",
   "metadata": {},
   "source": [
    "Рассчитаем кофэффициент зависимости целей кредита на его возврат в срок:"
   ]
  },
  {
   "cell_type": "code",
   "execution_count": 29,
   "metadata": {},
   "outputs": [
    {
     "data": {
      "text/html": [
       "<div>\n",
       "<style scoped>\n",
       "    .dataframe tbody tr th:only-of-type {\n",
       "        vertical-align: middle;\n",
       "    }\n",
       "\n",
       "    .dataframe tbody tr th {\n",
       "        vertical-align: top;\n",
       "    }\n",
       "\n",
       "    .dataframe thead th {\n",
       "        text-align: right;\n",
       "    }\n",
       "</style>\n",
       "<table border=\"1\" class=\"dataframe\">\n",
       "  <thead>\n",
       "    <tr style=\"text-align: right;\">\n",
       "      <th>debt</th>\n",
       "      <th>0</th>\n",
       "      <th>1</th>\n",
       "      <th>ratio</th>\n",
       "    </tr>\n",
       "    <tr>\n",
       "      <th>purpose_id</th>\n",
       "      <th></th>\n",
       "      <th></th>\n",
       "      <th></th>\n",
       "    </tr>\n",
       "  </thead>\n",
       "  <tbody>\n",
       "    <tr>\n",
       "      <td>автомобиль</td>\n",
       "      <td>3903</td>\n",
       "      <td>403</td>\n",
       "      <td>0.093590</td>\n",
       "    </tr>\n",
       "    <tr>\n",
       "      <td>образование</td>\n",
       "      <td>3643</td>\n",
       "      <td>370</td>\n",
       "      <td>0.092200</td>\n",
       "    </tr>\n",
       "    <tr>\n",
       "      <td>свадьба</td>\n",
       "      <td>2138</td>\n",
       "      <td>186</td>\n",
       "      <td>0.080034</td>\n",
       "    </tr>\n",
       "    <tr>\n",
       "      <td>недвижимость</td>\n",
       "      <td>10029</td>\n",
       "      <td>782</td>\n",
       "      <td>0.072334</td>\n",
       "    </tr>\n",
       "  </tbody>\n",
       "</table>\n",
       "</div>"
      ],
      "text/plain": [
       "debt              0    1     ratio\n",
       "purpose_id                        \n",
       "автомобиль     3903  403  0.093590\n",
       "образование    3643  370  0.092200\n",
       "свадьба        2138  186  0.080034\n",
       "недвижимость  10029  782  0.072334"
      ]
     },
     "metadata": {},
     "output_type": "display_data"
    }
   ],
   "source": [
    "data_pivot = data.pivot_table(index=['purpose_id'], columns='debt', values='total_income', aggfunc='count')\n",
    "data_pivot['ratio'] = data_pivot[1] / (data_pivot[0] + data_pivot[1])\n",
    "\n",
    "display(data_pivot.sort_values(by = 'ratio', ascending = False))"
   ]
  },
  {
   "cell_type": "markdown",
   "metadata": {},
   "source": [
    "**Вывод** Клиенты, берущие кредит на образование и автомобиль чаще нарушают сроки погашений по кредитам, чем те, кто взял кредит на недвижимость и свадьбу."
   ]
  },
  {
   "cell_type": "markdown",
   "metadata": {},
   "source": [
    "## Шаг 4. Общий вывод"
   ]
  },
  {
   "cell_type": "markdown",
   "metadata": {},
   "source": [
    "Семьи с детьми чаще нарушают сроки возврата кредита, чем те, кто не имеет детей.\n",
    "\n",
    "Люди, которые не имеют или не имели оформленных брачных отношений, чаще нарушают сроки возварта кредита. Люди, официально состоящие в брачных отношениях, вдовцы и разведенные существенно боле дисциплинированы в этом вопросе.\n",
    "\n",
    "Люди со средним доходом менее дисциплинированы в вопросах возврата кредита в срок. Меньше всего нарушают сроки погашения кредита люди с уровнем дохода более 200000\n",
    "\n",
    "Клиенты, берущие кредит на образование и автомобиль чаще нарушают сроки погашений по кредитам, чем те, кто взял кредит на  свадьбу. Наименьшее количество нарушений сроков по кредиту допускают заемщики, взявшие кредит на жилье и недвижимость"
   ]
  }
 ],
 "metadata": {
  "ExecuteTimeLog": [
   {
    "duration": 797,
    "start_time": "2021-12-04T06:23:49.408Z"
   },
   {
    "duration": 97,
    "start_time": "2021-12-04T06:24:33.476Z"
   },
   {
    "duration": 76,
    "start_time": "2021-12-04T06:25:02.828Z"
   },
   {
    "duration": 75,
    "start_time": "2021-12-04T06:27:40.904Z"
   },
   {
    "duration": 82,
    "start_time": "2021-12-04T06:27:47.164Z"
   },
   {
    "duration": 186,
    "start_time": "2021-12-04T06:30:10.225Z"
   },
   {
    "duration": 76,
    "start_time": "2021-12-04T06:32:02.604Z"
   },
   {
    "duration": 90,
    "start_time": "2021-12-04T06:32:21.445Z"
   },
   {
    "duration": 8,
    "start_time": "2021-12-04T06:44:37.177Z"
   },
   {
    "duration": 16,
    "start_time": "2021-12-04T06:46:18.513Z"
   },
   {
    "duration": 365,
    "start_time": "2021-12-04T06:48:38.033Z"
   },
   {
    "duration": 17,
    "start_time": "2021-12-04T06:49:00.227Z"
   },
   {
    "duration": 18,
    "start_time": "2021-12-04T06:49:12.392Z"
   },
   {
    "duration": 20,
    "start_time": "2021-12-04T06:50:48.765Z"
   },
   {
    "duration": 20,
    "start_time": "2021-12-04T06:57:39.505Z"
   },
   {
    "duration": 312,
    "start_time": "2021-12-04T07:36:56.820Z"
   },
   {
    "duration": 12,
    "start_time": "2021-12-04T07:37:03.176Z"
   },
   {
    "duration": 104,
    "start_time": "2021-12-04T07:50:00.833Z"
   },
   {
    "duration": 91,
    "start_time": "2021-12-04T07:50:21.446Z"
   },
   {
    "duration": 16,
    "start_time": "2021-12-04T07:50:27.295Z"
   },
   {
    "duration": 18,
    "start_time": "2021-12-04T07:51:23.224Z"
   },
   {
    "duration": 13,
    "start_time": "2021-12-04T07:51:31.286Z"
   },
   {
    "duration": 26,
    "start_time": "2021-12-04T07:52:48.256Z"
   },
   {
    "duration": 325,
    "start_time": "2021-12-04T07:59:05.924Z"
   },
   {
    "duration": 30,
    "start_time": "2021-12-04T07:59:29.820Z"
   },
   {
    "duration": 31,
    "start_time": "2021-12-04T07:59:43.884Z"
   },
   {
    "duration": 311,
    "start_time": "2021-12-04T08:02:00.436Z"
   },
   {
    "duration": 89,
    "start_time": "2021-12-04T08:04:11.244Z"
   },
   {
    "duration": 299,
    "start_time": "2021-12-04T08:08:21.560Z"
   },
   {
    "duration": 296,
    "start_time": "2021-12-04T08:08:37.864Z"
   },
   {
    "duration": 33,
    "start_time": "2021-12-04T08:10:27.393Z"
   },
   {
    "duration": 6952,
    "start_time": "2021-12-04T09:11:50.585Z"
   },
   {
    "duration": 41,
    "start_time": "2021-12-04T09:12:03.745Z"
   },
   {
    "duration": 8,
    "start_time": "2021-12-04T09:13:20.504Z"
   },
   {
    "duration": 26,
    "start_time": "2021-12-04T09:15:02.764Z"
   },
   {
    "duration": 10,
    "start_time": "2021-12-04T09:16:04.517Z"
   },
   {
    "duration": 56,
    "start_time": "2021-12-04T09:17:14.182Z"
   },
   {
    "duration": 22,
    "start_time": "2021-12-04T09:23:05.317Z"
   },
   {
    "duration": 15,
    "start_time": "2021-12-04T09:59:49.216Z"
   },
   {
    "duration": 10,
    "start_time": "2021-12-04T09:59:57.653Z"
   },
   {
    "duration": 273,
    "start_time": "2021-12-04T10:00:06.765Z"
   },
   {
    "duration": 13,
    "start_time": "2021-12-04T10:00:21.938Z"
   },
   {
    "duration": 14,
    "start_time": "2021-12-04T10:00:37.611Z"
   },
   {
    "duration": 20,
    "start_time": "2021-12-04T10:00:40.685Z"
   },
   {
    "duration": 14,
    "start_time": "2021-12-04T10:01:38.889Z"
   },
   {
    "duration": 4,
    "start_time": "2021-12-04T10:13:35.816Z"
   },
   {
    "duration": 7,
    "start_time": "2021-12-04T10:13:49.196Z"
   },
   {
    "duration": 10,
    "start_time": "2021-12-04T10:15:02.737Z"
   },
   {
    "duration": 8,
    "start_time": "2021-12-04T10:15:19.636Z"
   },
   {
    "duration": 9,
    "start_time": "2021-12-04T10:15:26.864Z"
   },
   {
    "duration": 11,
    "start_time": "2021-12-04T10:15:58.217Z"
   },
   {
    "duration": 10,
    "start_time": "2021-12-04T10:16:04.796Z"
   },
   {
    "duration": 13,
    "start_time": "2021-12-04T10:16:10.525Z"
   },
   {
    "duration": 12,
    "start_time": "2021-12-04T14:14:49.286Z"
   },
   {
    "duration": 15,
    "start_time": "2021-12-04T14:15:22.036Z"
   },
   {
    "duration": 107,
    "start_time": "2021-12-04T14:16:32.500Z"
   },
   {
    "duration": 15,
    "start_time": "2021-12-04T14:16:47.714Z"
   },
   {
    "duration": 263,
    "start_time": "2021-12-04T14:16:59.325Z"
   },
   {
    "duration": 13,
    "start_time": "2021-12-04T14:17:03.724Z"
   },
   {
    "duration": 14,
    "start_time": "2021-12-04T14:17:09.864Z"
   },
   {
    "duration": 22,
    "start_time": "2021-12-04T14:40:32.824Z"
   },
   {
    "duration": 273,
    "start_time": "2021-12-04T14:41:36.824Z"
   },
   {
    "duration": 9,
    "start_time": "2021-12-04T14:42:13.064Z"
   },
   {
    "duration": 68,
    "start_time": "2021-12-04T14:42:59.404Z"
   },
   {
    "duration": 18,
    "start_time": "2021-12-04T14:43:09.824Z"
   },
   {
    "duration": 358,
    "start_time": "2021-12-04T14:51:33.704Z"
   },
   {
    "duration": 281,
    "start_time": "2021-12-04T14:51:43.417Z"
   },
   {
    "duration": 298,
    "start_time": "2021-12-04T14:53:05.964Z"
   },
   {
    "duration": 83,
    "start_time": "2021-12-04T14:53:52.826Z"
   },
   {
    "duration": 15,
    "start_time": "2021-12-04T14:53:54.126Z"
   },
   {
    "duration": 15,
    "start_time": "2021-12-04T14:53:56.185Z"
   },
   {
    "duration": 14,
    "start_time": "2021-12-04T14:53:59.564Z"
   },
   {
    "duration": 11,
    "start_time": "2021-12-04T14:54:01.125Z"
   },
   {
    "duration": 15,
    "start_time": "2021-12-04T14:54:02.905Z"
   },
   {
    "duration": 24,
    "start_time": "2021-12-04T14:54:06.552Z"
   },
   {
    "duration": 101,
    "start_time": "2021-12-04T14:54:40.084Z"
   },
   {
    "duration": 14,
    "start_time": "2021-12-04T14:54:44.537Z"
   },
   {
    "duration": 12,
    "start_time": "2021-12-04T14:54:46.412Z"
   },
   {
    "duration": 19,
    "start_time": "2021-12-04T14:54:48.556Z"
   },
   {
    "duration": 23,
    "start_time": "2021-12-04T14:54:50.717Z"
   },
   {
    "duration": 34,
    "start_time": "2021-12-04T14:55:20.047Z"
   },
   {
    "duration": 17,
    "start_time": "2021-12-04T14:55:44.804Z"
   },
   {
    "duration": 19,
    "start_time": "2021-12-04T15:52:55.265Z"
   },
   {
    "duration": 7,
    "start_time": "2021-12-04T15:57:06.592Z"
   },
   {
    "duration": 53,
    "start_time": "2021-12-04T17:25:07.054Z"
   },
   {
    "duration": 34,
    "start_time": "2021-12-04T17:26:00.953Z"
   },
   {
    "duration": 37,
    "start_time": "2021-12-04T17:26:24.405Z"
   },
   {
    "duration": 48,
    "start_time": "2021-12-04T17:26:55.636Z"
   },
   {
    "duration": 25,
    "start_time": "2021-12-04T17:27:38.400Z"
   },
   {
    "duration": 41,
    "start_time": "2021-12-04T17:27:41.933Z"
   },
   {
    "duration": 30,
    "start_time": "2021-12-04T17:32:00.341Z"
   },
   {
    "duration": 3385,
    "start_time": "2021-12-04T17:32:19.564Z"
   },
   {
    "duration": 26,
    "start_time": "2021-12-04T17:32:30.832Z"
   },
   {
    "duration": 9,
    "start_time": "2021-12-04T17:34:52.464Z"
   },
   {
    "duration": 10,
    "start_time": "2021-12-04T17:36:15.353Z"
   },
   {
    "duration": 8,
    "start_time": "2021-12-04T17:41:51.317Z"
   },
   {
    "duration": 7,
    "start_time": "2021-12-04T17:42:11.917Z"
   },
   {
    "duration": 9,
    "start_time": "2021-12-04T17:42:29.277Z"
   },
   {
    "duration": 10,
    "start_time": "2021-12-04T17:42:45.792Z"
   },
   {
    "duration": 8,
    "start_time": "2021-12-04T17:43:17.776Z"
   },
   {
    "duration": 7,
    "start_time": "2021-12-04T17:44:46.777Z"
   },
   {
    "duration": 9,
    "start_time": "2021-12-04T17:51:13.756Z"
   },
   {
    "duration": 35,
    "start_time": "2021-12-04T17:51:33.617Z"
   },
   {
    "duration": 25,
    "start_time": "2021-12-04T17:51:54.277Z"
   },
   {
    "duration": 54,
    "start_time": "2021-12-04T17:53:37.976Z"
   },
   {
    "duration": 8,
    "start_time": "2021-12-04T17:54:43.816Z"
   },
   {
    "duration": 265,
    "start_time": "2021-12-04T17:57:38.877Z"
   },
   {
    "duration": 5,
    "start_time": "2021-12-04T17:58:34.144Z"
   },
   {
    "duration": 499,
    "start_time": "2021-12-04T17:58:45.425Z"
   },
   {
    "duration": 56,
    "start_time": "2021-12-04T18:22:16.680Z"
   },
   {
    "duration": 7,
    "start_time": "2021-12-04T18:24:02.065Z"
   },
   {
    "duration": 21,
    "start_time": "2021-12-04T18:24:08.855Z"
   },
   {
    "duration": 7,
    "start_time": "2021-12-04T18:24:28.597Z"
   },
   {
    "duration": 27,
    "start_time": "2021-12-04T18:24:39.043Z"
   },
   {
    "duration": 49,
    "start_time": "2021-12-04T18:24:40.480Z"
   },
   {
    "duration": 290,
    "start_time": "2021-12-04T18:31:12.185Z"
   },
   {
    "duration": 265,
    "start_time": "2021-12-04T18:34:11.051Z"
   },
   {
    "duration": 276,
    "start_time": "2021-12-04T18:35:39.577Z"
   },
   {
    "duration": 264,
    "start_time": "2021-12-04T18:36:00.738Z"
   },
   {
    "duration": 47,
    "start_time": "2021-12-04T18:39:32.976Z"
   },
   {
    "duration": 270,
    "start_time": "2021-12-04T18:41:08.496Z"
   },
   {
    "duration": 259,
    "start_time": "2021-12-04T18:41:12.604Z"
   },
   {
    "duration": 7,
    "start_time": "2021-12-04T18:41:17.296Z"
   },
   {
    "duration": 12,
    "start_time": "2021-12-04T18:41:33.496Z"
   },
   {
    "duration": 313,
    "start_time": "2021-12-04T18:42:06.584Z"
   },
   {
    "duration": 93,
    "start_time": "2021-12-04T18:44:41.639Z"
   },
   {
    "duration": 87,
    "start_time": "2021-12-04T18:45:36.240Z"
   },
   {
    "duration": 95,
    "start_time": "2021-12-04T18:45:52.004Z"
   },
   {
    "duration": 926,
    "start_time": "2021-12-04T18:46:09.173Z"
   },
   {
    "duration": 961,
    "start_time": "2021-12-04T18:46:18.545Z"
   },
   {
    "duration": 961,
    "start_time": "2021-12-04T18:46:28.336Z"
   },
   {
    "duration": 955,
    "start_time": "2021-12-04T18:53:59.357Z"
   },
   {
    "duration": 987,
    "start_time": "2021-12-04T18:54:06.665Z"
   },
   {
    "duration": 949,
    "start_time": "2021-12-04T18:54:35.993Z"
   },
   {
    "duration": 942,
    "start_time": "2021-12-04T18:55:01.936Z"
   },
   {
    "duration": 10,
    "start_time": "2021-12-04T19:21:43.776Z"
   },
   {
    "duration": 9,
    "start_time": "2021-12-04T19:23:28.034Z"
   },
   {
    "duration": 8,
    "start_time": "2021-12-04T19:24:33.774Z"
   },
   {
    "duration": 8,
    "start_time": "2021-12-04T19:26:36.105Z"
   },
   {
    "duration": 23,
    "start_time": "2021-12-04T19:32:58.045Z"
   },
   {
    "duration": 23,
    "start_time": "2021-12-04T19:33:48.284Z"
   },
   {
    "duration": 82,
    "start_time": "2021-12-04T19:34:26.098Z"
   },
   {
    "duration": 16,
    "start_time": "2021-12-04T19:34:28.640Z"
   },
   {
    "duration": 10,
    "start_time": "2021-12-04T19:34:35.187Z"
   },
   {
    "duration": 12,
    "start_time": "2021-12-04T19:34:37.051Z"
   },
   {
    "duration": 15,
    "start_time": "2021-12-04T19:34:39.499Z"
   },
   {
    "duration": 18,
    "start_time": "2021-12-04T19:34:48.830Z"
   },
   {
    "duration": 22,
    "start_time": "2021-12-04T19:35:04.020Z"
   },
   {
    "duration": 37,
    "start_time": "2021-12-04T19:35:07.878Z"
   },
   {
    "duration": 11,
    "start_time": "2021-12-04T19:35:11.290Z"
   },
   {
    "duration": 46,
    "start_time": "2021-12-04T19:35:20.746Z"
   },
   {
    "duration": 26,
    "start_time": "2021-12-04T19:35:30.857Z"
   },
   {
    "duration": 37,
    "start_time": "2021-12-04T19:35:35.898Z"
   },
   {
    "duration": 11,
    "start_time": "2021-12-04T19:35:38.790Z"
   },
   {
    "duration": 7,
    "start_time": "2021-12-04T19:35:41.579Z"
   },
   {
    "duration": 10,
    "start_time": "2021-12-04T19:35:43.631Z"
   },
   {
    "duration": 8,
    "start_time": "2021-12-04T19:35:45.299Z"
   },
   {
    "duration": 7,
    "start_time": "2021-12-04T19:35:47.198Z"
   },
   {
    "duration": 7,
    "start_time": "2021-12-04T19:35:54.239Z"
   },
   {
    "duration": 8,
    "start_time": "2021-12-04T19:36:06.058Z"
   },
   {
    "duration": 31,
    "start_time": "2021-12-04T19:36:07.170Z"
   },
   {
    "duration": 8,
    "start_time": "2021-12-04T19:36:09.091Z"
   },
   {
    "duration": 8,
    "start_time": "2021-12-04T19:36:21.134Z"
   },
   {
    "duration": 11,
    "start_time": "2021-12-04T19:36:24.018Z"
   },
   {
    "duration": 8,
    "start_time": "2021-12-04T19:36:30.994Z"
   },
   {
    "duration": 12,
    "start_time": "2021-12-04T19:36:41.639Z"
   },
   {
    "duration": 8,
    "start_time": "2021-12-04T19:36:50.326Z"
   },
   {
    "duration": 7,
    "start_time": "2021-12-04T19:37:44.178Z"
   },
   {
    "duration": 25,
    "start_time": "2021-12-04T19:37:46.351Z"
   },
   {
    "duration": 50,
    "start_time": "2021-12-04T19:37:47.456Z"
   },
   {
    "duration": 8,
    "start_time": "2021-12-04T19:37:49.879Z"
   },
   {
    "duration": 23,
    "start_time": "2021-12-04T19:37:52.039Z"
   },
   {
    "duration": 10,
    "start_time": "2021-12-04T19:37:54.827Z"
   },
   {
    "duration": 25,
    "start_time": "2021-12-04T19:37:56.282Z"
   },
   {
    "duration": 7,
    "start_time": "2021-12-04T19:37:59.999Z"
   },
   {
    "duration": 21,
    "start_time": "2021-12-04T19:38:16.287Z"
   },
   {
    "duration": 33,
    "start_time": "2021-12-04T19:38:22.158Z"
   },
   {
    "duration": 11,
    "start_time": "2021-12-04T19:38:27.054Z"
   },
   {
    "duration": 7,
    "start_time": "2021-12-04T19:38:32.418Z"
   },
   {
    "duration": 30,
    "start_time": "2021-12-04T19:38:36.526Z"
   },
   {
    "duration": 47,
    "start_time": "2021-12-04T19:38:38.038Z"
   },
   {
    "duration": 9,
    "start_time": "2021-12-04T19:38:39.787Z"
   },
   {
    "duration": 24,
    "start_time": "2021-12-04T19:38:42.130Z"
   },
   {
    "duration": 12,
    "start_time": "2021-12-04T19:38:46.151Z"
   },
   {
    "duration": 24,
    "start_time": "2021-12-04T19:38:47.639Z"
   },
   {
    "duration": 11,
    "start_time": "2021-12-04T19:44:39.618Z"
   },
   {
    "duration": 1063,
    "start_time": "2021-12-04T19:47:48.410Z"
   },
   {
    "duration": 989,
    "start_time": "2021-12-04T19:48:05.079Z"
   },
   {
    "duration": 973,
    "start_time": "2021-12-04T19:48:45.739Z"
   },
   {
    "duration": 953,
    "start_time": "2021-12-04T19:48:55.318Z"
   },
   {
    "duration": 11,
    "start_time": "2021-12-04T19:50:26.307Z"
   },
   {
    "duration": 123,
    "start_time": "2021-12-04T20:07:52.114Z"
   },
   {
    "duration": 5646,
    "start_time": "2021-12-04T20:08:00.540Z"
   },
   {
    "duration": 5142,
    "start_time": "2021-12-04T20:09:32.319Z"
   },
   {
    "duration": 5089,
    "start_time": "2021-12-04T20:10:09.566Z"
   },
   {
    "duration": 5719,
    "start_time": "2021-12-04T20:11:25.738Z"
   },
   {
    "duration": 5721,
    "start_time": "2021-12-04T20:11:48.835Z"
   },
   {
    "duration": 87,
    "start_time": "2021-12-04T20:12:30.594Z"
   },
   {
    "duration": 6970,
    "start_time": "2021-12-04T20:12:38.887Z"
   },
   {
    "duration": 6738,
    "start_time": "2021-12-04T20:13:31.999Z"
   },
   {
    "duration": 105,
    "start_time": "2021-12-04T20:15:18.439Z"
   },
   {
    "duration": 6294,
    "start_time": "2021-12-04T20:17:03.074Z"
   },
   {
    "duration": 6733,
    "start_time": "2021-12-04T20:19:13.888Z"
   },
   {
    "duration": 22,
    "start_time": "2021-12-04T20:19:42.921Z"
   },
   {
    "duration": 87,
    "start_time": "2021-12-04T20:19:48.806Z"
   },
   {
    "duration": 7946,
    "start_time": "2021-12-04T20:19:56.009Z"
   },
   {
    "duration": 1073,
    "start_time": "2021-12-04T20:38:01.428Z"
   },
   {
    "duration": 28,
    "start_time": "2021-12-04T20:38:48.185Z"
   },
   {
    "duration": 6060,
    "start_time": "2021-12-04T20:40:05.082Z"
   },
   {
    "duration": 110,
    "start_time": "2021-12-04T20:40:51.072Z"
   },
   {
    "duration": 6012,
    "start_time": "2021-12-04T20:40:56.939Z"
   },
   {
    "duration": 28,
    "start_time": "2021-12-04T20:41:27.328Z"
   },
   {
    "duration": 97,
    "start_time": "2021-12-04T20:41:36.338Z"
   },
   {
    "duration": 37,
    "start_time": "2021-12-04T20:41:41.571Z"
   },
   {
    "duration": 26,
    "start_time": "2021-12-04T20:42:18.308Z"
   },
   {
    "duration": 51,
    "start_time": "2021-12-04T20:52:23.851Z"
   },
   {
    "duration": 101,
    "start_time": "2021-12-04T20:52:50.090Z"
   },
   {
    "duration": 50,
    "start_time": "2021-12-04T20:52:59.254Z"
   },
   {
    "duration": 49,
    "start_time": "2021-12-04T20:54:48.519Z"
   },
   {
    "duration": 32,
    "start_time": "2021-12-04T20:57:55.414Z"
   },
   {
    "duration": 35,
    "start_time": "2021-12-04T20:58:18.787Z"
   },
   {
    "duration": 23,
    "start_time": "2021-12-04T20:59:25.588Z"
   },
   {
    "duration": 30,
    "start_time": "2021-12-04T21:01:43.259Z"
   },
   {
    "duration": 311,
    "start_time": "2021-12-04T21:05:13.998Z"
   },
   {
    "duration": 90,
    "start_time": "2021-12-04T21:05:43.938Z"
   },
   {
    "duration": 15,
    "start_time": "2021-12-04T21:05:51.910Z"
   },
   {
    "duration": 11,
    "start_time": "2021-12-04T21:05:54.950Z"
   },
   {
    "duration": 11,
    "start_time": "2021-12-04T21:05:56.718Z"
   },
   {
    "duration": 18,
    "start_time": "2021-12-04T21:05:59.958Z"
   },
   {
    "duration": 18,
    "start_time": "2021-12-04T21:06:02.610Z"
   },
   {
    "duration": 24,
    "start_time": "2021-12-04T21:06:05.058Z"
   },
   {
    "duration": 39,
    "start_time": "2021-12-04T21:06:08.730Z"
   },
   {
    "duration": 42,
    "start_time": "2021-12-04T21:06:20.951Z"
   },
   {
    "duration": 37,
    "start_time": "2021-12-04T21:06:25.278Z"
   },
   {
    "duration": 24,
    "start_time": "2021-12-04T21:06:28.999Z"
   },
   {
    "duration": 48,
    "start_time": "2021-12-04T21:06:30.350Z"
   },
   {
    "duration": 10,
    "start_time": "2021-12-04T21:06:32.390Z"
   },
   {
    "duration": 7,
    "start_time": "2021-12-04T21:06:35.206Z"
   },
   {
    "duration": 42,
    "start_time": "2021-12-04T21:06:38.150Z"
   },
   {
    "duration": 10,
    "start_time": "2021-12-04T21:06:39.211Z"
   },
   {
    "duration": 7,
    "start_time": "2021-12-04T21:06:40.990Z"
   },
   {
    "duration": 10,
    "start_time": "2021-12-04T21:06:42.550Z"
   },
   {
    "duration": 7,
    "start_time": "2021-12-04T21:06:43.650Z"
   },
   {
    "duration": 25,
    "start_time": "2021-12-04T21:06:45.447Z"
   },
   {
    "duration": 45,
    "start_time": "2021-12-04T21:06:46.650Z"
   },
   {
    "duration": 13,
    "start_time": "2021-12-04T21:06:48.070Z"
   },
   {
    "duration": 8,
    "start_time": "2021-12-04T21:06:49.330Z"
   },
   {
    "duration": 32,
    "start_time": "2021-12-04T21:06:51.250Z"
   },
   {
    "duration": 60,
    "start_time": "2021-12-04T21:06:52.470Z"
   },
   {
    "duration": 8,
    "start_time": "2021-12-04T21:06:55.690Z"
   },
   {
    "duration": 16,
    "start_time": "2021-12-04T21:06:57.370Z"
   },
   {
    "duration": 1203,
    "start_time": "2021-12-04T21:07:00.071Z"
   },
   {
    "duration": 25,
    "start_time": "2021-12-04T21:07:04.278Z"
   },
   {
    "duration": 285,
    "start_time": "2021-12-04T21:07:07.959Z"
   },
   {
    "duration": 6,
    "start_time": "2021-12-04T21:07:34.290Z"
   },
   {
    "duration": 5,
    "start_time": "2021-12-04T21:07:54.831Z"
   },
   {
    "duration": 24,
    "start_time": "2021-12-04T21:18:25.091Z"
   },
   {
    "duration": 331,
    "start_time": "2021-12-04T22:09:32.707Z"
   },
   {
    "duration": 24,
    "start_time": "2021-12-04T22:10:13.388Z"
   },
   {
    "duration": 21,
    "start_time": "2021-12-04T22:11:16.626Z"
   },
   {
    "duration": 42,
    "start_time": "2021-12-04T22:11:30.555Z"
   },
   {
    "duration": 5294,
    "start_time": "2021-12-04T22:15:36.631Z"
   },
   {
    "duration": 5943,
    "start_time": "2021-12-04T22:16:02.498Z"
   },
   {
    "duration": 42,
    "start_time": "2021-12-04T22:16:17.550Z"
   },
   {
    "duration": 30,
    "start_time": "2021-12-04T22:16:33.222Z"
   },
   {
    "duration": 36,
    "start_time": "2021-12-04T22:18:00.187Z"
   },
   {
    "duration": 25,
    "start_time": "2021-12-04T22:20:13.331Z"
   },
   {
    "duration": 29,
    "start_time": "2021-12-04T22:20:36.618Z"
   },
   {
    "duration": 31,
    "start_time": "2021-12-04T22:20:49.191Z"
   },
   {
    "duration": 27,
    "start_time": "2021-12-04T22:22:02.311Z"
   },
   {
    "duration": 28,
    "start_time": "2021-12-04T22:23:32.422Z"
   },
   {
    "duration": 30,
    "start_time": "2021-12-04T22:25:01.578Z"
   },
   {
    "duration": 29,
    "start_time": "2021-12-04T22:25:12.111Z"
   },
   {
    "duration": 34,
    "start_time": "2021-12-04T22:25:17.950Z"
   },
   {
    "duration": 30,
    "start_time": "2021-12-04T22:25:28.218Z"
   },
   {
    "duration": 90,
    "start_time": "2021-12-04T22:35:12.271Z"
   },
   {
    "duration": 124,
    "start_time": "2021-12-04T22:35:26.042Z"
   },
   {
    "duration": 23,
    "start_time": "2021-12-04T22:35:29.771Z"
   },
   {
    "duration": 31,
    "start_time": "2021-12-04T22:35:52.318Z"
   },
   {
    "duration": 28,
    "start_time": "2021-12-04T22:42:58.850Z"
   },
   {
    "duration": 21,
    "start_time": "2021-12-04T22:44:15.511Z"
   },
   {
    "duration": 31,
    "start_time": "2021-12-04T22:44:29.791Z"
   },
   {
    "duration": 46,
    "start_time": "2021-12-04T22:46:57.451Z"
   },
   {
    "duration": 279,
    "start_time": "2021-12-05T06:54:48.411Z"
   },
   {
    "duration": 638,
    "start_time": "2021-12-05T06:54:54.591Z"
   },
   {
    "duration": 11,
    "start_time": "2021-12-05T06:54:56.847Z"
   },
   {
    "duration": 8,
    "start_time": "2021-12-05T06:55:01.292Z"
   },
   {
    "duration": 7,
    "start_time": "2021-12-05T06:55:02.900Z"
   },
   {
    "duration": 11,
    "start_time": "2021-12-05T06:55:04.439Z"
   },
   {
    "duration": 13,
    "start_time": "2021-12-05T06:55:07.319Z"
   },
   {
    "duration": 13,
    "start_time": "2021-12-05T06:55:09.760Z"
   },
   {
    "duration": 29,
    "start_time": "2021-12-05T06:55:14.675Z"
   },
   {
    "duration": 23,
    "start_time": "2021-12-05T06:55:23.719Z"
   },
   {
    "duration": 25,
    "start_time": "2021-12-05T06:55:26.551Z"
   },
   {
    "duration": 7,
    "start_time": "2021-12-05T06:55:32.379Z"
   },
   {
    "duration": 6,
    "start_time": "2021-12-05T06:55:34.587Z"
   },
   {
    "duration": 24,
    "start_time": "2021-12-05T06:55:37.880Z"
   },
   {
    "duration": 32,
    "start_time": "2021-12-05T06:55:40.831Z"
   },
   {
    "duration": 8,
    "start_time": "2021-12-05T06:55:43.291Z"
   },
   {
    "duration": 5,
    "start_time": "2021-12-05T06:55:45.231Z"
   },
   {
    "duration": 18,
    "start_time": "2021-12-05T06:55:47.727Z"
   },
   {
    "duration": 33,
    "start_time": "2021-12-05T06:55:49.107Z"
   },
   {
    "duration": 7,
    "start_time": "2021-12-05T06:55:51.091Z"
   },
   {
    "duration": 11,
    "start_time": "2021-12-05T06:55:52.659Z"
   },
   {
    "duration": 644,
    "start_time": "2021-12-05T06:55:56.131Z"
   },
   {
    "duration": 16,
    "start_time": "2021-12-05T06:56:01.381Z"
   },
   {
    "duration": 4,
    "start_time": "2021-12-05T06:56:09.480Z"
   },
   {
    "duration": 5,
    "start_time": "2021-12-05T06:56:11.504Z"
   },
   {
    "duration": 5,
    "start_time": "2021-12-05T06:56:13.647Z"
   },
   {
    "duration": 16,
    "start_time": "2021-12-05T06:56:22.556Z"
   },
   {
    "duration": 15,
    "start_time": "2021-12-05T06:56:25.235Z"
   },
   {
    "duration": 16,
    "start_time": "2021-12-05T06:56:29.308Z"
   },
   {
    "duration": 27,
    "start_time": "2021-12-05T06:56:33.287Z"
   },
   {
    "duration": 18,
    "start_time": "2021-12-05T06:56:37.459Z"
   },
   {
    "duration": 18,
    "start_time": "2021-12-05T06:56:41.879Z"
   },
   {
    "duration": 19,
    "start_time": "2021-12-05T06:57:24.099Z"
   },
   {
    "duration": 19,
    "start_time": "2021-12-05T06:57:51.399Z"
   },
   {
    "duration": 19,
    "start_time": "2021-12-05T06:58:30.272Z"
   },
   {
    "duration": 23,
    "start_time": "2021-12-05T06:59:23.100Z"
   },
   {
    "duration": 18,
    "start_time": "2021-12-05T07:12:39.265Z"
   },
   {
    "duration": 18,
    "start_time": "2021-12-05T07:12:55.016Z"
   },
   {
    "duration": 682,
    "start_time": "2021-12-05T12:44:09.917Z"
   },
   {
    "duration": 10,
    "start_time": "2021-12-05T12:44:10.601Z"
   },
   {
    "duration": 7,
    "start_time": "2021-12-05T12:44:10.613Z"
   },
   {
    "duration": 7,
    "start_time": "2021-12-05T12:44:10.621Z"
   },
   {
    "duration": 19,
    "start_time": "2021-12-05T12:44:10.629Z"
   },
   {
    "duration": 12,
    "start_time": "2021-12-05T12:44:10.650Z"
   },
   {
    "duration": 12,
    "start_time": "2021-12-05T12:44:10.663Z"
   },
   {
    "duration": 21,
    "start_time": "2021-12-05T12:44:10.677Z"
   },
   {
    "duration": 7,
    "start_time": "2021-12-05T12:44:10.701Z"
   },
   {
    "duration": 5,
    "start_time": "2021-12-05T12:44:10.745Z"
   },
   {
    "duration": 26,
    "start_time": "2021-12-05T12:44:10.752Z"
   },
   {
    "duration": 31,
    "start_time": "2021-12-05T12:44:10.780Z"
   },
   {
    "duration": 5,
    "start_time": "2021-12-05T12:44:10.813Z"
   },
   {
    "duration": 7,
    "start_time": "2021-12-05T12:44:10.845Z"
   },
   {
    "duration": 655,
    "start_time": "2021-12-05T12:44:10.854Z"
   },
   {
    "duration": 15,
    "start_time": "2021-12-05T12:44:11.511Z"
   },
   {
    "duration": 20,
    "start_time": "2021-12-05T12:44:11.527Z"
   },
   {
    "duration": 5,
    "start_time": "2021-12-05T12:44:11.549Z"
   },
   {
    "duration": 15,
    "start_time": "2021-12-05T12:44:11.556Z"
   },
   {
    "duration": 14,
    "start_time": "2021-12-05T12:44:11.573Z"
   },
   {
    "duration": 31,
    "start_time": "2021-12-05T12:44:11.588Z"
   },
   {
    "duration": 23,
    "start_time": "2021-12-05T12:44:11.645Z"
   },
   {
    "duration": 18,
    "start_time": "2021-12-05T12:44:11.671Z"
   },
   {
    "duration": 19,
    "start_time": "2021-12-05T12:44:11.691Z"
   },
   {
    "duration": 86,
    "start_time": "2021-12-05T13:47:41.608Z"
   },
   {
    "duration": 86,
    "start_time": "2021-12-05T13:47:56.085Z"
   },
   {
    "duration": 77,
    "start_time": "2021-12-05T13:48:01.880Z"
   },
   {
    "duration": 101,
    "start_time": "2021-12-05T13:48:13.839Z"
   },
   {
    "duration": 291,
    "start_time": "2021-12-05T14:09:57.449Z"
   },
   {
    "duration": 597,
    "start_time": "2021-12-05T14:10:10.903Z"
   },
   {
    "duration": 10,
    "start_time": "2021-12-05T14:10:14.215Z"
   },
   {
    "duration": 7,
    "start_time": "2021-12-05T14:10:16.474Z"
   },
   {
    "duration": 10,
    "start_time": "2021-12-05T14:10:18.206Z"
   },
   {
    "duration": 789,
    "start_time": "2021-12-05T14:10:20.860Z"
   },
   {
    "duration": 11,
    "start_time": "2021-12-05T14:10:21.759Z"
   },
   {
    "duration": 20,
    "start_time": "2021-12-05T14:10:24.919Z"
   },
   {
    "duration": 6,
    "start_time": "2021-12-05T14:10:26.439Z"
   },
   {
    "duration": 5,
    "start_time": "2021-12-05T14:10:28.619Z"
   },
   {
    "duration": 22,
    "start_time": "2021-12-05T14:10:30.539Z"
   },
   {
    "duration": 30,
    "start_time": "2021-12-05T14:10:31.959Z"
   },
   {
    "duration": 12,
    "start_time": "2021-12-05T14:10:34.349Z"
   },
   {
    "duration": 23,
    "start_time": "2021-12-05T14:10:36.467Z"
   },
   {
    "duration": 7,
    "start_time": "2021-12-05T14:10:38.647Z"
   },
   {
    "duration": 5,
    "start_time": "2021-12-05T14:10:40.147Z"
   },
   {
    "duration": 6,
    "start_time": "2021-12-05T14:10:43.055Z"
   },
   {
    "duration": 8,
    "start_time": "2021-12-05T14:10:45.199Z"
   },
   {
    "duration": 624,
    "start_time": "2021-12-05T14:10:56.799Z"
   },
   {
    "duration": 15,
    "start_time": "2021-12-05T14:11:07.287Z"
   },
   {
    "duration": 5,
    "start_time": "2021-12-05T14:11:29.758Z"
   },
   {
    "duration": 4,
    "start_time": "2021-12-05T14:11:31.003Z"
   },
   {
    "duration": 14,
    "start_time": "2021-12-05T14:11:32.015Z"
   },
   {
    "duration": 13,
    "start_time": "2021-12-05T14:11:33.647Z"
   },
   {
    "duration": 2,
    "start_time": "2021-12-05T14:12:20.879Z"
   },
   {
    "duration": 29,
    "start_time": "2021-12-05T14:12:31.639Z"
   },
   {
    "duration": 241,
    "start_time": "2021-12-05T14:15:31.659Z"
   },
   {
    "duration": 19,
    "start_time": "2021-12-05T14:18:41.079Z"
   },
   {
    "duration": 19,
    "start_time": "2021-12-05T14:18:57.999Z"
   },
   {
    "duration": 56,
    "start_time": "2021-12-05T14:21:00.435Z"
   },
   {
    "duration": 251,
    "start_time": "2021-12-05T14:21:53.847Z"
   },
   {
    "duration": 56,
    "start_time": "2021-12-05T14:23:31.019Z"
   },
   {
    "duration": 14,
    "start_time": "2021-12-05T14:23:33.188Z"
   },
   {
    "duration": 7,
    "start_time": "2021-12-05T14:23:39.015Z"
   },
   {
    "duration": 7,
    "start_time": "2021-12-05T14:23:41.659Z"
   },
   {
    "duration": 10,
    "start_time": "2021-12-05T14:23:44.446Z"
   },
   {
    "duration": 10,
    "start_time": "2021-12-05T14:23:46.287Z"
   },
   {
    "duration": 11,
    "start_time": "2021-12-05T14:23:50.719Z"
   },
   {
    "duration": 740,
    "start_time": "2021-12-06T14:48:30.356Z"
   },
   {
    "duration": 1056,
    "start_time": "2021-12-06T14:48:41.493Z"
   },
   {
    "duration": 17,
    "start_time": "2021-12-06T14:48:43.830Z"
   },
   {
    "duration": 9,
    "start_time": "2021-12-06T14:48:56.250Z"
   },
   {
    "duration": 8,
    "start_time": "2021-12-06T14:49:19.046Z"
   },
   {
    "duration": 346,
    "start_time": "2021-12-06T14:50:47.840Z"
   },
   {
    "duration": 10,
    "start_time": "2021-12-06T14:52:02.026Z"
   },
   {
    "duration": 9,
    "start_time": "2021-12-06T14:53:22.477Z"
   },
   {
    "duration": 20,
    "start_time": "2021-12-06T14:54:06.217Z"
   },
   {
    "duration": 9,
    "start_time": "2021-12-06T15:28:21.526Z"
   },
   {
    "duration": 11,
    "start_time": "2021-12-06T15:28:38.917Z"
   },
   {
    "duration": 4519,
    "start_time": "2021-12-06T15:29:22.559Z"
   },
   {
    "duration": 11,
    "start_time": "2021-12-06T15:29:32.478Z"
   },
   {
    "duration": 12,
    "start_time": "2021-12-06T15:29:51.215Z"
   },
   {
    "duration": 7654,
    "start_time": "2021-12-06T15:29:59.695Z"
   },
   {
    "duration": 736,
    "start_time": "2021-12-06T15:33:00.509Z"
   },
   {
    "duration": 15,
    "start_time": "2021-12-06T15:33:04.010Z"
   },
   {
    "duration": 16,
    "start_time": "2021-12-06T15:34:29.817Z"
   },
   {
    "duration": 17,
    "start_time": "2021-12-06T15:40:34.511Z"
   },
   {
    "duration": 16,
    "start_time": "2021-12-06T15:40:47.930Z"
   },
   {
    "duration": 15,
    "start_time": "2021-12-06T15:40:54.713Z"
   },
   {
    "duration": 78,
    "start_time": "2021-12-06T15:41:17.125Z"
   },
   {
    "duration": 701,
    "start_time": "2021-12-06T15:41:26.317Z"
   },
   {
    "duration": 19,
    "start_time": "2021-12-06T15:45:30.884Z"
   },
   {
    "duration": 20,
    "start_time": "2021-12-06T15:45:44.444Z"
   },
   {
    "duration": 33,
    "start_time": "2021-12-06T15:45:46.835Z"
   },
   {
    "duration": 9,
    "start_time": "2021-12-06T15:45:49.936Z"
   },
   {
    "duration": 7,
    "start_time": "2021-12-06T15:45:52.590Z"
   },
   {
    "duration": 24,
    "start_time": "2021-12-06T15:45:59.477Z"
   },
   {
    "duration": 36,
    "start_time": "2021-12-06T15:46:03.078Z"
   },
   {
    "duration": 9,
    "start_time": "2021-12-06T15:46:05.709Z"
   },
   {
    "duration": 8,
    "start_time": "2021-12-06T15:46:08.280Z"
   },
   {
    "duration": 32,
    "start_time": "2021-12-06T15:46:10.900Z"
   },
   {
    "duration": 48,
    "start_time": "2021-12-06T15:46:13.424Z"
   },
   {
    "duration": 9,
    "start_time": "2021-12-06T15:46:16.454Z"
   },
   {
    "duration": 11,
    "start_time": "2021-12-06T15:46:19.787Z"
   },
   {
    "duration": 13,
    "start_time": "2021-12-06T15:46:50.318Z"
   },
   {
    "duration": 7,
    "start_time": "2021-12-06T15:46:51.785Z"
   },
   {
    "duration": 23,
    "start_time": "2021-12-06T15:46:54.746Z"
   },
   {
    "duration": 652,
    "start_time": "2021-12-06T15:54:52.130Z"
   },
   {
    "duration": 15,
    "start_time": "2021-12-06T15:54:56.035Z"
   },
   {
    "duration": 16,
    "start_time": "2021-12-06T15:55:28.798Z"
   },
   {
    "duration": 25,
    "start_time": "2021-12-06T15:55:38.610Z"
   },
   {
    "duration": 34,
    "start_time": "2021-12-06T15:55:44.838Z"
   },
   {
    "duration": 10,
    "start_time": "2021-12-06T15:55:47.952Z"
   },
   {
    "duration": 3,
    "start_time": "2021-12-06T15:57:36.904Z"
   },
   {
    "duration": 314,
    "start_time": "2021-12-06T16:41:29.953Z"
   },
   {
    "duration": 13,
    "start_time": "2021-12-06T16:41:48.652Z"
   },
   {
    "duration": 315,
    "start_time": "2021-12-06T16:42:08.252Z"
   },
   {
    "duration": 19,
    "start_time": "2021-12-06T16:42:15.917Z"
   },
   {
    "duration": 7,
    "start_time": "2021-12-06T16:43:27.681Z"
   },
   {
    "duration": 294,
    "start_time": "2021-12-06T16:43:41.611Z"
   },
   {
    "duration": 17,
    "start_time": "2021-12-06T16:44:06.595Z"
   },
   {
    "duration": 284,
    "start_time": "2021-12-06T16:45:46.800Z"
   },
   {
    "duration": 15,
    "start_time": "2021-12-06T16:45:56.035Z"
   },
   {
    "duration": 15,
    "start_time": "2021-12-06T16:46:05.685Z"
   },
   {
    "duration": 19,
    "start_time": "2021-12-06T16:50:00.219Z"
   },
   {
    "duration": 25,
    "start_time": "2021-12-06T16:50:42.254Z"
   },
   {
    "duration": 30,
    "start_time": "2021-12-06T16:50:50.062Z"
   },
   {
    "duration": 32,
    "start_time": "2021-12-06T16:50:59.194Z"
   },
   {
    "duration": 339,
    "start_time": "2021-12-06T17:00:21.512Z"
   },
   {
    "duration": 17,
    "start_time": "2021-12-06T17:00:31.538Z"
   },
   {
    "duration": 17,
    "start_time": "2021-12-06T17:00:58.742Z"
   },
   {
    "duration": 295,
    "start_time": "2021-12-06T17:01:36.113Z"
   },
   {
    "duration": 103,
    "start_time": "2021-12-06T17:01:44.952Z"
   },
   {
    "duration": 18,
    "start_time": "2021-12-06T17:01:49.197Z"
   },
   {
    "duration": 568,
    "start_time": "2021-12-06T17:08:25.902Z"
   },
   {
    "duration": 426,
    "start_time": "2021-12-06T17:09:11.113Z"
   },
   {
    "duration": 58,
    "start_time": "2021-12-06T17:09:45.805Z"
   },
   {
    "duration": 344,
    "start_time": "2021-12-06T17:11:36.500Z"
   },
   {
    "duration": 38,
    "start_time": "2021-12-06T17:12:07.280Z"
   },
   {
    "duration": 51,
    "start_time": "2021-12-06T17:13:20.107Z"
   },
   {
    "duration": 88,
    "start_time": "2021-12-06T17:14:35.317Z"
   },
   {
    "duration": 18,
    "start_time": "2021-12-06T17:14:36.807Z"
   },
   {
    "duration": 13,
    "start_time": "2021-12-06T17:14:40.215Z"
   },
   {
    "duration": 13,
    "start_time": "2021-12-06T17:14:41.837Z"
   },
   {
    "duration": 698,
    "start_time": "2021-12-06T17:14:43.809Z"
   },
   {
    "duration": 22,
    "start_time": "2021-12-06T17:14:45.717Z"
   },
   {
    "duration": 15,
    "start_time": "2021-12-06T17:14:48.042Z"
   },
   {
    "duration": 24,
    "start_time": "2021-12-06T17:14:55.009Z"
   },
   {
    "duration": 34,
    "start_time": "2021-12-06T17:14:57.458Z"
   },
   {
    "duration": 14,
    "start_time": "2021-12-06T17:14:59.770Z"
   },
   {
    "duration": 9,
    "start_time": "2021-12-06T17:15:01.472Z"
   },
   {
    "duration": 32,
    "start_time": "2021-12-06T17:15:03.907Z"
   },
   {
    "duration": 44,
    "start_time": "2021-12-06T17:15:05.784Z"
   },
   {
    "duration": 40,
    "start_time": "2021-12-06T17:15:08.159Z"
   },
   {
    "duration": 9,
    "start_time": "2021-12-06T17:15:12.714Z"
   },
   {
    "duration": 7,
    "start_time": "2021-12-06T17:15:14.613Z"
   },
   {
    "duration": 8,
    "start_time": "2021-12-06T17:15:19.559Z"
   },
   {
    "duration": 13,
    "start_time": "2021-12-06T17:15:21.173Z"
   },
   {
    "duration": 31,
    "start_time": "2021-12-06T17:15:26.739Z"
   },
   {
    "duration": 7,
    "start_time": "2021-12-06T17:15:28.930Z"
   },
   {
    "duration": 38,
    "start_time": "2021-12-06T17:15:32.075Z"
   },
   {
    "duration": 43,
    "start_time": "2021-12-06T17:15:41.972Z"
   },
   {
    "duration": 40,
    "start_time": "2021-12-06T17:15:45.539Z"
   },
   {
    "duration": 35,
    "start_time": "2021-12-06T17:17:10.237Z"
   },
   {
    "duration": 51,
    "start_time": "2021-12-06T17:17:22.687Z"
   },
   {
    "duration": 41,
    "start_time": "2021-12-06T17:17:28.538Z"
   },
   {
    "duration": 64,
    "start_time": "2021-12-06T17:19:37.101Z"
   },
   {
    "duration": 31,
    "start_time": "2021-12-06T17:20:20.584Z"
   },
   {
    "duration": 77,
    "start_time": "2021-12-06T17:31:56.897Z"
   },
   {
    "duration": 22,
    "start_time": "2021-12-06T17:32:21.244Z"
   },
   {
    "duration": 16,
    "start_time": "2021-12-06T17:32:52.782Z"
   },
   {
    "duration": 7,
    "start_time": "2021-12-06T17:33:46.997Z"
   },
   {
    "duration": 105,
    "start_time": "2021-12-06T17:35:01.316Z"
   },
   {
    "duration": 17,
    "start_time": "2021-12-06T17:53:23.657Z"
   },
   {
    "duration": 291,
    "start_time": "2021-12-06T17:53:53.044Z"
   },
   {
    "duration": 18,
    "start_time": "2021-12-06T17:53:57.935Z"
   },
   {
    "duration": 17,
    "start_time": "2021-12-06T17:54:04.088Z"
   },
   {
    "duration": 23,
    "start_time": "2021-12-06T17:54:29.012Z"
   },
   {
    "duration": 16,
    "start_time": "2021-12-06T17:55:24.951Z"
   },
   {
    "duration": 21,
    "start_time": "2021-12-06T17:56:39.117Z"
   },
   {
    "duration": 17,
    "start_time": "2021-12-06T17:56:50.277Z"
   },
   {
    "duration": 26,
    "start_time": "2021-12-06T17:57:39.311Z"
   },
   {
    "duration": 302,
    "start_time": "2021-12-06T18:16:37.707Z"
   },
   {
    "duration": 286,
    "start_time": "2021-12-06T18:16:52.553Z"
   },
   {
    "duration": 16,
    "start_time": "2021-12-06T18:17:08.368Z"
   },
   {
    "duration": 317,
    "start_time": "2021-12-06T18:19:54.760Z"
   },
   {
    "duration": 683,
    "start_time": "2021-12-06T18:20:02.894Z"
   },
   {
    "duration": 21,
    "start_time": "2021-12-06T18:20:26.731Z"
   },
   {
    "duration": 78,
    "start_time": "2021-12-06T18:20:43.881Z"
   },
   {
    "duration": 15,
    "start_time": "2021-12-06T18:20:46.606Z"
   },
   {
    "duration": 10,
    "start_time": "2021-12-06T18:20:49.811Z"
   },
   {
    "duration": 12,
    "start_time": "2021-12-06T18:20:51.554Z"
   },
   {
    "duration": 710,
    "start_time": "2021-12-06T18:20:53.547Z"
   },
   {
    "duration": 15,
    "start_time": "2021-12-06T18:20:55.258Z"
   },
   {
    "duration": 18,
    "start_time": "2021-12-06T18:20:57.111Z"
   },
   {
    "duration": 19,
    "start_time": "2021-12-06T18:20:59.752Z"
   },
   {
    "duration": 33,
    "start_time": "2021-12-06T18:21:02.293Z"
   },
   {
    "duration": 11,
    "start_time": "2021-12-06T18:21:04.952Z"
   },
   {
    "duration": 7,
    "start_time": "2021-12-06T18:21:06.593Z"
   },
   {
    "duration": 26,
    "start_time": "2021-12-06T18:21:08.250Z"
   },
   {
    "duration": 41,
    "start_time": "2021-12-06T18:21:10.362Z"
   },
   {
    "duration": 9,
    "start_time": "2021-12-06T18:21:11.793Z"
   },
   {
    "duration": 16,
    "start_time": "2021-12-06T18:21:13.750Z"
   },
   {
    "duration": 908,
    "start_time": "2021-12-06T18:21:16.888Z"
   },
   {
    "duration": 23,
    "start_time": "2021-12-06T18:21:20.463Z"
   },
   {
    "duration": 6,
    "start_time": "2021-12-06T18:21:22.600Z"
   },
   {
    "duration": 7,
    "start_time": "2021-12-06T18:21:24.197Z"
   },
   {
    "duration": 7,
    "start_time": "2021-12-06T18:21:25.699Z"
   },
   {
    "duration": 26,
    "start_time": "2021-12-06T18:21:27.379Z"
   },
   {
    "duration": 24,
    "start_time": "2021-12-06T18:21:32.247Z"
   },
   {
    "duration": 18,
    "start_time": "2021-12-06T18:21:34.295Z"
   },
   {
    "duration": 18,
    "start_time": "2021-12-06T18:21:36.593Z"
   },
   {
    "duration": 18,
    "start_time": "2021-12-06T18:21:39.236Z"
   },
   {
    "duration": 36,
    "start_time": "2021-12-06T18:21:42.416Z"
   },
   {
    "duration": 31,
    "start_time": "2021-12-06T18:22:05.557Z"
   },
   {
    "duration": 27,
    "start_time": "2021-12-06T18:22:09.244Z"
   },
   {
    "duration": 38,
    "start_time": "2021-12-06T18:22:18.727Z"
   },
   {
    "duration": 677,
    "start_time": "2021-12-07T08:11:30.980Z"
   },
   {
    "duration": 12,
    "start_time": "2021-12-07T08:11:31.659Z"
   },
   {
    "duration": 10,
    "start_time": "2021-12-07T08:11:31.673Z"
   },
   {
    "duration": 53,
    "start_time": "2021-12-07T08:11:31.685Z"
   },
   {
    "duration": 483,
    "start_time": "2021-12-07T08:11:31.740Z"
   },
   {
    "duration": 12,
    "start_time": "2021-12-07T08:11:32.225Z"
   },
   {
    "duration": 48,
    "start_time": "2021-12-07T08:11:32.239Z"
   },
   {
    "duration": 30,
    "start_time": "2021-12-07T08:11:32.290Z"
   },
   {
    "duration": 34,
    "start_time": "2021-12-07T08:11:32.322Z"
   },
   {
    "duration": 12,
    "start_time": "2021-12-07T08:11:32.358Z"
   },
   {
    "duration": 10,
    "start_time": "2021-12-07T08:11:32.371Z"
   },
   {
    "duration": 40,
    "start_time": "2021-12-07T08:11:32.383Z"
   },
   {
    "duration": 33,
    "start_time": "2021-12-07T08:11:32.425Z"
   },
   {
    "duration": 6,
    "start_time": "2021-12-07T08:11:32.460Z"
   },
   {
    "duration": 15,
    "start_time": "2021-12-07T08:11:32.467Z"
   },
   {
    "duration": 654,
    "start_time": "2021-12-07T08:11:32.483Z"
   },
   {
    "duration": 28,
    "start_time": "2021-12-07T08:11:33.139Z"
   },
   {
    "duration": 8,
    "start_time": "2021-12-07T08:11:33.169Z"
   },
   {
    "duration": 17,
    "start_time": "2021-12-07T08:11:33.179Z"
   },
   {
    "duration": 41,
    "start_time": "2021-12-07T08:11:33.197Z"
   },
   {
    "duration": 20,
    "start_time": "2021-12-07T08:11:33.239Z"
   },
   {
    "duration": 22,
    "start_time": "2021-12-07T08:11:33.260Z"
   },
   {
    "duration": 11,
    "start_time": "2021-12-07T08:11:33.285Z"
   },
   {
    "duration": 13,
    "start_time": "2021-12-07T08:11:33.298Z"
   },
   {
    "duration": 24,
    "start_time": "2021-12-07T08:11:33.313Z"
   },
   {
    "duration": 38,
    "start_time": "2021-12-07T08:11:33.339Z"
   },
   {
    "duration": 45,
    "start_time": "2021-12-07T08:11:33.379Z"
   },
   {
    "duration": 19,
    "start_time": "2021-12-07T08:11:33.426Z"
   },
   {
    "duration": 34,
    "start_time": "2021-12-07T08:11:33.447Z"
   }
  ],
  "kernelspec": {
   "display_name": "Python 3 (ipykernel)",
   "language": "python",
   "name": "python3"
  },
  "language_info": {
   "codemirror_mode": {
    "name": "ipython",
    "version": 3
   },
   "file_extension": ".py",
   "mimetype": "text/x-python",
   "name": "python",
   "nbconvert_exporter": "python",
   "pygments_lexer": "ipython3",
   "version": "3.9.7"
  },
  "toc": {
   "base_numbering": 1,
   "nav_menu": {},
   "number_sections": true,
   "sideBar": true,
   "skip_h1_title": true,
   "title_cell": "Table of Contents",
   "title_sidebar": "Contents",
   "toc_cell": false,
   "toc_position": {},
   "toc_section_display": true,
   "toc_window_display": true
  }
 },
 "nbformat": 4,
 "nbformat_minor": 2
}
