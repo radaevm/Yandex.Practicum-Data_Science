{
 "cells": [
  {
   "cell_type": "markdown",
   "metadata": {},
   "source": [
    "# Проект курса \"Численные методы\""
   ]
  },
  {
   "cell_type": "markdown",
   "metadata": {},
   "source": [
    "# Определение стоимости автомобилей"
   ]
  },
  {
   "cell_type": "markdown",
   "metadata": {},
   "source": [
    "Сервис по продаже автомобилей с пробегом «Не бит, не крашен» разрабатывает приложение для привлечения новых клиентов. В нём можно быстро узнать рыночную стоимость своего автомобиля. В нашем распоряжении исторические данные: технические характеристики, комплектации и цены автомобилей. Нам нужно построить модель для определения стоимости. \n",
    "\n",
    "Заказчику важны:\n",
    "\n",
    "- качество предсказания;\n",
    "- скорость предсказания;\n",
    "- время обучения."
   ]
  },
  {
   "cell_type": "markdown",
   "metadata": {},
   "source": [
    "# Описание данных\n",
    "\n",
    "Признаки:\n",
    "\n",
    "- DateCrawled — дата скачивания анкеты из базы\n",
    "- VehicleType — тип автомобильного кузова\n",
    "- RegistrationYear — год регистрации автомобиля\n",
    "- Gearbox — тип коробки передач\n",
    "- Power — мощность (л. с.)\n",
    "- Model — модель автомобиля\n",
    "- Kilometer — пробег (км)\n",
    "- RegistrationMonth — месяц регистрации автомобиля\n",
    "- FuelType — тип топлива\n",
    "- Brand — марка автомобиля\n",
    "- NotRepaired — была машина в ремонте или нет\n",
    "- DateCreated — дата создания анкеты\n",
    "- NumberOfPictures — количество фотографий автомобиля\n",
    "- PostalCode — почтовый индекс владельца анкеты (пользователя)\n",
    "- LastSeen — дата последней активности пользователя\n",
    "\n",
    "Целевой признак:\n",
    "\n",
    "- Price — цена (евро)"
   ]
  },
  {
   "cell_type": "markdown",
   "metadata": {},
   "source": [
    "## Подготовка данных"
   ]
  },
  {
   "cell_type": "code",
   "execution_count": 1,
   "metadata": {},
   "outputs": [],
   "source": [
    "import pandas as pd\n",
    "import numpy as np\n",
    "import seaborn as sns\n",
    "import time \n",
    "from sklearn.model_selection import train_test_split\n",
    "from sklearn.ensemble import RandomForestRegressor\n",
    "from lightgbm import LGBMRegressor\n",
    "from sklearn.preprocessing import StandardScaler\n",
    "pd.options.mode.chained_assignment = None\n",
    "from sklearn.model_selection import GridSearchCV\n",
    "from sklearn.metrics import mean_squared_error"
   ]
  },
  {
   "cell_type": "code",
   "execution_count": 2,
   "metadata": {},
   "outputs": [
    {
     "data": {
      "text/html": [
       "<div>\n",
       "<style scoped>\n",
       "    .dataframe tbody tr th:only-of-type {\n",
       "        vertical-align: middle;\n",
       "    }\n",
       "\n",
       "    .dataframe tbody tr th {\n",
       "        vertical-align: top;\n",
       "    }\n",
       "\n",
       "    .dataframe thead th {\n",
       "        text-align: right;\n",
       "    }\n",
       "</style>\n",
       "<table border=\"1\" class=\"dataframe\">\n",
       "  <thead>\n",
       "    <tr style=\"text-align: right;\">\n",
       "      <th></th>\n",
       "      <th>DateCrawled</th>\n",
       "      <th>Price</th>\n",
       "      <th>VehicleType</th>\n",
       "      <th>RegistrationYear</th>\n",
       "      <th>Gearbox</th>\n",
       "      <th>Power</th>\n",
       "      <th>Model</th>\n",
       "      <th>Kilometer</th>\n",
       "      <th>RegistrationMonth</th>\n",
       "      <th>FuelType</th>\n",
       "      <th>Brand</th>\n",
       "      <th>NotRepaired</th>\n",
       "      <th>DateCreated</th>\n",
       "      <th>NumberOfPictures</th>\n",
       "      <th>PostalCode</th>\n",
       "      <th>LastSeen</th>\n",
       "    </tr>\n",
       "  </thead>\n",
       "  <tbody>\n",
       "    <tr>\n",
       "      <th>0</th>\n",
       "      <td>2016-03-24 11:52:17</td>\n",
       "      <td>480</td>\n",
       "      <td>NaN</td>\n",
       "      <td>1993</td>\n",
       "      <td>manual</td>\n",
       "      <td>0</td>\n",
       "      <td>golf</td>\n",
       "      <td>150000</td>\n",
       "      <td>0</td>\n",
       "      <td>petrol</td>\n",
       "      <td>volkswagen</td>\n",
       "      <td>NaN</td>\n",
       "      <td>2016-03-24 00:00:00</td>\n",
       "      <td>0</td>\n",
       "      <td>70435</td>\n",
       "      <td>2016-04-07 03:16:57</td>\n",
       "    </tr>\n",
       "    <tr>\n",
       "      <th>1</th>\n",
       "      <td>2016-03-24 10:58:45</td>\n",
       "      <td>18300</td>\n",
       "      <td>coupe</td>\n",
       "      <td>2011</td>\n",
       "      <td>manual</td>\n",
       "      <td>190</td>\n",
       "      <td>NaN</td>\n",
       "      <td>125000</td>\n",
       "      <td>5</td>\n",
       "      <td>gasoline</td>\n",
       "      <td>audi</td>\n",
       "      <td>yes</td>\n",
       "      <td>2016-03-24 00:00:00</td>\n",
       "      <td>0</td>\n",
       "      <td>66954</td>\n",
       "      <td>2016-04-07 01:46:50</td>\n",
       "    </tr>\n",
       "    <tr>\n",
       "      <th>2</th>\n",
       "      <td>2016-03-14 12:52:21</td>\n",
       "      <td>9800</td>\n",
       "      <td>suv</td>\n",
       "      <td>2004</td>\n",
       "      <td>auto</td>\n",
       "      <td>163</td>\n",
       "      <td>grand</td>\n",
       "      <td>125000</td>\n",
       "      <td>8</td>\n",
       "      <td>gasoline</td>\n",
       "      <td>jeep</td>\n",
       "      <td>NaN</td>\n",
       "      <td>2016-03-14 00:00:00</td>\n",
       "      <td>0</td>\n",
       "      <td>90480</td>\n",
       "      <td>2016-04-05 12:47:46</td>\n",
       "    </tr>\n",
       "  </tbody>\n",
       "</table>\n",
       "</div>"
      ],
      "text/plain": [
       "           DateCrawled  Price VehicleType  RegistrationYear Gearbox  Power  \\\n",
       "0  2016-03-24 11:52:17    480         NaN              1993  manual      0   \n",
       "1  2016-03-24 10:58:45  18300       coupe              2011  manual    190   \n",
       "2  2016-03-14 12:52:21   9800         suv              2004    auto    163   \n",
       "\n",
       "   Model  Kilometer  RegistrationMonth  FuelType       Brand NotRepaired  \\\n",
       "0   golf     150000                  0    petrol  volkswagen         NaN   \n",
       "1    NaN     125000                  5  gasoline        audi         yes   \n",
       "2  grand     125000                  8  gasoline        jeep         NaN   \n",
       "\n",
       "           DateCreated  NumberOfPictures  PostalCode             LastSeen  \n",
       "0  2016-03-24 00:00:00                 0       70435  2016-04-07 03:16:57  \n",
       "1  2016-03-24 00:00:00                 0       66954  2016-04-07 01:46:50  \n",
       "2  2016-03-14 00:00:00                 0       90480  2016-04-05 12:47:46  "
      ]
     },
     "execution_count": 2,
     "metadata": {},
     "output_type": "execute_result"
    }
   ],
   "source": [
    "df = pd.read_csv('/datasets/autos.csv')\n",
    "df[:3]"
   ]
  },
  {
   "cell_type": "code",
   "execution_count": 3,
   "metadata": {},
   "outputs": [
    {
     "name": "stdout",
     "output_type": "stream",
     "text": [
      "<class 'pandas.core.frame.DataFrame'>\n",
      "RangeIndex: 354369 entries, 0 to 354368\n",
      "Data columns (total 16 columns):\n",
      " #   Column             Non-Null Count   Dtype \n",
      "---  ------             --------------   ----- \n",
      " 0   DateCrawled        354369 non-null  object\n",
      " 1   Price              354369 non-null  int64 \n",
      " 2   VehicleType        316879 non-null  object\n",
      " 3   RegistrationYear   354369 non-null  int64 \n",
      " 4   Gearbox            334536 non-null  object\n",
      " 5   Power              354369 non-null  int64 \n",
      " 6   Model              334664 non-null  object\n",
      " 7   Kilometer          354369 non-null  int64 \n",
      " 8   RegistrationMonth  354369 non-null  int64 \n",
      " 9   FuelType           321474 non-null  object\n",
      " 10  Brand              354369 non-null  object\n",
      " 11  NotRepaired        283215 non-null  object\n",
      " 12  DateCreated        354369 non-null  object\n",
      " 13  NumberOfPictures   354369 non-null  int64 \n",
      " 14  PostalCode         354369 non-null  int64 \n",
      " 15  LastSeen           354369 non-null  object\n",
      "dtypes: int64(7), object(9)\n",
      "memory usage: 43.3+ MB\n"
     ]
    }
   ],
   "source": [
    "df.info()"
   ]
  },
  {
   "cell_type": "markdown",
   "metadata": {},
   "source": [
    "### Предобработка"
   ]
  },
  {
   "cell_type": "markdown",
   "metadata": {},
   "source": [
    "Удалим колонки, не влияющие на стоимость автомобиля:"
   ]
  },
  {
   "cell_type": "code",
   "execution_count": 4,
   "metadata": {},
   "outputs": [
    {
     "data": {
      "text/html": [
       "<div>\n",
       "<style scoped>\n",
       "    .dataframe tbody tr th:only-of-type {\n",
       "        vertical-align: middle;\n",
       "    }\n",
       "\n",
       "    .dataframe tbody tr th {\n",
       "        vertical-align: top;\n",
       "    }\n",
       "\n",
       "    .dataframe thead th {\n",
       "        text-align: right;\n",
       "    }\n",
       "</style>\n",
       "<table border=\"1\" class=\"dataframe\">\n",
       "  <thead>\n",
       "    <tr style=\"text-align: right;\">\n",
       "      <th></th>\n",
       "      <th>Price</th>\n",
       "      <th>VehicleType</th>\n",
       "      <th>RegistrationYear</th>\n",
       "      <th>Gearbox</th>\n",
       "      <th>Power</th>\n",
       "      <th>Model</th>\n",
       "      <th>Kilometer</th>\n",
       "      <th>RegistrationMonth</th>\n",
       "      <th>FuelType</th>\n",
       "      <th>Brand</th>\n",
       "      <th>NotRepaired</th>\n",
       "    </tr>\n",
       "  </thead>\n",
       "  <tbody>\n",
       "    <tr>\n",
       "      <th>0</th>\n",
       "      <td>480</td>\n",
       "      <td>NaN</td>\n",
       "      <td>1993</td>\n",
       "      <td>manual</td>\n",
       "      <td>0</td>\n",
       "      <td>golf</td>\n",
       "      <td>150000</td>\n",
       "      <td>0</td>\n",
       "      <td>petrol</td>\n",
       "      <td>volkswagen</td>\n",
       "      <td>NaN</td>\n",
       "    </tr>\n",
       "    <tr>\n",
       "      <th>1</th>\n",
       "      <td>18300</td>\n",
       "      <td>coupe</td>\n",
       "      <td>2011</td>\n",
       "      <td>manual</td>\n",
       "      <td>190</td>\n",
       "      <td>NaN</td>\n",
       "      <td>125000</td>\n",
       "      <td>5</td>\n",
       "      <td>gasoline</td>\n",
       "      <td>audi</td>\n",
       "      <td>yes</td>\n",
       "    </tr>\n",
       "    <tr>\n",
       "      <th>2</th>\n",
       "      <td>9800</td>\n",
       "      <td>suv</td>\n",
       "      <td>2004</td>\n",
       "      <td>auto</td>\n",
       "      <td>163</td>\n",
       "      <td>grand</td>\n",
       "      <td>125000</td>\n",
       "      <td>8</td>\n",
       "      <td>gasoline</td>\n",
       "      <td>jeep</td>\n",
       "      <td>NaN</td>\n",
       "    </tr>\n",
       "  </tbody>\n",
       "</table>\n",
       "</div>"
      ],
      "text/plain": [
       "   Price VehicleType  RegistrationYear Gearbox  Power  Model  Kilometer  \\\n",
       "0    480         NaN              1993  manual      0   golf     150000   \n",
       "1  18300       coupe              2011  manual    190    NaN     125000   \n",
       "2   9800         suv              2004    auto    163  grand     125000   \n",
       "\n",
       "   RegistrationMonth  FuelType       Brand NotRepaired  \n",
       "0                  0    petrol  volkswagen         NaN  \n",
       "1                  5  gasoline        audi         yes  \n",
       "2                  8  gasoline        jeep         NaN  "
      ]
     },
     "execution_count": 4,
     "metadata": {},
     "output_type": "execute_result"
    }
   ],
   "source": [
    "df = df.drop(['DateCrawled', 'DateCreated', 'PostalCode', 'LastSeen', 'NumberOfPictures'], axis = 1)\n",
    "df[:3]"
   ]
  },
  {
   "cell_type": "markdown",
   "metadata": {},
   "source": [
    "Найдем колонки с пропусками:"
   ]
  },
  {
   "cell_type": "code",
   "execution_count": 5,
   "metadata": {},
   "outputs": [
    {
     "data": {
      "text/plain": [
       "array(['NotRepaired', 'VehicleType', 'FuelType', 'Gearbox', 'Model'],\n",
       "      dtype=object)"
      ]
     },
     "execution_count": 5,
     "metadata": {},
     "output_type": "execute_result"
    }
   ],
   "source": [
    "cols = df.isna().mean().sort_values(ascending=False).reset_index()\n",
    "cols = cols[cols[0] > 0]\n",
    "cols_with_missing = cols['index'].values\n",
    "cols_with_missing"
   ]
  },
  {
   "cell_type": "markdown",
   "metadata": {},
   "source": [
    "Данные колонки содержат категориальные признаки, поэтому пропуски заменим на отдельную категорию ‘unknown’"
   ]
  },
  {
   "cell_type": "code",
   "execution_count": 6,
   "metadata": {},
   "outputs": [
    {
     "name": "stdout",
     "output_type": "stream",
     "text": [
      "<class 'pandas.core.frame.DataFrame'>\n",
      "RangeIndex: 354369 entries, 0 to 354368\n",
      "Data columns (total 5 columns):\n",
      " #   Column       Non-Null Count   Dtype \n",
      "---  ------       --------------   ----- \n",
      " 0   NotRepaired  354369 non-null  object\n",
      " 1   VehicleType  354369 non-null  object\n",
      " 2   FuelType     354369 non-null  object\n",
      " 3   Gearbox      354369 non-null  object\n",
      " 4   Model        354369 non-null  object\n",
      "dtypes: object(5)\n",
      "memory usage: 13.5+ MB\n"
     ]
    }
   ],
   "source": [
    "df[cols_with_missing] = df[cols_with_missing].fillna('unknown')\n",
    "df[cols_with_missing].info()"
   ]
  },
  {
   "cell_type": "markdown",
   "metadata": {},
   "source": [
    "Проверим числовые признаки:"
   ]
  },
  {
   "cell_type": "code",
   "execution_count": 7,
   "metadata": {},
   "outputs": [
    {
     "data": {
      "text/html": [
       "<div>\n",
       "<style scoped>\n",
       "    .dataframe tbody tr th:only-of-type {\n",
       "        vertical-align: middle;\n",
       "    }\n",
       "\n",
       "    .dataframe tbody tr th {\n",
       "        vertical-align: top;\n",
       "    }\n",
       "\n",
       "    .dataframe thead th {\n",
       "        text-align: right;\n",
       "    }\n",
       "</style>\n",
       "<table border=\"1\" class=\"dataframe\">\n",
       "  <thead>\n",
       "    <tr style=\"text-align: right;\">\n",
       "      <th></th>\n",
       "      <th>Price</th>\n",
       "      <th>RegistrationYear</th>\n",
       "      <th>Power</th>\n",
       "      <th>Kilometer</th>\n",
       "      <th>RegistrationMonth</th>\n",
       "    </tr>\n",
       "  </thead>\n",
       "  <tbody>\n",
       "    <tr>\n",
       "      <th>count</th>\n",
       "      <td>354369.000000</td>\n",
       "      <td>354369.000000</td>\n",
       "      <td>354369.000000</td>\n",
       "      <td>354369.000000</td>\n",
       "      <td>354369.000000</td>\n",
       "    </tr>\n",
       "    <tr>\n",
       "      <th>mean</th>\n",
       "      <td>4416.656776</td>\n",
       "      <td>2004.234448</td>\n",
       "      <td>110.094337</td>\n",
       "      <td>128211.172535</td>\n",
       "      <td>5.714645</td>\n",
       "    </tr>\n",
       "    <tr>\n",
       "      <th>std</th>\n",
       "      <td>4514.158514</td>\n",
       "      <td>90.227958</td>\n",
       "      <td>189.850405</td>\n",
       "      <td>37905.341530</td>\n",
       "      <td>3.726421</td>\n",
       "    </tr>\n",
       "    <tr>\n",
       "      <th>min</th>\n",
       "      <td>0.000000</td>\n",
       "      <td>1000.000000</td>\n",
       "      <td>0.000000</td>\n",
       "      <td>5000.000000</td>\n",
       "      <td>0.000000</td>\n",
       "    </tr>\n",
       "    <tr>\n",
       "      <th>25%</th>\n",
       "      <td>1050.000000</td>\n",
       "      <td>1999.000000</td>\n",
       "      <td>69.000000</td>\n",
       "      <td>125000.000000</td>\n",
       "      <td>3.000000</td>\n",
       "    </tr>\n",
       "    <tr>\n",
       "      <th>50%</th>\n",
       "      <td>2700.000000</td>\n",
       "      <td>2003.000000</td>\n",
       "      <td>105.000000</td>\n",
       "      <td>150000.000000</td>\n",
       "      <td>6.000000</td>\n",
       "    </tr>\n",
       "    <tr>\n",
       "      <th>75%</th>\n",
       "      <td>6400.000000</td>\n",
       "      <td>2008.000000</td>\n",
       "      <td>143.000000</td>\n",
       "      <td>150000.000000</td>\n",
       "      <td>9.000000</td>\n",
       "    </tr>\n",
       "    <tr>\n",
       "      <th>max</th>\n",
       "      <td>20000.000000</td>\n",
       "      <td>9999.000000</td>\n",
       "      <td>20000.000000</td>\n",
       "      <td>150000.000000</td>\n",
       "      <td>12.000000</td>\n",
       "    </tr>\n",
       "  </tbody>\n",
       "</table>\n",
       "</div>"
      ],
      "text/plain": [
       "               Price  RegistrationYear          Power      Kilometer  \\\n",
       "count  354369.000000     354369.000000  354369.000000  354369.000000   \n",
       "mean     4416.656776       2004.234448     110.094337  128211.172535   \n",
       "std      4514.158514         90.227958     189.850405   37905.341530   \n",
       "min         0.000000       1000.000000       0.000000    5000.000000   \n",
       "25%      1050.000000       1999.000000      69.000000  125000.000000   \n",
       "50%      2700.000000       2003.000000     105.000000  150000.000000   \n",
       "75%      6400.000000       2008.000000     143.000000  150000.000000   \n",
       "max     20000.000000       9999.000000   20000.000000  150000.000000   \n",
       "\n",
       "       RegistrationMonth  \n",
       "count      354369.000000  \n",
       "mean            5.714645  \n",
       "std             3.726421  \n",
       "min             0.000000  \n",
       "25%             3.000000  \n",
       "50%             6.000000  \n",
       "75%             9.000000  \n",
       "max            12.000000  "
      ]
     },
     "execution_count": 7,
     "metadata": {},
     "output_type": "execute_result"
    }
   ],
   "source": [
    "df.describe()"
   ]
  },
  {
   "cell_type": "markdown",
   "metadata": {},
   "source": [
    "В столбце RegistrationYear присутствуют аномальные значения, поэтому установим границы - год регистрации не может быть больше ~~2020~~2016, и не может быть меньше 1930"
   ]
  },
  {
   "cell_type": "code",
   "execution_count": 8,
   "metadata": {},
   "outputs": [],
   "source": [
    "def Balance_RegistrationYear(value):\n",
    "    if value > 2016:\n",
    "        return 2016\n",
    "    elif value < 1930:\n",
    "        return 1930\n",
    "    else:\n",
    "        return value\n",
    "df[\"RegistrationYear\"] = df[\"RegistrationYear\"].apply(Balance_RegistrationYear)"
   ]
  },
  {
   "cell_type": "markdown",
   "metadata": {},
   "source": [
    "В колонке Power присутствуют аномальные значения (20 000 лошадиных сил), ограничим их мощностью БелАЗ(а), т.е. 3500"
   ]
  },
  {
   "cell_type": "code",
   "execution_count": 9,
   "metadata": {},
   "outputs": [],
   "source": [
    "df.loc[df['Power'] > 3500, 'Power'] = 3500"
   ]
  },
  {
   "cell_type": "markdown",
   "metadata": {},
   "source": [
    "**Значения из столбца Price обладают высоким стандартным отклонениям, что пагубно будет влиять на работу алгоритма. Найдем и очистим признак от выбросов**"
   ]
  },
  {
   "cell_type": "code",
   "execution_count": 10,
   "metadata": {},
   "outputs": [
    {
     "data": {
      "text/plain": [
       "4416.656775846645"
      ]
     },
     "execution_count": 10,
     "metadata": {},
     "output_type": "execute_result"
    },
    {
     "data": {
      "image/png": "[encoded data removed]",
      "text/plain": [
       "<Figure size 432x288 with 1 Axes>"
      ]
     },
     "metadata": {
      "needs_background": "light"
     },
     "output_type": "display_data"
    }
   ],
   "source": [
    "sns.boxplot(x=df['Price'])\n",
    "df.Price.mean()"
   ]
  },
  {
   "cell_type": "code",
   "execution_count": 11,
   "metadata": {},
   "outputs": [
    {
     "name": "stdout",
     "output_type": "stream",
     "text": [
      "<class 'pandas.core.frame.DataFrame'>\n",
      "Int64Index: 335390 entries, 0 to 354368\n",
      "Data columns (total 11 columns):\n",
      " #   Column             Non-Null Count   Dtype \n",
      "---  ------             --------------   ----- \n",
      " 0   Price              335390 non-null  int64 \n",
      " 1   VehicleType        335390 non-null  object\n",
      " 2   RegistrationYear   335390 non-null  int64 \n",
      " 3   Gearbox            335390 non-null  object\n",
      " 4   Power              335390 non-null  int64 \n",
      " 5   Model              335390 non-null  object\n",
      " 6   Kilometer          335390 non-null  int64 \n",
      " 7   RegistrationMonth  335390 non-null  int64 \n",
      " 8   FuelType           335390 non-null  object\n",
      " 9   Brand              335390 non-null  object\n",
      " 10  NotRepaired        335390 non-null  object\n",
      "dtypes: int64(5), object(6)\n",
      "memory usage: 30.7+ MB\n"
     ]
    }
   ],
   "source": [
    "q25=np.array(df['Price'].quantile(0.25))\n",
    "q75=np.array(df['Price'].quantile(0.75))\n",
    "first_part=q25-1.5*(q75-q25)\n",
    "second_part=q75+1.5*(q75-q25)\n",
    "del_index = []\n",
    "for index_value, value in zip(df['Price'].index,df['Price']):\n",
    "    if second_part <= value or value <= first_part:\n",
    "        del_index.append(index_value)\n",
    "df = df.drop(del_index,axis = 0)\n",
    "df.info()"
   ]
  },
  {
   "cell_type": "markdown",
   "metadata": {},
   "source": [
    "### One Hot Encoding"
   ]
  },
  {
   "cell_type": "markdown",
   "metadata": {},
   "source": [
    "С помощью техники OHE подготовим данные из категориальных столбцов. Используем параметр drop_first=True, чтобы избежать дамми-ловушки."
   ]
  },
  {
   "cell_type": "code",
   "execution_count": 12,
   "metadata": {},
   "outputs": [
    {
     "data": {
      "text/plain": [
       "array(['VehicleType', 'Gearbox', 'Model', 'FuelType', 'Brand',\n",
       "       'NotRepaired'], dtype='<U11')"
      ]
     },
     "execution_count": 12,
     "metadata": {},
     "output_type": "execute_result"
    }
   ],
   "source": [
    "cols_for_ohe = np.array(['VehicleType', 'Gearbox', 'Model', 'FuelType', 'Brand', 'NotRepaired'])\n",
    "cols_for_ohe"
   ]
  },
  {
   "cell_type": "code",
   "execution_count": 13,
   "metadata": {},
   "outputs": [
    {
     "name": "stdout",
     "output_type": "stream",
     "text": [
      "Количество признаков после OHE: 313\n"
     ]
    }
   ],
   "source": [
    "df_ohe = pd.get_dummies(df, columns = cols_for_ohe, drop_first=True)\n",
    "print('Количество признаков после OHE:', df_ohe.columns.values.size)"
   ]
  },
  {
   "cell_type": "markdown",
   "metadata": {},
   "source": [
    "Разделение выборок"
   ]
  },
  {
   "cell_type": "markdown",
   "metadata": {},
   "source": [
    "Разделим выборки на обучающую, тестовую и валидационную"
   ]
  },
  {
   "cell_type": "code",
   "execution_count": 14,
   "metadata": {},
   "outputs": [],
   "source": [
    "features = df_ohe.drop(['Price'], axis=1)\n",
    "target = df_ohe['Price']\n",
    "\n",
    "features_train, features_temp, target_train, target_temp = train_test_split(\n",
    "    features, target, test_size=0.4, random_state=12345)\n",
    "\n",
    "features_valid, features_test, target_valid, target_test = train_test_split(\n",
    "    features_temp, target_temp, test_size=0.5, random_state=12345)"
   ]
  },
  {
   "cell_type": "code",
   "execution_count": 15,
   "metadata": {},
   "outputs": [
    {
     "name": "stdout",
     "output_type": "stream",
     "text": [
      "Размер выборки _train (201234, 312)\n",
      "Размер выборки _valid (67078, 312)\n",
      "Размер выборки _test (67078, 312)\n"
     ]
    }
   ],
   "source": [
    "print('Размер выборки _train', features_train.shape)\n",
    "print('Размер выборки _valid', features_valid.shape)\n",
    "print('Размер выборки _test', features_test.shape)"
   ]
  },
  {
   "cell_type": "markdown",
   "metadata": {},
   "source": [
    "## Обучение моделей"
   ]
  },
  {
   "cell_type": "markdown",
   "metadata": {},
   "source": [
    "### RandomForest\n",
    "\n"
   ]
  },
  {
   "cell_type": "markdown",
   "metadata": {},
   "source": [
    "Перед использованием градиентного бустинга попробуем более простую модель - RandomForest. Используем поиск гиперпараметоров с помощью GridSearchCV"
   ]
  },
  {
   "cell_type": "code",
   "execution_count": 22,
   "metadata": {},
   "outputs": [
    {
     "name": "stdout",
     "output_type": "stream",
     "text": [
      "Best hyperparams:  {'max_depth': 10, 'n_estimators': 30, 'random_state': 12345}\n",
      "Train RMSE: 1709.97\n",
      "Time: 603.44\n"
     ]
    }
   ],
   "source": [
    "start = time.time()\n",
    "model = RandomForestRegressor()\n",
    "params = {\n",
    "    'n_estimators' : [10, 20, 30],\n",
    "    'max_depth' : [3, 5, 10],\n",
    "    'random_state' : [12345]\n",
    "    }\n",
    "grid_cv = GridSearchCV(estimator=model, param_grid=params, cv=3, n_jobs=-1, scoring='neg_mean_squared_error')\n",
    "grid_cv.fit(features_train, target_train)\n",
    "end = time.time()\n",
    "time_fit_rf_cv = end - start\n",
    "rf_params = grid_cv.best_params_\n",
    "rf_rmse = (-grid_cv.best_score_) ** 0.5\n",
    "print('Best hyperparams: ', rf_params)\n",
    "print('Train RMSE: {:.2f}'.format(rf_rmse))\n",
    "print('Time: {:.2f}'.format(time_fit_rf_cv))"
   ]
  },
  {
   "cell_type": "code",
   "execution_count": 32,
   "metadata": {},
   "outputs": [
    {
     "name": "stdout",
     "output_type": "stream",
     "text": [
      "Test RMSE = 1706.43\n",
      "Time Fit: 79.76\n",
      "Time Predict: 0.31\n"
     ]
    }
   ],
   "source": [
    "start = time.time()\n",
    "model_rf = RandomForestRegressor(**rf_params)\n",
    "model_rf.fit(features_train, target_train)\n",
    "end = time.time()\n",
    "time_fit_rf = end - start\n",
    "\n",
    "start = time.time()\n",
    "predict_rf = model_rf.predict(features_valid)\n",
    "end = time.time()\n",
    "time_pred_rf = end - start\n",
    "\n",
    "rmse_rf = mean_squared_error(target_valid, predict_rf)**0.5\n",
    "\n",
    "print('Test RMSE = {:.2f}'.format(rmse_rf))\n",
    "print('Time Fit: {:.2f}'.format(time_fit_rf))\n",
    "print('Time Predict: {:.2f}'.format(time_pred_rf))"
   ]
  },
  {
   "cell_type": "markdown",
   "metadata": {},
   "source": [
    "### LightGBM"
   ]
  },
  {
   "cell_type": "code",
   "execution_count": 28,
   "metadata": {
    "scrolled": true
   },
   "outputs": [
    {
     "name": "stdout",
     "output_type": "stream",
     "text": [
      "Best hyperparams:  {'boosting_type': 'gbdt', 'force_col_wise': True, 'max_depth': 10, 'n_estimators': 200, 'num_leaves': 200, 'random_state': 12345, 'verbose': -1}\n",
      "Train RMSE: 1475.92\n",
      "Time: 685.09\n"
     ]
    }
   ],
   "source": [
    "start = time.time()\n",
    "model = LGBMRegressor()\n",
    "params = {\n",
    "    'boosting_type' : ['gbdt'],\n",
    "    'n_estimators' : [50, 100, 200],\n",
    "    'max_depth' : [5, 7, 10],\n",
    "    'verbose' : [-1],\n",
    "    'random_state' : [12345],\n",
    "    'force_col_wise': [True],\n",
    "    'num_leaves' : [30, 130, 200]\n",
    "    }\n",
    "grid_cv = GridSearchCV(estimator=model, param_grid=params, cv=3, n_jobs=-1, scoring='neg_mean_squared_error')\n",
    "grid_cv.fit(features_train, target_train)\n",
    "end = time.time()\n",
    "time_fit_lgb_cv = end - start\n",
    "lgb_params = grid_cv.best_params_\n",
    "lgb_rmse = (-grid_cv.best_score_) ** 0.5\n",
    "print('Best hyperparams: ', lgb_params)\n",
    "print('Train RMSE: {:.2f}'.format(lgb_rmse))\n",
    "print('Time: {:.2f}'.format(time_fit_lgb_cv))"
   ]
  },
  {
   "cell_type": "code",
   "execution_count": 29,
   "metadata": {},
   "outputs": [
    {
     "name": "stdout",
     "output_type": "stream",
     "text": [
      "Test RMSE = 1464.21\n",
      "Time Fit: 21.39\n",
      "Time Predict: 1.61\n"
     ]
    }
   ],
   "source": [
    "start = time.time()\n",
    "model_lgb = LGBMRegressor(**lgb_params)\n",
    "model_lgb.fit(features_train, target_train)#, eval_set=(X_test, y_test), verbose=10, eval_metric='rmse')\n",
    "end = time.time()\n",
    "time_fit_lgb = end - start\n",
    "\n",
    "start = time.time()\n",
    "predict_lgb = model_lgb.predict(features_valid)\n",
    "end = time.time()\n",
    "time_pred_lgb = end - start\n",
    "\n",
    "rmse_lgb = mean_squared_error(target_valid, predict_lgb)**0.5\n",
    "\n",
    "print('Test RMSE = {:.2f}'.format(rmse_lgb))\n",
    "print('Time Fit: {:.2f}'.format(time_fit_lgb))\n",
    "print('Time Predict: {:.2f}'.format(time_pred_lgb))"
   ]
  },
  {
   "cell_type": "markdown",
   "metadata": {},
   "source": [
    "## Анализ моделей"
   ]
  },
  {
   "cell_type": "code",
   "execution_count": 33,
   "metadata": {},
   "outputs": [
    {
     "data": {
      "text/html": [
       "<div>\n",
       "<style scoped>\n",
       "    .dataframe tbody tr th:only-of-type {\n",
       "        vertical-align: middle;\n",
       "    }\n",
       "\n",
       "    .dataframe tbody tr th {\n",
       "        vertical-align: top;\n",
       "    }\n",
       "\n",
       "    .dataframe thead th {\n",
       "        text-align: right;\n",
       "    }\n",
       "</style>\n",
       "<table border=\"1\" class=\"dataframe\">\n",
       "  <thead>\n",
       "    <tr style=\"text-align: right;\">\n",
       "      <th></th>\n",
       "      <th>Model</th>\n",
       "      <th>Train Time, sec</th>\n",
       "      <th>Test Time, sec</th>\n",
       "      <th>Test RMSE</th>\n",
       "    </tr>\n",
       "  </thead>\n",
       "  <tbody>\n",
       "    <tr>\n",
       "      <th>0</th>\n",
       "      <td>LGBMRegressor_CV</td>\n",
       "      <td>685.087549</td>\n",
       "      <td>-</td>\n",
       "      <td>1475.922200</td>\n",
       "    </tr>\n",
       "    <tr>\n",
       "      <th>1</th>\n",
       "      <td>LGBMRegressor_best</td>\n",
       "      <td>21.390705</td>\n",
       "      <td>1.614829</td>\n",
       "      <td>1464.209895</td>\n",
       "    </tr>\n",
       "    <tr>\n",
       "      <th>2</th>\n",
       "      <td>RandomForest_CV</td>\n",
       "      <td>603.437137</td>\n",
       "      <td>-</td>\n",
       "      <td>1709.974236</td>\n",
       "    </tr>\n",
       "    <tr>\n",
       "      <th>3</th>\n",
       "      <td>RandomForest_best</td>\n",
       "      <td>79.762338</td>\n",
       "      <td>0.309591</td>\n",
       "      <td>1706.428506</td>\n",
       "    </tr>\n",
       "  </tbody>\n",
       "</table>\n",
       "</div>"
      ],
      "text/plain": [
       "                Model  Train Time, sec Test Time, sec    Test RMSE\n",
       "0    LGBMRegressor_CV       685.087549              -  1475.922200\n",
       "1  LGBMRegressor_best        21.390705       1.614829  1464.209895\n",
       "2     RandomForest_CV       603.437137              -  1709.974236\n",
       "3   RandomForest_best        79.762338       0.309591  1706.428506"
      ]
     },
     "metadata": {},
     "output_type": "display_data"
    }
   ],
   "source": [
    "results = {\n",
    "    'Model' : ['LGBMRegressor_CV', 'LGBMRegressor_best','RandomForest_CV', 'RandomForest_best'],\n",
    "    'Train Time, sec': pd.Series([time_fit_lgb_cv, time_fit_lgb, time_fit_rf_cv, time_fit_rf]),\n",
    "    'Test Time, sec': pd.Series(['-', time_pred_lgb, '-', time_pred_rf]),\n",
    "    'Test RMSE' :pd.Series([lgb_rmse, rmse_lgb, rf_rmse, rmse_rf]),\n",
    "    }\n",
    "display(pd.DataFrame(results))"
   ]
  },
  {
   "cell_type": "code",
   "execution_count": 31,
   "metadata": {},
   "outputs": [
    {
     "data": {
      "text/plain": [
       "1444.1664996679585"
      ]
     },
     "execution_count": 31,
     "metadata": {},
     "output_type": "execute_result"
    }
   ],
   "source": [
    "predict_lgb_test = model_lgb.predict(features_test)\n",
    "rmse_lgb_test = mean_squared_error(target_test, predict_lgb_test)**0.5\n",
    "rmse_lgb_test"
   ]
  },
  {
   "cell_type": "markdown",
   "metadata": {},
   "source": [
    "**Выводы:** \n",
    "- Наилучший RMSE у LGBMRegressor с найденными лучшими гиперпараметрами. \n",
    "- Самая быстрая модель LGBMRegressor.\n",
    "- Лучшая модель успешно прошла тестирование с RMSE = 1444"
   ]
  }
 ],
 "metadata": {
  "ExecuteTimeLog": [
   {
    "duration": 51,
    "start_time": "2022-04-16T20:15:45.991Z"
   },
   {
    "duration": 441,
    "start_time": "2022-04-16T20:15:50.880Z"
   },
   {
    "duration": 1978,
    "start_time": "2022-04-16T20:15:51.323Z"
   },
   {
    "duration": 873,
    "start_time": "2022-04-16T20:16:09.118Z"
   },
   {
    "duration": 14,
    "start_time": "2022-04-16T20:16:19.288Z"
   },
   {
    "duration": 140,
    "start_time": "2022-04-16T20:48:30.558Z"
   },
   {
    "duration": 14,
    "start_time": "2022-04-16T20:48:38.542Z"
   },
   {
    "duration": 141,
    "start_time": "2022-04-16T20:48:48.705Z"
   },
   {
    "duration": 2984,
    "start_time": "2022-04-17T17:27:04.897Z"
   },
   {
    "duration": 432,
    "start_time": "2022-04-17T17:27:09.764Z"
   },
   {
    "duration": 805,
    "start_time": "2022-04-17T17:27:10.905Z"
   },
   {
    "duration": 138,
    "start_time": "2022-04-17T17:27:12.929Z"
   },
   {
    "duration": 65,
    "start_time": "2022-04-17T17:27:35.460Z"
   },
   {
    "duration": 2253,
    "start_time": "2022-04-17T17:28:02.989Z"
   },
   {
    "duration": 10,
    "start_time": "2022-04-17T17:28:30.382Z"
   },
   {
    "duration": 737,
    "start_time": "2022-04-17T17:28:55.407Z"
   },
   {
    "duration": 7196,
    "start_time": "2022-04-17T17:29:04.398Z"
   },
   {
    "duration": 10,
    "start_time": "2022-04-17T17:30:12.429Z"
   },
   {
    "duration": 2,
    "start_time": "2022-04-17T17:30:16.558Z"
   },
   {
    "duration": 3,
    "start_time": "2022-04-17T17:30:53.539Z"
   },
   {
    "duration": 1006,
    "start_time": "2022-04-17T17:31:17.272Z"
   },
   {
    "duration": 814,
    "start_time": "2022-04-17T17:31:18.280Z"
   },
   {
    "duration": 135,
    "start_time": "2022-04-17T17:31:19.096Z"
   },
   {
    "duration": 7311,
    "start_time": "2022-04-17T17:31:19.233Z"
   },
   {
    "duration": 3,
    "start_time": "2022-04-17T17:33:42.728Z"
   },
   {
    "duration": 7368,
    "start_time": "2022-04-17T17:33:54.702Z"
   },
   {
    "duration": 3,
    "start_time": "2022-04-17T17:34:54.496Z"
   },
   {
    "duration": 135,
    "start_time": "2022-04-17T17:57:55.342Z"
   },
   {
    "duration": 88,
    "start_time": "2022-04-17T18:00:18.185Z"
   },
   {
    "duration": 2142,
    "start_time": "2022-04-17T18:03:30.688Z"
   },
   {
    "duration": 108,
    "start_time": "2022-04-17T18:06:58.528Z"
   },
   {
    "duration": 120,
    "start_time": "2022-04-17T18:07:29.122Z"
   },
   {
    "duration": 221,
    "start_time": "2022-04-17T18:07:36.571Z"
   },
   {
    "duration": 634,
    "start_time": "2022-04-17T18:11:00.414Z"
   },
   {
    "duration": 3,
    "start_time": "2022-04-17T18:11:07.965Z"
   },
   {
    "duration": 2,
    "start_time": "2022-04-17T18:20:18.115Z"
   },
   {
    "duration": 4,
    "start_time": "2022-04-17T18:20:22.637Z"
   },
   {
    "duration": 8,
    "start_time": "2022-04-17T18:20:40.354Z"
   },
   {
    "duration": 9,
    "start_time": "2022-04-17T18:20:57.805Z"
   },
   {
    "duration": 4,
    "start_time": "2022-04-17T18:21:10.400Z"
   },
   {
    "duration": 9,
    "start_time": "2022-04-17T18:21:32.227Z"
   },
   {
    "duration": 4,
    "start_time": "2022-04-17T18:21:39.762Z"
   },
   {
    "duration": 1068,
    "start_time": "2022-04-17T18:22:28.528Z"
   },
   {
    "duration": 3654,
    "start_time": "2022-04-17T18:25:27.960Z"
   },
   {
    "duration": 1169,
    "start_time": "2022-04-17T18:25:39.529Z"
   },
   {
    "duration": 866,
    "start_time": "2022-04-17T18:26:34.750Z"
   },
   {
    "duration": 882,
    "start_time": "2022-04-17T18:26:51.286Z"
   },
   {
    "duration": 905,
    "start_time": "2022-04-17T18:27:02.053Z"
   },
   {
    "duration": 905,
    "start_time": "2022-04-17T18:27:06.928Z"
   },
   {
    "duration": 907,
    "start_time": "2022-04-17T18:27:18.324Z"
   },
   {
    "duration": 855,
    "start_time": "2022-04-17T18:27:26.080Z"
   },
   {
    "duration": 1116,
    "start_time": "2022-04-17T18:27:31.991Z"
   },
   {
    "duration": 18,
    "start_time": "2022-04-17T18:36:26.253Z"
   },
   {
    "duration": 777,
    "start_time": "2022-04-17T18:36:51.892Z"
   },
   {
    "duration": 3,
    "start_time": "2022-04-17T18:37:00.869Z"
   },
   {
    "duration": 275,
    "start_time": "2022-04-17T18:39:45.997Z"
   },
   {
    "duration": 4,
    "start_time": "2022-04-17T18:41:53.790Z"
   },
   {
    "duration": 39095,
    "start_time": "2022-04-17T18:42:25.950Z"
   },
   {
    "duration": 44,
    "start_time": "2022-04-17T18:44:49.174Z"
   },
   {
    "duration": 86,
    "start_time": "2022-04-17T18:44:53.879Z"
   },
   {
    "duration": 88,
    "start_time": "2022-04-17T18:44:55.408Z"
   },
   {
    "duration": 4,
    "start_time": "2022-04-17T18:44:56.968Z"
   },
   {
    "duration": 849,
    "start_time": "2022-04-17T18:44:59.081Z"
   },
   {
    "duration": 634,
    "start_time": "2022-04-17T18:45:03.271Z"
   },
   {
    "duration": 4,
    "start_time": "2022-04-17T18:45:04.970Z"
   },
   {
    "duration": 259,
    "start_time": "2022-04-17T18:45:06.721Z"
   },
   {
    "duration": 1271,
    "start_time": "2022-04-19T18:33:46.550Z"
   },
   {
    "duration": 818,
    "start_time": "2022-04-19T18:33:48.812Z"
   },
   {
    "duration": 129,
    "start_time": "2022-04-19T18:33:51.424Z"
   },
   {
    "duration": 120,
    "start_time": "2022-04-19T18:33:53.914Z"
   },
   {
    "duration": 109,
    "start_time": "2022-04-19T18:34:03.103Z"
   },
   {
    "duration": 109,
    "start_time": "2022-04-19T18:34:30.570Z"
   },
   {
    "duration": 131,
    "start_time": "2022-04-19T18:34:45.478Z"
   },
   {
    "duration": 109,
    "start_time": "2022-04-19T18:35:07.264Z"
   },
   {
    "duration": 111,
    "start_time": "2022-04-19T18:35:57.221Z"
   },
   {
    "duration": 42,
    "start_time": "2022-04-19T18:36:13.417Z"
   },
   {
    "duration": 84,
    "start_time": "2022-04-19T18:36:29.343Z"
   },
   {
    "duration": 203,
    "start_time": "2022-04-19T18:37:52.500Z"
   },
   {
    "duration": 83,
    "start_time": "2022-04-19T18:38:25.026Z"
   },
   {
    "duration": 14,
    "start_time": "2022-04-19T18:40:32.046Z"
   },
   {
    "duration": 125,
    "start_time": "2022-04-19T18:40:39.525Z"
   },
   {
    "duration": 7,
    "start_time": "2022-04-19T18:42:14.605Z"
   },
   {
    "duration": 10,
    "start_time": "2022-04-19T18:48:05.560Z"
   },
   {
    "duration": 13,
    "start_time": "2022-04-19T18:48:11.291Z"
   },
   {
    "duration": 5,
    "start_time": "2022-04-19T18:48:22.468Z"
   },
   {
    "duration": 1091,
    "start_time": "2022-04-19T18:48:24.608Z"
   },
   {
    "duration": 1138,
    "start_time": "2022-04-19T18:48:30.754Z"
   },
   {
    "duration": 1323,
    "start_time": "2022-04-19T18:50:05.114Z"
   },
   {
    "duration": 734,
    "start_time": "2022-04-19T18:50:36.709Z"
   },
   {
    "duration": 4,
    "start_time": "2022-04-19T18:50:38.295Z"
   },
   {
    "duration": 21,
    "start_time": "2022-04-19T18:50:40.055Z"
   },
   {
    "duration": 270,
    "start_time": "2022-04-19T18:50:48.605Z"
   },
   {
    "duration": 1125,
    "start_time": "2022-04-19T18:51:53.332Z"
   },
   {
    "duration": 644267,
    "start_time": "2022-04-19T18:56:22.071Z"
   },
   {
    "duration": 4,
    "start_time": "2022-04-19T19:07:06.341Z"
   },
   {
    "duration": 173662,
    "start_time": "2022-04-19T19:07:53.842Z"
   },
   {
    "duration": 8,
    "start_time": "2022-04-19T19:10:47.506Z"
   },
   {
    "duration": 99558,
    "start_time": "2022-04-19T19:10:47.516Z"
   },
   {
    "duration": 5,
    "start_time": "2022-04-19T19:12:27.076Z"
   },
   {
    "duration": 139142,
    "start_time": "2022-04-19T19:12:40.051Z"
   },
   {
    "duration": 5,
    "start_time": "2022-04-19T19:14:59.195Z"
   },
   {
    "duration": 101843,
    "start_time": "2022-04-19T19:20:54.439Z"
   },
   {
    "duration": 4,
    "start_time": "2022-04-19T19:27:13.434Z"
   },
   {
    "duration": 800,
    "start_time": "2022-04-19T19:27:14.264Z"
   },
   {
    "duration": 125,
    "start_time": "2022-04-19T19:27:15.250Z"
   },
   {
    "duration": 28,
    "start_time": "2022-04-19T19:27:17.228Z"
   },
   {
    "duration": 84,
    "start_time": "2022-04-19T19:27:18.351Z"
   },
   {
    "duration": 185,
    "start_time": "2022-04-19T19:27:19.985Z"
   },
   {
    "duration": 84,
    "start_time": "2022-04-19T19:27:21.562Z"
   },
   {
    "duration": 112,
    "start_time": "2022-04-19T19:27:23.221Z"
   },
   {
    "duration": 6,
    "start_time": "2022-04-19T19:27:24.711Z"
   },
   {
    "duration": 4,
    "start_time": "2022-04-19T19:27:26.752Z"
   },
   {
    "duration": 1084,
    "start_time": "2022-04-19T19:27:27.611Z"
   },
   {
    "duration": 428,
    "start_time": "2022-04-19T19:27:32.064Z"
   },
   {
    "duration": 4,
    "start_time": "2022-04-19T19:27:33.450Z"
   },
   {
    "duration": 328,
    "start_time": "2022-04-19T19:27:44.466Z"
   },
   {
    "duration": 703195,
    "start_time": "2022-04-19T19:28:15.897Z"
   },
   {
    "duration": 949,
    "start_time": "2022-04-19T19:39:59.094Z"
   },
   {
    "duration": 175305,
    "start_time": "2022-04-19T19:40:00.045Z"
   },
   {
    "duration": 371,
    "start_time": "2022-04-19T19:42:55.352Z"
   },
   {
    "duration": 61,
    "start_time": "2022-04-19T19:46:25.642Z"
   },
   {
    "duration": 1298,
    "start_time": "2022-04-19T19:57:54.690Z"
   },
   {
    "duration": 790,
    "start_time": "2022-04-19T19:57:55.990Z"
   },
   {
    "duration": 130,
    "start_time": "2022-04-19T19:57:56.782Z"
   },
   {
    "duration": 35,
    "start_time": "2022-04-19T19:57:56.914Z"
   },
   {
    "duration": 110,
    "start_time": "2022-04-19T19:57:56.952Z"
   },
   {
    "duration": 213,
    "start_time": "2022-04-19T19:57:57.064Z"
   },
   {
    "duration": 67,
    "start_time": "2022-04-19T19:57:57.279Z"
   },
   {
    "duration": 125,
    "start_time": "2022-04-19T19:57:57.348Z"
   },
   {
    "duration": 5,
    "start_time": "2022-04-19T19:57:57.475Z"
   },
   {
    "duration": 9,
    "start_time": "2022-04-19T19:57:57.482Z"
   },
   {
    "duration": 151,
    "start_time": "2022-04-19T19:57:57.493Z"
   },
   {
    "duration": 129,
    "start_time": "2022-04-19T19:57:57.646Z"
   },
   {
    "duration": 5,
    "start_time": "2022-04-19T19:57:57.776Z"
   },
   {
    "duration": 197,
    "start_time": "2022-04-19T19:57:57.784Z"
   },
   {
    "duration": 424,
    "start_time": "2022-04-19T19:57:57.983Z"
   },
   {
    "duration": 12,
    "start_time": "2022-04-19T19:57:58.409Z"
   },
   {
    "duration": 0,
    "start_time": "2022-04-19T19:57:58.422Z"
   },
   {
    "duration": 0,
    "start_time": "2022-04-19T19:57:58.424Z"
   },
   {
    "duration": 0,
    "start_time": "2022-04-19T19:57:58.425Z"
   },
   {
    "duration": 0,
    "start_time": "2022-04-19T19:57:58.427Z"
   },
   {
    "duration": 0,
    "start_time": "2022-04-19T19:57:58.428Z"
   },
   {
    "duration": 0,
    "start_time": "2022-04-19T19:57:58.429Z"
   },
   {
    "duration": 1,
    "start_time": "2022-04-19T19:57:58.430Z"
   },
   {
    "duration": 5,
    "start_time": "2022-04-19T19:58:39.368Z"
   },
   {
    "duration": 1079,
    "start_time": "2022-04-19T19:58:41.042Z"
   },
   {
    "duration": 624,
    "start_time": "2022-04-19T19:58:45.074Z"
   },
   {
    "duration": 3,
    "start_time": "2022-04-19T19:58:46.073Z"
   },
   {
    "duration": 174,
    "start_time": "2022-04-19T19:58:48.626Z"
   },
   {
    "duration": 4,
    "start_time": "2022-04-19T20:38:32.106Z"
   },
   {
    "duration": 766,
    "start_time": "2022-04-19T20:38:32.115Z"
   },
   {
    "duration": 131,
    "start_time": "2022-04-19T20:38:32.883Z"
   },
   {
    "duration": 27,
    "start_time": "2022-04-19T20:38:33.016Z"
   },
   {
    "duration": 81,
    "start_time": "2022-04-19T20:38:33.073Z"
   },
   {
    "duration": 211,
    "start_time": "2022-04-19T20:38:33.156Z"
   },
   {
    "duration": 70,
    "start_time": "2022-04-19T20:38:33.373Z"
   },
   {
    "duration": 128,
    "start_time": "2022-04-19T20:38:33.445Z"
   },
   {
    "duration": 5,
    "start_time": "2022-04-19T20:38:33.575Z"
   },
   {
    "duration": 5,
    "start_time": "2022-04-19T20:38:33.582Z"
   },
   {
    "duration": 1034,
    "start_time": "2022-04-19T20:38:33.590Z"
   },
   {
    "duration": 686,
    "start_time": "2022-04-19T20:38:34.626Z"
   },
   {
    "duration": 5,
    "start_time": "2022-04-19T20:38:35.314Z"
   },
   {
    "duration": 18,
    "start_time": "2022-04-19T20:38:35.320Z"
   },
   {
    "duration": 0,
    "start_time": "2022-04-19T20:38:35.339Z"
   },
   {
    "duration": 0,
    "start_time": "2022-04-19T20:38:35.341Z"
   },
   {
    "duration": 0,
    "start_time": "2022-04-19T20:38:35.342Z"
   },
   {
    "duration": 0,
    "start_time": "2022-04-19T20:38:35.343Z"
   },
   {
    "duration": 0,
    "start_time": "2022-04-19T20:38:35.344Z"
   },
   {
    "duration": 1,
    "start_time": "2022-04-19T20:38:35.345Z"
   },
   {
    "duration": 0,
    "start_time": "2022-04-19T20:38:35.346Z"
   },
   {
    "duration": 0,
    "start_time": "2022-04-19T20:38:35.347Z"
   },
   {
    "duration": 0,
    "start_time": "2022-04-19T20:38:35.348Z"
   },
   {
    "duration": 186,
    "start_time": "2022-04-19T20:38:52.431Z"
   },
   {
    "duration": 543700,
    "start_time": "2022-04-19T20:38:56.922Z"
   },
   {
    "duration": 5206,
    "start_time": "2022-04-19T20:48:00.624Z"
   },
   {
    "duration": 136058,
    "start_time": "2022-04-19T20:48:05.832Z"
   },
   {
    "duration": 815,
    "start_time": "2022-04-19T20:50:21.893Z"
   },
   {
    "duration": 267572,
    "start_time": "2022-04-19T20:50:22.710Z"
   },
   {
    "duration": 897,
    "start_time": "2022-04-19T20:54:50.284Z"
   },
   {
    "duration": 389900,
    "start_time": "2022-04-19T20:54:51.187Z"
   },
   {
    "duration": 8528,
    "start_time": "2022-04-19T21:01:21.089Z"
   },
   {
    "duration": 12,
    "start_time": "2022-04-19T21:02:58.403Z"
   },
   {
    "duration": 32214,
    "start_time": "2022-04-19T21:17:55.070Z"
   },
   {
    "duration": 891,
    "start_time": "2022-04-19T21:18:27.286Z"
   },
   {
    "duration": 361113,
    "start_time": "2022-04-19T21:18:28.179Z"
   },
   {
    "duration": 9126,
    "start_time": "2022-04-19T21:24:29.295Z"
   },
   {
    "duration": 1285,
    "start_time": "2022-04-19T21:34:17.982Z"
   },
   {
    "duration": 911,
    "start_time": "2022-04-19T21:34:19.270Z"
   },
   {
    "duration": 144,
    "start_time": "2022-04-19T21:34:20.183Z"
   },
   {
    "duration": 53,
    "start_time": "2022-04-19T21:34:20.328Z"
   },
   {
    "duration": 91,
    "start_time": "2022-04-19T21:34:20.386Z"
   },
   {
    "duration": 226,
    "start_time": "2022-04-19T21:34:20.479Z"
   },
   {
    "duration": 82,
    "start_time": "2022-04-19T21:34:20.707Z"
   },
   {
    "duration": 135,
    "start_time": "2022-04-19T21:34:20.790Z"
   },
   {
    "duration": 6,
    "start_time": "2022-04-19T21:34:20.927Z"
   },
   {
    "duration": 8,
    "start_time": "2022-04-19T21:34:20.935Z"
   },
   {
    "duration": 1167,
    "start_time": "2022-04-19T21:34:20.944Z"
   },
   {
    "duration": 730,
    "start_time": "2022-04-19T21:34:22.113Z"
   },
   {
    "duration": 4,
    "start_time": "2022-04-19T21:34:22.845Z"
   },
   {
    "duration": 215,
    "start_time": "2022-04-19T21:34:22.852Z"
   },
   {
    "duration": 565827,
    "start_time": "2022-04-19T21:34:23.074Z"
   },
   {
    "duration": 5021,
    "start_time": "2022-04-19T21:43:48.903Z"
   },
   {
    "duration": 139954,
    "start_time": "2022-04-19T21:43:53.926Z"
   },
   {
    "duration": 821,
    "start_time": "2022-04-19T21:46:13.882Z"
   },
   {
    "duration": 47288,
    "start_time": "2022-04-19T21:46:14.705Z"
   },
   {
    "duration": 893,
    "start_time": "2022-04-19T21:47:01.995Z"
   },
   {
    "duration": 561906,
    "start_time": "2022-04-19T21:47:02.890Z"
   },
   {
    "duration": 8012,
    "start_time": "2022-04-19T21:56:24.798Z"
   },
   {
    "duration": 64,
    "start_time": "2022-04-19T21:56:32.824Z"
   },
   {
    "duration": 10,
    "start_time": "2022-04-19T21:57:11.942Z"
   },
   {
    "duration": 27233,
    "start_time": "2022-04-19T21:57:37.153Z"
   },
   {
    "duration": 803,
    "start_time": "2022-04-19T21:58:04.389Z"
   },
   {
    "duration": 40500,
    "start_time": "2022-04-19T21:59:05.374Z"
   },
   {
    "duration": 826,
    "start_time": "2022-04-19T21:59:45.876Z"
   },
   {
    "duration": 13,
    "start_time": "2022-04-19T21:59:55.894Z"
   },
   {
    "duration": 9092,
    "start_time": "2022-04-20T10:45:10.868Z"
   },
   {
    "duration": 8284,
    "start_time": "2022-04-20T10:45:19.971Z"
   },
   {
    "duration": 1295,
    "start_time": "2022-04-20T10:45:28.258Z"
   },
   {
    "duration": 291,
    "start_time": "2022-04-20T10:45:29.566Z"
   },
   {
    "duration": 912,
    "start_time": "2022-04-20T10:45:29.859Z"
   },
   {
    "duration": 2091,
    "start_time": "2022-04-20T10:45:30.782Z"
   },
   {
    "duration": 697,
    "start_time": "2022-04-20T10:45:32.957Z"
   },
   {
    "duration": 1701,
    "start_time": "2022-04-20T10:45:33.657Z"
   },
   {
    "duration": 91,
    "start_time": "2022-04-20T10:45:35.369Z"
   },
   {
    "duration": 91,
    "start_time": "2022-04-20T10:45:35.465Z"
   },
   {
    "duration": 7625,
    "start_time": "2022-04-20T10:45:35.559Z"
   },
   {
    "duration": 5122,
    "start_time": "2022-04-20T10:45:43.253Z"
   },
   {
    "duration": 12,
    "start_time": "2022-04-20T10:45:48.458Z"
   },
   {
    "duration": 2794,
    "start_time": "2022-04-20T10:45:48.473Z"
   },
   {
    "duration": 3087,
    "start_time": "2022-04-20T11:10:26.473Z"
   },
   {
    "duration": 2705,
    "start_time": "2022-04-20T11:10:29.562Z"
   },
   {
    "duration": 397,
    "start_time": "2022-04-20T11:10:32.269Z"
   },
   {
    "duration": 123,
    "start_time": "2022-04-20T11:10:32.672Z"
   },
   {
    "duration": 222,
    "start_time": "2022-04-20T11:10:32.853Z"
   },
   {
    "duration": 701,
    "start_time": "2022-04-20T11:10:33.077Z"
   },
   {
    "duration": 279,
    "start_time": "2022-04-20T11:10:33.781Z"
   },
   {
    "duration": 424,
    "start_time": "2022-04-20T11:10:34.064Z"
   },
   {
    "duration": 63,
    "start_time": "2022-04-20T11:10:34.492Z"
   },
   {
    "duration": 11,
    "start_time": "2022-04-20T11:10:34.563Z"
   },
   {
    "duration": 3178,
    "start_time": "2022-04-20T11:10:34.576Z"
   },
   {
    "duration": 1819,
    "start_time": "2022-04-20T11:10:37.757Z"
   },
   {
    "duration": 10,
    "start_time": "2022-04-20T11:10:39.578Z"
   },
   {
    "duration": 965,
    "start_time": "2022-04-20T11:10:39.592Z"
   },
   {
    "duration": 1105423,
    "start_time": "2022-04-20T11:10:40.559Z"
   },
   {
    "duration": 329,
    "start_time": "2022-04-20T11:29:05.985Z"
   },
   {
    "duration": 4177,
    "start_time": "2022-04-20T11:30:44.075Z"
   },
   {
    "duration": 3937,
    "start_time": "2022-04-20T11:30:48.256Z"
   },
   {
    "duration": 656,
    "start_time": "2022-04-20T11:30:52.196Z"
   },
   {
    "duration": 123,
    "start_time": "2022-04-20T11:30:52.858Z"
   },
   {
    "duration": 388,
    "start_time": "2022-04-20T11:30:52.985Z"
   },
   {
    "duration": 977,
    "start_time": "2022-04-20T11:30:53.376Z"
   },
   {
    "duration": 295,
    "start_time": "2022-04-20T11:30:54.359Z"
   },
   {
    "duration": 721,
    "start_time": "2022-04-20T11:30:54.657Z"
   },
   {
    "duration": 73,
    "start_time": "2022-04-20T11:30:55.382Z"
   },
   {
    "duration": 11,
    "start_time": "2022-04-20T11:30:55.463Z"
   },
   {
    "duration": 683,
    "start_time": "2022-04-20T11:30:55.477Z"
   },
   {
    "duration": 1,
    "start_time": "2022-04-20T11:30:56.164Z"
   },
   {
    "duration": 0,
    "start_time": "2022-04-20T11:30:56.167Z"
   },
   {
    "duration": 0,
    "start_time": "2022-04-20T11:30:56.170Z"
   },
   {
    "duration": 0,
    "start_time": "2022-04-20T11:30:56.173Z"
   },
   {
    "duration": 0,
    "start_time": "2022-04-20T11:30:56.175Z"
   },
   {
    "duration": 0,
    "start_time": "2022-04-20T11:30:56.177Z"
   },
   {
    "duration": 0,
    "start_time": "2022-04-20T11:30:56.179Z"
   },
   {
    "duration": 0,
    "start_time": "2022-04-20T11:30:56.181Z"
   },
   {
    "duration": 0,
    "start_time": "2022-04-20T11:30:56.251Z"
   },
   {
    "duration": 0,
    "start_time": "2022-04-20T11:30:56.255Z"
   },
   {
    "duration": 0,
    "start_time": "2022-04-20T11:30:56.258Z"
   },
   {
    "duration": 0,
    "start_time": "2022-04-20T11:30:56.260Z"
   },
   {
    "duration": 13,
    "start_time": "2022-04-20T11:31:17.241Z"
   },
   {
    "duration": 886,
    "start_time": "2022-04-20T11:31:17.790Z"
   },
   {
    "duration": 366,
    "start_time": "2022-04-20T11:31:29.015Z"
   },
   {
    "duration": 6,
    "start_time": "2022-04-20T11:31:29.385Z"
   },
   {
    "duration": 711,
    "start_time": "2022-04-20T11:31:29.452Z"
   },
   {
    "duration": 3598,
    "start_time": "2022-04-20T11:36:35.873Z"
   },
   {
    "duration": 2782,
    "start_time": "2022-04-20T11:36:39.474Z"
   },
   {
    "duration": 492,
    "start_time": "2022-04-20T11:36:42.260Z"
   },
   {
    "duration": 105,
    "start_time": "2022-04-20T11:36:42.755Z"
   },
   {
    "duration": 224,
    "start_time": "2022-04-20T11:36:42.866Z"
   },
   {
    "duration": 599,
    "start_time": "2022-04-20T11:36:43.093Z"
   },
   {
    "duration": 202,
    "start_time": "2022-04-20T11:36:43.694Z"
   },
   {
    "duration": 340,
    "start_time": "2022-04-20T11:36:43.952Z"
   },
   {
    "duration": 61,
    "start_time": "2022-04-20T11:36:44.294Z"
   },
   {
    "duration": 6,
    "start_time": "2022-04-20T11:36:44.357Z"
   },
   {
    "duration": 697,
    "start_time": "2022-04-20T11:36:44.366Z"
   },
   {
    "duration": 412,
    "start_time": "2022-04-20T11:36:45.066Z"
   },
   {
    "duration": 5,
    "start_time": "2022-04-20T11:36:45.481Z"
   },
   {
    "duration": 673,
    "start_time": "2022-04-20T11:36:45.490Z"
   },
   {
    "duration": 423985,
    "start_time": "2022-04-20T11:36:46.166Z"
   },
   {
    "duration": 353,
    "start_time": "2022-04-20T11:43:50.155Z"
   },
   {
    "duration": 3810,
    "start_time": "2022-04-20T11:44:11.286Z"
   },
   {
    "duration": 3670,
    "start_time": "2022-04-20T11:44:15.100Z"
   },
   {
    "duration": 510,
    "start_time": "2022-04-20T11:44:18.774Z"
   },
   {
    "duration": 179,
    "start_time": "2022-04-20T11:44:19.290Z"
   },
   {
    "duration": 484,
    "start_time": "2022-04-20T11:44:19.472Z"
   },
   {
    "duration": 944,
    "start_time": "2022-04-20T11:44:19.958Z"
   },
   {
    "duration": 300,
    "start_time": "2022-04-20T11:44:20.954Z"
   },
   {
    "duration": 695,
    "start_time": "2022-04-20T11:44:21.257Z"
   },
   {
    "duration": 8,
    "start_time": "2022-04-20T11:44:21.956Z"
   },
   {
    "duration": 80,
    "start_time": "2022-04-20T11:44:21.971Z"
   },
   {
    "duration": 3941,
    "start_time": "2022-04-20T11:44:22.054Z"
   },
   {
    "duration": 2459,
    "start_time": "2022-04-20T11:44:25.997Z"
   },
   {
    "duration": 7,
    "start_time": "2022-04-20T11:44:28.461Z"
   },
   {
    "duration": 894,
    "start_time": "2022-04-20T11:44:28.472Z"
   },
   {
    "duration": 601631,
    "start_time": "2022-04-20T11:44:29.371Z"
   },
   {
    "duration": 2396,
    "start_time": "2022-04-20T11:56:02.127Z"
   },
   {
    "duration": 1488,
    "start_time": "2022-04-20T11:56:04.526Z"
   },
   {
    "duration": 285,
    "start_time": "2022-04-20T11:56:06.017Z"
   },
   {
    "duration": 104,
    "start_time": "2022-04-20T11:56:06.304Z"
   },
   {
    "duration": 198,
    "start_time": "2022-04-20T11:56:06.413Z"
   },
   {
    "duration": 510,
    "start_time": "2022-04-20T11:56:06.615Z"
   },
   {
    "duration": 111,
    "start_time": "2022-04-20T11:56:07.131Z"
   },
   {
    "duration": 264,
    "start_time": "2022-04-20T11:56:07.244Z"
   },
   {
    "duration": 7,
    "start_time": "2022-04-20T11:56:07.510Z"
   },
   {
    "duration": 20,
    "start_time": "2022-04-20T11:56:07.521Z"
   },
   {
    "duration": 1797,
    "start_time": "2022-04-20T11:56:07.556Z"
   },
   {
    "duration": 946,
    "start_time": "2022-04-20T11:56:09.356Z"
   },
   {
    "duration": 7,
    "start_time": "2022-04-20T11:56:10.304Z"
   },
   {
    "duration": 382,
    "start_time": "2022-04-20T11:56:10.316Z"
   },
   {
    "duration": 1355102,
    "start_time": "2022-04-20T11:56:10.701Z"
   },
   {
    "duration": 3886,
    "start_time": "2022-04-20T12:19:04.567Z"
   },
   {
    "duration": 3105,
    "start_time": "2022-04-20T12:19:08.456Z"
   },
   {
    "duration": 587,
    "start_time": "2022-04-20T12:19:11.567Z"
   },
   {
    "duration": 125,
    "start_time": "2022-04-20T12:19:12.158Z"
   },
   {
    "duration": 387,
    "start_time": "2022-04-20T12:19:12.290Z"
   },
   {
    "duration": 911,
    "start_time": "2022-04-20T12:19:12.683Z"
   },
   {
    "duration": 296,
    "start_time": "2022-04-20T12:19:13.600Z"
   },
   {
    "duration": 573,
    "start_time": "2022-04-20T12:19:13.898Z"
   },
   {
    "duration": 11,
    "start_time": "2022-04-20T12:19:14.478Z"
   },
   {
    "duration": 80,
    "start_time": "2022-04-20T12:19:14.492Z"
   },
   {
    "duration": 3684,
    "start_time": "2022-04-20T12:19:14.573Z"
   },
   {
    "duration": 2352,
    "start_time": "2022-04-20T12:19:18.264Z"
   },
   {
    "duration": 35,
    "start_time": "2022-04-20T12:19:20.619Z"
   },
   {
    "duration": 934,
    "start_time": "2022-04-20T12:19:20.656Z"
   },
   {
    "duration": 298612,
    "start_time": "2022-04-20T12:19:21.595Z"
   },
   {
    "duration": 225,
    "start_time": "2022-04-20T12:24:20.252Z"
   },
   {
    "duration": 3308,
    "start_time": "2022-04-20T12:27:14.469Z"
   },
   {
    "duration": 2804,
    "start_time": "2022-04-20T12:27:17.780Z"
   },
   {
    "duration": 480,
    "start_time": "2022-04-20T12:27:20.586Z"
   },
   {
    "duration": 107,
    "start_time": "2022-04-20T12:27:21.072Z"
   },
   {
    "duration": 289,
    "start_time": "2022-04-20T12:27:21.182Z"
   },
   {
    "duration": 690,
    "start_time": "2022-04-20T12:27:21.474Z"
   },
   {
    "duration": 201,
    "start_time": "2022-04-20T12:27:22.173Z"
   },
   {
    "duration": 485,
    "start_time": "2022-04-20T12:27:22.376Z"
   },
   {
    "duration": 11,
    "start_time": "2022-04-20T12:27:22.870Z"
   },
   {
    "duration": 74,
    "start_time": "2022-04-20T12:27:22.883Z"
   },
   {
    "duration": 3213,
    "start_time": "2022-04-20T12:27:22.959Z"
   },
   {
    "duration": 2184,
    "start_time": "2022-04-20T12:27:26.174Z"
   },
   {
    "duration": 9,
    "start_time": "2022-04-20T12:27:28.364Z"
   },
   {
    "duration": 695,
    "start_time": "2022-04-20T12:27:28.376Z"
   },
   {
    "duration": 195275,
    "start_time": "2022-04-20T12:27:29.073Z"
   },
   {
    "duration": 185,
    "start_time": "2022-04-20T12:30:44.350Z"
   },
   {
    "duration": 190595,
    "start_time": "2022-04-20T12:30:44.538Z"
   },
   {
    "duration": 1262,
    "start_time": "2022-04-20T12:33:55.136Z"
   },
   {
    "duration": 1421,
    "start_time": "2022-04-20T19:16:23.001Z"
   },
   {
    "duration": 5,
    "start_time": "2022-04-20T20:43:00.890Z"
   },
   {
    "duration": 1386,
    "start_time": "2022-04-20T20:43:00.898Z"
   },
   {
    "duration": 262,
    "start_time": "2022-04-20T20:43:02.285Z"
   },
   {
    "duration": 56,
    "start_time": "2022-04-20T20:43:02.550Z"
   },
   {
    "duration": 121,
    "start_time": "2022-04-20T20:43:02.609Z"
   },
   {
    "duration": 243,
    "start_time": "2022-04-20T20:43:02.732Z"
   },
   {
    "duration": 77,
    "start_time": "2022-04-20T20:43:02.977Z"
   },
   {
    "duration": 150,
    "start_time": "2022-04-20T20:43:03.056Z"
   },
   {
    "duration": 6,
    "start_time": "2022-04-20T20:43:03.209Z"
   },
   {
    "duration": 25,
    "start_time": "2022-04-20T20:43:03.217Z"
   },
   {
    "duration": 1223,
    "start_time": "2022-04-20T20:43:03.244Z"
   },
   {
    "duration": 773,
    "start_time": "2022-04-20T20:43:04.469Z"
   },
   {
    "duration": 4,
    "start_time": "2022-04-20T20:43:05.244Z"
   },
   {
    "duration": 218,
    "start_time": "2022-04-20T20:43:05.250Z"
   },
   {
    "duration": 2,
    "start_time": "2022-04-20T20:43:05.470Z"
   },
   {
    "duration": 14,
    "start_time": "2022-04-20T20:43:05.474Z"
   },
   {
    "duration": 21,
    "start_time": "2022-04-20T20:43:05.492Z"
   },
   {
    "duration": 13,
    "start_time": "2022-04-20T20:43:05.515Z"
   },
   {
    "duration": 770212,
    "start_time": "2022-04-20T20:43:05.530Z"
   },
   {
    "duration": 100094,
    "start_time": "2022-04-20T20:55:55.744Z"
   },
   {
    "duration": 2,
    "start_time": "2022-04-20T20:57:35.840Z"
   },
   {
    "duration": 10,
    "start_time": "2022-04-20T20:57:35.844Z"
   },
   {
    "duration": 13,
    "start_time": "2022-04-20T20:57:35.856Z"
   },
   {
    "duration": 17,
    "start_time": "2022-04-20T20:57:35.872Z"
   },
   {
    "duration": 1429821,
    "start_time": "2022-04-20T20:57:35.891Z"
   },
   {
    "duration": 31315,
    "start_time": "2022-04-20T21:21:25.713Z"
   },
   {
    "duration": 150,
    "start_time": "2022-04-20T21:21:57.030Z"
   },
   {
    "duration": 0,
    "start_time": "2022-04-20T21:21:57.182Z"
   },
   {
    "duration": 0,
    "start_time": "2022-04-20T21:21:57.183Z"
   },
   {
    "duration": 0,
    "start_time": "2022-04-20T21:21:57.184Z"
   },
   {
    "duration": 0,
    "start_time": "2022-04-20T21:21:57.185Z"
   },
   {
    "duration": 0,
    "start_time": "2022-04-20T21:21:57.192Z"
   },
   {
    "duration": 358,
    "start_time": "2022-04-20T21:22:12.499Z"
   },
   {
    "duration": 136,
    "start_time": "2022-04-20T21:22:22.745Z"
   },
   {
    "duration": 122,
    "start_time": "2022-04-20T21:22:33.016Z"
   },
   {
    "duration": 7,
    "start_time": "2022-04-20T21:22:35.687Z"
   },
   {
    "duration": 149,
    "start_time": "2022-04-20T21:22:36.124Z"
   },
   {
    "duration": 5,
    "start_time": "2022-04-20T21:22:43.468Z"
   },
   {
    "duration": 915,
    "start_time": "2022-04-20T21:22:44.133Z"
   },
   {
    "duration": 622,
    "start_time": "2022-04-20T21:22:47.991Z"
   },
   {
    "duration": 5,
    "start_time": "2022-04-20T21:22:48.614Z"
   },
   {
    "duration": 239,
    "start_time": "2022-04-20T21:22:49.221Z"
   },
   {
    "duration": 11,
    "start_time": "2022-04-20T21:23:00.558Z"
   },
   {
    "duration": 1643,
    "start_time": "2022-04-20T21:23:13.366Z"
   },
   {
    "duration": 505,
    "start_time": "2022-04-20T21:28:33.389Z"
   },
   {
    "duration": 1746,
    "start_time": "2022-04-20T21:33:44.366Z"
   },
   {
    "duration": 857,
    "start_time": "2022-04-20T21:33:46.114Z"
   },
   {
    "duration": 143,
    "start_time": "2022-04-20T21:33:46.973Z"
   },
   {
    "duration": 33,
    "start_time": "2022-04-20T21:33:47.119Z"
   },
   {
    "duration": 121,
    "start_time": "2022-04-20T21:33:47.154Z"
   },
   {
    "duration": 230,
    "start_time": "2022-04-20T21:33:47.277Z"
   },
   {
    "duration": 72,
    "start_time": "2022-04-20T21:33:47.509Z"
   },
   {
    "duration": 139,
    "start_time": "2022-04-20T21:33:47.583Z"
   },
   {
    "duration": 6,
    "start_time": "2022-04-20T21:33:47.724Z"
   },
   {
    "duration": 169,
    "start_time": "2022-04-20T21:33:47.733Z"
   },
   {
    "duration": 331,
    "start_time": "2022-04-20T21:33:47.904Z"
   },
   {
    "duration": 5,
    "start_time": "2022-04-20T21:33:48.237Z"
   },
   {
    "duration": 942,
    "start_time": "2022-04-20T21:33:48.244Z"
   },
   {
    "duration": 605,
    "start_time": "2022-04-20T21:33:49.191Z"
   },
   {
    "duration": 4,
    "start_time": "2022-04-20T21:33:49.798Z"
   },
   {
    "duration": 243,
    "start_time": "2022-04-20T21:33:49.804Z"
   },
   {
    "duration": 2,
    "start_time": "2022-04-20T21:33:50.049Z"
   },
   {
    "duration": 4,
    "start_time": "2022-04-20T21:33:50.053Z"
   },
   {
    "duration": 4,
    "start_time": "2022-04-20T21:33:50.059Z"
   },
   {
    "duration": 4,
    "start_time": "2022-04-20T21:33:50.065Z"
   },
   {
    "duration": 137,
    "start_time": "2022-04-20T21:33:50.071Z"
   },
   {
    "duration": 0,
    "start_time": "2022-04-20T21:33:50.211Z"
   },
   {
    "duration": 0,
    "start_time": "2022-04-20T21:33:50.212Z"
   },
   {
    "duration": 0,
    "start_time": "2022-04-20T21:33:50.214Z"
   },
   {
    "duration": 0,
    "start_time": "2022-04-20T21:33:50.215Z"
   },
   {
    "duration": 0,
    "start_time": "2022-04-20T21:33:50.217Z"
   },
   {
    "duration": 0,
    "start_time": "2022-04-20T21:33:50.218Z"
   },
   {
    "duration": 1,
    "start_time": "2022-04-20T21:33:50.219Z"
   },
   {
    "duration": 0,
    "start_time": "2022-04-20T21:33:50.221Z"
   },
   {
    "duration": 0,
    "start_time": "2022-04-20T21:33:50.222Z"
   },
   {
    "duration": 603443,
    "start_time": "2022-04-20T21:36:36.224Z"
   },
   {
    "duration": 75218,
    "start_time": "2022-04-20T21:46:39.669Z"
   },
   {
    "duration": 4,
    "start_time": "2022-04-20T21:47:54.889Z"
   },
   {
    "duration": 4,
    "start_time": "2022-04-20T21:47:54.896Z"
   },
   {
    "duration": 3,
    "start_time": "2022-04-20T21:47:54.901Z"
   },
   {
    "duration": 6,
    "start_time": "2022-04-20T21:47:54.906Z"
   },
   {
    "duration": 685094,
    "start_time": "2022-04-20T21:47:54.913Z"
   },
   {
    "duration": 23012,
    "start_time": "2022-04-20T21:59:20.009Z"
   },
   {
    "duration": 11,
    "start_time": "2022-04-20T21:59:43.023Z"
   },
   {
    "duration": 1664,
    "start_time": "2022-04-20T21:59:43.036Z"
   },
   {
    "duration": 80078,
    "start_time": "2022-04-20T22:05:05.482Z"
   },
   {
    "duration": 10,
    "start_time": "2022-04-20T22:10:11.989Z"
   },
   {
    "duration": 217,
    "start_time": "2022-04-21T08:36:06.886Z"
   },
   {
    "duration": 192,
    "start_time": "2022-04-21T08:37:07.607Z"
   }
  ],
  "kernelspec": {
   "display_name": "Python 3 (ipykernel)",
   "language": "python",
   "name": "python3"
  },
  "language_info": {
   "codemirror_mode": {
    "name": "ipython",
    "version": 3
   },
   "file_extension": ".py",
   "mimetype": "text/x-python",
   "name": "python",
   "nbconvert_exporter": "python",
   "pygments_lexer": "ipython3",
   "version": "3.9.7"
  },
  "toc": {
   "base_numbering": 1,
   "nav_menu": {},
   "number_sections": true,
   "sideBar": true,
   "skip_h1_title": true,
   "title_cell": "Table of Contents",
   "title_sidebar": "Contents",
   "toc_cell": false,
   "toc_position": {},
   "toc_section_display": true,
   "toc_window_display": false
  }
 },
 "nbformat": 4,
 "nbformat_minor": 2
}
