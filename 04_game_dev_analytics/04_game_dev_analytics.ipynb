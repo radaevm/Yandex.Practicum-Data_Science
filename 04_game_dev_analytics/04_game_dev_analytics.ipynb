{
 "cells": [
  {
   "cell_type": "markdown",
   "metadata": {},
   "source": [
    "# Сборный проект-1. Анализ продаж компьютерных игр"
   ]
  },
  {
   "cell_type": "markdown",
   "metadata": {},
   "source": [
    "## Описание проекта\n",
    "Заказчик - интернет-магазин «Стримчик», который продаёт по всему миру компьютерные игры. Из открытых источников доступны исторические данные о продажах игр, оценки пользователей и экспертов, жанры и платформы (например, Xbox или PlayStation). Нам нужно выявить определяющие успешность игры закономерности. Это позволит сделать ставку на потенциально популярный продукт и спланировать рекламные кампании.\n",
    "Перед нами данные до 2016 года и мы планируем кампанию на 2017-й. \n",
    "\n",
    "## Описание данных\n",
    "- Name — название игры\n",
    "- Platform — платформа\n",
    "- Year_of_Release — год выпуска\n",
    "- Genre — жанр игры\n",
    "- NA_sales — продажи в Северной Америке (миллионы проданных копий)\n",
    "- EU_sales — продажи в Европе (миллионы проданных копий)\n",
    "- JP_sales — продажи в Японии (миллионы проданных копий)\n",
    "- Other_sales — продажи в других странах (миллионы проданных копий)\n",
    "- Critic_Score — оценка критиков (максимум 100)\n",
    "- User_Score — оценка пользователей (максимум 10)\n",
    "- Rating — рейтинг от организации ESRB (англ. Entertainment Software Rating Board). Эта ассоциация определяет рейтинг компьютерных игр и присваивает им подходящую возрастную категорию.\n",
    "\n",
    "Данные за 2016 год могут быть неполными."
   ]
  },
  {
   "cell_type": "markdown",
   "metadata": {},
   "source": [
    "## Изучение данных из файлов"
   ]
  },
  {
   "cell_type": "code",
   "execution_count": 78,
   "metadata": {},
   "outputs": [],
   "source": [
    "import pandas as pd\n",
    "import numpy as np\n",
    "import matplotlib.pyplot as plt\n",
    "from scipy import stats as st"
   ]
  },
  {
   "cell_type": "code",
   "execution_count": 79,
   "metadata": {},
   "outputs": [
    {
     "data": {
      "text/html": [
       "<div>\n",
       "<style scoped>\n",
       "    .dataframe tbody tr th:only-of-type {\n",
       "        vertical-align: middle;\n",
       "    }\n",
       "\n",
       "    .dataframe tbody tr th {\n",
       "        vertical-align: top;\n",
       "    }\n",
       "\n",
       "    .dataframe thead th {\n",
       "        text-align: right;\n",
       "    }\n",
       "</style>\n",
       "<table border=\"1\" class=\"dataframe\">\n",
       "  <thead>\n",
       "    <tr style=\"text-align: right;\">\n",
       "      <th></th>\n",
       "      <th>Name</th>\n",
       "      <th>Platform</th>\n",
       "      <th>Year_of_Release</th>\n",
       "      <th>Genre</th>\n",
       "      <th>NA_sales</th>\n",
       "      <th>EU_sales</th>\n",
       "      <th>JP_sales</th>\n",
       "      <th>Other_sales</th>\n",
       "      <th>Critic_Score</th>\n",
       "      <th>User_Score</th>\n",
       "      <th>Rating</th>\n",
       "    </tr>\n",
       "  </thead>\n",
       "  <tbody>\n",
       "    <tr>\n",
       "      <td>0</td>\n",
       "      <td>Wii Sports</td>\n",
       "      <td>Wii</td>\n",
       "      <td>2006.0</td>\n",
       "      <td>Sports</td>\n",
       "      <td>41.36</td>\n",
       "      <td>28.96</td>\n",
       "      <td>3.77</td>\n",
       "      <td>8.45</td>\n",
       "      <td>76.0</td>\n",
       "      <td>8</td>\n",
       "      <td>E</td>\n",
       "    </tr>\n",
       "    <tr>\n",
       "      <td>1</td>\n",
       "      <td>Super Mario Bros.</td>\n",
       "      <td>NES</td>\n",
       "      <td>1985.0</td>\n",
       "      <td>Platform</td>\n",
       "      <td>29.08</td>\n",
       "      <td>3.58</td>\n",
       "      <td>6.81</td>\n",
       "      <td>0.77</td>\n",
       "      <td>NaN</td>\n",
       "      <td>NaN</td>\n",
       "      <td>NaN</td>\n",
       "    </tr>\n",
       "    <tr>\n",
       "      <td>2</td>\n",
       "      <td>Mario Kart Wii</td>\n",
       "      <td>Wii</td>\n",
       "      <td>2008.0</td>\n",
       "      <td>Racing</td>\n",
       "      <td>15.68</td>\n",
       "      <td>12.76</td>\n",
       "      <td>3.79</td>\n",
       "      <td>3.29</td>\n",
       "      <td>82.0</td>\n",
       "      <td>8.3</td>\n",
       "      <td>E</td>\n",
       "    </tr>\n",
       "    <tr>\n",
       "      <td>3</td>\n",
       "      <td>Wii Sports Resort</td>\n",
       "      <td>Wii</td>\n",
       "      <td>2009.0</td>\n",
       "      <td>Sports</td>\n",
       "      <td>15.61</td>\n",
       "      <td>10.93</td>\n",
       "      <td>3.28</td>\n",
       "      <td>2.95</td>\n",
       "      <td>80.0</td>\n",
       "      <td>8</td>\n",
       "      <td>E</td>\n",
       "    </tr>\n",
       "    <tr>\n",
       "      <td>4</td>\n",
       "      <td>Pokemon Red/Pokemon Blue</td>\n",
       "      <td>GB</td>\n",
       "      <td>1996.0</td>\n",
       "      <td>Role-Playing</td>\n",
       "      <td>11.27</td>\n",
       "      <td>8.89</td>\n",
       "      <td>10.22</td>\n",
       "      <td>1.00</td>\n",
       "      <td>NaN</td>\n",
       "      <td>NaN</td>\n",
       "      <td>NaN</td>\n",
       "    </tr>\n",
       "    <tr>\n",
       "      <td>5</td>\n",
       "      <td>Tetris</td>\n",
       "      <td>GB</td>\n",
       "      <td>1989.0</td>\n",
       "      <td>Puzzle</td>\n",
       "      <td>23.20</td>\n",
       "      <td>2.26</td>\n",
       "      <td>4.22</td>\n",
       "      <td>0.58</td>\n",
       "      <td>NaN</td>\n",
       "      <td>NaN</td>\n",
       "      <td>NaN</td>\n",
       "    </tr>\n",
       "    <tr>\n",
       "      <td>6</td>\n",
       "      <td>New Super Mario Bros.</td>\n",
       "      <td>DS</td>\n",
       "      <td>2006.0</td>\n",
       "      <td>Platform</td>\n",
       "      <td>11.28</td>\n",
       "      <td>9.14</td>\n",
       "      <td>6.50</td>\n",
       "      <td>2.88</td>\n",
       "      <td>89.0</td>\n",
       "      <td>8.5</td>\n",
       "      <td>E</td>\n",
       "    </tr>\n",
       "    <tr>\n",
       "      <td>7</td>\n",
       "      <td>Wii Play</td>\n",
       "      <td>Wii</td>\n",
       "      <td>2006.0</td>\n",
       "      <td>Misc</td>\n",
       "      <td>13.96</td>\n",
       "      <td>9.18</td>\n",
       "      <td>2.93</td>\n",
       "      <td>2.84</td>\n",
       "      <td>58.0</td>\n",
       "      <td>6.6</td>\n",
       "      <td>E</td>\n",
       "    </tr>\n",
       "    <tr>\n",
       "      <td>8</td>\n",
       "      <td>New Super Mario Bros. Wii</td>\n",
       "      <td>Wii</td>\n",
       "      <td>2009.0</td>\n",
       "      <td>Platform</td>\n",
       "      <td>14.44</td>\n",
       "      <td>6.94</td>\n",
       "      <td>4.70</td>\n",
       "      <td>2.24</td>\n",
       "      <td>87.0</td>\n",
       "      <td>8.4</td>\n",
       "      <td>E</td>\n",
       "    </tr>\n",
       "    <tr>\n",
       "      <td>9</td>\n",
       "      <td>Duck Hunt</td>\n",
       "      <td>NES</td>\n",
       "      <td>1984.0</td>\n",
       "      <td>Shooter</td>\n",
       "      <td>26.93</td>\n",
       "      <td>0.63</td>\n",
       "      <td>0.28</td>\n",
       "      <td>0.47</td>\n",
       "      <td>NaN</td>\n",
       "      <td>NaN</td>\n",
       "      <td>NaN</td>\n",
       "    </tr>\n",
       "  </tbody>\n",
       "</table>\n",
       "</div>"
      ],
      "text/plain": [
       "                        Name Platform  Year_of_Release         Genre  \\\n",
       "0                 Wii Sports      Wii           2006.0        Sports   \n",
       "1          Super Mario Bros.      NES           1985.0      Platform   \n",
       "2             Mario Kart Wii      Wii           2008.0        Racing   \n",
       "3          Wii Sports Resort      Wii           2009.0        Sports   \n",
       "4   Pokemon Red/Pokemon Blue       GB           1996.0  Role-Playing   \n",
       "5                     Tetris       GB           1989.0        Puzzle   \n",
       "6      New Super Mario Bros.       DS           2006.0      Platform   \n",
       "7                   Wii Play      Wii           2006.0          Misc   \n",
       "8  New Super Mario Bros. Wii      Wii           2009.0      Platform   \n",
       "9                  Duck Hunt      NES           1984.0       Shooter   \n",
       "\n",
       "   NA_sales  EU_sales  JP_sales  Other_sales  Critic_Score User_Score Rating  \n",
       "0     41.36     28.96      3.77         8.45          76.0          8      E  \n",
       "1     29.08      3.58      6.81         0.77           NaN        NaN    NaN  \n",
       "2     15.68     12.76      3.79         3.29          82.0        8.3      E  \n",
       "3     15.61     10.93      3.28         2.95          80.0          8      E  \n",
       "4     11.27      8.89     10.22         1.00           NaN        NaN    NaN  \n",
       "5     23.20      2.26      4.22         0.58           NaN        NaN    NaN  \n",
       "6     11.28      9.14      6.50         2.88          89.0        8.5      E  \n",
       "7     13.96      9.18      2.93         2.84          58.0        6.6      E  \n",
       "8     14.44      6.94      4.70         2.24          87.0        8.4      E  \n",
       "9     26.93      0.63      0.28         0.47           NaN        NaN    NaN  "
      ]
     },
     "execution_count": 79,
     "metadata": {},
     "output_type": "execute_result"
    }
   ],
   "source": [
    "data = pd.read_csv('/datasets/games.csv')\n",
    "data.head(10)"
   ]
  },
  {
   "cell_type": "code",
   "execution_count": 80,
   "metadata": {},
   "outputs": [
    {
     "name": "stdout",
     "output_type": "stream",
     "text": [
      "<class 'pandas.core.frame.DataFrame'>\n",
      "RangeIndex: 16715 entries, 0 to 16714\n",
      "Data columns (total 11 columns):\n",
      "Name               16713 non-null object\n",
      "Platform           16715 non-null object\n",
      "Year_of_Release    16446 non-null float64\n",
      "Genre              16713 non-null object\n",
      "NA_sales           16715 non-null float64\n",
      "EU_sales           16715 non-null float64\n",
      "JP_sales           16715 non-null float64\n",
      "Other_sales        16715 non-null float64\n",
      "Critic_Score       8137 non-null float64\n",
      "User_Score         10014 non-null object\n",
      "Rating             9949 non-null object\n",
      "dtypes: float64(6), object(5)\n",
      "memory usage: 1.4+ MB\n"
     ]
    }
   ],
   "source": [
    "data.info()"
   ]
  },
  {
   "cell_type": "code",
   "execution_count": 81,
   "metadata": {
    "scrolled": true
   },
   "outputs": [
    {
     "data": {
      "text/html": [
       "<div>\n",
       "<style scoped>\n",
       "    .dataframe tbody tr th:only-of-type {\n",
       "        vertical-align: middle;\n",
       "    }\n",
       "\n",
       "    .dataframe tbody tr th {\n",
       "        vertical-align: top;\n",
       "    }\n",
       "\n",
       "    .dataframe thead th {\n",
       "        text-align: right;\n",
       "    }\n",
       "</style>\n",
       "<table border=\"1\" class=\"dataframe\">\n",
       "  <thead>\n",
       "    <tr style=\"text-align: right;\">\n",
       "      <th></th>\n",
       "      <th>Year_of_Release</th>\n",
       "      <th>NA_sales</th>\n",
       "      <th>EU_sales</th>\n",
       "      <th>JP_sales</th>\n",
       "      <th>Other_sales</th>\n",
       "      <th>Critic_Score</th>\n",
       "    </tr>\n",
       "  </thead>\n",
       "  <tbody>\n",
       "    <tr>\n",
       "      <td>count</td>\n",
       "      <td>16446.000000</td>\n",
       "      <td>16715.000000</td>\n",
       "      <td>16715.000000</td>\n",
       "      <td>16715.000000</td>\n",
       "      <td>16715.000000</td>\n",
       "      <td>8137.000000</td>\n",
       "    </tr>\n",
       "    <tr>\n",
       "      <td>mean</td>\n",
       "      <td>2006.484616</td>\n",
       "      <td>0.263377</td>\n",
       "      <td>0.145060</td>\n",
       "      <td>0.077617</td>\n",
       "      <td>0.047342</td>\n",
       "      <td>68.967679</td>\n",
       "    </tr>\n",
       "    <tr>\n",
       "      <td>std</td>\n",
       "      <td>5.877050</td>\n",
       "      <td>0.813604</td>\n",
       "      <td>0.503339</td>\n",
       "      <td>0.308853</td>\n",
       "      <td>0.186731</td>\n",
       "      <td>13.938165</td>\n",
       "    </tr>\n",
       "    <tr>\n",
       "      <td>min</td>\n",
       "      <td>1980.000000</td>\n",
       "      <td>0.000000</td>\n",
       "      <td>0.000000</td>\n",
       "      <td>0.000000</td>\n",
       "      <td>0.000000</td>\n",
       "      <td>13.000000</td>\n",
       "    </tr>\n",
       "    <tr>\n",
       "      <td>25%</td>\n",
       "      <td>2003.000000</td>\n",
       "      <td>0.000000</td>\n",
       "      <td>0.000000</td>\n",
       "      <td>0.000000</td>\n",
       "      <td>0.000000</td>\n",
       "      <td>60.000000</td>\n",
       "    </tr>\n",
       "    <tr>\n",
       "      <td>50%</td>\n",
       "      <td>2007.000000</td>\n",
       "      <td>0.080000</td>\n",
       "      <td>0.020000</td>\n",
       "      <td>0.000000</td>\n",
       "      <td>0.010000</td>\n",
       "      <td>71.000000</td>\n",
       "    </tr>\n",
       "    <tr>\n",
       "      <td>75%</td>\n",
       "      <td>2010.000000</td>\n",
       "      <td>0.240000</td>\n",
       "      <td>0.110000</td>\n",
       "      <td>0.040000</td>\n",
       "      <td>0.030000</td>\n",
       "      <td>79.000000</td>\n",
       "    </tr>\n",
       "    <tr>\n",
       "      <td>max</td>\n",
       "      <td>2016.000000</td>\n",
       "      <td>41.360000</td>\n",
       "      <td>28.960000</td>\n",
       "      <td>10.220000</td>\n",
       "      <td>10.570000</td>\n",
       "      <td>98.000000</td>\n",
       "    </tr>\n",
       "  </tbody>\n",
       "</table>\n",
       "</div>"
      ],
      "text/plain": [
       "       Year_of_Release      NA_sales      EU_sales      JP_sales  \\\n",
       "count     16446.000000  16715.000000  16715.000000  16715.000000   \n",
       "mean       2006.484616      0.263377      0.145060      0.077617   \n",
       "std           5.877050      0.813604      0.503339      0.308853   \n",
       "min        1980.000000      0.000000      0.000000      0.000000   \n",
       "25%        2003.000000      0.000000      0.000000      0.000000   \n",
       "50%        2007.000000      0.080000      0.020000      0.000000   \n",
       "75%        2010.000000      0.240000      0.110000      0.040000   \n",
       "max        2016.000000     41.360000     28.960000     10.220000   \n",
       "\n",
       "        Other_sales  Critic_Score  \n",
       "count  16715.000000   8137.000000  \n",
       "mean       0.047342     68.967679  \n",
       "std        0.186731     13.938165  \n",
       "min        0.000000     13.000000  \n",
       "25%        0.000000     60.000000  \n",
       "50%        0.010000     71.000000  \n",
       "75%        0.030000     79.000000  \n",
       "max       10.570000     98.000000  "
      ]
     },
     "execution_count": 81,
     "metadata": {},
     "output_type": "execute_result"
    }
   ],
   "source": [
    "data.describe()"
   ]
  },
  {
   "cell_type": "code",
   "execution_count": 82,
   "metadata": {},
   "outputs": [
    {
     "name": "stdout",
     "output_type": "stream",
     "text": [
      "Уникальных \"Platform\": 31 ['Wii' 'NES' 'GB' 'DS' 'X360' 'PS3' 'PS2' 'SNES' 'GBA' 'PS4' '3DS' 'N64'\n",
      " 'PS' 'XB' 'PC' '2600' 'PSP' 'XOne' 'WiiU' 'GC' 'GEN' 'DC' 'PSV' 'SAT'\n",
      " 'SCD' 'WS' 'NG' 'TG16' '3DO' 'GG' 'PCFX']\n"
     ]
    }
   ],
   "source": [
    "print('Уникальных \"Platform\":', len(data['Platform'].unique()), data['Platform'].unique())"
   ]
  },
  {
   "cell_type": "code",
   "execution_count": 83,
   "metadata": {},
   "outputs": [
    {
     "name": "stdout",
     "output_type": "stream",
     "text": [
      "Уникальных \"Genre\": 13 ['Sports' 'Platform' 'Racing' 'Role-Playing' 'Puzzle' 'Misc' 'Shooter'\n",
      " 'Simulation' 'Action' 'Fighting' 'Adventure' 'Strategy' nan]\n"
     ]
    }
   ],
   "source": [
    "print('Уникальных \"Genre\":', len(data['Genre'].unique()), data['Genre'].unique())"
   ]
  },
  {
   "cell_type": "markdown",
   "metadata": {},
   "source": [
    "Из данных видим, что имеются пропуски в колонках *Year_of_Release, Critic_Score, User_Score, Rating*. Колонка *User_Score* имеет не верный формат *object*. В *Platform* и *Genre* дубликаты отсутствуют."
   ]
  },
  {
   "cell_type": "markdown",
   "metadata": {},
   "source": [
    "## Подготовка  данных"
   ]
  },
  {
   "cell_type": "markdown",
   "metadata": {},
   "source": [
    "Заменим названия столбцов (приведем к нижнему регистру)"
   ]
  },
  {
   "cell_type": "code",
   "execution_count": 84,
   "metadata": {},
   "outputs": [
    {
     "data": {
      "text/html": [
       "<div>\n",
       "<style scoped>\n",
       "    .dataframe tbody tr th:only-of-type {\n",
       "        vertical-align: middle;\n",
       "    }\n",
       "\n",
       "    .dataframe tbody tr th {\n",
       "        vertical-align: top;\n",
       "    }\n",
       "\n",
       "    .dataframe thead th {\n",
       "        text-align: right;\n",
       "    }\n",
       "</style>\n",
       "<table border=\"1\" class=\"dataframe\">\n",
       "  <thead>\n",
       "    <tr style=\"text-align: right;\">\n",
       "      <th></th>\n",
       "      <th>name</th>\n",
       "      <th>platform</th>\n",
       "      <th>year_of_release</th>\n",
       "      <th>genre</th>\n",
       "      <th>na_sales</th>\n",
       "      <th>eu_sales</th>\n",
       "      <th>jp_sales</th>\n",
       "      <th>other_sales</th>\n",
       "      <th>critic_score</th>\n",
       "      <th>user_score</th>\n",
       "      <th>rating</th>\n",
       "    </tr>\n",
       "  </thead>\n",
       "  <tbody>\n",
       "    <tr>\n",
       "      <td>0</td>\n",
       "      <td>Wii Sports</td>\n",
       "      <td>Wii</td>\n",
       "      <td>2006.0</td>\n",
       "      <td>Sports</td>\n",
       "      <td>41.36</td>\n",
       "      <td>28.96</td>\n",
       "      <td>3.77</td>\n",
       "      <td>8.45</td>\n",
       "      <td>76.0</td>\n",
       "      <td>8</td>\n",
       "      <td>E</td>\n",
       "    </tr>\n",
       "  </tbody>\n",
       "</table>\n",
       "</div>"
      ],
      "text/plain": [
       "         name platform  year_of_release   genre  na_sales  eu_sales  jp_sales  \\\n",
       "0  Wii Sports      Wii           2006.0  Sports     41.36     28.96      3.77   \n",
       "\n",
       "   other_sales  critic_score user_score rating  \n",
       "0         8.45          76.0          8      E  "
      ]
     },
     "execution_count": 84,
     "metadata": {},
     "output_type": "execute_result"
    }
   ],
   "source": [
    "data.columns = data.columns.str.lower()\n",
    "data.head(1)"
   ]
  },
  {
   "cell_type": "markdown",
   "metadata": {},
   "source": [
    "Преобразуем данные в нужные типы:\n",
    "- year_of_release в **int**, предварительно заменив пропуски на **0**. В этой колонке указан год, поэтому нам достаточно целочисленного типа для дальнейших расчетов\n",
    "- user_score в **float**. В этой колонке представлены дробные числа, однако тип данных указан как **object**. Разберемся почему и преобразуем данные"
   ]
  },
  {
   "cell_type": "code",
   "execution_count": 85,
   "metadata": {},
   "outputs": [],
   "source": [
    "data['year_of_release'] = data['year_of_release'].fillna(0)"
   ]
  },
  {
   "cell_type": "markdown",
   "metadata": {},
   "source": [
    "С помощью функции заменим **0** на среднее значениее года в зависимости от соответствующей игровой платформы:"
   ]
  },
  {
   "cell_type": "code",
   "execution_count": 86,
   "metadata": {
    "scrolled": true
   },
   "outputs": [
    {
     "data": {
      "text/html": [
       "<div>\n",
       "<style scoped>\n",
       "    .dataframe tbody tr th:only-of-type {\n",
       "        vertical-align: middle;\n",
       "    }\n",
       "\n",
       "    .dataframe tbody tr th {\n",
       "        vertical-align: top;\n",
       "    }\n",
       "\n",
       "    .dataframe thead th {\n",
       "        text-align: right;\n",
       "    }\n",
       "</style>\n",
       "<table border=\"1\" class=\"dataframe\">\n",
       "  <thead>\n",
       "    <tr style=\"text-align: right;\">\n",
       "      <th></th>\n",
       "      <th>name</th>\n",
       "      <th>platform</th>\n",
       "      <th>year_of_release</th>\n",
       "      <th>genre</th>\n",
       "      <th>na_sales</th>\n",
       "      <th>eu_sales</th>\n",
       "      <th>jp_sales</th>\n",
       "      <th>other_sales</th>\n",
       "      <th>critic_score</th>\n",
       "      <th>user_score</th>\n",
       "      <th>rating</th>\n",
       "    </tr>\n",
       "  </thead>\n",
       "  <tbody>\n",
       "    <tr>\n",
       "      <td>0</td>\n",
       "      <td>Wii Sports</td>\n",
       "      <td>Wii</td>\n",
       "      <td>2006</td>\n",
       "      <td>Sports</td>\n",
       "      <td>41.36</td>\n",
       "      <td>28.96</td>\n",
       "      <td>3.77</td>\n",
       "      <td>8.45</td>\n",
       "      <td>76.0</td>\n",
       "      <td>8</td>\n",
       "      <td>E</td>\n",
       "    </tr>\n",
       "    <tr>\n",
       "      <td>1</td>\n",
       "      <td>Super Mario Bros.</td>\n",
       "      <td>NES</td>\n",
       "      <td>1985</td>\n",
       "      <td>Platform</td>\n",
       "      <td>29.08</td>\n",
       "      <td>3.58</td>\n",
       "      <td>6.81</td>\n",
       "      <td>0.77</td>\n",
       "      <td>NaN</td>\n",
       "      <td>NaN</td>\n",
       "      <td>NaN</td>\n",
       "    </tr>\n",
       "    <tr>\n",
       "      <td>2</td>\n",
       "      <td>Mario Kart Wii</td>\n",
       "      <td>Wii</td>\n",
       "      <td>2008</td>\n",
       "      <td>Racing</td>\n",
       "      <td>15.68</td>\n",
       "      <td>12.76</td>\n",
       "      <td>3.79</td>\n",
       "      <td>3.29</td>\n",
       "      <td>82.0</td>\n",
       "      <td>8.3</td>\n",
       "      <td>E</td>\n",
       "    </tr>\n",
       "    <tr>\n",
       "      <td>3</td>\n",
       "      <td>Wii Sports Resort</td>\n",
       "      <td>Wii</td>\n",
       "      <td>2009</td>\n",
       "      <td>Sports</td>\n",
       "      <td>15.61</td>\n",
       "      <td>10.93</td>\n",
       "      <td>3.28</td>\n",
       "      <td>2.95</td>\n",
       "      <td>80.0</td>\n",
       "      <td>8</td>\n",
       "      <td>E</td>\n",
       "    </tr>\n",
       "    <tr>\n",
       "      <td>4</td>\n",
       "      <td>Pokemon Red/Pokemon Blue</td>\n",
       "      <td>GB</td>\n",
       "      <td>1996</td>\n",
       "      <td>Role-Playing</td>\n",
       "      <td>11.27</td>\n",
       "      <td>8.89</td>\n",
       "      <td>10.22</td>\n",
       "      <td>1.00</td>\n",
       "      <td>NaN</td>\n",
       "      <td>NaN</td>\n",
       "      <td>NaN</td>\n",
       "    </tr>\n",
       "  </tbody>\n",
       "</table>\n",
       "</div>"
      ],
      "text/plain": [
       "                       name platform  year_of_release         genre  na_sales  \\\n",
       "0                Wii Sports      Wii             2006        Sports     41.36   \n",
       "1         Super Mario Bros.      NES             1985      Platform     29.08   \n",
       "2            Mario Kart Wii      Wii             2008        Racing     15.68   \n",
       "3         Wii Sports Resort      Wii             2009        Sports     15.61   \n",
       "4  Pokemon Red/Pokemon Blue       GB             1996  Role-Playing     11.27   \n",
       "\n",
       "   eu_sales  jp_sales  other_sales  critic_score user_score rating  \n",
       "0     28.96      3.77         8.45          76.0          8      E  \n",
       "1      3.58      6.81         0.77           NaN        NaN    NaN  \n",
       "2     12.76      3.79         3.29          82.0        8.3      E  \n",
       "3     10.93      3.28         2.95          80.0          8      E  \n",
       "4      8.89     10.22         1.00           NaN        NaN    NaN  "
      ]
     },
     "execution_count": 86,
     "metadata": {},
     "output_type": "execute_result"
    }
   ],
   "source": [
    "data_year = data.groupby('platform')['year_of_release'].median()\n",
    " \n",
    "def func(row):\n",
    "    if row['year_of_release'] == 0:\n",
    "        return data_year.loc[row['platform']]\n",
    "    return row['year_of_release']\n",
    "\n",
    "data['year_of_release'] = data.apply(func, axis=1).astype('int')\n",
    "\n",
    "data.head()"
   ]
  },
  {
   "cell_type": "markdown",
   "metadata": {},
   "source": [
    "Обработаем столбец 'user_score':"
   ]
  },
  {
   "cell_type": "code",
   "execution_count": 87,
   "metadata": {},
   "outputs": [
    {
     "data": {
      "text/plain": [
       "tbd    2424\n",
       "7.8     324\n",
       "8       290\n",
       "8.2     282\n",
       "8.3     254\n",
       "       ... \n",
       "1         2\n",
       "0.9       2\n",
       "9.6       2\n",
       "0         1\n",
       "9.7       1\n",
       "Name: user_score, Length: 96, dtype: int64"
      ]
     },
     "execution_count": 87,
     "metadata": {},
     "output_type": "execute_result"
    }
   ],
   "source": [
    "data['user_score'].value_counts()"
   ]
  },
  {
   "cell_type": "markdown",
   "metadata": {},
   "source": [
    "Значение **tbd** (дословно - \"Подлежит определению\") означет что данные о рейтинге отсутствуют или слишком мало оценок. Заменим это значение на ~~**0**~~ **NaN** ~~и преобразуем столбец во **float**~~"
   ]
  },
  {
   "cell_type": "code",
   "execution_count": 88,
   "metadata": {},
   "outputs": [
    {
     "data": {
      "text/plain": [
       "7.8    324\n",
       "8.0    290\n",
       "8.2    282\n",
       "8.3    254\n",
       "8.5    253\n",
       "      ... \n",
       "9.6      2\n",
       "0.6      2\n",
       "1.9      2\n",
       "9.7      1\n",
       "0.0      1\n",
       "Name: user_score, Length: 95, dtype: int64"
      ]
     },
     "execution_count": 88,
     "metadata": {},
     "output_type": "execute_result"
    }
   ],
   "source": [
    "#data['user_score'] = data['user_score'].replace('tbd', 'NaN').astype('float64')\n",
    "#data['user_score'] = data['user_score'].astype('float64')\n",
    "data['user_score'] =  pd.to_numeric(data['user_score'], errors='coerce')\n",
    "#data['critic_score'] =  pd.to_numeric(data['user_score'], errors='coerce')\n",
    "\n",
    "data['user_score'].value_counts()"
   ]
  },
  {
   "cell_type": "markdown",
   "metadata": {},
   "source": [
    "Оброботаем пропуски:"
   ]
  },
  {
   "cell_type": "code",
   "execution_count": 89,
   "metadata": {},
   "outputs": [
    {
     "data": {
      "text/plain": [
       "name                  2\n",
       "platform              0\n",
       "year_of_release       0\n",
       "genre                 2\n",
       "na_sales              0\n",
       "eu_sales              0\n",
       "jp_sales              0\n",
       "other_sales           0\n",
       "critic_score       8578\n",
       "user_score         9125\n",
       "rating             6766\n",
       "dtype: int64"
      ]
     },
     "execution_count": 89,
     "metadata": {},
     "output_type": "execute_result"
    }
   ],
   "source": [
    "data.isna().sum()"
   ]
  },
  {
   "cell_type": "markdown",
   "metadata": {},
   "source": [
    "У половины данных ~~в *critic_score* и чуть менее половины данных в *user_score* и~~ *rating* отсутствуют данные. Это может быть обусловлено как и отсутствием системы рейтингов на момент выхода игры, так и недостаточностью оценок для новых игр и иными причинами. Заменим пропуски на **undef** (от \"*undefined*\")"
   ]
  },
  {
   "cell_type": "code",
   "execution_count": 90,
   "metadata": {},
   "outputs": [],
   "source": [
    "#data['critic_score'] = data['critic_score'].fillna(0)\n",
    "#data['user_score'] = data['user_score'].fillna(0)\n",
    "#data['rating'] = data['rating'].fillna(0)\n",
    "data['rating'] = data['rating'].fillna('undef')"
   ]
  },
  {
   "cell_type": "markdown",
   "metadata": {},
   "source": [
    "Строки с отсутствием названия игры (всего 2 строки) удалим и проверим результат предобработки"
   ]
  },
  {
   "cell_type": "code",
   "execution_count": 91,
   "metadata": {},
   "outputs": [
    {
     "data": {
      "text/plain": [
       "name                  0\n",
       "platform              0\n",
       "year_of_release       0\n",
       "genre                 0\n",
       "na_sales              0\n",
       "eu_sales              0\n",
       "jp_sales              0\n",
       "other_sales           0\n",
       "critic_score       8576\n",
       "user_score         9123\n",
       "rating                0\n",
       "dtype: int64"
      ]
     },
     "execution_count": 91,
     "metadata": {},
     "output_type": "execute_result"
    }
   ],
   "source": [
    "data.dropna(subset = ['name'], inplace = True)\n",
    "data.isna().sum()"
   ]
  },
  {
   "cell_type": "markdown",
   "metadata": {},
   "source": [
    "Проверим данные в колонках **platform, genre, rating** на дубликаты"
   ]
  },
  {
   "cell_type": "code",
   "execution_count": 92,
   "metadata": {},
   "outputs": [
    {
     "data": {
      "text/plain": [
       "Action          3369\n",
       "Sports          2348\n",
       "Misc            1750\n",
       "Role-Playing    1498\n",
       "Shooter         1323\n",
       "Adventure       1303\n",
       "Racing          1249\n",
       "Platform         888\n",
       "Simulation       873\n",
       "Fighting         849\n",
       "Strategy         683\n",
       "Puzzle           580\n",
       "Name: genre, dtype: int64"
      ]
     },
     "execution_count": 92,
     "metadata": {},
     "output_type": "execute_result"
    }
   ],
   "source": [
    "data['genre'].value_counts()"
   ]
  },
  {
   "cell_type": "code",
   "execution_count": 93,
   "metadata": {},
   "outputs": [
    {
     "data": {
      "text/plain": [
       "PS2     2161\n",
       "DS      2151\n",
       "PS3     1331\n",
       "Wii     1320\n",
       "X360    1262\n",
       "PSP     1209\n",
       "PS      1197\n",
       "PC       974\n",
       "XB       824\n",
       "GBA      822\n",
       "GC       556\n",
       "3DS      520\n",
       "PSV      430\n",
       "PS4      392\n",
       "N64      319\n",
       "XOne     247\n",
       "SNES     239\n",
       "SAT      173\n",
       "WiiU     147\n",
       "2600     133\n",
       "GB        98\n",
       "NES       98\n",
       "DC        52\n",
       "GEN       27\n",
       "NG        12\n",
       "WS         6\n",
       "SCD        6\n",
       "3DO        3\n",
       "TG16       2\n",
       "PCFX       1\n",
       "GG         1\n",
       "Name: platform, dtype: int64"
      ]
     },
     "execution_count": 93,
     "metadata": {},
     "output_type": "execute_result"
    }
   ],
   "source": [
    "data['platform'].value_counts()"
   ]
  },
  {
   "cell_type": "code",
   "execution_count": 94,
   "metadata": {},
   "outputs": [
    {
     "data": {
      "text/plain": [
       "undef    6764\n",
       "E        3990\n",
       "T        2961\n",
       "M        1563\n",
       "E10+     1420\n",
       "EC          8\n",
       "RP          3\n",
       "K-A         3\n",
       "AO          1\n",
       "Name: rating, dtype: int64"
      ]
     },
     "execution_count": 94,
     "metadata": {},
     "output_type": "execute_result"
    }
   ],
   "source": [
    "data['rating'].value_counts()"
   ]
  },
  {
   "cell_type": "code",
   "execution_count": 95,
   "metadata": {},
   "outputs": [
    {
     "data": {
      "text/plain": [
       "0"
      ]
     },
     "execution_count": 95,
     "metadata": {},
     "output_type": "execute_result"
    }
   ],
   "source": [
    "data.duplicated().sum()"
   ]
  },
  {
   "cell_type": "markdown",
   "metadata": {},
   "source": [
    "Также проверим столбец *name* на повторные названия"
   ]
  },
  {
   "cell_type": "code",
   "execution_count": 96,
   "metadata": {},
   "outputs": [
    {
     "data": {
      "text/plain": [
       "Need for Speed: Most Wanted           12\n",
       "Ratatouille                            9\n",
       "LEGO Marvel Super Heroes               9\n",
       "Madden NFL 07                          9\n",
       "FIFA 14                                9\n",
       "                                      ..\n",
       "Oddworld: Abe's Oddysee                1\n",
       "Cyber Sled                             1\n",
       "RollerCoaster Tycoon 3: Platinum       1\n",
       "Lizzie McGuire 3: Homecoming Havoc     1\n",
       "Tekken 3                               1\n",
       "Name: name, Length: 11559, dtype: int64"
      ]
     },
     "execution_count": 96,
     "metadata": {},
     "output_type": "execute_result"
    }
   ],
   "source": [
    "data['name'].value_counts()"
   ]
  },
  {
   "cell_type": "code",
   "execution_count": 97,
   "metadata": {},
   "outputs": [
    {
     "data": {
      "text/html": [
       "<div>\n",
       "<style scoped>\n",
       "    .dataframe tbody tr th:only-of-type {\n",
       "        vertical-align: middle;\n",
       "    }\n",
       "\n",
       "    .dataframe tbody tr th {\n",
       "        vertical-align: top;\n",
       "    }\n",
       "\n",
       "    .dataframe thead th {\n",
       "        text-align: right;\n",
       "    }\n",
       "</style>\n",
       "<table border=\"1\" class=\"dataframe\">\n",
       "  <thead>\n",
       "    <tr style=\"text-align: right;\">\n",
       "      <th></th>\n",
       "      <th>name</th>\n",
       "      <th>platform</th>\n",
       "      <th>year_of_release</th>\n",
       "      <th>genre</th>\n",
       "      <th>na_sales</th>\n",
       "      <th>eu_sales</th>\n",
       "      <th>jp_sales</th>\n",
       "      <th>other_sales</th>\n",
       "      <th>critic_score</th>\n",
       "      <th>user_score</th>\n",
       "      <th>rating</th>\n",
       "    </tr>\n",
       "  </thead>\n",
       "  <tbody>\n",
       "    <tr>\n",
       "      <td>253</td>\n",
       "      <td>Need for Speed: Most Wanted</td>\n",
       "      <td>PS2</td>\n",
       "      <td>2005</td>\n",
       "      <td>Racing</td>\n",
       "      <td>2.03</td>\n",
       "      <td>1.79</td>\n",
       "      <td>0.08</td>\n",
       "      <td>0.47</td>\n",
       "      <td>82.0</td>\n",
       "      <td>9.1</td>\n",
       "      <td>T</td>\n",
       "    </tr>\n",
       "    <tr>\n",
       "      <td>523</td>\n",
       "      <td>Need for Speed: Most Wanted</td>\n",
       "      <td>PS3</td>\n",
       "      <td>2012</td>\n",
       "      <td>Racing</td>\n",
       "      <td>0.71</td>\n",
       "      <td>1.46</td>\n",
       "      <td>0.06</td>\n",
       "      <td>0.58</td>\n",
       "      <td>NaN</td>\n",
       "      <td>NaN</td>\n",
       "      <td>undef</td>\n",
       "    </tr>\n",
       "    <tr>\n",
       "      <td>1190</td>\n",
       "      <td>Need for Speed: Most Wanted</td>\n",
       "      <td>X360</td>\n",
       "      <td>2012</td>\n",
       "      <td>Racing</td>\n",
       "      <td>0.62</td>\n",
       "      <td>0.78</td>\n",
       "      <td>0.01</td>\n",
       "      <td>0.15</td>\n",
       "      <td>83.0</td>\n",
       "      <td>8.5</td>\n",
       "      <td>T</td>\n",
       "    </tr>\n",
       "    <tr>\n",
       "      <td>1591</td>\n",
       "      <td>Need for Speed: Most Wanted</td>\n",
       "      <td>X360</td>\n",
       "      <td>2005</td>\n",
       "      <td>Racing</td>\n",
       "      <td>1.00</td>\n",
       "      <td>0.13</td>\n",
       "      <td>0.02</td>\n",
       "      <td>0.10</td>\n",
       "      <td>83.0</td>\n",
       "      <td>8.5</td>\n",
       "      <td>T</td>\n",
       "    </tr>\n",
       "    <tr>\n",
       "      <td>1998</td>\n",
       "      <td>Need for Speed: Most Wanted</td>\n",
       "      <td>XB</td>\n",
       "      <td>2005</td>\n",
       "      <td>Racing</td>\n",
       "      <td>0.53</td>\n",
       "      <td>0.46</td>\n",
       "      <td>0.00</td>\n",
       "      <td>0.05</td>\n",
       "      <td>83.0</td>\n",
       "      <td>8.8</td>\n",
       "      <td>T</td>\n",
       "    </tr>\n",
       "    <tr>\n",
       "      <td>2048</td>\n",
       "      <td>Need for Speed: Most Wanted</td>\n",
       "      <td>PSV</td>\n",
       "      <td>2012</td>\n",
       "      <td>Racing</td>\n",
       "      <td>0.33</td>\n",
       "      <td>0.45</td>\n",
       "      <td>0.01</td>\n",
       "      <td>0.22</td>\n",
       "      <td>NaN</td>\n",
       "      <td>NaN</td>\n",
       "      <td>undef</td>\n",
       "    </tr>\n",
       "    <tr>\n",
       "      <td>3581</td>\n",
       "      <td>Need for Speed: Most Wanted</td>\n",
       "      <td>GC</td>\n",
       "      <td>2005</td>\n",
       "      <td>Racing</td>\n",
       "      <td>0.43</td>\n",
       "      <td>0.11</td>\n",
       "      <td>0.00</td>\n",
       "      <td>0.02</td>\n",
       "      <td>80.0</td>\n",
       "      <td>9.1</td>\n",
       "      <td>T</td>\n",
       "    </tr>\n",
       "    <tr>\n",
       "      <td>5972</td>\n",
       "      <td>Need for Speed: Most Wanted</td>\n",
       "      <td>PC</td>\n",
       "      <td>2005</td>\n",
       "      <td>Racing</td>\n",
       "      <td>0.02</td>\n",
       "      <td>0.23</td>\n",
       "      <td>0.00</td>\n",
       "      <td>0.04</td>\n",
       "      <td>82.0</td>\n",
       "      <td>8.5</td>\n",
       "      <td>T</td>\n",
       "    </tr>\n",
       "    <tr>\n",
       "      <td>6273</td>\n",
       "      <td>Need for Speed: Most Wanted</td>\n",
       "      <td>WiiU</td>\n",
       "      <td>2013</td>\n",
       "      <td>Racing</td>\n",
       "      <td>0.13</td>\n",
       "      <td>0.12</td>\n",
       "      <td>0.00</td>\n",
       "      <td>0.02</td>\n",
       "      <td>NaN</td>\n",
       "      <td>NaN</td>\n",
       "      <td>undef</td>\n",
       "    </tr>\n",
       "    <tr>\n",
       "      <td>6410</td>\n",
       "      <td>Need for Speed: Most Wanted</td>\n",
       "      <td>DS</td>\n",
       "      <td>2005</td>\n",
       "      <td>Racing</td>\n",
       "      <td>0.24</td>\n",
       "      <td>0.01</td>\n",
       "      <td>0.00</td>\n",
       "      <td>0.02</td>\n",
       "      <td>45.0</td>\n",
       "      <td>6.1</td>\n",
       "      <td>E</td>\n",
       "    </tr>\n",
       "    <tr>\n",
       "      <td>6473</td>\n",
       "      <td>Need for Speed: Most Wanted</td>\n",
       "      <td>GBA</td>\n",
       "      <td>2005</td>\n",
       "      <td>Racing</td>\n",
       "      <td>0.19</td>\n",
       "      <td>0.07</td>\n",
       "      <td>0.00</td>\n",
       "      <td>0.00</td>\n",
       "      <td>NaN</td>\n",
       "      <td>8.3</td>\n",
       "      <td>E</td>\n",
       "    </tr>\n",
       "    <tr>\n",
       "      <td>11715</td>\n",
       "      <td>Need for Speed: Most Wanted</td>\n",
       "      <td>PC</td>\n",
       "      <td>2012</td>\n",
       "      <td>Racing</td>\n",
       "      <td>0.00</td>\n",
       "      <td>0.06</td>\n",
       "      <td>0.00</td>\n",
       "      <td>0.02</td>\n",
       "      <td>82.0</td>\n",
       "      <td>8.5</td>\n",
       "      <td>T</td>\n",
       "    </tr>\n",
       "  </tbody>\n",
       "</table>\n",
       "</div>"
      ],
      "text/plain": [
       "                              name platform  year_of_release   genre  \\\n",
       "253    Need for Speed: Most Wanted      PS2             2005  Racing   \n",
       "523    Need for Speed: Most Wanted      PS3             2012  Racing   \n",
       "1190   Need for Speed: Most Wanted     X360             2012  Racing   \n",
       "1591   Need for Speed: Most Wanted     X360             2005  Racing   \n",
       "1998   Need for Speed: Most Wanted       XB             2005  Racing   \n",
       "2048   Need for Speed: Most Wanted      PSV             2012  Racing   \n",
       "3581   Need for Speed: Most Wanted       GC             2005  Racing   \n",
       "5972   Need for Speed: Most Wanted       PC             2005  Racing   \n",
       "6273   Need for Speed: Most Wanted     WiiU             2013  Racing   \n",
       "6410   Need for Speed: Most Wanted       DS             2005  Racing   \n",
       "6473   Need for Speed: Most Wanted      GBA             2005  Racing   \n",
       "11715  Need for Speed: Most Wanted       PC             2012  Racing   \n",
       "\n",
       "       na_sales  eu_sales  jp_sales  other_sales  critic_score  user_score  \\\n",
       "253        2.03      1.79      0.08         0.47          82.0         9.1   \n",
       "523        0.71      1.46      0.06         0.58           NaN         NaN   \n",
       "1190       0.62      0.78      0.01         0.15          83.0         8.5   \n",
       "1591       1.00      0.13      0.02         0.10          83.0         8.5   \n",
       "1998       0.53      0.46      0.00         0.05          83.0         8.8   \n",
       "2048       0.33      0.45      0.01         0.22           NaN         NaN   \n",
       "3581       0.43      0.11      0.00         0.02          80.0         9.1   \n",
       "5972       0.02      0.23      0.00         0.04          82.0         8.5   \n",
       "6273       0.13      0.12      0.00         0.02           NaN         NaN   \n",
       "6410       0.24      0.01      0.00         0.02          45.0         6.1   \n",
       "6473       0.19      0.07      0.00         0.00           NaN         8.3   \n",
       "11715      0.00      0.06      0.00         0.02          82.0         8.5   \n",
       "\n",
       "      rating  \n",
       "253        T  \n",
       "523    undef  \n",
       "1190       T  \n",
       "1591       T  \n",
       "1998       T  \n",
       "2048   undef  \n",
       "3581       T  \n",
       "5972       T  \n",
       "6273   undef  \n",
       "6410       E  \n",
       "6473       E  \n",
       "11715      T  "
      ]
     },
     "execution_count": 97,
     "metadata": {},
     "output_type": "execute_result"
    }
   ],
   "source": [
    "data.query('name == \"Need for Speed: Most Wanted\"')"
   ]
  },
  {
   "cell_type": "markdown",
   "metadata": {},
   "source": [
    "Данные \"чистые\", дубликаты отсутствуют. Дубликаты в колонке *name* вызваны тем, что игра выходила на разнах платформах или переиздавалась."
   ]
  },
  {
   "cell_type": "markdown",
   "metadata": {},
   "source": [
    "Посчитаем суммарные продажи во всех регионах и запишем их в отдельный столбец *all_sales*."
   ]
  },
  {
   "cell_type": "code",
   "execution_count": 98,
   "metadata": {},
   "outputs": [
    {
     "data": {
      "text/html": [
       "<div>\n",
       "<style scoped>\n",
       "    .dataframe tbody tr th:only-of-type {\n",
       "        vertical-align: middle;\n",
       "    }\n",
       "\n",
       "    .dataframe tbody tr th {\n",
       "        vertical-align: top;\n",
       "    }\n",
       "\n",
       "    .dataframe thead th {\n",
       "        text-align: right;\n",
       "    }\n",
       "</style>\n",
       "<table border=\"1\" class=\"dataframe\">\n",
       "  <thead>\n",
       "    <tr style=\"text-align: right;\">\n",
       "      <th></th>\n",
       "      <th>name</th>\n",
       "      <th>platform</th>\n",
       "      <th>year_of_release</th>\n",
       "      <th>genre</th>\n",
       "      <th>na_sales</th>\n",
       "      <th>eu_sales</th>\n",
       "      <th>jp_sales</th>\n",
       "      <th>other_sales</th>\n",
       "      <th>critic_score</th>\n",
       "      <th>user_score</th>\n",
       "      <th>rating</th>\n",
       "      <th>all_sales</th>\n",
       "    </tr>\n",
       "  </thead>\n",
       "  <tbody>\n",
       "    <tr>\n",
       "      <td>0</td>\n",
       "      <td>Wii Sports</td>\n",
       "      <td>Wii</td>\n",
       "      <td>2006</td>\n",
       "      <td>Sports</td>\n",
       "      <td>41.36</td>\n",
       "      <td>28.96</td>\n",
       "      <td>3.77</td>\n",
       "      <td>8.45</td>\n",
       "      <td>76.0</td>\n",
       "      <td>8.0</td>\n",
       "      <td>E</td>\n",
       "      <td>82.54</td>\n",
       "    </tr>\n",
       "    <tr>\n",
       "      <td>1</td>\n",
       "      <td>Super Mario Bros.</td>\n",
       "      <td>NES</td>\n",
       "      <td>1985</td>\n",
       "      <td>Platform</td>\n",
       "      <td>29.08</td>\n",
       "      <td>3.58</td>\n",
       "      <td>6.81</td>\n",
       "      <td>0.77</td>\n",
       "      <td>NaN</td>\n",
       "      <td>NaN</td>\n",
       "      <td>undef</td>\n",
       "      <td>40.24</td>\n",
       "    </tr>\n",
       "    <tr>\n",
       "      <td>2</td>\n",
       "      <td>Mario Kart Wii</td>\n",
       "      <td>Wii</td>\n",
       "      <td>2008</td>\n",
       "      <td>Racing</td>\n",
       "      <td>15.68</td>\n",
       "      <td>12.76</td>\n",
       "      <td>3.79</td>\n",
       "      <td>3.29</td>\n",
       "      <td>82.0</td>\n",
       "      <td>8.3</td>\n",
       "      <td>E</td>\n",
       "      <td>35.52</td>\n",
       "    </tr>\n",
       "    <tr>\n",
       "      <td>3</td>\n",
       "      <td>Wii Sports Resort</td>\n",
       "      <td>Wii</td>\n",
       "      <td>2009</td>\n",
       "      <td>Sports</td>\n",
       "      <td>15.61</td>\n",
       "      <td>10.93</td>\n",
       "      <td>3.28</td>\n",
       "      <td>2.95</td>\n",
       "      <td>80.0</td>\n",
       "      <td>8.0</td>\n",
       "      <td>E</td>\n",
       "      <td>32.77</td>\n",
       "    </tr>\n",
       "    <tr>\n",
       "      <td>4</td>\n",
       "      <td>Pokemon Red/Pokemon Blue</td>\n",
       "      <td>GB</td>\n",
       "      <td>1996</td>\n",
       "      <td>Role-Playing</td>\n",
       "      <td>11.27</td>\n",
       "      <td>8.89</td>\n",
       "      <td>10.22</td>\n",
       "      <td>1.00</td>\n",
       "      <td>NaN</td>\n",
       "      <td>NaN</td>\n",
       "      <td>undef</td>\n",
       "      <td>31.38</td>\n",
       "    </tr>\n",
       "  </tbody>\n",
       "</table>\n",
       "</div>"
      ],
      "text/plain": [
       "                       name platform  year_of_release         genre  na_sales  \\\n",
       "0                Wii Sports      Wii             2006        Sports     41.36   \n",
       "1         Super Mario Bros.      NES             1985      Platform     29.08   \n",
       "2            Mario Kart Wii      Wii             2008        Racing     15.68   \n",
       "3         Wii Sports Resort      Wii             2009        Sports     15.61   \n",
       "4  Pokemon Red/Pokemon Blue       GB             1996  Role-Playing     11.27   \n",
       "\n",
       "   eu_sales  jp_sales  other_sales  critic_score  user_score rating  all_sales  \n",
       "0     28.96      3.77         8.45          76.0         8.0      E      82.54  \n",
       "1      3.58      6.81         0.77           NaN         NaN  undef      40.24  \n",
       "2     12.76      3.79         3.29          82.0         8.3      E      35.52  \n",
       "3     10.93      3.28         2.95          80.0         8.0      E      32.77  \n",
       "4      8.89     10.22         1.00           NaN         NaN  undef      31.38  "
      ]
     },
     "execution_count": 98,
     "metadata": {},
     "output_type": "execute_result"
    }
   ],
   "source": [
    "data['all_sales'] = data['na_sales'] + data['eu_sales'] + data['jp_sales'] + data['other_sales']\n",
    "data.reset_index()\n",
    "data.head()"
   ]
  },
  {
   "cell_type": "markdown",
   "metadata": {},
   "source": [
    "## Исследовательский анализ данных"
   ]
  },
  {
   "cell_type": "markdown",
   "metadata": {},
   "source": [
    "Посмотрим, сколько игр выпускалось в разные годы"
   ]
  },
  {
   "cell_type": "code",
   "execution_count": 99,
   "metadata": {},
   "outputs": [
    {
     "data": {
      "text/html": [
       "<div>\n",
       "<style scoped>\n",
       "    .dataframe tbody tr th:only-of-type {\n",
       "        vertical-align: middle;\n",
       "    }\n",
       "\n",
       "    .dataframe tbody tr th {\n",
       "        vertical-align: top;\n",
       "    }\n",
       "\n",
       "    .dataframe thead th {\n",
       "        text-align: right;\n",
       "    }\n",
       "</style>\n",
       "<table border=\"1\" class=\"dataframe\">\n",
       "  <thead>\n",
       "    <tr style=\"text-align: right;\">\n",
       "      <th></th>\n",
       "      <th>platform</th>\n",
       "      <th>all_sales</th>\n",
       "    </tr>\n",
       "    <tr>\n",
       "      <th>year_of_release</th>\n",
       "      <th></th>\n",
       "      <th></th>\n",
       "    </tr>\n",
       "  </thead>\n",
       "  <tbody>\n",
       "    <tr>\n",
       "      <td>1980</td>\n",
       "      <td>9</td>\n",
       "      <td>11.38</td>\n",
       "    </tr>\n",
       "    <tr>\n",
       "      <td>1981</td>\n",
       "      <td>63</td>\n",
       "      <td>46.18</td>\n",
       "    </tr>\n",
       "    <tr>\n",
       "      <td>1982</td>\n",
       "      <td>36</td>\n",
       "      <td>28.88</td>\n",
       "    </tr>\n",
       "    <tr>\n",
       "      <td>1983</td>\n",
       "      <td>17</td>\n",
       "      <td>16.80</td>\n",
       "    </tr>\n",
       "    <tr>\n",
       "      <td>1984</td>\n",
       "      <td>14</td>\n",
       "      <td>50.35</td>\n",
       "    </tr>\n",
       "    <tr>\n",
       "      <td>1985</td>\n",
       "      <td>14</td>\n",
       "      <td>53.95</td>\n",
       "    </tr>\n",
       "    <tr>\n",
       "      <td>1986</td>\n",
       "      <td>21</td>\n",
       "      <td>37.08</td>\n",
       "    </tr>\n",
       "    <tr>\n",
       "      <td>1987</td>\n",
       "      <td>16</td>\n",
       "      <td>21.70</td>\n",
       "    </tr>\n",
       "    <tr>\n",
       "      <td>1988</td>\n",
       "      <td>15</td>\n",
       "      <td>47.21</td>\n",
       "    </tr>\n",
       "    <tr>\n",
       "      <td>1989</td>\n",
       "      <td>17</td>\n",
       "      <td>73.45</td>\n",
       "    </tr>\n",
       "    <tr>\n",
       "      <td>1990</td>\n",
       "      <td>16</td>\n",
       "      <td>49.37</td>\n",
       "    </tr>\n",
       "    <tr>\n",
       "      <td>1991</td>\n",
       "      <td>41</td>\n",
       "      <td>32.23</td>\n",
       "    </tr>\n",
       "    <tr>\n",
       "      <td>1992</td>\n",
       "      <td>43</td>\n",
       "      <td>76.16</td>\n",
       "    </tr>\n",
       "    <tr>\n",
       "      <td>1993</td>\n",
       "      <td>60</td>\n",
       "      <td>45.99</td>\n",
       "    </tr>\n",
       "    <tr>\n",
       "      <td>1994</td>\n",
       "      <td>121</td>\n",
       "      <td>79.23</td>\n",
       "    </tr>\n",
       "    <tr>\n",
       "      <td>1995</td>\n",
       "      <td>219</td>\n",
       "      <td>88.12</td>\n",
       "    </tr>\n",
       "    <tr>\n",
       "      <td>1996</td>\n",
       "      <td>263</td>\n",
       "      <td>199.15</td>\n",
       "    </tr>\n",
       "    <tr>\n",
       "      <td>1997</td>\n",
       "      <td>290</td>\n",
       "      <td>202.10</td>\n",
       "    </tr>\n",
       "    <tr>\n",
       "      <td>1998</td>\n",
       "      <td>386</td>\n",
       "      <td>259.59</td>\n",
       "    </tr>\n",
       "    <tr>\n",
       "      <td>1999</td>\n",
       "      <td>341</td>\n",
       "      <td>251.78</td>\n",
       "    </tr>\n",
       "    <tr>\n",
       "      <td>2000</td>\n",
       "      <td>350</td>\n",
       "      <td>201.66</td>\n",
       "    </tr>\n",
       "    <tr>\n",
       "      <td>2001</td>\n",
       "      <td>482</td>\n",
       "      <td>331.46</td>\n",
       "    </tr>\n",
       "    <tr>\n",
       "      <td>2002</td>\n",
       "      <td>829</td>\n",
       "      <td>394.97</td>\n",
       "    </tr>\n",
       "    <tr>\n",
       "      <td>2003</td>\n",
       "      <td>800</td>\n",
       "      <td>364.71</td>\n",
       "    </tr>\n",
       "    <tr>\n",
       "      <td>2004</td>\n",
       "      <td>817</td>\n",
       "      <td>447.06</td>\n",
       "    </tr>\n",
       "    <tr>\n",
       "      <td>2005</td>\n",
       "      <td>939</td>\n",
       "      <td>457.82</td>\n",
       "    </tr>\n",
       "    <tr>\n",
       "      <td>2006</td>\n",
       "      <td>1006</td>\n",
       "      <td>517.71</td>\n",
       "    </tr>\n",
       "    <tr>\n",
       "      <td>2007</td>\n",
       "      <td>1197</td>\n",
       "      <td>604.75</td>\n",
       "    </tr>\n",
       "    <tr>\n",
       "      <td>2008</td>\n",
       "      <td>1457</td>\n",
       "      <td>674.84</td>\n",
       "    </tr>\n",
       "    <tr>\n",
       "      <td>2009</td>\n",
       "      <td>1493</td>\n",
       "      <td>683.43</td>\n",
       "    </tr>\n",
       "    <tr>\n",
       "      <td>2010</td>\n",
       "      <td>1285</td>\n",
       "      <td>600.31</td>\n",
       "    </tr>\n",
       "    <tr>\n",
       "      <td>2011</td>\n",
       "      <td>1161</td>\n",
       "      <td>515.89</td>\n",
       "    </tr>\n",
       "    <tr>\n",
       "      <td>2012</td>\n",
       "      <td>653</td>\n",
       "      <td>355.84</td>\n",
       "    </tr>\n",
       "    <tr>\n",
       "      <td>2013</td>\n",
       "      <td>552</td>\n",
       "      <td>362.43</td>\n",
       "    </tr>\n",
       "    <tr>\n",
       "      <td>2014</td>\n",
       "      <td>582</td>\n",
       "      <td>331.79</td>\n",
       "    </tr>\n",
       "    <tr>\n",
       "      <td>2015</td>\n",
       "      <td>606</td>\n",
       "      <td>267.98</td>\n",
       "    </tr>\n",
       "    <tr>\n",
       "      <td>2016</td>\n",
       "      <td>502</td>\n",
       "      <td>129.94</td>\n",
       "    </tr>\n",
       "  </tbody>\n",
       "</table>\n",
       "</div>"
      ],
      "text/plain": [
       "                 platform  all_sales\n",
       "year_of_release                     \n",
       "1980                    9      11.38\n",
       "1981                   63      46.18\n",
       "1982                   36      28.88\n",
       "1983                   17      16.80\n",
       "1984                   14      50.35\n",
       "1985                   14      53.95\n",
       "1986                   21      37.08\n",
       "1987                   16      21.70\n",
       "1988                   15      47.21\n",
       "1989                   17      73.45\n",
       "1990                   16      49.37\n",
       "1991                   41      32.23\n",
       "1992                   43      76.16\n",
       "1993                   60      45.99\n",
       "1994                  121      79.23\n",
       "1995                  219      88.12\n",
       "1996                  263     199.15\n",
       "1997                  290     202.10\n",
       "1998                  386     259.59\n",
       "1999                  341     251.78\n",
       "2000                  350     201.66\n",
       "2001                  482     331.46\n",
       "2002                  829     394.97\n",
       "2003                  800     364.71\n",
       "2004                  817     447.06\n",
       "2005                  939     457.82\n",
       "2006                 1006     517.71\n",
       "2007                 1197     604.75\n",
       "2008                 1457     674.84\n",
       "2009                 1493     683.43\n",
       "2010                 1285     600.31\n",
       "2011                 1161     515.89\n",
       "2012                  653     355.84\n",
       "2013                  552     362.43\n",
       "2014                  582     331.79\n",
       "2015                  606     267.98\n",
       "2016                  502     129.94"
      ]
     },
     "execution_count": 99,
     "metadata": {},
     "output_type": "execute_result"
    }
   ],
   "source": [
    "data.groupby('year_of_release').agg({'platform': 'count', 'all_sales': 'sum'})"
   ]
  },
  {
   "cell_type": "markdown",
   "metadata": {},
   "source": [
    "Нам выжны не все данные, сгруппируем 1980-1994 года с помощью функции:"
   ]
  },
  {
   "cell_type": "code",
   "execution_count": 100,
   "metadata": {},
   "outputs": [
    {
     "data": {
      "text/html": [
       "<div>\n",
       "<style scoped>\n",
       "    .dataframe tbody tr th:only-of-type {\n",
       "        vertical-align: middle;\n",
       "    }\n",
       "\n",
       "    .dataframe tbody tr th {\n",
       "        vertical-align: top;\n",
       "    }\n",
       "\n",
       "    .dataframe thead th {\n",
       "        text-align: right;\n",
       "    }\n",
       "</style>\n",
       "<table border=\"1\" class=\"dataframe\">\n",
       "  <thead>\n",
       "    <tr style=\"text-align: right;\">\n",
       "      <th></th>\n",
       "      <th>platform</th>\n",
       "      <th>all_sales</th>\n",
       "    </tr>\n",
       "    <tr>\n",
       "      <th>year_grouped</th>\n",
       "      <th></th>\n",
       "      <th></th>\n",
       "    </tr>\n",
       "  </thead>\n",
       "  <tbody>\n",
       "    <tr>\n",
       "      <td>1980-1994</td>\n",
       "      <td>503</td>\n",
       "      <td>669.96</td>\n",
       "    </tr>\n",
       "  </tbody>\n",
       "</table>\n",
       "</div>"
      ],
      "text/plain": [
       "              platform  all_sales\n",
       "year_grouped                     \n",
       "1980-1994          503     669.96"
      ]
     },
     "execution_count": 100,
     "metadata": {},
     "output_type": "execute_result"
    }
   ],
   "source": [
    "def func(row):\n",
    "    if 1980 <= row['year_of_release'] <= 1994:\n",
    "        return '1980-1994'\n",
    "    return row['year_of_release']\n",
    "\n",
    "data['year_grouped'] = data.apply(func, axis=1)\n",
    "\n",
    "data.groupby('year_grouped').agg({'platform': 'count', 'all_sales': 'sum'}).query('year_grouped == \"1980-1994\"')"
   ]
  },
  {
   "cell_type": "markdown",
   "metadata": {},
   "source": [
    "Интересно, что за 15 лет с 1980-1994 было выпущено в два раза меньше игр, чем в 2006 году. А суммарная выручка за эти 15 лет составила примерно столько же, сколько в одном 2009 году."
   ]
  },
  {
   "cell_type": "markdown",
   "metadata": {},
   "source": [
    "Посмотрим, как менялись продажи по платформам:"
   ]
  },
  {
   "cell_type": "code",
   "execution_count": 101,
   "metadata": {},
   "outputs": [
    {
     "data": {
      "text/html": [
       "<div>\n",
       "<style scoped>\n",
       "    .dataframe tbody tr th:only-of-type {\n",
       "        vertical-align: middle;\n",
       "    }\n",
       "\n",
       "    .dataframe tbody tr th {\n",
       "        vertical-align: top;\n",
       "    }\n",
       "\n",
       "    .dataframe thead th {\n",
       "        text-align: right;\n",
       "    }\n",
       "</style>\n",
       "<table border=\"1\" class=\"dataframe\">\n",
       "  <thead>\n",
       "    <tr style=\"text-align: right;\">\n",
       "      <th></th>\n",
       "      <th>platform</th>\n",
       "      <th>name</th>\n",
       "      <th>all_sales</th>\n",
       "    </tr>\n",
       "  </thead>\n",
       "  <tbody>\n",
       "    <tr>\n",
       "      <td>0</td>\n",
       "      <td>PS2</td>\n",
       "      <td>2161</td>\n",
       "      <td>1255.77</td>\n",
       "    </tr>\n",
       "    <tr>\n",
       "      <td>1</td>\n",
       "      <td>X360</td>\n",
       "      <td>1262</td>\n",
       "      <td>971.42</td>\n",
       "    </tr>\n",
       "    <tr>\n",
       "      <td>2</td>\n",
       "      <td>PS3</td>\n",
       "      <td>1331</td>\n",
       "      <td>939.65</td>\n",
       "    </tr>\n",
       "    <tr>\n",
       "      <td>3</td>\n",
       "      <td>Wii</td>\n",
       "      <td>1320</td>\n",
       "      <td>907.51</td>\n",
       "    </tr>\n",
       "    <tr>\n",
       "      <td>4</td>\n",
       "      <td>DS</td>\n",
       "      <td>2151</td>\n",
       "      <td>806.12</td>\n",
       "    </tr>\n",
       "    <tr>\n",
       "      <td>5</td>\n",
       "      <td>PS</td>\n",
       "      <td>1197</td>\n",
       "      <td>730.86</td>\n",
       "    </tr>\n",
       "    <tr>\n",
       "      <td>6</td>\n",
       "      <td>GBA</td>\n",
       "      <td>822</td>\n",
       "      <td>317.85</td>\n",
       "    </tr>\n",
       "    <tr>\n",
       "      <td>7</td>\n",
       "      <td>PS4</td>\n",
       "      <td>392</td>\n",
       "      <td>314.14</td>\n",
       "    </tr>\n",
       "    <tr>\n",
       "      <td>8</td>\n",
       "      <td>PSP</td>\n",
       "      <td>1209</td>\n",
       "      <td>294.05</td>\n",
       "    </tr>\n",
       "    <tr>\n",
       "      <td>9</td>\n",
       "      <td>PC</td>\n",
       "      <td>974</td>\n",
       "      <td>259.52</td>\n",
       "    </tr>\n",
       "    <tr>\n",
       "      <td>10</td>\n",
       "      <td>3DS</td>\n",
       "      <td>520</td>\n",
       "      <td>259.00</td>\n",
       "    </tr>\n",
       "    <tr>\n",
       "      <td>11</td>\n",
       "      <td>XB</td>\n",
       "      <td>824</td>\n",
       "      <td>257.74</td>\n",
       "    </tr>\n",
       "    <tr>\n",
       "      <td>12</td>\n",
       "      <td>GB</td>\n",
       "      <td>98</td>\n",
       "      <td>255.46</td>\n",
       "    </tr>\n",
       "    <tr>\n",
       "      <td>13</td>\n",
       "      <td>NES</td>\n",
       "      <td>98</td>\n",
       "      <td>251.05</td>\n",
       "    </tr>\n",
       "    <tr>\n",
       "      <td>14</td>\n",
       "      <td>N64</td>\n",
       "      <td>319</td>\n",
       "      <td>218.68</td>\n",
       "    </tr>\n",
       "    <tr>\n",
       "      <td>15</td>\n",
       "      <td>SNES</td>\n",
       "      <td>239</td>\n",
       "      <td>200.04</td>\n",
       "    </tr>\n",
       "    <tr>\n",
       "      <td>16</td>\n",
       "      <td>GC</td>\n",
       "      <td>556</td>\n",
       "      <td>198.93</td>\n",
       "    </tr>\n",
       "    <tr>\n",
       "      <td>17</td>\n",
       "      <td>XOne</td>\n",
       "      <td>247</td>\n",
       "      <td>159.32</td>\n",
       "    </tr>\n",
       "    <tr>\n",
       "      <td>18</td>\n",
       "      <td>2600</td>\n",
       "      <td>133</td>\n",
       "      <td>96.98</td>\n",
       "    </tr>\n",
       "    <tr>\n",
       "      <td>19</td>\n",
       "      <td>WiiU</td>\n",
       "      <td>147</td>\n",
       "      <td>82.19</td>\n",
       "    </tr>\n",
       "    <tr>\n",
       "      <td>20</td>\n",
       "      <td>PSV</td>\n",
       "      <td>430</td>\n",
       "      <td>54.07</td>\n",
       "    </tr>\n",
       "    <tr>\n",
       "      <td>21</td>\n",
       "      <td>SAT</td>\n",
       "      <td>173</td>\n",
       "      <td>33.59</td>\n",
       "    </tr>\n",
       "    <tr>\n",
       "      <td>22</td>\n",
       "      <td>GEN</td>\n",
       "      <td>27</td>\n",
       "      <td>28.35</td>\n",
       "    </tr>\n",
       "    <tr>\n",
       "      <td>23</td>\n",
       "      <td>DC</td>\n",
       "      <td>52</td>\n",
       "      <td>15.95</td>\n",
       "    </tr>\n",
       "    <tr>\n",
       "      <td>24</td>\n",
       "      <td>SCD</td>\n",
       "      <td>6</td>\n",
       "      <td>1.86</td>\n",
       "    </tr>\n",
       "    <tr>\n",
       "      <td>25</td>\n",
       "      <td>NG</td>\n",
       "      <td>12</td>\n",
       "      <td>1.44</td>\n",
       "    </tr>\n",
       "    <tr>\n",
       "      <td>26</td>\n",
       "      <td>WS</td>\n",
       "      <td>6</td>\n",
       "      <td>1.42</td>\n",
       "    </tr>\n",
       "    <tr>\n",
       "      <td>27</td>\n",
       "      <td>TG16</td>\n",
       "      <td>2</td>\n",
       "      <td>0.16</td>\n",
       "    </tr>\n",
       "    <tr>\n",
       "      <td>28</td>\n",
       "      <td>3DO</td>\n",
       "      <td>3</td>\n",
       "      <td>0.10</td>\n",
       "    </tr>\n",
       "    <tr>\n",
       "      <td>29</td>\n",
       "      <td>GG</td>\n",
       "      <td>1</td>\n",
       "      <td>0.04</td>\n",
       "    </tr>\n",
       "    <tr>\n",
       "      <td>30</td>\n",
       "      <td>PCFX</td>\n",
       "      <td>1</td>\n",
       "      <td>0.03</td>\n",
       "    </tr>\n",
       "  </tbody>\n",
       "</table>\n",
       "</div>"
      ],
      "text/plain": [
       "   platform  name  all_sales\n",
       "0       PS2  2161    1255.77\n",
       "1      X360  1262     971.42\n",
       "2       PS3  1331     939.65\n",
       "3       Wii  1320     907.51\n",
       "4        DS  2151     806.12\n",
       "5        PS  1197     730.86\n",
       "6       GBA   822     317.85\n",
       "7       PS4   392     314.14\n",
       "8       PSP  1209     294.05\n",
       "9        PC   974     259.52\n",
       "10      3DS   520     259.00\n",
       "11       XB   824     257.74\n",
       "12       GB    98     255.46\n",
       "13      NES    98     251.05\n",
       "14      N64   319     218.68\n",
       "15     SNES   239     200.04\n",
       "16       GC   556     198.93\n",
       "17     XOne   247     159.32\n",
       "18     2600   133      96.98\n",
       "19     WiiU   147      82.19\n",
       "20      PSV   430      54.07\n",
       "21      SAT   173      33.59\n",
       "22      GEN    27      28.35\n",
       "23       DC    52      15.95\n",
       "24      SCD     6       1.86\n",
       "25       NG    12       1.44\n",
       "26       WS     6       1.42\n",
       "27     TG16     2       0.16\n",
       "28      3DO     3       0.10\n",
       "29       GG     1       0.04\n",
       "30     PCFX     1       0.03"
      ]
     },
     "execution_count": 101,
     "metadata": {},
     "output_type": "execute_result"
    }
   ],
   "source": [
    "data_platform_sales = data.groupby('platform').agg({'name': 'count', 'all_sales': 'sum'}).sort_values(by=['all_sales'], ascending = False).reset_index()\n",
    "data_platform_sales"
   ]
  },
  {
   "cell_type": "markdown",
   "metadata": {},
   "source": [
    "Выберем платформы с наибольшими суммарными продажами и построим распределение по годам."
   ]
  },
  {
   "cell_type": "code",
   "execution_count": 102,
   "metadata": {},
   "outputs": [
    {
     "data": {
      "text/html": [
       "<div>\n",
       "<style scoped>\n",
       "    .dataframe tbody tr th:only-of-type {\n",
       "        vertical-align: middle;\n",
       "    }\n",
       "\n",
       "    .dataframe tbody tr th {\n",
       "        vertical-align: top;\n",
       "    }\n",
       "\n",
       "    .dataframe thead th {\n",
       "        text-align: right;\n",
       "    }\n",
       "</style>\n",
       "<table border=\"1\" class=\"dataframe\">\n",
       "  <thead>\n",
       "    <tr style=\"text-align: right;\">\n",
       "      <th>year_grouped</th>\n",
       "      <th>1995</th>\n",
       "      <th>1996</th>\n",
       "      <th>1997</th>\n",
       "      <th>1998</th>\n",
       "      <th>1999</th>\n",
       "      <th>2000</th>\n",
       "      <th>2001</th>\n",
       "      <th>2002</th>\n",
       "      <th>2003</th>\n",
       "      <th>2004</th>\n",
       "      <th>...</th>\n",
       "      <th>2008</th>\n",
       "      <th>2009</th>\n",
       "      <th>2010</th>\n",
       "      <th>2011</th>\n",
       "      <th>2012</th>\n",
       "      <th>2013</th>\n",
       "      <th>2014</th>\n",
       "      <th>2015</th>\n",
       "      <th>2016</th>\n",
       "      <th>1980-1994</th>\n",
       "    </tr>\n",
       "    <tr>\n",
       "      <th>platform</th>\n",
       "      <th></th>\n",
       "      <th></th>\n",
       "      <th></th>\n",
       "      <th></th>\n",
       "      <th></th>\n",
       "      <th></th>\n",
       "      <th></th>\n",
       "      <th></th>\n",
       "      <th></th>\n",
       "      <th></th>\n",
       "      <th></th>\n",
       "      <th></th>\n",
       "      <th></th>\n",
       "      <th></th>\n",
       "      <th></th>\n",
       "      <th></th>\n",
       "      <th></th>\n",
       "      <th></th>\n",
       "      <th></th>\n",
       "      <th></th>\n",
       "      <th></th>\n",
       "    </tr>\n",
       "  </thead>\n",
       "  <tbody>\n",
       "    <tr>\n",
       "      <td>DS</td>\n",
       "      <td>NaN</td>\n",
       "      <td>NaN</td>\n",
       "      <td>NaN</td>\n",
       "      <td>NaN</td>\n",
       "      <td>NaN</td>\n",
       "      <td>NaN</td>\n",
       "      <td>NaN</td>\n",
       "      <td>NaN</td>\n",
       "      <td>NaN</td>\n",
       "      <td>17.27</td>\n",
       "      <td>...</td>\n",
       "      <td>148.65</td>\n",
       "      <td>119.54</td>\n",
       "      <td>85.02</td>\n",
       "      <td>26.18</td>\n",
       "      <td>11.01</td>\n",
       "      <td>1.54</td>\n",
       "      <td>NaN</td>\n",
       "      <td>NaN</td>\n",
       "      <td>NaN</td>\n",
       "      <td>0.02</td>\n",
       "    </tr>\n",
       "    <tr>\n",
       "      <td>GBA</td>\n",
       "      <td>NaN</td>\n",
       "      <td>NaN</td>\n",
       "      <td>NaN</td>\n",
       "      <td>NaN</td>\n",
       "      <td>NaN</td>\n",
       "      <td>0.07</td>\n",
       "      <td>61.53</td>\n",
       "      <td>74.16</td>\n",
       "      <td>61.64</td>\n",
       "      <td>77.91</td>\n",
       "      <td>...</td>\n",
       "      <td>NaN</td>\n",
       "      <td>NaN</td>\n",
       "      <td>NaN</td>\n",
       "      <td>NaN</td>\n",
       "      <td>NaN</td>\n",
       "      <td>NaN</td>\n",
       "      <td>NaN</td>\n",
       "      <td>NaN</td>\n",
       "      <td>NaN</td>\n",
       "      <td>NaN</td>\n",
       "    </tr>\n",
       "    <tr>\n",
       "      <td>PC</td>\n",
       "      <td>4.22</td>\n",
       "      <td>10.58</td>\n",
       "      <td>11.27</td>\n",
       "      <td>3.26</td>\n",
       "      <td>4.74</td>\n",
       "      <td>4.66</td>\n",
       "      <td>5.47</td>\n",
       "      <td>8.57</td>\n",
       "      <td>8.84</td>\n",
       "      <td>10.39</td>\n",
       "      <td>...</td>\n",
       "      <td>12.42</td>\n",
       "      <td>20.67</td>\n",
       "      <td>24.28</td>\n",
       "      <td>35.03</td>\n",
       "      <td>23.22</td>\n",
       "      <td>12.38</td>\n",
       "      <td>13.28</td>\n",
       "      <td>8.52</td>\n",
       "      <td>5.25</td>\n",
       "      <td>15.97</td>\n",
       "    </tr>\n",
       "    <tr>\n",
       "      <td>PS</td>\n",
       "      <td>35.96</td>\n",
       "      <td>94.70</td>\n",
       "      <td>136.17</td>\n",
       "      <td>172.77</td>\n",
       "      <td>144.53</td>\n",
       "      <td>96.37</td>\n",
       "      <td>35.59</td>\n",
       "      <td>6.67</td>\n",
       "      <td>2.07</td>\n",
       "      <td>NaN</td>\n",
       "      <td>...</td>\n",
       "      <td>NaN</td>\n",
       "      <td>NaN</td>\n",
       "      <td>NaN</td>\n",
       "      <td>NaN</td>\n",
       "      <td>NaN</td>\n",
       "      <td>NaN</td>\n",
       "      <td>NaN</td>\n",
       "      <td>NaN</td>\n",
       "      <td>NaN</td>\n",
       "      <td>6.03</td>\n",
       "    </tr>\n",
       "    <tr>\n",
       "      <td>PS2</td>\n",
       "      <td>NaN</td>\n",
       "      <td>NaN</td>\n",
       "      <td>NaN</td>\n",
       "      <td>NaN</td>\n",
       "      <td>NaN</td>\n",
       "      <td>39.17</td>\n",
       "      <td>166.43</td>\n",
       "      <td>205.38</td>\n",
       "      <td>184.31</td>\n",
       "      <td>234.02</td>\n",
       "      <td>...</td>\n",
       "      <td>53.90</td>\n",
       "      <td>26.40</td>\n",
       "      <td>5.64</td>\n",
       "      <td>0.45</td>\n",
       "      <td>NaN</td>\n",
       "      <td>NaN</td>\n",
       "      <td>NaN</td>\n",
       "      <td>NaN</td>\n",
       "      <td>NaN</td>\n",
       "      <td>NaN</td>\n",
       "    </tr>\n",
       "    <tr>\n",
       "      <td>PS3</td>\n",
       "      <td>NaN</td>\n",
       "      <td>NaN</td>\n",
       "      <td>NaN</td>\n",
       "      <td>NaN</td>\n",
       "      <td>NaN</td>\n",
       "      <td>NaN</td>\n",
       "      <td>NaN</td>\n",
       "      <td>NaN</td>\n",
       "      <td>NaN</td>\n",
       "      <td>NaN</td>\n",
       "      <td>...</td>\n",
       "      <td>118.52</td>\n",
       "      <td>130.93</td>\n",
       "      <td>142.17</td>\n",
       "      <td>165.09</td>\n",
       "      <td>107.36</td>\n",
       "      <td>113.25</td>\n",
       "      <td>47.76</td>\n",
       "      <td>16.82</td>\n",
       "      <td>3.60</td>\n",
       "      <td>NaN</td>\n",
       "    </tr>\n",
       "    <tr>\n",
       "      <td>PS4</td>\n",
       "      <td>NaN</td>\n",
       "      <td>NaN</td>\n",
       "      <td>NaN</td>\n",
       "      <td>NaN</td>\n",
       "      <td>NaN</td>\n",
       "      <td>NaN</td>\n",
       "      <td>NaN</td>\n",
       "      <td>NaN</td>\n",
       "      <td>NaN</td>\n",
       "      <td>NaN</td>\n",
       "      <td>...</td>\n",
       "      <td>NaN</td>\n",
       "      <td>NaN</td>\n",
       "      <td>NaN</td>\n",
       "      <td>NaN</td>\n",
       "      <td>NaN</td>\n",
       "      <td>25.99</td>\n",
       "      <td>100.00</td>\n",
       "      <td>118.90</td>\n",
       "      <td>69.25</td>\n",
       "      <td>NaN</td>\n",
       "    </tr>\n",
       "    <tr>\n",
       "      <td>PSP</td>\n",
       "      <td>NaN</td>\n",
       "      <td>NaN</td>\n",
       "      <td>NaN</td>\n",
       "      <td>NaN</td>\n",
       "      <td>NaN</td>\n",
       "      <td>NaN</td>\n",
       "      <td>NaN</td>\n",
       "      <td>NaN</td>\n",
       "      <td>NaN</td>\n",
       "      <td>7.06</td>\n",
       "      <td>...</td>\n",
       "      <td>34.55</td>\n",
       "      <td>42.30</td>\n",
       "      <td>35.04</td>\n",
       "      <td>17.82</td>\n",
       "      <td>7.69</td>\n",
       "      <td>3.14</td>\n",
       "      <td>0.24</td>\n",
       "      <td>0.12</td>\n",
       "      <td>NaN</td>\n",
       "      <td>NaN</td>\n",
       "    </tr>\n",
       "    <tr>\n",
       "      <td>Wii</td>\n",
       "      <td>NaN</td>\n",
       "      <td>NaN</td>\n",
       "      <td>NaN</td>\n",
       "      <td>NaN</td>\n",
       "      <td>NaN</td>\n",
       "      <td>NaN</td>\n",
       "      <td>NaN</td>\n",
       "      <td>NaN</td>\n",
       "      <td>NaN</td>\n",
       "      <td>NaN</td>\n",
       "      <td>...</td>\n",
       "      <td>171.32</td>\n",
       "      <td>223.30</td>\n",
       "      <td>127.95</td>\n",
       "      <td>59.65</td>\n",
       "      <td>21.71</td>\n",
       "      <td>8.59</td>\n",
       "      <td>3.75</td>\n",
       "      <td>1.14</td>\n",
       "      <td>0.18</td>\n",
       "      <td>NaN</td>\n",
       "    </tr>\n",
       "    <tr>\n",
       "      <td>X360</td>\n",
       "      <td>NaN</td>\n",
       "      <td>NaN</td>\n",
       "      <td>NaN</td>\n",
       "      <td>NaN</td>\n",
       "      <td>NaN</td>\n",
       "      <td>NaN</td>\n",
       "      <td>NaN</td>\n",
       "      <td>NaN</td>\n",
       "      <td>NaN</td>\n",
       "      <td>NaN</td>\n",
       "      <td>...</td>\n",
       "      <td>135.26</td>\n",
       "      <td>120.29</td>\n",
       "      <td>180.21</td>\n",
       "      <td>143.84</td>\n",
       "      <td>99.74</td>\n",
       "      <td>88.58</td>\n",
       "      <td>34.74</td>\n",
       "      <td>11.96</td>\n",
       "      <td>1.52</td>\n",
       "      <td>NaN</td>\n",
       "    </tr>\n",
       "  </tbody>\n",
       "</table>\n",
       "<p>10 rows × 23 columns</p>\n",
       "</div>"
      ],
      "text/plain": [
       "year_grouped   1995   1996    1997    1998    1999   2000    2001    2002  \\\n",
       "platform                                                                    \n",
       "DS              NaN    NaN     NaN     NaN     NaN    NaN     NaN     NaN   \n",
       "GBA             NaN    NaN     NaN     NaN     NaN   0.07   61.53   74.16   \n",
       "PC             4.22  10.58   11.27    3.26    4.74   4.66    5.47    8.57   \n",
       "PS            35.96  94.70  136.17  172.77  144.53  96.37   35.59    6.67   \n",
       "PS2             NaN    NaN     NaN     NaN     NaN  39.17  166.43  205.38   \n",
       "PS3             NaN    NaN     NaN     NaN     NaN    NaN     NaN     NaN   \n",
       "PS4             NaN    NaN     NaN     NaN     NaN    NaN     NaN     NaN   \n",
       "PSP             NaN    NaN     NaN     NaN     NaN    NaN     NaN     NaN   \n",
       "Wii             NaN    NaN     NaN     NaN     NaN    NaN     NaN     NaN   \n",
       "X360            NaN    NaN     NaN     NaN     NaN    NaN     NaN     NaN   \n",
       "\n",
       "year_grouped    2003    2004  ...    2008    2009    2010    2011    2012  \\\n",
       "platform                      ...                                           \n",
       "DS               NaN   17.27  ...  148.65  119.54   85.02   26.18   11.01   \n",
       "GBA            61.64   77.91  ...     NaN     NaN     NaN     NaN     NaN   \n",
       "PC              8.84   10.39  ...   12.42   20.67   24.28   35.03   23.22   \n",
       "PS              2.07     NaN  ...     NaN     NaN     NaN     NaN     NaN   \n",
       "PS2           184.31  234.02  ...   53.90   26.40    5.64    0.45     NaN   \n",
       "PS3              NaN     NaN  ...  118.52  130.93  142.17  165.09  107.36   \n",
       "PS4              NaN     NaN  ...     NaN     NaN     NaN     NaN     NaN   \n",
       "PSP              NaN    7.06  ...   34.55   42.30   35.04   17.82    7.69   \n",
       "Wii              NaN     NaN  ...  171.32  223.30  127.95   59.65   21.71   \n",
       "X360             NaN     NaN  ...  135.26  120.29  180.21  143.84   99.74   \n",
       "\n",
       "year_grouped    2013    2014    2015   2016  1980-1994  \n",
       "platform                                                \n",
       "DS              1.54     NaN     NaN    NaN       0.02  \n",
       "GBA              NaN     NaN     NaN    NaN        NaN  \n",
       "PC             12.38   13.28    8.52   5.25      15.97  \n",
       "PS               NaN     NaN     NaN    NaN       6.03  \n",
       "PS2              NaN     NaN     NaN    NaN        NaN  \n",
       "PS3           113.25   47.76   16.82   3.60        NaN  \n",
       "PS4            25.99  100.00  118.90  69.25        NaN  \n",
       "PSP             3.14    0.24    0.12    NaN        NaN  \n",
       "Wii             8.59    3.75    1.14   0.18        NaN  \n",
       "X360           88.58   34.74   11.96   1.52        NaN  \n",
       "\n",
       "[10 rows x 23 columns]"
      ]
     },
     "execution_count": 102,
     "metadata": {},
     "output_type": "execute_result"
    }
   ],
   "source": [
    "best_platform_dict = data_platform_sales.query('all_sales > 259')\n",
    "best_platform = best_platform_dict['platform']\n",
    "data_pivot = data.pivot_table(index='platform', columns='year_grouped', values='all_sales', aggfunc='sum')\n",
    "\n",
    "data_pivot = data_pivot.query('platform in @best_platform')\n",
    "data_pivot"
   ]
  },
  {
   "cell_type": "markdown",
   "metadata": {},
   "source": [
    "Проверим, за какой характерный срок появляются новые и исчезают старые платформы:"
   ]
  },
  {
   "cell_type": "code",
   "execution_count": 103,
   "metadata": {},
   "outputs": [
    {
     "data": {
      "text/html": [
       "<div>\n",
       "<style scoped>\n",
       "    .dataframe tbody tr th:only-of-type {\n",
       "        vertical-align: middle;\n",
       "    }\n",
       "\n",
       "    .dataframe tbody tr th {\n",
       "        vertical-align: top;\n",
       "    }\n",
       "\n",
       "    .dataframe thead th {\n",
       "        text-align: right;\n",
       "    }\n",
       "</style>\n",
       "<table border=\"1\" class=\"dataframe\">\n",
       "  <thead>\n",
       "    <tr style=\"text-align: right;\">\n",
       "      <th></th>\n",
       "      <th>platform</th>\n",
       "      <th>years_life</th>\n",
       "    </tr>\n",
       "  </thead>\n",
       "  <tbody>\n",
       "    <tr>\n",
       "      <td>13</td>\n",
       "      <td>PC</td>\n",
       "      <td>31</td>\n",
       "    </tr>\n",
       "    <tr>\n",
       "      <td>4</td>\n",
       "      <td>DS</td>\n",
       "      <td>28</td>\n",
       "    </tr>\n",
       "    <tr>\n",
       "      <td>5</td>\n",
       "      <td>GB</td>\n",
       "      <td>13</td>\n",
       "    </tr>\n",
       "    <tr>\n",
       "      <td>28</td>\n",
       "      <td>X360</td>\n",
       "      <td>11</td>\n",
       "    </tr>\n",
       "    <tr>\n",
       "      <td>19</td>\n",
       "      <td>PSP</td>\n",
       "      <td>11</td>\n",
       "    </tr>\n",
       "    <tr>\n",
       "      <td>16</td>\n",
       "      <td>PS2</td>\n",
       "      <td>11</td>\n",
       "    </tr>\n",
       "    <tr>\n",
       "      <td>11</td>\n",
       "      <td>NES</td>\n",
       "      <td>11</td>\n",
       "    </tr>\n",
       "    <tr>\n",
       "      <td>3</td>\n",
       "      <td>DC</td>\n",
       "      <td>10</td>\n",
       "    </tr>\n",
       "    <tr>\n",
       "      <td>26</td>\n",
       "      <td>Wii</td>\n",
       "      <td>10</td>\n",
       "    </tr>\n",
       "    <tr>\n",
       "      <td>17</td>\n",
       "      <td>PS3</td>\n",
       "      <td>10</td>\n",
       "    </tr>\n",
       "    <tr>\n",
       "      <td>0</td>\n",
       "      <td>2600</td>\n",
       "      <td>9</td>\n",
       "    </tr>\n",
       "    <tr>\n",
       "      <td>23</td>\n",
       "      <td>SNES</td>\n",
       "      <td>9</td>\n",
       "    </tr>\n",
       "    <tr>\n",
       "      <td>15</td>\n",
       "      <td>PS</td>\n",
       "      <td>9</td>\n",
       "    </tr>\n",
       "    <tr>\n",
       "      <td>29</td>\n",
       "      <td>XB</td>\n",
       "      <td>8</td>\n",
       "    </tr>\n",
       "    <tr>\n",
       "      <td>6</td>\n",
       "      <td>GBA</td>\n",
       "      <td>7</td>\n",
       "    </tr>\n",
       "    <tr>\n",
       "      <td>7</td>\n",
       "      <td>GC</td>\n",
       "      <td>6</td>\n",
       "    </tr>\n",
       "    <tr>\n",
       "      <td>10</td>\n",
       "      <td>N64</td>\n",
       "      <td>6</td>\n",
       "    </tr>\n",
       "    <tr>\n",
       "      <td>2</td>\n",
       "      <td>3DS</td>\n",
       "      <td>5</td>\n",
       "    </tr>\n",
       "    <tr>\n",
       "      <td>20</td>\n",
       "      <td>PSV</td>\n",
       "      <td>5</td>\n",
       "    </tr>\n",
       "    <tr>\n",
       "      <td>21</td>\n",
       "      <td>SAT</td>\n",
       "      <td>5</td>\n",
       "    </tr>\n",
       "    <tr>\n",
       "      <td>27</td>\n",
       "      <td>WiiU</td>\n",
       "      <td>4</td>\n",
       "    </tr>\n",
       "    <tr>\n",
       "      <td>8</td>\n",
       "      <td>GEN</td>\n",
       "      <td>4</td>\n",
       "    </tr>\n",
       "    <tr>\n",
       "      <td>12</td>\n",
       "      <td>NG</td>\n",
       "      <td>3</td>\n",
       "    </tr>\n",
       "    <tr>\n",
       "      <td>30</td>\n",
       "      <td>XOne</td>\n",
       "      <td>3</td>\n",
       "    </tr>\n",
       "    <tr>\n",
       "      <td>18</td>\n",
       "      <td>PS4</td>\n",
       "      <td>3</td>\n",
       "    </tr>\n",
       "    <tr>\n",
       "      <td>25</td>\n",
       "      <td>WS</td>\n",
       "      <td>2</td>\n",
       "    </tr>\n",
       "    <tr>\n",
       "      <td>1</td>\n",
       "      <td>3DO</td>\n",
       "      <td>1</td>\n",
       "    </tr>\n",
       "    <tr>\n",
       "      <td>22</td>\n",
       "      <td>SCD</td>\n",
       "      <td>1</td>\n",
       "    </tr>\n",
       "    <tr>\n",
       "      <td>24</td>\n",
       "      <td>TG16</td>\n",
       "      <td>0</td>\n",
       "    </tr>\n",
       "    <tr>\n",
       "      <td>14</td>\n",
       "      <td>PCFX</td>\n",
       "      <td>0</td>\n",
       "    </tr>\n",
       "    <tr>\n",
       "      <td>9</td>\n",
       "      <td>GG</td>\n",
       "      <td>0</td>\n",
       "    </tr>\n",
       "  </tbody>\n",
       "</table>\n",
       "</div>"
      ],
      "text/plain": [
       "   platform  years_life\n",
       "13       PC          31\n",
       "4        DS          28\n",
       "5        GB          13\n",
       "28     X360          11\n",
       "19      PSP          11\n",
       "16      PS2          11\n",
       "11      NES          11\n",
       "3        DC          10\n",
       "26      Wii          10\n",
       "17      PS3          10\n",
       "0      2600           9\n",
       "23     SNES           9\n",
       "15       PS           9\n",
       "29       XB           8\n",
       "6       GBA           7\n",
       "7        GC           6\n",
       "10      N64           6\n",
       "2       3DS           5\n",
       "20      PSV           5\n",
       "21      SAT           5\n",
       "27     WiiU           4\n",
       "8       GEN           4\n",
       "12       NG           3\n",
       "30     XOne           3\n",
       "18      PS4           3\n",
       "25       WS           2\n",
       "1       3DO           1\n",
       "22      SCD           1\n",
       "24     TG16           0\n",
       "14     PCFX           0\n",
       "9        GG           0"
      ]
     },
     "execution_count": 103,
     "metadata": {},
     "output_type": "execute_result"
    }
   ],
   "source": [
    "platform_life = (data.groupby('platform')['year_of_release'].max() - data.groupby('platform')['year_of_release'].min()).reset_index()\n",
    "platform_life.columns = ['platform', 'years_life']\n",
    "\n",
    "platform_life.sort_values(by = 'years_life', ascending = False)"
   ]
  },
  {
   "cell_type": "code",
   "execution_count": 104,
   "metadata": {
    "scrolled": true
   },
   "outputs": [
    {
     "name": "stdout",
     "output_type": "stream",
     "text": [
      "Среднее время жизни платформы: 7.612903225806452\n"
     ]
    }
   ],
   "source": [
    "print('Среднее время жизни платформы:', platform_life['years_life'].mean())"
   ]
  },
  {
   "cell_type": "markdown",
   "metadata": {},
   "source": [
    "Возьмем данные за соответствующий актуальный период, который определим как **8  лет / 2 года = 4 года** с учетом того, что  на период жизни пллатформы приходится как ее взлет, так и падение, которые занимают приблизительно одинаковое время"
   ]
  },
  {
   "cell_type": "code",
   "execution_count": 105,
   "metadata": {},
   "outputs": [
    {
     "data": {
      "text/plain": [
       "2015    606\n",
       "2014    582\n",
       "2013    552\n",
       "2016    502\n",
       "Name: year_of_release, dtype: int64"
      ]
     },
     "execution_count": 105,
     "metadata": {},
     "output_type": "execute_result"
    }
   ],
   "source": [
    "data_actual = data.query('year_of_release >= 2013')\n",
    "data_actual['year_of_release'].value_counts()"
   ]
  },
  {
   "cell_type": "code",
   "execution_count": 106,
   "metadata": {},
   "outputs": [
    {
     "data": {
      "text/html": [
       "<div>\n",
       "<style scoped>\n",
       "    .dataframe tbody tr th:only-of-type {\n",
       "        vertical-align: middle;\n",
       "    }\n",
       "\n",
       "    .dataframe tbody tr th {\n",
       "        vertical-align: top;\n",
       "    }\n",
       "\n",
       "    .dataframe thead th {\n",
       "        text-align: right;\n",
       "    }\n",
       "</style>\n",
       "<table border=\"1\" class=\"dataframe\">\n",
       "  <thead>\n",
       "    <tr style=\"text-align: right;\">\n",
       "      <th></th>\n",
       "      <th>platform</th>\n",
       "      <th>name</th>\n",
       "      <th>all_sales</th>\n",
       "    </tr>\n",
       "  </thead>\n",
       "  <tbody>\n",
       "    <tr>\n",
       "      <td>0</td>\n",
       "      <td>PS4</td>\n",
       "      <td>392</td>\n",
       "      <td>314.14</td>\n",
       "    </tr>\n",
       "    <tr>\n",
       "      <td>1</td>\n",
       "      <td>PS3</td>\n",
       "      <td>345</td>\n",
       "      <td>181.43</td>\n",
       "    </tr>\n",
       "    <tr>\n",
       "      <td>2</td>\n",
       "      <td>XOne</td>\n",
       "      <td>247</td>\n",
       "      <td>159.32</td>\n",
       "    </tr>\n",
       "    <tr>\n",
       "      <td>3</td>\n",
       "      <td>3DS</td>\n",
       "      <td>311</td>\n",
       "      <td>144.44</td>\n",
       "    </tr>\n",
       "    <tr>\n",
       "      <td>4</td>\n",
       "      <td>X360</td>\n",
       "      <td>186</td>\n",
       "      <td>136.80</td>\n",
       "    </tr>\n",
       "    <tr>\n",
       "      <td>5</td>\n",
       "      <td>WiiU</td>\n",
       "      <td>115</td>\n",
       "      <td>64.63</td>\n",
       "    </tr>\n",
       "    <tr>\n",
       "      <td>6</td>\n",
       "      <td>PC</td>\n",
       "      <td>189</td>\n",
       "      <td>39.43</td>\n",
       "    </tr>\n",
       "    <tr>\n",
       "      <td>7</td>\n",
       "      <td>PSV</td>\n",
       "      <td>359</td>\n",
       "      <td>33.25</td>\n",
       "    </tr>\n",
       "    <tr>\n",
       "      <td>8</td>\n",
       "      <td>Wii</td>\n",
       "      <td>23</td>\n",
       "      <td>13.66</td>\n",
       "    </tr>\n",
       "    <tr>\n",
       "      <td>9</td>\n",
       "      <td>PSP</td>\n",
       "      <td>67</td>\n",
       "      <td>3.50</td>\n",
       "    </tr>\n",
       "    <tr>\n",
       "      <td>10</td>\n",
       "      <td>DS</td>\n",
       "      <td>8</td>\n",
       "      <td>1.54</td>\n",
       "    </tr>\n",
       "  </tbody>\n",
       "</table>\n",
       "</div>"
      ],
      "text/plain": [
       "   platform  name  all_sales\n",
       "0       PS4   392     314.14\n",
       "1       PS3   345     181.43\n",
       "2      XOne   247     159.32\n",
       "3       3DS   311     144.44\n",
       "4      X360   186     136.80\n",
       "5      WiiU   115      64.63\n",
       "6        PC   189      39.43\n",
       "7       PSV   359      33.25\n",
       "8       Wii    23      13.66\n",
       "9       PSP    67       3.50\n",
       "10       DS     8       1.54"
      ]
     },
     "execution_count": 106,
     "metadata": {},
     "output_type": "execute_result"
    }
   ],
   "source": [
    "data_actual_platform = data_actual.groupby('platform').agg({'name': 'count', 'all_sales': 'sum'}).sort_values(by = 'all_sales', ascending = False).reset_index()\n",
    "data_actual_platform"
   ]
  },
  {
   "cell_type": "code",
   "execution_count": 107,
   "metadata": {},
   "outputs": [
    {
     "data": {
      "text/html": [
       "<div>\n",
       "<style scoped>\n",
       "    .dataframe tbody tr th:only-of-type {\n",
       "        vertical-align: middle;\n",
       "    }\n",
       "\n",
       "    .dataframe tbody tr th {\n",
       "        vertical-align: top;\n",
       "    }\n",
       "\n",
       "    .dataframe thead th {\n",
       "        text-align: right;\n",
       "    }\n",
       "</style>\n",
       "<table border=\"1\" class=\"dataframe\">\n",
       "  <thead>\n",
       "    <tr style=\"text-align: right;\">\n",
       "      <th>year_of_release</th>\n",
       "      <th>2013</th>\n",
       "      <th>2014</th>\n",
       "      <th>2015</th>\n",
       "      <th>2016</th>\n",
       "    </tr>\n",
       "    <tr>\n",
       "      <th>platform</th>\n",
       "      <th></th>\n",
       "      <th></th>\n",
       "      <th></th>\n",
       "      <th></th>\n",
       "    </tr>\n",
       "  </thead>\n",
       "  <tbody>\n",
       "    <tr>\n",
       "      <td>3DS</td>\n",
       "      <td>57.76</td>\n",
       "      <td>43.76</td>\n",
       "      <td>27.78</td>\n",
       "      <td>15.14</td>\n",
       "    </tr>\n",
       "    <tr>\n",
       "      <td>DS</td>\n",
       "      <td>1.54</td>\n",
       "      <td>NaN</td>\n",
       "      <td>NaN</td>\n",
       "      <td>NaN</td>\n",
       "    </tr>\n",
       "    <tr>\n",
       "      <td>PC</td>\n",
       "      <td>12.38</td>\n",
       "      <td>13.28</td>\n",
       "      <td>8.52</td>\n",
       "      <td>5.25</td>\n",
       "    </tr>\n",
       "    <tr>\n",
       "      <td>PS3</td>\n",
       "      <td>113.25</td>\n",
       "      <td>47.76</td>\n",
       "      <td>16.82</td>\n",
       "      <td>3.60</td>\n",
       "    </tr>\n",
       "    <tr>\n",
       "      <td>PS4</td>\n",
       "      <td>25.99</td>\n",
       "      <td>100.00</td>\n",
       "      <td>118.90</td>\n",
       "      <td>69.25</td>\n",
       "    </tr>\n",
       "    <tr>\n",
       "      <td>PSP</td>\n",
       "      <td>3.14</td>\n",
       "      <td>0.24</td>\n",
       "      <td>0.12</td>\n",
       "      <td>NaN</td>\n",
       "    </tr>\n",
       "    <tr>\n",
       "      <td>PSV</td>\n",
       "      <td>10.59</td>\n",
       "      <td>12.16</td>\n",
       "      <td>6.25</td>\n",
       "      <td>4.25</td>\n",
       "    </tr>\n",
       "    <tr>\n",
       "      <td>Wii</td>\n",
       "      <td>8.59</td>\n",
       "      <td>3.75</td>\n",
       "      <td>1.14</td>\n",
       "      <td>0.18</td>\n",
       "    </tr>\n",
       "    <tr>\n",
       "      <td>WiiU</td>\n",
       "      <td>21.65</td>\n",
       "      <td>22.03</td>\n",
       "      <td>16.35</td>\n",
       "      <td>4.60</td>\n",
       "    </tr>\n",
       "    <tr>\n",
       "      <td>X360</td>\n",
       "      <td>88.58</td>\n",
       "      <td>34.74</td>\n",
       "      <td>11.96</td>\n",
       "      <td>1.52</td>\n",
       "    </tr>\n",
       "    <tr>\n",
       "      <td>XOne</td>\n",
       "      <td>18.96</td>\n",
       "      <td>54.07</td>\n",
       "      <td>60.14</td>\n",
       "      <td>26.15</td>\n",
       "    </tr>\n",
       "  </tbody>\n",
       "</table>\n",
       "</div>"
      ],
      "text/plain": [
       "year_of_release    2013    2014    2015   2016\n",
       "platform                                      \n",
       "3DS               57.76   43.76   27.78  15.14\n",
       "DS                 1.54     NaN     NaN    NaN\n",
       "PC                12.38   13.28    8.52   5.25\n",
       "PS3              113.25   47.76   16.82   3.60\n",
       "PS4               25.99  100.00  118.90  69.25\n",
       "PSP                3.14    0.24    0.12    NaN\n",
       "PSV               10.59   12.16    6.25   4.25\n",
       "Wii                8.59    3.75    1.14   0.18\n",
       "WiiU              21.65   22.03   16.35   4.60\n",
       "X360              88.58   34.74   11.96   1.52\n",
       "XOne              18.96   54.07   60.14  26.15"
      ]
     },
     "execution_count": 107,
     "metadata": {},
     "output_type": "execute_result"
    }
   ],
   "source": [
    "data_actual.pivot_table(index='platform', columns='year_of_release', values='all_sales', aggfunc='sum')"
   ]
  },
  {
   "cell_type": "markdown",
   "metadata": {},
   "source": [
    "Как видим, в рассматриваемом периоде лидируют по продажам ~~*PS3, X360, Wii*~~ *PS4, PS3, XboxOne*. Однако PS3 - консоль уходящего поколения, поэтому продажи у нее падают. \n",
    "\n",
    "Напротив, у консолей нового поколения - *PS4, XOne* продажи начинают расти. \n",
    "\n",
    "У других консолей -  *3DS, WiiU* продажи падают не так сильно, поскольку они появились на год ранее лидеров роста и все еще остаются актульными платформами. \n",
    "\n",
    "Отдельным является рынок *PC* игр - несмотря на то, что продажи в связи с выходом нового поколения приставок упали, особенность этой платфоры относительно других (PC всегда можно модернизировать) не позволяет сбрасывать ее со счетов."
   ]
  },
  {
   "cell_type": "code",
   "execution_count": 108,
   "metadata": {
    "scrolled": true
   },
   "outputs": [
    {
     "data": {
      "image/png": "[encoded data removed]",
      "text/plain": [
       "<Figure size 432x288 with 1 Axes>"
      ]
     },
     "metadata": {
      "needs_background": "light"
     },
     "output_type": "display_data"
    }
   ],
   "source": [
    "plt.ylim(0, 500)\n",
    "data_actual_platform.boxplot(column='all_sales')\n",
    "plt.title('Подажи по платформам')\n",
    "plt.show()"
   ]
  },
  {
   "cell_type": "markdown",
   "metadata": {},
   "source": [
    "График «ящик с усами» по глобальным продажам игр в разбивке по платформам показывает, что максимальным значением продаж является 310, он принадлежит PS4 - лидеру по продажам. Редкие значения в рассматриваемом периоде и платформам отсутствуют."
   ]
  },
  {
   "cell_type": "code",
   "execution_count": 144,
   "metadata": {},
   "outputs": [
    {
     "data": {
      "text/html": [
       "<div>\n",
       "<style scoped>\n",
       "    .dataframe tbody tr th:only-of-type {\n",
       "        vertical-align: middle;\n",
       "    }\n",
       "\n",
       "    .dataframe tbody tr th {\n",
       "        vertical-align: top;\n",
       "    }\n",
       "\n",
       "    .dataframe thead tr th {\n",
       "        text-align: left;\n",
       "    }\n",
       "\n",
       "    .dataframe thead tr:last-of-type th {\n",
       "        text-align: right;\n",
       "    }\n",
       "</style>\n",
       "<table border=\"1\" class=\"dataframe\">\n",
       "  <thead>\n",
       "    <tr>\n",
       "      <th></th>\n",
       "      <th>name</th>\n",
       "      <th colspan=\"4\" halign=\"left\">all_sales</th>\n",
       "    </tr>\n",
       "    <tr>\n",
       "      <th></th>\n",
       "      <th>count</th>\n",
       "      <th>sum</th>\n",
       "      <th>min</th>\n",
       "      <th>max</th>\n",
       "      <th>mean</th>\n",
       "    </tr>\n",
       "    <tr>\n",
       "      <th>platform</th>\n",
       "      <th></th>\n",
       "      <th></th>\n",
       "      <th></th>\n",
       "      <th></th>\n",
       "      <th></th>\n",
       "    </tr>\n",
       "  </thead>\n",
       "  <tbody>\n",
       "    <tr>\n",
       "      <td>3DS</td>\n",
       "      <td>311</td>\n",
       "      <td>144.44</td>\n",
       "      <td>0.01</td>\n",
       "      <td>14.60</td>\n",
       "      <td>0.464437</td>\n",
       "    </tr>\n",
       "    <tr>\n",
       "      <td>PS4</td>\n",
       "      <td>392</td>\n",
       "      <td>314.14</td>\n",
       "      <td>0.01</td>\n",
       "      <td>14.63</td>\n",
       "      <td>0.801378</td>\n",
       "    </tr>\n",
       "    <tr>\n",
       "      <td>XOne</td>\n",
       "      <td>247</td>\n",
       "      <td>159.32</td>\n",
       "      <td>0.01</td>\n",
       "      <td>7.39</td>\n",
       "      <td>0.645020</td>\n",
       "    </tr>\n",
       "  </tbody>\n",
       "</table>\n",
       "</div>"
      ],
      "text/plain": [
       "          name all_sales                       \n",
       "         count       sum   min    max      mean\n",
       "platform                                       \n",
       "3DS        311    144.44  0.01  14.60  0.464437\n",
       "PS4        392    314.14  0.01  14.63  0.801378\n",
       "XOne       247    159.32  0.01   7.39  0.645020"
      ]
     },
     "execution_count": 144,
     "metadata": {},
     "output_type": "execute_result"
    },
    {
     "data": {
      "image/png": "[encoded data removed]",
      "text/plain": [
       "<Figure size 432x288 with 1 Axes>"
      ]
     },
     "metadata": {
      "needs_background": "light"
     },
     "output_type": "display_data"
    }
   ],
   "source": [
    "import warnings\n",
    "warnings.filterwarnings(\"ignore\", category=np.VisibleDeprecationWarning) \n",
    "data_top_platform = data_actual.query('platform == \"PS4\" or platform == \"XOne\" or platform == \"3DS\"')\n",
    "data_top_platform.boxplot(column='all_sales', by='platform')\n",
    "data_top_platform.groupby('platform').agg({'name': 'count', 'all_sales': ['sum', 'min', 'max', 'mean']})"
   ]
  },
  {
   "cell_type": "markdown",
   "metadata": {},
   "source": [
    "Посмотрим как влияют на продажи внутри одной популярной платформы (*PS3*) отзывы пользователей и критиков. Для этого построим диаграмму рассеяния и посчитаем **корреляцию** между отзывами и продажами:"
   ]
  },
  {
   "cell_type": "code",
   "execution_count": 109,
   "metadata": {
    "scrolled": false
   },
   "outputs": [
    {
     "data": {
      "image/png": "[encoded data removed]",
      "text/plain": [
       "<Figure size 432x288 with 1 Axes>"
      ]
     },
     "metadata": {
      "needs_background": "light"
     },
     "output_type": "display_data"
    },
    {
     "name": "stdout",
     "output_type": "stream",
     "text": [
      "Корреляция между отзывами критиков и продажами (PS3): 0.33380663565061736\n"
     ]
    },
    {
     "data": {
      "image/png": "[encoded data removed]",
      "text/plain": [
       "<Figure size 432x288 with 1 Axes>"
      ]
     },
     "metadata": {
      "needs_background": "light"
     },
     "output_type": "display_data"
    },
    {
     "name": "stdout",
     "output_type": "stream",
     "text": [
      "Корреляция между отзывами геймеров и продажами (PS3): 0.02269094327112414\n"
     ]
    }
   ],
   "source": [
    "data_ps3 = data_actual.dropna().query('platform == \"PS3\" and critic_score > 0 and user_score > 0')\n",
    "data_ps3.plot(x='critic_score', y='all_sales', kind='scatter', grid=True, alpha=0.3)\n",
    "plt.title('Влияние критиков на продажи (PS3)')\n",
    "plt.show()\n",
    "print('Корреляция между отзывами критиков и продажами (PS3):', data_ps3['critic_score'].corr(data_ps3['all_sales']))\n",
    "\n",
    "data_ps3.plot(x='user_score', y='all_sales', kind='scatter', grid=True, alpha=0.3) \n",
    "plt.title('Влияние пользователей на продажи (PS3)')\n",
    "plt.show()\n",
    "print('Корреляция между отзывами геймеров и продажами (PS3):', data_ps3['user_score'].corr(data_ps3['all_sales']))"
   ]
  },
  {
   "cell_type": "markdown",
   "metadata": {},
   "source": [
    "Заметна невысокая прямая зависимость продаж игр на PS3 от рейтинга критиков, тогда как зависимость от рейтинга пользователей минимальная. Соотнесем выводы с продажами игр на других платформах:"
   ]
  },
  {
   "cell_type": "code",
   "execution_count": 110,
   "metadata": {},
   "outputs": [
    {
     "data": {
      "image/png": "[encoded data removed]",
      "text/plain": [
       "<Figure size 432x288 with 1 Axes>"
      ]
     },
     "metadata": {
      "needs_background": "light"
     },
     "output_type": "display_data"
    },
    {
     "name": "stdout",
     "output_type": "stream",
     "text": [
      "Корреляция между отзывами критиков и продажами (all platforms): 0.3166187626679502\n"
     ]
    },
    {
     "data": {
      "image/png": "[encoded data removed]",
      "text/plain": [
       "<Figure size 432x288 with 1 Axes>"
      ]
     },
     "metadata": {
      "needs_background": "light"
     },
     "output_type": "display_data"
    },
    {
     "name": "stdout",
     "output_type": "stream",
     "text": [
      "Корреляция между отзывами геймеров и продажами (all platforms): -0.009335980481055975\n"
     ]
    }
   ],
   "source": [
    "data_other = data_actual.dropna().query('platform != \"PS3\" and critic_score > 0 and user_score > 0')\n",
    "data_other.plot(x='critic_score', y='all_sales', kind='scatter', grid=True, alpha=0.3)\n",
    "plt.title('Влияние критиков на продажи (all platforms)')\n",
    "plt.show()\n",
    "print('Корреляция между отзывами критиков и продажами (all platforms):', data_other['critic_score'].corr(data_other['all_sales']))\n",
    "\n",
    "data_other.plot(x='user_score', y='all_sales', kind='scatter', grid=True, alpha=0.3) \n",
    "plt.title('Влияние пользователей на продажи (all platforms)')\n",
    "plt.show()\n",
    "print('Корреляция между отзывами геймеров и продажами (all platforms):', data_other['user_score'].corr(data_other['all_sales']))"
   ]
  },
  {
   "cell_type": "markdown",
   "metadata": {},
   "source": [
    "На остальных платформах зависимость продаж от оценок критиков еще меньше, а от оценок пользователей ее почти нет."
   ]
  },
  {
   "cell_type": "markdown",
   "metadata": {},
   "source": [
    "Посмотрим на общее распределение игр по *жанрам*."
   ]
  },
  {
   "cell_type": "code",
   "execution_count": 111,
   "metadata": {},
   "outputs": [
    {
     "data": {
      "text/html": [
       "<div>\n",
       "<style scoped>\n",
       "    .dataframe tbody tr th:only-of-type {\n",
       "        vertical-align: middle;\n",
       "    }\n",
       "\n",
       "    .dataframe tbody tr th {\n",
       "        vertical-align: top;\n",
       "    }\n",
       "\n",
       "    .dataframe thead tr th {\n",
       "        text-align: left;\n",
       "    }\n",
       "</style>\n",
       "<table border=\"1\" class=\"dataframe\">\n",
       "  <thead>\n",
       "    <tr>\n",
       "      <th></th>\n",
       "      <th>genre</th>\n",
       "      <th>name</th>\n",
       "      <th colspan=\"2\" halign=\"left\">all_sales</th>\n",
       "    </tr>\n",
       "    <tr>\n",
       "      <th></th>\n",
       "      <th></th>\n",
       "      <th>count</th>\n",
       "      <th>mean</th>\n",
       "      <th>sum</th>\n",
       "    </tr>\n",
       "  </thead>\n",
       "  <tbody>\n",
       "    <tr>\n",
       "      <td>0</td>\n",
       "      <td>Action</td>\n",
       "      <td>767</td>\n",
       "      <td>0.420169</td>\n",
       "      <td>322.27</td>\n",
       "    </tr>\n",
       "    <tr>\n",
       "      <td>1</td>\n",
       "      <td>Shooter</td>\n",
       "      <td>188</td>\n",
       "      <td>1.239628</td>\n",
       "      <td>233.05</td>\n",
       "    </tr>\n",
       "    <tr>\n",
       "      <td>2</td>\n",
       "      <td>Sports</td>\n",
       "      <td>215</td>\n",
       "      <td>0.700791</td>\n",
       "      <td>150.67</td>\n",
       "    </tr>\n",
       "    <tr>\n",
       "      <td>3</td>\n",
       "      <td>Role-Playing</td>\n",
       "      <td>294</td>\n",
       "      <td>0.497211</td>\n",
       "      <td>146.18</td>\n",
       "    </tr>\n",
       "    <tr>\n",
       "      <td>4</td>\n",
       "      <td>Misc</td>\n",
       "      <td>155</td>\n",
       "      <td>0.405290</td>\n",
       "      <td>62.82</td>\n",
       "    </tr>\n",
       "    <tr>\n",
       "      <td>5</td>\n",
       "      <td>Platform</td>\n",
       "      <td>74</td>\n",
       "      <td>0.576081</td>\n",
       "      <td>42.63</td>\n",
       "    </tr>\n",
       "    <tr>\n",
       "      <td>6</td>\n",
       "      <td>Racing</td>\n",
       "      <td>86</td>\n",
       "      <td>0.464884</td>\n",
       "      <td>39.98</td>\n",
       "    </tr>\n",
       "    <tr>\n",
       "      <td>7</td>\n",
       "      <td>Fighting</td>\n",
       "      <td>80</td>\n",
       "      <td>0.441375</td>\n",
       "      <td>35.31</td>\n",
       "    </tr>\n",
       "    <tr>\n",
       "      <td>8</td>\n",
       "      <td>Adventure</td>\n",
       "      <td>246</td>\n",
       "      <td>0.096463</td>\n",
       "      <td>23.73</td>\n",
       "    </tr>\n",
       "    <tr>\n",
       "      <td>9</td>\n",
       "      <td>Simulation</td>\n",
       "      <td>64</td>\n",
       "      <td>0.347656</td>\n",
       "      <td>22.25</td>\n",
       "    </tr>\n",
       "    <tr>\n",
       "      <td>10</td>\n",
       "      <td>Strategy</td>\n",
       "      <td>56</td>\n",
       "      <td>0.180000</td>\n",
       "      <td>10.08</td>\n",
       "    </tr>\n",
       "    <tr>\n",
       "      <td>11</td>\n",
       "      <td>Puzzle</td>\n",
       "      <td>17</td>\n",
       "      <td>0.186471</td>\n",
       "      <td>3.17</td>\n",
       "    </tr>\n",
       "  </tbody>\n",
       "</table>\n",
       "</div>"
      ],
      "text/plain": [
       "           genre  name all_sales        \n",
       "                 count      mean     sum\n",
       "0         Action   767  0.420169  322.27\n",
       "1        Shooter   188  1.239628  233.05\n",
       "2         Sports   215  0.700791  150.67\n",
       "3   Role-Playing   294  0.497211  146.18\n",
       "4           Misc   155  0.405290   62.82\n",
       "5       Platform    74  0.576081   42.63\n",
       "6         Racing    86  0.464884   39.98\n",
       "7       Fighting    80  0.441375   35.31\n",
       "8      Adventure   246  0.096463   23.73\n",
       "9     Simulation    64  0.347656   22.25\n",
       "10      Strategy    56  0.180000   10.08\n",
       "11        Puzzle    17  0.186471    3.17"
      ]
     },
     "execution_count": 111,
     "metadata": {},
     "output_type": "execute_result"
    }
   ],
   "source": [
    "data_actual.groupby('genre').agg({'name': 'count', 'all_sales': ['mean', 'sum']}).sort_values(by = ('all_sales', 'sum'), ascending = False).reset_index()"
   ]
  },
  {
   "cell_type": "markdown",
   "metadata": {},
   "source": [
    "Жанр *Action* значительно опережает другие по количеству игр и суммам продаж. Жанры *Shooter и Sports* на втором и третьем месте соответственно. \n",
    "\n",
    "Самыми непопулярными жанрами оказались *Adventure, Strategy и Puzzle*.\n",
    "\n",
    "**Средний чек выше всего у жанра *Shooter*, *Sports* на втором месте с сильным отставанием**"
   ]
  },
  {
   "cell_type": "markdown",
   "metadata": {},
   "source": [
    "## Портрет пользователя каждого региона\n",
    "\n",
    "Определим для пользователя каждого региона (NA, EU, JP):\n",
    "\n",
    "- Самые популярные платформы (топ-5). \n",
    "- Самые популярные жанры (топ-5). "
   ]
  },
  {
   "cell_type": "code",
   "execution_count": 112,
   "metadata": {},
   "outputs": [
    {
     "data": {
      "text/html": [
       "<div>\n",
       "<style scoped>\n",
       "    .dataframe tbody tr th:only-of-type {\n",
       "        vertical-align: middle;\n",
       "    }\n",
       "\n",
       "    .dataframe tbody tr th {\n",
       "        vertical-align: top;\n",
       "    }\n",
       "\n",
       "    .dataframe thead th {\n",
       "        text-align: right;\n",
       "    }\n",
       "</style>\n",
       "<table border=\"1\" class=\"dataframe\">\n",
       "  <thead>\n",
       "    <tr style=\"text-align: right;\">\n",
       "      <th></th>\n",
       "      <th>platform</th>\n",
       "      <th>name</th>\n",
       "      <th>na_sales</th>\n",
       "    </tr>\n",
       "  </thead>\n",
       "  <tbody>\n",
       "    <tr>\n",
       "      <td>0</td>\n",
       "      <td>PS4</td>\n",
       "      <td>392</td>\n",
       "      <td>108.74</td>\n",
       "    </tr>\n",
       "    <tr>\n",
       "      <td>1</td>\n",
       "      <td>XOne</td>\n",
       "      <td>247</td>\n",
       "      <td>93.12</td>\n",
       "    </tr>\n",
       "    <tr>\n",
       "      <td>2</td>\n",
       "      <td>X360</td>\n",
       "      <td>186</td>\n",
       "      <td>81.66</td>\n",
       "    </tr>\n",
       "    <tr>\n",
       "      <td>3</td>\n",
       "      <td>PS3</td>\n",
       "      <td>345</td>\n",
       "      <td>63.50</td>\n",
       "    </tr>\n",
       "    <tr>\n",
       "      <td>4</td>\n",
       "      <td>3DS</td>\n",
       "      <td>311</td>\n",
       "      <td>39.04</td>\n",
       "    </tr>\n",
       "  </tbody>\n",
       "</table>\n",
       "</div>"
      ],
      "text/plain": [
       "  platform  name  na_sales\n",
       "0      PS4   392    108.74\n",
       "1     XOne   247     93.12\n",
       "2     X360   186     81.66\n",
       "3      PS3   345     63.50\n",
       "4      3DS   311     39.04"
      ]
     },
     "metadata": {},
     "output_type": "display_data"
    },
    {
     "data": {
      "text/html": [
       "<div>\n",
       "<style scoped>\n",
       "    .dataframe tbody tr th:only-of-type {\n",
       "        vertical-align: middle;\n",
       "    }\n",
       "\n",
       "    .dataframe tbody tr th {\n",
       "        vertical-align: top;\n",
       "    }\n",
       "\n",
       "    .dataframe thead th {\n",
       "        text-align: right;\n",
       "    }\n",
       "</style>\n",
       "<table border=\"1\" class=\"dataframe\">\n",
       "  <thead>\n",
       "    <tr style=\"text-align: right;\">\n",
       "      <th></th>\n",
       "      <th>platform</th>\n",
       "      <th>name</th>\n",
       "      <th>eu_sales</th>\n",
       "    </tr>\n",
       "  </thead>\n",
       "  <tbody>\n",
       "    <tr>\n",
       "      <td>0</td>\n",
       "      <td>PS4</td>\n",
       "      <td>392</td>\n",
       "      <td>141.09</td>\n",
       "    </tr>\n",
       "    <tr>\n",
       "      <td>1</td>\n",
       "      <td>PS3</td>\n",
       "      <td>345</td>\n",
       "      <td>67.81</td>\n",
       "    </tr>\n",
       "    <tr>\n",
       "      <td>2</td>\n",
       "      <td>XOne</td>\n",
       "      <td>247</td>\n",
       "      <td>51.59</td>\n",
       "    </tr>\n",
       "    <tr>\n",
       "      <td>3</td>\n",
       "      <td>X360</td>\n",
       "      <td>186</td>\n",
       "      <td>42.52</td>\n",
       "    </tr>\n",
       "    <tr>\n",
       "      <td>4</td>\n",
       "      <td>3DS</td>\n",
       "      <td>311</td>\n",
       "      <td>31.17</td>\n",
       "    </tr>\n",
       "  </tbody>\n",
       "</table>\n",
       "</div>"
      ],
      "text/plain": [
       "  platform  name  eu_sales\n",
       "0      PS4   392    141.09\n",
       "1      PS3   345     67.81\n",
       "2     XOne   247     51.59\n",
       "3     X360   186     42.52\n",
       "4      3DS   311     31.17"
      ]
     },
     "metadata": {},
     "output_type": "display_data"
    },
    {
     "data": {
      "text/html": [
       "<div>\n",
       "<style scoped>\n",
       "    .dataframe tbody tr th:only-of-type {\n",
       "        vertical-align: middle;\n",
       "    }\n",
       "\n",
       "    .dataframe tbody tr th {\n",
       "        vertical-align: top;\n",
       "    }\n",
       "\n",
       "    .dataframe thead th {\n",
       "        text-align: right;\n",
       "    }\n",
       "</style>\n",
       "<table border=\"1\" class=\"dataframe\">\n",
       "  <thead>\n",
       "    <tr style=\"text-align: right;\">\n",
       "      <th></th>\n",
       "      <th>platform</th>\n",
       "      <th>name</th>\n",
       "      <th>jp_sales</th>\n",
       "    </tr>\n",
       "  </thead>\n",
       "  <tbody>\n",
       "    <tr>\n",
       "      <td>0</td>\n",
       "      <td>3DS</td>\n",
       "      <td>311</td>\n",
       "      <td>67.86</td>\n",
       "    </tr>\n",
       "    <tr>\n",
       "      <td>1</td>\n",
       "      <td>PS3</td>\n",
       "      <td>345</td>\n",
       "      <td>23.35</td>\n",
       "    </tr>\n",
       "    <tr>\n",
       "      <td>2</td>\n",
       "      <td>PSV</td>\n",
       "      <td>359</td>\n",
       "      <td>18.66</td>\n",
       "    </tr>\n",
       "    <tr>\n",
       "      <td>3</td>\n",
       "      <td>PS4</td>\n",
       "      <td>392</td>\n",
       "      <td>15.96</td>\n",
       "    </tr>\n",
       "    <tr>\n",
       "      <td>4</td>\n",
       "      <td>WiiU</td>\n",
       "      <td>115</td>\n",
       "      <td>10.88</td>\n",
       "    </tr>\n",
       "  </tbody>\n",
       "</table>\n",
       "</div>"
      ],
      "text/plain": [
       "  platform  name  jp_sales\n",
       "0      3DS   311     67.86\n",
       "1      PS3   345     23.35\n",
       "2      PSV   359     18.66\n",
       "3      PS4   392     15.96\n",
       "4     WiiU   115     10.88"
      ]
     },
     "metadata": {},
     "output_type": "display_data"
    }
   ],
   "source": [
    "display(data_actual.groupby('platform').agg({'name': 'count', 'na_sales': 'sum'}).sort_values(by = 'na_sales', ascending = False).reset_index().head())\n",
    "display(data_actual.groupby('platform').agg({'name': 'count', 'eu_sales': 'sum'}).sort_values(by = 'eu_sales', ascending = False).reset_index().head())\n",
    "display(data_actual.groupby('platform').agg({'name': 'count', 'jp_sales': 'sum'}).sort_values(by = 'jp_sales', ascending = False).reset_index().head())"
   ]
  },
  {
   "cell_type": "markdown",
   "metadata": {},
   "source": [
    "Как видим, в \"домашнем регионе\" локальная консоль более популярна - в **Северной Америке** чуть более популярны *XboxONE и Xbox 360*, чем в Европе, тогда как в Японии эти консоли даже не вошла в топ-5. ~~\n",
    "\n",
    "Для **европейского региона** характерна любовь к *PS3 и PS4*, *XboxONE и  Xbox 360* на третьем и четвертом местах с существенным отставанием от *PS4 и PS3*. \n",
    "\n",
    "Рынок **Японии** очень специфичен - на первом месте портативная консоль *3DS*.  Более того, третье место также занимает портативная *PSV*, ктороая даже не вошла в топ-5 в других регионах.\n",
    "\n"
   ]
  },
  {
   "cell_type": "code",
   "execution_count": 113,
   "metadata": {
    "scrolled": false
   },
   "outputs": [
    {
     "data": {
      "text/html": [
       "<div>\n",
       "<style scoped>\n",
       "    .dataframe tbody tr th:only-of-type {\n",
       "        vertical-align: middle;\n",
       "    }\n",
       "\n",
       "    .dataframe tbody tr th {\n",
       "        vertical-align: top;\n",
       "    }\n",
       "\n",
       "    .dataframe thead th {\n",
       "        text-align: right;\n",
       "    }\n",
       "</style>\n",
       "<table border=\"1\" class=\"dataframe\">\n",
       "  <thead>\n",
       "    <tr style=\"text-align: right;\">\n",
       "      <th></th>\n",
       "      <th>genre</th>\n",
       "      <th>name</th>\n",
       "      <th>na_sales</th>\n",
       "    </tr>\n",
       "  </thead>\n",
       "  <tbody>\n",
       "    <tr>\n",
       "      <td>0</td>\n",
       "      <td>Action</td>\n",
       "      <td>767</td>\n",
       "      <td>126.23</td>\n",
       "    </tr>\n",
       "    <tr>\n",
       "      <td>1</td>\n",
       "      <td>Shooter</td>\n",
       "      <td>188</td>\n",
       "      <td>109.78</td>\n",
       "    </tr>\n",
       "    <tr>\n",
       "      <td>2</td>\n",
       "      <td>Sports</td>\n",
       "      <td>215</td>\n",
       "      <td>65.27</td>\n",
       "    </tr>\n",
       "    <tr>\n",
       "      <td>3</td>\n",
       "      <td>Role-Playing</td>\n",
       "      <td>294</td>\n",
       "      <td>46.51</td>\n",
       "    </tr>\n",
       "    <tr>\n",
       "      <td>4</td>\n",
       "      <td>Misc</td>\n",
       "      <td>155</td>\n",
       "      <td>27.49</td>\n",
       "    </tr>\n",
       "  </tbody>\n",
       "</table>\n",
       "</div>"
      ],
      "text/plain": [
       "          genre  name  na_sales\n",
       "0        Action   767    126.23\n",
       "1       Shooter   188    109.78\n",
       "2        Sports   215     65.27\n",
       "3  Role-Playing   294     46.51\n",
       "4          Misc   155     27.49"
      ]
     },
     "metadata": {},
     "output_type": "display_data"
    },
    {
     "data": {
      "text/html": [
       "<div>\n",
       "<style scoped>\n",
       "    .dataframe tbody tr th:only-of-type {\n",
       "        vertical-align: middle;\n",
       "    }\n",
       "\n",
       "    .dataframe tbody tr th {\n",
       "        vertical-align: top;\n",
       "    }\n",
       "\n",
       "    .dataframe thead th {\n",
       "        text-align: right;\n",
       "    }\n",
       "</style>\n",
       "<table border=\"1\" class=\"dataframe\">\n",
       "  <thead>\n",
       "    <tr style=\"text-align: right;\">\n",
       "      <th></th>\n",
       "      <th>genre</th>\n",
       "      <th>name</th>\n",
       "      <th>eu_sales</th>\n",
       "    </tr>\n",
       "  </thead>\n",
       "  <tbody>\n",
       "    <tr>\n",
       "      <td>0</td>\n",
       "      <td>Action</td>\n",
       "      <td>767</td>\n",
       "      <td>118.32</td>\n",
       "    </tr>\n",
       "    <tr>\n",
       "      <td>1</td>\n",
       "      <td>Shooter</td>\n",
       "      <td>188</td>\n",
       "      <td>87.88</td>\n",
       "    </tr>\n",
       "    <tr>\n",
       "      <td>2</td>\n",
       "      <td>Sports</td>\n",
       "      <td>215</td>\n",
       "      <td>60.52</td>\n",
       "    </tr>\n",
       "    <tr>\n",
       "      <td>3</td>\n",
       "      <td>Role-Playing</td>\n",
       "      <td>294</td>\n",
       "      <td>37.02</td>\n",
       "    </tr>\n",
       "    <tr>\n",
       "      <td>4</td>\n",
       "      <td>Racing</td>\n",
       "      <td>86</td>\n",
       "      <td>20.19</td>\n",
       "    </tr>\n",
       "  </tbody>\n",
       "</table>\n",
       "</div>"
      ],
      "text/plain": [
       "          genre  name  eu_sales\n",
       "0        Action   767    118.32\n",
       "1       Shooter   188     87.88\n",
       "2        Sports   215     60.52\n",
       "3  Role-Playing   294     37.02\n",
       "4        Racing    86     20.19"
      ]
     },
     "metadata": {},
     "output_type": "display_data"
    },
    {
     "data": {
      "text/html": [
       "<div>\n",
       "<style scoped>\n",
       "    .dataframe tbody tr th:only-of-type {\n",
       "        vertical-align: middle;\n",
       "    }\n",
       "\n",
       "    .dataframe tbody tr th {\n",
       "        vertical-align: top;\n",
       "    }\n",
       "\n",
       "    .dataframe thead th {\n",
       "        text-align: right;\n",
       "    }\n",
       "</style>\n",
       "<table border=\"1\" class=\"dataframe\">\n",
       "  <thead>\n",
       "    <tr style=\"text-align: right;\">\n",
       "      <th></th>\n",
       "      <th>genre</th>\n",
       "      <th>name</th>\n",
       "      <th>jp_sales</th>\n",
       "    </tr>\n",
       "  </thead>\n",
       "  <tbody>\n",
       "    <tr>\n",
       "      <td>0</td>\n",
       "      <td>Role-Playing</td>\n",
       "      <td>294</td>\n",
       "      <td>51.14</td>\n",
       "    </tr>\n",
       "    <tr>\n",
       "      <td>1</td>\n",
       "      <td>Action</td>\n",
       "      <td>767</td>\n",
       "      <td>40.49</td>\n",
       "    </tr>\n",
       "    <tr>\n",
       "      <td>2</td>\n",
       "      <td>Misc</td>\n",
       "      <td>155</td>\n",
       "      <td>9.20</td>\n",
       "    </tr>\n",
       "    <tr>\n",
       "      <td>3</td>\n",
       "      <td>Fighting</td>\n",
       "      <td>80</td>\n",
       "      <td>7.65</td>\n",
       "    </tr>\n",
       "    <tr>\n",
       "      <td>4</td>\n",
       "      <td>Shooter</td>\n",
       "      <td>188</td>\n",
       "      <td>6.61</td>\n",
       "    </tr>\n",
       "  </tbody>\n",
       "</table>\n",
       "</div>"
      ],
      "text/plain": [
       "          genre  name  jp_sales\n",
       "0  Role-Playing   294     51.14\n",
       "1        Action   767     40.49\n",
       "2          Misc   155      9.20\n",
       "3      Fighting    80      7.65\n",
       "4       Shooter   188      6.61"
      ]
     },
     "metadata": {},
     "output_type": "display_data"
    }
   ],
   "source": [
    "display(data_actual.groupby('genre').agg({'name': 'count', 'na_sales': 'sum'}).sort_values(by = 'na_sales', ascending = False).reset_index().head())\n",
    "display(data_actual.groupby('genre').agg({'name': 'count', 'eu_sales': 'sum'}).sort_values(by = 'eu_sales', ascending = False).reset_index().head())\n",
    "display(data_actual.groupby('genre').agg({'name': 'count', 'jp_sales': 'sum'}).sort_values(by = 'jp_sales', ascending = False).reset_index().head())"
   ]
  },
  {
   "cell_type": "markdown",
   "metadata": {},
   "source": [
    "По жанрам предпочтения в Европе и Северной Америке практически идентичны, а рынок Японии как всегда уникален - на первом месте *Role-Playing* игры, в то время как *шутеры* (2 место в других регионах) лишь на пятом месте. "
   ]
  },
  {
   "cell_type": "code",
   "execution_count": 115,
   "metadata": {},
   "outputs": [
    {
     "data": {
      "text/html": [
       "<div>\n",
       "<style scoped>\n",
       "    .dataframe tbody tr th:only-of-type {\n",
       "        vertical-align: middle;\n",
       "    }\n",
       "\n",
       "    .dataframe tbody tr th {\n",
       "        vertical-align: top;\n",
       "    }\n",
       "\n",
       "    .dataframe thead th {\n",
       "        text-align: right;\n",
       "    }\n",
       "</style>\n",
       "<table border=\"1\" class=\"dataframe\">\n",
       "  <thead>\n",
       "    <tr style=\"text-align: right;\">\n",
       "      <th></th>\n",
       "      <th>rating</th>\n",
       "      <th>name</th>\n",
       "      <th>na_sales</th>\n",
       "    </tr>\n",
       "  </thead>\n",
       "  <tbody>\n",
       "    <tr>\n",
       "      <td>0</td>\n",
       "      <td>M</td>\n",
       "      <td>369</td>\n",
       "      <td>165.21</td>\n",
       "    </tr>\n",
       "    <tr>\n",
       "      <td>1</td>\n",
       "      <td>undef</td>\n",
       "      <td>980</td>\n",
       "      <td>89.70</td>\n",
       "    </tr>\n",
       "    <tr>\n",
       "      <td>2</td>\n",
       "      <td>E</td>\n",
       "      <td>304</td>\n",
       "      <td>79.17</td>\n",
       "    </tr>\n",
       "    <tr>\n",
       "      <td>3</td>\n",
       "      <td>E10+</td>\n",
       "      <td>254</td>\n",
       "      <td>54.50</td>\n",
       "    </tr>\n",
       "    <tr>\n",
       "      <td>4</td>\n",
       "      <td>T</td>\n",
       "      <td>335</td>\n",
       "      <td>50.08</td>\n",
       "    </tr>\n",
       "  </tbody>\n",
       "</table>\n",
       "</div>"
      ],
      "text/plain": [
       "  rating  name  na_sales\n",
       "0      M   369    165.21\n",
       "1  undef   980     89.70\n",
       "2      E   304     79.17\n",
       "3   E10+   254     54.50\n",
       "4      T   335     50.08"
      ]
     },
     "metadata": {},
     "output_type": "display_data"
    },
    {
     "data": {
      "text/html": [
       "<div>\n",
       "<style scoped>\n",
       "    .dataframe tbody tr th:only-of-type {\n",
       "        vertical-align: middle;\n",
       "    }\n",
       "\n",
       "    .dataframe tbody tr th {\n",
       "        vertical-align: top;\n",
       "    }\n",
       "\n",
       "    .dataframe thead th {\n",
       "        text-align: right;\n",
       "    }\n",
       "</style>\n",
       "<table border=\"1\" class=\"dataframe\">\n",
       "  <thead>\n",
       "    <tr style=\"text-align: right;\">\n",
       "      <th></th>\n",
       "      <th>rating</th>\n",
       "      <th>name</th>\n",
       "      <th>eu_sales</th>\n",
       "    </tr>\n",
       "  </thead>\n",
       "  <tbody>\n",
       "    <tr>\n",
       "      <td>0</td>\n",
       "      <td>M</td>\n",
       "      <td>369</td>\n",
       "      <td>145.32</td>\n",
       "    </tr>\n",
       "    <tr>\n",
       "      <td>1</td>\n",
       "      <td>E</td>\n",
       "      <td>304</td>\n",
       "      <td>83.38</td>\n",
       "    </tr>\n",
       "    <tr>\n",
       "      <td>2</td>\n",
       "      <td>undef</td>\n",
       "      <td>980</td>\n",
       "      <td>78.91</td>\n",
       "    </tr>\n",
       "    <tr>\n",
       "      <td>3</td>\n",
       "      <td>E10+</td>\n",
       "      <td>254</td>\n",
       "      <td>42.88</td>\n",
       "    </tr>\n",
       "    <tr>\n",
       "      <td>4</td>\n",
       "      <td>T</td>\n",
       "      <td>335</td>\n",
       "      <td>42.00</td>\n",
       "    </tr>\n",
       "  </tbody>\n",
       "</table>\n",
       "</div>"
      ],
      "text/plain": [
       "  rating  name  eu_sales\n",
       "0      M   369    145.32\n",
       "1      E   304     83.38\n",
       "2  undef   980     78.91\n",
       "3   E10+   254     42.88\n",
       "4      T   335     42.00"
      ]
     },
     "metadata": {},
     "output_type": "display_data"
    },
    {
     "data": {
      "text/html": [
       "<div>\n",
       "<style scoped>\n",
       "    .dataframe tbody tr th:only-of-type {\n",
       "        vertical-align: middle;\n",
       "    }\n",
       "\n",
       "    .dataframe tbody tr th {\n",
       "        vertical-align: top;\n",
       "    }\n",
       "\n",
       "    .dataframe thead th {\n",
       "        text-align: right;\n",
       "    }\n",
       "</style>\n",
       "<table border=\"1\" class=\"dataframe\">\n",
       "  <thead>\n",
       "    <tr style=\"text-align: right;\">\n",
       "      <th></th>\n",
       "      <th>rating</th>\n",
       "      <th>name</th>\n",
       "      <th>jp_sales</th>\n",
       "    </tr>\n",
       "  </thead>\n",
       "  <tbody>\n",
       "    <tr>\n",
       "      <td>0</td>\n",
       "      <td>undef</td>\n",
       "      <td>980</td>\n",
       "      <td>85.10</td>\n",
       "    </tr>\n",
       "    <tr>\n",
       "      <td>1</td>\n",
       "      <td>T</td>\n",
       "      <td>335</td>\n",
       "      <td>20.66</td>\n",
       "    </tr>\n",
       "    <tr>\n",
       "      <td>2</td>\n",
       "      <td>E</td>\n",
       "      <td>304</td>\n",
       "      <td>15.14</td>\n",
       "    </tr>\n",
       "    <tr>\n",
       "      <td>3</td>\n",
       "      <td>M</td>\n",
       "      <td>369</td>\n",
       "      <td>14.11</td>\n",
       "    </tr>\n",
       "    <tr>\n",
       "      <td>4</td>\n",
       "      <td>E10+</td>\n",
       "      <td>254</td>\n",
       "      <td>5.89</td>\n",
       "    </tr>\n",
       "  </tbody>\n",
       "</table>\n",
       "</div>"
      ],
      "text/plain": [
       "  rating  name  jp_sales\n",
       "0  undef   980     85.10\n",
       "1      T   335     20.66\n",
       "2      E   304     15.14\n",
       "3      M   369     14.11\n",
       "4   E10+   254      5.89"
      ]
     },
     "metadata": {},
     "output_type": "display_data"
    }
   ],
   "source": [
    "display(data_actual.groupby('rating').agg({'name': 'count', 'na_sales': 'sum'}).sort_values(by = 'na_sales', ascending = False).reset_index().head())\n",
    "display(data_actual.groupby('rating').agg({'name': 'count', 'eu_sales': 'sum'}).sort_values(by = 'eu_sales', ascending = False).reset_index().head())\n",
    "display(data_actual.groupby('rating').agg({'name': 'count', 'jp_sales': 'sum'}).sort_values(by = 'jp_sales', ascending = False).reset_index().head())"
   ]
  },
  {
   "cell_type": "markdown",
   "metadata": {},
   "source": [
    "В Европе и США наиболее популярен рейтинг 17+(M), следом идут игры 6+(E) и игры без определенного рейтинга. В Японии игры без определенного рейтинга на первом сместе, на втором месте игры 13+. "
   ]
  },
  {
   "cell_type": "markdown",
   "metadata": {},
   "source": [
    "## Проверка гипотез\n",
    "\n",
    "Проверим гипотезу:\n",
    "- Средние пользовательские рейтинги платформ **Xbox One** и **PC** одинаковые.\n",
    "\n",
    "Так будет звучать нулевая гипотеза, тогда как альтернативная гипотеза - о том, что данные рейтинги отличаются."
   ]
  },
  {
   "cell_type": "code",
   "execution_count": 118,
   "metadata": {},
   "outputs": [
    {
     "name": "stdout",
     "output_type": "stream",
     "text": [
      "p-значение:  0.17306926618147322\n",
      "Не получилось отвергнуть нулевую гипотезу\n"
     ]
    }
   ],
   "source": [
    "data_xone = data_actual.dropna().query('platform == \"XOne\"')\n",
    "data_pc = data_actual.dropna().query('platform == \"PC\"')\n",
    "\n",
    "sample_1 = data_xone['user_score']\n",
    "sample_2 = data_pc['user_score']\n",
    "\n",
    "alpha = .05 \n",
    "\n",
    "results = st.ttest_ind(\n",
    "    sample_1, \n",
    "    sample_2)\n",
    "\n",
    "print('p-значение: ', results.pvalue)\n",
    "\n",
    "if results.pvalue < alpha:\n",
    "    print(\"Отвергаем нулевую гипотезу\")\n",
    "else:\n",
    "    print(\"Не получилось отвергнуть нулевую гипотезу\") "
   ]
  },
  {
   "cell_type": "markdown",
   "metadata": {},
   "source": [
    "Не отвергаем нулевую гипотезу о том, что средние пользовательские рейтинги платформ *Xbox One и PC* одинаковые. Это обусловлено тем, что эти платформы очень похожи по выпускаемым на них играм, в то время как японские консоли (Playstation, Nintendo) имеют массу специфических и эксклюзивных игр."
   ]
  },
  {
   "cell_type": "markdown",
   "metadata": {},
   "source": [
    "Проверим гипотезу:\n",
    "- Средние пользовательские рейтинги жанров **Action и Sports** разные.\n",
    "\n",
    "Так будет звучать альтернативная гипотеза, тогда как нулевая гипотеза - о том, что данные рейтинги жанров одинаковые."
   ]
  },
  {
   "cell_type": "code",
   "execution_count": 119,
   "metadata": {},
   "outputs": [
    {
     "name": "stdout",
     "output_type": "stream",
     "text": [
      "p-значение:  1.632748894194211e-16\n",
      "Отвергаем нулевую гипотезу\n"
     ]
    }
   ],
   "source": [
    "data_action = data_actual.dropna().query('genre == \"Action\"')\n",
    "data_sports = data_actual.dropna().query('genre == \"Sports\"')\n",
    "\n",
    "sample_1 = data_action['user_score']\n",
    "sample_2 = data_sports['user_score']\n",
    "\n",
    "alpha = .05 \n",
    "\n",
    "results = st.ttest_ind(\n",
    "    sample_1, \n",
    "    sample_2)\n",
    "\n",
    "print('p-значение: ', results.pvalue)\n",
    "\n",
    "if results.pvalue < alpha:\n",
    "    print(\"Отвергаем нулевую гипотезу\")\n",
    "else:\n",
    "    print(\"Не получилось отвергнуть нулевую гипотезу\") "
   ]
  },
  {
   "cell_type": "markdown",
   "metadata": {},
   "source": [
    "Нулевая гипотеза - о том, что данные рейтинги жанров одинаковые, нами отвергнута. При этом, не отвергаем *альтернативную гипотезу* о том, что средние пользовательские рейтинги жанров Action и Sports разные. Это может быть обусловлено разной целевой категорией пользователей данных жанров."
   ]
  },
  {
   "cell_type": "markdown",
   "metadata": {},
   "source": [
    "## Вывод"
   ]
  },
  {
   "cell_type": "markdown",
   "metadata": {},
   "source": [
    "В результате анализа нами рассчитано среднее время жизни платформы и рассмотрены данные за последние ~~**8** лет~~ **4 года**.\n",
    "В результате анализа установлено, что к концу жизни платформы продажи падают, поэтому нет смысла вкладывать средства в рекламу игр на таких платформах, даже не смотря на то, что ранее продажи игр на этих платформах били рекорды.\n",
    "\n",
    "Мы рекомендуем сосредоточить внимание на играх консолей нового поколения *PS4, XOne* в большей степени и *3DS, WiiU* - в меньшей. Особняком стоит рынок *PC-игр*, который мы бы не стали сбрасывать со счетов.\n",
    "\n",
    "Нами таже замечена небольшая зависимость продаж от рейтинга критиков, но она в основном характерна для Playstation. Поэтому наиболее актуальными в будущем нам представляется классические рекламные компании, и лишь небольшу часть рекламного бюджета мажно направить на повышение рейтинга продукта в игровой прессе.\n",
    "\n",
    "Относительно жанров и регионов нами установлено следующее:\n",
    "- Жанр **Action** значительно опережает другие по количеству игр и суммам продаж. Жанры **Shooter** и **Sports** на втором и третьем месте соответственно.\n",
    "- По жанрам предпочтения в *Европе* и *Северной Америке* идентичны, а рынок *Японии* уникален - на первом месте **Role-Playing** игры, в то время как шутеры (2 место в других регионах) лишь на 5.\n",
    "- В Европе и Северной Америке наибольшая возрастная группа - 17+, во всех регионах по полярны так же аудитории 6+, 13+.\n",
    "\n",
    "При подготовке рекламных компаний также следует учитывать, что рынки **Xbox One** и **PC** очень схожи по выпускаемым играм и аудитории, в то время как аудитория игр жанров **Action** и **Sports** различается"
   ]
  }
 ],
 "metadata": {
  "ExecuteTimeLog": [
   {
    "duration": 1413,
    "start_time": "2022-01-17T13:09:18.332Z"
   },
   {
    "duration": 58,
    "start_time": "2022-01-17T13:10:05.239Z"
   },
   {
    "duration": 75,
    "start_time": "2022-01-17T13:10:10.368Z"
   },
   {
    "duration": 61,
    "start_time": "2022-01-17T13:10:27.919Z"
   },
   {
    "duration": 15,
    "start_time": "2022-01-17T13:10:35.726Z"
   },
   {
    "duration": 23,
    "start_time": "2022-01-17T13:16:08.977Z"
   },
   {
    "duration": 458,
    "start_time": "2022-01-17T14:03:54.087Z"
   },
   {
    "duration": 12,
    "start_time": "2022-01-17T14:04:22.859Z"
   },
   {
    "duration": 12,
    "start_time": "2022-01-17T14:04:30.622Z"
   },
   {
    "duration": 297,
    "start_time": "2022-01-17T14:10:25.449Z"
   },
   {
    "duration": 11,
    "start_time": "2022-01-17T14:11:00.955Z"
   },
   {
    "duration": 4,
    "start_time": "2022-01-17T14:11:16.008Z"
   },
   {
    "duration": 297,
    "start_time": "2022-01-17T14:13:18.859Z"
   },
   {
    "duration": 11,
    "start_time": "2022-01-17T14:13:24.056Z"
   },
   {
    "duration": 9,
    "start_time": "2022-01-17T14:15:53.840Z"
   },
   {
    "duration": 27,
    "start_time": "2022-01-17T14:17:31.649Z"
   },
   {
    "duration": 24,
    "start_time": "2022-01-17T14:18:11.795Z"
   },
   {
    "duration": 20,
    "start_time": "2022-01-17T14:18:23.849Z"
   },
   {
    "duration": 10,
    "start_time": "2022-01-17T14:18:52.244Z"
   },
   {
    "duration": 18,
    "start_time": "2022-01-17T14:18:54.606Z"
   },
   {
    "duration": 25,
    "start_time": "2022-01-17T14:19:01.514Z"
   },
   {
    "duration": 9,
    "start_time": "2022-01-17T14:19:09.007Z"
   },
   {
    "duration": 25,
    "start_time": "2022-01-17T14:19:11.347Z"
   },
   {
    "duration": 20,
    "start_time": "2022-01-17T14:19:20.055Z"
   },
   {
    "duration": 9,
    "start_time": "2022-01-17T14:19:32.092Z"
   },
   {
    "duration": 20,
    "start_time": "2022-01-17T14:19:34.049Z"
   },
   {
    "duration": 7,
    "start_time": "2022-01-17T14:19:42.802Z"
   },
   {
    "duration": 18,
    "start_time": "2022-01-17T14:19:44.827Z"
   },
   {
    "duration": 26,
    "start_time": "2022-01-17T14:19:52.949Z"
   },
   {
    "duration": 7,
    "start_time": "2022-01-17T14:21:44.393Z"
   },
   {
    "duration": 24,
    "start_time": "2022-01-17T14:21:46.825Z"
   },
   {
    "duration": 99,
    "start_time": "2022-01-17T14:26:24.545Z"
   },
   {
    "duration": 7056,
    "start_time": "2022-01-17T14:26:29.516Z"
   },
   {
    "duration": 19,
    "start_time": "2022-01-17T14:26:44.119Z"
   },
   {
    "duration": 12,
    "start_time": "2022-01-17T14:26:48.056Z"
   },
   {
    "duration": 26,
    "start_time": "2022-01-17T14:26:51.633Z"
   },
   {
    "duration": 111,
    "start_time": "2022-01-17T14:27:12.991Z"
   },
   {
    "duration": 24,
    "start_time": "2022-01-17T14:27:15.416Z"
   },
   {
    "duration": 104,
    "start_time": "2022-01-17T14:27:33.394Z"
   },
   {
    "duration": 25,
    "start_time": "2022-01-17T14:27:35.082Z"
   },
   {
    "duration": 4,
    "start_time": "2022-01-17T14:27:48.430Z"
   },
   {
    "duration": 71,
    "start_time": "2022-01-17T14:27:48.437Z"
   },
   {
    "duration": 13,
    "start_time": "2022-01-17T14:27:48.511Z"
   },
   {
    "duration": 44,
    "start_time": "2022-01-17T14:27:48.527Z"
   },
   {
    "duration": 20,
    "start_time": "2022-01-17T14:27:48.573Z"
   },
   {
    "duration": 9,
    "start_time": "2022-01-17T14:27:48.596Z"
   },
   {
    "duration": 29,
    "start_time": "2022-01-17T14:27:48.608Z"
   },
   {
    "duration": 62,
    "start_time": "2022-01-17T14:28:05.142Z"
   },
   {
    "duration": 5,
    "start_time": "2022-01-17T14:28:18.215Z"
   },
   {
    "duration": 90,
    "start_time": "2022-01-17T14:28:18.530Z"
   },
   {
    "duration": 19,
    "start_time": "2022-01-17T14:28:21.298Z"
   },
   {
    "duration": 40,
    "start_time": "2022-01-17T14:28:23.435Z"
   },
   {
    "duration": 516,
    "start_time": "2022-01-17T14:31:07.096Z"
   },
   {
    "duration": 40,
    "start_time": "2022-01-17T14:31:55.207Z"
   },
   {
    "duration": 55,
    "start_time": "2022-01-17T14:33:33.847Z"
   },
   {
    "duration": 62,
    "start_time": "2022-01-17T14:33:41.881Z"
   },
   {
    "duration": 7748,
    "start_time": "2022-01-17T14:33:43.680Z"
   },
   {
    "duration": 27,
    "start_time": "2022-01-17T14:33:55.944Z"
   },
   {
    "duration": 57,
    "start_time": "2022-01-17T14:33:57.294Z"
   },
   {
    "duration": 40,
    "start_time": "2022-01-17T14:34:05.798Z"
   },
   {
    "duration": 294,
    "start_time": "2022-01-17T14:36:19.900Z"
   },
   {
    "duration": 291,
    "start_time": "2022-01-17T14:37:12.461Z"
   },
   {
    "duration": 31,
    "start_time": "2022-01-17T14:37:36.334Z"
   },
   {
    "duration": 4,
    "start_time": "2022-01-17T14:37:41.648Z"
   },
   {
    "duration": 73,
    "start_time": "2022-01-17T14:37:41.654Z"
   },
   {
    "duration": 12,
    "start_time": "2022-01-17T14:37:41.730Z"
   },
   {
    "duration": 40,
    "start_time": "2022-01-17T14:37:41.745Z"
   },
   {
    "duration": 38,
    "start_time": "2022-01-17T14:37:41.788Z"
   },
   {
    "duration": 12,
    "start_time": "2022-01-17T14:37:41.829Z"
   },
   {
    "duration": 28,
    "start_time": "2022-01-17T14:37:41.871Z"
   },
   {
    "duration": 21,
    "start_time": "2022-01-17T14:38:00.183Z"
   },
   {
    "duration": 19,
    "start_time": "2022-01-17T14:38:26.912Z"
   },
   {
    "duration": 17,
    "start_time": "2022-01-17T14:38:32.313Z"
   },
   {
    "duration": 25,
    "start_time": "2022-01-17T14:38:37.196Z"
   },
   {
    "duration": 3,
    "start_time": "2022-01-17T14:39:51.425Z"
   },
   {
    "duration": 68,
    "start_time": "2022-01-17T14:39:51.830Z"
   },
   {
    "duration": 20,
    "start_time": "2022-01-17T14:39:54.034Z"
   },
   {
    "duration": 1952,
    "start_time": "2022-01-17T14:40:16.332Z"
   },
   {
    "duration": 2520,
    "start_time": "2022-01-17T14:40:41.735Z"
   },
   {
    "duration": 17,
    "start_time": "2022-01-17T14:41:03.402Z"
   },
   {
    "duration": 21,
    "start_time": "2022-01-17T14:41:13.257Z"
   },
   {
    "duration": 21,
    "start_time": "2022-01-17T14:42:49.199Z"
   },
   {
    "duration": 1992,
    "start_time": "2022-01-17T14:42:53.294Z"
   },
   {
    "duration": 24,
    "start_time": "2022-01-17T14:43:08.368Z"
   },
   {
    "duration": 19,
    "start_time": "2022-01-17T14:43:14.984Z"
   },
   {
    "duration": 19,
    "start_time": "2022-01-17T14:43:34.177Z"
   },
   {
    "duration": 1543,
    "start_time": "2022-01-17T14:43:39.352Z"
   },
   {
    "duration": 64,
    "start_time": "2022-01-17T14:43:52.964Z"
   },
   {
    "duration": 19,
    "start_time": "2022-01-17T14:43:55.777Z"
   },
   {
    "duration": 26,
    "start_time": "2022-01-17T14:43:58.635Z"
   },
   {
    "duration": 1233,
    "start_time": "2022-01-17T14:44:11.504Z"
   },
   {
    "duration": 4,
    "start_time": "2022-01-17T14:44:18.219Z"
   },
   {
    "duration": 64,
    "start_time": "2022-01-17T14:44:18.225Z"
   },
   {
    "duration": 14,
    "start_time": "2022-01-17T14:44:18.292Z"
   },
   {
    "duration": 21,
    "start_time": "2022-01-17T14:44:18.309Z"
   },
   {
    "duration": 57,
    "start_time": "2022-01-17T14:44:18.333Z"
   },
   {
    "duration": 12,
    "start_time": "2022-01-17T14:44:18.394Z"
   },
   {
    "duration": 28,
    "start_time": "2022-01-17T14:44:18.409Z"
   },
   {
    "duration": 6,
    "start_time": "2022-01-17T14:46:54.225Z"
   },
   {
    "duration": 27,
    "start_time": "2022-01-17T14:46:58.681Z"
   },
   {
    "duration": 20,
    "start_time": "2022-01-17T14:47:15.195Z"
   },
   {
    "duration": 18,
    "start_time": "2022-01-17T14:47:40.621Z"
   },
   {
    "duration": 26,
    "start_time": "2022-01-17T14:50:16.728Z"
   },
   {
    "duration": 12,
    "start_time": "2022-01-17T14:50:27.258Z"
   },
   {
    "duration": 12,
    "start_time": "2022-01-17T14:50:36.369Z"
   },
   {
    "duration": 11,
    "start_time": "2022-01-17T14:54:02.025Z"
   },
   {
    "duration": 19,
    "start_time": "2022-01-17T14:54:13.970Z"
   },
   {
    "duration": 16,
    "start_time": "2022-01-17T14:54:39.531Z"
   },
   {
    "duration": 18,
    "start_time": "2022-01-17T14:55:25.273Z"
   },
   {
    "duration": 8,
    "start_time": "2022-01-17T14:55:40.011Z"
   },
   {
    "duration": 41,
    "start_time": "2022-01-17T15:05:55.527Z"
   },
   {
    "duration": 10,
    "start_time": "2022-01-17T15:06:44.870Z"
   },
   {
    "duration": 11,
    "start_time": "2022-01-17T15:07:29.128Z"
   },
   {
    "duration": 10,
    "start_time": "2022-01-17T15:08:11.811Z"
   },
   {
    "duration": 425,
    "start_time": "2022-01-17T17:40:58.052Z"
   },
   {
    "duration": 1381,
    "start_time": "2022-01-17T17:41:26.555Z"
   },
   {
    "duration": 65,
    "start_time": "2022-01-17T17:41:27.939Z"
   },
   {
    "duration": 14,
    "start_time": "2022-01-17T17:41:28.007Z"
   },
   {
    "duration": 17,
    "start_time": "2022-01-17T17:41:28.024Z"
   },
   {
    "duration": 30,
    "start_time": "2022-01-17T17:41:28.043Z"
   },
   {
    "duration": 12,
    "start_time": "2022-01-17T17:41:28.075Z"
   },
   {
    "duration": 20,
    "start_time": "2022-01-17T17:41:28.089Z"
   },
   {
    "duration": 10,
    "start_time": "2022-01-17T17:41:28.112Z"
   },
   {
    "duration": 45,
    "start_time": "2022-01-17T17:41:28.124Z"
   },
   {
    "duration": 17,
    "start_time": "2022-01-17T17:41:28.172Z"
   },
   {
    "duration": 23,
    "start_time": "2022-01-17T17:41:28.192Z"
   },
   {
    "duration": 10,
    "start_time": "2022-01-17T17:41:28.217Z"
   },
   {
    "duration": 46,
    "start_time": "2022-01-17T17:41:28.230Z"
   },
   {
    "duration": 9,
    "start_time": "2022-01-17T17:41:28.279Z"
   },
   {
    "duration": 9,
    "start_time": "2022-01-17T17:42:11.212Z"
   },
   {
    "duration": 25,
    "start_time": "2022-01-17T17:55:53.664Z"
   },
   {
    "duration": 10,
    "start_time": "2022-01-17T17:56:12.942Z"
   },
   {
    "duration": 9,
    "start_time": "2022-01-17T17:56:23.023Z"
   },
   {
    "duration": 24,
    "start_time": "2022-01-17T17:56:32.248Z"
   },
   {
    "duration": 22,
    "start_time": "2022-01-17T18:01:32.559Z"
   },
   {
    "duration": 6,
    "start_time": "2022-01-17T18:02:29.799Z"
   },
   {
    "duration": 10,
    "start_time": "2022-01-17T18:02:44.019Z"
   },
   {
    "duration": 12,
    "start_time": "2022-01-17T18:02:53.537Z"
   },
   {
    "duration": 18,
    "start_time": "2022-01-17T18:03:50.934Z"
   },
   {
    "duration": 361,
    "start_time": "2022-01-17T18:05:05.792Z"
   },
   {
    "duration": 27,
    "start_time": "2022-01-17T18:05:34.819Z"
   },
   {
    "duration": 23,
    "start_time": "2022-01-17T18:07:34.474Z"
   },
   {
    "duration": 286,
    "start_time": "2022-01-17T18:10:47.639Z"
   },
   {
    "duration": 114,
    "start_time": "2022-01-17T18:10:54.142Z"
   },
   {
    "duration": 24,
    "start_time": "2022-01-17T18:11:01.544Z"
   },
   {
    "duration": 7896,
    "start_time": "2022-01-17T18:20:25.355Z"
   },
   {
    "duration": 27,
    "start_time": "2022-01-17T18:20:52.875Z"
   },
   {
    "duration": 19,
    "start_time": "2022-01-17T18:27:17.786Z"
   },
   {
    "duration": 34,
    "start_time": "2022-01-17T18:32:24.036Z"
   },
   {
    "duration": 539,
    "start_time": "2022-01-17T18:52:33.363Z"
   },
   {
    "duration": 34,
    "start_time": "2022-01-17T18:54:00.389Z"
   },
   {
    "duration": 561,
    "start_time": "2022-01-17T18:54:05.136Z"
   },
   {
    "duration": 8,
    "start_time": "2022-01-17T18:54:15.757Z"
   },
   {
    "duration": 12,
    "start_time": "2022-01-17T18:54:24.665Z"
   },
   {
    "duration": 794,
    "start_time": "2022-01-17T18:56:13.634Z"
   },
   {
    "duration": 22,
    "start_time": "2022-01-17T18:56:20.389Z"
   },
   {
    "duration": 4,
    "start_time": "2022-01-17T18:59:17.677Z"
   },
   {
    "duration": 66,
    "start_time": "2022-01-17T18:59:17.684Z"
   },
   {
    "duration": 31,
    "start_time": "2022-01-17T18:59:17.753Z"
   },
   {
    "duration": 18,
    "start_time": "2022-01-17T18:59:17.788Z"
   },
   {
    "duration": 6,
    "start_time": "2022-01-17T18:59:17.809Z"
   },
   {
    "duration": 512,
    "start_time": "2022-01-17T18:59:17.817Z"
   },
   {
    "duration": 10,
    "start_time": "2022-01-17T18:59:18.332Z"
   },
   {
    "duration": 37,
    "start_time": "2022-01-17T18:59:18.346Z"
   },
   {
    "duration": 13,
    "start_time": "2022-01-17T18:59:18.386Z"
   },
   {
    "duration": 8,
    "start_time": "2022-01-17T18:59:18.402Z"
   },
   {
    "duration": 19,
    "start_time": "2022-01-17T18:59:18.413Z"
   },
   {
    "duration": 42,
    "start_time": "2022-01-17T18:59:18.435Z"
   },
   {
    "duration": 14,
    "start_time": "2022-01-17T18:59:18.479Z"
   },
   {
    "duration": 23,
    "start_time": "2022-01-17T18:59:18.495Z"
   },
   {
    "duration": 27,
    "start_time": "2022-01-17T18:59:18.521Z"
   },
   {
    "duration": 17,
    "start_time": "2022-01-17T18:59:18.570Z"
   },
   {
    "duration": 26,
    "start_time": "2022-01-17T18:59:18.590Z"
   },
   {
    "duration": 56,
    "start_time": "2022-01-17T18:59:18.618Z"
   },
   {
    "duration": 19,
    "start_time": "2022-01-17T18:59:18.676Z"
   },
   {
    "duration": 491,
    "start_time": "2022-01-17T18:59:18.697Z"
   },
   {
    "duration": 14,
    "start_time": "2022-01-17T18:59:19.190Z"
   },
   {
    "duration": 484,
    "start_time": "2022-01-17T18:59:41.333Z"
   },
   {
    "duration": 490,
    "start_time": "2022-01-17T19:00:02.393Z"
   },
   {
    "duration": 5,
    "start_time": "2022-01-17T19:00:07.951Z"
   },
   {
    "duration": 767,
    "start_time": "2022-01-17T19:00:10.134Z"
   },
   {
    "duration": 5,
    "start_time": "2022-01-17T19:00:20.204Z"
   },
   {
    "duration": 90,
    "start_time": "2022-01-17T19:00:20.212Z"
   },
   {
    "duration": 18,
    "start_time": "2022-01-17T19:00:20.305Z"
   },
   {
    "duration": 43,
    "start_time": "2022-01-17T19:00:20.326Z"
   },
   {
    "duration": 11,
    "start_time": "2022-01-17T19:00:20.373Z"
   },
   {
    "duration": 926,
    "start_time": "2022-01-17T19:00:20.386Z"
   },
   {
    "duration": 9,
    "start_time": "2022-01-17T19:00:21.315Z"
   },
   {
    "duration": 41,
    "start_time": "2022-01-17T19:00:21.329Z"
   },
   {
    "duration": 11,
    "start_time": "2022-01-17T19:00:21.373Z"
   },
   {
    "duration": 8,
    "start_time": "2022-01-17T19:00:21.387Z"
   },
   {
    "duration": 18,
    "start_time": "2022-01-17T19:00:21.398Z"
   },
   {
    "duration": 54,
    "start_time": "2022-01-17T19:00:21.418Z"
   },
   {
    "duration": 11,
    "start_time": "2022-01-17T19:00:21.476Z"
   },
   {
    "duration": 13,
    "start_time": "2022-01-17T19:00:21.489Z"
   },
   {
    "duration": 24,
    "start_time": "2022-01-17T19:00:21.505Z"
   },
   {
    "duration": 18,
    "start_time": "2022-01-17T19:00:21.570Z"
   },
   {
    "duration": 25,
    "start_time": "2022-01-17T19:00:21.591Z"
   },
   {
    "duration": 61,
    "start_time": "2022-01-17T19:00:21.619Z"
   },
   {
    "duration": 18,
    "start_time": "2022-01-17T19:00:21.682Z"
   },
   {
    "duration": 500,
    "start_time": "2022-01-17T19:00:21.703Z"
   },
   {
    "duration": 13,
    "start_time": "2022-01-17T19:00:22.206Z"
   },
   {
    "duration": 588,
    "start_time": "2022-01-17T19:06:23.368Z"
   },
   {
    "duration": 485,
    "start_time": "2022-01-17T19:07:07.334Z"
   },
   {
    "duration": 951,
    "start_time": "2022-01-17T19:07:22.746Z"
   },
   {
    "duration": 4,
    "start_time": "2022-01-17T19:07:43.720Z"
   },
   {
    "duration": 79,
    "start_time": "2022-01-17T19:07:43.726Z"
   },
   {
    "duration": 14,
    "start_time": "2022-01-17T19:07:43.808Z"
   },
   {
    "duration": 46,
    "start_time": "2022-01-17T19:07:43.825Z"
   },
   {
    "duration": 13,
    "start_time": "2022-01-17T19:07:43.874Z"
   },
   {
    "duration": 830,
    "start_time": "2022-01-17T19:07:43.891Z"
   },
   {
    "duration": 11,
    "start_time": "2022-01-17T19:07:44.723Z"
   },
   {
    "duration": 45,
    "start_time": "2022-01-17T19:07:44.739Z"
   },
   {
    "duration": 13,
    "start_time": "2022-01-17T19:07:44.786Z"
   },
   {
    "duration": 11,
    "start_time": "2022-01-17T19:07:44.802Z"
   },
   {
    "duration": 53,
    "start_time": "2022-01-17T19:07:44.816Z"
   },
   {
    "duration": 14,
    "start_time": "2022-01-17T19:07:44.872Z"
   },
   {
    "duration": 19,
    "start_time": "2022-01-17T19:07:44.889Z"
   },
   {
    "duration": 17,
    "start_time": "2022-01-17T19:07:44.911Z"
   },
   {
    "duration": 63,
    "start_time": "2022-01-17T19:07:44.931Z"
   },
   {
    "duration": 26,
    "start_time": "2022-01-17T19:07:44.997Z"
   },
   {
    "duration": 48,
    "start_time": "2022-01-17T19:07:45.026Z"
   },
   {
    "duration": 48,
    "start_time": "2022-01-17T19:07:45.079Z"
   },
   {
    "duration": 49,
    "start_time": "2022-01-17T19:07:45.129Z"
   },
   {
    "duration": 778,
    "start_time": "2022-01-17T19:07:45.181Z"
   },
   {
    "duration": 4,
    "start_time": "2022-01-17T19:08:08.509Z"
   },
   {
    "duration": 71,
    "start_time": "2022-01-17T19:08:08.516Z"
   },
   {
    "duration": 13,
    "start_time": "2022-01-17T19:08:08.590Z"
   },
   {
    "duration": 17,
    "start_time": "2022-01-17T19:08:08.606Z"
   },
   {
    "duration": 5,
    "start_time": "2022-01-17T19:08:08.626Z"
   },
   {
    "duration": 532,
    "start_time": "2022-01-17T19:08:08.633Z"
   },
   {
    "duration": 10,
    "start_time": "2022-01-17T19:08:09.167Z"
   },
   {
    "duration": 32,
    "start_time": "2022-01-17T19:08:09.181Z"
   },
   {
    "duration": 11,
    "start_time": "2022-01-17T19:08:09.215Z"
   },
   {
    "duration": 11,
    "start_time": "2022-01-17T19:08:09.229Z"
   },
   {
    "duration": 42,
    "start_time": "2022-01-17T19:08:09.243Z"
   },
   {
    "duration": 10,
    "start_time": "2022-01-17T19:08:09.287Z"
   },
   {
    "duration": 12,
    "start_time": "2022-01-17T19:08:09.300Z"
   },
   {
    "duration": 14,
    "start_time": "2022-01-17T19:08:09.315Z"
   },
   {
    "duration": 22,
    "start_time": "2022-01-17T19:08:09.369Z"
   },
   {
    "duration": 23,
    "start_time": "2022-01-17T19:08:09.394Z"
   },
   {
    "duration": 57,
    "start_time": "2022-01-17T19:08:09.419Z"
   },
   {
    "duration": 26,
    "start_time": "2022-01-17T19:08:09.478Z"
   },
   {
    "duration": 17,
    "start_time": "2022-01-17T19:08:09.506Z"
   },
   {
    "duration": 778,
    "start_time": "2022-01-17T19:08:09.525Z"
   },
   {
    "duration": 467,
    "start_time": "2022-01-17T19:09:22.110Z"
   },
   {
    "duration": 4,
    "start_time": "2022-01-17T19:09:29.972Z"
   },
   {
    "duration": 68,
    "start_time": "2022-01-17T19:09:29.979Z"
   },
   {
    "duration": 31,
    "start_time": "2022-01-17T19:09:30.050Z"
   },
   {
    "duration": 39,
    "start_time": "2022-01-17T19:09:30.084Z"
   },
   {
    "duration": 11,
    "start_time": "2022-01-17T19:09:30.125Z"
   },
   {
    "duration": 515,
    "start_time": "2022-01-17T19:09:30.139Z"
   },
   {
    "duration": 19,
    "start_time": "2022-01-17T19:09:30.656Z"
   },
   {
    "duration": 20,
    "start_time": "2022-01-17T19:09:30.679Z"
   },
   {
    "duration": 13,
    "start_time": "2022-01-17T19:09:30.702Z"
   },
   {
    "duration": 52,
    "start_time": "2022-01-17T19:09:30.717Z"
   },
   {
    "duration": 22,
    "start_time": "2022-01-17T19:09:30.772Z"
   },
   {
    "duration": 17,
    "start_time": "2022-01-17T19:09:30.797Z"
   },
   {
    "duration": 29,
    "start_time": "2022-01-17T19:09:30.818Z"
   },
   {
    "duration": 46,
    "start_time": "2022-01-17T19:09:30.850Z"
   },
   {
    "duration": 29,
    "start_time": "2022-01-17T19:09:30.898Z"
   },
   {
    "duration": 22,
    "start_time": "2022-01-17T19:09:30.929Z"
   },
   {
    "duration": 43,
    "start_time": "2022-01-17T19:09:30.954Z"
   },
   {
    "duration": 53,
    "start_time": "2022-01-17T19:09:31.000Z"
   },
   {
    "duration": 19,
    "start_time": "2022-01-17T19:09:31.056Z"
   },
   {
    "duration": 498,
    "start_time": "2022-01-17T19:09:31.078Z"
   },
   {
    "duration": 102,
    "start_time": "2022-01-17T19:10:00.226Z"
   },
   {
    "duration": 111,
    "start_time": "2022-01-17T19:11:14.925Z"
   },
   {
    "duration": 107,
    "start_time": "2022-01-17T19:18:39.395Z"
   },
   {
    "duration": 17,
    "start_time": "2022-01-17T19:18:47.090Z"
   },
   {
    "duration": 4,
    "start_time": "2022-01-17T19:19:15.885Z"
   },
   {
    "duration": 76,
    "start_time": "2022-01-17T19:19:15.893Z"
   },
   {
    "duration": 16,
    "start_time": "2022-01-17T19:19:15.973Z"
   },
   {
    "duration": 24,
    "start_time": "2022-01-17T19:19:15.992Z"
   },
   {
    "duration": 9,
    "start_time": "2022-01-17T19:19:16.019Z"
   },
   {
    "duration": 869,
    "start_time": "2022-01-17T19:19:16.032Z"
   },
   {
    "duration": 10,
    "start_time": "2022-01-17T19:19:16.903Z"
   },
   {
    "duration": 20,
    "start_time": "2022-01-17T19:19:16.917Z"
   },
   {
    "duration": 41,
    "start_time": "2022-01-17T19:19:16.941Z"
   },
   {
    "duration": 10,
    "start_time": "2022-01-17T19:19:16.985Z"
   },
   {
    "duration": 19,
    "start_time": "2022-01-17T19:19:16.997Z"
   },
   {
    "duration": 9,
    "start_time": "2022-01-17T19:19:17.018Z"
   },
   {
    "duration": 54,
    "start_time": "2022-01-17T19:19:17.030Z"
   },
   {
    "duration": 18,
    "start_time": "2022-01-17T19:19:17.087Z"
   },
   {
    "duration": 23,
    "start_time": "2022-01-17T19:19:17.108Z"
   },
   {
    "duration": 47,
    "start_time": "2022-01-17T19:19:17.134Z"
   },
   {
    "duration": 28,
    "start_time": "2022-01-17T19:19:17.184Z"
   },
   {
    "duration": 56,
    "start_time": "2022-01-17T19:19:17.215Z"
   },
   {
    "duration": 17,
    "start_time": "2022-01-17T19:19:17.273Z"
   },
   {
    "duration": 489,
    "start_time": "2022-01-17T19:19:17.293Z"
   },
   {
    "duration": 18,
    "start_time": "2022-01-17T19:22:55.853Z"
   },
   {
    "duration": 19,
    "start_time": "2022-01-17T19:23:49.518Z"
   },
   {
    "duration": 27,
    "start_time": "2022-01-17T19:24:42.122Z"
   },
   {
    "duration": 25,
    "start_time": "2022-01-17T19:28:15.629Z"
   },
   {
    "duration": 8,
    "start_time": "2022-01-17T19:32:20.138Z"
   },
   {
    "duration": 13,
    "start_time": "2022-01-17T19:35:19.869Z"
   },
   {
    "duration": 8,
    "start_time": "2022-01-17T19:40:05.826Z"
   },
   {
    "duration": 6,
    "start_time": "2022-01-17T19:40:08.975Z"
   },
   {
    "duration": 12,
    "start_time": "2022-01-17T19:40:14.082Z"
   },
   {
    "duration": 20,
    "start_time": "2022-01-17T19:40:58.993Z"
   },
   {
    "duration": 27,
    "start_time": "2022-01-17T19:42:02.513Z"
   },
   {
    "duration": 36,
    "start_time": "2022-01-17T19:46:12.017Z"
   },
   {
    "duration": 99,
    "start_time": "2022-01-17T19:46:21.422Z"
   },
   {
    "duration": 311,
    "start_time": "2022-01-17T19:47:14.593Z"
   },
   {
    "duration": 66,
    "start_time": "2022-01-17T19:47:28.606Z"
   },
   {
    "duration": 543,
    "start_time": "2022-01-17T19:50:43.418Z"
   },
   {
    "duration": 69,
    "start_time": "2022-01-17T19:51:13.295Z"
   },
   {
    "duration": 102,
    "start_time": "2022-01-17T19:53:29.762Z"
   },
   {
    "duration": 98,
    "start_time": "2022-01-17T19:54:20.046Z"
   },
   {
    "duration": 42,
    "start_time": "2022-01-17T19:54:34.315Z"
   },
   {
    "duration": 117,
    "start_time": "2022-01-17T19:54:57.510Z"
   },
   {
    "duration": 155,
    "start_time": "2022-01-17T20:05:44.548Z"
   },
   {
    "duration": 7686,
    "start_time": "2022-01-17T20:06:45.568Z"
   },
   {
    "duration": 6929,
    "start_time": "2022-01-17T20:07:12.726Z"
   },
   {
    "duration": 21,
    "start_time": "2022-01-17T20:07:41.279Z"
   },
   {
    "duration": 8055,
    "start_time": "2022-01-17T20:07:48.592Z"
   },
   {
    "duration": 6889,
    "start_time": "2022-01-17T20:08:05.916Z"
   },
   {
    "duration": 21,
    "start_time": "2022-01-17T20:08:50.424Z"
   },
   {
    "duration": 7,
    "start_time": "2022-01-17T20:08:55.530Z"
   },
   {
    "duration": 27,
    "start_time": "2022-01-17T20:09:02.054Z"
   },
   {
    "duration": 60,
    "start_time": "2022-01-17T20:09:10.717Z"
   },
   {
    "duration": 1204,
    "start_time": "2022-01-17T20:10:32.307Z"
   },
   {
    "duration": 63,
    "start_time": "2022-01-17T20:10:57.236Z"
   },
   {
    "duration": 398,
    "start_time": "2022-01-17T20:12:49.219Z"
   },
   {
    "duration": 42,
    "start_time": "2022-01-17T20:12:59.817Z"
   },
   {
    "duration": 85,
    "start_time": "2022-01-17T20:13:03.595Z"
   },
   {
    "duration": 279,
    "start_time": "2022-01-17T20:18:09.036Z"
   },
   {
    "duration": 490,
    "start_time": "2022-01-17T20:18:54.847Z"
   },
   {
    "duration": 4,
    "start_time": "2022-01-17T20:19:00.758Z"
   },
   {
    "duration": 70,
    "start_time": "2022-01-17T20:19:00.766Z"
   },
   {
    "duration": 32,
    "start_time": "2022-01-17T20:19:00.839Z"
   },
   {
    "duration": 19,
    "start_time": "2022-01-17T20:19:00.873Z"
   },
   {
    "duration": 10,
    "start_time": "2022-01-17T20:19:00.894Z"
   },
   {
    "duration": 565,
    "start_time": "2022-01-17T20:19:00.906Z"
   },
   {
    "duration": 10,
    "start_time": "2022-01-17T20:19:01.473Z"
   },
   {
    "duration": 29,
    "start_time": "2022-01-17T20:19:01.487Z"
   },
   {
    "duration": 13,
    "start_time": "2022-01-17T20:19:01.520Z"
   },
   {
    "duration": 38,
    "start_time": "2022-01-17T20:19:01.536Z"
   },
   {
    "duration": 18,
    "start_time": "2022-01-17T20:19:01.577Z"
   },
   {
    "duration": 16,
    "start_time": "2022-01-17T20:19:01.597Z"
   },
   {
    "duration": 12,
    "start_time": "2022-01-17T20:19:01.615Z"
   },
   {
    "duration": 43,
    "start_time": "2022-01-17T20:19:01.630Z"
   },
   {
    "duration": 40,
    "start_time": "2022-01-17T20:19:01.675Z"
   },
   {
    "duration": 16,
    "start_time": "2022-01-17T20:19:01.717Z"
   },
   {
    "duration": 35,
    "start_time": "2022-01-17T20:19:01.735Z"
   },
   {
    "duration": 30,
    "start_time": "2022-01-17T20:19:01.773Z"
   },
   {
    "duration": 17,
    "start_time": "2022-01-17T20:19:01.805Z"
   },
   {
    "duration": 510,
    "start_time": "2022-01-17T20:19:01.825Z"
   },
   {
    "duration": 34,
    "start_time": "2022-01-17T20:19:02.338Z"
   },
   {
    "duration": 62,
    "start_time": "2022-01-17T20:19:02.375Z"
   },
   {
    "duration": 291,
    "start_time": "2022-01-17T20:19:02.441Z"
   },
   {
    "duration": 597,
    "start_time": "2022-01-17T20:19:20.609Z"
   },
   {
    "duration": 4,
    "start_time": "2022-01-17T20:19:28.678Z"
   },
   {
    "duration": 62,
    "start_time": "2022-01-17T20:19:28.685Z"
   },
   {
    "duration": 27,
    "start_time": "2022-01-17T20:19:28.751Z"
   },
   {
    "duration": 18,
    "start_time": "2022-01-17T20:19:28.781Z"
   },
   {
    "duration": 5,
    "start_time": "2022-01-17T20:19:28.801Z"
   },
   {
    "duration": 517,
    "start_time": "2022-01-17T20:19:28.808Z"
   },
   {
    "duration": 10,
    "start_time": "2022-01-17T20:19:29.327Z"
   },
   {
    "duration": 39,
    "start_time": "2022-01-17T20:19:29.341Z"
   },
   {
    "duration": 12,
    "start_time": "2022-01-17T20:19:29.383Z"
   },
   {
    "duration": 8,
    "start_time": "2022-01-17T20:19:29.398Z"
   },
   {
    "duration": 23,
    "start_time": "2022-01-17T20:19:29.409Z"
   },
   {
    "duration": 34,
    "start_time": "2022-01-17T20:19:29.440Z"
   },
   {
    "duration": 11,
    "start_time": "2022-01-17T20:19:29.477Z"
   },
   {
    "duration": 12,
    "start_time": "2022-01-17T20:19:29.491Z"
   },
   {
    "duration": 66,
    "start_time": "2022-01-17T20:19:29.506Z"
   },
   {
    "duration": 23,
    "start_time": "2022-01-17T20:19:29.575Z"
   },
   {
    "duration": 28,
    "start_time": "2022-01-17T20:19:29.601Z"
   },
   {
    "duration": 59,
    "start_time": "2022-01-17T20:19:29.632Z"
   },
   {
    "duration": 18,
    "start_time": "2022-01-17T20:19:29.694Z"
   },
   {
    "duration": 500,
    "start_time": "2022-01-17T20:19:29.714Z"
   },
   {
    "duration": 21,
    "start_time": "2022-01-17T20:19:30.217Z"
   },
   {
    "duration": 81,
    "start_time": "2022-01-17T20:19:30.241Z"
   },
   {
    "duration": 291,
    "start_time": "2022-01-17T20:19:30.326Z"
   },
   {
    "duration": 4,
    "start_time": "2022-01-17T20:20:34.060Z"
   },
   {
    "duration": 68,
    "start_time": "2022-01-17T20:20:34.068Z"
   },
   {
    "duration": 35,
    "start_time": "2022-01-17T20:20:34.139Z"
   },
   {
    "duration": 18,
    "start_time": "2022-01-17T20:20:34.176Z"
   },
   {
    "duration": 11,
    "start_time": "2022-01-17T20:20:34.196Z"
   },
   {
    "duration": 509,
    "start_time": "2022-01-17T20:20:34.210Z"
   },
   {
    "duration": 11,
    "start_time": "2022-01-17T20:20:34.722Z"
   },
   {
    "duration": 39,
    "start_time": "2022-01-17T20:20:34.737Z"
   },
   {
    "duration": 13,
    "start_time": "2022-01-17T20:20:34.779Z"
   },
   {
    "duration": 13,
    "start_time": "2022-01-17T20:20:34.795Z"
   },
   {
    "duration": 23,
    "start_time": "2022-01-17T20:20:34.810Z"
   },
   {
    "duration": 39,
    "start_time": "2022-01-17T20:20:34.836Z"
   },
   {
    "duration": 11,
    "start_time": "2022-01-17T20:20:34.878Z"
   },
   {
    "duration": 10,
    "start_time": "2022-01-17T20:20:34.892Z"
   },
   {
    "duration": 28,
    "start_time": "2022-01-17T20:20:34.905Z"
   },
   {
    "duration": 20,
    "start_time": "2022-01-17T20:20:34.969Z"
   },
   {
    "duration": 27,
    "start_time": "2022-01-17T20:20:34.992Z"
   },
   {
    "duration": 66,
    "start_time": "2022-01-17T20:20:35.022Z"
   },
   {
    "duration": 21,
    "start_time": "2022-01-17T20:20:35.091Z"
   },
   {
    "duration": 615,
    "start_time": "2022-01-17T20:20:35.115Z"
   },
   {
    "duration": 38,
    "start_time": "2022-01-17T20:20:35.733Z"
   },
   {
    "duration": 60,
    "start_time": "2022-01-17T20:20:35.774Z"
   },
   {
    "duration": 32,
    "start_time": "2022-01-17T20:20:35.838Z"
   },
   {
    "duration": 4,
    "start_time": "2022-01-17T20:24:16.618Z"
   },
   {
    "duration": 67,
    "start_time": "2022-01-17T20:24:16.625Z"
   },
   {
    "duration": 22,
    "start_time": "2022-01-17T20:24:16.695Z"
   },
   {
    "duration": 23,
    "start_time": "2022-01-17T20:24:16.720Z"
   },
   {
    "duration": 5,
    "start_time": "2022-01-17T20:24:16.768Z"
   },
   {
    "duration": 813,
    "start_time": "2022-01-17T20:24:16.776Z"
   },
   {
    "duration": 14,
    "start_time": "2022-01-17T20:24:17.592Z"
   },
   {
    "duration": 22,
    "start_time": "2022-01-17T20:24:17.610Z"
   },
   {
    "duration": 39,
    "start_time": "2022-01-17T20:24:17.635Z"
   },
   {
    "duration": 10,
    "start_time": "2022-01-17T20:24:17.677Z"
   },
   {
    "duration": 30,
    "start_time": "2022-01-17T20:24:17.690Z"
   },
   {
    "duration": 9,
    "start_time": "2022-01-17T20:24:17.722Z"
   },
   {
    "duration": 47,
    "start_time": "2022-01-17T20:24:17.733Z"
   },
   {
    "duration": 14,
    "start_time": "2022-01-17T20:24:17.783Z"
   },
   {
    "duration": 22,
    "start_time": "2022-01-17T20:24:17.799Z"
   },
   {
    "duration": 59,
    "start_time": "2022-01-17T20:24:17.824Z"
   },
   {
    "duration": 29,
    "start_time": "2022-01-17T20:24:17.885Z"
   },
   {
    "duration": 65,
    "start_time": "2022-01-17T20:24:17.917Z"
   },
   {
    "duration": 18,
    "start_time": "2022-01-17T20:24:17.984Z"
   },
   {
    "duration": 562,
    "start_time": "2022-01-17T20:24:18.004Z"
   },
   {
    "duration": 20,
    "start_time": "2022-01-17T20:24:18.570Z"
   },
   {
    "duration": 90,
    "start_time": "2022-01-17T20:24:18.593Z"
   },
   {
    "duration": 12,
    "start_time": "2022-01-17T20:24:18.687Z"
   },
   {
    "duration": 964,
    "start_time": "2022-01-17T20:24:44.119Z"
   },
   {
    "duration": 4,
    "start_time": "2022-01-17T20:24:48.451Z"
   },
   {
    "duration": 63,
    "start_time": "2022-01-17T20:24:48.458Z"
   },
   {
    "duration": 16,
    "start_time": "2022-01-17T20:24:48.525Z"
   },
   {
    "duration": 18,
    "start_time": "2022-01-17T20:24:48.569Z"
   },
   {
    "duration": 9,
    "start_time": "2022-01-17T20:24:48.590Z"
   },
   {
    "duration": 674,
    "start_time": "2022-01-17T20:24:48.602Z"
   },
   {
    "duration": 13,
    "start_time": "2022-01-17T20:24:49.279Z"
   },
   {
    "duration": 20,
    "start_time": "2022-01-17T20:24:49.297Z"
   },
   {
    "duration": 12,
    "start_time": "2022-01-17T20:24:49.320Z"
   },
   {
    "duration": 10,
    "start_time": "2022-01-17T20:24:49.370Z"
   },
   {
    "duration": 19,
    "start_time": "2022-01-17T20:24:49.383Z"
   },
   {
    "duration": 9,
    "start_time": "2022-01-17T20:24:49.404Z"
   },
   {
    "duration": 57,
    "start_time": "2022-01-17T20:24:49.416Z"
   },
   {
    "duration": 10,
    "start_time": "2022-01-17T20:24:49.476Z"
   },
   {
    "duration": 23,
    "start_time": "2022-01-17T20:24:49.489Z"
   },
   {
    "duration": 20,
    "start_time": "2022-01-17T20:24:49.515Z"
   },
   {
    "duration": 36,
    "start_time": "2022-01-17T20:24:49.570Z"
   },
   {
    "duration": 28,
    "start_time": "2022-01-17T20:24:49.609Z"
   },
   {
    "duration": 42,
    "start_time": "2022-01-17T20:24:49.639Z"
   },
   {
    "duration": 1405,
    "start_time": "2022-01-17T20:24:49.684Z"
   },
   {
    "duration": 186,
    "start_time": "2022-01-17T20:24:50.906Z"
   },
   {
    "duration": 185,
    "start_time": "2022-01-17T20:24:50.910Z"
   },
   {
    "duration": 185,
    "start_time": "2022-01-17T20:24:50.912Z"
   },
   {
    "duration": 483,
    "start_time": "2022-01-17T20:25:02.526Z"
   },
   {
    "duration": 22,
    "start_time": "2022-01-17T20:25:20.591Z"
   },
   {
    "duration": 62,
    "start_time": "2022-01-17T20:25:24.370Z"
   },
   {
    "duration": 11,
    "start_time": "2022-01-17T20:25:34.226Z"
   },
   {
    "duration": 10,
    "start_time": "2022-01-17T20:27:40.656Z"
   },
   {
    "duration": 12,
    "start_time": "2022-01-17T20:27:46.169Z"
   },
   {
    "duration": 11,
    "start_time": "2022-01-17T20:28:01.761Z"
   },
   {
    "duration": 10,
    "start_time": "2022-01-17T20:28:20.257Z"
   },
   {
    "duration": 319,
    "start_time": "2022-01-17T20:29:41.482Z"
   },
   {
    "duration": 314,
    "start_time": "2022-01-17T20:29:52.823Z"
   },
   {
    "duration": 13,
    "start_time": "2022-01-17T20:30:02.182Z"
   },
   {
    "duration": 280,
    "start_time": "2022-01-17T20:31:15.062Z"
   },
   {
    "duration": 14,
    "start_time": "2022-01-17T20:31:25.614Z"
   },
   {
    "duration": 340,
    "start_time": "2022-01-17T20:31:38.485Z"
   },
   {
    "duration": 17,
    "start_time": "2022-01-17T20:32:04.338Z"
   },
   {
    "duration": 13,
    "start_time": "2022-01-17T20:33:27.926Z"
   },
   {
    "duration": 19,
    "start_time": "2022-01-17T20:34:17.607Z"
   },
   {
    "duration": 21,
    "start_time": "2022-01-17T20:34:43.346Z"
   },
   {
    "duration": 6,
    "start_time": "2022-01-17T20:35:43.849Z"
   },
   {
    "duration": 289,
    "start_time": "2022-01-17T20:36:40.977Z"
   },
   {
    "duration": 5,
    "start_time": "2022-01-17T20:36:50.630Z"
   },
   {
    "duration": 6,
    "start_time": "2022-01-17T20:37:17.876Z"
   },
   {
    "duration": 6,
    "start_time": "2022-01-17T20:42:55.203Z"
   },
   {
    "duration": 279,
    "start_time": "2022-01-18T12:02:17.228Z"
   },
   {
    "duration": 1133,
    "start_time": "2022-01-18T12:02:23.806Z"
   },
   {
    "duration": 51,
    "start_time": "2022-01-18T12:02:24.941Z"
   },
   {
    "duration": 13,
    "start_time": "2022-01-18T12:02:24.994Z"
   },
   {
    "duration": 38,
    "start_time": "2022-01-18T12:02:25.009Z"
   },
   {
    "duration": 38,
    "start_time": "2022-01-18T12:02:25.050Z"
   },
   {
    "duration": 472,
    "start_time": "2022-01-18T12:02:25.090Z"
   },
   {
    "duration": 10,
    "start_time": "2022-01-18T12:02:25.564Z"
   },
   {
    "duration": 17,
    "start_time": "2022-01-18T12:02:25.576Z"
   },
   {
    "duration": 8,
    "start_time": "2022-01-18T12:02:25.595Z"
   },
   {
    "duration": 40,
    "start_time": "2022-01-18T12:02:25.604Z"
   },
   {
    "duration": 13,
    "start_time": "2022-01-18T12:02:25.646Z"
   },
   {
    "duration": 6,
    "start_time": "2022-01-18T12:02:25.661Z"
   },
   {
    "duration": 13,
    "start_time": "2022-01-18T12:02:25.669Z"
   },
   {
    "duration": 12,
    "start_time": "2022-01-18T12:02:25.683Z"
   },
   {
    "duration": 16,
    "start_time": "2022-01-18T12:02:25.696Z"
   },
   {
    "duration": 39,
    "start_time": "2022-01-18T12:02:25.713Z"
   },
   {
    "duration": 20,
    "start_time": "2022-01-18T12:02:25.754Z"
   },
   {
    "duration": 18,
    "start_time": "2022-01-18T12:02:25.776Z"
   },
   {
    "duration": 11,
    "start_time": "2022-01-18T12:02:25.796Z"
   },
   {
    "duration": 279,
    "start_time": "2022-01-18T12:02:25.842Z"
   },
   {
    "duration": 21,
    "start_time": "2022-01-18T12:02:26.123Z"
   },
   {
    "duration": 35,
    "start_time": "2022-01-18T12:02:26.146Z"
   },
   {
    "duration": 13,
    "start_time": "2022-01-18T12:02:26.184Z"
   },
   {
    "duration": 4,
    "start_time": "2022-01-18T12:02:26.198Z"
   },
   {
    "duration": 313,
    "start_time": "2022-01-18T12:03:57.440Z"
   },
   {
    "duration": 36,
    "start_time": "2022-01-18T12:04:12.110Z"
   },
   {
    "duration": 51,
    "start_time": "2022-01-18T12:04:30.588Z"
   },
   {
    "duration": 17,
    "start_time": "2022-01-18T12:08:57.742Z"
   },
   {
    "duration": 10,
    "start_time": "2022-01-18T12:10:21.214Z"
   },
   {
    "duration": 11,
    "start_time": "2022-01-18T12:11:41.131Z"
   },
   {
    "duration": 10,
    "start_time": "2022-01-18T12:11:58.119Z"
   },
   {
    "duration": 11,
    "start_time": "2022-01-18T12:12:20.192Z"
   },
   {
    "duration": 11,
    "start_time": "2022-01-18T12:12:45.035Z"
   },
   {
    "duration": 14,
    "start_time": "2022-01-18T12:13:07.465Z"
   },
   {
    "duration": 15,
    "start_time": "2022-01-18T12:13:29.494Z"
   },
   {
    "duration": 9,
    "start_time": "2022-01-18T12:13:39.079Z"
   },
   {
    "duration": 13,
    "start_time": "2022-01-18T12:14:00.206Z"
   },
   {
    "duration": 13,
    "start_time": "2022-01-18T12:16:36.181Z"
   },
   {
    "duration": 23,
    "start_time": "2022-01-18T12:16:43.493Z"
   },
   {
    "duration": 252,
    "start_time": "2022-01-18T12:44:32.703Z"
   },
   {
    "duration": 252,
    "start_time": "2022-01-18T12:44:49.461Z"
   },
   {
    "duration": 411,
    "start_time": "2022-01-18T12:46:04.072Z"
   },
   {
    "duration": 257,
    "start_time": "2022-01-18T12:46:25.627Z"
   },
   {
    "duration": 397,
    "start_time": "2022-01-18T12:46:44.771Z"
   },
   {
    "duration": 72,
    "start_time": "2022-01-18T13:43:39.581Z"
   },
   {
    "duration": 245,
    "start_time": "2022-01-18T13:44:02.952Z"
   },
   {
    "duration": 237,
    "start_time": "2022-01-18T13:44:29.413Z"
   },
   {
    "duration": 80,
    "start_time": "2022-01-18T13:45:41.214Z"
   },
   {
    "duration": 89,
    "start_time": "2022-01-18T13:55:10.262Z"
   },
   {
    "duration": 147,
    "start_time": "2022-01-18T13:55:17.461Z"
   },
   {
    "duration": 77,
    "start_time": "2022-01-18T13:58:58.718Z"
   },
   {
    "duration": 130,
    "start_time": "2022-01-18T13:59:07.644Z"
   },
   {
    "duration": 119,
    "start_time": "2022-01-18T13:59:20.874Z"
   },
   {
    "duration": 7,
    "start_time": "2022-01-18T13:59:33.857Z"
   },
   {
    "duration": 13,
    "start_time": "2022-01-18T15:02:21.439Z"
   },
   {
    "duration": 476,
    "start_time": "2022-01-18T15:03:34.923Z"
   },
   {
    "duration": 365,
    "start_time": "2022-01-18T15:03:49.505Z"
   },
   {
    "duration": 339,
    "start_time": "2022-01-18T15:04:20.870Z"
   },
   {
    "duration": 112,
    "start_time": "2022-01-18T15:06:58.174Z"
   },
   {
    "duration": 6472,
    "start_time": "2022-01-18T15:28:08.624Z"
   },
   {
    "duration": 391,
    "start_time": "2022-01-18T15:28:34.681Z"
   },
   {
    "duration": 314,
    "start_time": "2022-01-18T15:28:47.369Z"
   },
   {
    "duration": 662,
    "start_time": "2022-01-18T15:29:19.500Z"
   },
   {
    "duration": 586,
    "start_time": "2022-01-18T15:39:07.021Z"
   },
   {
    "duration": 552,
    "start_time": "2022-01-18T15:39:18.315Z"
   },
   {
    "duration": 578,
    "start_time": "2022-01-18T15:43:12.127Z"
   },
   {
    "duration": 241,
    "start_time": "2022-01-18T15:46:04.296Z"
   },
   {
    "duration": 509,
    "start_time": "2022-01-18T15:46:09.270Z"
   },
   {
    "duration": 505,
    "start_time": "2022-01-18T15:46:18.449Z"
   },
   {
    "duration": 459,
    "start_time": "2022-01-18T15:47:11.101Z"
   },
   {
    "duration": 509,
    "start_time": "2022-01-18T15:50:26.771Z"
   },
   {
    "duration": 568,
    "start_time": "2022-01-18T15:51:06.413Z"
   },
   {
    "duration": 1312,
    "start_time": "2022-01-18T17:50:41.906Z"
   },
   {
    "duration": 73,
    "start_time": "2022-01-18T17:50:43.221Z"
   },
   {
    "duration": 16,
    "start_time": "2022-01-18T17:50:43.298Z"
   },
   {
    "duration": 18,
    "start_time": "2022-01-18T17:50:43.318Z"
   },
   {
    "duration": 6,
    "start_time": "2022-01-18T17:50:43.365Z"
   },
   {
    "duration": 484,
    "start_time": "2022-01-18T17:50:43.374Z"
   },
   {
    "duration": 11,
    "start_time": "2022-01-18T17:50:43.860Z"
   },
   {
    "duration": 30,
    "start_time": "2022-01-18T17:50:43.875Z"
   },
   {
    "duration": 11,
    "start_time": "2022-01-18T17:50:43.909Z"
   },
   {
    "duration": 17,
    "start_time": "2022-01-18T17:50:43.922Z"
   },
   {
    "duration": 34,
    "start_time": "2022-01-18T17:50:43.941Z"
   },
   {
    "duration": 9,
    "start_time": "2022-01-18T17:50:43.977Z"
   },
   {
    "duration": 30,
    "start_time": "2022-01-18T17:50:43.989Z"
   },
   {
    "duration": 29,
    "start_time": "2022-01-18T17:50:44.021Z"
   },
   {
    "duration": 31,
    "start_time": "2022-01-18T17:50:44.053Z"
   },
   {
    "duration": 16,
    "start_time": "2022-01-18T17:50:44.086Z"
   },
   {
    "duration": 28,
    "start_time": "2022-01-18T17:50:44.104Z"
   },
   {
    "duration": 48,
    "start_time": "2022-01-18T17:50:44.135Z"
   },
   {
    "duration": 16,
    "start_time": "2022-01-18T17:50:44.186Z"
   },
   {
    "duration": 479,
    "start_time": "2022-01-18T17:50:44.204Z"
   },
   {
    "duration": 19,
    "start_time": "2022-01-18T17:50:44.685Z"
   },
   {
    "duration": 76,
    "start_time": "2022-01-18T17:50:44.707Z"
   },
   {
    "duration": 18,
    "start_time": "2022-01-18T17:50:44.788Z"
   },
   {
    "duration": 8,
    "start_time": "2022-01-18T17:50:44.809Z"
   },
   {
    "duration": 27,
    "start_time": "2022-01-18T17:50:44.820Z"
   },
   {
    "duration": 40,
    "start_time": "2022-01-18T17:50:44.849Z"
   },
   {
    "duration": 47,
    "start_time": "2022-01-18T17:50:44.891Z"
   },
   {
    "duration": 277,
    "start_time": "2022-01-18T17:50:44.941Z"
   },
   {
    "duration": 820,
    "start_time": "2022-01-18T17:50:45.221Z"
   },
   {
    "duration": 7,
    "start_time": "2022-01-18T17:53:56.871Z"
   },
   {
    "duration": 906,
    "start_time": "2022-01-18T17:56:01.486Z"
   },
   {
    "duration": 894,
    "start_time": "2022-01-18T17:56:43.106Z"
   },
   {
    "duration": 24,
    "start_time": "2022-01-18T18:01:08.438Z"
   },
   {
    "duration": 22,
    "start_time": "2022-01-18T18:01:36.525Z"
   },
   {
    "duration": 16,
    "start_time": "2022-01-18T18:04:05.022Z"
   },
   {
    "duration": 18,
    "start_time": "2022-01-18T18:04:22.707Z"
   },
   {
    "duration": 19,
    "start_time": "2022-01-18T18:14:45.807Z"
   },
   {
    "duration": 24,
    "start_time": "2022-01-18T18:15:42.973Z"
   },
   {
    "duration": 427,
    "start_time": "2022-01-18T18:16:39.068Z"
   },
   {
    "duration": 282,
    "start_time": "2022-01-18T18:16:53.808Z"
   },
   {
    "duration": 8556,
    "start_time": "2022-01-18T18:17:09.489Z"
   },
   {
    "duration": 17,
    "start_time": "2022-01-18T18:17:25.420Z"
   },
   {
    "duration": 23,
    "start_time": "2022-01-18T18:17:45.939Z"
   },
   {
    "duration": 24,
    "start_time": "2022-01-18T18:20:13.774Z"
   },
   {
    "duration": 25,
    "start_time": "2022-01-18T18:21:12.160Z"
   },
   {
    "duration": 23,
    "start_time": "2022-01-18T18:21:22.331Z"
   },
   {
    "duration": 23,
    "start_time": "2022-01-18T18:21:31.061Z"
   },
   {
    "duration": 18,
    "start_time": "2022-01-18T18:24:05.778Z"
   },
   {
    "duration": 25,
    "start_time": "2022-01-18T18:24:30.508Z"
   },
   {
    "duration": 25,
    "start_time": "2022-01-18T18:24:55.368Z"
   },
   {
    "duration": 43,
    "start_time": "2022-01-18T18:25:54.973Z"
   },
   {
    "duration": 39,
    "start_time": "2022-01-18T18:26:42.201Z"
   },
   {
    "duration": 121,
    "start_time": "2022-01-18T18:31:25.664Z"
   },
   {
    "duration": 43,
    "start_time": "2022-01-18T18:31:35.226Z"
   },
   {
    "duration": 40,
    "start_time": "2022-01-18T18:31:43.237Z"
   },
   {
    "duration": 39,
    "start_time": "2022-01-18T18:39:00.737Z"
   },
   {
    "duration": 38,
    "start_time": "2022-01-18T18:39:37.704Z"
   },
   {
    "duration": 39,
    "start_time": "2022-01-18T18:44:16.289Z"
   },
   {
    "duration": 40,
    "start_time": "2022-01-18T18:44:23.534Z"
   },
   {
    "duration": 290,
    "start_time": "2022-01-18T18:51:13.567Z"
   },
   {
    "duration": 16,
    "start_time": "2022-01-18T18:53:43.016Z"
   },
   {
    "duration": 16,
    "start_time": "2022-01-18T18:55:28.970Z"
   },
   {
    "duration": 15,
    "start_time": "2022-01-18T18:56:17.595Z"
   },
   {
    "duration": 31,
    "start_time": "2022-01-18T18:57:08.739Z"
   },
   {
    "duration": 11,
    "start_time": "2022-01-18T18:57:24.558Z"
   },
   {
    "duration": 11,
    "start_time": "2022-01-18T18:57:34.862Z"
   },
   {
    "duration": 14,
    "start_time": "2022-01-18T18:57:47.935Z"
   },
   {
    "duration": 11,
    "start_time": "2022-01-18T18:58:04.609Z"
   },
   {
    "duration": 11,
    "start_time": "2022-01-18T18:58:05.125Z"
   },
   {
    "duration": 15,
    "start_time": "2022-01-18T18:58:29.090Z"
   },
   {
    "duration": 15,
    "start_time": "2022-01-18T18:58:34.152Z"
   },
   {
    "duration": 107,
    "start_time": "2022-01-18T19:06:22.570Z"
   },
   {
    "duration": 165,
    "start_time": "2022-01-18T19:47:12.848Z"
   },
   {
    "duration": 11,
    "start_time": "2022-01-18T19:58:03.641Z"
   },
   {
    "duration": 402,
    "start_time": "2022-01-18T19:58:26.064Z"
   },
   {
    "duration": 10,
    "start_time": "2022-01-18T19:58:33.431Z"
   },
   {
    "duration": 9,
    "start_time": "2022-01-18T19:58:57.733Z"
   },
   {
    "duration": 15,
    "start_time": "2022-01-18T20:01:00.608Z"
   },
   {
    "duration": 1345,
    "start_time": "2022-01-22T16:24:19.926Z"
   },
   {
    "duration": 81,
    "start_time": "2022-01-22T16:24:22.350Z"
   },
   {
    "duration": 17,
    "start_time": "2022-01-22T16:24:24.172Z"
   },
   {
    "duration": 10,
    "start_time": "2022-01-22T16:25:22.792Z"
   },
   {
    "duration": 11,
    "start_time": "2022-01-22T16:26:12.319Z"
   },
   {
    "duration": 12,
    "start_time": "2022-01-22T16:26:44.535Z"
   },
   {
    "duration": 10,
    "start_time": "2022-01-22T16:26:59.384Z"
   },
   {
    "duration": 7735,
    "start_time": "2022-01-22T16:37:59.925Z"
   },
   {
    "duration": 17,
    "start_time": "2022-01-22T16:38:17.932Z"
   },
   {
    "duration": 6,
    "start_time": "2022-01-22T16:38:22.042Z"
   },
   {
    "duration": 428,
    "start_time": "2022-01-22T16:38:24.180Z"
   },
   {
    "duration": 10,
    "start_time": "2022-01-22T16:38:26.947Z"
   },
   {
    "duration": 16,
    "start_time": "2022-01-22T16:38:29.654Z"
   },
   {
    "duration": 18,
    "start_time": "2022-01-22T16:39:14.649Z"
   },
   {
    "duration": 3,
    "start_time": "2022-01-22T16:39:46.983Z"
   },
   {
    "duration": 3,
    "start_time": "2022-01-22T16:41:15.050Z"
   },
   {
    "duration": 56,
    "start_time": "2022-01-22T16:44:12.333Z"
   },
   {
    "duration": 8726,
    "start_time": "2022-01-22T16:45:56.782Z"
   },
   {
    "duration": 812,
    "start_time": "2022-01-22T16:46:04.698Z"
   },
   {
    "duration": 7544,
    "start_time": "2022-01-22T16:46:24.232Z"
   },
   {
    "duration": 813,
    "start_time": "2022-01-22T16:46:30.966Z"
   },
   {
    "duration": 4,
    "start_time": "2022-01-22T16:46:35.683Z"
   },
   {
    "duration": 173,
    "start_time": "2022-01-22T16:46:36.764Z"
   },
   {
    "duration": 16,
    "start_time": "2022-01-22T16:46:39.014Z"
   },
   {
    "duration": 10,
    "start_time": "2022-01-22T16:46:40.049Z"
   },
   {
    "duration": 41,
    "start_time": "2022-01-22T16:46:41.421Z"
   },
   {
    "duration": 7,
    "start_time": "2022-01-22T16:46:42.817Z"
   },
   {
    "duration": 8,
    "start_time": "2022-01-22T16:46:51.929Z"
   },
   {
    "duration": 7,
    "start_time": "2022-01-22T16:46:56.743Z"
   },
   {
    "duration": 7,
    "start_time": "2022-01-22T17:18:10.962Z"
   },
   {
    "duration": 7,
    "start_time": "2022-01-22T17:18:23.360Z"
   },
   {
    "duration": 7,
    "start_time": "2022-01-22T17:18:50.228Z"
   },
   {
    "duration": 7,
    "start_time": "2022-01-22T17:18:53.621Z"
   },
   {
    "duration": 7,
    "start_time": "2022-01-22T17:18:56.907Z"
   },
   {
    "duration": 7,
    "start_time": "2022-01-22T17:19:03.680Z"
   },
   {
    "duration": 17,
    "start_time": "2022-01-22T17:29:56.832Z"
   },
   {
    "duration": 6,
    "start_time": "2022-01-22T17:29:58.626Z"
   },
   {
    "duration": 430,
    "start_time": "2022-01-22T17:29:59.482Z"
   },
   {
    "duration": 10,
    "start_time": "2022-01-22T17:30:01.798Z"
   },
   {
    "duration": 31,
    "start_time": "2022-01-22T17:30:04.139Z"
   },
   {
    "duration": 6,
    "start_time": "2022-01-22T17:30:08.841Z"
   },
   {
    "duration": 25,
    "start_time": "2022-01-22T17:30:13.228Z"
   },
   {
    "duration": 9,
    "start_time": "2022-01-22T17:30:15.118Z"
   },
   {
    "duration": 9,
    "start_time": "2022-01-22T17:30:16.311Z"
   },
   {
    "duration": 11,
    "start_time": "2022-01-22T17:30:17.886Z"
   },
   {
    "duration": 23,
    "start_time": "2022-01-22T17:30:19.033Z"
   },
   {
    "duration": 15,
    "start_time": "2022-01-22T17:30:21.036Z"
   },
   {
    "duration": 37,
    "start_time": "2022-01-22T17:30:22.611Z"
   },
   {
    "duration": 25,
    "start_time": "2022-01-22T17:30:28.484Z"
   },
   {
    "duration": 19,
    "start_time": "2022-01-22T17:30:38.701Z"
   },
   {
    "duration": 452,
    "start_time": "2022-01-22T17:30:43.334Z"
   },
   {
    "duration": 20,
    "start_time": "2022-01-22T17:30:47.137Z"
   },
   {
    "duration": 59,
    "start_time": "2022-01-22T17:31:14.004Z"
   },
   {
    "duration": 29,
    "start_time": "2022-01-22T17:31:18.548Z"
   },
   {
    "duration": 5,
    "start_time": "2022-01-22T17:31:22.530Z"
   },
   {
    "duration": 12,
    "start_time": "2022-01-22T17:34:17.855Z"
   },
   {
    "duration": 13,
    "start_time": "2022-01-22T17:34:49.154Z"
   },
   {
    "duration": 16,
    "start_time": "2022-01-22T17:37:16.923Z"
   },
   {
    "duration": 30,
    "start_time": "2022-01-22T17:37:23.891Z"
   },
   {
    "duration": 195,
    "start_time": "2022-01-22T17:40:37.171Z"
   },
   {
    "duration": 198,
    "start_time": "2022-01-22T17:40:51.719Z"
   },
   {
    "duration": 1479,
    "start_time": "2022-01-22T17:45:29.864Z"
   },
   {
    "duration": 19,
    "start_time": "2022-01-22T17:46:44.070Z"
   },
   {
    "duration": 19,
    "start_time": "2022-01-22T17:47:10.440Z"
   },
   {
    "duration": 14,
    "start_time": "2022-01-22T17:47:26.260Z"
   },
   {
    "duration": 13,
    "start_time": "2022-01-22T17:48:52.954Z"
   },
   {
    "duration": 14,
    "start_time": "2022-01-22T17:49:34.625Z"
   },
   {
    "duration": 22,
    "start_time": "2022-01-22T17:49:38.517Z"
   },
   {
    "duration": 1142,
    "start_time": "2022-01-22T17:50:01.654Z"
   },
   {
    "duration": 12,
    "start_time": "2022-01-22T17:50:29.347Z"
   },
   {
    "duration": 54,
    "start_time": "2022-01-22T17:51:29.273Z"
   },
   {
    "duration": 25,
    "start_time": "2022-01-22T17:51:38.312Z"
   },
   {
    "duration": 460,
    "start_time": "2022-01-22T17:52:01.802Z"
   },
   {
    "duration": 14,
    "start_time": "2022-01-22T17:52:20.927Z"
   },
   {
    "duration": 13,
    "start_time": "2022-01-22T17:52:40.100Z"
   },
   {
    "duration": 4,
    "start_time": "2022-01-22T17:53:10.567Z"
   },
   {
    "duration": 56,
    "start_time": "2022-01-22T17:53:12.051Z"
   },
   {
    "duration": 13,
    "start_time": "2022-01-22T17:53:13.694Z"
   },
   {
    "duration": 39,
    "start_time": "2022-01-22T17:53:15.223Z"
   },
   {
    "duration": 7,
    "start_time": "2022-01-22T17:53:16.641Z"
   },
   {
    "duration": 7,
    "start_time": "2022-01-22T17:53:17.541Z"
   },
   {
    "duration": 18,
    "start_time": "2022-01-22T17:53:20.780Z"
   },
   {
    "duration": 5,
    "start_time": "2022-01-22T17:53:23.121Z"
   },
   {
    "duration": 422,
    "start_time": "2022-01-22T17:53:24.471Z"
   },
   {
    "duration": 9,
    "start_time": "2022-01-22T17:53:27.599Z"
   },
   {
    "duration": 17,
    "start_time": "2022-01-22T17:53:41.865Z"
   },
   {
    "duration": 19,
    "start_time": "2022-01-22T17:55:41.953Z"
   },
   {
    "duration": 17,
    "start_time": "2022-01-22T17:58:43.554Z"
   },
   {
    "duration": 1396,
    "start_time": "2022-01-22T17:59:01.877Z"
   },
   {
    "duration": 12,
    "start_time": "2022-01-22T18:00:08.565Z"
   },
   {
    "duration": 300,
    "start_time": "2022-01-22T18:00:21.052Z"
   },
   {
    "duration": 12,
    "start_time": "2022-01-22T18:00:35.567Z"
   },
   {
    "duration": 16,
    "start_time": "2022-01-22T18:00:47.039Z"
   },
   {
    "duration": 14,
    "start_time": "2022-01-22T18:01:32.718Z"
   },
   {
    "duration": 15,
    "start_time": "2022-01-22T18:01:46.015Z"
   },
   {
    "duration": 1130,
    "start_time": "2022-01-22T18:01:59.902Z"
   },
   {
    "duration": 1376,
    "start_time": "2022-01-22T20:15:21.444Z"
   },
   {
    "duration": 67,
    "start_time": "2022-01-22T20:15:23.583Z"
   },
   {
    "duration": 16,
    "start_time": "2022-01-22T20:15:24.752Z"
   },
   {
    "duration": 43,
    "start_time": "2022-01-22T20:15:25.472Z"
   },
   {
    "duration": 7,
    "start_time": "2022-01-22T20:15:26.439Z"
   },
   {
    "duration": 7,
    "start_time": "2022-01-22T20:15:26.889Z"
   },
   {
    "duration": 34,
    "start_time": "2022-01-22T20:15:29.457Z"
   },
   {
    "duration": 5,
    "start_time": "2022-01-22T20:15:31.321Z"
   },
   {
    "duration": 473,
    "start_time": "2022-01-22T20:15:32.402Z"
   },
   {
    "duration": 10,
    "start_time": "2022-01-22T20:15:36.408Z"
   },
   {
    "duration": 20,
    "start_time": "2022-01-22T20:15:55.083Z"
   },
   {
    "duration": 13,
    "start_time": "2022-01-22T20:16:00.167Z"
   },
   {
    "duration": 7,
    "start_time": "2022-01-22T20:16:13.262Z"
   },
   {
    "duration": 6,
    "start_time": "2022-01-22T20:17:25.489Z"
   },
   {
    "duration": 18,
    "start_time": "2022-01-22T20:17:33.972Z"
   },
   {
    "duration": 9,
    "start_time": "2022-01-22T20:17:52.310Z"
   },
   {
    "duration": 10,
    "start_time": "2022-01-22T20:17:53.367Z"
   },
   {
    "duration": 10,
    "start_time": "2022-01-22T20:17:54.810Z"
   },
   {
    "duration": 22,
    "start_time": "2022-01-22T20:17:55.369Z"
   },
   {
    "duration": 17,
    "start_time": "2022-01-22T20:17:57.282Z"
   },
   {
    "duration": 36,
    "start_time": "2022-01-22T20:17:58.976Z"
   },
   {
    "duration": 26,
    "start_time": "2022-01-22T20:18:01.108Z"
   },
   {
    "duration": 17,
    "start_time": "2022-01-22T20:18:18.884Z"
   },
   {
    "duration": 454,
    "start_time": "2022-01-22T20:18:22.213Z"
   },
   {
    "duration": 21,
    "start_time": "2022-01-22T20:18:27.838Z"
   },
   {
    "duration": 57,
    "start_time": "2022-01-22T20:18:30.876Z"
   },
   {
    "duration": 21,
    "start_time": "2022-01-22T20:18:37.469Z"
   },
   {
    "duration": 5,
    "start_time": "2022-01-22T20:18:41.404Z"
   },
   {
    "duration": 12,
    "start_time": "2022-01-22T20:18:44.645Z"
   },
   {
    "duration": 19,
    "start_time": "2022-01-22T20:18:55.716Z"
   },
   {
    "duration": 33,
    "start_time": "2022-01-22T20:18:57.403Z"
   },
   {
    "duration": 221,
    "start_time": "2022-01-22T20:19:00.756Z"
   },
   {
    "duration": 178,
    "start_time": "2022-01-22T20:19:16.873Z"
   },
   {
    "duration": 821,
    "start_time": "2022-01-22T20:19:21.187Z"
   },
   {
    "duration": 942,
    "start_time": "2022-01-22T20:19:44.407Z"
   },
   {
    "duration": 933,
    "start_time": "2022-01-22T20:21:23.931Z"
   },
   {
    "duration": 132,
    "start_time": "2022-01-22T20:25:54.454Z"
   },
   {
    "duration": 611,
    "start_time": "2022-01-22T20:25:59.447Z"
   },
   {
    "duration": 434,
    "start_time": "2022-01-22T20:26:11.823Z"
   },
   {
    "duration": 19,
    "start_time": "2022-01-22T20:26:28.091Z"
   },
   {
    "duration": 386,
    "start_time": "2022-01-22T20:27:04.136Z"
   },
   {
    "duration": 365,
    "start_time": "2022-01-22T20:29:07.013Z"
   },
   {
    "duration": 378,
    "start_time": "2022-01-22T20:29:37.771Z"
   },
   {
    "duration": 18,
    "start_time": "2022-01-22T20:29:58.787Z"
   },
   {
    "duration": 16,
    "start_time": "2022-01-22T20:30:18.969Z"
   },
   {
    "duration": 18,
    "start_time": "2022-01-22T20:31:37.589Z"
   },
   {
    "duration": 121,
    "start_time": "2022-01-22T20:31:49.939Z"
   },
   {
    "duration": 125,
    "start_time": "2022-01-22T20:31:55.317Z"
   },
   {
    "duration": 364,
    "start_time": "2022-01-22T20:32:10.009Z"
   },
   {
    "duration": 436,
    "start_time": "2022-01-22T20:32:25.997Z"
   },
   {
    "duration": 24,
    "start_time": "2022-01-22T20:32:35.548Z"
   },
   {
    "duration": 373,
    "start_time": "2022-01-22T20:33:32.542Z"
   },
   {
    "duration": 27,
    "start_time": "2022-01-22T20:33:55.516Z"
   },
   {
    "duration": 30,
    "start_time": "2022-01-22T20:35:08.825Z"
   },
   {
    "duration": 1099,
    "start_time": "2022-01-22T20:35:36.681Z"
   },
   {
    "duration": 27,
    "start_time": "2022-01-22T20:35:49.146Z"
   },
   {
    "duration": 27,
    "start_time": "2022-01-22T20:36:06.945Z"
   },
   {
    "duration": 41,
    "start_time": "2022-01-22T20:39:21.694Z"
   },
   {
    "duration": 39,
    "start_time": "2022-01-22T20:39:24.208Z"
   },
   {
    "duration": 52,
    "start_time": "2022-01-22T20:41:06.182Z"
   },
   {
    "duration": 127,
    "start_time": "2022-01-22T20:41:30.820Z"
   },
   {
    "duration": 129,
    "start_time": "2022-01-22T20:41:41.461Z"
   },
   {
    "duration": 53,
    "start_time": "2022-01-22T20:41:47.108Z"
   },
   {
    "duration": 47,
    "start_time": "2022-01-22T20:41:58.697Z"
   },
   {
    "duration": 56,
    "start_time": "2022-01-22T20:42:14.201Z"
   },
   {
    "duration": 46,
    "start_time": "2022-01-22T20:42:45.680Z"
   },
   {
    "duration": 46,
    "start_time": "2022-01-22T20:45:06.242Z"
   },
   {
    "duration": 46,
    "start_time": "2022-01-22T20:45:18.189Z"
   },
   {
    "duration": 32,
    "start_time": "2022-01-22T20:47:21.318Z"
   },
   {
    "duration": 40,
    "start_time": "2022-01-22T20:49:38.619Z"
   },
   {
    "duration": 44,
    "start_time": "2022-01-22T20:50:13.339Z"
   },
   {
    "duration": 48,
    "start_time": "2022-01-22T20:51:30.361Z"
   },
   {
    "duration": 46,
    "start_time": "2022-01-22T20:52:45.783Z"
   },
   {
    "duration": 43,
    "start_time": "2022-01-22T20:54:45.779Z"
   },
   {
    "duration": 57,
    "start_time": "2022-01-22T21:01:10.201Z"
   },
   {
    "duration": 10,
    "start_time": "2022-01-22T21:27:16.771Z"
   },
   {
    "duration": 12,
    "start_time": "2022-01-22T21:27:41.814Z"
   },
   {
    "duration": 3,
    "start_time": "2022-01-22T21:28:46.439Z"
   },
   {
    "duration": 71,
    "start_time": "2022-01-22T21:28:46.446Z"
   },
   {
    "duration": 42,
    "start_time": "2022-01-22T21:28:46.520Z"
   },
   {
    "duration": 46,
    "start_time": "2022-01-22T21:28:46.564Z"
   },
   {
    "duration": 7,
    "start_time": "2022-01-22T21:28:46.612Z"
   },
   {
    "duration": 40,
    "start_time": "2022-01-22T21:28:46.622Z"
   },
   {
    "duration": 21,
    "start_time": "2022-01-22T21:28:46.665Z"
   },
   {
    "duration": 5,
    "start_time": "2022-01-22T21:28:46.692Z"
   },
   {
    "duration": 532,
    "start_time": "2022-01-22T21:28:46.701Z"
   },
   {
    "duration": 10,
    "start_time": "2022-01-22T21:28:47.236Z"
   },
   {
    "duration": 19,
    "start_time": "2022-01-22T21:28:47.259Z"
   },
   {
    "duration": 11,
    "start_time": "2022-01-22T21:28:47.280Z"
   },
   {
    "duration": 6,
    "start_time": "2022-01-22T21:28:47.293Z"
   },
   {
    "duration": 58,
    "start_time": "2022-01-22T21:28:47.301Z"
   },
   {
    "duration": 9,
    "start_time": "2022-01-22T21:28:47.362Z"
   },
   {
    "duration": 9,
    "start_time": "2022-01-22T21:28:47.373Z"
   },
   {
    "duration": 10,
    "start_time": "2022-01-22T21:28:47.384Z"
   },
   {
    "duration": 23,
    "start_time": "2022-01-22T21:28:47.396Z"
   },
   {
    "duration": 52,
    "start_time": "2022-01-22T21:28:47.421Z"
   },
   {
    "duration": 23,
    "start_time": "2022-01-22T21:28:47.476Z"
   },
   {
    "duration": 58,
    "start_time": "2022-01-22T21:28:47.501Z"
   },
   {
    "duration": 17,
    "start_time": "2022-01-22T21:28:47.561Z"
   },
   {
    "duration": 482,
    "start_time": "2022-01-22T21:28:47.582Z"
   },
   {
    "duration": 19,
    "start_time": "2022-01-22T21:28:48.067Z"
   },
   {
    "duration": 83,
    "start_time": "2022-01-22T21:28:48.088Z"
   },
   {
    "duration": 21,
    "start_time": "2022-01-22T21:28:48.173Z"
   },
   {
    "duration": 5,
    "start_time": "2022-01-22T21:28:48.196Z"
   },
   {
    "duration": 18,
    "start_time": "2022-01-22T21:28:48.203Z"
   },
   {
    "duration": 50,
    "start_time": "2022-01-22T21:28:48.224Z"
   },
   {
    "duration": 29,
    "start_time": "2022-01-22T21:28:48.276Z"
   },
   {
    "duration": 227,
    "start_time": "2022-01-22T21:28:48.307Z"
   },
   {
    "duration": 987,
    "start_time": "2022-01-22T21:28:48.537Z"
   },
   {
    "duration": 910,
    "start_time": "2022-01-22T21:28:49.526Z"
   },
   {
    "duration": 38,
    "start_time": "2022-01-22T21:28:50.439Z"
   },
   {
    "duration": 41,
    "start_time": "2022-01-22T21:28:50.479Z"
   },
   {
    "duration": 68,
    "start_time": "2022-01-22T21:28:50.522Z"
   },
   {
    "duration": 132,
    "start_time": "2022-01-22T21:28:50.592Z"
   },
   {
    "duration": 911,
    "start_time": "2022-01-22T21:28:49.815Z"
   },
   {
    "duration": 909,
    "start_time": "2022-01-22T21:28:49.819Z"
   },
   {
    "duration": 40,
    "start_time": "2022-01-22T21:29:03.762Z"
   },
   {
    "duration": 14,
    "start_time": "2022-01-22T21:29:10.960Z"
   },
   {
    "duration": 14,
    "start_time": "2022-01-22T21:29:12.670Z"
   },
   {
    "duration": 23,
    "start_time": "2022-01-22T21:30:52.734Z"
   },
   {
    "duration": 23,
    "start_time": "2022-01-22T21:31:08.978Z"
   },
   {
    "duration": 3168,
    "start_time": "2022-01-22T21:43:16.344Z"
   },
   {
    "duration": 8,
    "start_time": "2022-01-22T21:43:26.468Z"
   },
   {
    "duration": 9,
    "start_time": "2022-01-22T21:43:43.860Z"
   },
   {
    "duration": 686,
    "start_time": "2022-01-22T21:44:59.439Z"
   },
   {
    "duration": 234,
    "start_time": "2022-01-22T21:45:22.908Z"
   },
   {
    "duration": 231,
    "start_time": "2022-01-22T21:45:33.730Z"
   },
   {
    "duration": 227,
    "start_time": "2022-01-22T21:45:59.427Z"
   },
   {
    "duration": 597,
    "start_time": "2022-01-22T21:46:10.474Z"
   },
   {
    "duration": 234,
    "start_time": "2022-01-22T21:46:23.997Z"
   },
   {
    "duration": 308,
    "start_time": "2022-01-22T21:48:37.292Z"
   },
   {
    "duration": 459,
    "start_time": "2022-01-22T21:49:57.533Z"
   },
   {
    "duration": 307,
    "start_time": "2022-01-22T21:50:16.117Z"
   },
   {
    "duration": 338,
    "start_time": "2022-01-22T21:55:39.543Z"
   },
   {
    "duration": 880,
    "start_time": "2022-01-22T21:57:42.290Z"
   },
   {
    "duration": 332,
    "start_time": "2022-01-22T21:57:56.512Z"
   },
   {
    "duration": 304,
    "start_time": "2022-01-22T21:58:40.255Z"
   },
   {
    "duration": 320,
    "start_time": "2022-01-22T21:59:13.172Z"
   },
   {
    "duration": 317,
    "start_time": "2022-01-22T21:59:19.987Z"
   },
   {
    "duration": 322,
    "start_time": "2022-01-22T22:03:07.318Z"
   },
   {
    "duration": 558,
    "start_time": "2022-01-22T22:04:49.427Z"
   },
   {
    "duration": 404,
    "start_time": "2022-01-22T22:05:21.918Z"
   },
   {
    "duration": 602,
    "start_time": "2022-01-22T22:10:04.683Z"
   },
   {
    "duration": 335,
    "start_time": "2022-01-22T22:10:21.043Z"
   },
   {
    "duration": 324,
    "start_time": "2022-01-22T22:11:38.803Z"
   },
   {
    "duration": 322,
    "start_time": "2022-01-22T22:16:52.040Z"
   }
  ],
  "kernelspec": {
   "display_name": "Python 3 (ipykernel)",
   "language": "python",
   "name": "python3"
  },
  "language_info": {
   "codemirror_mode": {
    "name": "ipython",
    "version": 3
   },
   "file_extension": ".py",
   "mimetype": "text/x-python",
   "name": "python",
   "nbconvert_exporter": "python",
   "pygments_lexer": "ipython3",
   "version": "3.9.7"
  },
  "toc": {
   "base_numbering": 1,
   "nav_menu": {},
   "number_sections": true,
   "sideBar": true,
   "skip_h1_title": true,
   "title_cell": "Table of Contents",
   "title_sidebar": "Contents",
   "toc_cell": false,
   "toc_position": {},
   "toc_section_display": true,
   "toc_window_display": false
  }
 },
 "nbformat": 4,
 "nbformat_minor": 2
}
