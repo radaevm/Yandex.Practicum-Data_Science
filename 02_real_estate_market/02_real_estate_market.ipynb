{
 "cells": [
  {
   "cell_type": "markdown",
   "metadata": {
    "toc": true
   },
   "source": [
    "<h1>Содержание<span class=\"tocSkip\"></span></h1>\n",
    "<div class=\"toc\"><ul class=\"toc-item\"><li><span><a href=\"#Изучение-данных-из-файла\" data-toc-modified-id=\"Изучение-данных-из-файла-1\"><span class=\"toc-item-num\">1&nbsp;&nbsp;</span>Изучение данных из файла</a></span><ul class=\"toc-item\"><li><span><a href=\"#Вывод\" data-toc-modified-id=\"Вывод-1.1\"><span class=\"toc-item-num\">1.1&nbsp;&nbsp;</span>Вывод</a></span></li></ul></li><li><span><a href=\"#Предобработка-данных\" data-toc-modified-id=\"Предобработка-данных-2\"><span class=\"toc-item-num\">2&nbsp;&nbsp;</span>Предобработка данных</a></span></li><li><span><a href=\"#Расчёты-и-добавление-результатов-в-таблицу\" data-toc-modified-id=\"Расчёты-и-добавление-результатов-в-таблицу-3\"><span class=\"toc-item-num\">3&nbsp;&nbsp;</span>Расчёты и добавление результатов в таблицу</a></span></li><li><span><a href=\"#Исследовательский-анализ-данных\" data-toc-modified-id=\"Исследовательский-анализ-данных-4\"><span class=\"toc-item-num\">4&nbsp;&nbsp;</span>Исследовательский анализ данных</a></span></li><li><span><a href=\"#Общий-вывод\" data-toc-modified-id=\"Общий-вывод-5\"><span class=\"toc-item-num\">5&nbsp;&nbsp;</span>Общий вывод</a></span></li><li><span><a href=\"#Чек-лист-готовности-проекта\" data-toc-modified-id=\"Чек-лист-готовности-проекта-6\"><span class=\"toc-item-num\">6&nbsp;&nbsp;</span>Чек-лист готовности проекта</a></span></li></ul></div>"
   ]
  },
  {
   "cell_type": "markdown",
   "metadata": {},
   "source": [
    "# Исследование объявлений о продаже квартир\n",
    "\n",
    "В вашем распоряжении данные сервиса Яндекс.Недвижимость — архив объявлений о продаже квартир в Санкт-Петербурге и соседних населённых пунктах за несколько лет. Нужно научиться определять рыночную стоимость объектов недвижимости. Ваша задача — установить параметры. Это позволит построить автоматизированную систему: она отследит аномалии и мошенническую деятельность. \n",
    "\n",
    "По каждой квартире на продажу доступны два вида данных. Первые вписаны пользователем, вторые получены автоматически на основе картографических данных. Например, расстояние до центра, аэропорта, ближайшего парка и водоёма. \n",
    "\n",
    "Описание данных:\n",
    "- airports_nearest — расстояние до ближайшего аэропорта в метрах (м)\n",
    "- balcony — число балконов\n",
    "- ceiling_height — высота потолков (м)\n",
    "- cityCenters_nearest — расстояние до центра города (м)\n",
    "- days_exposition — сколько дней было размещено объявление (от публикации до снятия)\n",
    "- first_day_exposition — дата публикации\n",
    "- floor — этаж\n",
    "- floors_total — всего этажей в доме\n",
    "- is_apartment — апартаменты (булев тип)\n",
    "- kitchen_area — площадь кухни в квадратных метрах (м²)\n",
    "- last_price — цена на момент снятия с публикации\n",
    "- living_area — жилая площадь в квадратных метрах (м²)\n",
    "- locality_name — название населённого пункта\n",
    "- open_plan — свободная планировка (булев тип)\n",
    "- parks_around3000 — число парков в радиусе 3 км\n",
    "- parks_nearest — расстояние до ближайшего парка (м)\n",
    "- ponds_around3000 — число водоёмов в радиусе 3 км\n",
    "- ponds_nearest — расстояние до ближайшего водоёма (м)\n",
    "- rooms — число комнат\n",
    "- studio — квартира-студия (булев тип)\n",
    "- total_area — площадь квартиры в квадратных метрах (м²)\n",
    "- total_images — число фотографий квартиры в объявлении"
   ]
  },
  {
   "cell_type": "markdown",
   "metadata": {},
   "source": [
    "## Изучение данных из файла"
   ]
  },
  {
   "cell_type": "code",
   "execution_count": 130,
   "metadata": {
    "scrolled": true
   },
   "outputs": [
    {
     "data": {
      "text/html": [
       "<div>\n",
       "<style scoped>\n",
       "    .dataframe tbody tr th:only-of-type {\n",
       "        vertical-align: middle;\n",
       "    }\n",
       "\n",
       "    .dataframe tbody tr th {\n",
       "        vertical-align: top;\n",
       "    }\n",
       "\n",
       "    .dataframe thead th {\n",
       "        text-align: right;\n",
       "    }\n",
       "</style>\n",
       "<table border=\"1\" class=\"dataframe\">\n",
       "  <thead>\n",
       "    <tr style=\"text-align: right;\">\n",
       "      <th></th>\n",
       "      <th>total_images</th>\n",
       "      <th>last_price</th>\n",
       "      <th>total_area</th>\n",
       "      <th>first_day_exposition</th>\n",
       "      <th>rooms</th>\n",
       "      <th>ceiling_height</th>\n",
       "      <th>floors_total</th>\n",
       "      <th>living_area</th>\n",
       "      <th>floor</th>\n",
       "      <th>is_apartment</th>\n",
       "      <th>...</th>\n",
       "      <th>kitchen_area</th>\n",
       "      <th>balcony</th>\n",
       "      <th>locality_name</th>\n",
       "      <th>airports_nearest</th>\n",
       "      <th>cityCenters_nearest</th>\n",
       "      <th>parks_around3000</th>\n",
       "      <th>parks_nearest</th>\n",
       "      <th>ponds_around3000</th>\n",
       "      <th>ponds_nearest</th>\n",
       "      <th>days_exposition</th>\n",
       "    </tr>\n",
       "  </thead>\n",
       "  <tbody>\n",
       "    <tr>\n",
       "      <td>0</td>\n",
       "      <td>20</td>\n",
       "      <td>13000000.0</td>\n",
       "      <td>108.00</td>\n",
       "      <td>2019-03-07T00:00:00</td>\n",
       "      <td>3</td>\n",
       "      <td>2.70</td>\n",
       "      <td>16.0</td>\n",
       "      <td>51.00</td>\n",
       "      <td>8</td>\n",
       "      <td>NaN</td>\n",
       "      <td>...</td>\n",
       "      <td>25.00</td>\n",
       "      <td>NaN</td>\n",
       "      <td>Санкт-Петербург</td>\n",
       "      <td>18863.0</td>\n",
       "      <td>16028.0</td>\n",
       "      <td>1.0</td>\n",
       "      <td>482.0</td>\n",
       "      <td>2.0</td>\n",
       "      <td>755.0</td>\n",
       "      <td>NaN</td>\n",
       "    </tr>\n",
       "    <tr>\n",
       "      <td>1</td>\n",
       "      <td>7</td>\n",
       "      <td>3350000.0</td>\n",
       "      <td>40.40</td>\n",
       "      <td>2018-12-04T00:00:00</td>\n",
       "      <td>1</td>\n",
       "      <td>NaN</td>\n",
       "      <td>11.0</td>\n",
       "      <td>18.60</td>\n",
       "      <td>1</td>\n",
       "      <td>NaN</td>\n",
       "      <td>...</td>\n",
       "      <td>11.00</td>\n",
       "      <td>2.0</td>\n",
       "      <td>посёлок Шушары</td>\n",
       "      <td>12817.0</td>\n",
       "      <td>18603.0</td>\n",
       "      <td>0.0</td>\n",
       "      <td>NaN</td>\n",
       "      <td>0.0</td>\n",
       "      <td>NaN</td>\n",
       "      <td>81.0</td>\n",
       "    </tr>\n",
       "    <tr>\n",
       "      <td>2</td>\n",
       "      <td>10</td>\n",
       "      <td>5196000.0</td>\n",
       "      <td>56.00</td>\n",
       "      <td>2015-08-20T00:00:00</td>\n",
       "      <td>2</td>\n",
       "      <td>NaN</td>\n",
       "      <td>5.0</td>\n",
       "      <td>34.30</td>\n",
       "      <td>4</td>\n",
       "      <td>NaN</td>\n",
       "      <td>...</td>\n",
       "      <td>8.30</td>\n",
       "      <td>0.0</td>\n",
       "      <td>Санкт-Петербург</td>\n",
       "      <td>21741.0</td>\n",
       "      <td>13933.0</td>\n",
       "      <td>1.0</td>\n",
       "      <td>90.0</td>\n",
       "      <td>2.0</td>\n",
       "      <td>574.0</td>\n",
       "      <td>558.0</td>\n",
       "    </tr>\n",
       "    <tr>\n",
       "      <td>3</td>\n",
       "      <td>0</td>\n",
       "      <td>64900000.0</td>\n",
       "      <td>159.00</td>\n",
       "      <td>2015-07-24T00:00:00</td>\n",
       "      <td>3</td>\n",
       "      <td>NaN</td>\n",
       "      <td>14.0</td>\n",
       "      <td>NaN</td>\n",
       "      <td>9</td>\n",
       "      <td>NaN</td>\n",
       "      <td>...</td>\n",
       "      <td>NaN</td>\n",
       "      <td>0.0</td>\n",
       "      <td>Санкт-Петербург</td>\n",
       "      <td>28098.0</td>\n",
       "      <td>6800.0</td>\n",
       "      <td>2.0</td>\n",
       "      <td>84.0</td>\n",
       "      <td>3.0</td>\n",
       "      <td>234.0</td>\n",
       "      <td>424.0</td>\n",
       "    </tr>\n",
       "    <tr>\n",
       "      <td>4</td>\n",
       "      <td>2</td>\n",
       "      <td>10000000.0</td>\n",
       "      <td>100.00</td>\n",
       "      <td>2018-06-19T00:00:00</td>\n",
       "      <td>2</td>\n",
       "      <td>3.03</td>\n",
       "      <td>14.0</td>\n",
       "      <td>32.00</td>\n",
       "      <td>13</td>\n",
       "      <td>NaN</td>\n",
       "      <td>...</td>\n",
       "      <td>41.00</td>\n",
       "      <td>NaN</td>\n",
       "      <td>Санкт-Петербург</td>\n",
       "      <td>31856.0</td>\n",
       "      <td>8098.0</td>\n",
       "      <td>2.0</td>\n",
       "      <td>112.0</td>\n",
       "      <td>1.0</td>\n",
       "      <td>48.0</td>\n",
       "      <td>121.0</td>\n",
       "    </tr>\n",
       "    <tr>\n",
       "      <td>5</td>\n",
       "      <td>10</td>\n",
       "      <td>2890000.0</td>\n",
       "      <td>30.40</td>\n",
       "      <td>2018-09-10T00:00:00</td>\n",
       "      <td>1</td>\n",
       "      <td>NaN</td>\n",
       "      <td>12.0</td>\n",
       "      <td>14.40</td>\n",
       "      <td>5</td>\n",
       "      <td>NaN</td>\n",
       "      <td>...</td>\n",
       "      <td>9.10</td>\n",
       "      <td>NaN</td>\n",
       "      <td>городской посёлок Янино-1</td>\n",
       "      <td>NaN</td>\n",
       "      <td>NaN</td>\n",
       "      <td>NaN</td>\n",
       "      <td>NaN</td>\n",
       "      <td>NaN</td>\n",
       "      <td>NaN</td>\n",
       "      <td>55.0</td>\n",
       "    </tr>\n",
       "    <tr>\n",
       "      <td>6</td>\n",
       "      <td>6</td>\n",
       "      <td>3700000.0</td>\n",
       "      <td>37.30</td>\n",
       "      <td>2017-11-02T00:00:00</td>\n",
       "      <td>1</td>\n",
       "      <td>NaN</td>\n",
       "      <td>26.0</td>\n",
       "      <td>10.60</td>\n",
       "      <td>6</td>\n",
       "      <td>NaN</td>\n",
       "      <td>...</td>\n",
       "      <td>14.40</td>\n",
       "      <td>1.0</td>\n",
       "      <td>посёлок Парголово</td>\n",
       "      <td>52996.0</td>\n",
       "      <td>19143.0</td>\n",
       "      <td>0.0</td>\n",
       "      <td>NaN</td>\n",
       "      <td>0.0</td>\n",
       "      <td>NaN</td>\n",
       "      <td>155.0</td>\n",
       "    </tr>\n",
       "    <tr>\n",
       "      <td>7</td>\n",
       "      <td>5</td>\n",
       "      <td>7915000.0</td>\n",
       "      <td>71.60</td>\n",
       "      <td>2019-04-18T00:00:00</td>\n",
       "      <td>2</td>\n",
       "      <td>NaN</td>\n",
       "      <td>24.0</td>\n",
       "      <td>NaN</td>\n",
       "      <td>22</td>\n",
       "      <td>NaN</td>\n",
       "      <td>...</td>\n",
       "      <td>18.90</td>\n",
       "      <td>2.0</td>\n",
       "      <td>Санкт-Петербург</td>\n",
       "      <td>23982.0</td>\n",
       "      <td>11634.0</td>\n",
       "      <td>0.0</td>\n",
       "      <td>NaN</td>\n",
       "      <td>0.0</td>\n",
       "      <td>NaN</td>\n",
       "      <td>NaN</td>\n",
       "    </tr>\n",
       "    <tr>\n",
       "      <td>8</td>\n",
       "      <td>20</td>\n",
       "      <td>2900000.0</td>\n",
       "      <td>33.16</td>\n",
       "      <td>2018-05-23T00:00:00</td>\n",
       "      <td>1</td>\n",
       "      <td>NaN</td>\n",
       "      <td>27.0</td>\n",
       "      <td>15.43</td>\n",
       "      <td>26</td>\n",
       "      <td>NaN</td>\n",
       "      <td>...</td>\n",
       "      <td>8.81</td>\n",
       "      <td>NaN</td>\n",
       "      <td>посёлок Мурино</td>\n",
       "      <td>NaN</td>\n",
       "      <td>NaN</td>\n",
       "      <td>NaN</td>\n",
       "      <td>NaN</td>\n",
       "      <td>NaN</td>\n",
       "      <td>NaN</td>\n",
       "      <td>189.0</td>\n",
       "    </tr>\n",
       "    <tr>\n",
       "      <td>9</td>\n",
       "      <td>18</td>\n",
       "      <td>5400000.0</td>\n",
       "      <td>61.00</td>\n",
       "      <td>2017-02-26T00:00:00</td>\n",
       "      <td>3</td>\n",
       "      <td>2.50</td>\n",
       "      <td>9.0</td>\n",
       "      <td>43.60</td>\n",
       "      <td>7</td>\n",
       "      <td>NaN</td>\n",
       "      <td>...</td>\n",
       "      <td>6.50</td>\n",
       "      <td>2.0</td>\n",
       "      <td>Санкт-Петербург</td>\n",
       "      <td>50898.0</td>\n",
       "      <td>15008.0</td>\n",
       "      <td>0.0</td>\n",
       "      <td>NaN</td>\n",
       "      <td>0.0</td>\n",
       "      <td>NaN</td>\n",
       "      <td>289.0</td>\n",
       "    </tr>\n",
       "  </tbody>\n",
       "</table>\n",
       "<p>10 rows × 22 columns</p>\n",
       "</div>"
      ],
      "text/plain": [
       "   total_images  last_price  total_area first_day_exposition  rooms  \\\n",
       "0            20  13000000.0      108.00  2019-03-07T00:00:00      3   \n",
       "1             7   3350000.0       40.40  2018-12-04T00:00:00      1   \n",
       "2            10   5196000.0       56.00  2015-08-20T00:00:00      2   \n",
       "3             0  64900000.0      159.00  2015-07-24T00:00:00      3   \n",
       "4             2  10000000.0      100.00  2018-06-19T00:00:00      2   \n",
       "5            10   2890000.0       30.40  2018-09-10T00:00:00      1   \n",
       "6             6   3700000.0       37.30  2017-11-02T00:00:00      1   \n",
       "7             5   7915000.0       71.60  2019-04-18T00:00:00      2   \n",
       "8            20   2900000.0       33.16  2018-05-23T00:00:00      1   \n",
       "9            18   5400000.0       61.00  2017-02-26T00:00:00      3   \n",
       "\n",
       "   ceiling_height  floors_total  living_area  floor is_apartment  ...  \\\n",
       "0            2.70          16.0        51.00      8          NaN  ...   \n",
       "1             NaN          11.0        18.60      1          NaN  ...   \n",
       "2             NaN           5.0        34.30      4          NaN  ...   \n",
       "3             NaN          14.0          NaN      9          NaN  ...   \n",
       "4            3.03          14.0        32.00     13          NaN  ...   \n",
       "5             NaN          12.0        14.40      5          NaN  ...   \n",
       "6             NaN          26.0        10.60      6          NaN  ...   \n",
       "7             NaN          24.0          NaN     22          NaN  ...   \n",
       "8             NaN          27.0        15.43     26          NaN  ...   \n",
       "9            2.50           9.0        43.60      7          NaN  ...   \n",
       "\n",
       "   kitchen_area  balcony              locality_name  airports_nearest  \\\n",
       "0         25.00      NaN            Санкт-Петербург           18863.0   \n",
       "1         11.00      2.0             посёлок Шушары           12817.0   \n",
       "2          8.30      0.0            Санкт-Петербург           21741.0   \n",
       "3           NaN      0.0            Санкт-Петербург           28098.0   \n",
       "4         41.00      NaN            Санкт-Петербург           31856.0   \n",
       "5          9.10      NaN  городской посёлок Янино-1               NaN   \n",
       "6         14.40      1.0          посёлок Парголово           52996.0   \n",
       "7         18.90      2.0            Санкт-Петербург           23982.0   \n",
       "8          8.81      NaN             посёлок Мурино               NaN   \n",
       "9          6.50      2.0            Санкт-Петербург           50898.0   \n",
       "\n",
       "  cityCenters_nearest  parks_around3000  parks_nearest  ponds_around3000  \\\n",
       "0             16028.0               1.0          482.0               2.0   \n",
       "1             18603.0               0.0            NaN               0.0   \n",
       "2             13933.0               1.0           90.0               2.0   \n",
       "3              6800.0               2.0           84.0               3.0   \n",
       "4              8098.0               2.0          112.0               1.0   \n",
       "5                 NaN               NaN            NaN               NaN   \n",
       "6             19143.0               0.0            NaN               0.0   \n",
       "7             11634.0               0.0            NaN               0.0   \n",
       "8                 NaN               NaN            NaN               NaN   \n",
       "9             15008.0               0.0            NaN               0.0   \n",
       "\n",
       "   ponds_nearest  days_exposition  \n",
       "0          755.0              NaN  \n",
       "1            NaN             81.0  \n",
       "2          574.0            558.0  \n",
       "3          234.0            424.0  \n",
       "4           48.0            121.0  \n",
       "5            NaN             55.0  \n",
       "6            NaN            155.0  \n",
       "7            NaN              NaN  \n",
       "8            NaN            189.0  \n",
       "9            NaN            289.0  \n",
       "\n",
       "[10 rows x 22 columns]"
      ]
     },
     "metadata": {},
     "output_type": "display_data"
    }
   ],
   "source": [
    "import pandas as pd\n",
    "import matplotlib.pyplot as plt\n",
    "\n",
    "data = pd.read_csv('/datasets/real_estate_data.csv', sep='\\t')\n",
    "display(data.head(10))"
   ]
  },
  {
   "cell_type": "code",
   "execution_count": 131,
   "metadata": {
    "scrolled": true
   },
   "outputs": [
    {
     "name": "stdout",
     "output_type": "stream",
     "text": [
      "<class 'pandas.core.frame.DataFrame'>\n",
      "RangeIndex: 23699 entries, 0 to 23698\n",
      "Data columns (total 22 columns):\n",
      "total_images            23699 non-null int64\n",
      "last_price              23699 non-null float64\n",
      "total_area              23699 non-null float64\n",
      "first_day_exposition    23699 non-null object\n",
      "rooms                   23699 non-null int64\n",
      "ceiling_height          14504 non-null float64\n",
      "floors_total            23613 non-null float64\n",
      "living_area             21796 non-null float64\n",
      "floor                   23699 non-null int64\n",
      "is_apartment            2775 non-null object\n",
      "studio                  23699 non-null bool\n",
      "open_plan               23699 non-null bool\n",
      "kitchen_area            21421 non-null float64\n",
      "balcony                 12180 non-null float64\n",
      "locality_name           23650 non-null object\n",
      "airports_nearest        18157 non-null float64\n",
      "cityCenters_nearest     18180 non-null float64\n",
      "parks_around3000        18181 non-null float64\n",
      "parks_nearest           8079 non-null float64\n",
      "ponds_around3000        18181 non-null float64\n",
      "ponds_nearest           9110 non-null float64\n",
      "days_exposition         20518 non-null float64\n",
      "dtypes: bool(2), float64(14), int64(3), object(3)\n",
      "memory usage: 3.7+ MB\n"
     ]
    }
   ],
   "source": [
    "data.info()"
   ]
  },
  {
   "cell_type": "markdown",
   "metadata": {},
   "source": [
    "### Вывод"
   ]
  },
  {
   "cell_type": "markdown",
   "metadata": {},
   "source": [
    "Файл содержит 22 столбца и 23699 сторк.\n",
    "\n",
    "В 14 столбцах указаны дробные числа, в 3 - целые, строки - в 3, булев тип данных - в 2. 14 столбцов содержат пропуски.\n",
    "\n",
    "\n",
    "Количество этажей, расстояние до ближайшего аэропорта, расстояние до центра города, число парков, расстояние до ближайшего парка, число водоёмов, расстояние до ближайшего водоёма, количество дней размещения объявления, цену на момент снятия с публикации необходимо привести к целочисленному формату.\n",
    "\n",
    "\n",
    "Также необходимо преобразовать графу \"дата публикации\" и обработать пропуски и дубликаты."
   ]
  },
  {
   "cell_type": "markdown",
   "metadata": {},
   "source": []
  },
  {
   "cell_type": "markdown",
   "metadata": {},
   "source": [
    "## Предобработка данных"
   ]
  },
  {
   "cell_type": "markdown",
   "metadata": {},
   "source": [
    "Заролним пропуски в графе \"Высота потолков\" средним значением."
   ]
  },
  {
   "cell_type": "code",
   "execution_count": 132,
   "metadata": {
    "scrolled": true
   },
   "outputs": [
    {
     "name": "stdout",
     "output_type": "stream",
     "text": [
      "<class 'pandas.core.frame.DataFrame'>\n",
      "RangeIndex: 23699 entries, 0 to 23698\n",
      "Data columns (total 22 columns):\n",
      "total_images            23699 non-null int64\n",
      "last_price              23699 non-null float64\n",
      "total_area              23699 non-null float64\n",
      "first_day_exposition    23699 non-null object\n",
      "rooms                   23699 non-null int64\n",
      "ceiling_height          23699 non-null float64\n",
      "floors_total            23613 non-null float64\n",
      "living_area             21796 non-null float64\n",
      "floor                   23699 non-null int64\n",
      "is_apartment            2775 non-null object\n",
      "studio                  23699 non-null bool\n",
      "open_plan               23699 non-null bool\n",
      "kitchen_area            21421 non-null float64\n",
      "balcony                 12180 non-null float64\n",
      "locality_name           23650 non-null object\n",
      "airports_nearest        18157 non-null float64\n",
      "cityCenters_nearest     18180 non-null float64\n",
      "parks_around3000        18181 non-null float64\n",
      "parks_nearest           8079 non-null float64\n",
      "ponds_around3000        18181 non-null float64\n",
      "ponds_nearest           9110 non-null float64\n",
      "days_exposition         20518 non-null float64\n",
      "dtypes: bool(2), float64(14), int64(3), object(3)\n",
      "memory usage: 3.7+ MB\n"
     ]
    }
   ],
   "source": [
    "data['ceiling_height'] = data['ceiling_height'].fillna(data['ceiling_height'].median())\n",
    "data.info()"
   ]
  },
  {
   "cell_type": "markdown",
   "metadata": {},
   "source": [
    "Пропуски в графе \"Жилая площадь\" заменим на среднее значение в аналогичных квартирах. Аналогичными будем считать квартиры с таким же количеством комнат. Для этого используем фунции apply и lambda"
   ]
  },
  {
   "cell_type": "code",
   "execution_count": 133,
   "metadata": {
    "scrolled": true
   },
   "outputs": [
    {
     "name": "stdout",
     "output_type": "stream",
     "text": [
      "<class 'pandas.core.frame.DataFrame'>\n",
      "RangeIndex: 23699 entries, 0 to 23698\n",
      "Data columns (total 22 columns):\n",
      "total_images            23699 non-null int64\n",
      "last_price              23699 non-null float64\n",
      "total_area              23699 non-null float64\n",
      "first_day_exposition    23699 non-null object\n",
      "rooms                   23699 non-null int64\n",
      "ceiling_height          23699 non-null float64\n",
      "floors_total            23613 non-null float64\n",
      "living_area             23699 non-null float64\n",
      "floor                   23699 non-null int64\n",
      "is_apartment            2775 non-null object\n",
      "studio                  23699 non-null bool\n",
      "open_plan               23699 non-null bool\n",
      "kitchen_area            21421 non-null float64\n",
      "balcony                 12180 non-null float64\n",
      "locality_name           23650 non-null object\n",
      "airports_nearest        18157 non-null float64\n",
      "cityCenters_nearest     18180 non-null float64\n",
      "parks_around3000        18181 non-null float64\n",
      "parks_nearest           8079 non-null float64\n",
      "ponds_around3000        18181 non-null float64\n",
      "ponds_nearest           9110 non-null float64\n",
      "days_exposition         20518 non-null float64\n",
      "dtypes: bool(2), float64(14), int64(3), object(3)\n",
      "memory usage: 3.7+ MB\n"
     ]
    }
   ],
   "source": [
    "data['living_area'] = data.groupby('rooms')['living_area'].apply(lambda s: s.fillna(s.mean()))\n",
    "data.info()"
   ]
  },
  {
   "cell_type": "markdown",
   "metadata": {},
   "source": [
    "С помощью аналогичных методов обработаем названия населенных пунктов, оставив только их наименования, удалив слова \"поселок\", \"город\" и т.д."
   ]
  },
  {
   "cell_type": "code",
   "execution_count": 134,
   "metadata": {
    "scrolled": false
   },
   "outputs": [
    {
     "data": {
      "text/plain": [
       "Санкт-Петербург               15721\n",
       "посёлок Мурино                  522\n",
       "посёлок Шушары                  440\n",
       "Всеволожск                      398\n",
       "Пушкин                          369\n",
       "                              ...  \n",
       "деревня Чудской Бор               1\n",
       "посёлок Шугозеро                  1\n",
       "посёлок Ропша                     1\n",
       "посёлок Форт Красная Горка        1\n",
       "деревня Курковицы                 1\n",
       "Name: locality_name, Length: 364, dtype: int64"
      ]
     },
     "execution_count": 134,
     "metadata": {},
     "output_type": "execute_result"
    }
   ],
   "source": [
    "data['locality_name'].value_counts()"
   ]
  },
  {
   "cell_type": "markdown",
   "metadata": {},
   "source": [
    "Поскольку слова \"поселок\", \"город\" и т.д. указаны прописными символами, используем функцию islower"
   ]
  },
  {
   "cell_type": "code",
   "execution_count": 135,
   "metadata": {},
   "outputs": [
    {
     "data": {
      "text/plain": [
       "Санкт-Петербург    15721\n",
       "Мурино               590\n",
       "Кудрово              472\n",
       "Шушары               440\n",
       "Всеволожск           398\n",
       "                   ...  \n",
       "Кивеннапа Север        1\n",
       "Мануйлово              1\n",
       "Кирпичное              1\n",
       "Трубников Бор          1\n",
       "Русско                 1\n",
       "Name: locality_name, Length: 306, dtype: int64"
      ]
     },
     "execution_count": 135,
     "metadata": {},
     "output_type": "execute_result"
    }
   ],
   "source": [
    "data['locality_name'] = data.locality_name.fillna('').apply(\n",
    "    lambda title: ' '.join(word for word in title.split(' ') if not word.islower())\n",
    ")\n",
    "data['locality_name'].value_counts()"
   ]
  },
  {
   "cell_type": "code",
   "execution_count": 136,
   "metadata": {
    "scrolled": true
   },
   "outputs": [
    {
     "data": {
      "text/plain": [
       "False    2725\n",
       "True       50\n",
       "Name: is_apartment, dtype: int64"
      ]
     },
     "execution_count": 136,
     "metadata": {},
     "output_type": "execute_result"
    }
   ],
   "source": [
    "data['is_apartment'].value_counts()"
   ]
  },
  {
   "cell_type": "markdown",
   "metadata": {},
   "source": [
    "Эти данные говорят о том, что колона \"аппартаменты\" заполнялась редко, заполнить пропуски теми или иными данными не представляется возможным."
   ]
  },
  {
   "cell_type": "markdown",
   "metadata": {},
   "source": [
    "Пропуски по количеству балконов заполним нулями, поскольку если человек не указал число балконов — скорее всего, их нет."
   ]
  },
  {
   "cell_type": "markdown",
   "metadata": {},
   "source": [
    "Заполним пропуски в графе \"Площадь кухни\" на 0"
   ]
  },
  {
   "cell_type": "code",
   "execution_count": 137,
   "metadata": {},
   "outputs": [],
   "source": [
    "data['kitchen_area'] = data['kitchen_area'].fillna(0).astype('int64')\n"
   ]
  },
  {
   "cell_type": "code",
   "execution_count": 138,
   "metadata": {},
   "outputs": [
    {
     "data": {
      "text/plain": [
       "0    15277\n",
       "1     4195\n",
       "2     3659\n",
       "5      304\n",
       "4      183\n",
       "3       81\n",
       "Name: balcony, dtype: int64"
      ]
     },
     "execution_count": 138,
     "metadata": {},
     "output_type": "execute_result"
    }
   ],
   "source": [
    "data['balcony'] = data['balcony'].fillna(0).astype('int64')\n",
    "data['balcony'].value_counts()"
   ]
  },
  {
   "cell_type": "markdown",
   "metadata": {},
   "source": [
    "Методом pd.to_datetime() переведем значения столбца first_day_exposition в таблице data в объекты datetime"
   ]
  },
  {
   "cell_type": "code",
   "execution_count": 139,
   "metadata": {
    "scrolled": true
   },
   "outputs": [
    {
     "data": {
      "text/html": [
       "<div>\n",
       "<style scoped>\n",
       "    .dataframe tbody tr th:only-of-type {\n",
       "        vertical-align: middle;\n",
       "    }\n",
       "\n",
       "    .dataframe tbody tr th {\n",
       "        vertical-align: top;\n",
       "    }\n",
       "\n",
       "    .dataframe thead th {\n",
       "        text-align: right;\n",
       "    }\n",
       "</style>\n",
       "<table border=\"1\" class=\"dataframe\">\n",
       "  <thead>\n",
       "    <tr style=\"text-align: right;\">\n",
       "      <th></th>\n",
       "      <th>total_images</th>\n",
       "      <th>last_price</th>\n",
       "      <th>total_area</th>\n",
       "      <th>first_day_exposition</th>\n",
       "      <th>rooms</th>\n",
       "      <th>ceiling_height</th>\n",
       "      <th>floors_total</th>\n",
       "      <th>living_area</th>\n",
       "      <th>floor</th>\n",
       "      <th>is_apartment</th>\n",
       "      <th>...</th>\n",
       "      <th>kitchen_area</th>\n",
       "      <th>balcony</th>\n",
       "      <th>locality_name</th>\n",
       "      <th>airports_nearest</th>\n",
       "      <th>cityCenters_nearest</th>\n",
       "      <th>parks_around3000</th>\n",
       "      <th>parks_nearest</th>\n",
       "      <th>ponds_around3000</th>\n",
       "      <th>ponds_nearest</th>\n",
       "      <th>days_exposition</th>\n",
       "    </tr>\n",
       "  </thead>\n",
       "  <tbody>\n",
       "    <tr>\n",
       "      <td>0</td>\n",
       "      <td>20</td>\n",
       "      <td>13000000.0</td>\n",
       "      <td>108.0</td>\n",
       "      <td>2019-03-07</td>\n",
       "      <td>3</td>\n",
       "      <td>2.70</td>\n",
       "      <td>16.0</td>\n",
       "      <td>51.000000</td>\n",
       "      <td>8</td>\n",
       "      <td>NaN</td>\n",
       "      <td>...</td>\n",
       "      <td>25</td>\n",
       "      <td>0</td>\n",
       "      <td>Санкт-Петербург</td>\n",
       "      <td>18863.0</td>\n",
       "      <td>16028.0</td>\n",
       "      <td>1.0</td>\n",
       "      <td>482.0</td>\n",
       "      <td>2.0</td>\n",
       "      <td>755.0</td>\n",
       "      <td>NaN</td>\n",
       "    </tr>\n",
       "    <tr>\n",
       "      <td>1</td>\n",
       "      <td>7</td>\n",
       "      <td>3350000.0</td>\n",
       "      <td>40.4</td>\n",
       "      <td>2018-12-04</td>\n",
       "      <td>1</td>\n",
       "      <td>2.65</td>\n",
       "      <td>11.0</td>\n",
       "      <td>18.600000</td>\n",
       "      <td>1</td>\n",
       "      <td>NaN</td>\n",
       "      <td>...</td>\n",
       "      <td>11</td>\n",
       "      <td>2</td>\n",
       "      <td>Шушары</td>\n",
       "      <td>12817.0</td>\n",
       "      <td>18603.0</td>\n",
       "      <td>0.0</td>\n",
       "      <td>NaN</td>\n",
       "      <td>0.0</td>\n",
       "      <td>NaN</td>\n",
       "      <td>81.0</td>\n",
       "    </tr>\n",
       "    <tr>\n",
       "      <td>2</td>\n",
       "      <td>10</td>\n",
       "      <td>5196000.0</td>\n",
       "      <td>56.0</td>\n",
       "      <td>2015-08-20</td>\n",
       "      <td>2</td>\n",
       "      <td>2.65</td>\n",
       "      <td>5.0</td>\n",
       "      <td>34.300000</td>\n",
       "      <td>4</td>\n",
       "      <td>NaN</td>\n",
       "      <td>...</td>\n",
       "      <td>8</td>\n",
       "      <td>0</td>\n",
       "      <td>Санкт-Петербург</td>\n",
       "      <td>21741.0</td>\n",
       "      <td>13933.0</td>\n",
       "      <td>1.0</td>\n",
       "      <td>90.0</td>\n",
       "      <td>2.0</td>\n",
       "      <td>574.0</td>\n",
       "      <td>558.0</td>\n",
       "    </tr>\n",
       "    <tr>\n",
       "      <td>3</td>\n",
       "      <td>0</td>\n",
       "      <td>64900000.0</td>\n",
       "      <td>159.0</td>\n",
       "      <td>2015-07-24</td>\n",
       "      <td>3</td>\n",
       "      <td>2.65</td>\n",
       "      <td>14.0</td>\n",
       "      <td>47.387941</td>\n",
       "      <td>9</td>\n",
       "      <td>NaN</td>\n",
       "      <td>...</td>\n",
       "      <td>0</td>\n",
       "      <td>0</td>\n",
       "      <td>Санкт-Петербург</td>\n",
       "      <td>28098.0</td>\n",
       "      <td>6800.0</td>\n",
       "      <td>2.0</td>\n",
       "      <td>84.0</td>\n",
       "      <td>3.0</td>\n",
       "      <td>234.0</td>\n",
       "      <td>424.0</td>\n",
       "    </tr>\n",
       "    <tr>\n",
       "      <td>4</td>\n",
       "      <td>2</td>\n",
       "      <td>10000000.0</td>\n",
       "      <td>100.0</td>\n",
       "      <td>2018-06-19</td>\n",
       "      <td>2</td>\n",
       "      <td>3.03</td>\n",
       "      <td>14.0</td>\n",
       "      <td>32.000000</td>\n",
       "      <td>13</td>\n",
       "      <td>NaN</td>\n",
       "      <td>...</td>\n",
       "      <td>41</td>\n",
       "      <td>0</td>\n",
       "      <td>Санкт-Петербург</td>\n",
       "      <td>31856.0</td>\n",
       "      <td>8098.0</td>\n",
       "      <td>2.0</td>\n",
       "      <td>112.0</td>\n",
       "      <td>1.0</td>\n",
       "      <td>48.0</td>\n",
       "      <td>121.0</td>\n",
       "    </tr>\n",
       "  </tbody>\n",
       "</table>\n",
       "<p>5 rows × 22 columns</p>\n",
       "</div>"
      ],
      "text/plain": [
       "   total_images  last_price  total_area first_day_exposition  rooms  \\\n",
       "0            20  13000000.0       108.0           2019-03-07      3   \n",
       "1             7   3350000.0        40.4           2018-12-04      1   \n",
       "2            10   5196000.0        56.0           2015-08-20      2   \n",
       "3             0  64900000.0       159.0           2015-07-24      3   \n",
       "4             2  10000000.0       100.0           2018-06-19      2   \n",
       "\n",
       "   ceiling_height  floors_total  living_area  floor is_apartment  ...  \\\n",
       "0            2.70          16.0    51.000000      8          NaN  ...   \n",
       "1            2.65          11.0    18.600000      1          NaN  ...   \n",
       "2            2.65           5.0    34.300000      4          NaN  ...   \n",
       "3            2.65          14.0    47.387941      9          NaN  ...   \n",
       "4            3.03          14.0    32.000000     13          NaN  ...   \n",
       "\n",
       "   kitchen_area  balcony    locality_name  airports_nearest  \\\n",
       "0            25        0  Санкт-Петербург           18863.0   \n",
       "1            11        2           Шушары           12817.0   \n",
       "2             8        0  Санкт-Петербург           21741.0   \n",
       "3             0        0  Санкт-Петербург           28098.0   \n",
       "4            41        0  Санкт-Петербург           31856.0   \n",
       "\n",
       "  cityCenters_nearest  parks_around3000  parks_nearest  ponds_around3000  \\\n",
       "0             16028.0               1.0          482.0               2.0   \n",
       "1             18603.0               0.0            NaN               0.0   \n",
       "2             13933.0               1.0           90.0               2.0   \n",
       "3              6800.0               2.0           84.0               3.0   \n",
       "4              8098.0               2.0          112.0               1.0   \n",
       "\n",
       "   ponds_nearest  days_exposition  \n",
       "0          755.0              NaN  \n",
       "1            NaN             81.0  \n",
       "2          574.0            558.0  \n",
       "3          234.0            424.0  \n",
       "4           48.0            121.0  \n",
       "\n",
       "[5 rows x 22 columns]"
      ]
     },
     "execution_count": 139,
     "metadata": {},
     "output_type": "execute_result"
    }
   ],
   "source": [
    "data['first_day_exposition'] = pd.to_datetime(data['first_day_exposition'], format='%Y-%m-%dT%H:%M:%S').dt.round('1D')\n",
    "data.head()"
   ]
  },
  {
   "cell_type": "code",
   "execution_count": 140,
   "metadata": {},
   "outputs": [],
   "source": [
    "data['month'] = data['first_day_exposition'].dt.month \n",
    "data['year'] = data['first_day_exposition'].dt.year \n",
    "data['weekday'] = data['first_day_exposition'].dt.weekday"
   ]
  },
  {
   "cell_type": "code",
   "execution_count": 141,
   "metadata": {
    "scrolled": true
   },
   "outputs": [],
   "source": [
    "data['floors_total'] = data['floors_total'].fillna(0).astype('int64')"
   ]
  },
  {
   "cell_type": "markdown",
   "metadata": {},
   "source": [
    "Сменим дробные значения на целочисленныетам, где это возможно."
   ]
  },
  {
   "cell_type": "code",
   "execution_count": 142,
   "metadata": {},
   "outputs": [
    {
     "name": "stdout",
     "output_type": "stream",
     "text": [
      "<class 'pandas.core.frame.DataFrame'>\n",
      "RangeIndex: 23699 entries, 0 to 23698\n",
      "Data columns (total 25 columns):\n",
      "total_images            23699 non-null int64\n",
      "last_price              23699 non-null int64\n",
      "total_area              23699 non-null int64\n",
      "first_day_exposition    23699 non-null datetime64[ns]\n",
      "rooms                   23699 non-null int64\n",
      "ceiling_height          23699 non-null float64\n",
      "floors_total            23699 non-null int64\n",
      "living_area             23699 non-null int64\n",
      "floor                   23699 non-null int64\n",
      "is_apartment            2775 non-null object\n",
      "studio                  23699 non-null bool\n",
      "open_plan               23699 non-null bool\n",
      "kitchen_area            23699 non-null int64\n",
      "balcony                 23699 non-null int64\n",
      "locality_name           23699 non-null object\n",
      "airports_nearest        18157 non-null float64\n",
      "cityCenters_nearest     18180 non-null float64\n",
      "parks_around3000        18181 non-null float64\n",
      "parks_nearest           8079 non-null float64\n",
      "ponds_around3000        18181 non-null float64\n",
      "ponds_nearest           9110 non-null float64\n",
      "days_exposition         20518 non-null float64\n",
      "month                   23699 non-null int64\n",
      "year                    23699 non-null int64\n",
      "weekday                 23699 non-null int64\n",
      "dtypes: bool(2), datetime64[ns](1), float64(8), int64(12), object(2)\n",
      "memory usage: 4.2+ MB\n"
     ]
    }
   ],
   "source": [
    "data['last_price'] = data['last_price'].astype('int64', errors='ignore')\n",
    "data['total_area'] = data['total_area'].astype('int64', errors='ignore')\n",
    "#data['floors_total'] = data['floors_total'].astype('int64', errors='ignore')\n",
    "data['living_area'] = data['living_area'].astype('int64', errors='ignore')\n",
    "#data['balcony'] = data['balcony'].astype('int64', errors='ignore')\n",
    "data['days_exposition'] = data['days_exposition'].astype('int64', errors='ignore')\n",
    "data['airports_nearest'] = data['airports_nearest'].astype('int64', errors='ignore')\n",
    "data['cityCenters_nearest'] = data['cityCenters_nearest'].astype('int64', errors='ignore')\n",
    "data['parks_around3000'] = data['parks_around3000'].astype('int64', errors='ignore')\n",
    "data['parks_nearest'] = data['parks_nearest'].astype('int64', errors='ignore')\n",
    "data['ponds_around3000'] = data['ponds_around3000'].astype('int64', errors='ignore')\n",
    "data['ponds_nearest'] = data['ponds_nearest'].astype('int64', errors='ignore')\n",
    "\n",
    "data.info()"
   ]
  },
  {
   "cell_type": "markdown",
   "metadata": {},
   "source": [
    "```python\n",
    "\n",
    "columns = [col1, col2, col3]\n",
    "\n",
    "for i in columns:\n",
    "    df[i] = df[i].fillna(0)\n",
    "\n",
    "```"
   ]
  },
  {
   "cell_type": "markdown",
   "metadata": {},
   "source": [
    "Проверяем результат:"
   ]
  },
  {
   "cell_type": "code",
   "execution_count": 143,
   "metadata": {
    "scrolled": true
   },
   "outputs": [
    {
     "data": {
      "text/html": [
       "<div>\n",
       "<style scoped>\n",
       "    .dataframe tbody tr th:only-of-type {\n",
       "        vertical-align: middle;\n",
       "    }\n",
       "\n",
       "    .dataframe tbody tr th {\n",
       "        vertical-align: top;\n",
       "    }\n",
       "\n",
       "    .dataframe thead th {\n",
       "        text-align: right;\n",
       "    }\n",
       "</style>\n",
       "<table border=\"1\" class=\"dataframe\">\n",
       "  <thead>\n",
       "    <tr style=\"text-align: right;\">\n",
       "      <th></th>\n",
       "      <th>total_images</th>\n",
       "      <th>last_price</th>\n",
       "      <th>total_area</th>\n",
       "      <th>first_day_exposition</th>\n",
       "      <th>rooms</th>\n",
       "      <th>ceiling_height</th>\n",
       "      <th>floors_total</th>\n",
       "      <th>living_area</th>\n",
       "      <th>floor</th>\n",
       "      <th>is_apartment</th>\n",
       "      <th>...</th>\n",
       "      <th>airports_nearest</th>\n",
       "      <th>cityCenters_nearest</th>\n",
       "      <th>parks_around3000</th>\n",
       "      <th>parks_nearest</th>\n",
       "      <th>ponds_around3000</th>\n",
       "      <th>ponds_nearest</th>\n",
       "      <th>days_exposition</th>\n",
       "      <th>month</th>\n",
       "      <th>year</th>\n",
       "      <th>weekday</th>\n",
       "    </tr>\n",
       "  </thead>\n",
       "  <tbody>\n",
       "    <tr>\n",
       "      <td>0</td>\n",
       "      <td>20</td>\n",
       "      <td>13000000</td>\n",
       "      <td>108</td>\n",
       "      <td>2019-03-07</td>\n",
       "      <td>3</td>\n",
       "      <td>2.70</td>\n",
       "      <td>16</td>\n",
       "      <td>51</td>\n",
       "      <td>8</td>\n",
       "      <td>NaN</td>\n",
       "      <td>...</td>\n",
       "      <td>18863.0</td>\n",
       "      <td>16028.0</td>\n",
       "      <td>1.0</td>\n",
       "      <td>482.0</td>\n",
       "      <td>2.0</td>\n",
       "      <td>755.0</td>\n",
       "      <td>NaN</td>\n",
       "      <td>3</td>\n",
       "      <td>2019</td>\n",
       "      <td>3</td>\n",
       "    </tr>\n",
       "    <tr>\n",
       "      <td>1</td>\n",
       "      <td>7</td>\n",
       "      <td>3350000</td>\n",
       "      <td>40</td>\n",
       "      <td>2018-12-04</td>\n",
       "      <td>1</td>\n",
       "      <td>2.65</td>\n",
       "      <td>11</td>\n",
       "      <td>18</td>\n",
       "      <td>1</td>\n",
       "      <td>NaN</td>\n",
       "      <td>...</td>\n",
       "      <td>12817.0</td>\n",
       "      <td>18603.0</td>\n",
       "      <td>0.0</td>\n",
       "      <td>NaN</td>\n",
       "      <td>0.0</td>\n",
       "      <td>NaN</td>\n",
       "      <td>81.0</td>\n",
       "      <td>12</td>\n",
       "      <td>2018</td>\n",
       "      <td>1</td>\n",
       "    </tr>\n",
       "    <tr>\n",
       "      <td>2</td>\n",
       "      <td>10</td>\n",
       "      <td>5196000</td>\n",
       "      <td>56</td>\n",
       "      <td>2015-08-20</td>\n",
       "      <td>2</td>\n",
       "      <td>2.65</td>\n",
       "      <td>5</td>\n",
       "      <td>34</td>\n",
       "      <td>4</td>\n",
       "      <td>NaN</td>\n",
       "      <td>...</td>\n",
       "      <td>21741.0</td>\n",
       "      <td>13933.0</td>\n",
       "      <td>1.0</td>\n",
       "      <td>90.0</td>\n",
       "      <td>2.0</td>\n",
       "      <td>574.0</td>\n",
       "      <td>558.0</td>\n",
       "      <td>8</td>\n",
       "      <td>2015</td>\n",
       "      <td>3</td>\n",
       "    </tr>\n",
       "    <tr>\n",
       "      <td>3</td>\n",
       "      <td>0</td>\n",
       "      <td>64900000</td>\n",
       "      <td>159</td>\n",
       "      <td>2015-07-24</td>\n",
       "      <td>3</td>\n",
       "      <td>2.65</td>\n",
       "      <td>14</td>\n",
       "      <td>47</td>\n",
       "      <td>9</td>\n",
       "      <td>NaN</td>\n",
       "      <td>...</td>\n",
       "      <td>28098.0</td>\n",
       "      <td>6800.0</td>\n",
       "      <td>2.0</td>\n",
       "      <td>84.0</td>\n",
       "      <td>3.0</td>\n",
       "      <td>234.0</td>\n",
       "      <td>424.0</td>\n",
       "      <td>7</td>\n",
       "      <td>2015</td>\n",
       "      <td>4</td>\n",
       "    </tr>\n",
       "    <tr>\n",
       "      <td>4</td>\n",
       "      <td>2</td>\n",
       "      <td>10000000</td>\n",
       "      <td>100</td>\n",
       "      <td>2018-06-19</td>\n",
       "      <td>2</td>\n",
       "      <td>3.03</td>\n",
       "      <td>14</td>\n",
       "      <td>32</td>\n",
       "      <td>13</td>\n",
       "      <td>NaN</td>\n",
       "      <td>...</td>\n",
       "      <td>31856.0</td>\n",
       "      <td>8098.0</td>\n",
       "      <td>2.0</td>\n",
       "      <td>112.0</td>\n",
       "      <td>1.0</td>\n",
       "      <td>48.0</td>\n",
       "      <td>121.0</td>\n",
       "      <td>6</td>\n",
       "      <td>2018</td>\n",
       "      <td>1</td>\n",
       "    </tr>\n",
       "  </tbody>\n",
       "</table>\n",
       "<p>5 rows × 25 columns</p>\n",
       "</div>"
      ],
      "text/plain": [
       "   total_images  last_price  total_area first_day_exposition  rooms  \\\n",
       "0            20    13000000         108           2019-03-07      3   \n",
       "1             7     3350000          40           2018-12-04      1   \n",
       "2            10     5196000          56           2015-08-20      2   \n",
       "3             0    64900000         159           2015-07-24      3   \n",
       "4             2    10000000         100           2018-06-19      2   \n",
       "\n",
       "   ceiling_height  floors_total  living_area  floor is_apartment  ...  \\\n",
       "0            2.70            16           51      8          NaN  ...   \n",
       "1            2.65            11           18      1          NaN  ...   \n",
       "2            2.65             5           34      4          NaN  ...   \n",
       "3            2.65            14           47      9          NaN  ...   \n",
       "4            3.03            14           32     13          NaN  ...   \n",
       "\n",
       "   airports_nearest  cityCenters_nearest  parks_around3000  parks_nearest  \\\n",
       "0           18863.0              16028.0               1.0          482.0   \n",
       "1           12817.0              18603.0               0.0            NaN   \n",
       "2           21741.0              13933.0               1.0           90.0   \n",
       "3           28098.0               6800.0               2.0           84.0   \n",
       "4           31856.0               8098.0               2.0          112.0   \n",
       "\n",
       "  ponds_around3000  ponds_nearest  days_exposition  month  year  weekday  \n",
       "0              2.0          755.0              NaN      3  2019        3  \n",
       "1              0.0            NaN             81.0     12  2018        1  \n",
       "2              2.0          574.0            558.0      8  2015        3  \n",
       "3              3.0          234.0            424.0      7  2015        4  \n",
       "4              1.0           48.0            121.0      6  2018        1  \n",
       "\n",
       "[5 rows x 25 columns]"
      ]
     },
     "execution_count": 143,
     "metadata": {},
     "output_type": "execute_result"
    }
   ],
   "source": [
    "data.head()"
   ]
  },
  {
   "cell_type": "markdown",
   "metadata": {},
   "source": [
    "## Расчёты и добавление результатов в таблицу"
   ]
  },
  {
   "cell_type": "markdown",
   "metadata": {},
   "source": [
    "Посчитаем и добавим в таблицу:\n",
    "- цену квадратного метра"
   ]
  },
  {
   "cell_type": "code",
   "execution_count": 144,
   "metadata": {
    "scrolled": false
   },
   "outputs": [
    {
     "data": {
      "text/html": [
       "<div>\n",
       "<style scoped>\n",
       "    .dataframe tbody tr th:only-of-type {\n",
       "        vertical-align: middle;\n",
       "    }\n",
       "\n",
       "    .dataframe tbody tr th {\n",
       "        vertical-align: top;\n",
       "    }\n",
       "\n",
       "    .dataframe thead th {\n",
       "        text-align: right;\n",
       "    }\n",
       "</style>\n",
       "<table border=\"1\" class=\"dataframe\">\n",
       "  <thead>\n",
       "    <tr style=\"text-align: right;\">\n",
       "      <th></th>\n",
       "      <th>total_images</th>\n",
       "      <th>last_price</th>\n",
       "      <th>total_area</th>\n",
       "      <th>first_day_exposition</th>\n",
       "      <th>rooms</th>\n",
       "      <th>ceiling_height</th>\n",
       "      <th>floors_total</th>\n",
       "      <th>living_area</th>\n",
       "      <th>floor</th>\n",
       "      <th>is_apartment</th>\n",
       "      <th>...</th>\n",
       "      <th>cityCenters_nearest</th>\n",
       "      <th>parks_around3000</th>\n",
       "      <th>parks_nearest</th>\n",
       "      <th>ponds_around3000</th>\n",
       "      <th>ponds_nearest</th>\n",
       "      <th>days_exposition</th>\n",
       "      <th>month</th>\n",
       "      <th>year</th>\n",
       "      <th>weekday</th>\n",
       "      <th>price_meter</th>\n",
       "    </tr>\n",
       "  </thead>\n",
       "  <tbody>\n",
       "    <tr>\n",
       "      <td>0</td>\n",
       "      <td>20</td>\n",
       "      <td>13000000</td>\n",
       "      <td>108</td>\n",
       "      <td>2019-03-07</td>\n",
       "      <td>3</td>\n",
       "      <td>2.70</td>\n",
       "      <td>16</td>\n",
       "      <td>51</td>\n",
       "      <td>8</td>\n",
       "      <td>NaN</td>\n",
       "      <td>...</td>\n",
       "      <td>16028.0</td>\n",
       "      <td>1.0</td>\n",
       "      <td>482.0</td>\n",
       "      <td>2.0</td>\n",
       "      <td>755.0</td>\n",
       "      <td>NaN</td>\n",
       "      <td>3</td>\n",
       "      <td>2019</td>\n",
       "      <td>3</td>\n",
       "      <td>120370</td>\n",
       "    </tr>\n",
       "    <tr>\n",
       "      <td>1</td>\n",
       "      <td>7</td>\n",
       "      <td>3350000</td>\n",
       "      <td>40</td>\n",
       "      <td>2018-12-04</td>\n",
       "      <td>1</td>\n",
       "      <td>2.65</td>\n",
       "      <td>11</td>\n",
       "      <td>18</td>\n",
       "      <td>1</td>\n",
       "      <td>NaN</td>\n",
       "      <td>...</td>\n",
       "      <td>18603.0</td>\n",
       "      <td>0.0</td>\n",
       "      <td>NaN</td>\n",
       "      <td>0.0</td>\n",
       "      <td>NaN</td>\n",
       "      <td>81.0</td>\n",
       "      <td>12</td>\n",
       "      <td>2018</td>\n",
       "      <td>1</td>\n",
       "      <td>83750</td>\n",
       "    </tr>\n",
       "    <tr>\n",
       "      <td>2</td>\n",
       "      <td>10</td>\n",
       "      <td>5196000</td>\n",
       "      <td>56</td>\n",
       "      <td>2015-08-20</td>\n",
       "      <td>2</td>\n",
       "      <td>2.65</td>\n",
       "      <td>5</td>\n",
       "      <td>34</td>\n",
       "      <td>4</td>\n",
       "      <td>NaN</td>\n",
       "      <td>...</td>\n",
       "      <td>13933.0</td>\n",
       "      <td>1.0</td>\n",
       "      <td>90.0</td>\n",
       "      <td>2.0</td>\n",
       "      <td>574.0</td>\n",
       "      <td>558.0</td>\n",
       "      <td>8</td>\n",
       "      <td>2015</td>\n",
       "      <td>3</td>\n",
       "      <td>92785</td>\n",
       "    </tr>\n",
       "    <tr>\n",
       "      <td>3</td>\n",
       "      <td>0</td>\n",
       "      <td>64900000</td>\n",
       "      <td>159</td>\n",
       "      <td>2015-07-24</td>\n",
       "      <td>3</td>\n",
       "      <td>2.65</td>\n",
       "      <td>14</td>\n",
       "      <td>47</td>\n",
       "      <td>9</td>\n",
       "      <td>NaN</td>\n",
       "      <td>...</td>\n",
       "      <td>6800.0</td>\n",
       "      <td>2.0</td>\n",
       "      <td>84.0</td>\n",
       "      <td>3.0</td>\n",
       "      <td>234.0</td>\n",
       "      <td>424.0</td>\n",
       "      <td>7</td>\n",
       "      <td>2015</td>\n",
       "      <td>4</td>\n",
       "      <td>408176</td>\n",
       "    </tr>\n",
       "    <tr>\n",
       "      <td>4</td>\n",
       "      <td>2</td>\n",
       "      <td>10000000</td>\n",
       "      <td>100</td>\n",
       "      <td>2018-06-19</td>\n",
       "      <td>2</td>\n",
       "      <td>3.03</td>\n",
       "      <td>14</td>\n",
       "      <td>32</td>\n",
       "      <td>13</td>\n",
       "      <td>NaN</td>\n",
       "      <td>...</td>\n",
       "      <td>8098.0</td>\n",
       "      <td>2.0</td>\n",
       "      <td>112.0</td>\n",
       "      <td>1.0</td>\n",
       "      <td>48.0</td>\n",
       "      <td>121.0</td>\n",
       "      <td>6</td>\n",
       "      <td>2018</td>\n",
       "      <td>1</td>\n",
       "      <td>100000</td>\n",
       "    </tr>\n",
       "  </tbody>\n",
       "</table>\n",
       "<p>5 rows × 26 columns</p>\n",
       "</div>"
      ],
      "text/plain": [
       "   total_images  last_price  total_area first_day_exposition  rooms  \\\n",
       "0            20    13000000         108           2019-03-07      3   \n",
       "1             7     3350000          40           2018-12-04      1   \n",
       "2            10     5196000          56           2015-08-20      2   \n",
       "3             0    64900000         159           2015-07-24      3   \n",
       "4             2    10000000         100           2018-06-19      2   \n",
       "\n",
       "   ceiling_height  floors_total  living_area  floor is_apartment  ...  \\\n",
       "0            2.70            16           51      8          NaN  ...   \n",
       "1            2.65            11           18      1          NaN  ...   \n",
       "2            2.65             5           34      4          NaN  ...   \n",
       "3            2.65            14           47      9          NaN  ...   \n",
       "4            3.03            14           32     13          NaN  ...   \n",
       "\n",
       "   cityCenters_nearest  parks_around3000  parks_nearest  ponds_around3000  \\\n",
       "0              16028.0               1.0          482.0               2.0   \n",
       "1              18603.0               0.0            NaN               0.0   \n",
       "2              13933.0               1.0           90.0               2.0   \n",
       "3               6800.0               2.0           84.0               3.0   \n",
       "4               8098.0               2.0          112.0               1.0   \n",
       "\n",
       "  ponds_nearest  days_exposition  month  year  weekday  price_meter  \n",
       "0         755.0              NaN      3  2019        3       120370  \n",
       "1           NaN             81.0     12  2018        1        83750  \n",
       "2         574.0            558.0      8  2015        3        92785  \n",
       "3         234.0            424.0      7  2015        4       408176  \n",
       "4          48.0            121.0      6  2018        1       100000  \n",
       "\n",
       "[5 rows x 26 columns]"
      ]
     },
     "execution_count": 144,
     "metadata": {},
     "output_type": "execute_result"
    }
   ],
   "source": [
    "data['price_meter'] = (data['last_price'] / data['total_area']).astype('int64')\n",
    "data.head()"
   ]
  },
  {
   "cell_type": "markdown",
   "metadata": {},
   "source": [
    "- этаж квартиры; варианты — первый, последний, другой"
   ]
  },
  {
   "cell_type": "code",
   "execution_count": 145,
   "metadata": {},
   "outputs": [
    {
     "data": {
      "text/plain": [
       "other    17446\n",
       "last      3336\n",
       "first     2917\n",
       "Name: floor_group, dtype: int64"
      ]
     },
     "execution_count": 145,
     "metadata": {},
     "output_type": "execute_result"
    }
   ],
   "source": [
    "def floor_group(row):\n",
    "    floor = row['floor']\n",
    "    floors_total = row['floors_total']\n",
    "    if floor == 1:\n",
    "        return 'first'\n",
    "    if floor == floors_total:\n",
    "        if floor !=1:\n",
    "            return 'last'\n",
    "    return 'other'\n",
    "\n",
    "data['floor_group'] = data.apply(floor_group, axis=1)\n",
    "data['floor_group'].value_counts()"
   ]
  },
  {
   "cell_type": "markdown",
   "metadata": {},
   "source": [
    "- соотношение жилой и общей площади, а также отношение площади кухни к общей"
   ]
  },
  {
   "cell_type": "code",
   "execution_count": 146,
   "metadata": {
    "scrolled": false
   },
   "outputs": [
    {
     "data": {
      "text/html": [
       "<div>\n",
       "<style scoped>\n",
       "    .dataframe tbody tr th:only-of-type {\n",
       "        vertical-align: middle;\n",
       "    }\n",
       "\n",
       "    .dataframe tbody tr th {\n",
       "        vertical-align: top;\n",
       "    }\n",
       "\n",
       "    .dataframe thead th {\n",
       "        text-align: right;\n",
       "    }\n",
       "</style>\n",
       "<table border=\"1\" class=\"dataframe\">\n",
       "  <thead>\n",
       "    <tr style=\"text-align: right;\">\n",
       "      <th></th>\n",
       "      <th>total_images</th>\n",
       "      <th>last_price</th>\n",
       "      <th>total_area</th>\n",
       "      <th>first_day_exposition</th>\n",
       "      <th>rooms</th>\n",
       "      <th>ceiling_height</th>\n",
       "      <th>floors_total</th>\n",
       "      <th>living_area</th>\n",
       "      <th>floor</th>\n",
       "      <th>is_apartment</th>\n",
       "      <th>...</th>\n",
       "      <th>ponds_around3000</th>\n",
       "      <th>ponds_nearest</th>\n",
       "      <th>days_exposition</th>\n",
       "      <th>month</th>\n",
       "      <th>year</th>\n",
       "      <th>weekday</th>\n",
       "      <th>price_meter</th>\n",
       "      <th>floor_group</th>\n",
       "      <th>living_ratio</th>\n",
       "      <th>kitchen_ratio</th>\n",
       "    </tr>\n",
       "  </thead>\n",
       "  <tbody>\n",
       "    <tr>\n",
       "      <td>0</td>\n",
       "      <td>20</td>\n",
       "      <td>13000000</td>\n",
       "      <td>108</td>\n",
       "      <td>2019-03-07</td>\n",
       "      <td>3</td>\n",
       "      <td>2.70</td>\n",
       "      <td>16</td>\n",
       "      <td>51</td>\n",
       "      <td>8</td>\n",
       "      <td>NaN</td>\n",
       "      <td>...</td>\n",
       "      <td>2.0</td>\n",
       "      <td>755.0</td>\n",
       "      <td>NaN</td>\n",
       "      <td>3</td>\n",
       "      <td>2019</td>\n",
       "      <td>3</td>\n",
       "      <td>120370</td>\n",
       "      <td>other</td>\n",
       "      <td>0.472222</td>\n",
       "      <td>0.231481</td>\n",
       "    </tr>\n",
       "    <tr>\n",
       "      <td>1</td>\n",
       "      <td>7</td>\n",
       "      <td>3350000</td>\n",
       "      <td>40</td>\n",
       "      <td>2018-12-04</td>\n",
       "      <td>1</td>\n",
       "      <td>2.65</td>\n",
       "      <td>11</td>\n",
       "      <td>18</td>\n",
       "      <td>1</td>\n",
       "      <td>NaN</td>\n",
       "      <td>...</td>\n",
       "      <td>0.0</td>\n",
       "      <td>NaN</td>\n",
       "      <td>81.0</td>\n",
       "      <td>12</td>\n",
       "      <td>2018</td>\n",
       "      <td>1</td>\n",
       "      <td>83750</td>\n",
       "      <td>first</td>\n",
       "      <td>0.450000</td>\n",
       "      <td>0.275000</td>\n",
       "    </tr>\n",
       "    <tr>\n",
       "      <td>2</td>\n",
       "      <td>10</td>\n",
       "      <td>5196000</td>\n",
       "      <td>56</td>\n",
       "      <td>2015-08-20</td>\n",
       "      <td>2</td>\n",
       "      <td>2.65</td>\n",
       "      <td>5</td>\n",
       "      <td>34</td>\n",
       "      <td>4</td>\n",
       "      <td>NaN</td>\n",
       "      <td>...</td>\n",
       "      <td>2.0</td>\n",
       "      <td>574.0</td>\n",
       "      <td>558.0</td>\n",
       "      <td>8</td>\n",
       "      <td>2015</td>\n",
       "      <td>3</td>\n",
       "      <td>92785</td>\n",
       "      <td>other</td>\n",
       "      <td>0.607143</td>\n",
       "      <td>0.142857</td>\n",
       "    </tr>\n",
       "    <tr>\n",
       "      <td>3</td>\n",
       "      <td>0</td>\n",
       "      <td>64900000</td>\n",
       "      <td>159</td>\n",
       "      <td>2015-07-24</td>\n",
       "      <td>3</td>\n",
       "      <td>2.65</td>\n",
       "      <td>14</td>\n",
       "      <td>47</td>\n",
       "      <td>9</td>\n",
       "      <td>NaN</td>\n",
       "      <td>...</td>\n",
       "      <td>3.0</td>\n",
       "      <td>234.0</td>\n",
       "      <td>424.0</td>\n",
       "      <td>7</td>\n",
       "      <td>2015</td>\n",
       "      <td>4</td>\n",
       "      <td>408176</td>\n",
       "      <td>other</td>\n",
       "      <td>0.295597</td>\n",
       "      <td>0.000000</td>\n",
       "    </tr>\n",
       "    <tr>\n",
       "      <td>4</td>\n",
       "      <td>2</td>\n",
       "      <td>10000000</td>\n",
       "      <td>100</td>\n",
       "      <td>2018-06-19</td>\n",
       "      <td>2</td>\n",
       "      <td>3.03</td>\n",
       "      <td>14</td>\n",
       "      <td>32</td>\n",
       "      <td>13</td>\n",
       "      <td>NaN</td>\n",
       "      <td>...</td>\n",
       "      <td>1.0</td>\n",
       "      <td>48.0</td>\n",
       "      <td>121.0</td>\n",
       "      <td>6</td>\n",
       "      <td>2018</td>\n",
       "      <td>1</td>\n",
       "      <td>100000</td>\n",
       "      <td>other</td>\n",
       "      <td>0.320000</td>\n",
       "      <td>0.410000</td>\n",
       "    </tr>\n",
       "  </tbody>\n",
       "</table>\n",
       "<p>5 rows × 29 columns</p>\n",
       "</div>"
      ],
      "text/plain": [
       "   total_images  last_price  total_area first_day_exposition  rooms  \\\n",
       "0            20    13000000         108           2019-03-07      3   \n",
       "1             7     3350000          40           2018-12-04      1   \n",
       "2            10     5196000          56           2015-08-20      2   \n",
       "3             0    64900000         159           2015-07-24      3   \n",
       "4             2    10000000         100           2018-06-19      2   \n",
       "\n",
       "   ceiling_height  floors_total  living_area  floor is_apartment  ...  \\\n",
       "0            2.70            16           51      8          NaN  ...   \n",
       "1            2.65            11           18      1          NaN  ...   \n",
       "2            2.65             5           34      4          NaN  ...   \n",
       "3            2.65            14           47      9          NaN  ...   \n",
       "4            3.03            14           32     13          NaN  ...   \n",
       "\n",
       "   ponds_around3000  ponds_nearest  days_exposition  month  year  weekday  \\\n",
       "0               2.0          755.0              NaN      3  2019        3   \n",
       "1               0.0            NaN             81.0     12  2018        1   \n",
       "2               2.0          574.0            558.0      8  2015        3   \n",
       "3               3.0          234.0            424.0      7  2015        4   \n",
       "4               1.0           48.0            121.0      6  2018        1   \n",
       "\n",
       "   price_meter  floor_group  living_ratio  kitchen_ratio  \n",
       "0       120370        other      0.472222       0.231481  \n",
       "1        83750        first      0.450000       0.275000  \n",
       "2        92785        other      0.607143       0.142857  \n",
       "3       408176        other      0.295597       0.000000  \n",
       "4       100000        other      0.320000       0.410000  \n",
       "\n",
       "[5 rows x 29 columns]"
      ]
     },
     "execution_count": 146,
     "metadata": {},
     "output_type": "execute_result"
    }
   ],
   "source": [
    "data['living_ratio'] = data['living_area'] / data['total_area']\n",
    "data['kitchen_ratio'] = data['kitchen_area'] / data['total_area']\n",
    "data.head()"
   ]
  },
  {
   "cell_type": "markdown",
   "metadata": {},
   "source": [
    "## Исследовательский анализ данных"
   ]
  },
  {
   "cell_type": "markdown",
   "metadata": {},
   "source": [
    "Построим гистограммы для следующих параметров: площадь, цена, число комнат, высота потолков. "
   ]
  },
  {
   "cell_type": "code",
   "execution_count": 147,
   "metadata": {},
   "outputs": [
    {
     "data": {
      "image/png": "[encoded data removed]",
      "text/plain": [
       "<Figure size 432x288 with 1 Axes>"
      ]
     },
     "metadata": {
      "needs_background": "light"
     },
     "output_type": "display_data"
    },
    {
     "name": "stdout",
     "output_type": "stream",
     "text": [
      "Средняя площадь: 52.0\n"
     ]
    }
   ],
   "source": [
    "# Площадь\n",
    "data['total_area'].hist(bins=50, range = ( 0, 500))\n",
    "plt.title('Площадь')\n",
    "plt.show()\n",
    "print('Средняя площадь:', data['total_area'].median())"
   ]
  },
  {
   "cell_type": "code",
   "execution_count": 20,
   "metadata": {},
   "outputs": [
    {
     "data": {
      "image/png": "[encoded data removed]",
      "text/plain": [
       "<Figure size 432x288 with 1 Axes>"
      ]
     },
     "metadata": {
      "needs_background": "light"
     },
     "output_type": "display_data"
    },
    {
     "name": "stdout",
     "output_type": "stream",
     "text": [
      "Средняя цена: 4650000.0\n"
     ]
    }
   ],
   "source": [
    "# Цена\n",
    "data['last_price'].hist(bins=100, range = (0, 70000000))\n",
    "plt.title('Цена')\n",
    "plt.show()\n",
    "print('Средняя цена:', data['last_price'].median())"
   ]
  },
  {
   "cell_type": "code",
   "execution_count": 21,
   "metadata": {
    "scrolled": true
   },
   "outputs": [
    {
     "data": {
      "image/png": "[encoded data removed]",
      "text/plain": [
       "<Figure size 432x288 with 1 Axes>"
      ]
     },
     "metadata": {
      "needs_background": "light"
     },
     "output_type": "display_data"
    },
    {
     "name": "stdout",
     "output_type": "stream",
     "text": [
      "Среднее количество комнат: 2.0\n"
     ]
    }
   ],
   "source": [
    "# Комнаты\n",
    "data['rooms'].hist(bins=10, range = ( 0, 10))\n",
    "plt.title('Количество комнат')\n",
    "plt.show()\n",
    "print('Среднее количество комнат:', data['rooms'].median())"
   ]
  },
  {
   "cell_type": "code",
   "execution_count": 50,
   "metadata": {},
   "outputs": [
    {
     "data": {
      "text/plain": [
       "pandas.core.series.Series"
      ]
     },
     "execution_count": 50,
     "metadata": {},
     "output_type": "execute_result"
    }
   ],
   "source": [
    "type(data['rooms'])"
   ]
  },
  {
   "cell_type": "code",
   "execution_count": 51,
   "metadata": {},
   "outputs": [
    {
     "data": {
      "text/plain": [
       "<matplotlib.axes._subplots.AxesSubplot at 0x7fc45a28f7d0>"
      ]
     },
     "execution_count": 51,
     "metadata": {},
     "output_type": "execute_result"
    },
    {
     "data": {
      "image/png": "[encoded data removed]",
      "text/plain": [
       "<Figure size 432x288 with 1 Axes>"
      ]
     },
     "metadata": {
      "needs_background": "light"
     },
     "output_type": "display_data"
    }
   ],
   "source": [
    "data['rooms'].hist(bins=10, range = ( 0, 10))"
   ]
  },
  {
   "cell_type": "code",
   "execution_count": 22,
   "metadata": {
    "scrolled": true
   },
   "outputs": [
    {
     "data": {
      "image/png": "[encoded data removed]",
      "text/plain": [
       "<Figure size 432x288 with 1 Axes>"
      ]
     },
     "metadata": {
      "needs_background": "light"
     },
     "output_type": "display_data"
    },
    {
     "name": "stdout",
     "output_type": "stream",
     "text": [
      "Средняя высота потолков: 2.65\n"
     ]
    }
   ],
   "source": [
    "# Высота потолков\n",
    "data['ceiling_height'].hist(bins=10, range = ( 0, 5))\n",
    "plt.title('Высота потолков')\n",
    "plt.show()\n",
    "print('Средняя высота потолков:', data['ceiling_height'].median())"
   ]
  },
  {
   "cell_type": "markdown",
   "metadata": {},
   "source": [
    "Изучим время продажи квартиры. Построим гистограмму и посчитаем среднее и медиану"
   ]
  },
  {
   "cell_type": "code",
   "execution_count": 23,
   "metadata": {
    "scrolled": true
   },
   "outputs": [
    {
     "data": {
      "image/png": "[encoded data removed]",
      "text/plain": [
       "<Figure size 432x288 with 1 Axes>"
      ]
     },
     "metadata": {
      "needs_background": "light"
     },
     "output_type": "display_data"
    },
    {
     "name": "stdout",
     "output_type": "stream",
     "text": [
      "Среднее время продажи квартиры: 180\n",
      "Медиана времени продажи квартиры: 95\n"
     ]
    }
   ],
   "source": [
    "data['days_exposition'].hist(bins=50, range = (0, 1500))\n",
    "plt.title('Время продажи квартиры')\n",
    "plt.show()\n",
    "print('Среднее время продажи квартиры:', data['days_exposition'].mean().astype('int64'))\n",
    "print('Медиана времени продажи квартиры:', data['days_exposition'].median().astype('int64'))"
   ]
  },
  {
   "cell_type": "code",
   "execution_count": 24,
   "metadata": {
    "scrolled": true
   },
   "outputs": [
    {
     "data": {
      "text/html": [
       "<div>\n",
       "<style scoped>\n",
       "    .dataframe tbody tr th:only-of-type {\n",
       "        vertical-align: middle;\n",
       "    }\n",
       "\n",
       "    .dataframe tbody tr th {\n",
       "        vertical-align: top;\n",
       "    }\n",
       "\n",
       "    .dataframe thead tr th {\n",
       "        text-align: left;\n",
       "    }\n",
       "\n",
       "    .dataframe thead tr:last-of-type th {\n",
       "        text-align: right;\n",
       "    }\n",
       "</style>\n",
       "<table border=\"1\" class=\"dataframe\">\n",
       "  <thead>\n",
       "    <tr>\n",
       "      <th></th>\n",
       "      <th colspan=\"4\" halign=\"left\">days_exposition</th>\n",
       "      <th colspan=\"2\" halign=\"left\">price_meter</th>\n",
       "      <th colspan=\"2\" halign=\"left\">last_price</th>\n",
       "    </tr>\n",
       "    <tr>\n",
       "      <th></th>\n",
       "      <th>count</th>\n",
       "      <th>median</th>\n",
       "      <th>min</th>\n",
       "      <th>max</th>\n",
       "      <th>count</th>\n",
       "      <th>median</th>\n",
       "      <th>count</th>\n",
       "      <th>median</th>\n",
       "    </tr>\n",
       "    <tr>\n",
       "      <th>rooms</th>\n",
       "      <th></th>\n",
       "      <th></th>\n",
       "      <th></th>\n",
       "      <th></th>\n",
       "      <th></th>\n",
       "      <th></th>\n",
       "      <th></th>\n",
       "      <th></th>\n",
       "    </tr>\n",
       "  </thead>\n",
       "  <tbody>\n",
       "    <tr>\n",
       "      <td>0</td>\n",
       "      <td>183</td>\n",
       "      <td>50.0</td>\n",
       "      <td>3.0</td>\n",
       "      <td>931.0</td>\n",
       "      <td>197</td>\n",
       "      <td>105555.0</td>\n",
       "      <td>197</td>\n",
       "      <td>2700000.0</td>\n",
       "    </tr>\n",
       "    <tr>\n",
       "      <td>1</td>\n",
       "      <td>7273</td>\n",
       "      <td>81.0</td>\n",
       "      <td>2.0</td>\n",
       "      <td>1512.0</td>\n",
       "      <td>8047</td>\n",
       "      <td>100000.0</td>\n",
       "      <td>8047</td>\n",
       "      <td>3600000.0</td>\n",
       "    </tr>\n",
       "    <tr>\n",
       "      <td>2</td>\n",
       "      <td>6913</td>\n",
       "      <td>91.0</td>\n",
       "      <td>1.0</td>\n",
       "      <td>1580.0</td>\n",
       "      <td>7940</td>\n",
       "      <td>92796.0</td>\n",
       "      <td>7940</td>\n",
       "      <td>4770169.0</td>\n",
       "    </tr>\n",
       "    <tr>\n",
       "      <td>3</td>\n",
       "      <td>4819</td>\n",
       "      <td>114.0</td>\n",
       "      <td>3.0</td>\n",
       "      <td>1553.0</td>\n",
       "      <td>5814</td>\n",
       "      <td>88983.0</td>\n",
       "      <td>5814</td>\n",
       "      <td>6200000.0</td>\n",
       "    </tr>\n",
       "    <tr>\n",
       "      <td>4</td>\n",
       "      <td>941</td>\n",
       "      <td>156.0</td>\n",
       "      <td>3.0</td>\n",
       "      <td>1512.0</td>\n",
       "      <td>1180</td>\n",
       "      <td>92666.0</td>\n",
       "      <td>1180</td>\n",
       "      <td>9000000.0</td>\n",
       "    </tr>\n",
       "    <tr>\n",
       "      <td>5</td>\n",
       "      <td>252</td>\n",
       "      <td>185.5</td>\n",
       "      <td>4.0</td>\n",
       "      <td>1395.0</td>\n",
       "      <td>326</td>\n",
       "      <td>96516.5</td>\n",
       "      <td>326</td>\n",
       "      <td>14000000.0</td>\n",
       "    </tr>\n",
       "    <tr>\n",
       "      <td>6</td>\n",
       "      <td>76</td>\n",
       "      <td>201.5</td>\n",
       "      <td>8.0</td>\n",
       "      <td>1350.0</td>\n",
       "      <td>105</td>\n",
       "      <td>99411.0</td>\n",
       "      <td>105</td>\n",
       "      <td>19000000.0</td>\n",
       "    </tr>\n",
       "    <tr>\n",
       "      <td>7</td>\n",
       "      <td>37</td>\n",
       "      <td>138.0</td>\n",
       "      <td>9.0</td>\n",
       "      <td>781.0</td>\n",
       "      <td>59</td>\n",
       "      <td>108827.0</td>\n",
       "      <td>59</td>\n",
       "      <td>24900000.0</td>\n",
       "    </tr>\n",
       "    <tr>\n",
       "      <td>8</td>\n",
       "      <td>11</td>\n",
       "      <td>249.0</td>\n",
       "      <td>7.0</td>\n",
       "      <td>921.0</td>\n",
       "      <td>12</td>\n",
       "      <td>106760.0</td>\n",
       "      <td>12</td>\n",
       "      <td>23095000.0</td>\n",
       "    </tr>\n",
       "    <tr>\n",
       "      <td>9</td>\n",
       "      <td>4</td>\n",
       "      <td>469.5</td>\n",
       "      <td>90.0</td>\n",
       "      <td>825.0</td>\n",
       "      <td>8</td>\n",
       "      <td>92517.5</td>\n",
       "      <td>8</td>\n",
       "      <td>23750000.0</td>\n",
       "    </tr>\n",
       "    <tr>\n",
       "      <td>10</td>\n",
       "      <td>2</td>\n",
       "      <td>44.0</td>\n",
       "      <td>11.0</td>\n",
       "      <td>77.0</td>\n",
       "      <td>3</td>\n",
       "      <td>84372.0</td>\n",
       "      <td>3</td>\n",
       "      <td>23000000.0</td>\n",
       "    </tr>\n",
       "    <tr>\n",
       "      <td>11</td>\n",
       "      <td>1</td>\n",
       "      <td>813.0</td>\n",
       "      <td>813.0</td>\n",
       "      <td>813.0</td>\n",
       "      <td>2</td>\n",
       "      <td>132639.5</td>\n",
       "      <td>2</td>\n",
       "      <td>25250000.0</td>\n",
       "    </tr>\n",
       "    <tr>\n",
       "      <td>12</td>\n",
       "      <td>1</td>\n",
       "      <td>106.0</td>\n",
       "      <td>106.0</td>\n",
       "      <td>106.0</td>\n",
       "      <td>1</td>\n",
       "      <td>466666.0</td>\n",
       "      <td>1</td>\n",
       "      <td>420000000.0</td>\n",
       "    </tr>\n",
       "    <tr>\n",
       "      <td>14</td>\n",
       "      <td>2</td>\n",
       "      <td>256.5</td>\n",
       "      <td>95.0</td>\n",
       "      <td>418.0</td>\n",
       "      <td>2</td>\n",
       "      <td>92827.0</td>\n",
       "      <td>2</td>\n",
       "      <td>26829500.0</td>\n",
       "    </tr>\n",
       "    <tr>\n",
       "      <td>15</td>\n",
       "      <td>1</td>\n",
       "      <td>14.0</td>\n",
       "      <td>14.0</td>\n",
       "      <td>14.0</td>\n",
       "      <td>1</td>\n",
       "      <td>110169.0</td>\n",
       "      <td>1</td>\n",
       "      <td>65000000.0</td>\n",
       "    </tr>\n",
       "    <tr>\n",
       "      <td>16</td>\n",
       "      <td>1</td>\n",
       "      <td>1365.0</td>\n",
       "      <td>1365.0</td>\n",
       "      <td>1365.0</td>\n",
       "      <td>1</td>\n",
       "      <td>105555.0</td>\n",
       "      <td>1</td>\n",
       "      <td>28500000.0</td>\n",
       "    </tr>\n",
       "    <tr>\n",
       "      <td>19</td>\n",
       "      <td>1</td>\n",
       "      <td>114.0</td>\n",
       "      <td>114.0</td>\n",
       "      <td>114.0</td>\n",
       "      <td>1</td>\n",
       "      <td>86091.0</td>\n",
       "      <td>1</td>\n",
       "      <td>32250000.0</td>\n",
       "    </tr>\n",
       "  </tbody>\n",
       "</table>\n",
       "</div>"
      ],
      "text/plain": [
       "      days_exposition                         price_meter            \\\n",
       "                count  median     min     max       count    median   \n",
       "rooms                                                                 \n",
       "0                 183    50.0     3.0   931.0         197  105555.0   \n",
       "1                7273    81.0     2.0  1512.0        8047  100000.0   \n",
       "2                6913    91.0     1.0  1580.0        7940   92796.0   \n",
       "3                4819   114.0     3.0  1553.0        5814   88983.0   \n",
       "4                 941   156.0     3.0  1512.0        1180   92666.0   \n",
       "5                 252   185.5     4.0  1395.0         326   96516.5   \n",
       "6                  76   201.5     8.0  1350.0         105   99411.0   \n",
       "7                  37   138.0     9.0   781.0          59  108827.0   \n",
       "8                  11   249.0     7.0   921.0          12  106760.0   \n",
       "9                   4   469.5    90.0   825.0           8   92517.5   \n",
       "10                  2    44.0    11.0    77.0           3   84372.0   \n",
       "11                  1   813.0   813.0   813.0           2  132639.5   \n",
       "12                  1   106.0   106.0   106.0           1  466666.0   \n",
       "14                  2   256.5    95.0   418.0           2   92827.0   \n",
       "15                  1    14.0    14.0    14.0           1  110169.0   \n",
       "16                  1  1365.0  1365.0  1365.0           1  105555.0   \n",
       "19                  1   114.0   114.0   114.0           1   86091.0   \n",
       "\n",
       "      last_price               \n",
       "           count       median  \n",
       "rooms                          \n",
       "0            197    2700000.0  \n",
       "1           8047    3600000.0  \n",
       "2           7940    4770169.0  \n",
       "3           5814    6200000.0  \n",
       "4           1180    9000000.0  \n",
       "5            326   14000000.0  \n",
       "6            105   19000000.0  \n",
       "7             59   24900000.0  \n",
       "8             12   23095000.0  \n",
       "9              8   23750000.0  \n",
       "10             3   23000000.0  \n",
       "11             2   25250000.0  \n",
       "12             1  420000000.0  \n",
       "14             2   26829500.0  \n",
       "15             1   65000000.0  \n",
       "16             1   28500000.0  \n",
       "19             1   32250000.0  "
      ]
     },
     "execution_count": 24,
     "metadata": {},
     "output_type": "execute_result"
    }
   ],
   "source": [
    "data.groupby('rooms').agg(\n",
    "    {'days_exposition': ['count', 'median', 'min', 'max'], 'price_meter': ['count', 'median'], 'last_price': ['count', 'median']}\n",
    ")"
   ]
  },
  {
   "cell_type": "markdown",
   "metadata": {},
   "source": [
    "Обычно продажа квартиры занимает 95 дней. Вместе с тем, время продажи зависит от количества комнат и стоимости жилья. Наиболее быстро продаются комнаты (0-комнатные квартиры в таблице). Элитное жилье (5 комнат и больше) продается от 200 дней и до нескольких лет, но такого жилья продается единицы и для этого правила есть исключения.\n",
    "\n",
    "Можно считать, что продажи прошли очень быстро, если квартира продалась за неделю. Необычно долго продаются квартиры от 1 года до нескольких лет.\n"
   ]
  },
  {
   "cell_type": "markdown",
   "metadata": {},
   "source": [
    "Найдем и уберем редкие и выбивающиеся значения:"
   ]
  },
  {
   "cell_type": "code",
   "execution_count": 25,
   "metadata": {},
   "outputs": [
    {
     "name": "stdout",
     "output_type": "stream",
     "text": [
      "AxesSubplot(0.125,0.125;0.775x0.755)\n",
      "count    2.369900e+04\n",
      "mean     6.541549e+06\n",
      "std      1.088701e+07\n",
      "min      1.219000e+04\n",
      "25%      3.400000e+06\n",
      "50%      4.650000e+06\n",
      "75%      6.800000e+06\n",
      "max      7.630000e+08\n",
      "Name: last_price, dtype: float64\n"
     ]
    },
    {
     "data": {
      "image/png": "[encoded data removed]",
      "text/plain": [
       "<Figure size 432x288 with 1 Axes>"
      ]
     },
     "metadata": {
      "needs_background": "light"
     },
     "output_type": "display_data"
    }
   ],
   "source": [
    "#import matplotlib.pyplot as plt\n",
    "\n",
    "plt.ylim(0, 15000000)\n",
    "\n",
    "    print(data.boxplot(column='last_price'))\n",
    "print(data['last_price'].describe())"
   ]
  },
  {
   "cell_type": "code",
   "execution_count": 26,
   "metadata": {
    "scrolled": true
   },
   "outputs": [
    {
     "name": "stdout",
     "output_type": "stream",
     "text": [
      "count    23699.000000\n",
      "mean        60.348651\n",
      "std         35.654083\n",
      "min         12.000000\n",
      "25%         40.000000\n",
      "50%         52.000000\n",
      "75%         69.900000\n",
      "max        900.000000\n",
      "Name: total_area, dtype: float64\n"
     ]
    },
    {
     "data": {
      "image/png": "[encoded data removed]",
      "text/plain": [
       "<Figure size 432x288 with 1 Axes>"
      ]
     },
     "metadata": {
      "needs_background": "light"
     },
     "output_type": "display_data"
    }
   ],
   "source": [
    "plt.ylim(0, 150)\n",
    "\n",
    "data.boxplot(column='total_area')\n",
    "print(data['total_area'].describe())"
   ]
  },
  {
   "cell_type": "code",
   "execution_count": 27,
   "metadata": {
    "scrolled": true
   },
   "outputs": [
    {
     "name": "stdout",
     "output_type": "stream",
     "text": [
      "count    23699.000000\n",
      "mean         2.070636\n",
      "std          1.078405\n",
      "min          0.000000\n",
      "25%          1.000000\n",
      "50%          2.000000\n",
      "75%          3.000000\n",
      "max         19.000000\n",
      "Name: rooms, dtype: float64\n"
     ]
    },
    {
     "data": {
      "image/png": "[encoded data removed]",
      "text/plain": [
       "<Figure size 432x288 with 1 Axes>"
      ]
     },
     "metadata": {
      "needs_background": "light"
     },
     "output_type": "display_data"
    }
   ],
   "source": [
    "plt.ylim(0, 10)\n",
    "\n",
    "data.boxplot(column='rooms')\n",
    "print(data['rooms'].describe())"
   ]
  },
  {
   "cell_type": "code",
   "execution_count": 28,
   "metadata": {},
   "outputs": [
    {
     "data": {
      "text/plain": [
       "count    23699.000000\n",
       "mean         2.724358\n",
       "std          0.988298\n",
       "min          1.000000\n",
       "25%          2.600000\n",
       "50%          2.650000\n",
       "75%          2.700000\n",
       "max        100.000000\n",
       "Name: ceiling_height, dtype: float64"
      ]
     },
     "metadata": {},
     "output_type": "display_data"
    },
    {
     "data": {
      "image/png": "[encoded data removed]",
      "text/plain": [
       "<Figure size 432x288 with 1 Axes>"
      ]
     },
     "metadata": {
      "needs_background": "light"
     },
     "output_type": "display_data"
    }
   ],
   "source": [
    "plt.ylim(2.2, 3.2)\n",
    "\n",
    "data.boxplot(column='ceiling_height')\n",
    "display(data['ceiling_height'].describe())"
   ]
  },
  {
   "cell_type": "markdown",
   "metadata": {},
   "source": [
    "Из диаграм видим следующие особенности:\n",
    "- стоимость жилья более 12000000 является редкой,\n",
    "- площадь жилья более 110 кв. м. также встречается очень редко,\n",
    "- не типичными являются квартиры с количеством комнат более 6,\n",
    "- высота потолков менее 2,4 и более 2,9 является редкостью."
   ]
  },
  {
   "cell_type": "markdown",
   "metadata": {},
   "source": [
    "Чтобы убрать редкие и выбивающиеся значения создадим с помощью метода query новый dataframe и уберем значения, находящиеся за пределами \"усов\" на диаграммах размаха"
   ]
  },
  {
   "cell_type": "code",
   "execution_count": 29,
   "metadata": {},
   "outputs": [
    {
     "data": {
      "text/html": [
       "<div>\n",
       "<style scoped>\n",
       "    .dataframe tbody tr th:only-of-type {\n",
       "        vertical-align: middle;\n",
       "    }\n",
       "\n",
       "    .dataframe tbody tr th {\n",
       "        vertical-align: top;\n",
       "    }\n",
       "\n",
       "    .dataframe thead th {\n",
       "        text-align: right;\n",
       "    }\n",
       "</style>\n",
       "<table border=\"1\" class=\"dataframe\">\n",
       "  <thead>\n",
       "    <tr style=\"text-align: right;\">\n",
       "      <th></th>\n",
       "      <th>total_images</th>\n",
       "      <th>last_price</th>\n",
       "      <th>total_area</th>\n",
       "      <th>first_day_exposition</th>\n",
       "      <th>rooms</th>\n",
       "      <th>ceiling_height</th>\n",
       "      <th>floors_total</th>\n",
       "      <th>living_area</th>\n",
       "      <th>floor</th>\n",
       "      <th>is_apartment</th>\n",
       "      <th>...</th>\n",
       "      <th>ponds_around3000</th>\n",
       "      <th>ponds_nearest</th>\n",
       "      <th>days_exposition</th>\n",
       "      <th>month</th>\n",
       "      <th>year</th>\n",
       "      <th>weekday</th>\n",
       "      <th>price_meter</th>\n",
       "      <th>floor_group</th>\n",
       "      <th>living_ratio</th>\n",
       "      <th>kitchen_ratio</th>\n",
       "    </tr>\n",
       "  </thead>\n",
       "  <tbody>\n",
       "    <tr>\n",
       "      <td>1</td>\n",
       "      <td>7</td>\n",
       "      <td>3350000.0</td>\n",
       "      <td>40.4</td>\n",
       "      <td>2018-12-04</td>\n",
       "      <td>1</td>\n",
       "      <td>2.65</td>\n",
       "      <td>11</td>\n",
       "      <td>18.600000</td>\n",
       "      <td>1</td>\n",
       "      <td>NaN</td>\n",
       "      <td>...</td>\n",
       "      <td>0.0</td>\n",
       "      <td>NaN</td>\n",
       "      <td>81.0</td>\n",
       "      <td>12</td>\n",
       "      <td>2018</td>\n",
       "      <td>1</td>\n",
       "      <td>82920</td>\n",
       "      <td>first</td>\n",
       "      <td>0.460396</td>\n",
       "      <td>0.272277</td>\n",
       "    </tr>\n",
       "    <tr>\n",
       "      <td>2</td>\n",
       "      <td>10</td>\n",
       "      <td>5196000.0</td>\n",
       "      <td>56.0</td>\n",
       "      <td>2015-08-20</td>\n",
       "      <td>2</td>\n",
       "      <td>2.65</td>\n",
       "      <td>5</td>\n",
       "      <td>34.300000</td>\n",
       "      <td>4</td>\n",
       "      <td>NaN</td>\n",
       "      <td>...</td>\n",
       "      <td>2.0</td>\n",
       "      <td>574.0</td>\n",
       "      <td>558.0</td>\n",
       "      <td>8</td>\n",
       "      <td>2015</td>\n",
       "      <td>3</td>\n",
       "      <td>92785</td>\n",
       "      <td>other</td>\n",
       "      <td>0.612500</td>\n",
       "      <td>0.142857</td>\n",
       "    </tr>\n",
       "    <tr>\n",
       "      <td>5</td>\n",
       "      <td>10</td>\n",
       "      <td>2890000.0</td>\n",
       "      <td>30.4</td>\n",
       "      <td>2018-09-10</td>\n",
       "      <td>1</td>\n",
       "      <td>2.65</td>\n",
       "      <td>12</td>\n",
       "      <td>14.400000</td>\n",
       "      <td>5</td>\n",
       "      <td>NaN</td>\n",
       "      <td>...</td>\n",
       "      <td>NaN</td>\n",
       "      <td>NaN</td>\n",
       "      <td>55.0</td>\n",
       "      <td>9</td>\n",
       "      <td>2018</td>\n",
       "      <td>0</td>\n",
       "      <td>95065</td>\n",
       "      <td>other</td>\n",
       "      <td>0.473684</td>\n",
       "      <td>0.296053</td>\n",
       "    </tr>\n",
       "    <tr>\n",
       "      <td>6</td>\n",
       "      <td>6</td>\n",
       "      <td>3700000.0</td>\n",
       "      <td>37.3</td>\n",
       "      <td>2017-11-02</td>\n",
       "      <td>1</td>\n",
       "      <td>2.65</td>\n",
       "      <td>26</td>\n",
       "      <td>10.600000</td>\n",
       "      <td>6</td>\n",
       "      <td>NaN</td>\n",
       "      <td>...</td>\n",
       "      <td>0.0</td>\n",
       "      <td>NaN</td>\n",
       "      <td>155.0</td>\n",
       "      <td>11</td>\n",
       "      <td>2017</td>\n",
       "      <td>3</td>\n",
       "      <td>99195</td>\n",
       "      <td>other</td>\n",
       "      <td>0.284182</td>\n",
       "      <td>0.375335</td>\n",
       "    </tr>\n",
       "    <tr>\n",
       "      <td>7</td>\n",
       "      <td>5</td>\n",
       "      <td>7915000.0</td>\n",
       "      <td>71.6</td>\n",
       "      <td>2019-04-18</td>\n",
       "      <td>2</td>\n",
       "      <td>2.65</td>\n",
       "      <td>24</td>\n",
       "      <td>31.736849</td>\n",
       "      <td>22</td>\n",
       "      <td>NaN</td>\n",
       "      <td>...</td>\n",
       "      <td>0.0</td>\n",
       "      <td>NaN</td>\n",
       "      <td>NaN</td>\n",
       "      <td>4</td>\n",
       "      <td>2019</td>\n",
       "      <td>3</td>\n",
       "      <td>110544</td>\n",
       "      <td>other</td>\n",
       "      <td>0.443252</td>\n",
       "      <td>0.251397</td>\n",
       "    </tr>\n",
       "    <tr>\n",
       "      <td>...</td>\n",
       "      <td>...</td>\n",
       "      <td>...</td>\n",
       "      <td>...</td>\n",
       "      <td>...</td>\n",
       "      <td>...</td>\n",
       "      <td>...</td>\n",
       "      <td>...</td>\n",
       "      <td>...</td>\n",
       "      <td>...</td>\n",
       "      <td>...</td>\n",
       "      <td>...</td>\n",
       "      <td>...</td>\n",
       "      <td>...</td>\n",
       "      <td>...</td>\n",
       "      <td>...</td>\n",
       "      <td>...</td>\n",
       "      <td>...</td>\n",
       "      <td>...</td>\n",
       "      <td>...</td>\n",
       "      <td>...</td>\n",
       "      <td>...</td>\n",
       "    </tr>\n",
       "    <tr>\n",
       "      <td>23692</td>\n",
       "      <td>2</td>\n",
       "      <td>1350000.0</td>\n",
       "      <td>30.0</td>\n",
       "      <td>2017-07-07</td>\n",
       "      <td>1</td>\n",
       "      <td>2.65</td>\n",
       "      <td>5</td>\n",
       "      <td>17.500000</td>\n",
       "      <td>4</td>\n",
       "      <td>NaN</td>\n",
       "      <td>...</td>\n",
       "      <td>NaN</td>\n",
       "      <td>NaN</td>\n",
       "      <td>413.0</td>\n",
       "      <td>7</td>\n",
       "      <td>2017</td>\n",
       "      <td>4</td>\n",
       "      <td>45000</td>\n",
       "      <td>other</td>\n",
       "      <td>0.583333</td>\n",
       "      <td>0.200000</td>\n",
       "    </tr>\n",
       "    <tr>\n",
       "      <td>23693</td>\n",
       "      <td>9</td>\n",
       "      <td>4600000.0</td>\n",
       "      <td>62.4</td>\n",
       "      <td>2016-08-05</td>\n",
       "      <td>3</td>\n",
       "      <td>2.60</td>\n",
       "      <td>9</td>\n",
       "      <td>40.000000</td>\n",
       "      <td>8</td>\n",
       "      <td>NaN</td>\n",
       "      <td>...</td>\n",
       "      <td>1.0</td>\n",
       "      <td>675.0</td>\n",
       "      <td>239.0</td>\n",
       "      <td>8</td>\n",
       "      <td>2016</td>\n",
       "      <td>4</td>\n",
       "      <td>73717</td>\n",
       "      <td>other</td>\n",
       "      <td>0.641026</td>\n",
       "      <td>0.128205</td>\n",
       "    </tr>\n",
       "    <tr>\n",
       "      <td>23695</td>\n",
       "      <td>14</td>\n",
       "      <td>3100000.0</td>\n",
       "      <td>59.0</td>\n",
       "      <td>2018-01-15</td>\n",
       "      <td>3</td>\n",
       "      <td>2.65</td>\n",
       "      <td>5</td>\n",
       "      <td>38.000000</td>\n",
       "      <td>4</td>\n",
       "      <td>NaN</td>\n",
       "      <td>...</td>\n",
       "      <td>NaN</td>\n",
       "      <td>NaN</td>\n",
       "      <td>45.0</td>\n",
       "      <td>1</td>\n",
       "      <td>2018</td>\n",
       "      <td>0</td>\n",
       "      <td>52542</td>\n",
       "      <td>other</td>\n",
       "      <td>0.644068</td>\n",
       "      <td>0.135593</td>\n",
       "    </tr>\n",
       "    <tr>\n",
       "      <td>23696</td>\n",
       "      <td>18</td>\n",
       "      <td>2500000.0</td>\n",
       "      <td>56.7</td>\n",
       "      <td>2018-02-11</td>\n",
       "      <td>2</td>\n",
       "      <td>2.65</td>\n",
       "      <td>3</td>\n",
       "      <td>29.700000</td>\n",
       "      <td>1</td>\n",
       "      <td>NaN</td>\n",
       "      <td>...</td>\n",
       "      <td>NaN</td>\n",
       "      <td>NaN</td>\n",
       "      <td>NaN</td>\n",
       "      <td>2</td>\n",
       "      <td>2018</td>\n",
       "      <td>6</td>\n",
       "      <td>44091</td>\n",
       "      <td>first</td>\n",
       "      <td>0.523810</td>\n",
       "      <td>0.000000</td>\n",
       "    </tr>\n",
       "    <tr>\n",
       "      <td>23698</td>\n",
       "      <td>4</td>\n",
       "      <td>1350000.0</td>\n",
       "      <td>32.3</td>\n",
       "      <td>2017-07-21</td>\n",
       "      <td>1</td>\n",
       "      <td>2.50</td>\n",
       "      <td>5</td>\n",
       "      <td>12.300000</td>\n",
       "      <td>1</td>\n",
       "      <td>NaN</td>\n",
       "      <td>...</td>\n",
       "      <td>NaN</td>\n",
       "      <td>NaN</td>\n",
       "      <td>NaN</td>\n",
       "      <td>7</td>\n",
       "      <td>2017</td>\n",
       "      <td>4</td>\n",
       "      <td>41795</td>\n",
       "      <td>first</td>\n",
       "      <td>0.380805</td>\n",
       "      <td>0.278638</td>\n",
       "    </tr>\n",
       "  </tbody>\n",
       "</table>\n",
       "<p>19546 rows × 29 columns</p>\n",
       "</div>"
      ],
      "text/plain": [
       "       total_images  last_price  total_area first_day_exposition  rooms  \\\n",
       "1                 7   3350000.0        40.4           2018-12-04      1   \n",
       "2                10   5196000.0        56.0           2015-08-20      2   \n",
       "5                10   2890000.0        30.4           2018-09-10      1   \n",
       "6                 6   3700000.0        37.3           2017-11-02      1   \n",
       "7                 5   7915000.0        71.6           2019-04-18      2   \n",
       "...             ...         ...         ...                  ...    ...   \n",
       "23692             2   1350000.0        30.0           2017-07-07      1   \n",
       "23693             9   4600000.0        62.4           2016-08-05      3   \n",
       "23695            14   3100000.0        59.0           2018-01-15      3   \n",
       "23696            18   2500000.0        56.7           2018-02-11      2   \n",
       "23698             4   1350000.0        32.3           2017-07-21      1   \n",
       "\n",
       "       ceiling_height  floors_total  living_area  floor is_apartment  ...  \\\n",
       "1                2.65            11    18.600000      1          NaN  ...   \n",
       "2                2.65             5    34.300000      4          NaN  ...   \n",
       "5                2.65            12    14.400000      5          NaN  ...   \n",
       "6                2.65            26    10.600000      6          NaN  ...   \n",
       "7                2.65            24    31.736849     22          NaN  ...   \n",
       "...               ...           ...          ...    ...          ...  ...   \n",
       "23692            2.65             5    17.500000      4          NaN  ...   \n",
       "23693            2.60             9    40.000000      8          NaN  ...   \n",
       "23695            2.65             5    38.000000      4          NaN  ...   \n",
       "23696            2.65             3    29.700000      1          NaN  ...   \n",
       "23698            2.50             5    12.300000      1          NaN  ...   \n",
       "\n",
       "       ponds_around3000  ponds_nearest  days_exposition  month  year  weekday  \\\n",
       "1                   0.0            NaN             81.0     12  2018        1   \n",
       "2                   2.0          574.0            558.0      8  2015        3   \n",
       "5                   NaN            NaN             55.0      9  2018        0   \n",
       "6                   0.0            NaN            155.0     11  2017        3   \n",
       "7                   0.0            NaN              NaN      4  2019        3   \n",
       "...                 ...            ...              ...    ...   ...      ...   \n",
       "23692               NaN            NaN            413.0      7  2017        4   \n",
       "23693               1.0          675.0            239.0      8  2016        4   \n",
       "23695               NaN            NaN             45.0      1  2018        0   \n",
       "23696               NaN            NaN              NaN      2  2018        6   \n",
       "23698               NaN            NaN              NaN      7  2017        4   \n",
       "\n",
       "       price_meter  floor_group  living_ratio  kitchen_ratio  \n",
       "1            82920        first      0.460396       0.272277  \n",
       "2            92785        other      0.612500       0.142857  \n",
       "5            95065        other      0.473684       0.296053  \n",
       "6            99195        other      0.284182       0.375335  \n",
       "7           110544        other      0.443252       0.251397  \n",
       "...            ...          ...           ...            ...  \n",
       "23692        45000        other      0.583333       0.200000  \n",
       "23693        73717        other      0.641026       0.128205  \n",
       "23695        52542        other      0.644068       0.135593  \n",
       "23696        44091        first      0.523810       0.000000  \n",
       "23698        41795        first      0.380805       0.278638  \n",
       "\n",
       "[19546 rows x 29 columns]"
      ]
     },
     "execution_count": 29,
     "metadata": {},
     "output_type": "execute_result"
    }
   ],
   "source": [
    "data_filtered = data.query('last_price < 12000000 and total_area < 110 and rooms < 6 and 2.4 < ceiling_height < 2.9')\n",
    "data_filtered"
   ]
  },
  {
   "cell_type": "markdown",
   "metadata": {},
   "source": [
    "Таким образом, мы убрали всего (23699 - 19546 =) 4153 строк с редкими значениями"
   ]
  },
  {
   "cell_type": "markdown",
   "metadata": {},
   "source": [
    "Посмотрим, зависит ли цена от площади, числа комнат, удалённости от центра."
   ]
  },
  {
   "cell_type": "code",
   "execution_count": 30,
   "metadata": {},
   "outputs": [
    {
     "data": {
      "text/plain": [
       "<matplotlib.axes._subplots.AxesSubplot at 0x7f11e5e456d0>"
      ]
     },
     "execution_count": 30,
     "metadata": {},
     "output_type": "execute_result"
    },
    {
     "data": {
      "image/png": "[encoded data removed]",
      "text/plain": [
       "<Figure size 864x360 with 1 Axes>"
      ]
     },
     "metadata": {
      "needs_background": "light"
     },
     "output_type": "display_data"
    }
   ],
   "source": [
    "(\n",
    "    data_filtered\n",
    "    .pivot_table(index='total_area', values='last_price')\n",
    "    .plot(grid=True, figsize=(12, 5))\n",
    ")"
   ]
  },
  {
   "cell_type": "code",
   "execution_count": 31,
   "metadata": {
    "scrolled": true
   },
   "outputs": [
    {
     "data": {
      "text/plain": [
       "<matplotlib.axes._subplots.AxesSubplot at 0x7f11e60ea6d0>"
      ]
     },
     "execution_count": 31,
     "metadata": {},
     "output_type": "execute_result"
    },
    {
     "data": {
      "image/png": "[encoded data removed]",
      "text/plain": [
       "<Figure size 864x360 with 1 Axes>"
      ]
     },
     "metadata": {
      "needs_background": "light"
     },
     "output_type": "display_data"
    }
   ],
   "source": [
    "(\n",
    "    data_filtered\n",
    "    .pivot_table(index='rooms', values='last_price')\n",
    "    .plot(grid=True, figsize=(12, 5))\n",
    ")"
   ]
  },
  {
   "cell_type": "code",
   "execution_count": 32,
   "metadata": {
    "scrolled": true
   },
   "outputs": [
    {
     "data": {
      "text/plain": [
       "-0.3061570822232006"
      ]
     },
     "metadata": {},
     "output_type": "display_data"
    },
    {
     "data": {
      "image/png": "[encoded data removed]",
      "text/plain": [
       "<Figure size 576x432 with 2 Axes>"
      ]
     },
     "metadata": {
      "needs_background": "light"
     },
     "output_type": "display_data"
    }
   ],
   "source": [
    "data_filtered.plot(x='cityCenters_nearest', y='last_price', kind='hexbin', gridsize=30, figsize=(8, 6), sharex=False, grid=True) \n",
    "display(data_filtered['last_price'].corr(data_filtered['cityCenters_nearest']))"
   ]
  },
  {
   "cell_type": "markdown",
   "metadata": {},
   "source": [
    "Из графиков видно, что цена напрямую зависит от площади и количества комнат. А с увеличением расстояния от центра, напротив,  цена падает, то есть зависимость этих показателей обратная."
   ]
  },
  {
   "cell_type": "markdown",
   "metadata": {},
   "source": [
    "Изучим зависимость цены от того, на каком этаже расположена квартира: первом, последнем или другом. "
   ]
  },
  {
   "cell_type": "code",
   "execution_count": 33,
   "metadata": {
    "scrolled": true
   },
   "outputs": [
    {
     "data": {
      "text/plain": [
       "<matplotlib.axes._subplots.AxesSubplot at 0x7f11e5e9ad90>"
      ]
     },
     "execution_count": 33,
     "metadata": {},
     "output_type": "execute_result"
    },
    {
     "data": {
      "image/png": "[encoded data removed]",
      "text/plain": [
       "<Figure size 648x216 with 1 Axes>"
      ]
     },
     "metadata": {
      "needs_background": "light"
     },
     "output_type": "display_data"
    }
   ],
   "source": [
    "(\n",
    "    data_filtered\n",
    "    .pivot_table(index='floor_group', values='last_price')\n",
    "    .plot(grid=True, figsize=(9, 3))\n",
    ")"
   ]
  },
  {
   "cell_type": "markdown",
   "metadata": {},
   "source": [
    "Первый и последний этаж считаются менее ликвидными - это и отражает график."
   ]
  },
  {
   "cell_type": "markdown",
   "metadata": {},
   "source": [
    "Посчитаем зависимость цены от даты размещения: дня недели, месяца и года."
   ]
  },
  {
   "cell_type": "code",
   "execution_count": 34,
   "metadata": {
    "scrolled": true
   },
   "outputs": [
    {
     "data": {
      "text/plain": [
       "<matplotlib.axes._subplots.AxesSubplot at 0x7f11e5ff42d0>"
      ]
     },
     "execution_count": 34,
     "metadata": {},
     "output_type": "execute_result"
    },
    {
     "data": {
      "image/png": "[encoded data removed]",
      "text/plain": [
       "<Figure size 648x216 with 1 Axes>"
      ]
     },
     "metadata": {
      "needs_background": "light"
     },
     "output_type": "display_data"
    }
   ],
   "source": [
    "(\n",
    "    data_filtered\n",
    "    .pivot_table(index='month', values='last_price')\n",
    "    .plot(grid=True, figsize=(9, 3))\n",
    ")"
   ]
  },
  {
   "cell_type": "code",
   "execution_count": 35,
   "metadata": {
    "scrolled": true
   },
   "outputs": [
    {
     "data": {
      "text/plain": [
       "<matplotlib.axes._subplots.AxesSubplot at 0x7f11e6258190>"
      ]
     },
     "execution_count": 35,
     "metadata": {},
     "output_type": "execute_result"
    },
    {
     "data": {
      "image/png": "[encoded data removed]",
      "text/plain": [
       "<Figure size 648x216 with 1 Axes>"
      ]
     },
     "metadata": {
      "needs_background": "light"
     },
     "output_type": "display_data"
    }
   ],
   "source": [
    "(\n",
    "    data_filtered\n",
    "    .pivot_table(index='year', values='last_price')\n",
    "    .plot(grid=True, figsize=(9, 3))\n",
    ")"
   ]
  },
  {
   "cell_type": "code",
   "execution_count": 36,
   "metadata": {},
   "outputs": [
    {
     "data": {
      "text/plain": [
       "<matplotlib.axes._subplots.AxesSubplot at 0x7f11e60f3550>"
      ]
     },
     "execution_count": 36,
     "metadata": {},
     "output_type": "execute_result"
    },
    {
     "data": {
      "image/png": "[encoded data removed]",
      "text/plain": [
       "<Figure size 648x216 with 1 Axes>"
      ]
     },
     "metadata": {
      "needs_background": "light"
     },
     "output_type": "display_data"
    }
   ],
   "source": [
    "(\n",
    "    data_filtered\n",
    "    .pivot_table(index='weekday', values='last_price')\n",
    "    .plot(grid=True, figsize=(9, 3))\n",
    ")"
   ]
  },
  {
   "cell_type": "markdown",
   "metadata": {},
   "source": [
    "На времени размещения объявлений сказывается сезонность продаж недвижимости - активность продаж падает летом в период отрусков. Уменьшение количества объявлений также видо в выходные, что обусловлено тем, что в выходные большинство риелторских агенств не работает. Что касается распределения предложений по годам, то из графика видно падения их количества после кризиса конца 2014 -  начала 2015, связанного с введением санкций в отношении России, падения курса рубля и, как следствие, снижением деловой активности. Количество предложений стало восстанавливаться лишь в 2018-2019 с восстановлением экономики."
   ]
  },
  {
   "cell_type": "markdown",
   "metadata": {},
   "source": [
    "Выберем 10 населённых пунктов с наибольшим числом объявлений. Посчитаем среднюю цену квадратного метра в этих населённых пунктах. "
   ]
  },
  {
   "cell_type": "code",
   "execution_count": 37,
   "metadata": {},
   "outputs": [
    {
     "data": {
      "text/html": [
       "<div>\n",
       "<style scoped>\n",
       "    .dataframe tbody tr th:only-of-type {\n",
       "        vertical-align: middle;\n",
       "    }\n",
       "\n",
       "    .dataframe tbody tr th {\n",
       "        vertical-align: top;\n",
       "    }\n",
       "\n",
       "    .dataframe thead tr th {\n",
       "        text-align: left;\n",
       "    }\n",
       "\n",
       "    .dataframe thead tr:last-of-type th {\n",
       "        text-align: right;\n",
       "    }\n",
       "</style>\n",
       "<table border=\"1\" class=\"dataframe\">\n",
       "  <thead>\n",
       "    <tr>\n",
       "      <th></th>\n",
       "      <th colspan=\"2\" halign=\"left\">price_meter</th>\n",
       "    </tr>\n",
       "    <tr>\n",
       "      <th></th>\n",
       "      <th>count</th>\n",
       "      <th>mean</th>\n",
       "    </tr>\n",
       "    <tr>\n",
       "      <th>locality_name</th>\n",
       "      <th></th>\n",
       "      <th></th>\n",
       "    </tr>\n",
       "  </thead>\n",
       "  <tbody>\n",
       "    <tr>\n",
       "      <td>Санкт-Петербург</td>\n",
       "      <td>12069</td>\n",
       "      <td>104821.824509</td>\n",
       "    </tr>\n",
       "    <tr>\n",
       "      <td>Мурино</td>\n",
       "      <td>583</td>\n",
       "      <td>86078.447684</td>\n",
       "    </tr>\n",
       "    <tr>\n",
       "      <td>Кудрово</td>\n",
       "      <td>466</td>\n",
       "      <td>95192.122318</td>\n",
       "    </tr>\n",
       "    <tr>\n",
       "      <td>Шушары</td>\n",
       "      <td>431</td>\n",
       "      <td>78716.888631</td>\n",
       "    </tr>\n",
       "    <tr>\n",
       "      <td>Всеволожск</td>\n",
       "      <td>380</td>\n",
       "      <td>67109.531579</td>\n",
       "    </tr>\n",
       "    <tr>\n",
       "      <td>Парголово</td>\n",
       "      <td>325</td>\n",
       "      <td>90416.778462</td>\n",
       "    </tr>\n",
       "    <tr>\n",
       "      <td>Колпино</td>\n",
       "      <td>315</td>\n",
       "      <td>75407.168254</td>\n",
       "    </tr>\n",
       "    <tr>\n",
       "      <td>Пушкин</td>\n",
       "      <td>300</td>\n",
       "      <td>99697.276667</td>\n",
       "    </tr>\n",
       "    <tr>\n",
       "      <td>Гатчина</td>\n",
       "      <td>283</td>\n",
       "      <td>68340.402827</td>\n",
       "    </tr>\n",
       "    <tr>\n",
       "      <td>Выборг</td>\n",
       "      <td>205</td>\n",
       "      <td>57680.029268</td>\n",
       "    </tr>\n",
       "  </tbody>\n",
       "</table>\n",
       "</div>"
      ],
      "text/plain": [
       "                price_meter               \n",
       "                      count           mean\n",
       "locality_name                             \n",
       "Санкт-Петербург       12069  104821.824509\n",
       "Мурино                  583   86078.447684\n",
       "Кудрово                 466   95192.122318\n",
       "Шушары                  431   78716.888631\n",
       "Всеволожск              380   67109.531579\n",
       "Парголово               325   90416.778462\n",
       "Колпино                 315   75407.168254\n",
       "Пушкин                  300   99697.276667\n",
       "Гатчина                 283   68340.402827\n",
       "Выборг                  205   57680.029268"
      ]
     },
     "execution_count": 37,
     "metadata": {},
     "output_type": "execute_result"
    }
   ],
   "source": [
    "data_filtered.groupby('locality_name').agg({'price_meter': ['count', 'mean']}).sort_values(by=('price_meter', 'count'), ascending=False).head(10)"
   ]
  },
  {
   "cell_type": "markdown",
   "metadata": {},
   "source": [
    "Выделим населённые пункты с самой высокой и низкой стоимостью жилья."
   ]
  },
  {
   "cell_type": "code",
   "execution_count": 38,
   "metadata": {},
   "outputs": [
    {
     "data": {
      "text/html": [
       "<div>\n",
       "<style scoped>\n",
       "    .dataframe tbody tr th:only-of-type {\n",
       "        vertical-align: middle;\n",
       "    }\n",
       "\n",
       "    .dataframe tbody tr th {\n",
       "        vertical-align: top;\n",
       "    }\n",
       "\n",
       "    .dataframe thead tr th {\n",
       "        text-align: left;\n",
       "    }\n",
       "\n",
       "    .dataframe thead tr:last-of-type th {\n",
       "        text-align: right;\n",
       "    }\n",
       "</style>\n",
       "<table border=\"1\" class=\"dataframe\">\n",
       "  <thead>\n",
       "    <tr>\n",
       "      <th></th>\n",
       "      <th colspan=\"2\" halign=\"left\">price_meter</th>\n",
       "    </tr>\n",
       "    <tr>\n",
       "      <th></th>\n",
       "      <th>count</th>\n",
       "      <th>mean</th>\n",
       "    </tr>\n",
       "    <tr>\n",
       "      <th>locality_name</th>\n",
       "      <th></th>\n",
       "      <th></th>\n",
       "    </tr>\n",
       "  </thead>\n",
       "  <tbody>\n",
       "    <tr>\n",
       "      <td>Лисий Нос</td>\n",
       "      <td>2</td>\n",
       "      <td>113728.000000</td>\n",
       "    </tr>\n",
       "    <tr>\n",
       "      <td>Санкт-Петербург</td>\n",
       "      <td>12069</td>\n",
       "      <td>104821.824509</td>\n",
       "    </tr>\n",
       "    <tr>\n",
       "      <td>Сестрорецк</td>\n",
       "      <td>143</td>\n",
       "      <td>100878.244755</td>\n",
       "    </tr>\n",
       "    <tr>\n",
       "      <td>Зеленогорск</td>\n",
       "      <td>20</td>\n",
       "      <td>100123.450000</td>\n",
       "    </tr>\n",
       "    <tr>\n",
       "      <td>Пушкин</td>\n",
       "      <td>300</td>\n",
       "      <td>99697.276667</td>\n",
       "    </tr>\n",
       "  </tbody>\n",
       "</table>\n",
       "</div>"
      ],
      "text/plain": [
       "                price_meter               \n",
       "                      count           mean\n",
       "locality_name                             \n",
       "Лисий Нос                 2  113728.000000\n",
       "Санкт-Петербург       12069  104821.824509\n",
       "Сестрорецк              143  100878.244755\n",
       "Зеленогорск              20  100123.450000\n",
       "Пушкин                  300   99697.276667"
      ]
     },
     "metadata": {},
     "output_type": "display_data"
    },
    {
     "data": {
      "text/html": [
       "<div>\n",
       "<style scoped>\n",
       "    .dataframe tbody tr th:only-of-type {\n",
       "        vertical-align: middle;\n",
       "    }\n",
       "\n",
       "    .dataframe tbody tr th {\n",
       "        vertical-align: top;\n",
       "    }\n",
       "\n",
       "    .dataframe thead tr th {\n",
       "        text-align: left;\n",
       "    }\n",
       "\n",
       "    .dataframe thead tr:last-of-type th {\n",
       "        text-align: right;\n",
       "    }\n",
       "</style>\n",
       "<table border=\"1\" class=\"dataframe\">\n",
       "  <thead>\n",
       "    <tr>\n",
       "      <th></th>\n",
       "      <th colspan=\"2\" halign=\"left\">price_meter</th>\n",
       "    </tr>\n",
       "    <tr>\n",
       "      <th></th>\n",
       "      <th>count</th>\n",
       "      <th>mean</th>\n",
       "    </tr>\n",
       "    <tr>\n",
       "      <th>locality_name</th>\n",
       "      <th></th>\n",
       "      <th></th>\n",
       "    </tr>\n",
       "  </thead>\n",
       "  <tbody>\n",
       "    <tr>\n",
       "      <td>Старополье</td>\n",
       "      <td>3</td>\n",
       "      <td>11206.0</td>\n",
       "    </tr>\n",
       "    <tr>\n",
       "      <td>Свирь</td>\n",
       "      <td>2</td>\n",
       "      <td>11481.0</td>\n",
       "    </tr>\n",
       "    <tr>\n",
       "      <td>Вахнова Кара</td>\n",
       "      <td>1</td>\n",
       "      <td>11688.0</td>\n",
       "    </tr>\n",
       "    <tr>\n",
       "      <td>Выскатка</td>\n",
       "      <td>2</td>\n",
       "      <td>12335.0</td>\n",
       "    </tr>\n",
       "    <tr>\n",
       "      <td>Совхозный</td>\n",
       "      <td>2</td>\n",
       "      <td>12628.5</td>\n",
       "    </tr>\n",
       "  </tbody>\n",
       "</table>\n",
       "</div>"
      ],
      "text/plain": [
       "              price_meter         \n",
       "                    count     mean\n",
       "locality_name                     \n",
       "Старополье              3  11206.0\n",
       "Свирь                   2  11481.0\n",
       "Вахнова Кара            1  11688.0\n",
       "Выскатка                2  12335.0\n",
       "Совхозный               2  12628.5"
      ]
     },
     "metadata": {},
     "output_type": "display_data"
    }
   ],
   "source": [
    "display(data_filtered.groupby('locality_name').agg({'price_meter': ['count', 'mean']}).sort_values(by=('price_meter', 'mean'), ascending=False).head())\n",
    "display(data_filtered.groupby('locality_name').agg({'price_meter': ['count', 'mean']}).sort_values(by=('price_meter', 'mean'), ascending=True).head())"
   ]
  },
  {
   "cell_type": "markdown",
   "metadata": {},
   "source": [
    "Выделим квартиры в Санкт-Петербурге. Выясним, какая область входит в центр. Создадим столбец с расстоянием до центра в километрах: округлим до целых значений. После этого посчитаем среднюю цену для каждого километра. Построим график: он должен показывать, как цена зависит от удалённости от центра. Определим границу, где график сильно меняется, — это и будет центральная зона."
   ]
  },
  {
   "cell_type": "code",
   "execution_count": 39,
   "metadata": {
    "scrolled": true
   },
   "outputs": [],
   "source": [
    "data['cityCenters_km'] = (data['cityCenters_nearest'] / 1000).fillna(-1).astype('int64')"
   ]
  },
  {
   "cell_type": "code",
   "execution_count": 40,
   "metadata": {},
   "outputs": [
    {
     "data": {
      "text/html": [
       "<div>\n",
       "<style scoped>\n",
       "    .dataframe tbody tr th:only-of-type {\n",
       "        vertical-align: middle;\n",
       "    }\n",
       "\n",
       "    .dataframe tbody tr th {\n",
       "        vertical-align: top;\n",
       "    }\n",
       "\n",
       "    .dataframe thead tr th {\n",
       "        text-align: left;\n",
       "    }\n",
       "\n",
       "    .dataframe thead tr:last-of-type th {\n",
       "        text-align: right;\n",
       "    }\n",
       "</style>\n",
       "<table border=\"1\" class=\"dataframe\">\n",
       "  <thead>\n",
       "    <tr>\n",
       "      <th></th>\n",
       "      <th colspan=\"2\" halign=\"left\">price_meter</th>\n",
       "    </tr>\n",
       "    <tr>\n",
       "      <th></th>\n",
       "      <th>count</th>\n",
       "      <th>median</th>\n",
       "    </tr>\n",
       "    <tr>\n",
       "      <th>cityCenters_km</th>\n",
       "      <th></th>\n",
       "      <th></th>\n",
       "    </tr>\n",
       "  </thead>\n",
       "  <tbody>\n",
       "    <tr>\n",
       "      <td>-1</td>\n",
       "      <td>5519</td>\n",
       "      <td>60493.0</td>\n",
       "    </tr>\n",
       "    <tr>\n",
       "      <td>0</td>\n",
       "      <td>86</td>\n",
       "      <td>138536.5</td>\n",
       "    </tr>\n",
       "    <tr>\n",
       "      <td>1</td>\n",
       "      <td>242</td>\n",
       "      <td>123966.0</td>\n",
       "    </tr>\n",
       "    <tr>\n",
       "      <td>2</td>\n",
       "      <td>307</td>\n",
       "      <td>116363.0</td>\n",
       "    </tr>\n",
       "    <tr>\n",
       "      <td>3</td>\n",
       "      <td>530</td>\n",
       "      <td>110079.5</td>\n",
       "    </tr>\n",
       "    <tr>\n",
       "      <td>...</td>\n",
       "      <td>...</td>\n",
       "      <td>...</td>\n",
       "    </tr>\n",
       "    <tr>\n",
       "      <td>60</td>\n",
       "      <td>1</td>\n",
       "      <td>56250.0</td>\n",
       "    </tr>\n",
       "    <tr>\n",
       "      <td>61</td>\n",
       "      <td>1</td>\n",
       "      <td>60606.0</td>\n",
       "    </tr>\n",
       "    <tr>\n",
       "      <td>62</td>\n",
       "      <td>2</td>\n",
       "      <td>65807.0</td>\n",
       "    </tr>\n",
       "    <tr>\n",
       "      <td>64</td>\n",
       "      <td>1</td>\n",
       "      <td>67843.0</td>\n",
       "    </tr>\n",
       "    <tr>\n",
       "      <td>65</td>\n",
       "      <td>4</td>\n",
       "      <td>73504.0</td>\n",
       "    </tr>\n",
       "  </tbody>\n",
       "</table>\n",
       "<p>62 rows × 2 columns</p>\n",
       "</div>"
      ],
      "text/plain": [
       "               price_meter          \n",
       "                     count    median\n",
       "cityCenters_km                      \n",
       "-1                    5519   60493.0\n",
       " 0                      86  138536.5\n",
       " 1                     242  123966.0\n",
       " 2                     307  116363.0\n",
       " 3                     530  110079.5\n",
       "...                    ...       ...\n",
       " 60                      1   56250.0\n",
       " 61                      1   60606.0\n",
       " 62                      2   65807.0\n",
       " 64                      1   67843.0\n",
       " 65                      4   73504.0\n",
       "\n",
       "[62 rows x 2 columns]"
      ]
     },
     "execution_count": 40,
     "metadata": {},
     "output_type": "execute_result"
    }
   ],
   "source": [
    "data.groupby('cityCenters_km').agg({'price_meter': ['count', 'median']}).sort_values(by='cityCenters_km')"
   ]
  },
  {
   "cell_type": "code",
   "execution_count": 41,
   "metadata": {
    "scrolled": true
   },
   "outputs": [
    {
     "data": {
      "text/plain": [
       "<matplotlib.axes._subplots.AxesSubplot at 0x7f11e616f090>"
      ]
     },
     "execution_count": 41,
     "metadata": {},
     "output_type": "execute_result"
    },
    {
     "data": {
      "image/png": "[encoded data removed]",
      "text/plain": [
       "<Figure size 864x360 with 1 Axes>"
      ]
     },
     "metadata": {
      "needs_background": "light"
     },
     "output_type": "display_data"
    }
   ],
   "source": [
    "(\n",
    "    data\n",
    "    .pivot_table(index='cityCenters_km', values='price_meter')\n",
    "    .plot(grid=True, figsize=(12, 5))\n",
    ")"
   ]
  },
  {
   "cell_type": "markdown",
   "metadata": {},
   "source": [
    "Граница, где график сильно меняется, — 3 км. Это и будет центральная зона. "
   ]
  },
  {
   "cell_type": "markdown",
   "metadata": {},
   "source": [
    "Выделим сегмент квартир в центре. Проанализируем эту территорию и изучим следующие параметры: площадь, цена, число комнат, высота потолков."
   ]
  },
  {
   "cell_type": "code",
   "execution_count": 42,
   "metadata": {},
   "outputs": [
    {
     "data": {
      "text/html": [
       "<div>\n",
       "<style scoped>\n",
       "    .dataframe tbody tr th:only-of-type {\n",
       "        vertical-align: middle;\n",
       "    }\n",
       "\n",
       "    .dataframe tbody tr th {\n",
       "        vertical-align: top;\n",
       "    }\n",
       "\n",
       "    .dataframe thead th {\n",
       "        text-align: right;\n",
       "    }\n",
       "</style>\n",
       "<table border=\"1\" class=\"dataframe\">\n",
       "  <thead>\n",
       "    <tr style=\"text-align: right;\">\n",
       "      <th></th>\n",
       "      <th>total_images</th>\n",
       "      <th>last_price</th>\n",
       "      <th>total_area</th>\n",
       "      <th>first_day_exposition</th>\n",
       "      <th>rooms</th>\n",
       "      <th>ceiling_height</th>\n",
       "      <th>floors_total</th>\n",
       "      <th>living_area</th>\n",
       "      <th>floor</th>\n",
       "      <th>is_apartment</th>\n",
       "      <th>...</th>\n",
       "      <th>ponds_nearest</th>\n",
       "      <th>days_exposition</th>\n",
       "      <th>month</th>\n",
       "      <th>year</th>\n",
       "      <th>weekday</th>\n",
       "      <th>price_meter</th>\n",
       "      <th>floor_group</th>\n",
       "      <th>living_ratio</th>\n",
       "      <th>kitchen_ratio</th>\n",
       "      <th>cityCenters_km</th>\n",
       "    </tr>\n",
       "  </thead>\n",
       "  <tbody>\n",
       "    <tr>\n",
       "      <td>24</td>\n",
       "      <td>8</td>\n",
       "      <td>6500000.0</td>\n",
       "      <td>97.2</td>\n",
       "      <td>2015-10-31</td>\n",
       "      <td>2</td>\n",
       "      <td>2.65</td>\n",
       "      <td>3</td>\n",
       "      <td>46.500000</td>\n",
       "      <td>1</td>\n",
       "      <td>NaN</td>\n",
       "      <td>...</td>\n",
       "      <td>124.0</td>\n",
       "      <td>265.0</td>\n",
       "      <td>10</td>\n",
       "      <td>2015</td>\n",
       "      <td>5</td>\n",
       "      <td>66872</td>\n",
       "      <td>first</td>\n",
       "      <td>0.478395</td>\n",
       "      <td>0.195473</td>\n",
       "      <td>2</td>\n",
       "    </tr>\n",
       "    <tr>\n",
       "      <td>35</td>\n",
       "      <td>6</td>\n",
       "      <td>15500000.0</td>\n",
       "      <td>149.0</td>\n",
       "      <td>2017-06-26</td>\n",
       "      <td>5</td>\n",
       "      <td>2.65</td>\n",
       "      <td>5</td>\n",
       "      <td>104.000000</td>\n",
       "      <td>4</td>\n",
       "      <td>NaN</td>\n",
       "      <td>...</td>\n",
       "      <td>779.0</td>\n",
       "      <td>644.0</td>\n",
       "      <td>6</td>\n",
       "      <td>2017</td>\n",
       "      <td>0</td>\n",
       "      <td>104026</td>\n",
       "      <td>other</td>\n",
       "      <td>0.697987</td>\n",
       "      <td>0.114094</td>\n",
       "      <td>3</td>\n",
       "    </tr>\n",
       "    <tr>\n",
       "      <td>99</td>\n",
       "      <td>32</td>\n",
       "      <td>9600000.0</td>\n",
       "      <td>90.0</td>\n",
       "      <td>2017-09-26</td>\n",
       "      <td>4</td>\n",
       "      <td>2.65</td>\n",
       "      <td>5</td>\n",
       "      <td>67.000000</td>\n",
       "      <td>2</td>\n",
       "      <td>NaN</td>\n",
       "      <td>...</td>\n",
       "      <td>NaN</td>\n",
       "      <td>104.0</td>\n",
       "      <td>9</td>\n",
       "      <td>2017</td>\n",
       "      <td>1</td>\n",
       "      <td>106666</td>\n",
       "      <td>other</td>\n",
       "      <td>0.744444</td>\n",
       "      <td>0.088889</td>\n",
       "      <td>2</td>\n",
       "    </tr>\n",
       "    <tr>\n",
       "      <td>136</td>\n",
       "      <td>16</td>\n",
       "      <td>6500000.0</td>\n",
       "      <td>51.8</td>\n",
       "      <td>2018-08-01</td>\n",
       "      <td>2</td>\n",
       "      <td>3.45</td>\n",
       "      <td>6</td>\n",
       "      <td>25.600000</td>\n",
       "      <td>2</td>\n",
       "      <td>NaN</td>\n",
       "      <td>...</td>\n",
       "      <td>812.0</td>\n",
       "      <td>163.0</td>\n",
       "      <td>8</td>\n",
       "      <td>2018</td>\n",
       "      <td>2</td>\n",
       "      <td>125482</td>\n",
       "      <td>other</td>\n",
       "      <td>0.494208</td>\n",
       "      <td>0.135135</td>\n",
       "      <td>3</td>\n",
       "    </tr>\n",
       "    <tr>\n",
       "      <td>138</td>\n",
       "      <td>8</td>\n",
       "      <td>4800000.0</td>\n",
       "      <td>40.0</td>\n",
       "      <td>2017-11-18</td>\n",
       "      <td>2</td>\n",
       "      <td>2.65</td>\n",
       "      <td>3</td>\n",
       "      <td>29.000000</td>\n",
       "      <td>2</td>\n",
       "      <td>NaN</td>\n",
       "      <td>...</td>\n",
       "      <td>729.0</td>\n",
       "      <td>80.0</td>\n",
       "      <td>11</td>\n",
       "      <td>2017</td>\n",
       "      <td>5</td>\n",
       "      <td>120000</td>\n",
       "      <td>other</td>\n",
       "      <td>0.725000</td>\n",
       "      <td>0.150000</td>\n",
       "      <td>2</td>\n",
       "    </tr>\n",
       "    <tr>\n",
       "      <td>...</td>\n",
       "      <td>...</td>\n",
       "      <td>...</td>\n",
       "      <td>...</td>\n",
       "      <td>...</td>\n",
       "      <td>...</td>\n",
       "      <td>...</td>\n",
       "      <td>...</td>\n",
       "      <td>...</td>\n",
       "      <td>...</td>\n",
       "      <td>...</td>\n",
       "      <td>...</td>\n",
       "      <td>...</td>\n",
       "      <td>...</td>\n",
       "      <td>...</td>\n",
       "      <td>...</td>\n",
       "      <td>...</td>\n",
       "      <td>...</td>\n",
       "      <td>...</td>\n",
       "      <td>...</td>\n",
       "      <td>...</td>\n",
       "      <td>...</td>\n",
       "    </tr>\n",
       "    <tr>\n",
       "      <td>23521</td>\n",
       "      <td>13</td>\n",
       "      <td>8500000.0</td>\n",
       "      <td>65.0</td>\n",
       "      <td>2018-11-01</td>\n",
       "      <td>2</td>\n",
       "      <td>2.65</td>\n",
       "      <td>4</td>\n",
       "      <td>44.000000</td>\n",
       "      <td>2</td>\n",
       "      <td>NaN</td>\n",
       "      <td>...</td>\n",
       "      <td>NaN</td>\n",
       "      <td>NaN</td>\n",
       "      <td>11</td>\n",
       "      <td>2018</td>\n",
       "      <td>3</td>\n",
       "      <td>130769</td>\n",
       "      <td>other</td>\n",
       "      <td>0.676923</td>\n",
       "      <td>0.230769</td>\n",
       "      <td>3</td>\n",
       "    </tr>\n",
       "    <tr>\n",
       "      <td>23555</td>\n",
       "      <td>5</td>\n",
       "      <td>15350000.0</td>\n",
       "      <td>158.5</td>\n",
       "      <td>2019-03-07</td>\n",
       "      <td>7</td>\n",
       "      <td>2.95</td>\n",
       "      <td>7</td>\n",
       "      <td>57.400000</td>\n",
       "      <td>7</td>\n",
       "      <td>NaN</td>\n",
       "      <td>...</td>\n",
       "      <td>NaN</td>\n",
       "      <td>NaN</td>\n",
       "      <td>3</td>\n",
       "      <td>2019</td>\n",
       "      <td>3</td>\n",
       "      <td>96845</td>\n",
       "      <td>last</td>\n",
       "      <td>0.362145</td>\n",
       "      <td>0.075710</td>\n",
       "      <td>3</td>\n",
       "    </tr>\n",
       "    <tr>\n",
       "      <td>23568</td>\n",
       "      <td>1</td>\n",
       "      <td>8725246.0</td>\n",
       "      <td>48.2</td>\n",
       "      <td>2019-04-09</td>\n",
       "      <td>1</td>\n",
       "      <td>2.90</td>\n",
       "      <td>8</td>\n",
       "      <td>17.700000</td>\n",
       "      <td>2</td>\n",
       "      <td>NaN</td>\n",
       "      <td>...</td>\n",
       "      <td>671.0</td>\n",
       "      <td>NaN</td>\n",
       "      <td>4</td>\n",
       "      <td>2019</td>\n",
       "      <td>1</td>\n",
       "      <td>181021</td>\n",
       "      <td>other</td>\n",
       "      <td>0.367220</td>\n",
       "      <td>0.228216</td>\n",
       "      <td>3</td>\n",
       "    </tr>\n",
       "    <tr>\n",
       "      <td>23602</td>\n",
       "      <td>0</td>\n",
       "      <td>8700000.0</td>\n",
       "      <td>73.0</td>\n",
       "      <td>2019-01-23</td>\n",
       "      <td>3</td>\n",
       "      <td>2.65</td>\n",
       "      <td>4</td>\n",
       "      <td>47.387941</td>\n",
       "      <td>4</td>\n",
       "      <td>NaN</td>\n",
       "      <td>...</td>\n",
       "      <td>151.0</td>\n",
       "      <td>34.0</td>\n",
       "      <td>1</td>\n",
       "      <td>2019</td>\n",
       "      <td>2</td>\n",
       "      <td>119178</td>\n",
       "      <td>last</td>\n",
       "      <td>0.649150</td>\n",
       "      <td>0.000000</td>\n",
       "      <td>2</td>\n",
       "    </tr>\n",
       "    <tr>\n",
       "      <td>23648</td>\n",
       "      <td>14</td>\n",
       "      <td>10100000.0</td>\n",
       "      <td>78.0</td>\n",
       "      <td>2017-05-12</td>\n",
       "      <td>3</td>\n",
       "      <td>3.27</td>\n",
       "      <td>5</td>\n",
       "      <td>48.600000</td>\n",
       "      <td>5</td>\n",
       "      <td>NaN</td>\n",
       "      <td>...</td>\n",
       "      <td>117.0</td>\n",
       "      <td>621.0</td>\n",
       "      <td>5</td>\n",
       "      <td>2017</td>\n",
       "      <td>4</td>\n",
       "      <td>129487</td>\n",
       "      <td>last</td>\n",
       "      <td>0.623077</td>\n",
       "      <td>0.102564</td>\n",
       "      <td>1</td>\n",
       "    </tr>\n",
       "  </tbody>\n",
       "</table>\n",
       "<p>1165 rows × 30 columns</p>\n",
       "</div>"
      ],
      "text/plain": [
       "       total_images  last_price  total_area first_day_exposition  rooms  \\\n",
       "24                8   6500000.0        97.2           2015-10-31      2   \n",
       "35                6  15500000.0       149.0           2017-06-26      5   \n",
       "99               32   9600000.0        90.0           2017-09-26      4   \n",
       "136              16   6500000.0        51.8           2018-08-01      2   \n",
       "138               8   4800000.0        40.0           2017-11-18      2   \n",
       "...             ...         ...         ...                  ...    ...   \n",
       "23521            13   8500000.0        65.0           2018-11-01      2   \n",
       "23555             5  15350000.0       158.5           2019-03-07      7   \n",
       "23568             1   8725246.0        48.2           2019-04-09      1   \n",
       "23602             0   8700000.0        73.0           2019-01-23      3   \n",
       "23648            14  10100000.0        78.0           2017-05-12      3   \n",
       "\n",
       "       ceiling_height  floors_total  living_area  floor is_apartment  ...  \\\n",
       "24               2.65             3    46.500000      1          NaN  ...   \n",
       "35               2.65             5   104.000000      4          NaN  ...   \n",
       "99               2.65             5    67.000000      2          NaN  ...   \n",
       "136              3.45             6    25.600000      2          NaN  ...   \n",
       "138              2.65             3    29.000000      2          NaN  ...   \n",
       "...               ...           ...          ...    ...          ...  ...   \n",
       "23521            2.65             4    44.000000      2          NaN  ...   \n",
       "23555            2.95             7    57.400000      7          NaN  ...   \n",
       "23568            2.90             8    17.700000      2          NaN  ...   \n",
       "23602            2.65             4    47.387941      4          NaN  ...   \n",
       "23648            3.27             5    48.600000      5          NaN  ...   \n",
       "\n",
       "       ponds_nearest  days_exposition  month  year weekday  price_meter  \\\n",
       "24             124.0            265.0     10  2015       5        66872   \n",
       "35             779.0            644.0      6  2017       0       104026   \n",
       "99               NaN            104.0      9  2017       1       106666   \n",
       "136            812.0            163.0      8  2018       2       125482   \n",
       "138            729.0             80.0     11  2017       5       120000   \n",
       "...              ...              ...    ...   ...     ...          ...   \n",
       "23521            NaN              NaN     11  2018       3       130769   \n",
       "23555            NaN              NaN      3  2019       3        96845   \n",
       "23568          671.0              NaN      4  2019       1       181021   \n",
       "23602          151.0             34.0      1  2019       2       119178   \n",
       "23648          117.0            621.0      5  2017       4       129487   \n",
       "\n",
       "       floor_group  living_ratio  kitchen_ratio  cityCenters_km  \n",
       "24           first      0.478395       0.195473               2  \n",
       "35           other      0.697987       0.114094               3  \n",
       "99           other      0.744444       0.088889               2  \n",
       "136          other      0.494208       0.135135               3  \n",
       "138          other      0.725000       0.150000               2  \n",
       "...            ...           ...            ...             ...  \n",
       "23521        other      0.676923       0.230769               3  \n",
       "23555         last      0.362145       0.075710               3  \n",
       "23568        other      0.367220       0.228216               3  \n",
       "23602         last      0.649150       0.000000               2  \n",
       "23648         last      0.623077       0.102564               1  \n",
       "\n",
       "[1165 rows x 30 columns]"
      ]
     },
     "execution_count": 42,
     "metadata": {},
     "output_type": "execute_result"
    }
   ],
   "source": [
    "data_center = data.query('0 <= cityCenters_km <= 3')\n",
    "data_center"
   ]
  },
  {
   "cell_type": "code",
   "execution_count": 43,
   "metadata": {},
   "outputs": [
    {
     "data": {
      "image/png": "[encoded data removed]",
      "text/plain": [
       "<Figure size 432x288 with 1 Axes>"
      ]
     },
     "metadata": {
      "needs_background": "light"
     },
     "output_type": "display_data"
    },
    {
     "data": {
      "text/plain": [
       "count    1165.000000\n",
       "mean       97.371365\n",
       "std        55.659083\n",
       "min        12.000000\n",
       "25%        62.000000\n",
       "50%        84.100000\n",
       "75%       115.200000\n",
       "max       517.000000\n",
       "Name: total_area, dtype: float64"
      ]
     },
     "metadata": {},
     "output_type": "display_data"
    }
   ],
   "source": [
    "# Площадь\n",
    "data_center['total_area'].hist(bins=50, range = ( 0, 500))\n",
    "plt.title('Площадь')\n",
    "plt.show()\n",
    "display(data_center['total_area'].describe())"
   ]
  },
  {
   "cell_type": "markdown",
   "metadata": {},
   "source": [
    "Средний размер площади квартир в центре вырос по сравнению с общими казателями по региону с 52 кв.м. до 84 кв.м."
   ]
  },
  {
   "cell_type": "code",
   "execution_count": 124,
   "metadata": {
    "scrolled": true
   },
   "outputs": [
    {
     "data": {
      "image/png": "[encoded data removed]",
      "text/plain": [
       "<Figure size 432x288 with 1 Axes>"
      ]
     },
     "metadata": {
      "needs_background": "light"
     },
     "output_type": "display_data"
    },
    {
     "data": {
      "text/plain": [
       "count    1.165000e+03\n",
       "mean     1.600476e+07\n",
       "std      3.284043e+07\n",
       "min      2.100000e+06\n",
       "25%      7.000000e+06\n",
       "50%      9.500000e+06\n",
       "75%      1.449000e+07\n",
       "max      7.630000e+08\n",
       "Name: last_price, dtype: float64"
      ]
     },
     "metadata": {},
     "output_type": "display_data"
    }
   ],
   "source": [
    "# Цена\n",
    "data_center['last_price'].hist(bins=50, range = (0, 70000000))\n",
    "plt.title('Цена')\n",
    "plt.show()\n",
    "display(data_center['last_price'].describe())"
   ]
  },
  {
   "cell_type": "markdown",
   "metadata": {},
   "source": [
    "Средняя цена также выросла с 4650 тыс. до 9500 тыс."
   ]
  },
  {
   "cell_type": "code",
   "execution_count": 45,
   "metadata": {
    "scrolled": true
   },
   "outputs": [
    {
     "data": {
      "image/png": "[encoded data removed]",
      "text/plain": [
       "<Figure size 432x288 with 1 Axes>"
      ]
     },
     "metadata": {
      "needs_background": "light"
     },
     "output_type": "display_data"
    },
    {
     "data": {
      "text/plain": [
       "3.103862660944206"
      ]
     },
     "metadata": {},
     "output_type": "display_data"
    }
   ],
   "source": [
    "# Комнаты\n",
    "data_center['rooms'].hist(bins=10, range = ( 0, 10))\n",
    "plt.title('Количество комнат')\n",
    "plt.show()\n",
    "display(data_center['rooms'].mean())"
   ]
  },
  {
   "cell_type": "markdown",
   "metadata": {},
   "source": [
    "Выросло и количество комнат с 2 до 3"
   ]
  },
  {
   "cell_type": "code",
   "execution_count": 46,
   "metadata": {},
   "outputs": [
    {
     "data": {
      "image/png": "[encoded data removed]",
      "text/plain": [
       "<Figure size 432x288 with 1 Axes>"
      ]
     },
     "metadata": {
      "needs_background": "light"
     },
     "output_type": "display_data"
    },
    {
     "data": {
      "text/plain": [
       "3.071081545064377"
      ]
     },
     "metadata": {},
     "output_type": "display_data"
    }
   ],
   "source": [
    "# Высота потолков\n",
    "data_center['ceiling_height'].hist(bins=8, range = (1, 5))\n",
    "plt.title('Высота потолков')\n",
    "plt.show()\n",
    "display(data_center['ceiling_height'].mean())"
   ]
  },
  {
   "cell_type": "markdown",
   "metadata": {},
   "source": [
    "Средняя высота потолков выросла с 2,6 до 3 м."
   ]
  },
  {
   "cell_type": "markdown",
   "metadata": {},
   "source": [
    "Выделим факторы, которые влияют на стоимость квартиры (число комнат, этаж, удалённость от центра, дата размещения объявления). "
   ]
  },
  {
   "cell_type": "code",
   "execution_count": 47,
   "metadata": {},
   "outputs": [
    {
     "data": {
      "text/plain": [
       "<matplotlib.axes._subplots.AxesSubplot at 0x7f11e5f14290>"
      ]
     },
     "execution_count": 47,
     "metadata": {},
     "output_type": "execute_result"
    },
    {
     "data": {
      "image/png": "[encoded data removed]",
      "text/plain": [
       "<Figure size 864x360 with 1 Axes>"
      ]
     },
     "metadata": {
      "needs_background": "light"
     },
     "output_type": "display_data"
    }
   ],
   "source": [
    "# Зависимость цены от даты размещения объявления\n",
    "(\n",
    "    data_center\n",
    "    .pivot_table(index='month', values='last_price')\n",
    "    .plot(grid=True, figsize=(12, 5))\n",
    ")"
   ]
  },
  {
   "cell_type": "markdown",
   "metadata": {},
   "source": [
    "Здесь видим аналогичное падение предложений летом, которое начинается чуть раньше, в мае. Также чуть меньшее падение видно в октябре."
   ]
  },
  {
   "cell_type": "code",
   "execution_count": 48,
   "metadata": {},
   "outputs": [
    {
     "data": {
      "text/plain": [
       "<matplotlib.axes._subplots.AxesSubplot at 0x7f11e6b0a6d0>"
      ]
     },
     "execution_count": 48,
     "metadata": {},
     "output_type": "execute_result"
    },
    {
     "data": {
      "image/png": "[encoded data removed]",
      "text/plain": [
       "<Figure size 864x360 with 1 Axes>"
      ]
     },
     "metadata": {
      "needs_background": "light"
     },
     "output_type": "display_data"
    }
   ],
   "source": [
    "# Зависимость цены от количества комнат\n",
    "(\n",
    "    data_center\n",
    "    .pivot_table(index='rooms', values='last_price')\n",
    "    .plot(grid=True, figsize=(12, 5))\n",
    ")"
   ]
  },
  {
   "cell_type": "markdown",
   "metadata": {},
   "source": [
    "Цена резко возрастает в квартирах от 6 комнат. Обычно это элитное жилье, у которого соответствующая цена."
   ]
  },
  {
   "cell_type": "code",
   "execution_count": 49,
   "metadata": {
    "scrolled": true
   },
   "outputs": [
    {
     "data": {
      "text/plain": [
       "-0.09404269320790165"
      ]
     },
     "metadata": {},
     "output_type": "display_data"
    },
    {
     "data": {
      "image/png": "[encoded data removed]",
      "text/plain": [
       "<Figure size 432x288 with 1 Axes>"
      ]
     },
     "metadata": {
      "needs_background": "light"
     },
     "output_type": "display_data"
    }
   ],
   "source": [
    "data_center.plot(x='cityCenters_nearest', y='last_price', kind='scatter', alpha=0.3) \n",
    "display(data_center['cityCenters_nearest'].corr(data_center['last_price']))"
   ]
  },
  {
   "cell_type": "markdown",
   "metadata": {},
   "source": [
    "В рассматриваемом сегменте расстояние до центра уже не оказывает значимого влияния, это видно из графка и коэффициэнта корреляции."
   ]
  },
  {
   "cell_type": "code",
   "execution_count": 50,
   "metadata": {},
   "outputs": [
    {
     "data": {
      "text/plain": [
       "<matplotlib.axes._subplots.AxesSubplot at 0x7f11e60cfc90>"
      ]
     },
     "execution_count": 50,
     "metadata": {},
     "output_type": "execute_result"
    },
    {
     "data": {
      "image/png": "[encoded data removed]",
      "text/plain": [
       "<Figure size 720x288 with 1 Axes>"
      ]
     },
     "metadata": {
      "needs_background": "light"
     },
     "output_type": "display_data"
    }
   ],
   "source": [
    "# Зависимость цены от этажа\n",
    "(\n",
    "    data_center\n",
    "    .pivot_table(index='floor_group', values='last_price')\n",
    "    .plot(grid=True, figsize=(10, 4))\n",
    ")"
   ]
  },
  {
   "cell_type": "markdown",
   "metadata": {},
   "source": [
    "В этом сегменте также не типична зависимость цены от этажности: из графика вилно, что чем выше этаж, тем выше цена. Это обусловлено видовыми характеристиками в центре Санкт-Петербурга - чем они лучше - тем выше цена. Первые этажи по-прежнему не в почете."
   ]
  },
  {
   "cell_type": "markdown",
   "metadata": {},
   "source": [
    "## Общий вывод"
   ]
  },
  {
   "cell_type": "markdown",
   "metadata": {},
   "source": [
    "Нами установлены следующие средние показатели предложений по продаже квартир в рассматриваемой таблице:\n",
    "- площадь: 52.0\n",
    "- цена: 4650000.0\n",
    "- количество комнат: 2.0\n",
    "- высота потолков: 2.65\n",
    "- продажа квартиры занимает в среднем 95 дней. Вместе с тем, время продажи зависит от количества комнат и стоимости жилья. Наиболее быстро продаются комнаты (0-комнатные квартиры в таблице). Элитное жилье (5 комнат и больше) продается от 200 дней и до нескольких лет, но такого жилья продается единицы и для этого правила есть исключения.\n",
    "Можно считать, что продажи прошли очень быстро, если квартира продалась за неделю. Необычно долго продаются квартиры от 1 года до нескольких лет.\n",
    "\n",
    "Из анализа данных видим следующие особенности:\n",
    "\n",
    "- стоимость жилья более 12000000 является редкой,\n",
    "- площадь жилья более 110 кв. м. также встречается очень редко,\n",
    "- не типичными являются квартиры с количеством комнат более 6,\n",
    "- высота потолков менее 2,4 и более 2,9 является редкостью.\n",
    "\n",
    "Мы исключили 4153 строки с данными редкими значениями.\n",
    "\n",
    "Из отфильтрованных данных видно:\n",
    "\n",
    "- цена напрямую зависит от площади и количества комнат. А с увеличением расстояния от центра, напротив, цена падает, то есть зависимость этих показателей обратная.\n",
    "\n",
    "- первый и последний этаж считаются менее ликвидными.\n",
    "\n",
    "- на времени размещения объявлений сказывается сезонность продаж недвижимости - активность продаж падает летом в период отрусков. Уменьшение количества объявлений также видо в выходные, что обусловлено тем, что в выходные большинство риелторских агенств не работает. Что касается распределения предложений по годам, то из графика видно падения их количества после кризиса конца 2014 - начала 2015, связанного с введением санкций в отношении России, падения курса рубля и, как следствие, снижением деловой активности. Количество предложений стало восстанавливаться лишь в 2018-2019 с восстановлением экономики.\n",
    "\n",
    "- мы выделили 10 населённых пунктов с наибольшим числом объявлений и указали среднюю стоимость жилья в каждом их них. Выделили населённые пункты с самой высокой и низкой стоимостью жилья.\n",
    "\n",
    "\n",
    "Выделив квартиры в Санкт-Петербурге, мы определили центральную зону в радиусе 3 км. \n",
    "Полученные данные отличаются от общих:\n",
    "- Средний размер площади квартир в центре вырос по сравнению с общими казателями по региону с 52 кв.м. до 84 кв.м.\n",
    "- Средняя цена также выросла с 4650 тыс. до 9500 тыс.\n",
    "- Выросло и количество комнат с 2 до 3\n",
    "- Средняя высота потолков выросла с 2,6 до 3 м.\n",
    "\n",
    "Также для данных объявлений в центре Санкт-Петербурга изменились некоторые факторы, которые влияют на стоимость квартиры (число комнат, этаж, удалённость от центра, дата размещения объявления):\n",
    "- видим аналогичное падение предложений летом, которое начинается чуть раньше, в мае. Также чуть меньшее падение видно в октябре, которого небыло в общих данных.\n",
    "- цена резко возрастает в квартирах от 6 комнат. Обычно это элитное жилье, у которого соответствующая цена.\n",
    "- в рассматриваемом сегменте расстояние до центра уже не оказывает значимого влияния, это видно из графка и коэффициэнта корреляции.\n",
    "- в этом сегменте также не типична зависимость цены от этажности: из графика вилно, что чем выше этаж, тем выше цена. Это обусловлено видовыми характеристиками в центре Санкт-Петербурга - чем они лучше - тем выше цена. Первые этажи по-прежнему не в почете."
   ]
  },
  {
   "cell_type": "code",
   "execution_count": 196,
   "metadata": {},
   "outputs": [
    {
     "name": "stdout",
     "output_type": "stream",
     "text": [
      "AxesSubplot(0.125,0.125;0.775x0.755)\n"
     ]
    },
    {
     "data": {
      "image/png": "[encoded data removed]",
      "text/plain": [
       "<Figure size 432x288 with 1 Axes>"
      ]
     },
     "metadata": {
      "needs_background": "light"
     },
     "output_type": "display_data"
    },
    {
     "name": "stdout",
     "output_type": "stream",
     "text": [
      "AxesSubplot(0.125,0.125;0.775x0.755)\n"
     ]
    },
    {
     "data": {
      "image/png": "[encoded data removed]",
      "text/plain": [
       "<Figure size 432x288 with 1 Axes>"
      ]
     },
     "metadata": {
      "needs_background": "light"
     },
     "output_type": "display_data"
    },
    {
     "name": "stdout",
     "output_type": "stream",
     "text": [
      "AxesSubplot(0.125,0.125;0.775x0.755)\n"
     ]
    },
    {
     "data": {
      "image/png": "[encoded data removed]",
      "text/plain": [
       "<Figure size 432x288 with 1 Axes>"
      ]
     },
     "metadata": {
      "needs_background": "light"
     },
     "output_type": "display_data"
    },
    {
     "name": "stdout",
     "output_type": "stream",
     "text": [
      "AxesSubplot(0.125,0.125;0.775x0.755)\n"
     ]
    },
    {
     "data": {
      "image/png": "[encoded data removed]",
      "text/plain": [
       "<Figure size 432x288 with 1 Axes>"
      ]
     },
     "metadata": {
      "needs_background": "light"
     },
     "output_type": "display_data"
    }
   ],
   "source": [
    "columns_hist = ['total_area', 'rooms', 'ceiling_height', 'last_price']\n",
    "\n",
    "for i in columns_hist:\n",
    "    q1 = data[i].quantile(0.25)\n",
    "    q3 = data[i].quantile(0.75)\n",
    "    iqr = q3 - q1\n",
    "    fence_low  = q1-1.5*iqr\n",
    "    fence_high = q3+1.5*iqr\n",
    "    print(data[i].hist(bins=15, range = (fence_low, fence_high)))\n",
    "    plt.title(i)\n",
    "    plt.show()"
   ]
  },
  {
   "cell_type": "code",
   "execution_count": 205,
   "metadata": {},
   "outputs": [
    {
     "name": "stdout",
     "output_type": "stream",
     "text": [
      "AxesSubplot(0.125,0.125;0.775x0.755)\n"
     ]
    },
    {
     "data": {
      "image/png": "[encoded data removed]",
      "text/plain": [
       "<Figure size 432x288 with 1 Axes>"
      ]
     },
     "metadata": {
      "needs_background": "light"
     },
     "output_type": "display_data"
    },
    {
     "name": "stdout",
     "output_type": "stream",
     "text": [
      "AxesSubplot(0.125,0.125;0.775x0.755)\n"
     ]
    },
    {
     "data": {
      "image/png": "[encoded data removed]",
      "text/plain": [
       "<Figure size 432x288 with 1 Axes>"
      ]
     },
     "metadata": {
      "needs_background": "light"
     },
     "output_type": "display_data"
    },
    {
     "name": "stdout",
     "output_type": "stream",
     "text": [
      "AxesSubplot(0.125,0.125;0.775x0.755)\n"
     ]
    },
    {
     "data": {
      "image/png": "[encoded data removed]",
      "text/plain": [
       "<Figure size 432x288 with 1 Axes>"
      ]
     },
     "metadata": {
      "needs_background": "light"
     },
     "output_type": "display_data"
    },
    {
     "name": "stdout",
     "output_type": "stream",
     "text": [
      "AxesSubplot(0.125,0.125;0.775x0.755)\n"
     ]
    },
    {
     "data": {
      "image/png": "[encoded data removed]",
      "text/plain": [
       "<Figure size 432x288 with 1 Axes>"
      ]
     },
     "metadata": {
      "needs_background": "light"
     },
     "output_type": "display_data"
    }
   ],
   "source": [
    "columns_hist = ['total_area', 'rooms', 'ceiling_height', 'last_price']\n",
    "\n",
    "for i in columns_hist:\n",
    "    q1 = data_center[i].quantile(0.25)\n",
    "    q3 = data_center[i].quantile(0.75)\n",
    "    iqr = q3 - q1\n",
    "    fence_low  = q1-1.5*iqr\n",
    "    fence_high = q3+1.5*iqr\n",
    "    print(data_center[i].hist(bins=15, range = (fence_low, fence_high)))\n",
    "    plt.title(i)\n",
    "    plt.show()"
   ]
  },
  {
   "cell_type": "code",
   "execution_count": null,
   "metadata": {},
   "outputs": [],
   "source": [
    "#Рассчитаем количество корзин для гистограмм. \n",
    "# Формула из википедии\n",
    "bins_count = int(np.ceil(2*data_center.shape[0]**(1./3)))\n",
    "bins_count"
   ]
  },
  {
   "cell_type": "code",
   "execution_count": 56,
   "metadata": {
    "scrolled": true
   },
   "outputs": [
    {
     "data": {
      "image/png": "[encoded data removed]",
      "text/plain": [
       "<Figure size 432x288 with 1 Axes>"
      ]
     },
     "metadata": {
      "needs_background": "light"
     },
     "output_type": "display_data"
    }
   ],
   "source": [
    "import numpy\n",
    "df = pd.DataFrame(\n",
    "    numpy.random.randint(1, 7, 6000),\n",
    "    columns = ['one'])\n",
    "df['two'] = df['one'] + numpy.random.randint(1, 7, 6000)\n",
    "ax = df.plot.hist(bins=12, alpha=0.5)"
   ]
  }
 ],
 "metadata": {
  "ExecuteTimeLog": [
   {
    "duration": 860,
    "start_time": "2021-12-28T19:32:49.099Z"
   },
   {
    "duration": 85,
    "start_time": "2021-12-28T19:36:04.351Z"
   },
   {
    "duration": 86,
    "start_time": "2021-12-28T19:36:47.389Z"
   },
   {
    "duration": 80,
    "start_time": "2021-12-28T19:36:56.208Z"
   },
   {
    "duration": 79,
    "start_time": "2021-12-28T19:38:52.345Z"
   },
   {
    "duration": 78,
    "start_time": "2021-12-28T19:39:05.968Z"
   },
   {
    "duration": 80,
    "start_time": "2021-12-28T19:39:22.347Z"
   },
   {
    "duration": 78,
    "start_time": "2021-12-28T19:40:21.681Z"
   },
   {
    "duration": 79,
    "start_time": "2021-12-28T19:42:40.108Z"
   },
   {
    "duration": 94,
    "start_time": "2021-12-28T19:45:50.681Z"
   },
   {
    "duration": 77,
    "start_time": "2021-12-28T19:49:36.492Z"
   },
   {
    "duration": 819,
    "start_time": "2021-12-28T19:51:09.760Z"
   },
   {
    "duration": 115,
    "start_time": "2021-12-28T19:51:52.444Z"
   },
   {
    "duration": 15,
    "start_time": "2021-12-28T19:52:36.876Z"
   },
   {
    "duration": 18,
    "start_time": "2021-12-28T21:04:00.800Z"
   },
   {
    "duration": 1930,
    "start_time": "2021-12-28T21:13:34.624Z"
   },
   {
    "duration": 168,
    "start_time": "2021-12-28T21:14:54.275Z"
   },
   {
    "duration": 45,
    "start_time": "2021-12-28T21:14:58.454Z"
   },
   {
    "duration": 424,
    "start_time": "2021-12-28T21:16:35.295Z"
   },
   {
    "duration": 56,
    "start_time": "2021-12-28T21:16:55.140Z"
   },
   {
    "duration": 48,
    "start_time": "2021-12-28T21:33:41.045Z"
   },
   {
    "duration": 52,
    "start_time": "2021-12-28T21:41:03.057Z"
   },
   {
    "duration": 46,
    "start_time": "2021-12-28T21:41:10.140Z"
   },
   {
    "duration": 73,
    "start_time": "2021-12-28T21:41:34.419Z"
   },
   {
    "duration": 375,
    "start_time": "2021-12-29T14:46:06.533Z"
   },
   {
    "duration": 898,
    "start_time": "2021-12-29T14:46:19.196Z"
   },
   {
    "duration": 19,
    "start_time": "2021-12-29T14:46:28.060Z"
   },
   {
    "duration": 35,
    "start_time": "2021-12-29T14:46:31.975Z"
   },
   {
    "duration": 10,
    "start_time": "2021-12-29T14:55:35.013Z"
   },
   {
    "duration": 8221,
    "start_time": "2021-12-29T14:59:05.822Z"
   },
   {
    "duration": 10,
    "start_time": "2021-12-29T14:59:24.199Z"
   },
   {
    "duration": 44,
    "start_time": "2021-12-29T15:01:18.573Z"
   },
   {
    "duration": 48,
    "start_time": "2021-12-29T15:01:26.174Z"
   },
   {
    "duration": 5,
    "start_time": "2021-12-29T15:05:10.848Z"
   },
   {
    "duration": 28,
    "start_time": "2021-12-29T15:05:26.620Z"
   },
   {
    "duration": 346,
    "start_time": "2021-12-29T15:06:01.721Z"
   },
   {
    "duration": 19,
    "start_time": "2021-12-29T15:06:06.626Z"
   },
   {
    "duration": 9,
    "start_time": "2021-12-29T15:06:35.000Z"
   },
   {
    "duration": 11,
    "start_time": "2021-12-29T15:23:15.702Z"
   },
   {
    "duration": 2114,
    "start_time": "2021-12-29T15:24:42.627Z"
   },
   {
    "duration": 8,
    "start_time": "2021-12-29T15:24:48.714Z"
   },
   {
    "duration": 19,
    "start_time": "2021-12-29T15:25:05.499Z"
   },
   {
    "duration": 39,
    "start_time": "2021-12-29T15:25:20.844Z"
   },
   {
    "duration": 22,
    "start_time": "2021-12-29T15:34:15.457Z"
   },
   {
    "duration": 23,
    "start_time": "2021-12-29T15:34:42.462Z"
   },
   {
    "duration": 22,
    "start_time": "2021-12-29T15:35:10.696Z"
   },
   {
    "duration": 22,
    "start_time": "2021-12-29T15:35:21.766Z"
   },
   {
    "duration": 21,
    "start_time": "2021-12-29T15:35:41.342Z"
   },
   {
    "duration": 21,
    "start_time": "2021-12-29T15:35:51.017Z"
   },
   {
    "duration": 278,
    "start_time": "2021-12-29T15:36:49.473Z"
   },
   {
    "duration": 304,
    "start_time": "2021-12-29T15:37:52.251Z"
   },
   {
    "duration": 15,
    "start_time": "2021-12-29T15:39:34.721Z"
   },
   {
    "duration": 15,
    "start_time": "2021-12-29T15:42:45.572Z"
   },
   {
    "duration": 16,
    "start_time": "2021-12-29T15:45:11.693Z"
   },
   {
    "duration": 138,
    "start_time": "2021-12-29T18:17:43.095Z"
   },
   {
    "duration": 16,
    "start_time": "2021-12-29T18:18:06.856Z"
   },
   {
    "duration": 22,
    "start_time": "2021-12-29T18:19:43.631Z"
   },
   {
    "duration": 28,
    "start_time": "2021-12-29T18:20:16.912Z"
   },
   {
    "duration": 37,
    "start_time": "2021-12-29T18:20:37.120Z"
   },
   {
    "duration": 28,
    "start_time": "2021-12-29T18:21:46.870Z"
   },
   {
    "duration": 342,
    "start_time": "2021-12-29T18:22:35.133Z"
   },
   {
    "duration": 21,
    "start_time": "2021-12-29T18:22:49.555Z"
   },
   {
    "duration": 29,
    "start_time": "2021-12-29T18:24:50.862Z"
   },
   {
    "duration": 49,
    "start_time": "2021-12-29T18:25:30.684Z"
   },
   {
    "duration": 10,
    "start_time": "2021-12-29T18:28:37.825Z"
   },
   {
    "duration": 35,
    "start_time": "2021-12-29T18:35:06.969Z"
   },
   {
    "duration": 117,
    "start_time": "2021-12-29T18:50:54.081Z"
   },
   {
    "duration": 113,
    "start_time": "2021-12-29T18:51:00.872Z"
   },
   {
    "duration": 98,
    "start_time": "2021-12-29T18:51:09.332Z"
   },
   {
    "duration": 35,
    "start_time": "2021-12-29T18:51:19.209Z"
   },
   {
    "duration": 102,
    "start_time": "2021-12-29T18:51:40.000Z"
   },
   {
    "duration": 33,
    "start_time": "2021-12-29T18:51:48.753Z"
   },
   {
    "duration": 97,
    "start_time": "2021-12-29T19:39:19.026Z"
   },
   {
    "duration": 118,
    "start_time": "2021-12-29T19:39:28.651Z"
   },
   {
    "duration": 34,
    "start_time": "2021-12-29T19:39:36.345Z"
   },
   {
    "duration": 99,
    "start_time": "2021-12-29T19:42:30.316Z"
   },
   {
    "duration": 33,
    "start_time": "2021-12-29T19:42:35.580Z"
   },
   {
    "duration": 30,
    "start_time": "2021-12-29T19:49:22.582Z"
   },
   {
    "duration": 53,
    "start_time": "2021-12-29T19:49:31.682Z"
   },
   {
    "duration": 11,
    "start_time": "2021-12-29T19:52:01.668Z"
   },
   {
    "duration": 11,
    "start_time": "2021-12-29T19:55:52.272Z"
   },
   {
    "duration": 33,
    "start_time": "2021-12-29T19:56:08.607Z"
   },
   {
    "duration": 8,
    "start_time": "2021-12-29T19:56:32.391Z"
   },
   {
    "duration": 12,
    "start_time": "2021-12-29T19:57:06.387Z"
   },
   {
    "duration": 9,
    "start_time": "2021-12-29T19:58:20.977Z"
   },
   {
    "duration": 46,
    "start_time": "2021-12-29T19:58:30.097Z"
   },
   {
    "duration": 11,
    "start_time": "2021-12-29T19:58:59.811Z"
   },
   {
    "duration": 39,
    "start_time": "2021-12-29T19:59:06.133Z"
   },
   {
    "duration": 44,
    "start_time": "2021-12-29T19:59:11.291Z"
   },
   {
    "duration": 133,
    "start_time": "2021-12-29T19:59:53.813Z"
   },
   {
    "duration": 39,
    "start_time": "2021-12-29T19:59:58.437Z"
   },
   {
    "duration": 35,
    "start_time": "2021-12-29T20:00:01.060Z"
   },
   {
    "duration": 17,
    "start_time": "2021-12-29T20:00:03.328Z"
   },
   {
    "duration": 71,
    "start_time": "2021-12-29T20:00:04.971Z"
   },
   {
    "duration": 12,
    "start_time": "2021-12-29T20:00:06.906Z"
   },
   {
    "duration": 19,
    "start_time": "2021-12-29T20:00:09.020Z"
   },
   {
    "duration": 57,
    "start_time": "2021-12-29T20:00:11.293Z"
   },
   {
    "duration": 11,
    "start_time": "2021-12-29T20:00:14.939Z"
   },
   {
    "duration": 44,
    "start_time": "2021-12-29T20:00:36.920Z"
   },
   {
    "duration": 54,
    "start_time": "2021-12-29T20:00:51.322Z"
   },
   {
    "duration": 150,
    "start_time": "2021-12-29T20:05:21.528Z"
   },
   {
    "duration": 30,
    "start_time": "2021-12-29T20:05:23.417Z"
   },
   {
    "duration": 38,
    "start_time": "2021-12-29T20:05:25.914Z"
   },
   {
    "duration": 42,
    "start_time": "2021-12-29T20:05:27.826Z"
   },
   {
    "duration": 12,
    "start_time": "2021-12-29T20:05:29.986Z"
   },
   {
    "duration": 47,
    "start_time": "2021-12-29T20:05:31.875Z"
   },
   {
    "duration": 11,
    "start_time": "2021-12-29T20:05:33.675Z"
   },
   {
    "duration": 15,
    "start_time": "2021-12-29T20:05:35.345Z"
   },
   {
    "duration": 80,
    "start_time": "2021-12-29T20:05:37.029Z"
   },
   {
    "duration": 10,
    "start_time": "2021-12-29T20:05:39.480Z"
   },
   {
    "duration": 43,
    "start_time": "2021-12-29T20:05:41.394Z"
   },
   {
    "duration": 649,
    "start_time": "2021-12-29T20:06:09.541Z"
   },
   {
    "duration": 44,
    "start_time": "2021-12-29T20:06:45.492Z"
   },
   {
    "duration": 80,
    "start_time": "2021-12-29T20:07:43.773Z"
   },
   {
    "duration": 62,
    "start_time": "2021-12-29T20:07:48.813Z"
   },
   {
    "duration": 44,
    "start_time": "2021-12-29T20:09:17.824Z"
   },
   {
    "duration": 53,
    "start_time": "2021-12-29T20:10:30.498Z"
   },
   {
    "duration": 46,
    "start_time": "2021-12-29T20:10:39.455Z"
   },
   {
    "duration": 313,
    "start_time": "2021-12-29T20:36:23.306Z"
   },
   {
    "duration": 62,
    "start_time": "2021-12-29T20:37:01.197Z"
   },
   {
    "duration": 40,
    "start_time": "2021-12-29T20:37:45.888Z"
   },
   {
    "duration": 33,
    "start_time": "2021-12-29T20:39:44.145Z"
   },
   {
    "duration": 31,
    "start_time": "2021-12-29T20:46:17.425Z"
   },
   {
    "duration": 8,
    "start_time": "2021-12-29T20:46:24.353Z"
   },
   {
    "duration": 27,
    "start_time": "2021-12-29T20:46:28.066Z"
   },
   {
    "duration": 34,
    "start_time": "2021-12-29T20:46:40.173Z"
   },
   {
    "duration": 1161,
    "start_time": "2021-12-29T20:47:20.485Z"
   },
   {
    "duration": 21,
    "start_time": "2021-12-29T20:47:23.973Z"
   },
   {
    "duration": 18,
    "start_time": "2021-12-29T20:47:26.739Z"
   },
   {
    "duration": 35,
    "start_time": "2021-12-29T20:47:29.125Z"
   },
   {
    "duration": 18,
    "start_time": "2021-12-29T20:47:30.819Z"
   },
   {
    "duration": 48,
    "start_time": "2021-12-29T20:47:33.085Z"
   },
   {
    "duration": 15,
    "start_time": "2021-12-29T20:47:35.426Z"
   },
   {
    "duration": 11,
    "start_time": "2021-12-29T20:47:39.228Z"
   },
   {
    "duration": 48,
    "start_time": "2021-12-29T20:47:43.187Z"
   },
   {
    "duration": 9,
    "start_time": "2021-12-29T20:47:45.482Z"
   },
   {
    "duration": 31,
    "start_time": "2021-12-29T20:47:47.463Z"
   },
   {
    "duration": 31,
    "start_time": "2021-12-29T20:47:50.681Z"
   },
   {
    "duration": 41,
    "start_time": "2021-12-29T20:47:55.496Z"
   },
   {
    "duration": 41,
    "start_time": "2021-12-29T20:48:23.823Z"
   },
   {
    "duration": 13,
    "start_time": "2021-12-29T21:05:53.215Z"
   },
   {
    "duration": 29,
    "start_time": "2021-12-29T21:06:01.106Z"
   },
   {
    "duration": 34,
    "start_time": "2021-12-29T21:06:04.824Z"
   },
   {
    "duration": 129,
    "start_time": "2021-12-29T21:09:48.922Z"
   },
   {
    "duration": 92,
    "start_time": "2021-12-29T21:10:09.487Z"
   },
   {
    "duration": 837,
    "start_time": "2021-12-29T21:10:29.421Z"
   },
   {
    "duration": 840,
    "start_time": "2021-12-29T21:10:47.309Z"
   },
   {
    "duration": 881,
    "start_time": "2021-12-29T21:11:43.318Z"
   },
   {
    "duration": 6,
    "start_time": "2021-12-29T21:14:27.586Z"
   },
   {
    "duration": 441,
    "start_time": "2021-12-29T21:15:43.839Z"
   },
   {
    "duration": 11,
    "start_time": "2021-12-29T21:18:11.108Z"
   },
   {
    "duration": 10,
    "start_time": "2021-12-29T21:18:18.977Z"
   },
   {
    "duration": 34,
    "start_time": "2021-12-29T21:18:32.524Z"
   },
   {
    "duration": 855,
    "start_time": "2021-12-29T21:18:54.685Z"
   },
   {
    "duration": 290,
    "start_time": "2021-12-29T21:18:58.465Z"
   },
   {
    "duration": 28,
    "start_time": "2021-12-29T21:19:33.071Z"
   },
   {
    "duration": 9,
    "start_time": "2021-12-29T21:19:42.835Z"
   },
   {
    "duration": 12,
    "start_time": "2021-12-29T21:19:44.298Z"
   },
   {
    "duration": 48,
    "start_time": "2021-12-29T21:19:46.301Z"
   },
   {
    "duration": 10,
    "start_time": "2021-12-29T21:19:47.893Z"
   },
   {
    "duration": 26,
    "start_time": "2021-12-29T21:19:50.486Z"
   },
   {
    "duration": 26,
    "start_time": "2021-12-29T21:20:29.636Z"
   },
   {
    "duration": 24,
    "start_time": "2021-12-29T21:20:47.434Z"
   },
   {
    "duration": 917,
    "start_time": "2021-12-29T21:21:20.433Z"
   },
   {
    "duration": 16,
    "start_time": "2021-12-29T21:21:23.243Z"
   },
   {
    "duration": 17,
    "start_time": "2021-12-29T21:21:28.870Z"
   },
   {
    "duration": 38,
    "start_time": "2021-12-29T21:21:32.423Z"
   },
   {
    "duration": 15,
    "start_time": "2021-12-29T21:21:35.258Z"
   },
   {
    "duration": 44,
    "start_time": "2021-12-29T21:21:38.340Z"
   },
   {
    "duration": 10,
    "start_time": "2021-12-29T21:21:40.096Z"
   },
   {
    "duration": 9,
    "start_time": "2021-12-29T21:21:44.168Z"
   },
   {
    "duration": 12,
    "start_time": "2021-12-29T21:21:48.106Z"
   },
   {
    "duration": 46,
    "start_time": "2021-12-29T21:21:56.273Z"
   },
   {
    "duration": 9,
    "start_time": "2021-12-29T21:22:01.179Z"
   },
   {
    "duration": 27,
    "start_time": "2021-12-29T21:22:24.737Z"
   },
   {
    "duration": 33,
    "start_time": "2021-12-29T21:23:28.728Z"
   },
   {
    "duration": 27,
    "start_time": "2021-12-29T21:23:51.339Z"
   },
   {
    "duration": 44,
    "start_time": "2021-12-29T21:23:57.123Z"
   },
   {
    "duration": 10,
    "start_time": "2021-12-29T21:24:13.952Z"
   },
   {
    "duration": 26,
    "start_time": "2021-12-29T21:24:21.197Z"
   },
   {
    "duration": 32,
    "start_time": "2021-12-29T21:24:52.113Z"
   },
   {
    "duration": 39,
    "start_time": "2021-12-29T21:24:54.476Z"
   },
   {
    "duration": 824,
    "start_time": "2021-12-29T21:24:56.636Z"
   },
   {
    "duration": 380,
    "start_time": "2021-12-29T21:25:00.776Z"
   },
   {
    "duration": 5,
    "start_time": "2021-12-29T21:25:34.503Z"
   },
   {
    "duration": 5,
    "start_time": "2021-12-29T21:25:58.262Z"
   },
   {
    "duration": 37,
    "start_time": "2021-12-29T21:26:02.876Z"
   },
   {
    "duration": 6,
    "start_time": "2021-12-29T21:26:11.088Z"
   },
   {
    "duration": 30,
    "start_time": "2021-12-29T21:26:21.394Z"
   },
   {
    "duration": 32,
    "start_time": "2021-12-29T21:26:32.757Z"
   },
   {
    "duration": 33,
    "start_time": "2021-12-29T21:26:35.501Z"
   },
   {
    "duration": 776,
    "start_time": "2021-12-29T21:26:57.910Z"
   },
   {
    "duration": 34,
    "start_time": "2021-12-29T21:27:00.342Z"
   },
   {
    "duration": 34,
    "start_time": "2021-12-29T21:28:14.277Z"
   },
   {
    "duration": 33,
    "start_time": "2021-12-29T21:28:35.967Z"
   },
   {
    "duration": 601,
    "start_time": "2021-12-30T11:47:18.664Z"
   },
   {
    "duration": 316,
    "start_time": "2021-12-30T11:48:11.530Z"
   },
   {
    "duration": 653,
    "start_time": "2021-12-30T11:48:29.446Z"
   },
   {
    "duration": 11,
    "start_time": "2021-12-30T11:48:31.330Z"
   },
   {
    "duration": 13,
    "start_time": "2021-12-30T11:48:33.490Z"
   },
   {
    "duration": 19,
    "start_time": "2021-12-30T11:48:35.110Z"
   },
   {
    "duration": 8,
    "start_time": "2021-12-30T11:48:37.045Z"
   },
   {
    "duration": 30,
    "start_time": "2021-12-30T11:48:38.398Z"
   },
   {
    "duration": 7,
    "start_time": "2021-12-30T11:48:40.802Z"
   },
   {
    "duration": 5,
    "start_time": "2021-12-30T11:48:42.605Z"
   },
   {
    "duration": 13,
    "start_time": "2021-12-30T11:48:44.157Z"
   },
   {
    "duration": 26,
    "start_time": "2021-12-30T11:48:47.014Z"
   },
   {
    "duration": 5,
    "start_time": "2021-12-30T11:48:48.987Z"
   },
   {
    "duration": 21,
    "start_time": "2021-12-30T11:48:50.263Z"
   },
   {
    "duration": 25,
    "start_time": "2021-12-30T11:48:52.864Z"
   },
   {
    "duration": 24,
    "start_time": "2021-12-30T11:48:54.910Z"
   },
   {
    "duration": 462,
    "start_time": "2021-12-30T11:48:56.350Z"
   },
   {
    "duration": 21,
    "start_time": "2021-12-30T11:48:58.511Z"
   },
   {
    "duration": 1048,
    "start_time": "2021-12-30T11:49:01.593Z"
   },
   {
    "duration": 737,
    "start_time": "2021-12-30T11:49:37.099Z"
   },
   {
    "duration": 354,
    "start_time": "2021-12-30T11:50:13.528Z"
   },
   {
    "duration": 310,
    "start_time": "2021-12-30T11:50:26.758Z"
   },
   {
    "duration": 325,
    "start_time": "2021-12-30T11:50:45.433Z"
   },
   {
    "duration": 296,
    "start_time": "2021-12-30T11:50:56.435Z"
   },
   {
    "duration": 323,
    "start_time": "2021-12-30T11:51:34.348Z"
   },
   {
    "duration": 297,
    "start_time": "2021-12-30T11:51:42.066Z"
   },
   {
    "duration": 357,
    "start_time": "2021-12-30T11:51:51.565Z"
   },
   {
    "duration": 288,
    "start_time": "2021-12-30T11:52:11.270Z"
   },
   {
    "duration": 274,
    "start_time": "2021-12-30T11:52:19.642Z"
   },
   {
    "duration": 289,
    "start_time": "2021-12-30T11:55:36.623Z"
   },
   {
    "duration": 288,
    "start_time": "2021-12-30T11:55:47.242Z"
   },
   {
    "duration": 377,
    "start_time": "2021-12-30T11:56:01.440Z"
   },
   {
    "duration": 308,
    "start_time": "2021-12-30T11:56:09.224Z"
   },
   {
    "duration": 242,
    "start_time": "2021-12-30T11:56:24.188Z"
   },
   {
    "duration": 209,
    "start_time": "2021-12-30T11:56:31.635Z"
   },
   {
    "duration": 315,
    "start_time": "2021-12-30T11:56:39.487Z"
   },
   {
    "duration": 286,
    "start_time": "2021-12-30T11:57:25.634Z"
   },
   {
    "duration": 370,
    "start_time": "2021-12-30T11:57:27.278Z"
   },
   {
    "duration": 282,
    "start_time": "2021-12-30T11:57:42.173Z"
   },
   {
    "duration": 167,
    "start_time": "2021-12-30T11:57:51.511Z"
   },
   {
    "duration": 163,
    "start_time": "2021-12-30T11:58:13.088Z"
   },
   {
    "duration": 309,
    "start_time": "2021-12-30T11:59:57.085Z"
   },
   {
    "duration": 318,
    "start_time": "2021-12-30T12:00:31.240Z"
   },
   {
    "duration": 351,
    "start_time": "2021-12-30T12:00:45.190Z"
   },
   {
    "duration": 436,
    "start_time": "2021-12-30T12:00:47.709Z"
   },
   {
    "duration": 167,
    "start_time": "2021-12-30T12:01:00.492Z"
   },
   {
    "duration": 173,
    "start_time": "2021-12-30T12:01:15.161Z"
   },
   {
    "duration": 5,
    "start_time": "2021-12-30T12:02:06.283Z"
   },
   {
    "duration": 290,
    "start_time": "2021-12-30T13:18:06.270Z"
   },
   {
    "duration": 152,
    "start_time": "2021-12-30T13:22:06.307Z"
   },
   {
    "duration": 154,
    "start_time": "2021-12-30T13:22:12.606Z"
   },
   {
    "duration": 172,
    "start_time": "2021-12-30T13:22:16.836Z"
   },
   {
    "duration": 177,
    "start_time": "2021-12-30T13:22:34.926Z"
   },
   {
    "duration": 219,
    "start_time": "2021-12-30T13:22:40.057Z"
   },
   {
    "duration": 240,
    "start_time": "2021-12-30T13:26:16.221Z"
   },
   {
    "duration": 504,
    "start_time": "2021-12-30T13:26:39.614Z"
   },
   {
    "duration": 230,
    "start_time": "2021-12-30T13:26:54.651Z"
   },
   {
    "duration": 252,
    "start_time": "2021-12-30T13:27:05.228Z"
   },
   {
    "duration": 217,
    "start_time": "2021-12-30T13:27:25.658Z"
   },
   {
    "duration": 16,
    "start_time": "2021-12-30T13:32:36.309Z"
   },
   {
    "duration": 13,
    "start_time": "2021-12-30T13:38:17.047Z"
   },
   {
    "duration": 13,
    "start_time": "2021-12-30T13:43:46.482Z"
   },
   {
    "duration": 84,
    "start_time": "2021-12-30T13:44:05.758Z"
   },
   {
    "duration": 12,
    "start_time": "2021-12-30T13:44:11.516Z"
   },
   {
    "duration": 84,
    "start_time": "2021-12-30T13:46:55.479Z"
   },
   {
    "duration": 16,
    "start_time": "2021-12-30T13:47:03.264Z"
   },
   {
    "duration": 167,
    "start_time": "2021-12-30T13:47:50.516Z"
   },
   {
    "duration": 20,
    "start_time": "2021-12-30T13:52:09.234Z"
   },
   {
    "duration": 23,
    "start_time": "2021-12-30T14:05:25.727Z"
   },
   {
    "duration": 662,
    "start_time": "2021-12-30T14:23:18.695Z"
   },
   {
    "duration": 368,
    "start_time": "2021-12-30T14:23:45.651Z"
   },
   {
    "duration": 673,
    "start_time": "2021-12-30T14:23:56.677Z"
   },
   {
    "duration": 465,
    "start_time": "2021-12-30T14:29:03.494Z"
   },
   {
    "duration": 406,
    "start_time": "2021-12-30T14:30:59.622Z"
   },
   {
    "duration": 255,
    "start_time": "2021-12-30T14:31:18.073Z"
   },
   {
    "duration": 400,
    "start_time": "2021-12-30T14:31:22.595Z"
   },
   {
    "duration": 42,
    "start_time": "2021-12-30T14:36:45.167Z"
   },
   {
    "duration": 122,
    "start_time": "2021-12-30T14:47:30.266Z"
   },
   {
    "duration": 110,
    "start_time": "2021-12-30T14:47:46.690Z"
   },
   {
    "duration": 130,
    "start_time": "2021-12-30T14:47:56.997Z"
   },
   {
    "duration": 141,
    "start_time": "2021-12-30T14:48:13.240Z"
   },
   {
    "duration": 130,
    "start_time": "2021-12-30T14:48:45.618Z"
   },
   {
    "duration": 893,
    "start_time": "2021-12-30T19:46:00.551Z"
   },
   {
    "duration": 448,
    "start_time": "2021-12-30T19:46:36.970Z"
   },
   {
    "duration": 245,
    "start_time": "2021-12-30T19:49:02.509Z"
   },
   {
    "duration": 274,
    "start_time": "2021-12-30T19:49:30.178Z"
   },
   {
    "duration": 11,
    "start_time": "2021-12-30T19:49:32.112Z"
   },
   {
    "duration": 13,
    "start_time": "2021-12-30T19:49:34.541Z"
   },
   {
    "duration": 19,
    "start_time": "2021-12-30T19:49:36.319Z"
   },
   {
    "duration": 9,
    "start_time": "2021-12-30T19:49:37.871Z"
   },
   {
    "duration": 26,
    "start_time": "2021-12-30T19:49:39.424Z"
   },
   {
    "duration": 7,
    "start_time": "2021-12-30T19:49:41.077Z"
   },
   {
    "duration": 5,
    "start_time": "2021-12-30T19:49:42.754Z"
   },
   {
    "duration": 8,
    "start_time": "2021-12-30T19:49:43.519Z"
   },
   {
    "duration": 26,
    "start_time": "2021-12-30T19:49:45.230Z"
   },
   {
    "duration": 5,
    "start_time": "2021-12-30T19:49:46.692Z"
   },
   {
    "duration": 21,
    "start_time": "2021-12-30T19:49:48.132Z"
   },
   {
    "duration": 18,
    "start_time": "2021-12-30T19:49:50.450Z"
   },
   {
    "duration": 24,
    "start_time": "2021-12-30T19:49:52.431Z"
   },
   {
    "duration": 489,
    "start_time": "2021-12-30T19:49:54.139Z"
   },
   {
    "duration": 22,
    "start_time": "2021-12-30T19:49:59.157Z"
   },
   {
    "duration": 317,
    "start_time": "2021-12-30T19:50:04.242Z"
   },
   {
    "duration": 334,
    "start_time": "2021-12-30T19:50:06.199Z"
   },
   {
    "duration": 168,
    "start_time": "2021-12-30T19:50:08.090Z"
   },
   {
    "duration": 169,
    "start_time": "2021-12-30T19:50:09.890Z"
   },
   {
    "duration": 231,
    "start_time": "2021-12-30T19:50:12.073Z"
   },
   {
    "duration": 29,
    "start_time": "2021-12-30T19:50:18.238Z"
   },
   {
    "duration": 142,
    "start_time": "2021-12-30T19:50:25.460Z"
   },
   {
    "duration": 123,
    "start_time": "2021-12-30T19:53:44.842Z"
   },
   {
    "duration": 130,
    "start_time": "2021-12-30T19:54:00.611Z"
   },
   {
    "duration": 173,
    "start_time": "2021-12-30T19:54:14.898Z"
   },
   {
    "duration": 132,
    "start_time": "2021-12-30T19:54:23.426Z"
   },
   {
    "duration": 115,
    "start_time": "2021-12-30T19:54:52.653Z"
   },
   {
    "duration": 120,
    "start_time": "2021-12-30T19:54:55.488Z"
   },
   {
    "duration": 134,
    "start_time": "2021-12-30T19:55:00.483Z"
   },
   {
    "duration": 119,
    "start_time": "2021-12-30T19:55:04.353Z"
   },
   {
    "duration": 121,
    "start_time": "2021-12-30T19:55:25.030Z"
   },
   {
    "duration": 139,
    "start_time": "2021-12-30T19:55:31.399Z"
   },
   {
    "duration": 120,
    "start_time": "2021-12-30T19:59:46.221Z"
   },
   {
    "duration": 123,
    "start_time": "2021-12-30T20:10:11.114Z"
   },
   {
    "duration": 122,
    "start_time": "2021-12-30T20:10:34.717Z"
   },
   {
    "duration": 115,
    "start_time": "2021-12-30T20:10:40.993Z"
   },
   {
    "duration": 132,
    "start_time": "2021-12-30T20:10:47.338Z"
   },
   {
    "duration": 190,
    "start_time": "2021-12-30T20:11:08.219Z"
   },
   {
    "duration": 133,
    "start_time": "2021-12-30T20:11:20.392Z"
   },
   {
    "duration": 112,
    "start_time": "2021-12-30T20:12:47.018Z"
   },
   {
    "duration": 123,
    "start_time": "2021-12-30T20:12:51.518Z"
   },
   {
    "duration": 110,
    "start_time": "2021-12-30T20:12:58.449Z"
   },
   {
    "duration": 116,
    "start_time": "2021-12-30T20:14:14.679Z"
   },
   {
    "duration": 132,
    "start_time": "2021-12-30T20:14:27.505Z"
   },
   {
    "duration": 127,
    "start_time": "2021-12-30T20:14:42.242Z"
   },
   {
    "duration": 140,
    "start_time": "2021-12-30T20:15:00.946Z"
   },
   {
    "duration": 133,
    "start_time": "2021-12-30T20:15:05.260Z"
   },
   {
    "duration": 116,
    "start_time": "2021-12-30T20:39:08.914Z"
   },
   {
    "duration": 119,
    "start_time": "2021-12-30T20:39:24.417Z"
   },
   {
    "duration": 319,
    "start_time": "2021-12-30T20:39:52.414Z"
   },
   {
    "duration": 262,
    "start_time": "2021-12-30T20:40:39.592Z"
   },
   {
    "duration": 238,
    "start_time": "2021-12-30T20:40:54.262Z"
   },
   {
    "duration": 243,
    "start_time": "2021-12-30T20:41:06.299Z"
   },
   {
    "duration": 44,
    "start_time": "2021-12-30T20:41:40.341Z"
   },
   {
    "duration": 10,
    "start_time": "2021-12-30T20:41:59.832Z"
   },
   {
    "duration": 39,
    "start_time": "2021-12-30T20:42:08.693Z"
   },
   {
    "duration": 41,
    "start_time": "2021-12-30T20:45:03.978Z"
   },
   {
    "duration": 24,
    "start_time": "2021-12-30T20:56:08.552Z"
   },
   {
    "duration": 23,
    "start_time": "2021-12-30T20:56:18.392Z"
   },
   {
    "duration": 200,
    "start_time": "2021-12-30T21:03:19.241Z"
   },
   {
    "duration": 177,
    "start_time": "2021-12-30T21:04:08.853Z"
   },
   {
    "duration": 387,
    "start_time": "2021-12-30T21:07:25.622Z"
   },
   {
    "duration": 263,
    "start_time": "2021-12-30T21:08:07.787Z"
   },
   {
    "duration": 319,
    "start_time": "2021-12-30T21:08:15.933Z"
   },
   {
    "duration": 195,
    "start_time": "2021-12-30T21:09:49.716Z"
   },
   {
    "duration": 198,
    "start_time": "2021-12-30T21:10:09.382Z"
   },
   {
    "duration": 76,
    "start_time": "2021-12-30T21:10:22.633Z"
   },
   {
    "duration": 259,
    "start_time": "2021-12-30T21:10:31.679Z"
   },
   {
    "duration": 254,
    "start_time": "2021-12-30T21:12:21.573Z"
   },
   {
    "duration": 315,
    "start_time": "2021-12-30T21:16:20.913Z"
   },
   {
    "duration": 151,
    "start_time": "2021-12-30T21:16:53.471Z"
   },
   {
    "duration": 261,
    "start_time": "2021-12-30T21:17:10.910Z"
   },
   {
    "duration": 525,
    "start_time": "2021-12-30T21:17:35.638Z"
   },
   {
    "duration": 252,
    "start_time": "2021-12-30T21:18:20.391Z"
   },
   {
    "duration": 36,
    "start_time": "2021-12-30T21:30:44.471Z"
   },
   {
    "duration": 21,
    "start_time": "2021-12-30T21:30:54.219Z"
   },
   {
    "duration": 16,
    "start_time": "2021-12-30T21:31:16.737Z"
   },
   {
    "duration": 300,
    "start_time": "2021-12-30T21:32:06.553Z"
   },
   {
    "duration": 361,
    "start_time": "2021-12-30T21:32:15.351Z"
   },
   {
    "duration": 15,
    "start_time": "2021-12-30T21:32:41.092Z"
   },
   {
    "duration": 258,
    "start_time": "2021-12-30T21:35:05.568Z"
   },
   {
    "duration": 76,
    "start_time": "2021-12-30T21:35:27.822Z"
   },
   {
    "duration": 15,
    "start_time": "2021-12-30T21:44:04.619Z"
   },
   {
    "duration": 261,
    "start_time": "2021-12-30T21:53:04.366Z"
   },
   {
    "duration": 12,
    "start_time": "2021-12-30T21:53:28.149Z"
   },
   {
    "duration": 8,
    "start_time": "2021-12-30T21:53:41.829Z"
   },
   {
    "duration": 6,
    "start_time": "2021-12-30T21:54:00.976Z"
   },
   {
    "duration": 3,
    "start_time": "2021-12-30T21:54:04.262Z"
   },
   {
    "duration": 5,
    "start_time": "2021-12-30T21:54:12.204Z"
   },
   {
    "duration": 287,
    "start_time": "2021-12-30T21:54:16.412Z"
   },
   {
    "duration": 6,
    "start_time": "2021-12-30T21:54:38.462Z"
   },
   {
    "duration": 250,
    "start_time": "2021-12-30T22:02:24.462Z"
   },
   {
    "duration": 362,
    "start_time": "2021-12-30T22:02:46.304Z"
   },
   {
    "duration": 252,
    "start_time": "2021-12-30T22:03:36.436Z"
   },
   {
    "duration": 255,
    "start_time": "2021-12-30T22:04:07.421Z"
   },
   {
    "duration": 8,
    "start_time": "2021-12-30T22:04:15.520Z"
   },
   {
    "duration": 15,
    "start_time": "2021-12-30T22:04:22.971Z"
   },
   {
    "duration": 691,
    "start_time": "2021-12-30T22:15:15.183Z"
   },
   {
    "duration": 8,
    "start_time": "2021-12-30T22:16:28.891Z"
   },
   {
    "duration": 9,
    "start_time": "2021-12-30T22:17:35.154Z"
   },
   {
    "duration": 8,
    "start_time": "2021-12-30T22:17:52.795Z"
   },
   {
    "duration": 249,
    "start_time": "2021-12-30T22:18:29.403Z"
   },
   {
    "duration": 8,
    "start_time": "2021-12-30T22:18:34.241Z"
   },
   {
    "duration": 256,
    "start_time": "2021-12-30T22:22:17.227Z"
   },
   {
    "duration": 253,
    "start_time": "2021-12-30T22:22:46.073Z"
   },
   {
    "duration": 765,
    "start_time": "2021-12-30T22:22:52.440Z"
   },
   {
    "duration": 15,
    "start_time": "2021-12-30T22:24:17.291Z"
   },
   {
    "duration": 15,
    "start_time": "2021-12-30T22:24:36.663Z"
   },
   {
    "duration": 14,
    "start_time": "2021-12-30T22:26:34.297Z"
   },
   {
    "duration": 14,
    "start_time": "2021-12-30T22:26:42.308Z"
   },
   {
    "duration": 17,
    "start_time": "2021-12-30T22:27:13.156Z"
   },
   {
    "duration": 22,
    "start_time": "2021-12-30T22:27:24.720Z"
   },
   {
    "duration": 5,
    "start_time": "2021-12-30T22:30:25.201Z"
   },
   {
    "duration": 9,
    "start_time": "2021-12-30T22:30:45.406Z"
   },
   {
    "duration": 12,
    "start_time": "2021-12-30T22:30:57.511Z"
   },
   {
    "duration": 201,
    "start_time": "2021-12-30T22:31:21.115Z"
   },
   {
    "duration": 273,
    "start_time": "2021-12-30T22:31:47.238Z"
   },
   {
    "duration": 249,
    "start_time": "2021-12-30T22:32:04.226Z"
   },
   {
    "duration": 220,
    "start_time": "2021-12-30T22:32:15.364Z"
   },
   {
    "duration": 173,
    "start_time": "2021-12-30T22:34:27.153Z"
   },
   {
    "duration": 162,
    "start_time": "2021-12-30T22:34:38.379Z"
   },
   {
    "duration": 166,
    "start_time": "2021-12-30T22:34:42.902Z"
   },
   {
    "duration": 297,
    "start_time": "2021-12-31T12:33:41.478Z"
   },
   {
    "duration": 269,
    "start_time": "2021-12-31T12:34:00.036Z"
   },
   {
    "duration": 661,
    "start_time": "2021-12-31T12:34:07.979Z"
   },
   {
    "duration": 14,
    "start_time": "2021-12-31T12:34:10.268Z"
   },
   {
    "duration": 20,
    "start_time": "2021-12-31T12:34:11.799Z"
   },
   {
    "duration": 9,
    "start_time": "2021-12-31T12:34:13.958Z"
   },
   {
    "duration": 30,
    "start_time": "2021-12-31T12:34:15.533Z"
   },
   {
    "duration": 7,
    "start_time": "2021-12-31T12:34:17.287Z"
   },
   {
    "duration": 5,
    "start_time": "2021-12-31T12:34:18.481Z"
   },
   {
    "duration": 9,
    "start_time": "2021-12-31T12:34:19.403Z"
   },
   {
    "duration": 29,
    "start_time": "2021-12-31T12:34:20.910Z"
   },
   {
    "duration": 5,
    "start_time": "2021-12-31T12:34:22.350Z"
   },
   {
    "duration": 21,
    "start_time": "2021-12-31T12:34:30.273Z"
   },
   {
    "duration": 19,
    "start_time": "2021-12-31T12:34:32.139Z"
   },
   {
    "duration": 25,
    "start_time": "2021-12-31T12:34:34.500Z"
   },
   {
    "duration": 452,
    "start_time": "2021-12-31T12:34:35.896Z"
   },
   {
    "duration": 21,
    "start_time": "2021-12-31T12:34:37.876Z"
   },
   {
    "duration": 416,
    "start_time": "2021-12-31T12:34:39.653Z"
   },
   {
    "duration": 322,
    "start_time": "2021-12-31T12:34:42.218Z"
   },
   {
    "duration": 168,
    "start_time": "2021-12-31T12:34:43.748Z"
   },
   {
    "duration": 177,
    "start_time": "2021-12-31T12:34:45.098Z"
   },
   {
    "duration": 236,
    "start_time": "2021-12-31T12:34:47.393Z"
   },
   {
    "duration": 29,
    "start_time": "2021-12-31T12:34:51.734Z"
   },
   {
    "duration": 129,
    "start_time": "2021-12-31T12:34:57.738Z"
   },
   {
    "duration": 147,
    "start_time": "2021-12-31T12:34:59.678Z"
   },
   {
    "duration": 129,
    "start_time": "2021-12-31T12:35:00.736Z"
   },
   {
    "duration": 135,
    "start_time": "2021-12-31T12:35:01.502Z"
   },
   {
    "duration": 112,
    "start_time": "2021-12-31T12:35:54.065Z"
   },
   {
    "duration": 262,
    "start_time": "2021-12-31T12:35:56.673Z"
   },
   {
    "duration": 218,
    "start_time": "2021-12-31T12:35:58.990Z"
   },
   {
    "duration": 249,
    "start_time": "2021-12-31T12:36:01.376Z"
   },
   {
    "duration": 158,
    "start_time": "2021-12-31T12:36:03.694Z"
   },
   {
    "duration": 13,
    "start_time": "2021-12-31T12:36:05.921Z"
   },
   {
    "duration": 275,
    "start_time": "2021-12-31T12:36:07.360Z"
   },
   {
    "duration": 12,
    "start_time": "2021-12-31T12:36:16.321Z"
   },
   {
    "duration": 16,
    "start_time": "2021-12-31T12:36:41.337Z"
   },
   {
    "duration": 184,
    "start_time": "2021-12-31T12:36:48.740Z"
   },
   {
    "duration": 168,
    "start_time": "2021-12-31T12:36:57.446Z"
   },
   {
    "duration": 189,
    "start_time": "2021-12-31T12:36:59.178Z"
   },
   {
    "duration": 18,
    "start_time": "2021-12-31T12:37:01.339Z"
   },
   {
    "duration": 24,
    "start_time": "2021-12-31T12:37:03.545Z"
   },
   {
    "duration": 369,
    "start_time": "2021-12-31T12:37:06.604Z"
   },
   {
    "duration": 254,
    "start_time": "2021-12-31T12:37:37.700Z"
   },
   {
    "duration": 246,
    "start_time": "2021-12-31T12:37:45.822Z"
   },
   {
    "duration": 255,
    "start_time": "2021-12-31T12:41:13.394Z"
   },
   {
    "duration": 254,
    "start_time": "2021-12-31T12:41:27.480Z"
   },
   {
    "duration": 6542,
    "start_time": "2021-12-31T12:42:56.918Z"
   },
   {
    "duration": 7258,
    "start_time": "2021-12-31T12:43:44.508Z"
   },
   {
    "duration": 239,
    "start_time": "2021-12-31T12:44:04.289Z"
   },
   {
    "duration": 12,
    "start_time": "2021-12-31T13:33:33.442Z"
   },
   {
    "duration": 43,
    "start_time": "2021-12-31T13:34:13.206Z"
   },
   {
    "duration": 100,
    "start_time": "2021-12-31T13:34:45.671Z"
   },
   {
    "duration": 5,
    "start_time": "2021-12-31T13:44:13.364Z"
   },
   {
    "duration": 5,
    "start_time": "2021-12-31T13:44:36.652Z"
   },
   {
    "duration": 297,
    "start_time": "2021-12-31T13:45:08.063Z"
   },
   {
    "duration": 250,
    "start_time": "2021-12-31T13:45:20.708Z"
   },
   {
    "duration": 388,
    "start_time": "2021-12-31T13:45:44.581Z"
   },
   {
    "duration": 4,
    "start_time": "2021-12-31T13:48:02.331Z"
   },
   {
    "duration": 22,
    "start_time": "2021-12-31T13:48:15.786Z"
   },
   {
    "duration": 24,
    "start_time": "2021-12-31T13:51:01.894Z"
   },
   {
    "duration": 22,
    "start_time": "2021-12-31T13:56:21.656Z"
   },
   {
    "duration": 103,
    "start_time": "2021-12-31T13:56:51.563Z"
   },
   {
    "duration": 81,
    "start_time": "2021-12-31T13:56:55.518Z"
   },
   {
    "duration": 249,
    "start_time": "2021-12-31T13:57:03.438Z"
   },
   {
    "duration": 4,
    "start_time": "2021-12-31T13:58:08.083Z"
   },
   {
    "duration": 24,
    "start_time": "2021-12-31T13:58:11.570Z"
   },
   {
    "duration": 22,
    "start_time": "2021-12-31T13:58:49.619Z"
   },
   {
    "duration": 22,
    "start_time": "2021-12-31T13:59:30.818Z"
   },
   {
    "duration": 22,
    "start_time": "2021-12-31T14:00:13.501Z"
   },
   {
    "duration": 297,
    "start_time": "2021-12-31T14:00:44.665Z"
   },
   {
    "duration": 23,
    "start_time": "2021-12-31T14:01:06.534Z"
   },
   {
    "duration": 21,
    "start_time": "2021-12-31T14:02:46.798Z"
   },
   {
    "duration": 18,
    "start_time": "2021-12-31T14:14:12.086Z"
   },
   {
    "duration": 15,
    "start_time": "2021-12-31T14:14:46.068Z"
   },
   {
    "duration": 14,
    "start_time": "2021-12-31T14:15:03.005Z"
   },
   {
    "duration": 14,
    "start_time": "2021-12-31T14:16:35.933Z"
   },
   {
    "duration": 13,
    "start_time": "2021-12-31T14:16:41.535Z"
   },
   {
    "duration": 181,
    "start_time": "2021-12-31T14:17:41.589Z"
   },
   {
    "duration": 184,
    "start_time": "2021-12-31T14:19:27.727Z"
   },
   {
    "duration": 296,
    "start_time": "2021-12-31T14:21:30.988Z"
   },
   {
    "duration": 15,
    "start_time": "2021-12-31T14:22:11.832Z"
   },
   {
    "duration": 13,
    "start_time": "2021-12-31T14:22:36.308Z"
   },
   {
    "duration": 14,
    "start_time": "2021-12-31T14:22:49.965Z"
   },
   {
    "duration": 23,
    "start_time": "2021-12-31T14:27:29.333Z"
   },
   {
    "duration": 23,
    "start_time": "2021-12-31T14:28:07.514Z"
   },
   {
    "duration": 5,
    "start_time": "2021-12-31T14:29:29.466Z"
   },
   {
    "duration": 17,
    "start_time": "2021-12-31T14:29:48.545Z"
   },
   {
    "duration": 210,
    "start_time": "2021-12-31T14:29:54.778Z"
   },
   {
    "duration": 24,
    "start_time": "2021-12-31T14:30:11.158Z"
   },
   {
    "duration": 299,
    "start_time": "2021-12-31T14:31:41.477Z"
   },
   {
    "duration": 325,
    "start_time": "2021-12-31T14:32:03.368Z"
   },
   {
    "duration": 326,
    "start_time": "2021-12-31T14:32:13.000Z"
   },
   {
    "duration": 180,
    "start_time": "2021-12-31T14:32:37.525Z"
   },
   {
    "duration": 172,
    "start_time": "2021-12-31T14:33:04.795Z"
   },
   {
    "duration": 164,
    "start_time": "2021-12-31T14:33:14.718Z"
   },
   {
    "duration": 278,
    "start_time": "2021-12-31T14:33:25.968Z"
   },
   {
    "duration": 170,
    "start_time": "2021-12-31T14:33:50.224Z"
   },
   {
    "duration": 169,
    "start_time": "2021-12-31T14:33:59.156Z"
   },
   {
    "duration": 216,
    "start_time": "2021-12-31T14:35:41.738Z"
   },
   {
    "duration": 202,
    "start_time": "2021-12-31T14:36:09.684Z"
   },
   {
    "duration": 206,
    "start_time": "2021-12-31T14:36:47.799Z"
   },
   {
    "duration": 188,
    "start_time": "2021-12-31T14:38:26.352Z"
   },
   {
    "duration": 304,
    "start_time": "2021-12-31T14:42:36.360Z"
   },
   {
    "duration": 310,
    "start_time": "2021-12-31T14:43:07.636Z"
   },
   {
    "duration": 178,
    "start_time": "2021-12-31T14:43:34.367Z"
   },
   {
    "duration": 170,
    "start_time": "2021-12-31T14:44:04.202Z"
   },
   {
    "duration": 274,
    "start_time": "2021-12-31T14:44:12.257Z"
   },
   {
    "duration": 217,
    "start_time": "2021-12-31T14:44:41.210Z"
   },
   {
    "duration": 210,
    "start_time": "2021-12-31T14:45:10.308Z"
   },
   {
    "duration": 210,
    "start_time": "2021-12-31T14:45:39.469Z"
   },
   {
    "duration": 190,
    "start_time": "2021-12-31T14:46:00.956Z"
   },
   {
    "duration": 267,
    "start_time": "2021-12-31T14:48:38.256Z"
   },
   {
    "duration": 187,
    "start_time": "2021-12-31T14:50:14.022Z"
   },
   {
    "duration": 22,
    "start_time": "2021-12-31T14:52:41.566Z"
   },
   {
    "duration": 5,
    "start_time": "2021-12-31T14:55:22.099Z"
   },
   {
    "duration": 14,
    "start_time": "2021-12-31T14:55:23.245Z"
   },
   {
    "duration": 669,
    "start_time": "2021-12-31T14:56:06.318Z"
   },
   {
    "duration": 10,
    "start_time": "2021-12-31T14:56:09.242Z"
   },
   {
    "duration": 12,
    "start_time": "2021-12-31T14:56:11.739Z"
   },
   {
    "duration": 19,
    "start_time": "2021-12-31T14:56:13.516Z"
   },
   {
    "duration": 9,
    "start_time": "2021-12-31T14:56:15.226Z"
   },
   {
    "duration": 27,
    "start_time": "2021-12-31T14:56:16.936Z"
   },
   {
    "duration": 7,
    "start_time": "2021-12-31T14:56:18.533Z"
   },
   {
    "duration": 6,
    "start_time": "2021-12-31T14:56:20.198Z"
   },
   {
    "duration": 9,
    "start_time": "2021-12-31T14:56:21.301Z"
   },
   {
    "duration": 34,
    "start_time": "2021-12-31T14:56:23.956Z"
   },
   {
    "duration": 14,
    "start_time": "2021-12-31T14:56:25.871Z"
   },
   {
    "duration": 6,
    "start_time": "2021-12-31T14:56:27.015Z"
   },
   {
    "duration": 23,
    "start_time": "2021-12-31T14:56:28.433Z"
   },
   {
    "duration": 26,
    "start_time": "2021-12-31T14:56:45.040Z"
   },
   {
    "duration": 23,
    "start_time": "2021-12-31T14:56:46.907Z"
   },
   {
    "duration": 477,
    "start_time": "2021-12-31T14:56:48.369Z"
   },
   {
    "duration": 21,
    "start_time": "2021-12-31T14:56:50.237Z"
   },
   {
    "duration": 446,
    "start_time": "2021-12-31T14:56:52.217Z"
   },
   {
    "duration": 347,
    "start_time": "2021-12-31T14:56:54.826Z"
   },
   {
    "duration": 199,
    "start_time": "2021-12-31T14:56:57.661Z"
   },
   {
    "duration": 189,
    "start_time": "2021-12-31T14:57:03.041Z"
   },
   {
    "duration": 185,
    "start_time": "2021-12-31T14:57:05.830Z"
   },
   {
    "duration": 246,
    "start_time": "2021-12-31T14:57:09.093Z"
   },
   {
    "duration": 36,
    "start_time": "2021-12-31T14:57:11.140Z"
   },
   {
    "duration": 150,
    "start_time": "2021-12-31T14:57:13.614Z"
   },
   {
    "duration": 134,
    "start_time": "2021-12-31T14:57:16.090Z"
   },
   {
    "duration": 132,
    "start_time": "2021-12-31T14:57:20.275Z"
   },
   {
    "duration": 216,
    "start_time": "2021-12-31T14:57:21.759Z"
   },
   {
    "duration": 56,
    "start_time": "2021-12-31T14:57:24.640Z"
   },
   {
    "duration": 216,
    "start_time": "2021-12-31T14:57:27.340Z"
   },
   {
    "duration": 231,
    "start_time": "2021-12-31T14:57:30.063Z"
   },
   {
    "duration": 255,
    "start_time": "2021-12-31T14:57:32.493Z"
   },
   {
    "duration": 172,
    "start_time": "2021-12-31T14:57:34.566Z"
   },
   {
    "duration": 199,
    "start_time": "2021-12-31T14:57:36.631Z"
   },
   {
    "duration": 180,
    "start_time": "2021-12-31T14:57:38.612Z"
   },
   {
    "duration": 193,
    "start_time": "2021-12-31T14:57:40.772Z"
   },
   {
    "duration": 16,
    "start_time": "2021-12-31T14:57:43.336Z"
   },
   {
    "duration": 25,
    "start_time": "2021-12-31T14:57:46.938Z"
   },
   {
    "duration": 5,
    "start_time": "2021-12-31T14:57:50.920Z"
   },
   {
    "duration": 18,
    "start_time": "2021-12-31T14:57:53.935Z"
   },
   {
    "duration": 240,
    "start_time": "2021-12-31T14:58:05.859Z"
   },
   {
    "duration": 24,
    "start_time": "2021-12-31T14:58:17.292Z"
   },
   {
    "duration": 326,
    "start_time": "2021-12-31T14:58:24.761Z"
   },
   {
    "duration": 416,
    "start_time": "2021-12-31T14:58:27.032Z"
   },
   {
    "duration": 184,
    "start_time": "2021-12-31T14:58:29.531Z"
   },
   {
    "duration": 187,
    "start_time": "2021-12-31T14:58:31.690Z"
   },
   {
    "duration": 285,
    "start_time": "2021-12-31T14:58:34.277Z"
   },
   {
    "duration": 221,
    "start_time": "2021-12-31T14:58:38.599Z"
   },
   {
    "duration": 215,
    "start_time": "2021-12-31T14:58:40.736Z"
   },
   {
    "duration": 198,
    "start_time": "2021-12-31T14:58:42.875Z"
   },
   {
    "duration": 15,
    "start_time": "2021-12-31T14:58:54.506Z"
   },
   {
    "duration": 245,
    "start_time": "2021-12-31T14:59:17.254Z"
   },
   {
    "duration": 24,
    "start_time": "2021-12-31T14:59:24.996Z"
   },
   {
    "duration": 27,
    "start_time": "2021-12-31T14:59:31.072Z"
   },
   {
    "duration": 43,
    "start_time": "2021-12-31T15:00:01.738Z"
   },
   {
    "duration": 33,
    "start_time": "2021-12-31T15:00:14.452Z"
   },
   {
    "duration": 32,
    "start_time": "2021-12-31T15:01:51.205Z"
   },
   {
    "duration": 309,
    "start_time": "2021-12-31T15:01:55.344Z"
   },
   {
    "duration": 385,
    "start_time": "2021-12-31T15:01:57.954Z"
   },
   {
    "duration": 176,
    "start_time": "2021-12-31T15:02:00.114Z"
   },
   {
    "duration": 167,
    "start_time": "2021-12-31T15:02:02.433Z"
   },
   {
    "duration": 268,
    "start_time": "2021-12-31T15:02:04.952Z"
   },
   {
    "duration": 219,
    "start_time": "2021-12-31T15:02:07.809Z"
   },
   {
    "duration": 207,
    "start_time": "2021-12-31T15:02:09.991Z"
   },
   {
    "duration": 209,
    "start_time": "2021-12-31T15:02:13.638Z"
   },
   {
    "duration": 194,
    "start_time": "2021-12-31T15:02:15.684Z"
   },
   {
    "duration": 172,
    "start_time": "2021-12-31T15:04:11.205Z"
   },
   {
    "duration": 269,
    "start_time": "2021-12-31T15:04:21.105Z"
   },
   {
    "duration": 219,
    "start_time": "2021-12-31T15:04:23.782Z"
   },
   {
    "duration": 210,
    "start_time": "2021-12-31T15:04:26.145Z"
   },
   {
    "duration": 215,
    "start_time": "2021-12-31T15:04:27.945Z"
   },
   {
    "duration": 216,
    "start_time": "2021-12-31T15:05:26.469Z"
   },
   {
    "duration": 318,
    "start_time": "2021-12-31T15:05:57.944Z"
   },
   {
    "duration": 211,
    "start_time": "2022-01-01T18:12:21.860Z"
   },
   {
    "duration": 608,
    "start_time": "2022-01-01T18:12:40.053Z"
   },
   {
    "duration": 12,
    "start_time": "2022-01-01T18:12:43.197Z"
   },
   {
    "duration": 12,
    "start_time": "2022-01-01T18:12:45.358Z"
   },
   {
    "duration": 21,
    "start_time": "2022-01-01T18:12:46.819Z"
   },
   {
    "duration": 8,
    "start_time": "2022-01-01T18:12:48.327Z"
   },
   {
    "duration": 28,
    "start_time": "2022-01-01T18:12:49.839Z"
   },
   {
    "duration": 7,
    "start_time": "2022-01-01T18:12:51.051Z"
   },
   {
    "duration": 5,
    "start_time": "2022-01-01T18:12:52.490Z"
   },
   {
    "duration": 9,
    "start_time": "2022-01-01T18:12:53.843Z"
   },
   {
    "duration": 26,
    "start_time": "2022-01-01T18:12:55.438Z"
   },
   {
    "duration": 12,
    "start_time": "2022-01-01T18:12:57.912Z"
   },
   {
    "duration": 5,
    "start_time": "2022-01-01T18:12:58.306Z"
   },
   {
    "duration": 23,
    "start_time": "2022-01-01T18:12:59.713Z"
   },
   {
    "duration": 20,
    "start_time": "2022-01-01T18:13:00.930Z"
   },
   {
    "duration": 22,
    "start_time": "2022-01-01T18:13:03.291Z"
   },
   {
    "duration": 453,
    "start_time": "2022-01-01T18:13:05.451Z"
   },
   {
    "duration": 21,
    "start_time": "2022-01-01T18:13:07.610Z"
   },
   {
    "duration": 442,
    "start_time": "2022-01-01T18:13:09.589Z"
   },
   {
    "duration": 358,
    "start_time": "2022-01-01T18:13:10.033Z"
   },
   {
    "duration": 183,
    "start_time": "2022-01-01T18:13:11.525Z"
   },
   {
    "duration": 184,
    "start_time": "2022-01-01T18:13:13.303Z"
   },
   {
    "duration": 276,
    "start_time": "2022-01-01T18:13:14.768Z"
   },
   {
    "duration": 30,
    "start_time": "2022-01-01T18:13:15.846Z"
   },
   {
    "duration": 142,
    "start_time": "2022-01-01T18:13:18.568Z"
   },
   {
    "duration": 142,
    "start_time": "2022-01-01T18:13:19.491Z"
   },
   {
    "duration": 134,
    "start_time": "2022-01-01T18:13:19.896Z"
   },
   {
    "duration": 139,
    "start_time": "2022-01-01T18:13:20.346Z"
   },
   {
    "duration": 109,
    "start_time": "2022-01-01T18:13:23.495Z"
   },
   {
    "duration": 224,
    "start_time": "2022-01-01T18:13:27.591Z"
   },
   {
    "duration": 219,
    "start_time": "2022-01-01T18:13:29.031Z"
   },
   {
    "duration": 224,
    "start_time": "2022-01-01T18:13:32.203Z"
   },
   {
    "duration": 257,
    "start_time": "2022-01-01T18:13:54.327Z"
   },
   {
    "duration": 171,
    "start_time": "2022-01-01T18:15:50.740Z"
   },
   {
    "duration": 185,
    "start_time": "2022-01-01T18:16:37.567Z"
   },
   {
    "duration": 173,
    "start_time": "2022-01-01T18:16:44.068Z"
   },
   {
    "duration": 192,
    "start_time": "2022-01-01T18:16:54.936Z"
   },
   {
    "duration": 183,
    "start_time": "2022-01-01T18:16:59.143Z"
   },
   {
    "duration": 191,
    "start_time": "2022-01-01T18:17:00.719Z"
   },
   {
    "duration": 16,
    "start_time": "2022-01-01T18:17:14.219Z"
   },
   {
    "duration": 26,
    "start_time": "2022-01-01T18:17:39.487Z"
   },
   {
    "duration": 6,
    "start_time": "2022-01-01T18:18:02.527Z"
   },
   {
    "duration": 18,
    "start_time": "2022-01-01T18:18:04.035Z"
   },
   {
    "duration": 238,
    "start_time": "2022-01-01T18:18:07.275Z"
   },
   {
    "duration": 211,
    "start_time": "2022-01-01T18:18:29.552Z"
   },
   {
    "duration": 98,
    "start_time": "2022-01-01T18:18:32.504Z"
   },
   {
    "duration": 341,
    "start_time": "2022-01-01T18:18:34.098Z"
   },
   {
    "duration": 332,
    "start_time": "2022-01-01T18:18:37.720Z"
   },
   {
    "duration": 183,
    "start_time": "2022-01-01T18:18:39.771Z"
   },
   {
    "duration": 187,
    "start_time": "2022-01-01T18:18:41.552Z"
   },
   {
    "duration": 284,
    "start_time": "2022-01-01T18:18:45.998Z"
   },
   {
    "duration": 224,
    "start_time": "2022-01-01T18:18:50.116Z"
   },
   {
    "duration": 218,
    "start_time": "2022-01-01T18:18:52.053Z"
   },
   {
    "duration": 213,
    "start_time": "2022-01-01T18:18:54.122Z"
   },
   {
    "duration": 70,
    "start_time": "2022-01-01T18:21:05.239Z"
   },
   {
    "duration": 5217,
    "start_time": "2022-01-01T18:21:15.021Z"
   },
   {
    "duration": 185,
    "start_time": "2022-01-01T18:21:57.953Z"
   },
   {
    "duration": 4957,
    "start_time": "2022-01-01T18:22:30.129Z"
   },
   {
    "duration": 4276,
    "start_time": "2022-01-01T18:24:36.687Z"
   },
   {
    "duration": 18,
    "start_time": "2022-01-01T18:26:09.579Z"
   },
   {
    "duration": 21,
    "start_time": "2022-01-01T18:26:41.377Z"
   },
   {
    "duration": 256,
    "start_time": "2022-01-01T18:26:57.077Z"
   },
   {
    "duration": 60,
    "start_time": "2022-01-01T18:28:47.062Z"
   },
   {
    "duration": 4467,
    "start_time": "2022-01-01T18:28:56.105Z"
   },
   {
    "duration": 4220,
    "start_time": "2022-01-01T18:29:29.476Z"
   },
   {
    "duration": 61,
    "start_time": "2022-01-01T18:30:32.028Z"
   },
   {
    "duration": 4210,
    "start_time": "2022-01-01T18:30:39.721Z"
   },
   {
    "duration": 347,
    "start_time": "2022-01-01T18:31:04.159Z"
   },
   {
    "duration": 193,
    "start_time": "2022-01-01T18:31:59.059Z"
   },
   {
    "duration": 331,
    "start_time": "2022-01-01T18:32:10.354Z"
   },
   {
    "duration": 373,
    "start_time": "2022-01-01T18:32:37.692Z"
   },
   {
    "duration": 518,
    "start_time": "2022-01-01T18:33:05.640Z"
   },
   {
    "duration": 479,
    "start_time": "2022-01-01T18:33:18.329Z"
   },
   {
    "duration": 322,
    "start_time": "2022-01-01T18:34:57.624Z"
   },
   {
    "duration": 407,
    "start_time": "2022-01-01T18:35:02.912Z"
   },
   {
    "duration": 265,
    "start_time": "2022-01-01T18:36:41.241Z"
   },
   {
    "duration": 286,
    "start_time": "2022-01-01T18:36:49.274Z"
   },
   {
    "duration": 486,
    "start_time": "2022-01-01T18:37:07.071Z"
   },
   {
    "duration": 324,
    "start_time": "2022-01-01T18:37:14.565Z"
   },
   {
    "duration": 272,
    "start_time": "2022-01-01T18:37:55.201Z"
   },
   {
    "duration": 295,
    "start_time": "2022-01-01T18:38:29.644Z"
   },
   {
    "duration": 327,
    "start_time": "2022-01-01T18:40:09.911Z"
   },
   {
    "duration": 417,
    "start_time": "2022-01-01T18:40:57.610Z"
   },
   {
    "duration": 265,
    "start_time": "2022-01-01T18:41:19.347Z"
   },
   {
    "duration": 257,
    "start_time": "2022-01-01T18:41:53.144Z"
   },
   {
    "duration": 689,
    "start_time": "2022-01-01T18:45:29.311Z"
   },
   {
    "duration": 408,
    "start_time": "2022-01-01T18:45:46.453Z"
   },
   {
    "duration": 365,
    "start_time": "2022-01-01T18:46:07.289Z"
   },
   {
    "duration": 566,
    "start_time": "2022-01-01T18:46:47.025Z"
   },
   {
    "duration": 366,
    "start_time": "2022-01-01T18:46:55.509Z"
   },
   {
    "duration": 364,
    "start_time": "2022-01-01T18:47:11.506Z"
   },
   {
    "duration": 362,
    "start_time": "2022-01-01T18:49:41.970Z"
   },
   {
    "duration": 337,
    "start_time": "2022-01-01T18:49:47.482Z"
   },
   {
    "duration": 346,
    "start_time": "2022-01-01T18:50:03.277Z"
   },
   {
    "duration": 453,
    "start_time": "2022-01-01T18:50:28.365Z"
   },
   {
    "duration": 174,
    "start_time": "2022-01-01T18:50:59.529Z"
   },
   {
    "duration": 199,
    "start_time": "2022-01-01T18:51:30.378Z"
   },
   {
    "duration": 270,
    "start_time": "2022-01-01T18:52:17.517Z"
   },
   {
    "duration": 457,
    "start_time": "2022-01-01T18:52:43.123Z"
   },
   {
    "duration": 258,
    "start_time": "2022-01-01T18:52:54.192Z"
   },
   {
    "duration": 282,
    "start_time": "2022-01-01T18:53:00.539Z"
   },
   {
    "duration": 360,
    "start_time": "2022-01-01T18:54:08.784Z"
   },
   {
    "duration": 313,
    "start_time": "2022-01-01T18:54:23.048Z"
   },
   {
    "duration": 199,
    "start_time": "2022-01-01T18:55:08.140Z"
   },
   {
    "duration": 275,
    "start_time": "2022-01-01T18:55:24.364Z"
   },
   {
    "duration": 247,
    "start_time": "2022-01-01T19:00:43.066Z"
   },
   {
    "duration": 212,
    "start_time": "2022-01-01T19:01:27.264Z"
   },
   {
    "duration": 136,
    "start_time": "2022-01-01T19:05:11.703Z"
   },
   {
    "duration": 340,
    "start_time": "2022-01-01T19:05:43.564Z"
   },
   {
    "duration": 326,
    "start_time": "2022-01-01T19:06:02.285Z"
   },
   {
    "duration": 191,
    "start_time": "2022-01-01T19:06:29.802Z"
   },
   {
    "duration": 178,
    "start_time": "2022-01-01T19:06:45.643Z"
   },
   {
    "duration": 276,
    "start_time": "2022-01-01T19:06:55.746Z"
   },
   {
    "duration": 410,
    "start_time": "2022-01-01T19:07:03.261Z"
   },
   {
    "duration": 241,
    "start_time": "2022-01-01T19:10:50.857Z"
   },
   {
    "duration": 448,
    "start_time": "2022-01-02T10:54:51.360Z"
   },
   {
    "duration": 944,
    "start_time": "2022-01-02T10:55:07.313Z"
   },
   {
    "duration": 15,
    "start_time": "2022-01-02T10:55:10.529Z"
   },
   {
    "duration": 18,
    "start_time": "2022-01-02T10:55:14.220Z"
   },
   {
    "duration": 31,
    "start_time": "2022-01-02T10:55:15.974Z"
   },
   {
    "duration": 12,
    "start_time": "2022-01-02T10:55:17.976Z"
   },
   {
    "duration": 44,
    "start_time": "2022-01-02T10:55:19.506Z"
   },
   {
    "duration": 10,
    "start_time": "2022-01-02T10:55:20.722Z"
   },
   {
    "duration": 7,
    "start_time": "2022-01-02T10:55:22.611Z"
   },
   {
    "duration": 13,
    "start_time": "2022-01-02T10:55:23.759Z"
   },
   {
    "duration": 40,
    "start_time": "2022-01-02T10:55:25.357Z"
   },
   {
    "duration": 17,
    "start_time": "2022-01-02T10:55:26.796Z"
   },
   {
    "duration": 8,
    "start_time": "2022-01-02T10:55:27.606Z"
   },
   {
    "duration": 29,
    "start_time": "2022-01-02T10:55:29.248Z"
   },
   {
    "duration": 30,
    "start_time": "2022-01-02T10:55:32.557Z"
   },
   {
    "duration": 36,
    "start_time": "2022-01-02T10:55:38.092Z"
   },
   {
    "duration": 768,
    "start_time": "2022-01-02T10:55:39.892Z"
   },
   {
    "duration": 36,
    "start_time": "2022-01-02T10:55:42.547Z"
   },
   {
    "duration": 584,
    "start_time": "2022-01-02T10:55:45.202Z"
   },
   {
    "duration": 554,
    "start_time": "2022-01-02T10:55:46.821Z"
   },
   {
    "duration": 289,
    "start_time": "2022-01-02T10:55:48.645Z"
   },
   {
    "duration": 298,
    "start_time": "2022-01-02T10:55:50.063Z"
   },
   {
    "duration": 402,
    "start_time": "2022-01-02T10:55:52.380Z"
   },
   {
    "duration": 44,
    "start_time": "2022-01-02T10:55:53.842Z"
   },
   {
    "duration": 211,
    "start_time": "2022-01-02T10:55:56.384Z"
   },
   {
    "duration": 212,
    "start_time": "2022-01-02T10:55:58.094Z"
   },
   {
    "duration": 196,
    "start_time": "2022-01-02T10:55:59.737Z"
   },
   {
    "duration": 357,
    "start_time": "2022-01-02T10:56:01.001Z"
   },
   {
    "duration": 178,
    "start_time": "2022-01-02T10:56:05.970Z"
   },
   {
    "duration": 338,
    "start_time": "2022-01-02T10:56:08.647Z"
   },
   {
    "duration": 354,
    "start_time": "2022-01-02T10:56:10.559Z"
   },
   {
    "duration": 528,
    "start_time": "2022-01-02T10:56:12.990Z"
   },
   {
    "duration": 265,
    "start_time": "2022-01-02T10:56:16.476Z"
   },
   {
    "duration": 287,
    "start_time": "2022-01-02T10:56:18.412Z"
   },
   {
    "duration": 274,
    "start_time": "2022-01-02T10:56:20.527Z"
   },
   {
    "duration": 293,
    "start_time": "2022-01-02T10:56:22.889Z"
   },
   {
    "duration": 23,
    "start_time": "2022-01-02T10:56:25.049Z"
   },
   {
    "duration": 34,
    "start_time": "2022-01-02T10:56:26.917Z"
   },
   {
    "duration": 7,
    "start_time": "2022-01-02T10:56:33.398Z"
   },
   {
    "duration": 26,
    "start_time": "2022-01-02T10:56:34.635Z"
   },
   {
    "duration": 350,
    "start_time": "2022-01-02T10:56:36.930Z"
   },
   {
    "duration": 365,
    "start_time": "2022-01-02T10:56:38.932Z"
   },
   {
    "duration": 54,
    "start_time": "2022-01-02T10:56:41.812Z"
   },
   {
    "duration": 397,
    "start_time": "2022-01-02T10:56:43.589Z"
   },
   {
    "duration": 499,
    "start_time": "2022-01-02T10:56:45.817Z"
   },
   {
    "duration": 283,
    "start_time": "2022-01-02T10:56:48.117Z"
   },
   {
    "duration": 284,
    "start_time": "2022-01-02T10:56:50.384Z"
   },
   {
    "duration": 371,
    "start_time": "2022-01-02T10:56:53.017Z"
   },
   {
    "duration": 361,
    "start_time": "2022-01-02T10:56:56.144Z"
   },
   {
    "duration": 418,
    "start_time": "2022-01-02T10:56:58.197Z"
   },
   {
    "duration": 356,
    "start_time": "2022-01-02T10:57:00.735Z"
   },
   {
    "duration": 815,
    "start_time": "2022-01-02T11:00:54.344Z"
   },
   {
    "duration": 396,
    "start_time": "2022-01-02T11:01:06.939Z"
   },
   {
    "duration": 374,
    "start_time": "2022-01-02T11:01:13.396Z"
   },
   {
    "duration": 413,
    "start_time": "2022-01-02T11:01:44.060Z"
   },
   {
    "duration": 475,
    "start_time": "2022-01-02T11:01:50.477Z"
   },
   {
    "duration": 646,
    "start_time": "2022-01-02T11:02:13.134Z"
   },
   {
    "duration": 279,
    "start_time": "2022-01-02T11:02:41.575Z"
   },
   {
    "duration": 302,
    "start_time": "2022-01-02T11:03:23.762Z"
   },
   {
    "duration": 485,
    "start_time": "2022-01-02T11:19:46.933Z"
   },
   {
    "duration": 388,
    "start_time": "2022-01-02T11:20:18.249Z"
   },
   {
    "duration": 290,
    "start_time": "2022-01-02T11:24:37.521Z"
   },
   {
    "duration": 287,
    "start_time": "2022-01-02T11:25:00.043Z"
   },
   {
    "duration": 286,
    "start_time": "2022-01-02T11:25:31.858Z"
   },
   {
    "duration": 280,
    "start_time": "2022-01-02T11:25:59.130Z"
   },
   {
    "duration": 420,
    "start_time": "2022-01-02T11:32:05.687Z"
   },
   {
    "duration": 628,
    "start_time": "2022-01-02T11:34:59.915Z"
   },
   {
    "duration": 291,
    "start_time": "2022-01-02T11:35:53.844Z"
   },
   {
    "duration": 344,
    "start_time": "2022-01-02T11:36:10.269Z"
   },
   {
    "duration": 291,
    "start_time": "2022-01-02T11:36:20.844Z"
   },
   {
    "duration": 649,
    "start_time": "2022-01-03T14:24:56.202Z"
   },
   {
    "duration": 12,
    "start_time": "2022-01-03T14:24:56.853Z"
   },
   {
    "duration": 28,
    "start_time": "2022-01-03T14:24:56.867Z"
   },
   {
    "duration": 20,
    "start_time": "2022-01-03T14:24:56.897Z"
   },
   {
    "duration": 9,
    "start_time": "2022-01-03T14:24:56.919Z"
   },
   {
    "duration": 34,
    "start_time": "2022-01-03T14:24:56.930Z"
   },
   {
    "duration": 26,
    "start_time": "2022-01-03T14:24:56.966Z"
   },
   {
    "duration": 7,
    "start_time": "2022-01-03T14:24:56.994Z"
   },
   {
    "duration": 15,
    "start_time": "2022-01-03T14:24:57.004Z"
   },
   {
    "duration": 45,
    "start_time": "2022-01-03T14:24:57.021Z"
   },
   {
    "duration": 23,
    "start_time": "2022-01-03T14:24:57.068Z"
   },
   {
    "duration": 6,
    "start_time": "2022-01-03T14:24:57.093Z"
   },
   {
    "duration": 22,
    "start_time": "2022-01-03T14:24:57.101Z"
   },
   {
    "duration": 19,
    "start_time": "2022-01-03T14:24:57.125Z"
   },
   {
    "duration": 47,
    "start_time": "2022-01-03T14:24:57.146Z"
   },
   {
    "duration": 475,
    "start_time": "2022-01-03T14:24:57.195Z"
   },
   {
    "duration": 28,
    "start_time": "2022-01-03T14:24:57.672Z"
   },
   {
    "duration": 340,
    "start_time": "2022-01-03T14:24:57.702Z"
   },
   {
    "duration": 377,
    "start_time": "2022-01-03T14:24:58.044Z"
   },
   {
    "duration": 394,
    "start_time": "2022-01-03T14:24:58.423Z"
   },
   {
    "duration": 231,
    "start_time": "2022-01-03T14:24:58.819Z"
   },
   {
    "duration": 267,
    "start_time": "2022-01-03T14:24:59.052Z"
   },
   {
    "duration": 27,
    "start_time": "2022-01-03T14:24:59.320Z"
   },
   {
    "duration": 164,
    "start_time": "2022-01-03T14:24:59.349Z"
   },
   {
    "duration": 152,
    "start_time": "2022-01-03T14:24:59.515Z"
   },
   {
    "duration": 153,
    "start_time": "2022-01-03T14:24:59.669Z"
   },
   {
    "duration": 162,
    "start_time": "2022-01-03T14:24:59.826Z"
   },
   {
    "duration": 133,
    "start_time": "2022-01-03T14:24:59.991Z"
   },
   {
    "duration": 236,
    "start_time": "2022-01-03T14:25:00.126Z"
   },
   {
    "duration": 238,
    "start_time": "2022-01-03T14:25:00.364Z"
   },
   {
    "duration": 348,
    "start_time": "2022-01-03T14:25:00.604Z"
   },
   {
    "duration": 184,
    "start_time": "2022-01-03T14:25:00.953Z"
   },
   {
    "duration": 213,
    "start_time": "2022-01-03T14:25:01.139Z"
   },
   {
    "duration": 203,
    "start_time": "2022-01-03T14:25:01.354Z"
   },
   {
    "duration": 205,
    "start_time": "2022-01-03T14:25:01.559Z"
   },
   {
    "duration": 16,
    "start_time": "2022-01-03T14:25:01.766Z"
   },
   {
    "duration": 28,
    "start_time": "2022-01-03T14:25:01.792Z"
   },
   {
    "duration": 4,
    "start_time": "2022-01-03T14:25:01.822Z"
   },
   {
    "duration": 49,
    "start_time": "2022-01-03T14:25:01.827Z"
   },
   {
    "duration": 251,
    "start_time": "2022-01-03T14:25:01.878Z"
   },
   {
    "duration": 35,
    "start_time": "2022-01-03T14:25:02.130Z"
   },
   {
    "duration": 302,
    "start_time": "2022-01-03T14:25:02.167Z"
   },
   {
    "duration": 348,
    "start_time": "2022-01-03T14:25:02.471Z"
   },
   {
    "duration": 247,
    "start_time": "2022-01-03T14:25:02.821Z"
   },
   {
    "duration": 206,
    "start_time": "2022-01-03T14:25:03.070Z"
   },
   {
    "duration": 239,
    "start_time": "2022-01-03T14:25:03.278Z"
   },
   {
    "duration": 242,
    "start_time": "2022-01-03T14:25:03.519Z"
   },
   {
    "duration": 350,
    "start_time": "2022-01-03T14:25:03.763Z"
   },
   {
    "duration": 188,
    "start_time": "2022-01-03T14:25:04.115Z"
   },
   {
    "duration": 4,
    "start_time": "2022-01-03T14:27:28.259Z"
   },
   {
    "duration": 200,
    "start_time": "2022-01-03T14:27:37.872Z"
   },
   {
    "duration": 274,
    "start_time": "2022-01-03T15:25:49.832Z"
   },
   {
    "duration": 675,
    "start_time": "2022-01-03T15:26:05.176Z"
   },
   {
    "duration": 11,
    "start_time": "2022-01-03T15:26:07.488Z"
   },
   {
    "duration": 13,
    "start_time": "2022-01-03T15:26:09.266Z"
   },
   {
    "duration": 19,
    "start_time": "2022-01-03T15:26:11.133Z"
   },
   {
    "duration": 9,
    "start_time": "2022-01-03T15:26:13.091Z"
   },
   {
    "duration": 27,
    "start_time": "2022-01-03T15:26:14.867Z"
   },
   {
    "duration": 7,
    "start_time": "2022-01-03T15:26:15.994Z"
   },
   {
    "duration": 6,
    "start_time": "2022-01-03T15:26:17.591Z"
   },
   {
    "duration": 9,
    "start_time": "2022-01-03T15:26:18.063Z"
   },
   {
    "duration": 26,
    "start_time": "2022-01-03T15:26:20.111Z"
   },
   {
    "duration": 16,
    "start_time": "2022-01-03T15:26:21.573Z"
   },
   {
    "duration": 6,
    "start_time": "2022-01-03T15:26:22.045Z"
   },
   {
    "duration": 23,
    "start_time": "2022-01-03T15:26:23.711Z"
   },
   {
    "duration": 26,
    "start_time": "2022-01-03T15:26:44.996Z"
   },
   {
    "duration": 24,
    "start_time": "2022-01-03T15:26:47.448Z"
   },
   {
    "duration": 454,
    "start_time": "2022-01-03T15:26:49.270Z"
   },
   {
    "duration": 30,
    "start_time": "2022-01-03T15:26:51.813Z"
   },
   {
    "duration": 318,
    "start_time": "2022-01-03T15:26:59.756Z"
   },
   {
    "duration": 628,
    "start_time": "2022-01-03T15:27:01.652Z"
   },
   {
    "duration": 535,
    "start_time": "2022-01-03T15:27:08.374Z"
   },
   {
    "duration": 296,
    "start_time": "2022-01-03T15:27:13.077Z"
   },
   {
    "duration": 240,
    "start_time": "2022-01-03T15:28:05.953Z"
   },
   {
    "duration": 346,
    "start_time": "2022-01-03T15:28:09.800Z"
   },
   {
    "duration": 250,
    "start_time": "2022-01-03T15:28:21.342Z"
   },
   {
    "duration": 315,
    "start_time": "2022-01-03T15:28:27.081Z"
   },
   {
    "duration": 605,
    "start_time": "2022-01-03T15:29:58.996Z"
   },
   {
    "duration": 303,
    "start_time": "2022-01-03T15:30:11.304Z"
   },
   {
    "duration": 454,
    "start_time": "2022-01-03T15:31:26.523Z"
   },
   {
    "duration": 230,
    "start_time": "2022-01-03T15:31:34.922Z"
   },
   {
    "duration": 141,
    "start_time": "2022-01-03T15:35:24.018Z"
   },
   {
    "duration": 76,
    "start_time": "2022-01-03T15:44:19.944Z"
   },
   {
    "duration": 464,
    "start_time": "2022-01-03T15:44:24.914Z"
   },
   {
    "duration": 448,
    "start_time": "2022-01-03T15:45:56.988Z"
   },
   {
    "duration": 223,
    "start_time": "2022-01-03T15:46:09.633Z"
   },
   {
    "duration": 321,
    "start_time": "2022-01-03T15:48:10.911Z"
   },
   {
    "duration": 443,
    "start_time": "2022-01-03T15:48:31.206Z"
   },
   {
    "duration": 323,
    "start_time": "2022-01-03T15:48:41.534Z"
   },
   {
    "duration": 593,
    "start_time": "2022-01-03T15:49:29.864Z"
   },
   {
    "duration": 78,
    "start_time": "2022-01-03T15:49:39.811Z"
   },
   {
    "duration": 232,
    "start_time": "2022-01-03T15:49:43.568Z"
   },
   {
    "duration": 318,
    "start_time": "2022-01-03T15:51:55.262Z"
   },
   {
    "duration": 225,
    "start_time": "2022-01-03T15:52:11.373Z"
   },
   {
    "duration": 178,
    "start_time": "2022-01-03T15:52:32.990Z"
   },
   {
    "duration": 118,
    "start_time": "2022-01-03T15:53:29.158Z"
   },
   {
    "duration": 188,
    "start_time": "2022-01-03T15:53:36.739Z"
   },
   {
    "duration": 275,
    "start_time": "2022-01-03T15:54:15.733Z"
   },
   {
    "duration": 81,
    "start_time": "2022-01-03T15:54:50.698Z"
   },
   {
    "duration": 197,
    "start_time": "2022-01-03T15:54:55.244Z"
   },
   {
    "duration": 249,
    "start_time": "2022-01-03T15:55:23.415Z"
   },
   {
    "duration": 353,
    "start_time": "2022-01-03T15:55:32.279Z"
   },
   {
    "duration": 111,
    "start_time": "2022-01-03T15:58:39.978Z"
   },
   {
    "duration": 277,
    "start_time": "2022-01-03T16:00:24.268Z"
   },
   {
    "duration": 257,
    "start_time": "2022-01-03T16:08:06.323Z"
   },
   {
    "duration": 247,
    "start_time": "2022-01-03T16:08:21.353Z"
   },
   {
    "duration": 27,
    "start_time": "2022-01-03T16:08:22.749Z"
   },
   {
    "duration": 130,
    "start_time": "2022-01-03T16:08:24.817Z"
   },
   {
    "duration": 144,
    "start_time": "2022-01-03T16:08:27.136Z"
   },
   {
    "duration": 201,
    "start_time": "2022-01-03T16:08:28.597Z"
   },
   {
    "duration": 150,
    "start_time": "2022-01-03T16:08:31.411Z"
   },
   {
    "duration": 45,
    "start_time": "2022-01-03T16:08:36.833Z"
   },
   {
    "duration": 230,
    "start_time": "2022-01-03T16:08:38.925Z"
   },
   {
    "duration": 213,
    "start_time": "2022-01-03T16:08:41.895Z"
   },
   {
    "duration": 324,
    "start_time": "2022-01-03T16:08:43.380Z"
   },
   {
    "duration": 153,
    "start_time": "2022-01-03T16:08:45.765Z"
   },
   {
    "duration": 168,
    "start_time": "2022-01-03T16:08:47.701Z"
   },
   {
    "duration": 169,
    "start_time": "2022-01-03T16:08:50.107Z"
   },
   {
    "duration": 175,
    "start_time": "2022-01-03T16:08:51.682Z"
   },
   {
    "duration": 15,
    "start_time": "2022-01-03T16:08:56.858Z"
   },
   {
    "duration": 25,
    "start_time": "2022-01-03T16:08:58.546Z"
   },
   {
    "duration": 6,
    "start_time": "2022-01-03T16:09:01.245Z"
   },
   {
    "duration": 19,
    "start_time": "2022-01-03T16:09:02.326Z"
   },
   {
    "duration": 241,
    "start_time": "2022-01-03T16:09:04.035Z"
   },
   {
    "duration": 34,
    "start_time": "2022-01-03T16:09:07.500Z"
   },
   {
    "duration": 456,
    "start_time": "2022-01-03T16:09:10.831Z"
   },
   {
    "duration": 303,
    "start_time": "2022-01-03T16:09:22.329Z"
   },
   {
    "duration": 251,
    "start_time": "2022-01-03T16:09:49.485Z"
   },
   {
    "duration": 237,
    "start_time": "2022-01-03T16:09:54.908Z"
   },
   {
    "duration": 169,
    "start_time": "2022-01-03T16:10:17.342Z"
   },
   {
    "duration": 165,
    "start_time": "2022-01-03T16:10:27.962Z"
   },
   {
    "duration": 169,
    "start_time": "2022-01-03T16:10:43.802Z"
   },
   {
    "duration": 166,
    "start_time": "2022-01-03T16:11:53.871Z"
   },
   {
    "duration": 183,
    "start_time": "2022-01-03T16:15:37.507Z"
   },
   {
    "duration": 1119,
    "start_time": "2022-01-03T18:45:53.631Z"
   },
   {
    "duration": 16,
    "start_time": "2022-01-03T18:45:56.329Z"
   },
   {
    "duration": 19,
    "start_time": "2022-01-03T18:45:58.467Z"
   },
   {
    "duration": 45,
    "start_time": "2022-01-03T18:45:59.976Z"
   },
   {
    "duration": 12,
    "start_time": "2022-01-03T18:46:01.661Z"
   },
   {
    "duration": 45,
    "start_time": "2022-01-03T18:46:03.214Z"
   },
   {
    "duration": 10,
    "start_time": "2022-01-03T18:46:03.933Z"
   },
   {
    "duration": 10,
    "start_time": "2022-01-03T18:46:07.264Z"
   },
   {
    "duration": 14,
    "start_time": "2022-01-03T18:46:08.097Z"
   },
   {
    "duration": 44,
    "start_time": "2022-01-03T18:46:10.662Z"
   },
   {
    "duration": 18,
    "start_time": "2022-01-03T18:46:12.439Z"
   },
   {
    "duration": 8,
    "start_time": "2022-01-03T18:46:13.181Z"
   },
   {
    "duration": 105,
    "start_time": "2022-01-03T18:54:40.239Z"
   },
   {
    "duration": 367,
    "start_time": "2022-01-03T19:12:11.615Z"
   },
   {
    "duration": 38,
    "start_time": "2022-01-03T19:12:15.210Z"
   },
   {
    "duration": 40,
    "start_time": "2022-01-03T19:12:18.833Z"
   },
   {
    "duration": 790,
    "start_time": "2022-01-03T19:12:20.474Z"
   },
   {
    "duration": 38,
    "start_time": "2022-01-03T19:12:23.490Z"
   },
   {
    "duration": 446,
    "start_time": "2022-01-03T19:12:25.874Z"
   },
   {
    "duration": 573,
    "start_time": "2022-01-03T19:12:28.417Z"
   },
   {
    "duration": 328,
    "start_time": "2022-01-03T19:12:31.095Z"
   },
   {
    "duration": 309,
    "start_time": "2022-01-03T19:12:38.159Z"
   },
   {
    "duration": 434,
    "start_time": "2022-01-03T19:12:40.634Z"
   },
   {
    "duration": 44,
    "start_time": "2022-01-03T19:12:46.643Z"
   },
   {
    "duration": 236,
    "start_time": "2022-01-03T19:12:49.432Z"
   },
   {
    "duration": 219,
    "start_time": "2022-01-03T19:12:52.717Z"
   },
   {
    "duration": 234,
    "start_time": "2022-01-03T19:12:54.564Z"
   },
   {
    "duration": 232,
    "start_time": "2022-01-03T19:12:56.948Z"
   },
   {
    "duration": 159,
    "start_time": "2022-01-03T19:12:59.626Z"
   },
   {
    "duration": 469,
    "start_time": "2022-01-03T19:13:02.259Z"
   },
   {
    "duration": 399,
    "start_time": "2022-01-03T19:13:04.731Z"
   },
   {
    "duration": 529,
    "start_time": "2022-01-03T19:13:11.820Z"
   },
   {
    "duration": 371,
    "start_time": "2022-01-03T19:13:15.329Z"
   },
   {
    "duration": 317,
    "start_time": "2022-01-03T19:13:17.873Z"
   },
   {
    "duration": 291,
    "start_time": "2022-01-03T19:13:19.920Z"
   },
   {
    "duration": 312,
    "start_time": "2022-01-03T19:13:22.058Z"
   },
   {
    "duration": 25,
    "start_time": "2022-01-03T19:13:24.644Z"
   },
   {
    "duration": 41,
    "start_time": "2022-01-03T19:13:26.940Z"
   },
   {
    "duration": 7,
    "start_time": "2022-01-03T19:13:29.280Z"
   },
   {
    "duration": 28,
    "start_time": "2022-01-03T19:13:30.428Z"
   },
   {
    "duration": 368,
    "start_time": "2022-01-03T19:13:32.227Z"
   },
   {
    "duration": 59,
    "start_time": "2022-01-03T19:13:36.008Z"
   },
   {
    "duration": 410,
    "start_time": "2022-01-03T19:13:37.696Z"
   },
   {
    "duration": 455,
    "start_time": "2022-01-03T19:13:40.126Z"
   },
   {
    "duration": 382,
    "start_time": "2022-01-03T19:13:43.186Z"
   },
   {
    "duration": 308,
    "start_time": "2022-01-03T19:13:45.346Z"
   },
   {
    "duration": 381,
    "start_time": "2022-01-03T19:13:47.459Z"
   },
   {
    "duration": 368,
    "start_time": "2022-01-03T19:13:49.418Z"
   },
   {
    "duration": 475,
    "start_time": "2022-01-03T19:13:52.748Z"
   },
   {
    "duration": 317,
    "start_time": "2022-01-03T19:13:54.952Z"
   },
   {
    "duration": 553,
    "start_time": "2022-01-03T19:17:13.571Z"
   },
   {
    "duration": 8724,
    "start_time": "2022-01-03T19:17:48.353Z"
   },
   {
    "duration": 446,
    "start_time": "2022-01-03T19:18:51.557Z"
   },
   {
    "duration": 312,
    "start_time": "2022-01-03T19:20:04.303Z"
   },
   {
    "duration": 561,
    "start_time": "2022-01-03T19:21:00.193Z"
   },
   {
    "duration": 362,
    "start_time": "2022-01-03T19:21:08.495Z"
   },
   {
    "duration": 449,
    "start_time": "2022-01-03T19:21:55.636Z"
   },
   {
    "duration": 550,
    "start_time": "2022-01-03T19:23:14.391Z"
   },
   {
    "duration": 7247,
    "start_time": "2022-01-03T19:24:12.603Z"
   },
   {
    "duration": 260,
    "start_time": "2022-01-03T19:26:21.396Z"
   },
   {
    "duration": 464,
    "start_time": "2022-01-03T19:26:32.982Z"
   },
   {
    "duration": 479,
    "start_time": "2022-01-03T19:26:50.690Z"
   },
   {
    "duration": 478,
    "start_time": "2022-01-03T19:27:30.695Z"
   },
   {
    "duration": 466,
    "start_time": "2022-01-03T19:28:03.097Z"
   },
   {
    "duration": 493,
    "start_time": "2022-01-03T19:28:20.962Z"
   },
   {
    "duration": 418,
    "start_time": "2022-01-03T19:32:34.186Z"
   },
   {
    "duration": 471,
    "start_time": "2022-01-03T19:32:43.005Z"
   },
   {
    "duration": 1011,
    "start_time": "2022-01-03T19:33:03.390Z"
   },
   {
    "duration": 474,
    "start_time": "2022-01-03T19:36:04.548Z"
   },
   {
    "duration": 118,
    "start_time": "2022-01-03T19:36:20.948Z"
   },
   {
    "duration": 572,
    "start_time": "2022-01-03T19:36:30.983Z"
   },
   {
    "duration": 467,
    "start_time": "2022-01-03T19:37:48.524Z"
   },
   {
    "duration": 266,
    "start_time": "2022-01-03T19:52:47.837Z"
   },
   {
    "duration": 24,
    "start_time": "2022-01-03T19:54:10.348Z"
   },
   {
    "duration": 23,
    "start_time": "2022-01-03T19:54:19.977Z"
   },
   {
    "duration": 22,
    "start_time": "2022-01-03T19:54:27.672Z"
   },
   {
    "duration": 273,
    "start_time": "2022-01-03T19:55:06.577Z"
   },
   {
    "duration": 22,
    "start_time": "2022-01-03T19:58:33.651Z"
   },
   {
    "duration": 20,
    "start_time": "2022-01-03T19:58:42.651Z"
   },
   {
    "duration": 278,
    "start_time": "2022-01-03T20:00:03.432Z"
   },
   {
    "duration": 53,
    "start_time": "2022-01-03T20:00:28.025Z"
   },
   {
    "duration": 557,
    "start_time": "2022-01-03T20:01:34.314Z"
   },
   {
    "duration": 102,
    "start_time": "2022-01-03T20:01:57.826Z"
   },
   {
    "duration": 492,
    "start_time": "2022-01-03T20:02:07.097Z"
   },
   {
    "duration": 550,
    "start_time": "2022-01-03T20:03:42.861Z"
   },
   {
    "duration": 1008,
    "start_time": "2022-01-03T20:04:17.939Z"
   },
   {
    "duration": 705,
    "start_time": "2022-01-03T20:07:38.670Z"
   },
   {
    "duration": 473,
    "start_time": "2022-01-03T20:07:50.617Z"
   },
   {
    "duration": 117,
    "start_time": "2022-01-03T20:09:06.968Z"
   },
   {
    "duration": 16,
    "start_time": "2022-01-03T20:09:08.537Z"
   },
   {
    "duration": 29,
    "start_time": "2022-01-03T20:09:11.237Z"
   },
   {
    "duration": 42,
    "start_time": "2022-01-03T20:09:12.789Z"
   },
   {
    "duration": 17,
    "start_time": "2022-01-03T20:09:14.296Z"
   },
   {
    "duration": 73,
    "start_time": "2022-01-03T20:09:15.714Z"
   },
   {
    "duration": 15,
    "start_time": "2022-01-03T20:09:17.064Z"
   },
   {
    "duration": 8,
    "start_time": "2022-01-03T20:09:18.752Z"
   },
   {
    "duration": 14,
    "start_time": "2022-01-03T20:09:19.540Z"
   },
   {
    "duration": 46,
    "start_time": "2022-01-03T20:09:21.273Z"
   },
   {
    "duration": 20,
    "start_time": "2022-01-03T20:09:26.267Z"
   },
   {
    "duration": 6,
    "start_time": "2022-01-03T20:09:31.576Z"
   },
   {
    "duration": 29,
    "start_time": "2022-01-03T20:09:42.377Z"
   },
   {
    "duration": 696,
    "start_time": "2022-01-03T20:09:55.653Z"
   },
   {
    "duration": 696,
    "start_time": "2022-01-03T20:20:25.570Z"
   },
   {
    "duration": 10,
    "start_time": "2022-01-03T20:21:01.098Z"
   },
   {
    "duration": 8,
    "start_time": "2022-01-03T20:21:49.451Z"
   },
   {
    "duration": 8,
    "start_time": "2022-01-03T20:22:38.391Z"
   },
   {
    "duration": 2388,
    "start_time": "2022-01-03T20:23:37.993Z"
   },
   {
    "duration": 8,
    "start_time": "2022-01-03T20:25:28.743Z"
   },
   {
    "duration": 8,
    "start_time": "2022-01-03T20:25:48.317Z"
   },
   {
    "duration": 497,
    "start_time": "2022-01-03T20:26:50.984Z"
   },
   {
    "duration": 363,
    "start_time": "2022-01-03T20:28:21.802Z"
   },
   {
    "duration": 563,
    "start_time": "2022-01-03T20:28:47.492Z"
   },
   {
    "duration": 582,
    "start_time": "2022-01-03T20:29:46.309Z"
   },
   {
    "duration": 546,
    "start_time": "2022-01-03T20:30:09.329Z"
   },
   {
    "duration": 481,
    "start_time": "2022-01-03T20:31:18.314Z"
   },
   {
    "duration": 392,
    "start_time": "2022-01-03T20:31:28.034Z"
   },
   {
    "duration": 125,
    "start_time": "2022-01-03T20:31:48.802Z"
   },
   {
    "duration": 369,
    "start_time": "2022-01-03T20:32:07.342Z"
   },
   {
    "duration": 89,
    "start_time": "2022-01-03T20:32:13.327Z"
   },
   {
    "duration": 100,
    "start_time": "2022-01-03T20:32:29.813Z"
   },
   {
    "duration": 477,
    "start_time": "2022-01-03T20:34:15.438Z"
   },
   {
    "duration": 641,
    "start_time": "2022-01-03T20:34:48.694Z"
   },
   {
    "duration": 473,
    "start_time": "2022-01-03T20:34:59.081Z"
   },
   {
    "duration": 430,
    "start_time": "2022-01-03T20:35:24.694Z"
   },
   {
    "duration": 2359,
    "start_time": "2022-01-03T20:35:50.705Z"
   },
   {
    "duration": 513,
    "start_time": "2022-01-03T20:36:11.157Z"
   },
   {
    "duration": 799,
    "start_time": "2022-01-03T20:36:25.896Z"
   },
   {
    "duration": 719,
    "start_time": "2022-01-03T20:36:33.680Z"
   },
   {
    "duration": 679,
    "start_time": "2022-01-03T20:37:12.064Z"
   },
   {
    "duration": 117,
    "start_time": "2022-01-03T20:37:36.226Z"
   },
   {
    "duration": 18,
    "start_time": "2022-01-03T20:37:50.917Z"
   },
   {
    "duration": 19,
    "start_time": "2022-01-03T20:37:54.067Z"
   },
   {
    "duration": 31,
    "start_time": "2022-01-03T20:37:55.799Z"
   },
   {
    "duration": 12,
    "start_time": "2022-01-03T20:37:57.983Z"
   },
   {
    "duration": 49,
    "start_time": "2022-01-03T20:37:59.603Z"
   },
   {
    "duration": 11,
    "start_time": "2022-01-03T20:38:00.840Z"
   },
   {
    "duration": 7,
    "start_time": "2022-01-03T20:38:02.302Z"
   },
   {
    "duration": 11,
    "start_time": "2022-01-03T20:38:03.066Z"
   },
   {
    "duration": 48,
    "start_time": "2022-01-03T20:38:04.715Z"
   },
   {
    "duration": 18,
    "start_time": "2022-01-03T20:38:05.969Z"
   },
   {
    "duration": 6,
    "start_time": "2022-01-03T20:38:06.374Z"
   },
   {
    "duration": 28,
    "start_time": "2022-01-03T20:38:07.635Z"
   },
   {
    "duration": 32,
    "start_time": "2022-01-03T20:38:10.402Z"
   },
   {
    "duration": 32,
    "start_time": "2022-01-03T20:38:12.067Z"
   },
   {
    "duration": 813,
    "start_time": "2022-01-03T20:38:13.957Z"
   },
   {
    "duration": 39,
    "start_time": "2022-01-03T20:38:16.545Z"
   },
   {
    "duration": 403,
    "start_time": "2022-01-03T20:38:18.323Z"
   },
   {
    "duration": 401,
    "start_time": "2022-01-03T20:38:28.246Z"
   },
   {
    "duration": 400,
    "start_time": "2022-01-03T20:38:40.827Z"
   },
   {
    "duration": 92,
    "start_time": "2022-01-03T20:39:07.375Z"
   },
   {
    "duration": 401,
    "start_time": "2022-01-03T20:39:24.902Z"
   },
   {
    "duration": 516,
    "start_time": "2022-01-03T20:39:42.092Z"
   },
   {
    "duration": 486,
    "start_time": "2022-01-03T20:40:42.509Z"
   },
   {
    "duration": 756,
    "start_time": "2022-01-03T20:41:11.446Z"
   },
   {
    "duration": 345,
    "start_time": "2022-01-03T20:41:47.536Z"
   },
   {
    "duration": 95,
    "start_time": "2022-01-03T20:49:25.990Z"
   },
   {
    "duration": 234,
    "start_time": "2022-01-03T20:51:48.666Z"
   },
   {
    "duration": 216,
    "start_time": "2022-01-03T20:53:07.987Z"
   },
   {
    "duration": 93,
    "start_time": "2022-01-03T20:54:52.456Z"
   },
   {
    "duration": 93,
    "start_time": "2022-01-03T20:55:08.224Z"
   },
   {
    "duration": 111,
    "start_time": "2022-01-03T20:55:28.698Z"
   },
   {
    "duration": 99,
    "start_time": "2022-01-03T20:55:48.679Z"
   },
   {
    "duration": 261,
    "start_time": "2022-01-03T20:56:07.738Z"
   },
   {
    "duration": 306,
    "start_time": "2022-01-03T20:56:15.095Z"
   },
   {
    "duration": 220,
    "start_time": "2022-01-03T20:56:28.640Z"
   },
   {
    "duration": 299,
    "start_time": "2022-01-03T20:56:48.643Z"
   },
   {
    "duration": 294,
    "start_time": "2022-01-03T20:57:10.198Z"
   },
   {
    "duration": 315,
    "start_time": "2022-01-03T20:57:18.748Z"
   },
   {
    "duration": 681,
    "start_time": "2022-01-03T20:58:46.861Z"
   },
   {
    "duration": 356,
    "start_time": "2022-01-03T21:00:07.863Z"
   },
   {
    "duration": 344,
    "start_time": "2022-01-03T21:00:52.594Z"
   },
   {
    "duration": 624,
    "start_time": "2022-01-03T21:01:02.584Z"
   },
   {
    "duration": 102,
    "start_time": "2022-01-03T21:01:31.992Z"
   },
   {
    "duration": 1429,
    "start_time": "2022-01-03T21:03:02.244Z"
   },
   {
    "duration": 603,
    "start_time": "2022-01-03T21:04:13.908Z"
   },
   {
    "duration": 1716,
    "start_time": "2022-01-03T21:04:27.454Z"
   },
   {
    "duration": 615,
    "start_time": "2022-01-03T21:07:27.980Z"
   },
   {
    "duration": 1505,
    "start_time": "2022-01-03T21:07:33.603Z"
   },
   {
    "duration": 6087,
    "start_time": "2022-01-03T21:10:48.797Z"
   },
   {
    "duration": 3984,
    "start_time": "2022-01-03T21:12:18.960Z"
   },
   {
    "duration": 710,
    "start_time": "2022-01-03T21:12:42.540Z"
   },
   {
    "duration": 6481,
    "start_time": "2022-01-03T21:13:00.158Z"
   },
   {
    "duration": 13506,
    "start_time": "2022-01-03T21:14:32.768Z"
   },
   {
    "duration": 6368,
    "start_time": "2022-01-03T21:26:45.602Z"
   },
   {
    "duration": 12169,
    "start_time": "2022-01-03T21:27:25.855Z"
   },
   {
    "duration": 781,
    "start_time": "2022-01-03T21:28:57.454Z"
   },
   {
    "duration": 12599,
    "start_time": "2022-01-03T21:29:10.619Z"
   },
   {
    "duration": 1366,
    "start_time": "2022-01-03T21:36:46.775Z"
   },
   {
    "duration": 7,
    "start_time": "2022-01-03T21:40:30.146Z"
   },
   {
    "duration": 7,
    "start_time": "2022-01-03T21:41:12.717Z"
   },
   {
    "duration": 1886,
    "start_time": "2022-01-03T21:46:14.523Z"
   },
   {
    "duration": 745,
    "start_time": "2022-01-03T21:46:27.572Z"
   },
   {
    "duration": 722,
    "start_time": "2022-01-03T21:46:41.659Z"
   },
   {
    "duration": 757,
    "start_time": "2022-01-03T21:47:11.112Z"
   },
   {
    "duration": 757,
    "start_time": "2022-01-03T21:47:20.044Z"
   },
   {
    "duration": 1411,
    "start_time": "2022-01-03T21:47:47.113Z"
   },
   {
    "duration": 23,
    "start_time": "2022-01-03T21:59:36.830Z"
   },
   {
    "duration": 62,
    "start_time": "2022-01-03T22:00:00.208Z"
   },
   {
    "duration": 11,
    "start_time": "2022-01-03T22:00:41.750Z"
   },
   {
    "duration": 11,
    "start_time": "2022-01-03T22:13:33.369Z"
   },
   {
    "duration": 287,
    "start_time": "2022-01-03T22:14:00.213Z"
   },
   {
    "duration": 7,
    "start_time": "2022-01-03T22:14:13.533Z"
   },
   {
    "duration": 265,
    "start_time": "2022-01-03T22:15:00.447Z"
   },
   {
    "duration": 16,
    "start_time": "2022-01-03T22:15:08.750Z"
   },
   {
    "duration": 1445,
    "start_time": "2022-01-03T22:20:34.580Z"
   },
   {
    "duration": 133,
    "start_time": "2022-01-03T22:30:38.941Z"
   }
  ],
  "kernelspec": {
   "display_name": "Python 3 (ipykernel)",
   "language": "python",
   "name": "python3"
  },
  "language_info": {
   "codemirror_mode": {
    "name": "ipython",
    "version": 3
   },
   "file_extension": ".py",
   "mimetype": "text/x-python",
   "name": "python",
   "nbconvert_exporter": "python",
   "pygments_lexer": "ipython3",
   "version": "3.9.7"
  },
  "toc": {
   "base_numbering": 1,
   "nav_menu": {},
   "number_sections": true,
   "sideBar": true,
   "skip_h1_title": true,
   "title_cell": "Содержание",
   "title_sidebar": "Contents",
   "toc_cell": true,
   "toc_position": {
    "height": "calc(100% - 180px)",
    "left": "10px",
    "top": "150px",
    "width": "205px"
   },
   "toc_section_display": true,
   "toc_window_display": true
  }
 },
 "nbformat": 4,
 "nbformat_minor": 2
}
