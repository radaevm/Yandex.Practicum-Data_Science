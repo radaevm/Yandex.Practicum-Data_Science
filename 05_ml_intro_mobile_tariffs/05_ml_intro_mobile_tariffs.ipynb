{
 "cells": [
  {
   "cell_type": "markdown",
   "metadata": {},
   "source": [
    "# *Введение в машиннное обучение. Проект*"
   ]
  },
  {
   "cell_type": "markdown",
   "metadata": {},
   "source": [
    "# Описание проекта"
   ]
  },
  {
   "cell_type": "markdown",
   "metadata": {},
   "source": [
    "Оператор мобильной связи «Мегалайн» выяснил: многие клиенты пользуются архивными тарифами. Они хотят построить систему, способную проанализировать поведение клиентов и предложить пользователям новый тариф: «Смарт» или «Ультра»."
   ]
  },
  {
   "cell_type": "markdown",
   "metadata": {},
   "source": [
    "# Описание данных"
   ]
  },
  {
   "cell_type": "markdown",
   "metadata": {},
   "source": [
    "Каждый объект в наборе данных — это информация о поведении одного пользователя за месяц. \n",
    "\n",
    "Известно:\n",
    "- сalls — количество звонков,\n",
    "- minutes — суммарная длительность звонков в минутах,\n",
    "- messages — количество sms-сообщений,\n",
    "- mb_used — израсходованный интернет-трафик в Мб,\n",
    "- is_ultra — каким тарифом пользовался в течение месяца («Ультра» — 1, «Смарт» — 0)."
   ]
  },
  {
   "cell_type": "markdown",
   "metadata": {},
   "source": [
    "# Рекомендация тарифов"
   ]
  },
  {
   "cell_type": "markdown",
   "metadata": {},
   "source": [
    "В вашем распоряжении данные о поведении клиентов, которые уже перешли на эти тарифы (из проекта курса «Статистический анализ данных»). Нужно построить модель для задачи классификации, которая выберет подходящий тариф. Предобработка данных не понадобится — вы её уже сделали.\n",
    "\n",
    "Постройте модель с максимально большим значением *accuracy*. Чтобы сдать проект успешно, нужно довести долю правильных ответов по крайней мере до 0.75. Проверьте *accuracy* на тестовой выборке самостоятельно."
   ]
  },
  {
   "cell_type": "markdown",
   "metadata": {},
   "source": [
    "## Откройте и изучите файл"
   ]
  },
  {
   "cell_type": "code",
   "execution_count": 20,
   "metadata": {},
   "outputs": [],
   "source": [
    "import pandas as pd\n",
    "from sklearn.tree import DecisionTreeClassifier\n",
    "from sklearn.ensemble import RandomForestClassifier\n",
    "from sklearn.model_selection import train_test_split\n",
    "from sklearn.metrics import accuracy_score\n",
    "from sklearn.dummy import DummyClassifier"
   ]
  },
  {
   "cell_type": "code",
   "execution_count": 21,
   "metadata": {},
   "outputs": [
    {
     "data": {
      "text/html": [
       "<div>\n",
       "<style scoped>\n",
       "    .dataframe tbody tr th:only-of-type {\n",
       "        vertical-align: middle;\n",
       "    }\n",
       "\n",
       "    .dataframe tbody tr th {\n",
       "        vertical-align: top;\n",
       "    }\n",
       "\n",
       "    .dataframe thead th {\n",
       "        text-align: right;\n",
       "    }\n",
       "</style>\n",
       "<table border=\"1\" class=\"dataframe\">\n",
       "  <thead>\n",
       "    <tr style=\"text-align: right;\">\n",
       "      <th></th>\n",
       "      <th>calls</th>\n",
       "      <th>minutes</th>\n",
       "      <th>messages</th>\n",
       "      <th>mb_used</th>\n",
       "      <th>is_ultra</th>\n",
       "    </tr>\n",
       "  </thead>\n",
       "  <tbody>\n",
       "    <tr>\n",
       "      <td>0</td>\n",
       "      <td>40.0</td>\n",
       "      <td>311.90</td>\n",
       "      <td>83.0</td>\n",
       "      <td>19915.42</td>\n",
       "      <td>0</td>\n",
       "    </tr>\n",
       "    <tr>\n",
       "      <td>1</td>\n",
       "      <td>85.0</td>\n",
       "      <td>516.75</td>\n",
       "      <td>56.0</td>\n",
       "      <td>22696.96</td>\n",
       "      <td>0</td>\n",
       "    </tr>\n",
       "    <tr>\n",
       "      <td>2</td>\n",
       "      <td>77.0</td>\n",
       "      <td>467.66</td>\n",
       "      <td>86.0</td>\n",
       "      <td>21060.45</td>\n",
       "      <td>0</td>\n",
       "    </tr>\n",
       "    <tr>\n",
       "      <td>3</td>\n",
       "      <td>106.0</td>\n",
       "      <td>745.53</td>\n",
       "      <td>81.0</td>\n",
       "      <td>8437.39</td>\n",
       "      <td>1</td>\n",
       "    </tr>\n",
       "    <tr>\n",
       "      <td>4</td>\n",
       "      <td>66.0</td>\n",
       "      <td>418.74</td>\n",
       "      <td>1.0</td>\n",
       "      <td>14502.75</td>\n",
       "      <td>0</td>\n",
       "    </tr>\n",
       "    <tr>\n",
       "      <td>...</td>\n",
       "      <td>...</td>\n",
       "      <td>...</td>\n",
       "      <td>...</td>\n",
       "      <td>...</td>\n",
       "      <td>...</td>\n",
       "    </tr>\n",
       "    <tr>\n",
       "      <td>3209</td>\n",
       "      <td>122.0</td>\n",
       "      <td>910.98</td>\n",
       "      <td>20.0</td>\n",
       "      <td>35124.90</td>\n",
       "      <td>1</td>\n",
       "    </tr>\n",
       "    <tr>\n",
       "      <td>3210</td>\n",
       "      <td>25.0</td>\n",
       "      <td>190.36</td>\n",
       "      <td>0.0</td>\n",
       "      <td>3275.61</td>\n",
       "      <td>0</td>\n",
       "    </tr>\n",
       "    <tr>\n",
       "      <td>3211</td>\n",
       "      <td>97.0</td>\n",
       "      <td>634.44</td>\n",
       "      <td>70.0</td>\n",
       "      <td>13974.06</td>\n",
       "      <td>0</td>\n",
       "    </tr>\n",
       "    <tr>\n",
       "      <td>3212</td>\n",
       "      <td>64.0</td>\n",
       "      <td>462.32</td>\n",
       "      <td>90.0</td>\n",
       "      <td>31239.78</td>\n",
       "      <td>0</td>\n",
       "    </tr>\n",
       "    <tr>\n",
       "      <td>3213</td>\n",
       "      <td>80.0</td>\n",
       "      <td>566.09</td>\n",
       "      <td>6.0</td>\n",
       "      <td>29480.52</td>\n",
       "      <td>1</td>\n",
       "    </tr>\n",
       "  </tbody>\n",
       "</table>\n",
       "<p>3214 rows × 5 columns</p>\n",
       "</div>"
      ],
      "text/plain": [
       "      calls  minutes  messages   mb_used  is_ultra\n",
       "0      40.0   311.90      83.0  19915.42         0\n",
       "1      85.0   516.75      56.0  22696.96         0\n",
       "2      77.0   467.66      86.0  21060.45         0\n",
       "3     106.0   745.53      81.0   8437.39         1\n",
       "4      66.0   418.74       1.0  14502.75         0\n",
       "...     ...      ...       ...       ...       ...\n",
       "3209  122.0   910.98      20.0  35124.90         1\n",
       "3210   25.0   190.36       0.0   3275.61         0\n",
       "3211   97.0   634.44      70.0  13974.06         0\n",
       "3212   64.0   462.32      90.0  31239.78         0\n",
       "3213   80.0   566.09       6.0  29480.52         1\n",
       "\n",
       "[3214 rows x 5 columns]"
      ]
     },
     "execution_count": 21,
     "metadata": {},
     "output_type": "execute_result"
    }
   ],
   "source": [
    "df = pd.read_csv('/datasets/users_behavior.csv')\n",
    "df"
   ]
  },
  {
   "cell_type": "code",
   "execution_count": 22,
   "metadata": {},
   "outputs": [
    {
     "name": "stdout",
     "output_type": "stream",
     "text": [
      "<class 'pandas.core.frame.DataFrame'>\n",
      "RangeIndex: 3214 entries, 0 to 3213\n",
      "Data columns (total 5 columns):\n",
      "calls       3214 non-null float64\n",
      "minutes     3214 non-null float64\n",
      "messages    3214 non-null float64\n",
      "mb_used     3214 non-null float64\n",
      "is_ultra    3214 non-null int64\n",
      "dtypes: float64(4), int64(1)\n",
      "memory usage: 125.7 KB\n"
     ]
    }
   ],
   "source": [
    "df.info()"
   ]
  },
  {
   "cell_type": "markdown",
   "metadata": {},
   "source": [
    "## Разбейте данные на выборки"
   ]
  },
  {
   "cell_type": "markdown",
   "metadata": {},
   "source": [
    "Разобьем выборку на обучающую, валидационную и тестовую. Для этого с помощью метода *train_test_split* выделим 60% для обучающей выборки. Оставшиеся 40% разделим пополам для валидационной и тестовой выборки."
   ]
  },
  {
   "cell_type": "code",
   "execution_count": 23,
   "metadata": {},
   "outputs": [],
   "source": [
    "features = df.drop(['is_ultra'], axis=1)\n",
    "target = df['is_ultra']\n",
    "\n",
    "features_train, features_temp, target_train, target_temp = train_test_split(\n",
    "    features, target, test_size=0.4, random_state=12345)\n",
    "\n",
    "features_valid, features_test, target_valid, target_test = train_test_split(\n",
    "    features_temp, target_temp, test_size=0.5, random_state=12345)"
   ]
  },
  {
   "cell_type": "code",
   "execution_count": 24,
   "metadata": {},
   "outputs": [
    {
     "name": "stdout",
     "output_type": "stream",
     "text": [
      "Размер выборки _train (1928, 4)\n",
      "Размер выборки _valid (643, 4)\n",
      "Размер выборки _test (643, 4)\n"
     ]
    }
   ],
   "source": [
    "print('Размер выборки _train', features_train.shape)\n",
    "print('Размер выборки _valid', features_valid.shape)\n",
    "print('Размер выборки _test', features_test.shape)"
   ]
  },
  {
   "cell_type": "markdown",
   "metadata": {},
   "source": [
    "## Исследуйте модели"
   ]
  },
  {
   "cell_type": "markdown",
   "metadata": {},
   "source": [
    "Для выбора лучшей модели выберем лучшие гиперпараметры решающего дерева **DecisionTreeClassifier** и случайоного леса **RandomForestClassifier**"
   ]
  },
  {
   "cell_type": "code",
   "execution_count": 25,
   "metadata": {},
   "outputs": [
    {
     "name": "stdout",
     "output_type": "stream",
     "text": [
      "Accuracy лучшей модели DT на валидационной выборке: 0.7853810264385692\n",
      "Depth лучшей модели: 3\n"
     ]
    }
   ],
   "source": [
    "best_model = None\n",
    "best_result = 0\n",
    "best_depth = 0\n",
    "for depth in range(1, 6):\n",
    "    model = DecisionTreeClassifier(random_state=12345, max_depth=depth) \n",
    "    model.fit(features_train, target_train) \n",
    "    predictions = model.predict(features_valid)\n",
    "    result = accuracy_score(target_valid, predictions) \n",
    "    if result > best_result:\n",
    "        best_model = model\n",
    "        best_result = result\n",
    "        best_depth = depth\n",
    "        \n",
    "print(\"Accuracy лучшей модели DT на валидационной выборке:\", best_result)\n",
    "print(\"Depth лучшей модели:\", best_depth)"
   ]
  },
  {
   "cell_type": "markdown",
   "metadata": {},
   "source": [
    "Для **RandomForestClassifier** будем использовать следующие параметры:\n",
    "\n",
    "- n_estimators – число деревьев в лесу. Оно будет изменяться от 1 до 10 с шагом 2\n",
    "- max_depth – глубина дерева. Она будет изменяться от 1 до 12 с шагом в 2\n",
    "- min_samples_leaf – минимальное число образцов в листах. Оно будет изменяться от 1 до 7\n",
    "- min_samples_leaf – минимальное число образцов для сплита. Оно будет изменяться от 2 до 9.\n",
    "\n",
    "Для подбора параметров используем **GridSearchCV**, который находит наилучшие параметры путем обычного перебора: он создает модель для каждой возможной комбинации параметров. "
   ]
  },
  {
   "cell_type": "code",
   "execution_count": 26,
   "metadata": {},
   "outputs": [
    {
     "data": {
      "text/plain": [
       "{'max_depth': 9,\n",
       " 'min_samples_leaf': 2,\n",
       " 'min_samples_split': 8,\n",
       " 'n_estimators': 7}"
      ]
     },
     "execution_count": 26,
     "metadata": {},
     "output_type": "execute_result"
    }
   ],
   "source": [
    "from sklearn.model_selection import GridSearchCV\n",
    "\n",
    "model_rf = RandomForestClassifier() \n",
    "\n",
    "parametrs = { 'n_estimators': range (1, 11, 2),\n",
    "              'max_depth': range (1,13, 2),\n",
    "              'min_samples_leaf': range (1,8),\n",
    "              'min_samples_split': range (2,10,2) }\n",
    "grid = GridSearchCV(model_rf, parametrs, cv=5)\n",
    "grid.fit(features_train, target_train)\n",
    "grid.best_params_"
   ]
  },
  {
   "cell_type": "code",
   "execution_count": 30,
   "metadata": {},
   "outputs": [
    {
     "name": "stdout",
     "output_type": "stream",
     "text": [
      "Accuracy лучшей модели RF на валидационной выборке: 0.7916018662519441\n"
     ]
    }
   ],
   "source": [
    "model_best = RandomForestClassifier(\n",
    "    random_state=12345, max_depth = 9, min_samples_leaf = 2, min_samples_split = 8, n_estimators = 7)\n",
    "\n",
    "model_best.fit(features_train, target_train) \n",
    "predictions = model_best.predict(features_valid)\n",
    "result = accuracy_score(target_valid, predictions)\n",
    "\n",
    "print(\"Accuracy лучшей модели RF на валидационной выборке:\", result)"
   ]
  },
  {
   "cell_type": "markdown",
   "metadata": {},
   "source": [
    "**Вывод:** Лучшая модель - случайный лес с параметрами:\n",
    "- 'max_depth': 9,\n",
    "- 'min_samples_leaf': 2,\n",
    "- 'min_samples_split': 8,\n",
    "- 'n_estimators': 7"
   ]
  },
  {
   "cell_type": "markdown",
   "metadata": {},
   "source": [
    "## Проверьте модель на тестовой выборке"
   ]
  },
  {
   "cell_type": "code",
   "execution_count": 31,
   "metadata": {},
   "outputs": [
    {
     "name": "stdout",
     "output_type": "stream",
     "text": [
      "Accuracy на тестовой выборке: 0.8133748055987559\n"
     ]
    }
   ],
   "source": [
    "model = RandomForestClassifier(\n",
    "    random_state=12345, max_depth = 9, min_samples_leaf = 2, min_samples_split = 8, n_estimators = 7)\n",
    "model.fit(features_train, target_train) \n",
    "predictions = model.predict(features_test)\n",
    "result = accuracy_score(target_test, predictions)\n",
    "\n",
    "print(\"Accuracy на тестовой выборке:\", result)"
   ]
  },
  {
   "cell_type": "markdown",
   "metadata": {},
   "source": [
    "## (бонус) Проверьте модели на адекватность"
   ]
  },
  {
   "cell_type": "markdown",
   "metadata": {},
   "source": [
    "Для проверки адекватности полученной модели используем **DummyClassifier**. Он делает прогнозы, которые игнорируют входные функции.\n",
    "Этот классификатор служит простой базой для сравнения с другими более сложными классификаторами."
   ]
  },
  {
   "cell_type": "code",
   "execution_count": 32,
   "metadata": {},
   "outputs": [
    {
     "name": "stdout",
     "output_type": "stream",
     "text": [
      "Accuracy dummy-модели:  0.6842923794712286\n"
     ]
    }
   ],
   "source": [
    "dummy = DummyClassifier(strategy='most_frequent').fit(features_train, target_train)\n",
    "dummy_pred = dummy.predict(features_test)\n",
    "\n",
    "print('Accuracy dummy-модели: ', accuracy_score(target_test, dummy_pred))"
   ]
  },
  {
   "cell_type": "markdown",
   "metadata": {},
   "source": [
    "# Вывод"
   ]
  },
  {
   "cell_type": "markdown",
   "metadata": {},
   "source": [
    "Нами построена модель машинного обучения с помощью **RandomForestClassifier**, *accuracy* которой составила 0.81. Модель прошла проверку на адекватность, поскольку *accuracy* dummy-модели (которая не учитываем входные признаков) всего 0.68"
   ]
  }
 ],
 "metadata": {
  "ExecuteTimeLog": [
   {
    "duration": 1008,
    "start_time": "2022-02-10T06:16:50.083Z"
   },
   {
    "duration": 124,
    "start_time": "2022-02-10T06:18:15.430Z"
   },
   {
    "duration": 447,
    "start_time": "2022-02-10T06:22:20.479Z"
   },
   {
    "duration": 3,
    "start_time": "2022-02-10T06:22:30.077Z"
   },
   {
    "duration": 31,
    "start_time": "2022-02-10T06:23:16.770Z"
   },
   {
    "duration": 13,
    "start_time": "2022-02-10T06:25:13.132Z"
   },
   {
    "duration": 8,
    "start_time": "2022-02-10T06:25:18.952Z"
   },
   {
    "duration": 6,
    "start_time": "2022-02-10T06:25:23.632Z"
   },
   {
    "duration": 3,
    "start_time": "2022-02-10T06:28:41.323Z"
   },
   {
    "duration": 25,
    "start_time": "2022-02-10T06:30:30.446Z"
   },
   {
    "duration": 25,
    "start_time": "2022-02-10T06:30:38.645Z"
   },
   {
    "duration": 258,
    "start_time": "2022-02-10T06:35:35.641Z"
   },
   {
    "duration": 24,
    "start_time": "2022-02-10T06:47:25.694Z"
   },
   {
    "duration": 257,
    "start_time": "2022-02-10T06:48:09.301Z"
   },
   {
    "duration": 48,
    "start_time": "2022-02-10T06:50:22.816Z"
   },
   {
    "duration": 44,
    "start_time": "2022-02-10T06:51:01.662Z"
   },
   {
    "duration": 3,
    "start_time": "2022-02-10T06:53:55.594Z"
   },
   {
    "duration": 5,
    "start_time": "2022-02-10T06:57:36.715Z"
   },
   {
    "duration": 4,
    "start_time": "2022-02-10T07:13:32.823Z"
   },
   {
    "duration": 319,
    "start_time": "2022-02-10T07:38:58.635Z"
   },
   {
    "duration": 6,
    "start_time": "2022-02-10T07:46:39.054Z"
   },
   {
    "duration": 9,
    "start_time": "2022-02-10T08:59:45.195Z"
   },
   {
    "duration": 7,
    "start_time": "2022-02-10T09:00:37.192Z"
   },
   {
    "duration": 30,
    "start_time": "2022-02-10T09:04:35.836Z"
   },
   {
    "duration": 42,
    "start_time": "2022-02-10T09:05:04.736Z"
   },
   {
    "duration": 24,
    "start_time": "2022-02-10T09:13:43.943Z"
   },
   {
    "duration": 215,
    "start_time": "2022-02-10T09:13:48.908Z"
   },
   {
    "duration": 463,
    "start_time": "2022-02-10T09:32:04.687Z"
   },
   {
    "duration": 206731,
    "start_time": "2022-02-10T09:43:24.654Z"
   },
   {
    "duration": 262,
    "start_time": "2022-02-10T09:46:51.125Z"
   },
   {
    "duration": 343,
    "start_time": "2022-02-10T09:47:02.264Z"
   },
   {
    "duration": 244287,
    "start_time": "2022-02-10T09:47:10.578Z"
   },
   {
    "duration": 50871,
    "start_time": "2022-02-10T09:54:30.948Z"
   },
   {
    "duration": 22,
    "start_time": "2022-02-10T10:00:43.497Z"
   },
   {
    "duration": 115,
    "start_time": "2022-02-10T10:03:55.355Z"
   },
   {
    "duration": 125,
    "start_time": "2022-02-10T10:04:07.431Z"
   },
   {
    "duration": 31,
    "start_time": "2022-02-10T10:04:21.762Z"
   },
   {
    "duration": 32,
    "start_time": "2022-02-10T10:05:11.800Z"
   },
   {
    "duration": 22,
    "start_time": "2022-02-10T10:05:20.383Z"
   },
   {
    "duration": 33,
    "start_time": "2022-02-10T10:05:43.165Z"
   },
   {
    "duration": 6,
    "start_time": "2022-02-10T10:06:24.837Z"
   },
   {
    "duration": 290,
    "start_time": "2022-02-10T18:54:53.156Z"
   },
   {
    "duration": 1121,
    "start_time": "2022-02-10T18:55:08.956Z"
   },
   {
    "duration": 30,
    "start_time": "2022-02-10T18:55:10.079Z"
   },
   {
    "duration": 7,
    "start_time": "2022-02-10T18:55:10.112Z"
   },
   {
    "duration": 11,
    "start_time": "2022-02-10T18:55:10.121Z"
   },
   {
    "duration": 30,
    "start_time": "2022-02-10T18:55:10.133Z"
   },
   {
    "duration": 374,
    "start_time": "2022-02-10T18:55:10.165Z"
   },
   {
    "duration": -57,
    "start_time": "2022-02-10T18:55:10.598Z"
   },
   {
    "duration": -62,
    "start_time": "2022-02-10T18:55:10.604Z"
   },
   {
    "duration": -68,
    "start_time": "2022-02-10T18:55:10.611Z"
   },
   {
    "duration": 8,
    "start_time": "2022-02-10T18:56:03.536Z"
   },
   {
    "duration": 85,
    "start_time": "2022-02-10T18:56:57.109Z"
   },
   {
    "duration": 5,
    "start_time": "2022-02-10T19:03:16.841Z"
   },
   {
    "duration": 263,
    "start_time": "2022-02-10T19:04:12.366Z"
   },
   {
    "duration": 30,
    "start_time": "2022-02-10T19:05:20.941Z"
   },
   {
    "duration": 261,
    "start_time": "2022-02-10T19:05:30.663Z"
   },
   {
    "duration": 39,
    "start_time": "2022-02-10T19:07:39.713Z"
   },
   {
    "duration": 39,
    "start_time": "2022-02-10T19:07:42.788Z"
   },
   {
    "duration": 7,
    "start_time": "2022-02-10T19:07:45.693Z"
   },
   {
    "duration": 54895,
    "start_time": "2022-02-10T19:15:08.766Z"
   },
   {
    "duration": 3,
    "start_time": "2022-02-10T19:16:23.475Z"
   },
   {
    "duration": 24,
    "start_time": "2022-02-10T19:16:23.503Z"
   },
   {
    "duration": 8,
    "start_time": "2022-02-10T19:16:23.529Z"
   },
   {
    "duration": 14,
    "start_time": "2022-02-10T19:16:23.539Z"
   },
   {
    "duration": 10,
    "start_time": "2022-02-10T19:16:23.555Z"
   },
   {
    "duration": 49,
    "start_time": "2022-02-10T19:16:23.567Z"
   },
   {
    "duration": 68943,
    "start_time": "2022-02-10T19:16:23.618Z"
   },
   {
    "duration": 52,
    "start_time": "2022-02-10T19:17:32.563Z"
   },
   {
    "duration": 40,
    "start_time": "2022-02-10T19:17:32.617Z"
   },
   {
    "duration": 5,
    "start_time": "2022-02-10T19:17:32.659Z"
   },
   {
    "duration": 31,
    "start_time": "2022-02-10T19:18:27.881Z"
   },
   {
    "duration": 31,
    "start_time": "2022-02-10T19:18:48.959Z"
   },
   {
    "duration": 5,
    "start_time": "2022-02-10T19:19:14.215Z"
   }
  ],
  "kernelspec": {
   "display_name": "Python 3 (ipykernel)",
   "language": "python",
   "name": "python3"
  },
  "language_info": {
   "codemirror_mode": {
    "name": "ipython",
    "version": 3
   },
   "file_extension": ".py",
   "mimetype": "text/x-python",
   "name": "python",
   "nbconvert_exporter": "python",
   "pygments_lexer": "ipython3",
   "version": "3.9.7"
  },
  "toc": {
   "base_numbering": 1,
   "nav_menu": {},
   "number_sections": true,
   "sideBar": true,
   "skip_h1_title": true,
   "title_cell": "Table of Contents",
   "title_sidebar": "Contents",
   "toc_cell": false,
   "toc_position": {},
   "toc_section_display": true,
   "toc_window_display": false
  }
 },
 "nbformat": 4,
 "nbformat_minor": 2
}
