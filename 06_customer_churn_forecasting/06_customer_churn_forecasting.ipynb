{
 "cells": [
  {
   "cell_type": "markdown",
   "metadata": {
    "toc": true
   },
   "source": [
    "<h1>Содержание<span class=\"tocSkip\"></span></h1>\n",
    "<div class=\"toc\"><ul class=\"toc-item\"><li><span><a href=\"#Подготовка-данных\" data-toc-modified-id=\"Подготовка-данных-1\"><span class=\"toc-item-num\">1&nbsp;&nbsp;</span>Подготовка данных</a></span></li><li><span><a href=\"#Исследование-задачи\" data-toc-modified-id=\"Исследование-задачи-2\"><span class=\"toc-item-num\">2&nbsp;&nbsp;</span>Исследование задачи</a></span></li><li><span><a href=\"#Борьба-с-дисбалансом\" data-toc-modified-id=\"Борьба-с-дисбалансом-3\"><span class=\"toc-item-num\">3&nbsp;&nbsp;</span>Борьба с дисбалансом</a></span></li><li><span><a href=\"#Тестирование-модели\" data-toc-modified-id=\"Тестирование-модели-4\"><span class=\"toc-item-num\">4&nbsp;&nbsp;</span>Тестирование модели</a></span></li><li><span><a href=\"#Чек-лист-готовности-проекта\" data-toc-modified-id=\"Чек-лист-готовности-проекта-5\"><span class=\"toc-item-num\">5&nbsp;&nbsp;</span>Чек-лист готовности проекта</a></span></li></ul></div>"
   ]
  },
  {
   "cell_type": "markdown",
   "metadata": {},
   "source": [
    "# Отток клиентов"
   ]
  },
  {
   "cell_type": "markdown",
   "metadata": {},
   "source": [
    "Из «Бета-Банка» стали уходить клиенты. Каждый месяц. Немного, но заметно. Банковские маркетологи посчитали: сохранять текущих клиентов дешевле, чем привлекать новых.\n",
    "\n",
    "Нужно спрогнозировать, уйдёт клиент из банка в ближайшее время или нет. Вам предоставлены исторические данные о поведении клиентов и расторжении договоров с банком. \n",
    "\n",
    "Постройте модель с предельно большим значением *F1*-меры. Чтобы сдать проект успешно, нужно довести метрику до 0.59. Проверьте *F1*-меру на тестовой выборке самостоятельно.\n",
    "\n",
    "Дополнительно измеряйте *AUC-ROC*, сравнивайте её значение с *F1*-мерой.\n",
    "\n",
    "Источник данных: [https://www.kaggle.com/barelydedicated/bank-customer-churn-modeling](https://www.kaggle.com/barelydedicated/bank-customer-churn-modeling)"
   ]
  },
  {
   "cell_type": "markdown",
   "metadata": {},
   "source": [
    "## Подготовка данных"
   ]
  },
  {
   "cell_type": "code",
   "execution_count": 1,
   "metadata": {},
   "outputs": [],
   "source": [
    "import pandas as pd\n",
    "import numpy as np\n",
    "from sklearn.tree import DecisionTreeClassifier\n",
    "from sklearn.ensemble import RandomForestClassifier\n",
    "from sklearn.model_selection import train_test_split\n",
    "from sklearn.preprocessing import StandardScaler\n",
    "pd.options.mode.chained_assignment = None\n",
    "from sklearn.model_selection import GridSearchCV\n",
    "from sklearn.metrics import f1_score, make_scorer\n",
    "from sklearn.metrics import roc_auc_score "
   ]
  },
  {
   "cell_type": "code",
   "execution_count": 2,
   "metadata": {},
   "outputs": [
    {
     "data": {
      "text/html": [
       "<div>\n",
       "<style scoped>\n",
       "    .dataframe tbody tr th:only-of-type {\n",
       "        vertical-align: middle;\n",
       "    }\n",
       "\n",
       "    .dataframe tbody tr th {\n",
       "        vertical-align: top;\n",
       "    }\n",
       "\n",
       "    .dataframe thead th {\n",
       "        text-align: right;\n",
       "    }\n",
       "</style>\n",
       "<table border=\"1\" class=\"dataframe\">\n",
       "  <thead>\n",
       "    <tr style=\"text-align: right;\">\n",
       "      <th></th>\n",
       "      <th>RowNumber</th>\n",
       "      <th>CustomerId</th>\n",
       "      <th>Surname</th>\n",
       "      <th>CreditScore</th>\n",
       "      <th>Geography</th>\n",
       "      <th>Gender</th>\n",
       "      <th>Age</th>\n",
       "      <th>Tenure</th>\n",
       "      <th>Balance</th>\n",
       "      <th>NumOfProducts</th>\n",
       "      <th>HasCrCard</th>\n",
       "      <th>IsActiveMember</th>\n",
       "      <th>EstimatedSalary</th>\n",
       "      <th>Exited</th>\n",
       "    </tr>\n",
       "  </thead>\n",
       "  <tbody>\n",
       "    <tr>\n",
       "      <td>0</td>\n",
       "      <td>1</td>\n",
       "      <td>15634602</td>\n",
       "      <td>Hargrave</td>\n",
       "      <td>619</td>\n",
       "      <td>France</td>\n",
       "      <td>Female</td>\n",
       "      <td>42</td>\n",
       "      <td>2.0</td>\n",
       "      <td>0.00</td>\n",
       "      <td>1</td>\n",
       "      <td>1</td>\n",
       "      <td>1</td>\n",
       "      <td>101348.88</td>\n",
       "      <td>1</td>\n",
       "    </tr>\n",
       "    <tr>\n",
       "      <td>1</td>\n",
       "      <td>2</td>\n",
       "      <td>15647311</td>\n",
       "      <td>Hill</td>\n",
       "      <td>608</td>\n",
       "      <td>Spain</td>\n",
       "      <td>Female</td>\n",
       "      <td>41</td>\n",
       "      <td>1.0</td>\n",
       "      <td>83807.86</td>\n",
       "      <td>1</td>\n",
       "      <td>0</td>\n",
       "      <td>1</td>\n",
       "      <td>112542.58</td>\n",
       "      <td>0</td>\n",
       "    </tr>\n",
       "    <tr>\n",
       "      <td>2</td>\n",
       "      <td>3</td>\n",
       "      <td>15619304</td>\n",
       "      <td>Onio</td>\n",
       "      <td>502</td>\n",
       "      <td>France</td>\n",
       "      <td>Female</td>\n",
       "      <td>42</td>\n",
       "      <td>8.0</td>\n",
       "      <td>159660.80</td>\n",
       "      <td>3</td>\n",
       "      <td>1</td>\n",
       "      <td>0</td>\n",
       "      <td>113931.57</td>\n",
       "      <td>1</td>\n",
       "    </tr>\n",
       "    <tr>\n",
       "      <td>3</td>\n",
       "      <td>4</td>\n",
       "      <td>15701354</td>\n",
       "      <td>Boni</td>\n",
       "      <td>699</td>\n",
       "      <td>France</td>\n",
       "      <td>Female</td>\n",
       "      <td>39</td>\n",
       "      <td>1.0</td>\n",
       "      <td>0.00</td>\n",
       "      <td>2</td>\n",
       "      <td>0</td>\n",
       "      <td>0</td>\n",
       "      <td>93826.63</td>\n",
       "      <td>0</td>\n",
       "    </tr>\n",
       "    <tr>\n",
       "      <td>4</td>\n",
       "      <td>5</td>\n",
       "      <td>15737888</td>\n",
       "      <td>Mitchell</td>\n",
       "      <td>850</td>\n",
       "      <td>Spain</td>\n",
       "      <td>Female</td>\n",
       "      <td>43</td>\n",
       "      <td>2.0</td>\n",
       "      <td>125510.82</td>\n",
       "      <td>1</td>\n",
       "      <td>1</td>\n",
       "      <td>1</td>\n",
       "      <td>79084.10</td>\n",
       "      <td>0</td>\n",
       "    </tr>\n",
       "    <tr>\n",
       "      <td>...</td>\n",
       "      <td>...</td>\n",
       "      <td>...</td>\n",
       "      <td>...</td>\n",
       "      <td>...</td>\n",
       "      <td>...</td>\n",
       "      <td>...</td>\n",
       "      <td>...</td>\n",
       "      <td>...</td>\n",
       "      <td>...</td>\n",
       "      <td>...</td>\n",
       "      <td>...</td>\n",
       "      <td>...</td>\n",
       "      <td>...</td>\n",
       "      <td>...</td>\n",
       "    </tr>\n",
       "    <tr>\n",
       "      <td>9995</td>\n",
       "      <td>9996</td>\n",
       "      <td>15606229</td>\n",
       "      <td>Obijiaku</td>\n",
       "      <td>771</td>\n",
       "      <td>France</td>\n",
       "      <td>Male</td>\n",
       "      <td>39</td>\n",
       "      <td>5.0</td>\n",
       "      <td>0.00</td>\n",
       "      <td>2</td>\n",
       "      <td>1</td>\n",
       "      <td>0</td>\n",
       "      <td>96270.64</td>\n",
       "      <td>0</td>\n",
       "    </tr>\n",
       "    <tr>\n",
       "      <td>9996</td>\n",
       "      <td>9997</td>\n",
       "      <td>15569892</td>\n",
       "      <td>Johnstone</td>\n",
       "      <td>516</td>\n",
       "      <td>France</td>\n",
       "      <td>Male</td>\n",
       "      <td>35</td>\n",
       "      <td>10.0</td>\n",
       "      <td>57369.61</td>\n",
       "      <td>1</td>\n",
       "      <td>1</td>\n",
       "      <td>1</td>\n",
       "      <td>101699.77</td>\n",
       "      <td>0</td>\n",
       "    </tr>\n",
       "    <tr>\n",
       "      <td>9997</td>\n",
       "      <td>9998</td>\n",
       "      <td>15584532</td>\n",
       "      <td>Liu</td>\n",
       "      <td>709</td>\n",
       "      <td>France</td>\n",
       "      <td>Female</td>\n",
       "      <td>36</td>\n",
       "      <td>7.0</td>\n",
       "      <td>0.00</td>\n",
       "      <td>1</td>\n",
       "      <td>0</td>\n",
       "      <td>1</td>\n",
       "      <td>42085.58</td>\n",
       "      <td>1</td>\n",
       "    </tr>\n",
       "    <tr>\n",
       "      <td>9998</td>\n",
       "      <td>9999</td>\n",
       "      <td>15682355</td>\n",
       "      <td>Sabbatini</td>\n",
       "      <td>772</td>\n",
       "      <td>Germany</td>\n",
       "      <td>Male</td>\n",
       "      <td>42</td>\n",
       "      <td>3.0</td>\n",
       "      <td>75075.31</td>\n",
       "      <td>2</td>\n",
       "      <td>1</td>\n",
       "      <td>0</td>\n",
       "      <td>92888.52</td>\n",
       "      <td>1</td>\n",
       "    </tr>\n",
       "    <tr>\n",
       "      <td>9999</td>\n",
       "      <td>10000</td>\n",
       "      <td>15628319</td>\n",
       "      <td>Walker</td>\n",
       "      <td>792</td>\n",
       "      <td>France</td>\n",
       "      <td>Female</td>\n",
       "      <td>28</td>\n",
       "      <td>NaN</td>\n",
       "      <td>130142.79</td>\n",
       "      <td>1</td>\n",
       "      <td>1</td>\n",
       "      <td>0</td>\n",
       "      <td>38190.78</td>\n",
       "      <td>0</td>\n",
       "    </tr>\n",
       "  </tbody>\n",
       "</table>\n",
       "<p>10000 rows × 14 columns</p>\n",
       "</div>"
      ],
      "text/plain": [
       "      RowNumber  CustomerId    Surname  CreditScore Geography  Gender  Age  \\\n",
       "0             1    15634602   Hargrave          619    France  Female   42   \n",
       "1             2    15647311       Hill          608     Spain  Female   41   \n",
       "2             3    15619304       Onio          502    France  Female   42   \n",
       "3             4    15701354       Boni          699    France  Female   39   \n",
       "4             5    15737888   Mitchell          850     Spain  Female   43   \n",
       "...         ...         ...        ...          ...       ...     ...  ...   \n",
       "9995       9996    15606229   Obijiaku          771    France    Male   39   \n",
       "9996       9997    15569892  Johnstone          516    France    Male   35   \n",
       "9997       9998    15584532        Liu          709    France  Female   36   \n",
       "9998       9999    15682355  Sabbatini          772   Germany    Male   42   \n",
       "9999      10000    15628319     Walker          792    France  Female   28   \n",
       "\n",
       "      Tenure    Balance  NumOfProducts  HasCrCard  IsActiveMember  \\\n",
       "0        2.0       0.00              1          1               1   \n",
       "1        1.0   83807.86              1          0               1   \n",
       "2        8.0  159660.80              3          1               0   \n",
       "3        1.0       0.00              2          0               0   \n",
       "4        2.0  125510.82              1          1               1   \n",
       "...      ...        ...            ...        ...             ...   \n",
       "9995     5.0       0.00              2          1               0   \n",
       "9996    10.0   57369.61              1          1               1   \n",
       "9997     7.0       0.00              1          0               1   \n",
       "9998     3.0   75075.31              2          1               0   \n",
       "9999     NaN  130142.79              1          1               0   \n",
       "\n",
       "      EstimatedSalary  Exited  \n",
       "0           101348.88       1  \n",
       "1           112542.58       0  \n",
       "2           113931.57       1  \n",
       "3            93826.63       0  \n",
       "4            79084.10       0  \n",
       "...               ...     ...  \n",
       "9995         96270.64       0  \n",
       "9996        101699.77       0  \n",
       "9997         42085.58       1  \n",
       "9998         92888.52       1  \n",
       "9999         38190.78       0  \n",
       "\n",
       "[10000 rows x 14 columns]"
      ]
     },
     "execution_count": 2,
     "metadata": {},
     "output_type": "execute_result"
    }
   ],
   "source": [
    "df = pd.read_csv('/datasets/Churn.csv')\n",
    "df"
   ]
  },
  {
   "cell_type": "code",
   "execution_count": 3,
   "metadata": {},
   "outputs": [
    {
     "name": "stdout",
     "output_type": "stream",
     "text": [
      "<class 'pandas.core.frame.DataFrame'>\n",
      "RangeIndex: 10000 entries, 0 to 9999\n",
      "Data columns (total 14 columns):\n",
      "RowNumber          10000 non-null int64\n",
      "CustomerId         10000 non-null int64\n",
      "Surname            10000 non-null object\n",
      "CreditScore        10000 non-null int64\n",
      "Geography          10000 non-null object\n",
      "Gender             10000 non-null object\n",
      "Age                10000 non-null int64\n",
      "Tenure             9091 non-null float64\n",
      "Balance            10000 non-null float64\n",
      "NumOfProducts      10000 non-null int64\n",
      "HasCrCard          10000 non-null int64\n",
      "IsActiveMember     10000 non-null int64\n",
      "EstimatedSalary    10000 non-null float64\n",
      "Exited             10000 non-null int64\n",
      "dtypes: float64(3), int64(8), object(3)\n",
      "memory usage: 1.1+ MB\n"
     ]
    }
   ],
   "source": [
    "df.info()"
   ]
  },
  {
   "cell_type": "markdown",
   "metadata": {},
   "source": [
    "Удалим столбец **Surname**, поскольку индентификация пользователя у нас остается в числовом столбце **CustomerId**"
   ]
  },
  {
   "cell_type": "code",
   "execution_count": 4,
   "metadata": {},
   "outputs": [],
   "source": [
    "df = df.drop(['Surname'], axis = 1)"
   ]
  },
  {
   "cell_type": "markdown",
   "metadata": {},
   "source": [
    "Заменим пропуски в колонке *Tenure* на случайные значения, посл=кольку причина пропусков нам не звестна, а простая замена на 0 может повлиять на распределение"
   ]
  },
  {
   "cell_type": "code",
   "execution_count": 5,
   "metadata": {},
   "outputs": [
    {
     "data": {
      "text/plain": [
       "count    9091.000000\n",
       "mean        4.997690\n",
       "std         2.894723\n",
       "min         0.000000\n",
       "25%         2.000000\n",
       "50%         5.000000\n",
       "75%         7.000000\n",
       "max        10.000000\n",
       "Name: Tenure, dtype: float64"
      ]
     },
     "execution_count": 5,
     "metadata": {},
     "output_type": "execute_result"
    }
   ],
   "source": [
    "df['Tenure'].describe()"
   ]
  },
  {
   "cell_type": "code",
   "execution_count": 6,
   "metadata": {},
   "outputs": [
    {
     "data": {
      "text/plain": [
       "count    10000.000000\n",
       "mean         4.993200\n",
       "std          2.874296\n",
       "min          0.000000\n",
       "25%          3.000000\n",
       "50%          5.000000\n",
       "75%          7.000000\n",
       "max         10.000000\n",
       "Name: Tenure, dtype: float64"
      ]
     },
     "execution_count": 6,
     "metadata": {},
     "output_type": "execute_result"
    }
   ],
   "source": [
    "df['Tenure'] = df['Tenure'].mask(df['Tenure'].isna(), np.random.uniform(1, 10, size=len(df))).astype('int64')\n",
    "\n",
    "df['Tenure'].describe()"
   ]
  },
  {
   "cell_type": "markdown",
   "metadata": {},
   "source": [
    "С помощью *техники OHE* подготовим данные из столбцов **Gender** и **Geography**. Используем параметр *drop_first=True*, чтобы избежать дамми-ловушки."
   ]
  },
  {
   "cell_type": "code",
   "execution_count": 7,
   "metadata": {
    "scrolled": true
   },
   "outputs": [
    {
     "data": {
      "text/plain": [
       "Male      5457\n",
       "Female    4543\n",
       "Name: Gender, dtype: int64"
      ]
     },
     "execution_count": 7,
     "metadata": {},
     "output_type": "execute_result"
    }
   ],
   "source": [
    "df['Gender'].value_counts()"
   ]
  },
  {
   "cell_type": "code",
   "execution_count": 8,
   "metadata": {},
   "outputs": [
    {
     "data": {
      "text/plain": [
       "France     5014\n",
       "Germany    2509\n",
       "Spain      2477\n",
       "Name: Geography, dtype: int64"
      ]
     },
     "execution_count": 8,
     "metadata": {},
     "output_type": "execute_result"
    }
   ],
   "source": [
    "df['Geography'].value_counts()"
   ]
  },
  {
   "cell_type": "code",
   "execution_count": 9,
   "metadata": {
    "scrolled": true
   },
   "outputs": [
    {
     "data": {
      "text/html": [
       "<div>\n",
       "<style scoped>\n",
       "    .dataframe tbody tr th:only-of-type {\n",
       "        vertical-align: middle;\n",
       "    }\n",
       "\n",
       "    .dataframe tbody tr th {\n",
       "        vertical-align: top;\n",
       "    }\n",
       "\n",
       "    .dataframe thead th {\n",
       "        text-align: right;\n",
       "    }\n",
       "</style>\n",
       "<table border=\"1\" class=\"dataframe\">\n",
       "  <thead>\n",
       "    <tr style=\"text-align: right;\">\n",
       "      <th></th>\n",
       "      <th>RowNumber</th>\n",
       "      <th>CustomerId</th>\n",
       "      <th>CreditScore</th>\n",
       "      <th>Age</th>\n",
       "      <th>Tenure</th>\n",
       "      <th>Balance</th>\n",
       "      <th>NumOfProducts</th>\n",
       "      <th>HasCrCard</th>\n",
       "      <th>IsActiveMember</th>\n",
       "      <th>EstimatedSalary</th>\n",
       "      <th>Exited</th>\n",
       "      <th>Gender_Male</th>\n",
       "      <th>Geography_Germany</th>\n",
       "      <th>Geography_Spain</th>\n",
       "    </tr>\n",
       "  </thead>\n",
       "  <tbody>\n",
       "    <tr>\n",
       "      <td>0</td>\n",
       "      <td>1</td>\n",
       "      <td>15634602</td>\n",
       "      <td>619</td>\n",
       "      <td>42</td>\n",
       "      <td>2</td>\n",
       "      <td>0.00</td>\n",
       "      <td>1</td>\n",
       "      <td>1</td>\n",
       "      <td>1</td>\n",
       "      <td>101348.88</td>\n",
       "      <td>1</td>\n",
       "      <td>0</td>\n",
       "      <td>0</td>\n",
       "      <td>0</td>\n",
       "    </tr>\n",
       "    <tr>\n",
       "      <td>1</td>\n",
       "      <td>2</td>\n",
       "      <td>15647311</td>\n",
       "      <td>608</td>\n",
       "      <td>41</td>\n",
       "      <td>1</td>\n",
       "      <td>83807.86</td>\n",
       "      <td>1</td>\n",
       "      <td>0</td>\n",
       "      <td>1</td>\n",
       "      <td>112542.58</td>\n",
       "      <td>0</td>\n",
       "      <td>0</td>\n",
       "      <td>0</td>\n",
       "      <td>1</td>\n",
       "    </tr>\n",
       "    <tr>\n",
       "      <td>2</td>\n",
       "      <td>3</td>\n",
       "      <td>15619304</td>\n",
       "      <td>502</td>\n",
       "      <td>42</td>\n",
       "      <td>8</td>\n",
       "      <td>159660.80</td>\n",
       "      <td>3</td>\n",
       "      <td>1</td>\n",
       "      <td>0</td>\n",
       "      <td>113931.57</td>\n",
       "      <td>1</td>\n",
       "      <td>0</td>\n",
       "      <td>0</td>\n",
       "      <td>0</td>\n",
       "    </tr>\n",
       "    <tr>\n",
       "      <td>3</td>\n",
       "      <td>4</td>\n",
       "      <td>15701354</td>\n",
       "      <td>699</td>\n",
       "      <td>39</td>\n",
       "      <td>1</td>\n",
       "      <td>0.00</td>\n",
       "      <td>2</td>\n",
       "      <td>0</td>\n",
       "      <td>0</td>\n",
       "      <td>93826.63</td>\n",
       "      <td>0</td>\n",
       "      <td>0</td>\n",
       "      <td>0</td>\n",
       "      <td>0</td>\n",
       "    </tr>\n",
       "    <tr>\n",
       "      <td>4</td>\n",
       "      <td>5</td>\n",
       "      <td>15737888</td>\n",
       "      <td>850</td>\n",
       "      <td>43</td>\n",
       "      <td>2</td>\n",
       "      <td>125510.82</td>\n",
       "      <td>1</td>\n",
       "      <td>1</td>\n",
       "      <td>1</td>\n",
       "      <td>79084.10</td>\n",
       "      <td>0</td>\n",
       "      <td>0</td>\n",
       "      <td>0</td>\n",
       "      <td>1</td>\n",
       "    </tr>\n",
       "    <tr>\n",
       "      <td>...</td>\n",
       "      <td>...</td>\n",
       "      <td>...</td>\n",
       "      <td>...</td>\n",
       "      <td>...</td>\n",
       "      <td>...</td>\n",
       "      <td>...</td>\n",
       "      <td>...</td>\n",
       "      <td>...</td>\n",
       "      <td>...</td>\n",
       "      <td>...</td>\n",
       "      <td>...</td>\n",
       "      <td>...</td>\n",
       "      <td>...</td>\n",
       "      <td>...</td>\n",
       "    </tr>\n",
       "    <tr>\n",
       "      <td>9995</td>\n",
       "      <td>9996</td>\n",
       "      <td>15606229</td>\n",
       "      <td>771</td>\n",
       "      <td>39</td>\n",
       "      <td>5</td>\n",
       "      <td>0.00</td>\n",
       "      <td>2</td>\n",
       "      <td>1</td>\n",
       "      <td>0</td>\n",
       "      <td>96270.64</td>\n",
       "      <td>0</td>\n",
       "      <td>1</td>\n",
       "      <td>0</td>\n",
       "      <td>0</td>\n",
       "    </tr>\n",
       "    <tr>\n",
       "      <td>9996</td>\n",
       "      <td>9997</td>\n",
       "      <td>15569892</td>\n",
       "      <td>516</td>\n",
       "      <td>35</td>\n",
       "      <td>10</td>\n",
       "      <td>57369.61</td>\n",
       "      <td>1</td>\n",
       "      <td>1</td>\n",
       "      <td>1</td>\n",
       "      <td>101699.77</td>\n",
       "      <td>0</td>\n",
       "      <td>1</td>\n",
       "      <td>0</td>\n",
       "      <td>0</td>\n",
       "    </tr>\n",
       "    <tr>\n",
       "      <td>9997</td>\n",
       "      <td>9998</td>\n",
       "      <td>15584532</td>\n",
       "      <td>709</td>\n",
       "      <td>36</td>\n",
       "      <td>7</td>\n",
       "      <td>0.00</td>\n",
       "      <td>1</td>\n",
       "      <td>0</td>\n",
       "      <td>1</td>\n",
       "      <td>42085.58</td>\n",
       "      <td>1</td>\n",
       "      <td>0</td>\n",
       "      <td>0</td>\n",
       "      <td>0</td>\n",
       "    </tr>\n",
       "    <tr>\n",
       "      <td>9998</td>\n",
       "      <td>9999</td>\n",
       "      <td>15682355</td>\n",
       "      <td>772</td>\n",
       "      <td>42</td>\n",
       "      <td>3</td>\n",
       "      <td>75075.31</td>\n",
       "      <td>2</td>\n",
       "      <td>1</td>\n",
       "      <td>0</td>\n",
       "      <td>92888.52</td>\n",
       "      <td>1</td>\n",
       "      <td>1</td>\n",
       "      <td>1</td>\n",
       "      <td>0</td>\n",
       "    </tr>\n",
       "    <tr>\n",
       "      <td>9999</td>\n",
       "      <td>10000</td>\n",
       "      <td>15628319</td>\n",
       "      <td>792</td>\n",
       "      <td>28</td>\n",
       "      <td>3</td>\n",
       "      <td>130142.79</td>\n",
       "      <td>1</td>\n",
       "      <td>1</td>\n",
       "      <td>0</td>\n",
       "      <td>38190.78</td>\n",
       "      <td>0</td>\n",
       "      <td>0</td>\n",
       "      <td>0</td>\n",
       "      <td>0</td>\n",
       "    </tr>\n",
       "  </tbody>\n",
       "</table>\n",
       "<p>10000 rows × 14 columns</p>\n",
       "</div>"
      ],
      "text/plain": [
       "      RowNumber  CustomerId  CreditScore  Age  Tenure    Balance  \\\n",
       "0             1    15634602          619   42       2       0.00   \n",
       "1             2    15647311          608   41       1   83807.86   \n",
       "2             3    15619304          502   42       8  159660.80   \n",
       "3             4    15701354          699   39       1       0.00   \n",
       "4             5    15737888          850   43       2  125510.82   \n",
       "...         ...         ...          ...  ...     ...        ...   \n",
       "9995       9996    15606229          771   39       5       0.00   \n",
       "9996       9997    15569892          516   35      10   57369.61   \n",
       "9997       9998    15584532          709   36       7       0.00   \n",
       "9998       9999    15682355          772   42       3   75075.31   \n",
       "9999      10000    15628319          792   28       3  130142.79   \n",
       "\n",
       "      NumOfProducts  HasCrCard  IsActiveMember  EstimatedSalary  Exited  \\\n",
       "0                 1          1               1        101348.88       1   \n",
       "1                 1          0               1        112542.58       0   \n",
       "2                 3          1               0        113931.57       1   \n",
       "3                 2          0               0         93826.63       0   \n",
       "4                 1          1               1         79084.10       0   \n",
       "...             ...        ...             ...              ...     ...   \n",
       "9995              2          1               0         96270.64       0   \n",
       "9996              1          1               1        101699.77       0   \n",
       "9997              1          0               1         42085.58       1   \n",
       "9998              2          1               0         92888.52       1   \n",
       "9999              1          1               0         38190.78       0   \n",
       "\n",
       "      Gender_Male  Geography_Germany  Geography_Spain  \n",
       "0               0                  0                0  \n",
       "1               0                  0                1  \n",
       "2               0                  0                0  \n",
       "3               0                  0                0  \n",
       "4               0                  0                1  \n",
       "...           ...                ...              ...  \n",
       "9995            1                  0                0  \n",
       "9996            1                  0                0  \n",
       "9997            0                  0                0  \n",
       "9998            1                  1                0  \n",
       "9999            0                  0                0  \n",
       "\n",
       "[10000 rows x 14 columns]"
      ]
     },
     "execution_count": 9,
     "metadata": {},
     "output_type": "execute_result"
    }
   ],
   "source": [
    "df_ohe = pd.get_dummies(df, columns = ['Gender', 'Geography'], drop_first=True)\n",
    "df_ohe"
   ]
  },
  {
   "cell_type": "markdown",
   "metadata": {},
   "source": [
    "Разделим выборки на обучающую, тестовую и валидационную и проведем масштабирование признаков"
   ]
  },
  {
   "cell_type": "code",
   "execution_count": 10,
   "metadata": {},
   "outputs": [],
   "source": [
    "features = df_ohe.drop(['Exited'], axis=1)\n",
    "target = df_ohe['Exited']\n",
    "\n",
    "features_train, features_temp, target_train, target_temp = train_test_split(\n",
    "    features, target, test_size=0.4, random_state=12345)\n",
    "\n",
    "features_valid, features_test, target_valid, target_test = train_test_split(\n",
    "    features_temp, target_temp, test_size=0.5, random_state=12345)"
   ]
  },
  {
   "cell_type": "code",
   "execution_count": 11,
   "metadata": {
    "scrolled": true
   },
   "outputs": [
    {
     "name": "stdout",
     "output_type": "stream",
     "text": [
      "Размер выборки _train (6000, 13)\n",
      "Размер выборки _valid (2000, 13)\n",
      "Размер выборки _test (2000, 13)\n"
     ]
    }
   ],
   "source": [
    "print('Размер выборки _train', features_train.shape)\n",
    "print('Размер выборки _valid', features_valid.shape)\n",
    "print('Размер выборки _test', features_test.shape)"
   ]
  },
  {
   "cell_type": "code",
   "execution_count": 12,
   "metadata": {
    "scrolled": true
   },
   "outputs": [
    {
     "data": {
      "text/html": [
       "<div>\n",
       "<style scoped>\n",
       "    .dataframe tbody tr th:only-of-type {\n",
       "        vertical-align: middle;\n",
       "    }\n",
       "\n",
       "    .dataframe tbody tr th {\n",
       "        vertical-align: top;\n",
       "    }\n",
       "\n",
       "    .dataframe thead th {\n",
       "        text-align: right;\n",
       "    }\n",
       "</style>\n",
       "<table border=\"1\" class=\"dataframe\">\n",
       "  <thead>\n",
       "    <tr style=\"text-align: right;\">\n",
       "      <th></th>\n",
       "      <th>RowNumber</th>\n",
       "      <th>CustomerId</th>\n",
       "      <th>CreditScore</th>\n",
       "      <th>Age</th>\n",
       "      <th>Tenure</th>\n",
       "      <th>Balance</th>\n",
       "      <th>NumOfProducts</th>\n",
       "      <th>HasCrCard</th>\n",
       "      <th>IsActiveMember</th>\n",
       "      <th>EstimatedSalary</th>\n",
       "      <th>Gender_Male</th>\n",
       "      <th>Geography_Germany</th>\n",
       "      <th>Geography_Spain</th>\n",
       "    </tr>\n",
       "  </thead>\n",
       "  <tbody>\n",
       "    <tr>\n",
       "      <td>8532</td>\n",
       "      <td>8533</td>\n",
       "      <td>15780805</td>\n",
       "      <td>-0.699824</td>\n",
       "      <td>-0.373192</td>\n",
       "      <td>-1.054919</td>\n",
       "      <td>-1.233163</td>\n",
       "      <td>2</td>\n",
       "      <td>1</td>\n",
       "      <td>0</td>\n",
       "      <td>-0.015173</td>\n",
       "      <td>0</td>\n",
       "      <td>0</td>\n",
       "      <td>0</td>\n",
       "    </tr>\n",
       "    <tr>\n",
       "      <td>5799</td>\n",
       "      <td>5800</td>\n",
       "      <td>15649853</td>\n",
       "      <td>-0.284431</td>\n",
       "      <td>0.575842</td>\n",
       "      <td>-0.705878</td>\n",
       "      <td>-1.233163</td>\n",
       "      <td>1</td>\n",
       "      <td>1</td>\n",
       "      <td>1</td>\n",
       "      <td>1.471724</td>\n",
       "      <td>0</td>\n",
       "      <td>0</td>\n",
       "      <td>0</td>\n",
       "    </tr>\n",
       "    <tr>\n",
       "      <td>5511</td>\n",
       "      <td>5512</td>\n",
       "      <td>15714970</td>\n",
       "      <td>0.151731</td>\n",
       "      <td>-0.657902</td>\n",
       "      <td>-1.753002</td>\n",
       "      <td>0.438711</td>\n",
       "      <td>1</td>\n",
       "      <td>1</td>\n",
       "      <td>0</td>\n",
       "      <td>-1.367107</td>\n",
       "      <td>1</td>\n",
       "      <td>1</td>\n",
       "      <td>0</td>\n",
       "    </tr>\n",
       "    <tr>\n",
       "      <td>7365</td>\n",
       "      <td>7366</td>\n",
       "      <td>15593178</td>\n",
       "      <td>-0.876366</td>\n",
       "      <td>-0.278288</td>\n",
       "      <td>1.737412</td>\n",
       "      <td>1.239884</td>\n",
       "      <td>1</td>\n",
       "      <td>1</td>\n",
       "      <td>1</td>\n",
       "      <td>-0.786517</td>\n",
       "      <td>0</td>\n",
       "      <td>0</td>\n",
       "      <td>1</td>\n",
       "    </tr>\n",
       "    <tr>\n",
       "      <td>7367</td>\n",
       "      <td>7368</td>\n",
       "      <td>15736399</td>\n",
       "      <td>-0.481743</td>\n",
       "      <td>0.291132</td>\n",
       "      <td>1.737412</td>\n",
       "      <td>-1.233163</td>\n",
       "      <td>2</td>\n",
       "      <td>1</td>\n",
       "      <td>0</td>\n",
       "      <td>1.358533</td>\n",
       "      <td>1</td>\n",
       "      <td>0</td>\n",
       "      <td>1</td>\n",
       "    </tr>\n",
       "  </tbody>\n",
       "</table>\n",
       "</div>"
      ],
      "text/plain": [
       "      RowNumber  CustomerId  CreditScore       Age    Tenure   Balance  \\\n",
       "8532       8533    15780805    -0.699824 -0.373192 -1.054919 -1.233163   \n",
       "5799       5800    15649853    -0.284431  0.575842 -0.705878 -1.233163   \n",
       "5511       5512    15714970     0.151731 -0.657902 -1.753002  0.438711   \n",
       "7365       7366    15593178    -0.876366 -0.278288  1.737412  1.239884   \n",
       "7367       7368    15736399    -0.481743  0.291132  1.737412 -1.233163   \n",
       "\n",
       "      NumOfProducts  HasCrCard  IsActiveMember  EstimatedSalary  Gender_Male  \\\n",
       "8532              2          1               0        -0.015173            0   \n",
       "5799              1          1               1         1.471724            0   \n",
       "5511              1          1               0        -1.367107            1   \n",
       "7365              1          1               1        -0.786517            0   \n",
       "7367              2          1               0         1.358533            1   \n",
       "\n",
       "      Geography_Germany  Geography_Spain  \n",
       "8532                  0                0  \n",
       "5799                  0                0  \n",
       "5511                  1                0  \n",
       "7365                  0                1  \n",
       "7367                  0                1  "
      ]
     },
     "execution_count": 12,
     "metadata": {},
     "output_type": "execute_result"
    }
   ],
   "source": [
    "numeric = ['CreditScore', 'Age', 'Tenure', 'Balance', 'EstimatedSalary']\n",
    "\n",
    "scaler = StandardScaler()\n",
    "scaler.fit(features_train[numeric]) \n",
    "\n",
    "features_train[numeric] = scaler.transform(features_train[numeric])\n",
    "features_valid[numeric] = scaler.transform(features_valid[numeric])\n",
    "\n",
    "features_valid.head()"
   ]
  },
  {
   "cell_type": "markdown",
   "metadata": {},
   "source": [
    "## Исследование задачи"
   ]
  },
  {
   "cell_type": "markdown",
   "metadata": {},
   "source": [
    "Баланс класса выглядит следующим образом"
   ]
  },
  {
   "cell_type": "code",
   "execution_count": 13,
   "metadata": {
    "scrolled": true
   },
   "outputs": [
    {
     "data": {
      "text/plain": [
       "0    7963\n",
       "1    2037\n",
       "Name: Exited, dtype: int64"
      ]
     },
     "execution_count": 13,
     "metadata": {},
     "output_type": "execute_result"
    }
   ],
   "source": [
    "df['Exited'].value_counts()"
   ]
  },
  {
   "cell_type": "markdown",
   "metadata": {},
   "source": [
    "Для выбора лучшей модели выберем лучшие гиперпараметры решающего дерева DecisionTreeClassifier и случайоного леса RandomForestClassifier"
   ]
  },
  {
   "cell_type": "code",
   "execution_count": 14,
   "metadata": {
    "scrolled": true
   },
   "outputs": [
    {
     "name": "stdout",
     "output_type": "stream",
     "text": [
      "f1_score лучшей модели DT на валидационной выборке: 0.5528700906344411\n",
      "Depth лучшей модели: 4\n"
     ]
    },
    {
     "name": "stderr",
     "output_type": "stream",
     "text": [
      "/opt/conda/lib/python3.7/site-packages/sklearn/metrics/classification.py:1437: UndefinedMetricWarning: F-score is ill-defined and being set to 0.0 due to no predicted samples.\n",
      "  'precision', 'predicted', average, warn_for)\n"
     ]
    }
   ],
   "source": [
    "best_model = None\n",
    "best_result = 0\n",
    "best_depth = 0\n",
    "for depth in range(1, 6):\n",
    "    model = DecisionTreeClassifier(random_state=12345, max_depth=depth) \n",
    "    model.fit(features_train, target_train) \n",
    "    predictions = model.predict(features_valid)\n",
    "    result = f1_score(target_valid, predictions) \n",
    "    if result > best_result:\n",
    "        best_model = model\n",
    "        best_result = result\n",
    "        best_depth = depth\n",
    "\n",
    "\n",
    "print(\"f1_score лучшей модели DT на валидационной выборке:\", best_result)\n",
    "print(\"Depth лучшей модели:\", best_depth)"
   ]
  },
  {
   "cell_type": "code",
   "execution_count": 15,
   "metadata": {},
   "outputs": [
    {
     "name": "stdout",
     "output_type": "stream",
     "text": [
      "roc_auc лучшей модели DT на валидационной выборке: 0.815352439828453\n"
     ]
    }
   ],
   "source": [
    "model = DecisionTreeClassifier(random_state=12345, max_depth=best_depth) \n",
    "model.fit(features_train, target_train) \n",
    "predictions = model.predict(features_valid)\n",
    "\n",
    "probabilities_valid = model.predict_proba(features_valid)\n",
    "probabilities_one_valid = probabilities_valid[:, 1]\n",
    "\n",
    "auc_roc = roc_auc_score(target_valid, probabilities_one_valid)\n",
    "\n",
    "print(\"roc_auc лучшей модели DT на валидационной выборке:\", auc_roc)"
   ]
  },
  {
   "cell_type": "markdown",
   "metadata": {},
   "source": [
    "Для *RandomForestClassifier* будем использовать следующие параметры:\n",
    "\n",
    "- n_estimators – число деревьев в лесу. Оно будет изменяться от 1 до 20 с шагом 2\n",
    "- max_depth – глубина дерева. Она будет изменяться от 1 до 12 с шагом в 2.\n",
    "\n",
    "Для подбора параметров используем *GridSearchCV*, который находит наилучшие параметры путем обычного перебора: он создает модель для каждой возможной комбинации параметров."
   ]
  },
  {
   "cell_type": "code",
   "execution_count": 18,
   "metadata": {},
   "outputs": [
    {
     "data": {
      "text/plain": [
       "{'max_depth': 9, 'n_estimators': 19}"
      ]
     },
     "execution_count": 18,
     "metadata": {},
     "output_type": "execute_result"
    }
   ],
   "source": [
    "model_rf = RandomForestClassifier() \n",
    "\n",
    "parametrs = { 'n_estimators': range (1, 21, 2),\n",
    "              'max_depth': range (1,13, 2) }\n",
    "grid = GridSearchCV(model_rf, parametrs, cv=5)\n",
    "grid.fit(features_train, target_train)\n",
    "grid.best_params_"
   ]
  },
  {
   "cell_type": "code",
   "execution_count": 100,
   "metadata": {},
   "outputs": [
    {
     "name": "stdout",
     "output_type": "stream",
     "text": [
      "roc_auc лучшей модели DT на валидационной выборке: 0.8341252366636623\n",
      "f1_score лучшей модели RF на валидационной выборке: 0.5371248025276462\n"
     ]
    }
   ],
   "source": [
    "model_best = RandomForestClassifier(\n",
    "    random_state=12345, max_depth = 11, n_estimators = 17)\n",
    "\n",
    "model_best.fit(features_train, target_train) \n",
    "predictions = model_best.predict(features_valid)\n",
    "result = f1_score(target_valid, predictions)\n",
    "\n",
    "probabilities_valid = model_best.predict_proba(features_valid)\n",
    "probabilities_one_valid = probabilities_valid[:, 1]\n",
    "\n",
    "auc_roc = roc_auc_score(target_valid, probabilities_one_valid)\n",
    "\n",
    "print(\"roc_auc лучшей модели DT на валидационной выборке:\", auc_roc)\n",
    "print(\"f1_score лучшей модели RF на валидационной выборке:\", result)"
   ]
  },
  {
   "cell_type": "markdown",
   "metadata": {},
   "source": [
    "**Вывод:** Лучшая модель - случайный лес с параметрами:\n",
    "- 'max_depth': 11,\n",
    "- 'n_estimators': 17"
   ]
  },
  {
   "cell_type": "markdown",
   "metadata": {},
   "source": [
    "## Борьба с дисбалансом"
   ]
  },
  {
   "cell_type": "markdown",
   "metadata": {},
   "source": [
    "Попробуем решить проблему дисбаланса классов с помощью трех методов - взвешивания класов, уменьшения и увеличения выборки. С помощью F1 меры выберем лучший метод."
   ]
  },
  {
   "cell_type": "code",
   "execution_count": 96,
   "metadata": {},
   "outputs": [
    {
     "name": "stdout",
     "output_type": "stream",
     "text": [
      "roc_auc лучшей модели DT на валидационной выборке: 0.8267145639642147\n",
      "f1_score лучшей модели DT на валидационной выборке: 0.5961945031712473\n",
      "Depth лучшей модели: 5\n"
     ]
    }
   ],
   "source": [
    "best_model = None\n",
    "best_result = 0\n",
    "best_depth = 0\n",
    "for depth in range(1, 6):\n",
    "    model = DecisionTreeClassifier(random_state=12345, max_depth=depth, class_weight='balanced') \n",
    "    model.fit(features_train, target_train) \n",
    "    predictions = model.predict(features_valid)\n",
    "    result = f1_score(target_valid, predictions) \n",
    "    if result > best_result:\n",
    "        best_model = model\n",
    "        best_result = result\n",
    "        best_depth = depth\n",
    "\n",
    "probabilities_valid = model.predict_proba(features_valid)\n",
    "probabilities_one_valid = probabilities_valid[:, 1]\n",
    "\n",
    "auc_roc = roc_auc_score(target_valid, probabilities_one_valid)\n",
    "\n",
    "print(\"roc_auc лучшей модели DT на валидационной выборке:\", auc_roc)        \n",
    "print(\"f1_score лучшей модели DT на валидационной выборке:\", best_result)\n",
    "print(\"Depth лучшей модели:\", best_depth)"
   ]
  },
  {
   "cell_type": "code",
   "execution_count": 101,
   "metadata": {},
   "outputs": [
    {
     "name": "stdout",
     "output_type": "stream",
     "text": [
      "roc_auc лучшей модели DT на валидационной выборке: 0.8401620503390415\n",
      "f1_score лучшей модели RF на валидационной выборке: 0.6005089058524172\n"
     ]
    }
   ],
   "source": [
    "model_best = RandomForestClassifier(\n",
    "    random_state=12345, max_depth = 11, n_estimators = 17, class_weight='balanced')\n",
    "\n",
    "model_best.fit(features_train, target_train) \n",
    "predictions = model_best.predict(features_valid)\n",
    "result = f1_score(target_valid, predictions)\n",
    "\n",
    "probabilities_valid = model_best.predict_proba(features_valid)\n",
    "probabilities_one_valid = probabilities_valid[:, 1]\n",
    "\n",
    "auc_roc = roc_auc_score(target_valid, probabilities_one_valid)\n",
    "\n",
    "print(\"roc_auc лучшей модели DT на валидационной выборке:\", auc_roc)\n",
    "print(\"f1_score лучшей модели RF на валидационной выборке:\", result)"
   ]
  },
  {
   "cell_type": "code",
   "execution_count": 102,
   "metadata": {},
   "outputs": [
    {
     "name": "stdout",
     "output_type": "stream",
     "text": [
      "roc_auc 0.826111941156189\n",
      "F1: 0.5955649419218586\n"
     ]
    }
   ],
   "source": [
    "from sklearn.utils import shuffle\n",
    "\n",
    "def upsample(features, target, repeat):\n",
    "    features_zeros = features[target == 0]\n",
    "    features_ones = features[target == 1]\n",
    "    target_zeros = target[target == 0]\n",
    "    target_ones = target[target == 1]\n",
    "\n",
    "    features_upsampled = pd.concat([features_zeros] + [features_ones] * repeat)\n",
    "    target_upsampled = pd.concat([target_zeros] + [target_ones] * repeat)\n",
    "    \n",
    "    features_upsampled, target_upsampled = shuffle(\n",
    "        features_upsampled, target_upsampled, random_state=12345)\n",
    "    \n",
    "    return features_upsampled, target_upsampled\n",
    "\n",
    "features_upsampled, target_upsampled = upsample(features_train, target_train, 4)\n",
    "\n",
    "model = DecisionTreeClassifier(random_state=12345, max_depth=5)\n",
    "model.fit(features_upsampled, target_upsampled)\n",
    "predicted_valid = model.predict(features_valid) \n",
    "\n",
    "probabilities_valid = model.predict_proba(features_valid)\n",
    "probabilities_one_valid = probabilities_valid[:, 1]\n",
    "\n",
    "auc_roc = roc_auc_score(target_valid, probabilities_one_valid)\n",
    "\n",
    "print(\"roc_auc\", auc_roc)\n",
    "print(\"F1:\", f1_score(target_valid, predicted_valid))"
   ]
  },
  {
   "cell_type": "code",
   "execution_count": 103,
   "metadata": {},
   "outputs": [
    {
     "name": "stdout",
     "output_type": "stream",
     "text": [
      "roc_auc 0.8114062811896998\n",
      "F1: 0.5780933062880325\n"
     ]
    }
   ],
   "source": [
    "def downsample(features, target, fraction):\n",
    "    features_zeros = features[target == 0]\n",
    "    features_ones = features[target == 1]\n",
    "    target_zeros = target[target == 0]\n",
    "    target_ones = target[target == 1]\n",
    "\n",
    "    features_downsampled = pd.concat(\n",
    "        [features_zeros.sample(frac=fraction, random_state=12345)] + [features_ones])\n",
    "    target_downsampled = pd.concat(\n",
    "        [target_zeros.sample(frac=fraction, random_state=12345)] + [target_ones])\n",
    "    \n",
    "    features_downsampled, target_downsampled = shuffle(\n",
    "        features_downsampled, target_downsampled, random_state=12345)\n",
    "    \n",
    "    return features_downsampled, target_downsampled\n",
    "\n",
    "features_downsampled, target_downsampled = downsample(features_train, target_train, 0.3)\n",
    "\n",
    "model = DecisionTreeClassifier(random_state=12345, max_depth=5)\n",
    "model.fit(features_downsampled, target_downsampled)\n",
    "predicted_valid = model.predict(features_valid) \n",
    "\n",
    "probabilities_valid = model.predict_proba(features_valid)\n",
    "probabilities_one_valid = probabilities_valid[:, 1]\n",
    "\n",
    "auc_roc = roc_auc_score(target_valid, probabilities_one_valid)\n",
    "\n",
    "print(\"roc_auc\", auc_roc)\n",
    "print(\"F1:\", f1_score(target_valid, predicted_valid))"
   ]
  },
  {
   "cell_type": "markdown",
   "metadata": {},
   "source": [
    "Вывод: наилучший результат у взвешивания классов "
   ]
  },
  {
   "cell_type": "markdown",
   "metadata": {},
   "source": [
    "## Тестирование модели"
   ]
  },
  {
   "cell_type": "code",
   "execution_count": 113,
   "metadata": {},
   "outputs": [
    {
     "name": "stdout",
     "output_type": "stream",
     "text": [
      "f1_score лучшей модели RF на тестовой выборке: 0.6005089058524172\n"
     ]
    }
   ],
   "source": [
    "model_best = RandomForestClassifier(\n",
    "    random_state=12345, max_depth = 11, n_estimators = 17, class_weight='balanced')\n",
    "\n",
    "model_best.fit(features_train, target_train) \n",
    "predictions = model_best.predict(features_valid)\n",
    "result = f1_score(target_valid, predictions)\n",
    "\n",
    "print(\"f1_score лучшей модели RF на тестовой выборке:\", result)"
   ]
  },
  {
   "cell_type": "code",
   "execution_count": 114,
   "metadata": {},
   "outputs": [
    {
     "name": "stdout",
     "output_type": "stream",
     "text": [
      "0.6316464064544853\n"
     ]
    }
   ],
   "source": [
    "probabilities_test = model.predict_proba(features_test)\n",
    "probabilities_one_test = probabilities_test[:, 1]\n",
    "\n",
    "auc_roc = roc_auc_score(target_test, probabilities_one_test) \n",
    "\n",
    "print(auc_roc)"
   ]
  },
  {
   "cell_type": "markdown",
   "metadata": {},
   "source": [
    "Вывод. Удалось достичь f1 меры более 0,59. Показатель AUCROC на тестовой выборке 0,63"
   ]
  },
  {
   "cell_type": "code",
   "execution_count": 117,
   "metadata": {
    "scrolled": true
   },
   "outputs": [
    {
     "data": {
      "text/plain": [
       "Text(0.5, 0, 'Relative Importance')"
      ]
     },
     "execution_count": 117,
     "metadata": {},
     "output_type": "execute_result"
    },
    {
     "data": {
      "image/png": "[encoded data removed]",
      "text/plain": [
       "<Figure size 432x288 with 1 Axes>"
      ]
     },
     "metadata": {
      "needs_background": "light"
     },
     "output_type": "display_data"
    }
   ],
   "source": [
    "import matplotlib.pyplot as plt\n",
    "features=features_test.columns\n",
    "importances = model.feature_importances_\n",
    "indices = np.argsort(importances)\n",
    "\n",
    "plt.figure(1)\n",
    "plt.title('Feature Importances')\n",
    "plt.barh(range(len(indices)), importances[indices], color='b', align='center')\n",
    "plt.yticks(range(len(indices)), features[indices])\n",
    "plt.xlabel('Relative Importance')"
   ]
  }
 ],
 "metadata": {
  "ExecuteTimeLog": [
   {
    "duration": 1334,
    "start_time": "2022-02-28T12:41:02.489Z"
   },
   {
    "duration": 102,
    "start_time": "2022-02-28T12:41:39.067Z"
   },
   {
    "duration": 12,
    "start_time": "2022-02-28T12:42:41.769Z"
   },
   {
    "duration": 9,
    "start_time": "2022-02-28T12:56:34.452Z"
   },
   {
    "duration": 8,
    "start_time": "2022-02-28T12:57:10.665Z"
   },
   {
    "duration": 8,
    "start_time": "2022-02-28T12:57:55.666Z"
   },
   {
    "duration": 503,
    "start_time": "2022-02-28T13:06:13.393Z"
   },
   {
    "duration": 352,
    "start_time": "2022-02-28T13:06:21.465Z"
   },
   {
    "duration": 98,
    "start_time": "2022-02-28T13:08:44.839Z"
   },
   {
    "duration": 640,
    "start_time": "2022-02-28T13:08:57.119Z"
   },
   {
    "duration": 3145,
    "start_time": "2022-02-28T13:09:04.003Z"
   },
   {
    "duration": 3711,
    "start_time": "2022-02-28T13:09:17.371Z"
   },
   {
    "duration": 387,
    "start_time": "2022-02-28T13:09:36.609Z"
   },
   {
    "duration": 328,
    "start_time": "2022-02-28T13:09:58.682Z"
   },
   {
    "duration": 53,
    "start_time": "2022-02-28T13:13:57.174Z"
   },
   {
    "duration": 87,
    "start_time": "2022-02-28T13:15:30.973Z"
   },
   {
    "duration": 52,
    "start_time": "2022-02-28T13:15:34.774Z"
   },
   {
    "duration": 50,
    "start_time": "2022-02-28T13:15:59.145Z"
   },
   {
    "duration": 48,
    "start_time": "2022-02-28T13:16:02.272Z"
   },
   {
    "duration": 39,
    "start_time": "2022-02-28T13:16:42.819Z"
   },
   {
    "duration": 4,
    "start_time": "2022-02-28T13:18:47.792Z"
   },
   {
    "duration": 15,
    "start_time": "2022-02-28T13:22:33.093Z"
   },
   {
    "duration": 12,
    "start_time": "2022-02-28T13:22:53.583Z"
   },
   {
    "duration": 254,
    "start_time": "2022-02-28T13:28:18.479Z"
   },
   {
    "duration": 13,
    "start_time": "2022-02-28T13:28:28.109Z"
   },
   {
    "duration": 44,
    "start_time": "2022-02-28T13:31:29.870Z"
   },
   {
    "duration": 15,
    "start_time": "2022-02-28T13:32:27.696Z"
   },
   {
    "duration": 16,
    "start_time": "2022-02-28T13:32:28.754Z"
   },
   {
    "duration": 261,
    "start_time": "2022-02-28T13:35:26.218Z"
   },
   {
    "duration": 30,
    "start_time": "2022-02-28T13:41:06.498Z"
   },
   {
    "duration": 5,
    "start_time": "2022-02-28T13:41:23.690Z"
   },
   {
    "duration": 9,
    "start_time": "2022-02-28T13:41:28.615Z"
   },
   {
    "duration": 9,
    "start_time": "2022-02-28T13:41:29.179Z"
   },
   {
    "duration": 41,
    "start_time": "2022-02-28T13:41:30.013Z"
   },
   {
    "duration": 44,
    "start_time": "2022-02-28T13:41:33.455Z"
   },
   {
    "duration": 14,
    "start_time": "2022-02-28T13:41:36.087Z"
   },
   {
    "duration": 13,
    "start_time": "2022-02-28T13:41:37.009Z"
   },
   {
    "duration": 261,
    "start_time": "2022-02-28T13:41:39.531Z"
   },
   {
    "duration": 30,
    "start_time": "2022-02-28T13:44:11.208Z"
   },
   {
    "duration": 19,
    "start_time": "2022-02-28T13:44:17.266Z"
   },
   {
    "duration": 13,
    "start_time": "2022-02-28T13:44:20.387Z"
   },
   {
    "duration": 254,
    "start_time": "2022-02-28T13:44:25.630Z"
   },
   {
    "duration": 4,
    "start_time": "2022-02-28T13:45:09.193Z"
   },
   {
    "duration": 51,
    "start_time": "2022-02-28T13:45:10.047Z"
   },
   {
    "duration": 13,
    "start_time": "2022-02-28T13:45:11.465Z"
   },
   {
    "duration": 5,
    "start_time": "2022-02-28T13:45:13.061Z"
   },
   {
    "duration": 6,
    "start_time": "2022-02-28T13:45:26.405Z"
   },
   {
    "duration": 228,
    "start_time": "2022-02-28T13:45:32.188Z"
   },
   {
    "duration": 5,
    "start_time": "2022-02-28T13:45:36.643Z"
   },
   {
    "duration": 5,
    "start_time": "2022-02-28T13:45:43.516Z"
   },
   {
    "duration": 54,
    "start_time": "2022-02-28T13:45:43.524Z"
   },
   {
    "duration": 11,
    "start_time": "2022-02-28T13:45:43.581Z"
   },
   {
    "duration": 6,
    "start_time": "2022-02-28T13:45:43.594Z"
   },
   {
    "duration": 8,
    "start_time": "2022-02-28T13:45:43.602Z"
   },
   {
    "duration": 9,
    "start_time": "2022-02-28T13:45:43.612Z"
   },
   {
    "duration": 10,
    "start_time": "2022-02-28T13:45:43.623Z"
   },
   {
    "duration": 74,
    "start_time": "2022-02-28T13:45:43.636Z"
   },
   {
    "duration": 46,
    "start_time": "2022-02-28T13:45:43.713Z"
   },
   {
    "duration": 34,
    "start_time": "2022-02-28T13:45:43.762Z"
   },
   {
    "duration": 15,
    "start_time": "2022-02-28T13:45:43.799Z"
   },
   {
    "duration": 242,
    "start_time": "2022-02-28T13:45:43.818Z"
   },
   {
    "duration": 105,
    "start_time": "2022-02-28T13:46:36.585Z"
   },
   {
    "duration": 6,
    "start_time": "2022-02-28T13:48:23.810Z"
   },
   {
    "duration": 57,
    "start_time": "2022-02-28T13:48:23.820Z"
   },
   {
    "duration": 13,
    "start_time": "2022-02-28T13:48:23.881Z"
   },
   {
    "duration": 12,
    "start_time": "2022-02-28T13:48:23.897Z"
   },
   {
    "duration": 12,
    "start_time": "2022-02-28T13:48:23.911Z"
   },
   {
    "duration": 15,
    "start_time": "2022-02-28T13:48:23.926Z"
   },
   {
    "duration": 39,
    "start_time": "2022-02-28T13:48:23.943Z"
   },
   {
    "duration": 38,
    "start_time": "2022-02-28T13:48:23.986Z"
   },
   {
    "duration": 64,
    "start_time": "2022-02-28T13:48:24.027Z"
   },
   {
    "duration": 14,
    "start_time": "2022-02-28T13:48:24.094Z"
   },
   {
    "duration": 13,
    "start_time": "2022-02-28T13:48:24.110Z"
   },
   {
    "duration": 149,
    "start_time": "2022-02-28T13:48:24.126Z"
   },
   {
    "duration": 142074,
    "start_time": "2022-02-28T13:48:56.650Z"
   },
   {
    "duration": 71,
    "start_time": "2022-02-28T13:51:39.196Z"
   },
   {
    "duration": 72,
    "start_time": "2022-02-28T13:52:01.652Z"
   },
   {
    "duration": 996,
    "start_time": "2022-02-28T18:35:57.967Z"
   },
   {
    "duration": 48,
    "start_time": "2022-02-28T18:35:58.965Z"
   },
   {
    "duration": 9,
    "start_time": "2022-02-28T18:35:59.015Z"
   },
   {
    "duration": 10,
    "start_time": "2022-02-28T18:35:59.025Z"
   },
   {
    "duration": 9,
    "start_time": "2022-02-28T18:35:59.036Z"
   },
   {
    "duration": 7,
    "start_time": "2022-02-28T18:35:59.046Z"
   },
   {
    "duration": 8,
    "start_time": "2022-02-28T18:35:59.055Z"
   },
   {
    "duration": 27,
    "start_time": "2022-02-28T18:35:59.064Z"
   },
   {
    "duration": 55,
    "start_time": "2022-02-28T18:35:59.093Z"
   },
   {
    "duration": 9,
    "start_time": "2022-02-28T18:35:59.150Z"
   },
   {
    "duration": 8,
    "start_time": "2022-02-28T18:35:59.161Z"
   },
   {
    "duration": 274,
    "start_time": "2022-02-28T18:35:59.170Z"
   },
   {
    "duration": 83,
    "start_time": "2022-02-28T18:35:59.362Z"
   },
   {
    "duration": 83,
    "start_time": "2022-02-28T18:35:59.364Z"
   },
   {
    "duration": 73,
    "start_time": "2022-02-28T18:36:26.636Z"
   },
   {
    "duration": 3381,
    "start_time": "2022-02-28T18:37:33.553Z"
   },
   {
    "duration": 48,
    "start_time": "2022-02-28T18:37:57.562Z"
   },
   {
    "duration": 5502,
    "start_time": "2022-02-28T18:53:27.411Z"
   },
   {
    "duration": 6,
    "start_time": "2022-02-28T18:53:34.044Z"
   },
   {
    "duration": 25,
    "start_time": "2022-02-28T19:07:35.505Z"
   },
   {
    "duration": 81,
    "start_time": "2022-02-28T19:08:35.881Z"
   },
   {
    "duration": 51,
    "start_time": "2022-02-28T19:09:31.969Z"
   },
   {
    "duration": 57,
    "start_time": "2022-02-28T19:12:04.344Z"
   },
   {
    "duration": 21,
    "start_time": "2022-02-28T19:13:04.739Z"
   },
   {
    "duration": 27,
    "start_time": "2022-02-28T19:19:12.015Z"
   },
   {
    "duration": 23,
    "start_time": "2022-02-28T19:19:19.289Z"
   },
   {
    "duration": 31,
    "start_time": "2022-02-28T19:19:25.110Z"
   },
   {
    "duration": 26,
    "start_time": "2022-02-28T19:19:28.980Z"
   },
   {
    "duration": 25,
    "start_time": "2022-02-28T19:19:34.831Z"
   },
   {
    "duration": 27,
    "start_time": "2022-02-28T19:19:41.200Z"
   },
   {
    "duration": 69,
    "start_time": "2022-02-28T19:20:43.435Z"
   },
   {
    "duration": 44,
    "start_time": "2022-02-28T19:29:09.014Z"
   },
   {
    "duration": 13,
    "start_time": "2022-02-28T19:31:34.302Z"
   },
   {
    "duration": 42,
    "start_time": "2022-02-28T19:31:39.562Z"
   },
   {
    "duration": 4,
    "start_time": "2022-02-28T19:35:13.141Z"
   },
   {
    "duration": 16,
    "start_time": "2022-02-28T19:35:57.581Z"
   },
   {
    "duration": 52,
    "start_time": "2022-02-28T19:37:59.357Z"
   },
   {
    "duration": 38,
    "start_time": "2022-02-28T19:38:05.026Z"
   },
   {
    "duration": 52,
    "start_time": "2022-02-28T19:38:11.937Z"
   },
   {
    "duration": 12329,
    "start_time": "2022-02-28T19:40:05.273Z"
   },
   {
    "duration": 125,
    "start_time": "2022-02-28T19:40:29.732Z"
   },
   {
    "duration": 125,
    "start_time": "2022-02-28T19:41:24.927Z"
   },
   {
    "duration": 115,
    "start_time": "2022-02-28T19:42:17.308Z"
   },
   {
    "duration": 7,
    "start_time": "2022-02-28T19:43:09.801Z"
   },
   {
    "duration": 7,
    "start_time": "2022-02-28T19:47:52.911Z"
   },
   {
    "duration": 118,
    "start_time": "2022-02-28T19:50:03.953Z"
   },
   {
    "duration": 76,
    "start_time": "2022-03-01T19:36:53.065Z"
   },
   {
    "duration": 224,
    "start_time": "2022-03-01T19:48:37.384Z"
   },
   {
    "duration": 1025,
    "start_time": "2022-03-01T19:48:42.481Z"
   },
   {
    "duration": 50,
    "start_time": "2022-03-01T19:48:43.967Z"
   },
   {
    "duration": 9,
    "start_time": "2022-03-01T19:48:45.810Z"
   },
   {
    "duration": 5,
    "start_time": "2022-03-01T19:48:49.838Z"
   },
   {
    "duration": 10,
    "start_time": "2022-03-01T19:48:53.106Z"
   },
   {
    "duration": 237,
    "start_time": "2022-03-01T19:51:09.567Z"
   },
   {
    "duration": 4,
    "start_time": "2022-03-01T19:51:36.118Z"
   },
   {
    "duration": 22,
    "start_time": "2022-03-01T19:51:40.035Z"
   },
   {
    "duration": 10,
    "start_time": "2022-03-01T19:52:23.310Z"
   },
   {
    "duration": 10,
    "start_time": "2022-03-01T19:52:29.693Z"
   },
   {
    "duration": 20,
    "start_time": "2022-03-01T19:52:34.192Z"
   },
   {
    "duration": 21,
    "start_time": "2022-03-01T19:55:47.141Z"
   },
   {
    "duration": 44,
    "start_time": "2022-03-01T19:56:06.104Z"
   },
   {
    "duration": 10,
    "start_time": "2022-03-01T19:56:14.292Z"
   },
   {
    "duration": 7,
    "start_time": "2022-03-01T19:58:38.031Z"
   },
   {
    "duration": 6,
    "start_time": "2022-03-01T19:58:38.835Z"
   },
   {
    "duration": 26,
    "start_time": "2022-03-01T19:58:39.939Z"
   },
   {
    "duration": 11,
    "start_time": "2022-03-01T20:00:11.876Z"
   },
   {
    "duration": 4,
    "start_time": "2022-03-01T20:00:12.844Z"
   },
   {
    "duration": 27,
    "start_time": "2022-03-01T20:06:38.438Z"
   },
   {
    "duration": 202,
    "start_time": "2022-03-01T20:17:48.358Z"
   },
   {
    "duration": 6,
    "start_time": "2022-03-01T20:17:55.755Z"
   },
   {
    "duration": 80,
    "start_time": "2022-03-01T20:17:57.262Z"
   },
   {
    "duration": 22,
    "start_time": "2022-03-01T20:17:58.814Z"
   },
   {
    "duration": 13336,
    "start_time": "2022-03-01T20:19:00.332Z"
   },
   {
    "duration": 267,
    "start_time": "2022-03-01T20:20:30.916Z"
   },
   {
    "duration": 13644,
    "start_time": "2022-03-01T20:20:55.514Z"
   },
   {
    "duration": 13470,
    "start_time": "2022-03-01T20:21:16.553Z"
   },
   {
    "duration": 137,
    "start_time": "2022-03-01T20:21:46.682Z"
   },
   {
    "duration": 81,
    "start_time": "2022-03-01T20:22:06.730Z"
   },
   {
    "duration": 183,
    "start_time": "2022-03-01T20:26:05.072Z"
   },
   {
    "duration": 3,
    "start_time": "2022-03-01T20:26:44.343Z"
   },
   {
    "duration": 13406,
    "start_time": "2022-03-01T20:26:48.843Z"
   },
   {
    "duration": 13515,
    "start_time": "2022-03-01T20:27:28.112Z"
   },
   {
    "duration": 13837,
    "start_time": "2022-03-01T20:29:28.891Z"
   },
   {
    "duration": 13330,
    "start_time": "2022-03-01T20:29:59.377Z"
   },
   {
    "duration": 72,
    "start_time": "2022-03-01T20:30:44.626Z"
   },
   {
    "duration": 77,
    "start_time": "2022-03-01T20:31:06.721Z"
   },
   {
    "duration": 86,
    "start_time": "2022-03-01T20:32:19.420Z"
   },
   {
    "duration": 125,
    "start_time": "2022-03-01T20:32:21.715Z"
   },
   {
    "duration": 126,
    "start_time": "2022-03-01T20:33:26.677Z"
   },
   {
    "duration": 7,
    "start_time": "2022-03-01T20:33:27.914Z"
   },
   {
    "duration": 77,
    "start_time": "2022-03-01T20:34:38.230Z"
   },
   {
    "duration": 22,
    "start_time": "2022-03-01T20:34:40.524Z"
   },
   {
    "duration": 26,
    "start_time": "2022-03-01T20:42:21.239Z"
   },
   {
    "duration": 80,
    "start_time": "2022-03-01T20:43:11.841Z"
   },
   {
    "duration": 20,
    "start_time": "2022-03-01T20:43:16.004Z"
   },
   {
    "duration": 13199,
    "start_time": "2022-03-01T20:43:23.541Z"
   },
   {
    "duration": 126,
    "start_time": "2022-03-01T20:43:45.975Z"
   },
   {
    "duration": 87,
    "start_time": "2022-03-01T20:44:04.470Z"
   },
   {
    "duration": 124,
    "start_time": "2022-03-01T20:44:08.137Z"
   },
   {
    "duration": 26,
    "start_time": "2022-03-01T20:44:26.680Z"
   },
   {
    "duration": 25,
    "start_time": "2022-03-01T20:47:43.474Z"
   },
   {
    "duration": 4,
    "start_time": "2022-03-01T20:53:05.618Z"
   },
   {
    "duration": 46,
    "start_time": "2022-03-01T20:53:05.624Z"
   },
   {
    "duration": 10,
    "start_time": "2022-03-01T20:53:05.672Z"
   },
   {
    "duration": 4,
    "start_time": "2022-03-01T20:53:05.684Z"
   },
   {
    "duration": 10,
    "start_time": "2022-03-01T20:53:05.690Z"
   },
   {
    "duration": 10,
    "start_time": "2022-03-01T20:53:05.702Z"
   },
   {
    "duration": 5,
    "start_time": "2022-03-01T20:53:05.714Z"
   },
   {
    "duration": 6,
    "start_time": "2022-03-01T20:53:05.760Z"
   },
   {
    "duration": 25,
    "start_time": "2022-03-01T20:53:05.768Z"
   },
   {
    "duration": 11,
    "start_time": "2022-03-01T20:53:05.795Z"
   },
   {
    "duration": 6,
    "start_time": "2022-03-01T20:53:05.807Z"
   },
   {
    "duration": 57,
    "start_time": "2022-03-01T20:53:05.814Z"
   },
   {
    "duration": 5,
    "start_time": "2022-03-01T20:53:05.873Z"
   },
   {
    "duration": 94,
    "start_time": "2022-03-01T20:53:05.880Z"
   },
   {
    "duration": 24,
    "start_time": "2022-03-01T20:53:05.976Z"
   },
   {
    "duration": 13358,
    "start_time": "2022-03-01T20:53:06.002Z"
   },
   {
    "duration": 132,
    "start_time": "2022-03-01T20:53:19.362Z"
   },
   {
    "duration": 93,
    "start_time": "2022-03-01T20:53:19.495Z"
   },
   {
    "duration": 135,
    "start_time": "2022-03-01T20:53:19.590Z"
   },
   {
    "duration": 69,
    "start_time": "2022-03-01T20:53:19.727Z"
   },
   {
    "duration": 23,
    "start_time": "2022-03-01T20:53:19.797Z"
   },
   {
    "duration": 139,
    "start_time": "2022-03-01T20:53:19.822Z"
   },
   {
    "duration": 6,
    "start_time": "2022-03-01T20:53:19.963Z"
   },
   {
    "duration": 48,
    "start_time": "2022-03-01T20:56:42.465Z"
   },
   {
    "duration": 74,
    "start_time": "2022-03-01T20:56:46.628Z"
   },
   {
    "duration": 44,
    "start_time": "2022-03-01T20:56:53.670Z"
   },
   {
    "duration": 41,
    "start_time": "2022-03-01T20:56:57.652Z"
   },
   {
    "duration": 46,
    "start_time": "2022-03-01T20:57:02.197Z"
   },
   {
    "duration": 47,
    "start_time": "2022-03-01T20:57:08.745Z"
   },
   {
    "duration": 133,
    "start_time": "2022-03-01T20:57:12.502Z"
   },
   {
    "duration": 46,
    "start_time": "2022-03-01T20:57:14.347Z"
   },
   {
    "duration": 28,
    "start_time": "2022-03-01T20:58:19.960Z"
   },
   {
    "duration": 29,
    "start_time": "2022-03-01T20:58:25.922Z"
   },
   {
    "duration": 26,
    "start_time": "2022-03-01T20:58:29.319Z"
   },
   {
    "duration": 26,
    "start_time": "2022-03-01T20:58:33.841Z"
   },
   {
    "duration": 48,
    "start_time": "2022-03-01T20:58:40.570Z"
   },
   {
    "duration": 33,
    "start_time": "2022-03-01T20:58:46.285Z"
   },
   {
    "duration": 26,
    "start_time": "2022-03-01T20:58:49.615Z"
   },
   {
    "duration": 87,
    "start_time": "2022-03-01T21:00:35.031Z"
   },
   {
    "duration": 127,
    "start_time": "2022-03-01T21:00:42.568Z"
   },
   {
    "duration": 131,
    "start_time": "2022-03-01T21:00:57.666Z"
   },
   {
    "duration": 141,
    "start_time": "2022-03-01T21:01:24.397Z"
   },
   {
    "duration": 131,
    "start_time": "2022-03-01T21:01:54.773Z"
   },
   {
    "duration": 141,
    "start_time": "2022-03-01T21:02:04.404Z"
   },
   {
    "duration": 54,
    "start_time": "2022-03-01T21:02:59.981Z"
   },
   {
    "duration": 32,
    "start_time": "2022-03-01T21:03:27.520Z"
   },
   {
    "duration": 124,
    "start_time": "2022-03-01T21:03:59.741Z"
   },
   {
    "duration": 7,
    "start_time": "2022-03-01T21:04:01.090Z"
   },
   {
    "duration": 175,
    "start_time": "2022-03-01T21:08:55.513Z"
   },
   {
    "duration": 190,
    "start_time": "2022-03-01T21:09:05.369Z"
   },
   {
    "duration": 516,
    "start_time": "2022-03-01T21:10:19.889Z"
   },
   {
    "duration": 200,
    "start_time": "2022-03-01T21:11:53.333Z"
   },
   {
    "duration": 182,
    "start_time": "2022-03-01T21:12:14.025Z"
   },
   {
    "duration": 207,
    "start_time": "2022-03-01T21:12:39.596Z"
   },
   {
    "duration": 208,
    "start_time": "2022-03-01T21:14:13.671Z"
   },
   {
    "duration": 123,
    "start_time": "2022-03-01T21:16:44.927Z"
   },
   {
    "duration": 7,
    "start_time": "2022-03-01T21:16:45.580Z"
   },
   {
    "duration": 174,
    "start_time": "2022-03-01T21:19:47.725Z"
   },
   {
    "duration": 196,
    "start_time": "2022-03-01T21:20:26.742Z"
   },
   {
    "duration": 214,
    "start_time": "2022-03-01T21:21:34.917Z"
   },
   {
    "duration": 1310,
    "start_time": "2022-03-01T21:41:04.756Z"
   },
   {
    "duration": 68,
    "start_time": "2022-03-01T21:41:06.069Z"
   },
   {
    "duration": 16,
    "start_time": "2022-03-01T21:41:06.140Z"
   },
   {
    "duration": 5,
    "start_time": "2022-03-01T21:41:06.159Z"
   },
   {
    "duration": 13,
    "start_time": "2022-03-01T21:41:06.166Z"
   },
   {
    "duration": 14,
    "start_time": "2022-03-01T21:41:06.182Z"
   },
   {
    "duration": 8,
    "start_time": "2022-03-01T21:41:06.198Z"
   },
   {
    "duration": 47,
    "start_time": "2022-03-01T21:41:06.209Z"
   },
   {
    "duration": 36,
    "start_time": "2022-03-01T21:41:06.259Z"
   },
   {
    "duration": 14,
    "start_time": "2022-03-01T21:41:06.297Z"
   },
   {
    "duration": 4,
    "start_time": "2022-03-01T21:41:06.314Z"
   },
   {
    "duration": 37,
    "start_time": "2022-03-01T21:41:06.351Z"
   },
   {
    "duration": 7,
    "start_time": "2022-03-01T21:41:06.390Z"
   },
   {
    "duration": 134,
    "start_time": "2022-03-01T21:41:06.400Z"
   },
   {
    "duration": 34,
    "start_time": "2022-03-01T21:41:06.536Z"
   },
   {
    "duration": 18358,
    "start_time": "2022-03-01T21:41:15.057Z"
   },
   {
    "duration": 18041,
    "start_time": "2022-03-01T21:42:53.759Z"
   }
  ],
  "kernelspec": {
   "display_name": "Python 3 (ipykernel)",
   "language": "python",
   "name": "python3"
  },
  "language_info": {
   "codemirror_mode": {
    "name": "ipython",
    "version": 3
   },
   "file_extension": ".py",
   "mimetype": "text/x-python",
   "name": "python",
   "nbconvert_exporter": "python",
   "pygments_lexer": "ipython3",
   "version": "3.9.7"
  },
  "toc": {
   "base_numbering": 1,
   "nav_menu": {},
   "number_sections": true,
   "sideBar": true,
   "skip_h1_title": true,
   "title_cell": "Содержание",
   "title_sidebar": "Contents",
   "toc_cell": true,
   "toc_position": {},
   "toc_section_display": true,
   "toc_window_display": true
  }
 },
 "nbformat": 4,
 "nbformat_minor": 2
}
